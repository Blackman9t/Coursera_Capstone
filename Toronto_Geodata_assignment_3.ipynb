{
  "nbformat": 4,
  "nbformat_minor": 0,
  "metadata": {
    "kernelspec": {
      "name": "python3",
      "display_name": "Python 3"
    },
    "language_info": {
      "codemirror_mode": {
        "name": "ipython",
        "version": 3
      },
      "file_extension": ".py",
      "mimetype": "text/x-python",
      "name": "python",
      "nbconvert_exporter": "python",
      "pygments_lexer": "ipython3",
      "version": "3.5.5"
    },
    "colab": {
      "name": "Toronto_Geodata_assignment_3.ipynb",
      "version": "0.3.2",
      "provenance": [],
      "collapsed_sections": [],
      "include_colab_link": true
    },
    "accelerator": "GPU"
  },
  "cells": [
    {
      "cell_type": "markdown",
      "metadata": {
        "id": "view-in-github",
        "colab_type": "text"
      },
      "source": [
        "<a href=\"https://colab.research.google.com/github/Blackman9t/Coursera_Capstone/blob/master/Toronto_Geodata_assignment_3.ipynb\" target=\"_parent\"><img src=\"https://colab.research.google.com/assets/colab-badge.svg\" alt=\"Open In Colab\"/></a>"
      ]
    },
    {
      "cell_type": "markdown",
      "metadata": {
        "collapsed": true,
        "id": "vbLdUoFvCB5X",
        "colab_type": "text"
      },
      "source": [
        "### First Let's import required libraries"
      ]
    },
    {
      "cell_type": "code",
      "metadata": {
        "id": "guPROoJQCB5b",
        "colab_type": "code",
        "outputId": "361d882d-cfe9-419b-f6fd-aac56f59e625",
        "colab": {
          "base_uri": "https://localhost:8080/",
          "height": 218
        }
      },
      "source": [
        "from bs4 import BeautifulSoup\n",
        "import requests\n",
        "import pandas as pd\n",
        "import json\n",
        "from pandas.io.json import json_normalize  # transform json files to pandas dataframes\n",
        "from geopy.geocoders import Nominatim # \n",
        "import numpy as np\n",
        "import csv\n",
        "!pip install folium\n",
        "import folium\n",
        "import matplotlib.cm as cm\n",
        "import matplotlib.colors as colors\n",
        "\n",
        "print('All modules imported')"
      ],
      "execution_count": 2,
      "outputs": [
        {
          "output_type": "stream",
          "text": [
            "Requirement already satisfied: folium in /usr/local/lib/python3.6/dist-packages (0.8.3)\n",
            "Requirement already satisfied: branca>=0.3.0 in /usr/local/lib/python3.6/dist-packages (from folium) (0.3.1)\n",
            "Requirement already satisfied: six in /usr/local/lib/python3.6/dist-packages (from folium) (1.12.0)\n",
            "Requirement already satisfied: jinja2 in /usr/local/lib/python3.6/dist-packages (from folium) (2.10.1)\n",
            "Requirement already satisfied: numpy in /usr/local/lib/python3.6/dist-packages (from folium) (1.16.4)\n",
            "Requirement already satisfied: requests in /usr/local/lib/python3.6/dist-packages (from folium) (2.21.0)\n",
            "Requirement already satisfied: MarkupSafe>=0.23 in /usr/local/lib/python3.6/dist-packages (from jinja2->folium) (1.1.1)\n",
            "Requirement already satisfied: chardet<3.1.0,>=3.0.2 in /usr/local/lib/python3.6/dist-packages (from requests->folium) (3.0.4)\n",
            "Requirement already satisfied: idna<2.9,>=2.5 in /usr/local/lib/python3.6/dist-packages (from requests->folium) (2.8)\n",
            "Requirement already satisfied: certifi>=2017.4.17 in /usr/local/lib/python3.6/dist-packages (from requests->folium) (2019.6.16)\n",
            "Requirement already satisfied: urllib3<1.25,>=1.21.1 in /usr/local/lib/python3.6/dist-packages (from requests->folium) (1.24.3)\n",
            "All modules imported\n"
          ],
          "name": "stdout"
        }
      ]
    },
    {
      "cell_type": "markdown",
      "metadata": {
        "id": "uvRcajP9CB5h",
        "colab_type": "text"
      },
      "source": [
        "## Let's start scraping the wikipedia page"
      ]
    },
    {
      "cell_type": "code",
      "metadata": {
        "id": "QM3r5ArXCB5i",
        "colab_type": "code",
        "colab": {}
      },
      "source": [
        "# The wikipedia site link\n",
        "site_link = 'https://en.wikipedia.org/wiki/List_of_postal_codes_of_Canada:_M'"
      ],
      "execution_count": 0,
      "outputs": []
    },
    {
      "cell_type": "markdown",
      "metadata": {
        "id": "asmA4zzcCB5k",
        "colab_type": "text"
      },
      "source": [
        "Get the source code html data from the website"
      ]
    },
    {
      "cell_type": "code",
      "metadata": {
        "id": "SIJ0G8L3CB5l",
        "colab_type": "code",
        "colab": {}
      },
      "source": [
        "source = requests.get(site_link).text"
      ],
      "execution_count": 0,
      "outputs": []
    },
    {
      "cell_type": "markdown",
      "metadata": {
        "id": "b_SJGwMACB5o",
        "colab_type": "text"
      },
      "source": [
        "Lets Use BeautifulSoup to parse it"
      ]
    },
    {
      "cell_type": "code",
      "metadata": {
        "id": "yfThDpugCB5p",
        "colab_type": "code",
        "colab": {}
      },
      "source": [
        "soup = BeautifulSoup(source, 'lxml')\n",
        "\n",
        "#print(soup.prettify())"
      ],
      "execution_count": 0,
      "outputs": []
    },
    {
      "cell_type": "markdown",
      "metadata": {
        "id": "BPnga8XTCB5r",
        "colab_type": "text"
      },
      "source": [
        "Next let's get the table that contains the data we want to scrape"
      ]
    },
    {
      "cell_type": "code",
      "metadata": {
        "id": "M73TqlnXCB5s",
        "colab_type": "code",
        "colab": {}
      },
      "source": [
        "My_table = soup.find('table',{'class':'wikitable sortable'})"
      ],
      "execution_count": 0,
      "outputs": []
    },
    {
      "cell_type": "markdown",
      "metadata": {
        "id": "aWdMGaPlCB5v",
        "colab_type": "text"
      },
      "source": [
        "Let's view the table data"
      ]
    },
    {
      "cell_type": "code",
      "metadata": {
        "id": "zHG-MAydCB5w",
        "colab_type": "code",
        "colab": {}
      },
      "source": [
        "# Uncomment below to view table\n",
        "# My_table"
      ],
      "execution_count": 0,
      "outputs": []
    },
    {
      "cell_type": "markdown",
      "metadata": {
        "id": "fw6gpOvBCB5y",
        "colab_type": "text"
      },
      "source": [
        "we can see that all the data we want are between the $<td>$ brackets, let's get the data between the td brackets"
      ]
    },
    {
      "cell_type": "code",
      "metadata": {
        "id": "z2b8-kwGCB5z",
        "colab_type": "code",
        "colab": {}
      },
      "source": [
        "links = My_table.find_all('td')"
      ],
      "execution_count": 0,
      "outputs": []
    },
    {
      "cell_type": "code",
      "metadata": {
        "id": "VSCLKWC1CB52",
        "colab_type": "code",
        "colab": {}
      },
      "source": [
        "# uncomment below to view links\n",
        "# print(links)"
      ],
      "execution_count": 0,
      "outputs": []
    },
    {
      "cell_type": "markdown",
      "metadata": {
        "id": "iDDEohmgCB55",
        "colab_type": "text"
      },
      "source": [
        "Next let's loop through links and extract only the text elements"
      ]
    },
    {
      "cell_type": "code",
      "metadata": {
        "id": "YKrDGnwMCB56",
        "colab_type": "code",
        "colab": {}
      },
      "source": [
        "text_links = []\n",
        "\n",
        "for link in links:\n",
        "    text_links.append(link.text)\n",
        "    \n",
        "# uncommnet below to view text_links    \n",
        "#text_links"
      ],
      "execution_count": 0,
      "outputs": []
    },
    {
      "cell_type": "markdown",
      "metadata": {
        "id": "LMtlqc4uCB58",
        "colab_type": "text"
      },
      "source": [
        "### let's clean and process the table elements"
      ]
    },
    {
      "cell_type": "markdown",
      "metadata": {
        "id": "bnoL2--FCB59",
        "colab_type": "text"
      },
      "source": [
        "Let's clean the links and keep only rows with Borough. Out of which we shall rename rows without Neighborhood as Boroughs"
      ]
    },
    {
      "cell_type": "code",
      "metadata": {
        "scrolled": true,
        "id": "P7TptZhECB5-",
        "colab_type": "code",
        "colab": {}
      },
      "source": [
        "cleaned_links = []\n",
        "\n",
        "while True:\n",
        "    \n",
        "    if len(text_links) < 3:\n",
        "        break\n",
        "    \n",
        "    sub = text_links[:3]\n",
        "    # If 'Not ' in borough then skip that row of data\n",
        "    if 'Not ' in sub[1]:\n",
        "        text_links = text_links[3:]\n",
        "    else:\n",
        "        cleaned_links.append(text_links[:3])\n",
        "        \n",
        "        # Let's strip off the \\n at the end of each neighborhood data\n",
        "        cleaned_links[-1][-1] = cleaned_links[-1][-1].strip('\\n')\n",
        "        \n",
        "        # If the Borough is available but the Neighborhood is missing\n",
        "        # make Neighborhood same as Borough\n",
        "        if 'Not ' in cleaned_links[-1][-1]:\n",
        "            cleaned_links[-1][-1] = cleaned_links[-1][-2]\n",
        "        text_links = text_links[3:]\n",
        "# Uncomment below to view cleaned_links       \n",
        "#cleaned_links"
      ],
      "execution_count": 0,
      "outputs": []
    },
    {
      "cell_type": "markdown",
      "metadata": {
        "id": "Nm3oDoR5CB6B",
        "colab_type": "text"
      },
      "source": [
        "lets check the length of the cleaned links"
      ]
    },
    {
      "cell_type": "code",
      "metadata": {
        "id": "ll1BMMYvCB6B",
        "colab_type": "code",
        "outputId": "2f968333-5cf5-4da3-eae0-ac9fc46fb1b1",
        "colab": {
          "base_uri": "https://localhost:8080/",
          "height": 34
        }
      },
      "source": [
        "len(cleaned_links)"
      ],
      "execution_count": 12,
      "outputs": [
        {
          "output_type": "execute_result",
          "data": {
            "text/plain": [
              "211"
            ]
          },
          "metadata": {
            "tags": []
          },
          "execution_count": 12
        }
      ]
    },
    {
      "cell_type": "markdown",
      "metadata": {
        "id": "MzFb0m5QCB6F",
        "colab_type": "text"
      },
      "source": [
        "Next let's add the neighborhood data of each duplicate Postal Codes together to the first instance or row that contains the PostalCode"
      ]
    },
    {
      "cell_type": "code",
      "metadata": {
        "scrolled": true,
        "id": "P3dk-xb8CB6F",
        "colab_type": "code",
        "colab": {}
      },
      "source": [
        "link = []\n",
        "for i in range(len(cleaned_links)):\n",
        "    x = cleaned_links[i][0]\n",
        "    if x in link:\n",
        "        cleaned_links[link.index(x)][-1] += ', ' + cleaned_links[i][-1]\n",
        "    link.append(x)\n",
        "    \n",
        "# uncomment below\n",
        "#cleaned_links"
      ],
      "execution_count": 0,
      "outputs": []
    },
    {
      "cell_type": "markdown",
      "metadata": {
        "id": "pEK6eseYCB6I",
        "colab_type": "text"
      },
      "source": [
        "Next let's pass the cleaned _links to a data frame and set index to postal code so that we can easily work on it"
      ]
    },
    {
      "cell_type": "code",
      "metadata": {
        "id": "clcY9GMsCB6I",
        "colab_type": "code",
        "colab": {}
      },
      "source": [
        "df = pd.DataFrame(cleaned_links, columns=['PostalCode','Borough','Neighborhood'])\n",
        "df.index= df.PostalCode"
      ],
      "execution_count": 0,
      "outputs": []
    },
    {
      "cell_type": "code",
      "metadata": {
        "scrolled": true,
        "id": "8528JopCCB6L",
        "colab_type": "code",
        "outputId": "6e01c3ed-6843-4489-e1ec-beea71b6e916",
        "colab": {
          "base_uri": "https://localhost:8080/",
          "height": 225
        }
      },
      "source": [
        "# Let's view the data frame\n",
        "df.head()"
      ],
      "execution_count": 15,
      "outputs": [
        {
          "output_type": "execute_result",
          "data": {
            "text/html": [
              "<div>\n",
              "<style scoped>\n",
              "    .dataframe tbody tr th:only-of-type {\n",
              "        vertical-align: middle;\n",
              "    }\n",
              "\n",
              "    .dataframe tbody tr th {\n",
              "        vertical-align: top;\n",
              "    }\n",
              "\n",
              "    .dataframe thead th {\n",
              "        text-align: right;\n",
              "    }\n",
              "</style>\n",
              "<table border=\"1\" class=\"dataframe\">\n",
              "  <thead>\n",
              "    <tr style=\"text-align: right;\">\n",
              "      <th></th>\n",
              "      <th>PostalCode</th>\n",
              "      <th>Borough</th>\n",
              "      <th>Neighborhood</th>\n",
              "    </tr>\n",
              "    <tr>\n",
              "      <th>PostalCode</th>\n",
              "      <th></th>\n",
              "      <th></th>\n",
              "      <th></th>\n",
              "    </tr>\n",
              "  </thead>\n",
              "  <tbody>\n",
              "    <tr>\n",
              "      <th>M3A</th>\n",
              "      <td>M3A</td>\n",
              "      <td>North York</td>\n",
              "      <td>Parkwoods</td>\n",
              "    </tr>\n",
              "    <tr>\n",
              "      <th>M4A</th>\n",
              "      <td>M4A</td>\n",
              "      <td>North York</td>\n",
              "      <td>Victoria Village</td>\n",
              "    </tr>\n",
              "    <tr>\n",
              "      <th>M5A</th>\n",
              "      <td>M5A</td>\n",
              "      <td>Downtown Toronto</td>\n",
              "      <td>Harbourfront, Regent Park</td>\n",
              "    </tr>\n",
              "    <tr>\n",
              "      <th>M5A</th>\n",
              "      <td>M5A</td>\n",
              "      <td>Downtown Toronto</td>\n",
              "      <td>Regent Park</td>\n",
              "    </tr>\n",
              "    <tr>\n",
              "      <th>M6A</th>\n",
              "      <td>M6A</td>\n",
              "      <td>North York</td>\n",
              "      <td>Lawrence Heights, Lawrence Manor</td>\n",
              "    </tr>\n",
              "  </tbody>\n",
              "</table>\n",
              "</div>"
            ],
            "text/plain": [
              "           PostalCode           Borough                      Neighborhood\n",
              "PostalCode                                                               \n",
              "M3A               M3A        North York                         Parkwoods\n",
              "M4A               M4A        North York                  Victoria Village\n",
              "M5A               M5A  Downtown Toronto         Harbourfront, Regent Park\n",
              "M5A               M5A  Downtown Toronto                       Regent Park\n",
              "M6A               M6A        North York  Lawrence Heights, Lawrence Manor"
            ]
          },
          "metadata": {
            "tags": []
          },
          "execution_count": 15
        }
      ]
    },
    {
      "cell_type": "markdown",
      "metadata": {
        "id": "KOR16npvCB6O",
        "colab_type": "text"
      },
      "source": [
        "Next let's Use the pandas duplicate method to drop duplicate index"
      ]
    },
    {
      "cell_type": "code",
      "metadata": {
        "id": "QAcwPVQcCB6P",
        "colab_type": "code",
        "colab": {}
      },
      "source": [
        "df = df.loc[~df.index.duplicated(keep='first')]"
      ],
      "execution_count": 0,
      "outputs": []
    },
    {
      "cell_type": "code",
      "metadata": {
        "id": "AxZZkpSRCB6X",
        "colab_type": "code",
        "outputId": "244519f6-5606-40df-de9a-513abc49d8d0",
        "colab": {
          "base_uri": "https://localhost:8080/",
          "height": 34
        }
      },
      "source": [
        "# Let's see the shape so far\n",
        "df.shape"
      ],
      "execution_count": 17,
      "outputs": [
        {
          "output_type": "execute_result",
          "data": {
            "text/plain": [
              "(103, 3)"
            ]
          },
          "metadata": {
            "tags": []
          },
          "execution_count": 17
        }
      ]
    },
    {
      "cell_type": "code",
      "metadata": {
        "scrolled": true,
        "id": "Ub85N_7CCB6b",
        "colab_type": "code",
        "outputId": "e0b625a7-7571-42aa-cb9d-7ffff7c82650",
        "colab": {
          "base_uri": "https://localhost:8080/",
          "height": 225
        }
      },
      "source": [
        "df.head()"
      ],
      "execution_count": 18,
      "outputs": [
        {
          "output_type": "execute_result",
          "data": {
            "text/html": [
              "<div>\n",
              "<style scoped>\n",
              "    .dataframe tbody tr th:only-of-type {\n",
              "        vertical-align: middle;\n",
              "    }\n",
              "\n",
              "    .dataframe tbody tr th {\n",
              "        vertical-align: top;\n",
              "    }\n",
              "\n",
              "    .dataframe thead th {\n",
              "        text-align: right;\n",
              "    }\n",
              "</style>\n",
              "<table border=\"1\" class=\"dataframe\">\n",
              "  <thead>\n",
              "    <tr style=\"text-align: right;\">\n",
              "      <th></th>\n",
              "      <th>PostalCode</th>\n",
              "      <th>Borough</th>\n",
              "      <th>Neighborhood</th>\n",
              "    </tr>\n",
              "    <tr>\n",
              "      <th>PostalCode</th>\n",
              "      <th></th>\n",
              "      <th></th>\n",
              "      <th></th>\n",
              "    </tr>\n",
              "  </thead>\n",
              "  <tbody>\n",
              "    <tr>\n",
              "      <th>M3A</th>\n",
              "      <td>M3A</td>\n",
              "      <td>North York</td>\n",
              "      <td>Parkwoods</td>\n",
              "    </tr>\n",
              "    <tr>\n",
              "      <th>M4A</th>\n",
              "      <td>M4A</td>\n",
              "      <td>North York</td>\n",
              "      <td>Victoria Village</td>\n",
              "    </tr>\n",
              "    <tr>\n",
              "      <th>M5A</th>\n",
              "      <td>M5A</td>\n",
              "      <td>Downtown Toronto</td>\n",
              "      <td>Harbourfront, Regent Park</td>\n",
              "    </tr>\n",
              "    <tr>\n",
              "      <th>M6A</th>\n",
              "      <td>M6A</td>\n",
              "      <td>North York</td>\n",
              "      <td>Lawrence Heights, Lawrence Manor</td>\n",
              "    </tr>\n",
              "    <tr>\n",
              "      <th>M7A</th>\n",
              "      <td>M7A</td>\n",
              "      <td>Queen's Park</td>\n",
              "      <td>Queen's Park</td>\n",
              "    </tr>\n",
              "  </tbody>\n",
              "</table>\n",
              "</div>"
            ],
            "text/plain": [
              "           PostalCode           Borough                      Neighborhood\n",
              "PostalCode                                                               \n",
              "M3A               M3A        North York                         Parkwoods\n",
              "M4A               M4A        North York                  Victoria Village\n",
              "M5A               M5A  Downtown Toronto         Harbourfront, Regent Park\n",
              "M6A               M6A        North York  Lawrence Heights, Lawrence Manor\n",
              "M7A               M7A      Queen's Park                      Queen's Park"
            ]
          },
          "metadata": {
            "tags": []
          },
          "execution_count": 18
        }
      ]
    },
    {
      "cell_type": "markdown",
      "metadata": {
        "id": "gcwzkOH0CB6e",
        "colab_type": "text"
      },
      "source": [
        "Next let's reset the index back and drop the current index"
      ]
    },
    {
      "cell_type": "code",
      "metadata": {
        "scrolled": true,
        "id": "nZxSjONyCB6f",
        "colab_type": "code",
        "outputId": "46f60d9e-094d-4119-aff5-f17174a7d615",
        "colab": {
          "base_uri": "https://localhost:8080/",
          "height": 373
        }
      },
      "source": [
        "df.reset_index(drop=True, inplace=True)\n",
        "\n",
        "# Let's see the first few rows\n",
        "df.head(11)"
      ],
      "execution_count": 19,
      "outputs": [
        {
          "output_type": "execute_result",
          "data": {
            "text/html": [
              "<div>\n",
              "<style scoped>\n",
              "    .dataframe tbody tr th:only-of-type {\n",
              "        vertical-align: middle;\n",
              "    }\n",
              "\n",
              "    .dataframe tbody tr th {\n",
              "        vertical-align: top;\n",
              "    }\n",
              "\n",
              "    .dataframe thead th {\n",
              "        text-align: right;\n",
              "    }\n",
              "</style>\n",
              "<table border=\"1\" class=\"dataframe\">\n",
              "  <thead>\n",
              "    <tr style=\"text-align: right;\">\n",
              "      <th></th>\n",
              "      <th>PostalCode</th>\n",
              "      <th>Borough</th>\n",
              "      <th>Neighborhood</th>\n",
              "    </tr>\n",
              "  </thead>\n",
              "  <tbody>\n",
              "    <tr>\n",
              "      <th>0</th>\n",
              "      <td>M3A</td>\n",
              "      <td>North York</td>\n",
              "      <td>Parkwoods</td>\n",
              "    </tr>\n",
              "    <tr>\n",
              "      <th>1</th>\n",
              "      <td>M4A</td>\n",
              "      <td>North York</td>\n",
              "      <td>Victoria Village</td>\n",
              "    </tr>\n",
              "    <tr>\n",
              "      <th>2</th>\n",
              "      <td>M5A</td>\n",
              "      <td>Downtown Toronto</td>\n",
              "      <td>Harbourfront, Regent Park</td>\n",
              "    </tr>\n",
              "    <tr>\n",
              "      <th>3</th>\n",
              "      <td>M6A</td>\n",
              "      <td>North York</td>\n",
              "      <td>Lawrence Heights, Lawrence Manor</td>\n",
              "    </tr>\n",
              "    <tr>\n",
              "      <th>4</th>\n",
              "      <td>M7A</td>\n",
              "      <td>Queen's Park</td>\n",
              "      <td>Queen's Park</td>\n",
              "    </tr>\n",
              "    <tr>\n",
              "      <th>5</th>\n",
              "      <td>M9A</td>\n",
              "      <td>Etobicoke</td>\n",
              "      <td>Islington Avenue</td>\n",
              "    </tr>\n",
              "    <tr>\n",
              "      <th>6</th>\n",
              "      <td>M1B</td>\n",
              "      <td>Scarborough</td>\n",
              "      <td>Rouge, Malvern</td>\n",
              "    </tr>\n",
              "    <tr>\n",
              "      <th>7</th>\n",
              "      <td>M3B</td>\n",
              "      <td>North York</td>\n",
              "      <td>Don Mills North</td>\n",
              "    </tr>\n",
              "    <tr>\n",
              "      <th>8</th>\n",
              "      <td>M4B</td>\n",
              "      <td>East York</td>\n",
              "      <td>Woodbine Gardens, Parkview Hill</td>\n",
              "    </tr>\n",
              "    <tr>\n",
              "      <th>9</th>\n",
              "      <td>M5B</td>\n",
              "      <td>Downtown Toronto</td>\n",
              "      <td>Ryerson, Garden District</td>\n",
              "    </tr>\n",
              "    <tr>\n",
              "      <th>10</th>\n",
              "      <td>M6B</td>\n",
              "      <td>North York</td>\n",
              "      <td>Glencairn</td>\n",
              "    </tr>\n",
              "  </tbody>\n",
              "</table>\n",
              "</div>"
            ],
            "text/plain": [
              "   PostalCode           Borough                      Neighborhood\n",
              "0         M3A        North York                         Parkwoods\n",
              "1         M4A        North York                  Victoria Village\n",
              "2         M5A  Downtown Toronto         Harbourfront, Regent Park\n",
              "3         M6A        North York  Lawrence Heights, Lawrence Manor\n",
              "4         M7A      Queen's Park                      Queen's Park\n",
              "5         M9A         Etobicoke                  Islington Avenue\n",
              "6         M1B       Scarborough                    Rouge, Malvern\n",
              "7         M3B        North York                   Don Mills North\n",
              "8         M4B         East York   Woodbine Gardens, Parkview Hill\n",
              "9         M5B  Downtown Toronto          Ryerson, Garden District\n",
              "10        M6B        North York                         Glencairn"
            ]
          },
          "metadata": {
            "tags": []
          },
          "execution_count": 19
        }
      ]
    },
    {
      "cell_type": "code",
      "metadata": {
        "id": "5xS0FX2ACB6i",
        "colab_type": "code",
        "outputId": "4bc65e3b-661c-4c68-c5b9-1753dd6939d6",
        "colab": {
          "base_uri": "https://localhost:8080/",
          "height": 34
        }
      },
      "source": [
        "df.shape"
      ],
      "execution_count": 20,
      "outputs": [
        {
          "output_type": "execute_result",
          "data": {
            "text/plain": [
              "(103, 3)"
            ]
          },
          "metadata": {
            "tags": []
          },
          "execution_count": 20
        }
      ]
    },
    {
      "cell_type": "markdown",
      "metadata": {
        "id": "bxJeZE1YCB6l",
        "colab_type": "text"
      },
      "source": [
        "### Appending the Latitude and Longitude data "
      ]
    },
    {
      "cell_type": "markdown",
      "metadata": {
        "id": "SottQo6ECB6m",
        "colab_type": "text"
      },
      "source": [
        "Let's define a simple method that we can apply to each Borough to get its Latitude and Longitude using the apply() method"
      ]
    },
    {
      "cell_type": "code",
      "metadata": {
        "id": "lgzibcHGCB6n",
        "colab_type": "code",
        "colab": {}
      },
      "source": [
        "def latitude_longitude(Borough):\n",
        "    \"\"\" Method takes a Series object and returns\n",
        "    a list of Latitude and corresponding Longitude data,\n",
        "    using the geopy library.\n",
        "    This method also prints out the coordinate data\"\"\"\n",
        "    \n",
        "    address = Borough\n",
        "    \n",
        "    geolocator = Nominatim(user_agent=\"CA_explorer\")\n",
        "    location = geolocator.geocode(address)\n",
        "    latitude = location.latitude\n",
        "    longitude = location.longitude\n",
        "    print('The geograpical coordinate of {} are {}, {}.'.format(address, latitude, longitude))\n",
        "    return [latitude, longitude]\n"
      ],
      "execution_count": 0,
      "outputs": []
    },
    {
      "cell_type": "markdown",
      "metadata": {
        "scrolled": true,
        "id": "DgFgNX4BCB6p",
        "colab_type": "text"
      },
      "source": [
        "Let's append the list containing corresponding lat and lon data to column Latitude"
      ]
    },
    {
      "cell_type": "code",
      "metadata": {
        "scrolled": true,
        "id": "ADhJ96jiCB6p",
        "colab_type": "code",
        "outputId": "73bd1597-ec56-46f3-a060-44b1f1b73af5",
        "colab": {
          "base_uri": "https://localhost:8080/",
          "height": 1000
        }
      },
      "source": [
        "df['Latitude'] = df.Borough.apply(latitude_longitude)"
      ],
      "execution_count": 22,
      "outputs": [
        {
          "output_type": "stream",
          "text": [
            "The geograpical coordinate of North York are 43.7708175, -79.4132998.\n",
            "The geograpical coordinate of North York are 43.7708175, -79.4132998.\n",
            "The geograpical coordinate of Downtown Toronto are 43.6541737, -79.3808116451341.\n",
            "The geograpical coordinate of North York are 43.7708175, -79.4132998.\n",
            "The geograpical coordinate of Queen's Park are 43.6599803, -79.3903686.\n",
            "The geograpical coordinate of Etobicoke are 43.67145915, -79.5524920661167.\n",
            "The geograpical coordinate of Scarborough are 54.2847601, -0.4090339.\n",
            "The geograpical coordinate of North York are 43.7708175, -79.4132998.\n",
            "The geograpical coordinate of East York are 43.6913391, -79.3278212.\n",
            "The geograpical coordinate of Downtown Toronto are 43.6541737, -79.3808116451341.\n",
            "The geograpical coordinate of North York are 43.7708175, -79.4132998.\n",
            "The geograpical coordinate of Etobicoke are 43.67145915, -79.5524920661167.\n",
            "The geograpical coordinate of Scarborough are 54.2847601, -0.4090339.\n",
            "The geograpical coordinate of North York are 43.7708175, -79.4132998.\n",
            "The geograpical coordinate of East York are 43.6913391, -79.3278212.\n",
            "The geograpical coordinate of Downtown Toronto are 43.6541737, -79.3808116451341.\n",
            "The geograpical coordinate of York are 53.9590555, -1.0815361.\n",
            "The geograpical coordinate of Etobicoke are 43.67145915, -79.5524920661167.\n",
            "The geograpical coordinate of Scarborough are 54.2847601, -0.4090339.\n",
            "The geograpical coordinate of East Toronto are 43.653963, -79.387207.\n",
            "The geograpical coordinate of Downtown Toronto are 43.6541737, -79.3808116451341.\n",
            "The geograpical coordinate of York are 53.9590555, -1.0815361.\n",
            "The geograpical coordinate of Scarborough are 54.2847601, -0.4090339.\n",
            "The geograpical coordinate of East York are 43.6913391, -79.3278212.\n",
            "The geograpical coordinate of Downtown Toronto are 43.6541737, -79.3808116451341.\n",
            "The geograpical coordinate of Downtown Toronto are 43.6541737, -79.3808116451341.\n",
            "The geograpical coordinate of Scarborough are 54.2847601, -0.4090339.\n",
            "The geograpical coordinate of North York are 43.7708175, -79.4132998.\n",
            "The geograpical coordinate of North York are 43.7708175, -79.4132998.\n",
            "The geograpical coordinate of East York are 43.6913391, -79.3278212.\n",
            "The geograpical coordinate of Downtown Toronto are 43.6541737, -79.3808116451341.\n",
            "The geograpical coordinate of West Toronto are 43.653963, -79.387207.\n",
            "The geograpical coordinate of Scarborough are 54.2847601, -0.4090339.\n",
            "The geograpical coordinate of North York are 43.7708175, -79.4132998.\n",
            "The geograpical coordinate of North York are 43.7708175, -79.4132998.\n",
            "The geograpical coordinate of East York are 43.6913391, -79.3278212.\n",
            "The geograpical coordinate of Downtown Toronto are 43.6541737, -79.3808116451341.\n",
            "The geograpical coordinate of West Toronto are 43.653963, -79.387207.\n",
            "The geograpical coordinate of Scarborough are 54.2847601, -0.4090339.\n",
            "The geograpical coordinate of North York are 43.7708175, -79.4132998.\n",
            "The geograpical coordinate of North York are 43.7708175, -79.4132998.\n",
            "The geograpical coordinate of East Toronto are 43.653963, -79.387207.\n",
            "The geograpical coordinate of Downtown Toronto are 43.6541737, -79.3808116451341.\n",
            "The geograpical coordinate of West Toronto are 43.653963, -79.387207.\n",
            "The geograpical coordinate of Scarborough are 54.2847601, -0.4090339.\n",
            "The geograpical coordinate of North York are 43.7708175, -79.4132998.\n",
            "The geograpical coordinate of North York are 43.7708175, -79.4132998.\n",
            "The geograpical coordinate of East Toronto are 43.653963, -79.387207.\n",
            "The geograpical coordinate of Downtown Toronto are 43.6541737, -79.3808116451341.\n",
            "The geograpical coordinate of North York are 43.7708175, -79.4132998.\n",
            "The geograpical coordinate of North York are 43.7708175, -79.4132998.\n",
            "The geograpical coordinate of Scarborough are 54.2847601, -0.4090339.\n",
            "The geograpical coordinate of North York are 43.7708175, -79.4132998.\n",
            "The geograpical coordinate of North York are 43.7708175, -79.4132998.\n",
            "The geograpical coordinate of East Toronto are 43.653963, -79.387207.\n",
            "The geograpical coordinate of North York are 43.7708175, -79.4132998.\n",
            "The geograpical coordinate of York are 53.9590555, -1.0815361.\n",
            "The geograpical coordinate of North York are 43.7708175, -79.4132998.\n",
            "The geograpical coordinate of Scarborough are 54.2847601, -0.4090339.\n",
            "The geograpical coordinate of North York are 43.7708175, -79.4132998.\n",
            "The geograpical coordinate of North York are 43.7708175, -79.4132998.\n",
            "The geograpical coordinate of Central Toronto are 43.653963, -79.387207.\n",
            "The geograpical coordinate of Central Toronto are 43.653963, -79.387207.\n",
            "The geograpical coordinate of York are 53.9590555, -1.0815361.\n",
            "The geograpical coordinate of York are 53.9590555, -1.0815361.\n",
            "The geograpical coordinate of Scarborough are 54.2847601, -0.4090339.\n",
            "The geograpical coordinate of North York are 43.7708175, -79.4132998.\n",
            "The geograpical coordinate of Central Toronto are 43.653963, -79.387207.\n",
            "The geograpical coordinate of Central Toronto are 43.653963, -79.387207.\n",
            "The geograpical coordinate of West Toronto are 43.653963, -79.387207.\n",
            "The geograpical coordinate of Etobicoke are 43.67145915, -79.5524920661167.\n",
            "The geograpical coordinate of Scarborough are 54.2847601, -0.4090339.\n",
            "The geograpical coordinate of North York are 43.7708175, -79.4132998.\n",
            "The geograpical coordinate of Central Toronto are 43.653963, -79.387207.\n",
            "The geograpical coordinate of Central Toronto are 43.653963, -79.387207.\n",
            "The geograpical coordinate of West Toronto are 43.653963, -79.387207.\n",
            "The geograpical coordinate of Mississauga are 43.590338, -79.645729.\n",
            "The geograpical coordinate of Etobicoke are 43.67145915, -79.5524920661167.\n",
            "The geograpical coordinate of Scarborough are 54.2847601, -0.4090339.\n",
            "The geograpical coordinate of Central Toronto are 43.653963, -79.387207.\n",
            "The geograpical coordinate of Downtown Toronto are 43.6541737, -79.3808116451341.\n",
            "The geograpical coordinate of West Toronto are 43.653963, -79.387207.\n",
            "The geograpical coordinate of Scarborough are 54.2847601, -0.4090339.\n",
            "The geograpical coordinate of Central Toronto are 43.653963, -79.387207.\n",
            "The geograpical coordinate of Downtown Toronto are 43.6541737, -79.3808116451341.\n",
            "The geograpical coordinate of Scarborough are 54.2847601, -0.4090339.\n",
            "The geograpical coordinate of Central Toronto are 43.653963, -79.387207.\n",
            "The geograpical coordinate of Downtown Toronto are 43.6541737, -79.3808116451341.\n",
            "The geograpical coordinate of Etobicoke are 43.67145915, -79.5524920661167.\n",
            "The geograpical coordinate of Etobicoke are 43.67145915, -79.5524920661167.\n",
            "The geograpical coordinate of Scarborough are 54.2847601, -0.4090339.\n",
            "The geograpical coordinate of Downtown Toronto are 43.6541737, -79.3808116451341.\n",
            "The geograpical coordinate of Downtown Toronto are 43.6541737, -79.3808116451341.\n",
            "The geograpical coordinate of Etobicoke are 43.67145915, -79.5524920661167.\n",
            "The geograpical coordinate of Etobicoke are 43.67145915, -79.5524920661167.\n",
            "The geograpical coordinate of Scarborough are 54.2847601, -0.4090339.\n",
            "The geograpical coordinate of Downtown Toronto are 43.6541737, -79.3808116451341.\n",
            "The geograpical coordinate of Downtown Toronto are 43.6541737, -79.3808116451341.\n",
            "The geograpical coordinate of Etobicoke are 43.67145915, -79.5524920661167.\n",
            "The geograpical coordinate of Downtown Toronto are 43.6541737, -79.3808116451341.\n",
            "The geograpical coordinate of East Toronto are 43.653963, -79.387207.\n",
            "The geograpical coordinate of Etobicoke are 43.67145915, -79.5524920661167.\n",
            "The geograpical coordinate of Etobicoke are 43.67145915, -79.5524920661167.\n"
          ],
          "name": "stdout"
        }
      ]
    },
    {
      "cell_type": "code",
      "metadata": {
        "id": "o-GRB9uiCB6s",
        "colab_type": "code",
        "outputId": "16c78b7d-2d30-4515-bf7e-69661a38df0b",
        "colab": {
          "base_uri": "https://localhost:8080/",
          "height": 195
        }
      },
      "source": [
        "# Lets see the updated data with Latitude containing lists of lats and lons data\n",
        "\n",
        "df.head()"
      ],
      "execution_count": 23,
      "outputs": [
        {
          "output_type": "execute_result",
          "data": {
            "text/html": [
              "<div>\n",
              "<style scoped>\n",
              "    .dataframe tbody tr th:only-of-type {\n",
              "        vertical-align: middle;\n",
              "    }\n",
              "\n",
              "    .dataframe tbody tr th {\n",
              "        vertical-align: top;\n",
              "    }\n",
              "\n",
              "    .dataframe thead th {\n",
              "        text-align: right;\n",
              "    }\n",
              "</style>\n",
              "<table border=\"1\" class=\"dataframe\">\n",
              "  <thead>\n",
              "    <tr style=\"text-align: right;\">\n",
              "      <th></th>\n",
              "      <th>PostalCode</th>\n",
              "      <th>Borough</th>\n",
              "      <th>Neighborhood</th>\n",
              "      <th>Latitude</th>\n",
              "    </tr>\n",
              "  </thead>\n",
              "  <tbody>\n",
              "    <tr>\n",
              "      <th>0</th>\n",
              "      <td>M3A</td>\n",
              "      <td>North York</td>\n",
              "      <td>Parkwoods</td>\n",
              "      <td>[43.7708175, -79.4132998]</td>\n",
              "    </tr>\n",
              "    <tr>\n",
              "      <th>1</th>\n",
              "      <td>M4A</td>\n",
              "      <td>North York</td>\n",
              "      <td>Victoria Village</td>\n",
              "      <td>[43.7708175, -79.4132998]</td>\n",
              "    </tr>\n",
              "    <tr>\n",
              "      <th>2</th>\n",
              "      <td>M5A</td>\n",
              "      <td>Downtown Toronto</td>\n",
              "      <td>Harbourfront, Regent Park</td>\n",
              "      <td>[43.6541737, -79.3808116451341]</td>\n",
              "    </tr>\n",
              "    <tr>\n",
              "      <th>3</th>\n",
              "      <td>M6A</td>\n",
              "      <td>North York</td>\n",
              "      <td>Lawrence Heights, Lawrence Manor</td>\n",
              "      <td>[43.7708175, -79.4132998]</td>\n",
              "    </tr>\n",
              "    <tr>\n",
              "      <th>4</th>\n",
              "      <td>M7A</td>\n",
              "      <td>Queen's Park</td>\n",
              "      <td>Queen's Park</td>\n",
              "      <td>[43.6599803, -79.3903686]</td>\n",
              "    </tr>\n",
              "  </tbody>\n",
              "</table>\n",
              "</div>"
            ],
            "text/plain": [
              "  PostalCode  ...                         Latitude\n",
              "0        M3A  ...        [43.7708175, -79.4132998]\n",
              "1        M4A  ...        [43.7708175, -79.4132998]\n",
              "2        M5A  ...  [43.6541737, -79.3808116451341]\n",
              "3        M6A  ...        [43.7708175, -79.4132998]\n",
              "4        M7A  ...        [43.6599803, -79.3903686]\n",
              "\n",
              "[5 rows x 4 columns]"
            ]
          },
          "metadata": {
            "tags": []
          },
          "execution_count": 23
        }
      ]
    },
    {
      "cell_type": "markdown",
      "metadata": {
        "id": "4V_CSreFCB6v",
        "colab_type": "text"
      },
      "source": [
        "Next let's loop through the data frame and separate Latitude from Longitude and make lat and lons just numbers not lists"
      ]
    },
    {
      "cell_type": "code",
      "metadata": {
        "id": "fYsQkq2yCB6w",
        "colab_type": "code",
        "colab": {}
      },
      "source": [
        "lon_list = []\n",
        "for i, j in df.iterrows():\n",
        "    lon_list.append(j.Latitude[1])\n",
        "    j.Latitude = j.Latitude[0]\n",
        "    \n",
        "# next let's assign the lon_list as the value of the Longitude Column\n",
        "\n",
        "df['Longitude'] = lon_list"
      ],
      "execution_count": 0,
      "outputs": []
    },
    {
      "cell_type": "code",
      "metadata": {
        "scrolled": true,
        "id": "D7mTqCbJCB6y",
        "colab_type": "code",
        "outputId": "dc1e1198-863e-4bdd-c812-11c716abefc0",
        "colab": {
          "base_uri": "https://localhost:8080/",
          "height": 491
        }
      },
      "source": [
        "# let's view the changes\n",
        "\n",
        "df.head(15)"
      ],
      "execution_count": 25,
      "outputs": [
        {
          "output_type": "execute_result",
          "data": {
            "text/html": [
              "<div>\n",
              "<style scoped>\n",
              "    .dataframe tbody tr th:only-of-type {\n",
              "        vertical-align: middle;\n",
              "    }\n",
              "\n",
              "    .dataframe tbody tr th {\n",
              "        vertical-align: top;\n",
              "    }\n",
              "\n",
              "    .dataframe thead th {\n",
              "        text-align: right;\n",
              "    }\n",
              "</style>\n",
              "<table border=\"1\" class=\"dataframe\">\n",
              "  <thead>\n",
              "    <tr style=\"text-align: right;\">\n",
              "      <th></th>\n",
              "      <th>PostalCode</th>\n",
              "      <th>Borough</th>\n",
              "      <th>Neighborhood</th>\n",
              "      <th>Latitude</th>\n",
              "      <th>Longitude</th>\n",
              "    </tr>\n",
              "  </thead>\n",
              "  <tbody>\n",
              "    <tr>\n",
              "      <th>0</th>\n",
              "      <td>M3A</td>\n",
              "      <td>North York</td>\n",
              "      <td>Parkwoods</td>\n",
              "      <td>43.7708</td>\n",
              "      <td>-79.413300</td>\n",
              "    </tr>\n",
              "    <tr>\n",
              "      <th>1</th>\n",
              "      <td>M4A</td>\n",
              "      <td>North York</td>\n",
              "      <td>Victoria Village</td>\n",
              "      <td>43.7708</td>\n",
              "      <td>-79.413300</td>\n",
              "    </tr>\n",
              "    <tr>\n",
              "      <th>2</th>\n",
              "      <td>M5A</td>\n",
              "      <td>Downtown Toronto</td>\n",
              "      <td>Harbourfront, Regent Park</td>\n",
              "      <td>43.6542</td>\n",
              "      <td>-79.380812</td>\n",
              "    </tr>\n",
              "    <tr>\n",
              "      <th>3</th>\n",
              "      <td>M6A</td>\n",
              "      <td>North York</td>\n",
              "      <td>Lawrence Heights, Lawrence Manor</td>\n",
              "      <td>43.7708</td>\n",
              "      <td>-79.413300</td>\n",
              "    </tr>\n",
              "    <tr>\n",
              "      <th>4</th>\n",
              "      <td>M7A</td>\n",
              "      <td>Queen's Park</td>\n",
              "      <td>Queen's Park</td>\n",
              "      <td>43.66</td>\n",
              "      <td>-79.390369</td>\n",
              "    </tr>\n",
              "    <tr>\n",
              "      <th>5</th>\n",
              "      <td>M9A</td>\n",
              "      <td>Etobicoke</td>\n",
              "      <td>Islington Avenue</td>\n",
              "      <td>43.6715</td>\n",
              "      <td>-79.552492</td>\n",
              "    </tr>\n",
              "    <tr>\n",
              "      <th>6</th>\n",
              "      <td>M1B</td>\n",
              "      <td>Scarborough</td>\n",
              "      <td>Rouge, Malvern</td>\n",
              "      <td>54.2848</td>\n",
              "      <td>-0.409034</td>\n",
              "    </tr>\n",
              "    <tr>\n",
              "      <th>7</th>\n",
              "      <td>M3B</td>\n",
              "      <td>North York</td>\n",
              "      <td>Don Mills North</td>\n",
              "      <td>43.7708</td>\n",
              "      <td>-79.413300</td>\n",
              "    </tr>\n",
              "    <tr>\n",
              "      <th>8</th>\n",
              "      <td>M4B</td>\n",
              "      <td>East York</td>\n",
              "      <td>Woodbine Gardens, Parkview Hill</td>\n",
              "      <td>43.6913</td>\n",
              "      <td>-79.327821</td>\n",
              "    </tr>\n",
              "    <tr>\n",
              "      <th>9</th>\n",
              "      <td>M5B</td>\n",
              "      <td>Downtown Toronto</td>\n",
              "      <td>Ryerson, Garden District</td>\n",
              "      <td>43.6542</td>\n",
              "      <td>-79.380812</td>\n",
              "    </tr>\n",
              "    <tr>\n",
              "      <th>10</th>\n",
              "      <td>M6B</td>\n",
              "      <td>North York</td>\n",
              "      <td>Glencairn</td>\n",
              "      <td>43.7708</td>\n",
              "      <td>-79.413300</td>\n",
              "    </tr>\n",
              "    <tr>\n",
              "      <th>11</th>\n",
              "      <td>M9B</td>\n",
              "      <td>Etobicoke</td>\n",
              "      <td>Cloverdale, Islington, Martin Grove, Princess ...</td>\n",
              "      <td>43.6715</td>\n",
              "      <td>-79.552492</td>\n",
              "    </tr>\n",
              "    <tr>\n",
              "      <th>12</th>\n",
              "      <td>M1C</td>\n",
              "      <td>Scarborough</td>\n",
              "      <td>Highland Creek, Rouge Hill, Port Union</td>\n",
              "      <td>54.2848</td>\n",
              "      <td>-0.409034</td>\n",
              "    </tr>\n",
              "    <tr>\n",
              "      <th>13</th>\n",
              "      <td>M3C</td>\n",
              "      <td>North York</td>\n",
              "      <td>Flemingdon Park, Don Mills South</td>\n",
              "      <td>43.7708</td>\n",
              "      <td>-79.413300</td>\n",
              "    </tr>\n",
              "    <tr>\n",
              "      <th>14</th>\n",
              "      <td>M4C</td>\n",
              "      <td>East York</td>\n",
              "      <td>Woodbine Heights</td>\n",
              "      <td>43.6913</td>\n",
              "      <td>-79.327821</td>\n",
              "    </tr>\n",
              "  </tbody>\n",
              "</table>\n",
              "</div>"
            ],
            "text/plain": [
              "   PostalCode           Borough  ... Latitude  Longitude\n",
              "0         M3A        North York  ...  43.7708 -79.413300\n",
              "1         M4A        North York  ...  43.7708 -79.413300\n",
              "2         M5A  Downtown Toronto  ...  43.6542 -79.380812\n",
              "3         M6A        North York  ...  43.7708 -79.413300\n",
              "4         M7A      Queen's Park  ...    43.66 -79.390369\n",
              "5         M9A         Etobicoke  ...  43.6715 -79.552492\n",
              "6         M1B       Scarborough  ...  54.2848  -0.409034\n",
              "7         M3B        North York  ...  43.7708 -79.413300\n",
              "8         M4B         East York  ...  43.6913 -79.327821\n",
              "9         M5B  Downtown Toronto  ...  43.6542 -79.380812\n",
              "10        M6B        North York  ...  43.7708 -79.413300\n",
              "11        M9B         Etobicoke  ...  43.6715 -79.552492\n",
              "12        M1C       Scarborough  ...  54.2848  -0.409034\n",
              "13        M3C        North York  ...  43.7708 -79.413300\n",
              "14        M4C         East York  ...  43.6913 -79.327821\n",
              "\n",
              "[15 rows x 5 columns]"
            ]
          },
          "metadata": {
            "tags": []
          },
          "execution_count": 25
        }
      ]
    },
    {
      "cell_type": "code",
      "metadata": {
        "id": "WLLntsV6CB62",
        "colab_type": "code",
        "outputId": "954a2966-203d-43ca-dc54-04088c5541df",
        "colab": {
          "base_uri": "https://localhost:8080/",
          "height": 34
        }
      },
      "source": [
        "# Let's print the shape of the data frame\n",
        "\n",
        "df.shape"
      ],
      "execution_count": 26,
      "outputs": [
        {
          "output_type": "execute_result",
          "data": {
            "text/plain": [
              "(103, 5)"
            ]
          },
          "metadata": {
            "tags": []
          },
          "execution_count": 26
        }
      ]
    },
    {
      "cell_type": "markdown",
      "metadata": {
        "id": "fF4d4mCTCB65",
        "colab_type": "text"
      },
      "source": [
        "### EDA of Toronto Neighborhood Clusters"
      ]
    },
    {
      "cell_type": "markdown",
      "metadata": {
        "id": "A3uSbYlwCB66",
        "colab_type": "text"
      },
      "source": [
        "Let's explore and cluster the neighborhoods in Toronto. We can decide to work with only boroughs that contain the word Toronto and then replicate the same analysis we did earlier to the New York City data."
      ]
    },
    {
      "cell_type": "code",
      "metadata": {
        "scrolled": true,
        "id": "0lKIyK1rCB67",
        "colab_type": "code",
        "outputId": "a1f1b368-1210-462f-cf4b-3cdd147f08c7",
        "colab": {
          "base_uri": "https://localhost:8080/",
          "height": 343
        }
      },
      "source": [
        "df.head(10)"
      ],
      "execution_count": 27,
      "outputs": [
        {
          "output_type": "execute_result",
          "data": {
            "text/html": [
              "<div>\n",
              "<style scoped>\n",
              "    .dataframe tbody tr th:only-of-type {\n",
              "        vertical-align: middle;\n",
              "    }\n",
              "\n",
              "    .dataframe tbody tr th {\n",
              "        vertical-align: top;\n",
              "    }\n",
              "\n",
              "    .dataframe thead th {\n",
              "        text-align: right;\n",
              "    }\n",
              "</style>\n",
              "<table border=\"1\" class=\"dataframe\">\n",
              "  <thead>\n",
              "    <tr style=\"text-align: right;\">\n",
              "      <th></th>\n",
              "      <th>PostalCode</th>\n",
              "      <th>Borough</th>\n",
              "      <th>Neighborhood</th>\n",
              "      <th>Latitude</th>\n",
              "      <th>Longitude</th>\n",
              "    </tr>\n",
              "  </thead>\n",
              "  <tbody>\n",
              "    <tr>\n",
              "      <th>0</th>\n",
              "      <td>M3A</td>\n",
              "      <td>North York</td>\n",
              "      <td>Parkwoods</td>\n",
              "      <td>43.7708</td>\n",
              "      <td>-79.413300</td>\n",
              "    </tr>\n",
              "    <tr>\n",
              "      <th>1</th>\n",
              "      <td>M4A</td>\n",
              "      <td>North York</td>\n",
              "      <td>Victoria Village</td>\n",
              "      <td>43.7708</td>\n",
              "      <td>-79.413300</td>\n",
              "    </tr>\n",
              "    <tr>\n",
              "      <th>2</th>\n",
              "      <td>M5A</td>\n",
              "      <td>Downtown Toronto</td>\n",
              "      <td>Harbourfront, Regent Park</td>\n",
              "      <td>43.6542</td>\n",
              "      <td>-79.380812</td>\n",
              "    </tr>\n",
              "    <tr>\n",
              "      <th>3</th>\n",
              "      <td>M6A</td>\n",
              "      <td>North York</td>\n",
              "      <td>Lawrence Heights, Lawrence Manor</td>\n",
              "      <td>43.7708</td>\n",
              "      <td>-79.413300</td>\n",
              "    </tr>\n",
              "    <tr>\n",
              "      <th>4</th>\n",
              "      <td>M7A</td>\n",
              "      <td>Queen's Park</td>\n",
              "      <td>Queen's Park</td>\n",
              "      <td>43.66</td>\n",
              "      <td>-79.390369</td>\n",
              "    </tr>\n",
              "    <tr>\n",
              "      <th>5</th>\n",
              "      <td>M9A</td>\n",
              "      <td>Etobicoke</td>\n",
              "      <td>Islington Avenue</td>\n",
              "      <td>43.6715</td>\n",
              "      <td>-79.552492</td>\n",
              "    </tr>\n",
              "    <tr>\n",
              "      <th>6</th>\n",
              "      <td>M1B</td>\n",
              "      <td>Scarborough</td>\n",
              "      <td>Rouge, Malvern</td>\n",
              "      <td>54.2848</td>\n",
              "      <td>-0.409034</td>\n",
              "    </tr>\n",
              "    <tr>\n",
              "      <th>7</th>\n",
              "      <td>M3B</td>\n",
              "      <td>North York</td>\n",
              "      <td>Don Mills North</td>\n",
              "      <td>43.7708</td>\n",
              "      <td>-79.413300</td>\n",
              "    </tr>\n",
              "    <tr>\n",
              "      <th>8</th>\n",
              "      <td>M4B</td>\n",
              "      <td>East York</td>\n",
              "      <td>Woodbine Gardens, Parkview Hill</td>\n",
              "      <td>43.6913</td>\n",
              "      <td>-79.327821</td>\n",
              "    </tr>\n",
              "    <tr>\n",
              "      <th>9</th>\n",
              "      <td>M5B</td>\n",
              "      <td>Downtown Toronto</td>\n",
              "      <td>Ryerson, Garden District</td>\n",
              "      <td>43.6542</td>\n",
              "      <td>-79.380812</td>\n",
              "    </tr>\n",
              "  </tbody>\n",
              "</table>\n",
              "</div>"
            ],
            "text/plain": [
              "  PostalCode           Borough  ... Latitude  Longitude\n",
              "0        M3A        North York  ...  43.7708 -79.413300\n",
              "1        M4A        North York  ...  43.7708 -79.413300\n",
              "2        M5A  Downtown Toronto  ...  43.6542 -79.380812\n",
              "3        M6A        North York  ...  43.7708 -79.413300\n",
              "4        M7A      Queen's Park  ...    43.66 -79.390369\n",
              "5        M9A         Etobicoke  ...  43.6715 -79.552492\n",
              "6        M1B       Scarborough  ...  54.2848  -0.409034\n",
              "7        M3B        North York  ...  43.7708 -79.413300\n",
              "8        M4B         East York  ...  43.6913 -79.327821\n",
              "9        M5B  Downtown Toronto  ...  43.6542 -79.380812\n",
              "\n",
              "[10 rows x 5 columns]"
            ]
          },
          "metadata": {
            "tags": []
          },
          "execution_count": 27
        }
      ]
    },
    {
      "cell_type": "markdown",
      "metadata": {
        "id": "RGSawvUiCB69",
        "colab_type": "text"
      },
      "source": [
        "Let's see the unique Borough names we have in the Data Frame"
      ]
    },
    {
      "cell_type": "code",
      "metadata": {
        "scrolled": true,
        "id": "vtQasfbNCB6-",
        "colab_type": "code",
        "outputId": "59a51dd3-3067-4d7b-e88f-962108d04811",
        "colab": {
          "base_uri": "https://localhost:8080/",
          "height": 67
        }
      },
      "source": [
        "df.Borough.unique()"
      ],
      "execution_count": 28,
      "outputs": [
        {
          "output_type": "execute_result",
          "data": {
            "text/plain": [
              "array(['North York', 'Downtown Toronto', \"Queen's Park\", 'Etobicoke',\n",
              "       'Scarborough', 'East York', 'York', 'East Toronto', 'West Toronto',\n",
              "       'Central Toronto', 'Mississauga'], dtype=object)"
            ]
          },
          "metadata": {
            "tags": []
          },
          "execution_count": 28
        }
      ]
    },
    {
      "cell_type": "markdown",
      "metadata": {
        "id": "GqIsnkDvCB7C",
        "colab_type": "text"
      },
      "source": [
        "Let's loop through the data frame and get the index of Boroughs that end with 'Toronto'"
      ]
    },
    {
      "cell_type": "code",
      "metadata": {
        "id": "lsCtuVTACB7C",
        "colab_type": "code",
        "colab": {}
      },
      "source": [
        "toronto_list = [i for i in df.index if df.iloc[i,1].endswith('Toronto')]"
      ],
      "execution_count": 0,
      "outputs": []
    },
    {
      "cell_type": "markdown",
      "metadata": {
        "id": "rVjoyGJZCB7H",
        "colab_type": "text"
      },
      "source": [
        "Let's slice through the data frame to select only these rows of Boroughs ending with Toronto"
      ]
    },
    {
      "cell_type": "code",
      "metadata": {
        "id": "F8tu0FsCCB7H",
        "colab_type": "code",
        "colab": {}
      },
      "source": [
        "Toronto_df = df.iloc[toronto_list,].reset_index(drop=True)"
      ],
      "execution_count": 0,
      "outputs": []
    },
    {
      "cell_type": "markdown",
      "metadata": {
        "scrolled": false,
        "id": "ZZpDyhOdCB7J",
        "colab_type": "text"
      },
      "source": [
        "let's visualize the first 10 rows"
      ]
    },
    {
      "cell_type": "code",
      "metadata": {
        "scrolled": false,
        "id": "YHM_4X19CB7K",
        "colab_type": "code",
        "outputId": "18d8f9a5-0592-4240-88db-abe422ddca59",
        "colab": {
          "base_uri": "https://localhost:8080/",
          "height": 343
        }
      },
      "source": [
        "Toronto_df.head(10)"
      ],
      "execution_count": 31,
      "outputs": [
        {
          "output_type": "execute_result",
          "data": {
            "text/html": [
              "<div>\n",
              "<style scoped>\n",
              "    .dataframe tbody tr th:only-of-type {\n",
              "        vertical-align: middle;\n",
              "    }\n",
              "\n",
              "    .dataframe tbody tr th {\n",
              "        vertical-align: top;\n",
              "    }\n",
              "\n",
              "    .dataframe thead th {\n",
              "        text-align: right;\n",
              "    }\n",
              "</style>\n",
              "<table border=\"1\" class=\"dataframe\">\n",
              "  <thead>\n",
              "    <tr style=\"text-align: right;\">\n",
              "      <th></th>\n",
              "      <th>PostalCode</th>\n",
              "      <th>Borough</th>\n",
              "      <th>Neighborhood</th>\n",
              "      <th>Latitude</th>\n",
              "      <th>Longitude</th>\n",
              "    </tr>\n",
              "  </thead>\n",
              "  <tbody>\n",
              "    <tr>\n",
              "      <th>0</th>\n",
              "      <td>M5A</td>\n",
              "      <td>Downtown Toronto</td>\n",
              "      <td>Harbourfront, Regent Park</td>\n",
              "      <td>43.6542</td>\n",
              "      <td>-79.380812</td>\n",
              "    </tr>\n",
              "    <tr>\n",
              "      <th>1</th>\n",
              "      <td>M5B</td>\n",
              "      <td>Downtown Toronto</td>\n",
              "      <td>Ryerson, Garden District</td>\n",
              "      <td>43.6542</td>\n",
              "      <td>-79.380812</td>\n",
              "    </tr>\n",
              "    <tr>\n",
              "      <th>2</th>\n",
              "      <td>M5C</td>\n",
              "      <td>Downtown Toronto</td>\n",
              "      <td>St. James Town</td>\n",
              "      <td>43.6542</td>\n",
              "      <td>-79.380812</td>\n",
              "    </tr>\n",
              "    <tr>\n",
              "      <th>3</th>\n",
              "      <td>M4E</td>\n",
              "      <td>East Toronto</td>\n",
              "      <td>The Beaches</td>\n",
              "      <td>43.654</td>\n",
              "      <td>-79.387207</td>\n",
              "    </tr>\n",
              "    <tr>\n",
              "      <th>4</th>\n",
              "      <td>M5E</td>\n",
              "      <td>Downtown Toronto</td>\n",
              "      <td>Berczy Park</td>\n",
              "      <td>43.6542</td>\n",
              "      <td>-79.380812</td>\n",
              "    </tr>\n",
              "    <tr>\n",
              "      <th>5</th>\n",
              "      <td>M5G</td>\n",
              "      <td>Downtown Toronto</td>\n",
              "      <td>Central Bay Street</td>\n",
              "      <td>43.6542</td>\n",
              "      <td>-79.380812</td>\n",
              "    </tr>\n",
              "    <tr>\n",
              "      <th>6</th>\n",
              "      <td>M6G</td>\n",
              "      <td>Downtown Toronto</td>\n",
              "      <td>Christie</td>\n",
              "      <td>43.6542</td>\n",
              "      <td>-79.380812</td>\n",
              "    </tr>\n",
              "    <tr>\n",
              "      <th>7</th>\n",
              "      <td>M5H</td>\n",
              "      <td>Downtown Toronto</td>\n",
              "      <td>Adelaide, King, Richmond</td>\n",
              "      <td>43.6542</td>\n",
              "      <td>-79.380812</td>\n",
              "    </tr>\n",
              "    <tr>\n",
              "      <th>8</th>\n",
              "      <td>M6H</td>\n",
              "      <td>West Toronto</td>\n",
              "      <td>Dovercourt Village, Dufferin</td>\n",
              "      <td>43.654</td>\n",
              "      <td>-79.387207</td>\n",
              "    </tr>\n",
              "    <tr>\n",
              "      <th>9</th>\n",
              "      <td>M5J</td>\n",
              "      <td>Downtown Toronto</td>\n",
              "      <td>Harbourfront East, Toronto Islands, Union Station</td>\n",
              "      <td>43.6542</td>\n",
              "      <td>-79.380812</td>\n",
              "    </tr>\n",
              "  </tbody>\n",
              "</table>\n",
              "</div>"
            ],
            "text/plain": [
              "  PostalCode           Borough  ... Latitude  Longitude\n",
              "0        M5A  Downtown Toronto  ...  43.6542 -79.380812\n",
              "1        M5B  Downtown Toronto  ...  43.6542 -79.380812\n",
              "2        M5C  Downtown Toronto  ...  43.6542 -79.380812\n",
              "3        M4E      East Toronto  ...   43.654 -79.387207\n",
              "4        M5E  Downtown Toronto  ...  43.6542 -79.380812\n",
              "5        M5G  Downtown Toronto  ...  43.6542 -79.380812\n",
              "6        M6G  Downtown Toronto  ...  43.6542 -79.380812\n",
              "7        M5H  Downtown Toronto  ...  43.6542 -79.380812\n",
              "8        M6H      West Toronto  ...   43.654 -79.387207\n",
              "9        M5J  Downtown Toronto  ...  43.6542 -79.380812\n",
              "\n",
              "[10 rows x 5 columns]"
            ]
          },
          "metadata": {
            "tags": []
          },
          "execution_count": 31
        }
      ]
    },
    {
      "cell_type": "markdown",
      "metadata": {
        "id": "ggxZlFD1CB7P",
        "colab_type": "text"
      },
      "source": [
        "Lets see the unique Boroughs once again in Toronto"
      ]
    },
    {
      "cell_type": "code",
      "metadata": {
        "id": "TsV4tUh6CB7Q",
        "colab_type": "code",
        "outputId": "5b20bb45-008e-45c2-fff4-affb1ef121d8",
        "colab": {
          "base_uri": "https://localhost:8080/",
          "height": 50
        }
      },
      "source": [
        "Toronto_df.Borough.unique()"
      ],
      "execution_count": 32,
      "outputs": [
        {
          "output_type": "execute_result",
          "data": {
            "text/plain": [
              "array(['Downtown Toronto', 'East Toronto', 'West Toronto',\n",
              "       'Central Toronto'], dtype=object)"
            ]
          },
          "metadata": {
            "tags": []
          },
          "execution_count": 32
        }
      ]
    },
    {
      "cell_type": "markdown",
      "metadata": {
        "id": "Ikb9_eVNCB7U",
        "colab_type": "text"
      },
      "source": [
        "Let's get the geographic coordinates of Toronto"
      ]
    },
    {
      "cell_type": "code",
      "metadata": {
        "scrolled": true,
        "id": "3ucEdvMJCB7V",
        "colab_type": "code",
        "outputId": "484ebc3b-45f3-4949-dce7-f572847ae161",
        "colab": {
          "base_uri": "https://localhost:8080/",
          "height": 34
        }
      },
      "source": [
        "address = 'Toronto'\n",
        "\n",
        "geolocator = Nominatim(user_agent='CA_explorer')\n",
        "location = geolocator.geocode(address)\n",
        "latitude = location.latitude\n",
        "longitude = location.longitude\n",
        "\n",
        "print('The geograpical coordinates of {} are {}, {}.'.format(address, latitude, longitude))"
      ],
      "execution_count": 33,
      "outputs": [
        {
          "output_type": "stream",
          "text": [
            "The geograpical coordinates of Toronto are 43.653963, -79.387207.\n"
          ],
          "name": "stdout"
        }
      ]
    },
    {
      "cell_type": "markdown",
      "metadata": {
        "scrolled": true,
        "id": "CTzoU5qECB7Y",
        "colab_type": "text"
      },
      "source": [
        "let's visualize Toronto and the neighborhoods in it."
      ]
    },
    {
      "cell_type": "code",
      "metadata": {
        "scrolled": true,
        "id": "nKl2TYh3CB7a",
        "colab_type": "code",
        "outputId": "b9166d78-5117-4632-b226-9406918dccea",
        "colab": {
          "base_uri": "https://localhost:8080/",
          "height": 858
        }
      },
      "source": [
        "# create map of Toronto using latitude and longitude values\n",
        "map_toronto = folium.Map(location=[latitude, longitude], zoom_start=11)\n",
        "\n",
        "# add markers to map\n",
        "for lat, lng, borough, neighborhood in zip(Toronto_df['Latitude'], Toronto_df['Longitude'], Toronto_df['Borough'], Toronto_df['Neighborhood']):\n",
        "    label = \"{}, {}\".format(neighborhood, borough)\n",
        "    label = folium.Popup(label, parse_html=True)\n",
        "    folium.CircleMarker(\n",
        "        [lat, lng],\n",
        "        radius=5,\n",
        "        popup=label,\n",
        "        color='blue',\n",
        "        fill=True,\n",
        "        fill_color='#3186cc',\n",
        "        fill_opacity=0.7,\n",
        "        parse_html=False).add_to(map_toronto)  \n",
        "    \n",
        "map_toronto  # Feel free to zoom in to see more"
      ],
      "execution_count": 34,
      "outputs": [
        {
          "output_type": "execute_result",
          "data": {
            "text/html": [
              "<div style=\"width:100%;\"><div style=\"position:relative;width:100%;height:0;padding-bottom:60%;\"><iframe src=\"data:text/html;charset=utf-8;base64,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\" style=\"position:absolute;width:100%;height:100%;left:0;top:0;border:none !important;\" allowfullscreen webkitallowfullscreen mozallowfullscreen></iframe></div></div>"
            ],
            "text/plain": [
              "<folium.folium.Map at 0x7f7f0431ef28>"
            ]
          },
          "metadata": {
            "tags": []
          },
          "execution_count": 34
        }
      ]
    },
    {
      "cell_type": "markdown",
      "metadata": {
        "id": "M38bk31GCB7j",
        "colab_type": "text"
      },
      "source": [
        "### Let's explore the data using foursquare API"
      ]
    },
    {
      "cell_type": "code",
      "metadata": {
        "id": "LlduuhPjCB7k",
        "colab_type": "code",
        "outputId": "5e4a6121-798c-4966-e91b-446b6a513bdb",
        "colab": {
          "base_uri": "https://localhost:8080/",
          "height": 67
        }
      },
      "source": [
        "CLIENT_ID = 'L2XUYCRD44VP2YBDMZ3XY0Z4XKO1JODM5SMG3IIYRZ5330FD' # your Foursquare ID\n",
        "CLIENT_SECRET = '5KI00FG4RT2VJQTIDPXFY1N4AOKTIXLIZEAO0AHPP3DPD0U1' # your Foursquare Secret\n",
        "VERSION = '20190727' # Foursquare API version\n",
        "\n",
        "print('Your credentails:')\n",
        "print('CLIENT_ID: ' + CLIENT_ID)\n",
        "print('CLIENT_SECRET:' + CLIENT_SECRET)"
      ],
      "execution_count": 35,
      "outputs": [
        {
          "output_type": "stream",
          "text": [
            "Your credentails:\n",
            "CLIENT_ID: L2XUYCRD44VP2YBDMZ3XY0Z4XKO1JODM5SMG3IIYRZ5330FD\n",
            "CLIENT_SECRET:5KI00FG4RT2VJQTIDPXFY1N4AOKTIXLIZEAO0AHPP3DPD0U1\n"
          ],
          "name": "stdout"
        }
      ]
    },
    {
      "cell_type": "markdown",
      "metadata": {
        "id": "a7LHVjU_CB7o",
        "colab_type": "text"
      },
      "source": [
        "Let's confirm the shape of Toronto_df"
      ]
    },
    {
      "cell_type": "code",
      "metadata": {
        "id": "dPyO0depCB7p",
        "colab_type": "code",
        "outputId": "280a11d6-8ddb-4c99-8457-13c50e1b1e79",
        "colab": {
          "base_uri": "https://localhost:8080/",
          "height": 34
        }
      },
      "source": [
        "Toronto_df.shape  # This shows there are 38 rows and 5 columns"
      ],
      "execution_count": 36,
      "outputs": [
        {
          "output_type": "execute_result",
          "data": {
            "text/plain": [
              "(38, 5)"
            ]
          },
          "metadata": {
            "tags": []
          },
          "execution_count": 36
        }
      ]
    },
    {
      "cell_type": "markdown",
      "metadata": {
        "id": "M9B3OIb4CB7s",
        "colab_type": "text"
      },
      "source": [
        "Next let's see the unique borough names in Toronto_df"
      ]
    },
    {
      "cell_type": "code",
      "metadata": {
        "id": "V2zPl_NtCB7t",
        "colab_type": "code",
        "outputId": "ecbe0dba-425f-4445-f5c3-bf54f190e61c",
        "colab": {
          "base_uri": "https://localhost:8080/",
          "height": 50
        }
      },
      "source": [
        "Toronto_df.Borough.unique()"
      ],
      "execution_count": 37,
      "outputs": [
        {
          "output_type": "execute_result",
          "data": {
            "text/plain": [
              "array(['Downtown Toronto', 'East Toronto', 'West Toronto',\n",
              "       'Central Toronto'], dtype=object)"
            ]
          },
          "metadata": {
            "tags": []
          },
          "execution_count": 37
        }
      ]
    },
    {
      "cell_type": "markdown",
      "metadata": {
        "id": "rgUiPceQCB7w",
        "colab_type": "text"
      },
      "source": [
        "### Okay so lets explore the first location in 'Downtown Toronto'"
      ]
    },
    {
      "cell_type": "markdown",
      "metadata": {
        "id": "eaCj2wNvCB7x",
        "colab_type": "text"
      },
      "source": [
        "Let's get the details of the first entry "
      ]
    },
    {
      "cell_type": "code",
      "metadata": {
        "id": "mfGcBAyZCB7z",
        "colab_type": "code",
        "outputId": "364ce0e5-83ca-4b6a-d73c-1da88c3df42e",
        "colab": {
          "base_uri": "https://localhost:8080/",
          "height": 77
        }
      },
      "source": [
        "first_entry_Downtown_Toronto = Toronto_df[Toronto_df.Borough =='Downtown Toronto'].head(1)\n",
        "\n",
        "first_entry_Downtown_Toronto"
      ],
      "execution_count": 38,
      "outputs": [
        {
          "output_type": "execute_result",
          "data": {
            "text/html": [
              "<div>\n",
              "<style scoped>\n",
              "    .dataframe tbody tr th:only-of-type {\n",
              "        vertical-align: middle;\n",
              "    }\n",
              "\n",
              "    .dataframe tbody tr th {\n",
              "        vertical-align: top;\n",
              "    }\n",
              "\n",
              "    .dataframe thead th {\n",
              "        text-align: right;\n",
              "    }\n",
              "</style>\n",
              "<table border=\"1\" class=\"dataframe\">\n",
              "  <thead>\n",
              "    <tr style=\"text-align: right;\">\n",
              "      <th></th>\n",
              "      <th>PostalCode</th>\n",
              "      <th>Borough</th>\n",
              "      <th>Neighborhood</th>\n",
              "      <th>Latitude</th>\n",
              "      <th>Longitude</th>\n",
              "    </tr>\n",
              "  </thead>\n",
              "  <tbody>\n",
              "    <tr>\n",
              "      <th>0</th>\n",
              "      <td>M5A</td>\n",
              "      <td>Downtown Toronto</td>\n",
              "      <td>Harbourfront, Regent Park</td>\n",
              "      <td>43.6542</td>\n",
              "      <td>-79.380812</td>\n",
              "    </tr>\n",
              "  </tbody>\n",
              "</table>\n",
              "</div>"
            ],
            "text/plain": [
              "  PostalCode           Borough               Neighborhood Latitude  Longitude\n",
              "0        M5A  Downtown Toronto  Harbourfront, Regent Park  43.6542 -79.380812"
            ]
          },
          "metadata": {
            "tags": []
          },
          "execution_count": 38
        }
      ]
    },
    {
      "cell_type": "markdown",
      "metadata": {
        "id": "h5FKTzVECB71",
        "colab_type": "text"
      },
      "source": [
        "Now, let's get the top 100 venues that are in the first entry within a radius of 500 meters."
      ]
    },
    {
      "cell_type": "markdown",
      "metadata": {
        "id": "U8c1sPOkCB72",
        "colab_type": "text"
      },
      "source": [
        "First let's create the get request url"
      ]
    },
    {
      "cell_type": "code",
      "metadata": {
        "id": "h_Ks84cACB72",
        "colab_type": "code",
        "colab": {}
      },
      "source": [
        "radius = 500\n",
        "LIMIT=100\n",
        "\n",
        "url = 'https://api.foursquare.com/v2/venues/explore?&client_id={}&client_secret={}&v={}&ll={},{}&radius={}&limit={}'.format(\n",
        "    CLIENT_ID, \n",
        "    CLIENT_SECRET, \n",
        "    VERSION, \n",
        "    first_entry_Downtown_Toronto.Latitude[0], \n",
        "    first_entry_Downtown_Toronto.Longitude[0], \n",
        "    radius, \n",
        "    LIMIT)"
      ],
      "execution_count": 0,
      "outputs": []
    },
    {
      "cell_type": "markdown",
      "metadata": {
        "id": "9oJITRbtCB74",
        "colab_type": "text"
      },
      "source": [
        "Send the GET request and examine the resutls"
      ]
    },
    {
      "cell_type": "code",
      "metadata": {
        "id": "Jfs-5OP8CB77",
        "colab_type": "code",
        "outputId": "21191865-b4aa-475e-9712-4713642b76e4",
        "colab": {
          "base_uri": "https://localhost:8080/",
          "height": 34
        }
      },
      "source": [
        "result = requests.get(url).json()\n",
        "\n",
        "result.keys()"
      ],
      "execution_count": 40,
      "outputs": [
        {
          "output_type": "execute_result",
          "data": {
            "text/plain": [
              "dict_keys(['meta', 'response'])"
            ]
          },
          "metadata": {
            "tags": []
          },
          "execution_count": 40
        }
      ]
    },
    {
      "cell_type": "code",
      "metadata": {
        "scrolled": true,
        "id": "YIE8KOrKCB8A",
        "colab_type": "code",
        "colab": {}
      },
      "source": [
        "# Uncomment below to view the result json data\n",
        "# result"
      ],
      "execution_count": 0,
      "outputs": []
    },
    {
      "cell_type": "markdown",
      "metadata": {
        "id": "FFxWd6T8CB8C",
        "colab_type": "text"
      },
      "source": [
        "function that extracts the category of the venue"
      ]
    },
    {
      "cell_type": "code",
      "metadata": {
        "id": "ePlbRk79CB8D",
        "colab_type": "code",
        "colab": {}
      },
      "source": [
        "def get_category_type(row):\n",
        "    try:\n",
        "        categories_list = row['categories']\n",
        "    except:\n",
        "        categories_list = row['venue.categories']\n",
        "        \n",
        "    if len(categories_list) == 0:\n",
        "        return None\n",
        "    else:\n",
        "        return categories_list[0]['name']"
      ],
      "execution_count": 0,
      "outputs": []
    },
    {
      "cell_type": "markdown",
      "metadata": {
        "id": "lVOsbsYTCB8E",
        "colab_type": "text"
      },
      "source": [
        "Now we are ready to clean the json and structure it into a pandas dataframe."
      ]
    },
    {
      "cell_type": "code",
      "metadata": {
        "id": "JADaydx7CB8E",
        "colab_type": "code",
        "colab": {}
      },
      "source": [
        "venues = result['response']['groups'][0]['items']\n",
        "\n",
        "# Uncomment below to view the venues data\n",
        "# venues"
      ],
      "execution_count": 0,
      "outputs": []
    },
    {
      "cell_type": "code",
      "metadata": {
        "id": "W2D99YmiCB8J",
        "colab_type": "code",
        "colab": {}
      },
      "source": [
        "nearby_venues = json_normalize(venues) # flatten JSON"
      ],
      "execution_count": 0,
      "outputs": []
    },
    {
      "cell_type": "code",
      "metadata": {
        "scrolled": true,
        "id": "f46GxJSjCB8L",
        "colab_type": "code",
        "outputId": "d444adc7-1de9-4749-8293-f5398555586c",
        "colab": {
          "base_uri": "https://localhost:8080/",
          "height": 195
        }
      },
      "source": [
        "# filter columns\n",
        "filtered_columns = ['venue.name', 'venue.categories', 'venue.location.lat', 'venue.location.lng', 'venue.location.distance']\n",
        "nearby_venues =nearby_venues.loc[:, filtered_columns]\n",
        "\n",
        "# filter the category for each row\n",
        "nearby_venues['venue.categories'] = nearby_venues.apply(get_category_type, axis=1)\n",
        "\n",
        "# clean columns\n",
        "nearby_venues.columns = [col.split(\".\")[-1] for col in nearby_venues.columns]\n",
        "\n",
        "nearby_venues.head()"
      ],
      "execution_count": 45,
      "outputs": [
        {
          "output_type": "execute_result",
          "data": {
            "text/html": [
              "<div>\n",
              "<style scoped>\n",
              "    .dataframe tbody tr th:only-of-type {\n",
              "        vertical-align: middle;\n",
              "    }\n",
              "\n",
              "    .dataframe tbody tr th {\n",
              "        vertical-align: top;\n",
              "    }\n",
              "\n",
              "    .dataframe thead th {\n",
              "        text-align: right;\n",
              "    }\n",
              "</style>\n",
              "<table border=\"1\" class=\"dataframe\">\n",
              "  <thead>\n",
              "    <tr style=\"text-align: right;\">\n",
              "      <th></th>\n",
              "      <th>name</th>\n",
              "      <th>categories</th>\n",
              "      <th>lat</th>\n",
              "      <th>lng</th>\n",
              "      <th>distance</th>\n",
              "    </tr>\n",
              "  </thead>\n",
              "  <tbody>\n",
              "    <tr>\n",
              "      <th>0</th>\n",
              "      <td>UNIQLO ユニクロ</td>\n",
              "      <td>Clothing Store</td>\n",
              "      <td>43.655910</td>\n",
              "      <td>-79.380641</td>\n",
              "      <td>193</td>\n",
              "    </tr>\n",
              "    <tr>\n",
              "      <th>1</th>\n",
              "      <td>Elgin And Winter Garden Theatres</td>\n",
              "      <td>Theater</td>\n",
              "      <td>43.653394</td>\n",
              "      <td>-79.378507</td>\n",
              "      <td>204</td>\n",
              "    </tr>\n",
              "    <tr>\n",
              "      <th>2</th>\n",
              "      <td>Indigo</td>\n",
              "      <td>Bookstore</td>\n",
              "      <td>43.653515</td>\n",
              "      <td>-79.380696</td>\n",
              "      <td>73</td>\n",
              "    </tr>\n",
              "    <tr>\n",
              "      <th>3</th>\n",
              "      <td>Ed Mirvish Theatre</td>\n",
              "      <td>Theater</td>\n",
              "      <td>43.655102</td>\n",
              "      <td>-79.379768</td>\n",
              "      <td>133</td>\n",
              "    </tr>\n",
              "    <tr>\n",
              "      <th>4</th>\n",
              "      <td>Eggspectation Bell Trinity Square</td>\n",
              "      <td>Breakfast Spot</td>\n",
              "      <td>43.653144</td>\n",
              "      <td>-79.381980</td>\n",
              "      <td>148</td>\n",
              "    </tr>\n",
              "  </tbody>\n",
              "</table>\n",
              "</div>"
            ],
            "text/plain": [
              "                                name      categories  ...        lng  distance\n",
              "0                        UNIQLO ユニクロ  Clothing Store  ... -79.380641       193\n",
              "1   Elgin And Winter Garden Theatres         Theater  ... -79.378507       204\n",
              "2                             Indigo       Bookstore  ... -79.380696        73\n",
              "3                 Ed Mirvish Theatre         Theater  ... -79.379768       133\n",
              "4  Eggspectation Bell Trinity Square  Breakfast Spot  ... -79.381980       148\n",
              "\n",
              "[5 rows x 5 columns]"
            ]
          },
          "metadata": {
            "tags": []
          },
          "execution_count": 45
        }
      ]
    },
    {
      "cell_type": "markdown",
      "metadata": {
        "id": "Os7Bg22NCB8N",
        "colab_type": "text"
      },
      "source": [
        "And how many venues were returned by Foursquare?"
      ]
    },
    {
      "cell_type": "code",
      "metadata": {
        "id": "3fr_QUHECB8N",
        "colab_type": "code",
        "outputId": "639f3f5e-d7f1-48ef-fec0-6d06f80a04a0",
        "colab": {
          "base_uri": "https://localhost:8080/",
          "height": 34
        }
      },
      "source": [
        "print('The total number of venues returned is {}'.format(len(nearby_venues)))"
      ],
      "execution_count": 46,
      "outputs": [
        {
          "output_type": "stream",
          "text": [
            "The total number of venues returned is 100\n"
          ],
          "name": "stdout"
        }
      ]
    },
    {
      "cell_type": "markdown",
      "metadata": {
        "id": "eYCRe2CbCB8Q",
        "colab_type": "text"
      },
      "source": [
        "### Okay so lets explore venues in Central Toronto'"
      ]
    },
    {
      "cell_type": "code",
      "metadata": {
        "id": "QusOT3BiCB8R",
        "colab_type": "code",
        "outputId": "c4e16ef0-5406-4dd4-a519-c4115422477c",
        "colab": {
          "base_uri": "https://localhost:8080/",
          "height": 314
        }
      },
      "source": [
        "central_toronto_df = Toronto_df[Toronto_df.Borough == 'Central Toronto']\n",
        "\n",
        "central_toronto_df"
      ],
      "execution_count": 47,
      "outputs": [
        {
          "output_type": "execute_result",
          "data": {
            "text/html": [
              "<div>\n",
              "<style scoped>\n",
              "    .dataframe tbody tr th:only-of-type {\n",
              "        vertical-align: middle;\n",
              "    }\n",
              "\n",
              "    .dataframe tbody tr th {\n",
              "        vertical-align: top;\n",
              "    }\n",
              "\n",
              "    .dataframe thead th {\n",
              "        text-align: right;\n",
              "    }\n",
              "</style>\n",
              "<table border=\"1\" class=\"dataframe\">\n",
              "  <thead>\n",
              "    <tr style=\"text-align: right;\">\n",
              "      <th></th>\n",
              "      <th>PostalCode</th>\n",
              "      <th>Borough</th>\n",
              "      <th>Neighborhood</th>\n",
              "      <th>Latitude</th>\n",
              "      <th>Longitude</th>\n",
              "    </tr>\n",
              "  </thead>\n",
              "  <tbody>\n",
              "    <tr>\n",
              "      <th>17</th>\n",
              "      <td>M4N</td>\n",
              "      <td>Central Toronto</td>\n",
              "      <td>Lawrence Park</td>\n",
              "      <td>43.654</td>\n",
              "      <td>-79.387207</td>\n",
              "    </tr>\n",
              "    <tr>\n",
              "      <th>18</th>\n",
              "      <td>M5N</td>\n",
              "      <td>Central Toronto</td>\n",
              "      <td>Roselawn</td>\n",
              "      <td>43.654</td>\n",
              "      <td>-79.387207</td>\n",
              "    </tr>\n",
              "    <tr>\n",
              "      <th>19</th>\n",
              "      <td>M4P</td>\n",
              "      <td>Central Toronto</td>\n",
              "      <td>Davisville North</td>\n",
              "      <td>43.654</td>\n",
              "      <td>-79.387207</td>\n",
              "    </tr>\n",
              "    <tr>\n",
              "      <th>20</th>\n",
              "      <td>M5P</td>\n",
              "      <td>Central Toronto</td>\n",
              "      <td>Forest Hill North, Forest Hill West</td>\n",
              "      <td>43.654</td>\n",
              "      <td>-79.387207</td>\n",
              "    </tr>\n",
              "    <tr>\n",
              "      <th>22</th>\n",
              "      <td>M4R</td>\n",
              "      <td>Central Toronto</td>\n",
              "      <td>North Toronto West</td>\n",
              "      <td>43.654</td>\n",
              "      <td>-79.387207</td>\n",
              "    </tr>\n",
              "    <tr>\n",
              "      <th>23</th>\n",
              "      <td>M5R</td>\n",
              "      <td>Central Toronto</td>\n",
              "      <td>The Annex, North Midtown, Yorkville</td>\n",
              "      <td>43.654</td>\n",
              "      <td>-79.387207</td>\n",
              "    </tr>\n",
              "    <tr>\n",
              "      <th>25</th>\n",
              "      <td>M4S</td>\n",
              "      <td>Central Toronto</td>\n",
              "      <td>Davisville</td>\n",
              "      <td>43.654</td>\n",
              "      <td>-79.387207</td>\n",
              "    </tr>\n",
              "    <tr>\n",
              "      <th>28</th>\n",
              "      <td>M4T</td>\n",
              "      <td>Central Toronto</td>\n",
              "      <td>Moore Park, Summerhill East</td>\n",
              "      <td>43.654</td>\n",
              "      <td>-79.387207</td>\n",
              "    </tr>\n",
              "    <tr>\n",
              "      <th>30</th>\n",
              "      <td>M4V</td>\n",
              "      <td>Central Toronto</td>\n",
              "      <td>Deer Park, Forest Hill SE, Rathnelly, South Hi...</td>\n",
              "      <td>43.654</td>\n",
              "      <td>-79.387207</td>\n",
              "    </tr>\n",
              "  </tbody>\n",
              "</table>\n",
              "</div>"
            ],
            "text/plain": [
              "   PostalCode          Borough  ... Latitude  Longitude\n",
              "17        M4N  Central Toronto  ...   43.654 -79.387207\n",
              "18        M5N  Central Toronto  ...   43.654 -79.387207\n",
              "19        M4P  Central Toronto  ...   43.654 -79.387207\n",
              "20        M5P  Central Toronto  ...   43.654 -79.387207\n",
              "22        M4R  Central Toronto  ...   43.654 -79.387207\n",
              "23        M5R  Central Toronto  ...   43.654 -79.387207\n",
              "25        M4S  Central Toronto  ...   43.654 -79.387207\n",
              "28        M4T  Central Toronto  ...   43.654 -79.387207\n",
              "30        M4V  Central Toronto  ...   43.654 -79.387207\n",
              "\n",
              "[9 rows x 5 columns]"
            ]
          },
          "metadata": {
            "tags": []
          },
          "execution_count": 47
        }
      ]
    },
    {
      "cell_type": "markdown",
      "metadata": {
        "id": "M3Hmxx_6CB8V",
        "colab_type": "text"
      },
      "source": [
        "Let's create a function to repeat the same process to all the neighborhoods in Central Toronto"
      ]
    },
    {
      "cell_type": "code",
      "metadata": {
        "id": "5i1QKGznCB8V",
        "colab_type": "code",
        "colab": {}
      },
      "source": [
        "def getNearbyVenues(names, latitudes, longitudes, radius=500):\n",
        "    \n",
        "    venues_list=[]\n",
        "    for name, lat, lng in zip(names, latitudes, longitudes):\n",
        "        print(name)\n",
        "            \n",
        "        # create the API request URL\n",
        "        url = 'https://api.foursquare.com/v2/venues/explore?&client_id={}&client_secret={}&v={}&ll={},{}&radius={}&limit={}'.format(\n",
        "            CLIENT_ID, \n",
        "            CLIENT_SECRET, \n",
        "            VERSION, \n",
        "            lat, \n",
        "            lng, \n",
        "            radius, \n",
        "            LIMIT)\n",
        "            \n",
        "        # make the GET request\n",
        "        results = requests.get(url).json()[\"response\"]['groups'][0]['items']\n",
        "        \n",
        "        # return only relevant information for each nearby venue\n",
        "        venues_list.append([(\n",
        "            name, \n",
        "            lat, \n",
        "            lng, \n",
        "            v['venue']['name'], \n",
        "            v['venue']['location']['lat'], \n",
        "            v['venue']['location']['lng'],  \n",
        "            v['venue']['categories'][0]['name'],\n",
        "            v['venue']['location']['distance']) for v in results])\n",
        "\n",
        "    nearby_venues = pd.DataFrame([item for venue_list in venues_list for item in venue_list])\n",
        "    nearby_venues.columns = ['Neighborhood', \n",
        "                  'Neighborhood Latitude', \n",
        "                  'Neighborhood Longitude', \n",
        "                  'Venue', \n",
        "                  'Venue Latitude', \n",
        "                  'Venue Longitude', \n",
        "                  'Venue Category',\n",
        "                  'Venue Distance']\n",
        "    \n",
        "    return(nearby_venues)"
      ],
      "execution_count": 0,
      "outputs": []
    },
    {
      "cell_type": "code",
      "metadata": {
        "scrolled": true,
        "id": "lUu-povuCB8W",
        "colab_type": "code",
        "outputId": "408a0876-cc69-4da2-ca87-e1463dd37109",
        "colab": {
          "base_uri": "https://localhost:8080/",
          "height": 168
        }
      },
      "source": [
        "central_toronto_venues = getNearbyVenues(names=central_toronto_df['Neighborhood'],\n",
        "                                   latitudes=central_toronto_df['Latitude'],\n",
        "                                   longitudes=central_toronto_df['Longitude']\n",
        "                                  )\n"
      ],
      "execution_count": 49,
      "outputs": [
        {
          "output_type": "stream",
          "text": [
            "Lawrence Park\n",
            "Roselawn\n",
            "Davisville North\n",
            "Forest Hill North, Forest Hill West\n",
            "North Toronto West\n",
            "The Annex, North Midtown, Yorkville\n",
            "Davisville\n",
            "Moore Park, Summerhill East\n",
            "Deer Park, Forest Hill SE, Rathnelly, South Hill, Summerhill West\n"
          ],
          "name": "stdout"
        }
      ]
    },
    {
      "cell_type": "markdown",
      "metadata": {
        "id": "_h5p-LiHCB8Y",
        "colab_type": "text"
      },
      "source": [
        "Let's check the size of the resulting dataframe\n"
      ]
    },
    {
      "cell_type": "code",
      "metadata": {
        "id": "88_41WzBCB8Z",
        "colab_type": "code",
        "outputId": "2a4f8027-4118-4a75-f6b6-6562a9941442",
        "colab": {
          "base_uri": "https://localhost:8080/",
          "height": 212
        }
      },
      "source": [
        "print(central_toronto_venues.shape)\n",
        "\n",
        "central_toronto_venues.head()"
      ],
      "execution_count": 50,
      "outputs": [
        {
          "output_type": "stream",
          "text": [
            "(693, 8)\n"
          ],
          "name": "stdout"
        },
        {
          "output_type": "execute_result",
          "data": {
            "text/html": [
              "<div>\n",
              "<style scoped>\n",
              "    .dataframe tbody tr th:only-of-type {\n",
              "        vertical-align: middle;\n",
              "    }\n",
              "\n",
              "    .dataframe tbody tr th {\n",
              "        vertical-align: top;\n",
              "    }\n",
              "\n",
              "    .dataframe thead th {\n",
              "        text-align: right;\n",
              "    }\n",
              "</style>\n",
              "<table border=\"1\" class=\"dataframe\">\n",
              "  <thead>\n",
              "    <tr style=\"text-align: right;\">\n",
              "      <th></th>\n",
              "      <th>Neighborhood</th>\n",
              "      <th>Neighborhood Latitude</th>\n",
              "      <th>Neighborhood Longitude</th>\n",
              "      <th>Venue</th>\n",
              "      <th>Venue Latitude</th>\n",
              "      <th>Venue Longitude</th>\n",
              "      <th>Venue Category</th>\n",
              "      <th>Venue Distance</th>\n",
              "    </tr>\n",
              "  </thead>\n",
              "  <tbody>\n",
              "    <tr>\n",
              "      <th>0</th>\n",
              "      <td>Lawrence Park</td>\n",
              "      <td>43.653963</td>\n",
              "      <td>-79.387207</td>\n",
              "      <td>Downtown Toronto</td>\n",
              "      <td>43.653232</td>\n",
              "      <td>-79.385296</td>\n",
              "      <td>Neighborhood</td>\n",
              "      <td>174</td>\n",
              "    </tr>\n",
              "    <tr>\n",
              "      <th>1</th>\n",
              "      <td>Lawrence Park</td>\n",
              "      <td>43.653963</td>\n",
              "      <td>-79.387207</td>\n",
              "      <td>Japango</td>\n",
              "      <td>43.655268</td>\n",
              "      <td>-79.385165</td>\n",
              "      <td>Sushi Restaurant</td>\n",
              "      <td>219</td>\n",
              "    </tr>\n",
              "    <tr>\n",
              "      <th>2</th>\n",
              "      <td>Lawrence Park</td>\n",
              "      <td>43.653963</td>\n",
              "      <td>-79.387207</td>\n",
              "      <td>Cafe Plenty</td>\n",
              "      <td>43.654571</td>\n",
              "      <td>-79.389450</td>\n",
              "      <td>Café</td>\n",
              "      <td>192</td>\n",
              "    </tr>\n",
              "    <tr>\n",
              "      <th>3</th>\n",
              "      <td>Lawrence Park</td>\n",
              "      <td>43.653963</td>\n",
              "      <td>-79.387207</td>\n",
              "      <td>Textile Museum of Canada</td>\n",
              "      <td>43.654396</td>\n",
              "      <td>-79.386500</td>\n",
              "      <td>Art Museum</td>\n",
              "      <td>74</td>\n",
              "    </tr>\n",
              "    <tr>\n",
              "      <th>4</th>\n",
              "      <td>Lawrence Park</td>\n",
              "      <td>43.653963</td>\n",
              "      <td>-79.387207</td>\n",
              "      <td>Poke Guys</td>\n",
              "      <td>43.654895</td>\n",
              "      <td>-79.385052</td>\n",
              "      <td>Poke Place</td>\n",
              "      <td>202</td>\n",
              "    </tr>\n",
              "  </tbody>\n",
              "</table>\n",
              "</div>"
            ],
            "text/plain": [
              "    Neighborhood  Neighborhood Latitude  ...    Venue Category Venue Distance\n",
              "0  Lawrence Park              43.653963  ...      Neighborhood            174\n",
              "1  Lawrence Park              43.653963  ...  Sushi Restaurant            219\n",
              "2  Lawrence Park              43.653963  ...              Café            192\n",
              "3  Lawrence Park              43.653963  ...        Art Museum             74\n",
              "4  Lawrence Park              43.653963  ...        Poke Place            202\n",
              "\n",
              "[5 rows x 8 columns]"
            ]
          },
          "metadata": {
            "tags": []
          },
          "execution_count": 50
        }
      ]
    },
    {
      "cell_type": "markdown",
      "metadata": {
        "id": "6KpM_FBnCB8c",
        "colab_type": "text"
      },
      "source": [
        "Let's check how many venues were returned per neighborhood"
      ]
    },
    {
      "cell_type": "code",
      "metadata": {
        "id": "g3CsHD9cCB8c",
        "colab_type": "code",
        "outputId": "19aa6b48-ec3d-4980-e078-e323cacbf355",
        "colab": {
          "base_uri": "https://localhost:8080/",
          "height": 343
        }
      },
      "source": [
        "central_toronto_venues.groupby('Neighborhood').count()"
      ],
      "execution_count": 51,
      "outputs": [
        {
          "output_type": "execute_result",
          "data": {
            "text/html": [
              "<div>\n",
              "<style scoped>\n",
              "    .dataframe tbody tr th:only-of-type {\n",
              "        vertical-align: middle;\n",
              "    }\n",
              "\n",
              "    .dataframe tbody tr th {\n",
              "        vertical-align: top;\n",
              "    }\n",
              "\n",
              "    .dataframe thead th {\n",
              "        text-align: right;\n",
              "    }\n",
              "</style>\n",
              "<table border=\"1\" class=\"dataframe\">\n",
              "  <thead>\n",
              "    <tr style=\"text-align: right;\">\n",
              "      <th></th>\n",
              "      <th>Neighborhood Latitude</th>\n",
              "      <th>Neighborhood Longitude</th>\n",
              "      <th>Venue</th>\n",
              "      <th>Venue Latitude</th>\n",
              "      <th>Venue Longitude</th>\n",
              "      <th>Venue Category</th>\n",
              "      <th>Venue Distance</th>\n",
              "    </tr>\n",
              "    <tr>\n",
              "      <th>Neighborhood</th>\n",
              "      <th></th>\n",
              "      <th></th>\n",
              "      <th></th>\n",
              "      <th></th>\n",
              "      <th></th>\n",
              "      <th></th>\n",
              "      <th></th>\n",
              "    </tr>\n",
              "  </thead>\n",
              "  <tbody>\n",
              "    <tr>\n",
              "      <th>Davisville</th>\n",
              "      <td>77</td>\n",
              "      <td>77</td>\n",
              "      <td>77</td>\n",
              "      <td>77</td>\n",
              "      <td>77</td>\n",
              "      <td>77</td>\n",
              "      <td>77</td>\n",
              "    </tr>\n",
              "    <tr>\n",
              "      <th>Davisville North</th>\n",
              "      <td>77</td>\n",
              "      <td>77</td>\n",
              "      <td>77</td>\n",
              "      <td>77</td>\n",
              "      <td>77</td>\n",
              "      <td>77</td>\n",
              "      <td>77</td>\n",
              "    </tr>\n",
              "    <tr>\n",
              "      <th>Deer Park, Forest Hill SE, Rathnelly, South Hill, Summerhill West</th>\n",
              "      <td>77</td>\n",
              "      <td>77</td>\n",
              "      <td>77</td>\n",
              "      <td>77</td>\n",
              "      <td>77</td>\n",
              "      <td>77</td>\n",
              "      <td>77</td>\n",
              "    </tr>\n",
              "    <tr>\n",
              "      <th>Forest Hill North, Forest Hill West</th>\n",
              "      <td>77</td>\n",
              "      <td>77</td>\n",
              "      <td>77</td>\n",
              "      <td>77</td>\n",
              "      <td>77</td>\n",
              "      <td>77</td>\n",
              "      <td>77</td>\n",
              "    </tr>\n",
              "    <tr>\n",
              "      <th>Lawrence Park</th>\n",
              "      <td>77</td>\n",
              "      <td>77</td>\n",
              "      <td>77</td>\n",
              "      <td>77</td>\n",
              "      <td>77</td>\n",
              "      <td>77</td>\n",
              "      <td>77</td>\n",
              "    </tr>\n",
              "    <tr>\n",
              "      <th>Moore Park, Summerhill East</th>\n",
              "      <td>77</td>\n",
              "      <td>77</td>\n",
              "      <td>77</td>\n",
              "      <td>77</td>\n",
              "      <td>77</td>\n",
              "      <td>77</td>\n",
              "      <td>77</td>\n",
              "    </tr>\n",
              "    <tr>\n",
              "      <th>North Toronto West</th>\n",
              "      <td>77</td>\n",
              "      <td>77</td>\n",
              "      <td>77</td>\n",
              "      <td>77</td>\n",
              "      <td>77</td>\n",
              "      <td>77</td>\n",
              "      <td>77</td>\n",
              "    </tr>\n",
              "    <tr>\n",
              "      <th>Roselawn</th>\n",
              "      <td>77</td>\n",
              "      <td>77</td>\n",
              "      <td>77</td>\n",
              "      <td>77</td>\n",
              "      <td>77</td>\n",
              "      <td>77</td>\n",
              "      <td>77</td>\n",
              "    </tr>\n",
              "    <tr>\n",
              "      <th>The Annex, North Midtown, Yorkville</th>\n",
              "      <td>77</td>\n",
              "      <td>77</td>\n",
              "      <td>77</td>\n",
              "      <td>77</td>\n",
              "      <td>77</td>\n",
              "      <td>77</td>\n",
              "      <td>77</td>\n",
              "    </tr>\n",
              "  </tbody>\n",
              "</table>\n",
              "</div>"
            ],
            "text/plain": [
              "                                                    Neighborhood Latitude  ...  Venue Distance\n",
              "Neighborhood                                                               ...                \n",
              "Davisville                                                             77  ...              77\n",
              "Davisville North                                                       77  ...              77\n",
              "Deer Park, Forest Hill SE, Rathnelly, South Hil...                     77  ...              77\n",
              "Forest Hill North, Forest Hill West                                    77  ...              77\n",
              "Lawrence Park                                                          77  ...              77\n",
              "Moore Park, Summerhill East                                            77  ...              77\n",
              "North Toronto West                                                     77  ...              77\n",
              "Roselawn                                                               77  ...              77\n",
              "The Annex, North Midtown, Yorkville                                    77  ...              77\n",
              "\n",
              "[9 rows x 7 columns]"
            ]
          },
          "metadata": {
            "tags": []
          },
          "execution_count": 51
        }
      ]
    },
    {
      "cell_type": "markdown",
      "metadata": {
        "id": "rSbV8_K1CB8e",
        "colab_type": "text"
      },
      "source": [
        "Let's find out how many unique categories can be curated from all the returned venues"
      ]
    },
    {
      "cell_type": "code",
      "metadata": {
        "id": "rypODpDICB8e",
        "colab_type": "code",
        "outputId": "e1487cef-67cb-4015-8731-f06afdd6ce3f",
        "colab": {
          "base_uri": "https://localhost:8080/",
          "height": 34
        }
      },
      "source": [
        "print('There are {} unique categories of Venues'.format(central_toronto_venues['Venue Category'].nunique()))"
      ],
      "execution_count": 52,
      "outputs": [
        {
          "output_type": "stream",
          "text": [
            "There are 55 unique categories of Venues\n"
          ],
          "name": "stdout"
        }
      ]
    },
    {
      "cell_type": "markdown",
      "metadata": {
        "id": "w14dqe09CB8h",
        "colab_type": "text"
      },
      "source": [
        "### Analyze Each Neighborhood"
      ]
    },
    {
      "cell_type": "code",
      "metadata": {
        "id": "fFT6F61JCB8h",
        "colab_type": "code",
        "colab": {}
      },
      "source": [
        "# one hot encoding\n",
        "central_toronto_onehot = pd.get_dummies(central_toronto_venues[['Venue Category']], prefix=\"\", prefix_sep=\"\")"
      ],
      "execution_count": 0,
      "outputs": []
    },
    {
      "cell_type": "code",
      "metadata": {
        "id": "NEzQmbv7CB8j",
        "colab_type": "code",
        "colab": {}
      },
      "source": [
        "# add neighborhood column back to dataframe\n",
        "central_toronto_onehot['Neighborhood'] = central_toronto_venues['Neighborhood'] "
      ],
      "execution_count": 0,
      "outputs": []
    },
    {
      "cell_type": "code",
      "metadata": {
        "scrolled": true,
        "id": "fpwbZ9BACB8k",
        "colab_type": "code",
        "outputId": "c938075f-84c2-46e9-d7ef-0c7cc836cf9c",
        "colab": {
          "base_uri": "https://localhost:8080/",
          "height": 333
        }
      },
      "source": [
        "# move neighborhood column to the first column\n",
        "fixed_columns = [central_toronto_onehot.columns[-1]] + list(central_toronto_onehot.columns[:-1])\n",
        "central_toronto_onehot = central_toronto_onehot[fixed_columns]\n",
        "\n",
        "pd.set_option('display.max_columns', None)\n",
        "central_toronto_onehot.head()"
      ],
      "execution_count": 55,
      "outputs": [
        {
          "output_type": "execute_result",
          "data": {
            "text/html": [
              "<div>\n",
              "<style scoped>\n",
              "    .dataframe tbody tr th:only-of-type {\n",
              "        vertical-align: middle;\n",
              "    }\n",
              "\n",
              "    .dataframe tbody tr th {\n",
              "        vertical-align: top;\n",
              "    }\n",
              "\n",
              "    .dataframe thead th {\n",
              "        text-align: right;\n",
              "    }\n",
              "</style>\n",
              "<table border=\"1\" class=\"dataframe\">\n",
              "  <thead>\n",
              "    <tr style=\"text-align: right;\">\n",
              "      <th></th>\n",
              "      <th>Vegetarian / Vegan Restaurant</th>\n",
              "      <th>American Restaurant</th>\n",
              "      <th>Art Gallery</th>\n",
              "      <th>Art Museum</th>\n",
              "      <th>Arts &amp; Crafts Store</th>\n",
              "      <th>Asian Restaurant</th>\n",
              "      <th>Bar</th>\n",
              "      <th>Breakfast Spot</th>\n",
              "      <th>Bubble Tea Shop</th>\n",
              "      <th>Café</th>\n",
              "      <th>Chinese Restaurant</th>\n",
              "      <th>Coffee Shop</th>\n",
              "      <th>Concert Hall</th>\n",
              "      <th>Cosmetics Shop</th>\n",
              "      <th>Costume Shop</th>\n",
              "      <th>Dance Studio</th>\n",
              "      <th>Dessert Shop</th>\n",
              "      <th>Donut Shop</th>\n",
              "      <th>Food Court</th>\n",
              "      <th>French Restaurant</th>\n",
              "      <th>Gastropub</th>\n",
              "      <th>Gift Shop</th>\n",
              "      <th>Greek Restaurant</th>\n",
              "      <th>Gym</th>\n",
              "      <th>Hotel</th>\n",
              "      <th>Ice Cream Shop</th>\n",
              "      <th>Indian Restaurant</th>\n",
              "      <th>Japanese Restaurant</th>\n",
              "      <th>Jazz Club</th>\n",
              "      <th>Korean Restaurant</th>\n",
              "      <th>Middle Eastern Restaurant</th>\n",
              "      <th>Miscellaneous Shop</th>\n",
              "      <th>Modern European Restaurant</th>\n",
              "      <th>Monument / Landmark</th>\n",
              "      <th>Movie Theater</th>\n",
              "      <th>Neighborhood</th>\n",
              "      <th>Office</th>\n",
              "      <th>Opera House</th>\n",
              "      <th>Park</th>\n",
              "      <th>Plaza</th>\n",
              "      <th>Poke Place</th>\n",
              "      <th>Pub</th>\n",
              "      <th>Ramen Restaurant</th>\n",
              "      <th>Record Shop</th>\n",
              "      <th>Restaurant</th>\n",
              "      <th>Salon / Barbershop</th>\n",
              "      <th>Seafood Restaurant</th>\n",
              "      <th>Smoke Shop</th>\n",
              "      <th>Steakhouse</th>\n",
              "      <th>Sushi Restaurant</th>\n",
              "      <th>Tapas Restaurant</th>\n",
              "      <th>Tea Room</th>\n",
              "      <th>Thai Restaurant</th>\n",
              "      <th>Toy / Game Store</th>\n",
              "      <th>University</th>\n",
              "    </tr>\n",
              "  </thead>\n",
              "  <tbody>\n",
              "    <tr>\n",
              "      <th>0</th>\n",
              "      <td>0</td>\n",
              "      <td>0</td>\n",
              "      <td>0</td>\n",
              "      <td>0</td>\n",
              "      <td>0</td>\n",
              "      <td>0</td>\n",
              "      <td>0</td>\n",
              "      <td>0</td>\n",
              "      <td>0</td>\n",
              "      <td>0</td>\n",
              "      <td>0</td>\n",
              "      <td>0</td>\n",
              "      <td>0</td>\n",
              "      <td>0</td>\n",
              "      <td>0</td>\n",
              "      <td>0</td>\n",
              "      <td>0</td>\n",
              "      <td>0</td>\n",
              "      <td>0</td>\n",
              "      <td>0</td>\n",
              "      <td>0</td>\n",
              "      <td>0</td>\n",
              "      <td>0</td>\n",
              "      <td>0</td>\n",
              "      <td>0</td>\n",
              "      <td>0</td>\n",
              "      <td>0</td>\n",
              "      <td>0</td>\n",
              "      <td>0</td>\n",
              "      <td>0</td>\n",
              "      <td>0</td>\n",
              "      <td>0</td>\n",
              "      <td>0</td>\n",
              "      <td>0</td>\n",
              "      <td>0</td>\n",
              "      <td>Lawrence Park</td>\n",
              "      <td>0</td>\n",
              "      <td>0</td>\n",
              "      <td>0</td>\n",
              "      <td>0</td>\n",
              "      <td>0</td>\n",
              "      <td>0</td>\n",
              "      <td>0</td>\n",
              "      <td>0</td>\n",
              "      <td>0</td>\n",
              "      <td>0</td>\n",
              "      <td>0</td>\n",
              "      <td>0</td>\n",
              "      <td>0</td>\n",
              "      <td>0</td>\n",
              "      <td>0</td>\n",
              "      <td>0</td>\n",
              "      <td>0</td>\n",
              "      <td>0</td>\n",
              "      <td>0</td>\n",
              "    </tr>\n",
              "    <tr>\n",
              "      <th>1</th>\n",
              "      <td>0</td>\n",
              "      <td>0</td>\n",
              "      <td>0</td>\n",
              "      <td>0</td>\n",
              "      <td>0</td>\n",
              "      <td>0</td>\n",
              "      <td>0</td>\n",
              "      <td>0</td>\n",
              "      <td>0</td>\n",
              "      <td>0</td>\n",
              "      <td>0</td>\n",
              "      <td>0</td>\n",
              "      <td>0</td>\n",
              "      <td>0</td>\n",
              "      <td>0</td>\n",
              "      <td>0</td>\n",
              "      <td>0</td>\n",
              "      <td>0</td>\n",
              "      <td>0</td>\n",
              "      <td>0</td>\n",
              "      <td>0</td>\n",
              "      <td>0</td>\n",
              "      <td>0</td>\n",
              "      <td>0</td>\n",
              "      <td>0</td>\n",
              "      <td>0</td>\n",
              "      <td>0</td>\n",
              "      <td>0</td>\n",
              "      <td>0</td>\n",
              "      <td>0</td>\n",
              "      <td>0</td>\n",
              "      <td>0</td>\n",
              "      <td>0</td>\n",
              "      <td>0</td>\n",
              "      <td>0</td>\n",
              "      <td>Lawrence Park</td>\n",
              "      <td>0</td>\n",
              "      <td>0</td>\n",
              "      <td>0</td>\n",
              "      <td>0</td>\n",
              "      <td>0</td>\n",
              "      <td>0</td>\n",
              "      <td>0</td>\n",
              "      <td>0</td>\n",
              "      <td>0</td>\n",
              "      <td>0</td>\n",
              "      <td>0</td>\n",
              "      <td>0</td>\n",
              "      <td>0</td>\n",
              "      <td>1</td>\n",
              "      <td>0</td>\n",
              "      <td>0</td>\n",
              "      <td>0</td>\n",
              "      <td>0</td>\n",
              "      <td>0</td>\n",
              "    </tr>\n",
              "    <tr>\n",
              "      <th>2</th>\n",
              "      <td>0</td>\n",
              "      <td>0</td>\n",
              "      <td>0</td>\n",
              "      <td>0</td>\n",
              "      <td>0</td>\n",
              "      <td>0</td>\n",
              "      <td>0</td>\n",
              "      <td>0</td>\n",
              "      <td>0</td>\n",
              "      <td>1</td>\n",
              "      <td>0</td>\n",
              "      <td>0</td>\n",
              "      <td>0</td>\n",
              "      <td>0</td>\n",
              "      <td>0</td>\n",
              "      <td>0</td>\n",
              "      <td>0</td>\n",
              "      <td>0</td>\n",
              "      <td>0</td>\n",
              "      <td>0</td>\n",
              "      <td>0</td>\n",
              "      <td>0</td>\n",
              "      <td>0</td>\n",
              "      <td>0</td>\n",
              "      <td>0</td>\n",
              "      <td>0</td>\n",
              "      <td>0</td>\n",
              "      <td>0</td>\n",
              "      <td>0</td>\n",
              "      <td>0</td>\n",
              "      <td>0</td>\n",
              "      <td>0</td>\n",
              "      <td>0</td>\n",
              "      <td>0</td>\n",
              "      <td>0</td>\n",
              "      <td>Lawrence Park</td>\n",
              "      <td>0</td>\n",
              "      <td>0</td>\n",
              "      <td>0</td>\n",
              "      <td>0</td>\n",
              "      <td>0</td>\n",
              "      <td>0</td>\n",
              "      <td>0</td>\n",
              "      <td>0</td>\n",
              "      <td>0</td>\n",
              "      <td>0</td>\n",
              "      <td>0</td>\n",
              "      <td>0</td>\n",
              "      <td>0</td>\n",
              "      <td>0</td>\n",
              "      <td>0</td>\n",
              "      <td>0</td>\n",
              "      <td>0</td>\n",
              "      <td>0</td>\n",
              "      <td>0</td>\n",
              "    </tr>\n",
              "    <tr>\n",
              "      <th>3</th>\n",
              "      <td>0</td>\n",
              "      <td>0</td>\n",
              "      <td>0</td>\n",
              "      <td>1</td>\n",
              "      <td>0</td>\n",
              "      <td>0</td>\n",
              "      <td>0</td>\n",
              "      <td>0</td>\n",
              "      <td>0</td>\n",
              "      <td>0</td>\n",
              "      <td>0</td>\n",
              "      <td>0</td>\n",
              "      <td>0</td>\n",
              "      <td>0</td>\n",
              "      <td>0</td>\n",
              "      <td>0</td>\n",
              "      <td>0</td>\n",
              "      <td>0</td>\n",
              "      <td>0</td>\n",
              "      <td>0</td>\n",
              "      <td>0</td>\n",
              "      <td>0</td>\n",
              "      <td>0</td>\n",
              "      <td>0</td>\n",
              "      <td>0</td>\n",
              "      <td>0</td>\n",
              "      <td>0</td>\n",
              "      <td>0</td>\n",
              "      <td>0</td>\n",
              "      <td>0</td>\n",
              "      <td>0</td>\n",
              "      <td>0</td>\n",
              "      <td>0</td>\n",
              "      <td>0</td>\n",
              "      <td>0</td>\n",
              "      <td>Lawrence Park</td>\n",
              "      <td>0</td>\n",
              "      <td>0</td>\n",
              "      <td>0</td>\n",
              "      <td>0</td>\n",
              "      <td>0</td>\n",
              "      <td>0</td>\n",
              "      <td>0</td>\n",
              "      <td>0</td>\n",
              "      <td>0</td>\n",
              "      <td>0</td>\n",
              "      <td>0</td>\n",
              "      <td>0</td>\n",
              "      <td>0</td>\n",
              "      <td>0</td>\n",
              "      <td>0</td>\n",
              "      <td>0</td>\n",
              "      <td>0</td>\n",
              "      <td>0</td>\n",
              "      <td>0</td>\n",
              "    </tr>\n",
              "    <tr>\n",
              "      <th>4</th>\n",
              "      <td>0</td>\n",
              "      <td>0</td>\n",
              "      <td>0</td>\n",
              "      <td>0</td>\n",
              "      <td>0</td>\n",
              "      <td>0</td>\n",
              "      <td>0</td>\n",
              "      <td>0</td>\n",
              "      <td>0</td>\n",
              "      <td>0</td>\n",
              "      <td>0</td>\n",
              "      <td>0</td>\n",
              "      <td>0</td>\n",
              "      <td>0</td>\n",
              "      <td>0</td>\n",
              "      <td>0</td>\n",
              "      <td>0</td>\n",
              "      <td>0</td>\n",
              "      <td>0</td>\n",
              "      <td>0</td>\n",
              "      <td>0</td>\n",
              "      <td>0</td>\n",
              "      <td>0</td>\n",
              "      <td>0</td>\n",
              "      <td>0</td>\n",
              "      <td>0</td>\n",
              "      <td>0</td>\n",
              "      <td>0</td>\n",
              "      <td>0</td>\n",
              "      <td>0</td>\n",
              "      <td>0</td>\n",
              "      <td>0</td>\n",
              "      <td>0</td>\n",
              "      <td>0</td>\n",
              "      <td>0</td>\n",
              "      <td>Lawrence Park</td>\n",
              "      <td>0</td>\n",
              "      <td>0</td>\n",
              "      <td>0</td>\n",
              "      <td>0</td>\n",
              "      <td>1</td>\n",
              "      <td>0</td>\n",
              "      <td>0</td>\n",
              "      <td>0</td>\n",
              "      <td>0</td>\n",
              "      <td>0</td>\n",
              "      <td>0</td>\n",
              "      <td>0</td>\n",
              "      <td>0</td>\n",
              "      <td>0</td>\n",
              "      <td>0</td>\n",
              "      <td>0</td>\n",
              "      <td>0</td>\n",
              "      <td>0</td>\n",
              "      <td>0</td>\n",
              "    </tr>\n",
              "  </tbody>\n",
              "</table>\n",
              "</div>"
            ],
            "text/plain": [
              "   Vegetarian / Vegan Restaurant  American Restaurant  Art Gallery  \\\n",
              "0                              0                    0            0   \n",
              "1                              0                    0            0   \n",
              "2                              0                    0            0   \n",
              "3                              0                    0            0   \n",
              "4                              0                    0            0   \n",
              "\n",
              "   Art Museum  Arts & Crafts Store  Asian Restaurant  Bar  Breakfast Spot  \\\n",
              "0           0                    0                 0    0               0   \n",
              "1           0                    0                 0    0               0   \n",
              "2           0                    0                 0    0               0   \n",
              "3           1                    0                 0    0               0   \n",
              "4           0                    0                 0    0               0   \n",
              "\n",
              "   Bubble Tea Shop  Café  Chinese Restaurant  Coffee Shop  Concert Hall  \\\n",
              "0                0     0                   0            0             0   \n",
              "1                0     0                   0            0             0   \n",
              "2                0     1                   0            0             0   \n",
              "3                0     0                   0            0             0   \n",
              "4                0     0                   0            0             0   \n",
              "\n",
              "   Cosmetics Shop  Costume Shop  Dance Studio  Dessert Shop  Donut Shop  \\\n",
              "0               0             0             0             0           0   \n",
              "1               0             0             0             0           0   \n",
              "2               0             0             0             0           0   \n",
              "3               0             0             0             0           0   \n",
              "4               0             0             0             0           0   \n",
              "\n",
              "   Food Court  French Restaurant  Gastropub  Gift Shop  Greek Restaurant  Gym  \\\n",
              "0           0                  0          0          0                 0    0   \n",
              "1           0                  0          0          0                 0    0   \n",
              "2           0                  0          0          0                 0    0   \n",
              "3           0                  0          0          0                 0    0   \n",
              "4           0                  0          0          0                 0    0   \n",
              "\n",
              "   Hotel  Ice Cream Shop  Indian Restaurant  Japanese Restaurant  Jazz Club  \\\n",
              "0      0               0                  0                    0          0   \n",
              "1      0               0                  0                    0          0   \n",
              "2      0               0                  0                    0          0   \n",
              "3      0               0                  0                    0          0   \n",
              "4      0               0                  0                    0          0   \n",
              "\n",
              "   Korean Restaurant  Middle Eastern Restaurant  Miscellaneous Shop  \\\n",
              "0                  0                          0                   0   \n",
              "1                  0                          0                   0   \n",
              "2                  0                          0                   0   \n",
              "3                  0                          0                   0   \n",
              "4                  0                          0                   0   \n",
              "\n",
              "   Modern European Restaurant  Monument / Landmark  Movie Theater  \\\n",
              "0                           0                    0              0   \n",
              "1                           0                    0              0   \n",
              "2                           0                    0              0   \n",
              "3                           0                    0              0   \n",
              "4                           0                    0              0   \n",
              "\n",
              "    Neighborhood  Office  Opera House  Park  Plaza  Poke Place  Pub  \\\n",
              "0  Lawrence Park       0            0     0      0           0    0   \n",
              "1  Lawrence Park       0            0     0      0           0    0   \n",
              "2  Lawrence Park       0            0     0      0           0    0   \n",
              "3  Lawrence Park       0            0     0      0           0    0   \n",
              "4  Lawrence Park       0            0     0      0           1    0   \n",
              "\n",
              "   Ramen Restaurant  Record Shop  Restaurant  Salon / Barbershop  \\\n",
              "0                 0            0           0                   0   \n",
              "1                 0            0           0                   0   \n",
              "2                 0            0           0                   0   \n",
              "3                 0            0           0                   0   \n",
              "4                 0            0           0                   0   \n",
              "\n",
              "   Seafood Restaurant  Smoke Shop  Steakhouse  Sushi Restaurant  \\\n",
              "0                   0           0           0                 0   \n",
              "1                   0           0           0                 1   \n",
              "2                   0           0           0                 0   \n",
              "3                   0           0           0                 0   \n",
              "4                   0           0           0                 0   \n",
              "\n",
              "   Tapas Restaurant  Tea Room  Thai Restaurant  Toy / Game Store  University  \n",
              "0                 0         0                0                 0           0  \n",
              "1                 0         0                0                 0           0  \n",
              "2                 0         0                0                 0           0  \n",
              "3                 0         0                0                 0           0  \n",
              "4                 0         0                0                 0           0  "
            ]
          },
          "metadata": {
            "tags": []
          },
          "execution_count": 55
        }
      ]
    },
    {
      "cell_type": "markdown",
      "metadata": {
        "id": "pLiO1KFwCB8m",
        "colab_type": "text"
      },
      "source": [
        "Let's examine the new Data frame size"
      ]
    },
    {
      "cell_type": "code",
      "metadata": {
        "id": "7RlDEhznCB8m",
        "colab_type": "code",
        "outputId": "64abf7cb-32c6-4361-feac-06d62292b936",
        "colab": {
          "base_uri": "https://localhost:8080/",
          "height": 34
        }
      },
      "source": [
        "central_toronto_onehot.shape"
      ],
      "execution_count": 56,
      "outputs": [
        {
          "output_type": "execute_result",
          "data": {
            "text/plain": [
              "(693, 55)"
            ]
          },
          "metadata": {
            "tags": []
          },
          "execution_count": 56
        }
      ]
    },
    {
      "cell_type": "markdown",
      "metadata": {
        "id": "acEovKOXCB8p",
        "colab_type": "text"
      },
      "source": [
        "**Next, let's group rows by neighborhood and by taking the mean of the frequency of occurrence of each category**"
      ]
    },
    {
      "cell_type": "code",
      "metadata": {
        "id": "FzQHo2JICB8p",
        "colab_type": "code",
        "outputId": "d5b02ed6-ca94-41e2-d0a5-98c1facfb331",
        "colab": {
          "base_uri": "https://localhost:8080/",
          "height": 586
        }
      },
      "source": [
        "central_toronto_grouped = central_toronto_onehot.groupby('Neighborhood').mean().reset_index()\n",
        "central_toronto_grouped"
      ],
      "execution_count": 57,
      "outputs": [
        {
          "output_type": "execute_result",
          "data": {
            "text/html": [
              "<div>\n",
              "<style scoped>\n",
              "    .dataframe tbody tr th:only-of-type {\n",
              "        vertical-align: middle;\n",
              "    }\n",
              "\n",
              "    .dataframe tbody tr th {\n",
              "        vertical-align: top;\n",
              "    }\n",
              "\n",
              "    .dataframe thead th {\n",
              "        text-align: right;\n",
              "    }\n",
              "</style>\n",
              "<table border=\"1\" class=\"dataframe\">\n",
              "  <thead>\n",
              "    <tr style=\"text-align: right;\">\n",
              "      <th></th>\n",
              "      <th>Neighborhood</th>\n",
              "      <th>Vegetarian / Vegan Restaurant</th>\n",
              "      <th>American Restaurant</th>\n",
              "      <th>Art Gallery</th>\n",
              "      <th>Art Museum</th>\n",
              "      <th>Arts &amp; Crafts Store</th>\n",
              "      <th>Asian Restaurant</th>\n",
              "      <th>Bar</th>\n",
              "      <th>Breakfast Spot</th>\n",
              "      <th>Bubble Tea Shop</th>\n",
              "      <th>Café</th>\n",
              "      <th>Chinese Restaurant</th>\n",
              "      <th>Coffee Shop</th>\n",
              "      <th>Concert Hall</th>\n",
              "      <th>Cosmetics Shop</th>\n",
              "      <th>Costume Shop</th>\n",
              "      <th>Dance Studio</th>\n",
              "      <th>Dessert Shop</th>\n",
              "      <th>Donut Shop</th>\n",
              "      <th>Food Court</th>\n",
              "      <th>French Restaurant</th>\n",
              "      <th>Gastropub</th>\n",
              "      <th>Gift Shop</th>\n",
              "      <th>Greek Restaurant</th>\n",
              "      <th>Gym</th>\n",
              "      <th>Hotel</th>\n",
              "      <th>Ice Cream Shop</th>\n",
              "      <th>Indian Restaurant</th>\n",
              "      <th>Japanese Restaurant</th>\n",
              "      <th>Jazz Club</th>\n",
              "      <th>Korean Restaurant</th>\n",
              "      <th>Middle Eastern Restaurant</th>\n",
              "      <th>Miscellaneous Shop</th>\n",
              "      <th>Modern European Restaurant</th>\n",
              "      <th>Monument / Landmark</th>\n",
              "      <th>Movie Theater</th>\n",
              "      <th>Office</th>\n",
              "      <th>Opera House</th>\n",
              "      <th>Park</th>\n",
              "      <th>Plaza</th>\n",
              "      <th>Poke Place</th>\n",
              "      <th>Pub</th>\n",
              "      <th>Ramen Restaurant</th>\n",
              "      <th>Record Shop</th>\n",
              "      <th>Restaurant</th>\n",
              "      <th>Salon / Barbershop</th>\n",
              "      <th>Seafood Restaurant</th>\n",
              "      <th>Smoke Shop</th>\n",
              "      <th>Steakhouse</th>\n",
              "      <th>Sushi Restaurant</th>\n",
              "      <th>Tapas Restaurant</th>\n",
              "      <th>Tea Room</th>\n",
              "      <th>Thai Restaurant</th>\n",
              "      <th>Toy / Game Store</th>\n",
              "      <th>University</th>\n",
              "    </tr>\n",
              "  </thead>\n",
              "  <tbody>\n",
              "    <tr>\n",
              "      <th>0</th>\n",
              "      <td>Davisville</td>\n",
              "      <td>0.012987</td>\n",
              "      <td>0.012987</td>\n",
              "      <td>0.038961</td>\n",
              "      <td>0.012987</td>\n",
              "      <td>0.012987</td>\n",
              "      <td>0.012987</td>\n",
              "      <td>0.025974</td>\n",
              "      <td>0.038961</td>\n",
              "      <td>0.025974</td>\n",
              "      <td>0.051948</td>\n",
              "      <td>0.025974</td>\n",
              "      <td>0.077922</td>\n",
              "      <td>0.012987</td>\n",
              "      <td>0.012987</td>\n",
              "      <td>0.012987</td>\n",
              "      <td>0.012987</td>\n",
              "      <td>0.012987</td>\n",
              "      <td>0.012987</td>\n",
              "      <td>0.012987</td>\n",
              "      <td>0.012987</td>\n",
              "      <td>0.012987</td>\n",
              "      <td>0.012987</td>\n",
              "      <td>0.012987</td>\n",
              "      <td>0.012987</td>\n",
              "      <td>0.025974</td>\n",
              "      <td>0.025974</td>\n",
              "      <td>0.012987</td>\n",
              "      <td>0.025974</td>\n",
              "      <td>0.012987</td>\n",
              "      <td>0.012987</td>\n",
              "      <td>0.012987</td>\n",
              "      <td>0.012987</td>\n",
              "      <td>0.012987</td>\n",
              "      <td>0.012987</td>\n",
              "      <td>0.012987</td>\n",
              "      <td>0.012987</td>\n",
              "      <td>0.012987</td>\n",
              "      <td>0.012987</td>\n",
              "      <td>0.012987</td>\n",
              "      <td>0.012987</td>\n",
              "      <td>0.012987</td>\n",
              "      <td>0.012987</td>\n",
              "      <td>0.012987</td>\n",
              "      <td>0.025974</td>\n",
              "      <td>0.012987</td>\n",
              "      <td>0.012987</td>\n",
              "      <td>0.012987</td>\n",
              "      <td>0.012987</td>\n",
              "      <td>0.038961</td>\n",
              "      <td>0.012987</td>\n",
              "      <td>0.025974</td>\n",
              "      <td>0.012987</td>\n",
              "      <td>0.012987</td>\n",
              "      <td>0.012987</td>\n",
              "    </tr>\n",
              "    <tr>\n",
              "      <th>1</th>\n",
              "      <td>Davisville North</td>\n",
              "      <td>0.012987</td>\n",
              "      <td>0.012987</td>\n",
              "      <td>0.038961</td>\n",
              "      <td>0.012987</td>\n",
              "      <td>0.012987</td>\n",
              "      <td>0.012987</td>\n",
              "      <td>0.025974</td>\n",
              "      <td>0.038961</td>\n",
              "      <td>0.025974</td>\n",
              "      <td>0.051948</td>\n",
              "      <td>0.025974</td>\n",
              "      <td>0.077922</td>\n",
              "      <td>0.012987</td>\n",
              "      <td>0.012987</td>\n",
              "      <td>0.012987</td>\n",
              "      <td>0.012987</td>\n",
              "      <td>0.012987</td>\n",
              "      <td>0.012987</td>\n",
              "      <td>0.012987</td>\n",
              "      <td>0.012987</td>\n",
              "      <td>0.012987</td>\n",
              "      <td>0.012987</td>\n",
              "      <td>0.012987</td>\n",
              "      <td>0.012987</td>\n",
              "      <td>0.025974</td>\n",
              "      <td>0.025974</td>\n",
              "      <td>0.012987</td>\n",
              "      <td>0.025974</td>\n",
              "      <td>0.012987</td>\n",
              "      <td>0.012987</td>\n",
              "      <td>0.012987</td>\n",
              "      <td>0.012987</td>\n",
              "      <td>0.012987</td>\n",
              "      <td>0.012987</td>\n",
              "      <td>0.012987</td>\n",
              "      <td>0.012987</td>\n",
              "      <td>0.012987</td>\n",
              "      <td>0.012987</td>\n",
              "      <td>0.012987</td>\n",
              "      <td>0.012987</td>\n",
              "      <td>0.012987</td>\n",
              "      <td>0.012987</td>\n",
              "      <td>0.012987</td>\n",
              "      <td>0.025974</td>\n",
              "      <td>0.012987</td>\n",
              "      <td>0.012987</td>\n",
              "      <td>0.012987</td>\n",
              "      <td>0.012987</td>\n",
              "      <td>0.038961</td>\n",
              "      <td>0.012987</td>\n",
              "      <td>0.025974</td>\n",
              "      <td>0.012987</td>\n",
              "      <td>0.012987</td>\n",
              "      <td>0.012987</td>\n",
              "    </tr>\n",
              "    <tr>\n",
              "      <th>2</th>\n",
              "      <td>Deer Park, Forest Hill SE, Rathnelly, South Hi...</td>\n",
              "      <td>0.012987</td>\n",
              "      <td>0.012987</td>\n",
              "      <td>0.038961</td>\n",
              "      <td>0.012987</td>\n",
              "      <td>0.012987</td>\n",
              "      <td>0.012987</td>\n",
              "      <td>0.025974</td>\n",
              "      <td>0.038961</td>\n",
              "      <td>0.025974</td>\n",
              "      <td>0.051948</td>\n",
              "      <td>0.025974</td>\n",
              "      <td>0.077922</td>\n",
              "      <td>0.012987</td>\n",
              "      <td>0.012987</td>\n",
              "      <td>0.012987</td>\n",
              "      <td>0.012987</td>\n",
              "      <td>0.012987</td>\n",
              "      <td>0.012987</td>\n",
              "      <td>0.012987</td>\n",
              "      <td>0.012987</td>\n",
              "      <td>0.012987</td>\n",
              "      <td>0.012987</td>\n",
              "      <td>0.012987</td>\n",
              "      <td>0.012987</td>\n",
              "      <td>0.025974</td>\n",
              "      <td>0.025974</td>\n",
              "      <td>0.012987</td>\n",
              "      <td>0.025974</td>\n",
              "      <td>0.012987</td>\n",
              "      <td>0.012987</td>\n",
              "      <td>0.012987</td>\n",
              "      <td>0.012987</td>\n",
              "      <td>0.012987</td>\n",
              "      <td>0.012987</td>\n",
              "      <td>0.012987</td>\n",
              "      <td>0.012987</td>\n",
              "      <td>0.012987</td>\n",
              "      <td>0.012987</td>\n",
              "      <td>0.012987</td>\n",
              "      <td>0.012987</td>\n",
              "      <td>0.012987</td>\n",
              "      <td>0.012987</td>\n",
              "      <td>0.012987</td>\n",
              "      <td>0.025974</td>\n",
              "      <td>0.012987</td>\n",
              "      <td>0.012987</td>\n",
              "      <td>0.012987</td>\n",
              "      <td>0.012987</td>\n",
              "      <td>0.038961</td>\n",
              "      <td>0.012987</td>\n",
              "      <td>0.025974</td>\n",
              "      <td>0.012987</td>\n",
              "      <td>0.012987</td>\n",
              "      <td>0.012987</td>\n",
              "    </tr>\n",
              "    <tr>\n",
              "      <th>3</th>\n",
              "      <td>Forest Hill North, Forest Hill West</td>\n",
              "      <td>0.012987</td>\n",
              "      <td>0.012987</td>\n",
              "      <td>0.038961</td>\n",
              "      <td>0.012987</td>\n",
              "      <td>0.012987</td>\n",
              "      <td>0.012987</td>\n",
              "      <td>0.025974</td>\n",
              "      <td>0.038961</td>\n",
              "      <td>0.025974</td>\n",
              "      <td>0.051948</td>\n",
              "      <td>0.025974</td>\n",
              "      <td>0.077922</td>\n",
              "      <td>0.012987</td>\n",
              "      <td>0.012987</td>\n",
              "      <td>0.012987</td>\n",
              "      <td>0.012987</td>\n",
              "      <td>0.012987</td>\n",
              "      <td>0.012987</td>\n",
              "      <td>0.012987</td>\n",
              "      <td>0.012987</td>\n",
              "      <td>0.012987</td>\n",
              "      <td>0.012987</td>\n",
              "      <td>0.012987</td>\n",
              "      <td>0.012987</td>\n",
              "      <td>0.025974</td>\n",
              "      <td>0.025974</td>\n",
              "      <td>0.012987</td>\n",
              "      <td>0.025974</td>\n",
              "      <td>0.012987</td>\n",
              "      <td>0.012987</td>\n",
              "      <td>0.012987</td>\n",
              "      <td>0.012987</td>\n",
              "      <td>0.012987</td>\n",
              "      <td>0.012987</td>\n",
              "      <td>0.012987</td>\n",
              "      <td>0.012987</td>\n",
              "      <td>0.012987</td>\n",
              "      <td>0.012987</td>\n",
              "      <td>0.012987</td>\n",
              "      <td>0.012987</td>\n",
              "      <td>0.012987</td>\n",
              "      <td>0.012987</td>\n",
              "      <td>0.012987</td>\n",
              "      <td>0.025974</td>\n",
              "      <td>0.012987</td>\n",
              "      <td>0.012987</td>\n",
              "      <td>0.012987</td>\n",
              "      <td>0.012987</td>\n",
              "      <td>0.038961</td>\n",
              "      <td>0.012987</td>\n",
              "      <td>0.025974</td>\n",
              "      <td>0.012987</td>\n",
              "      <td>0.012987</td>\n",
              "      <td>0.012987</td>\n",
              "    </tr>\n",
              "    <tr>\n",
              "      <th>4</th>\n",
              "      <td>Lawrence Park</td>\n",
              "      <td>0.012987</td>\n",
              "      <td>0.012987</td>\n",
              "      <td>0.038961</td>\n",
              "      <td>0.012987</td>\n",
              "      <td>0.012987</td>\n",
              "      <td>0.012987</td>\n",
              "      <td>0.025974</td>\n",
              "      <td>0.038961</td>\n",
              "      <td>0.025974</td>\n",
              "      <td>0.051948</td>\n",
              "      <td>0.025974</td>\n",
              "      <td>0.077922</td>\n",
              "      <td>0.012987</td>\n",
              "      <td>0.012987</td>\n",
              "      <td>0.012987</td>\n",
              "      <td>0.012987</td>\n",
              "      <td>0.012987</td>\n",
              "      <td>0.012987</td>\n",
              "      <td>0.012987</td>\n",
              "      <td>0.012987</td>\n",
              "      <td>0.012987</td>\n",
              "      <td>0.012987</td>\n",
              "      <td>0.012987</td>\n",
              "      <td>0.012987</td>\n",
              "      <td>0.025974</td>\n",
              "      <td>0.025974</td>\n",
              "      <td>0.012987</td>\n",
              "      <td>0.025974</td>\n",
              "      <td>0.012987</td>\n",
              "      <td>0.012987</td>\n",
              "      <td>0.012987</td>\n",
              "      <td>0.012987</td>\n",
              "      <td>0.012987</td>\n",
              "      <td>0.012987</td>\n",
              "      <td>0.012987</td>\n",
              "      <td>0.012987</td>\n",
              "      <td>0.012987</td>\n",
              "      <td>0.012987</td>\n",
              "      <td>0.012987</td>\n",
              "      <td>0.012987</td>\n",
              "      <td>0.012987</td>\n",
              "      <td>0.012987</td>\n",
              "      <td>0.012987</td>\n",
              "      <td>0.025974</td>\n",
              "      <td>0.012987</td>\n",
              "      <td>0.012987</td>\n",
              "      <td>0.012987</td>\n",
              "      <td>0.012987</td>\n",
              "      <td>0.038961</td>\n",
              "      <td>0.012987</td>\n",
              "      <td>0.025974</td>\n",
              "      <td>0.012987</td>\n",
              "      <td>0.012987</td>\n",
              "      <td>0.012987</td>\n",
              "    </tr>\n",
              "    <tr>\n",
              "      <th>5</th>\n",
              "      <td>Moore Park, Summerhill East</td>\n",
              "      <td>0.012987</td>\n",
              "      <td>0.012987</td>\n",
              "      <td>0.038961</td>\n",
              "      <td>0.012987</td>\n",
              "      <td>0.012987</td>\n",
              "      <td>0.012987</td>\n",
              "      <td>0.025974</td>\n",
              "      <td>0.038961</td>\n",
              "      <td>0.025974</td>\n",
              "      <td>0.051948</td>\n",
              "      <td>0.025974</td>\n",
              "      <td>0.077922</td>\n",
              "      <td>0.012987</td>\n",
              "      <td>0.012987</td>\n",
              "      <td>0.012987</td>\n",
              "      <td>0.012987</td>\n",
              "      <td>0.012987</td>\n",
              "      <td>0.012987</td>\n",
              "      <td>0.012987</td>\n",
              "      <td>0.012987</td>\n",
              "      <td>0.012987</td>\n",
              "      <td>0.012987</td>\n",
              "      <td>0.012987</td>\n",
              "      <td>0.012987</td>\n",
              "      <td>0.025974</td>\n",
              "      <td>0.025974</td>\n",
              "      <td>0.012987</td>\n",
              "      <td>0.025974</td>\n",
              "      <td>0.012987</td>\n",
              "      <td>0.012987</td>\n",
              "      <td>0.012987</td>\n",
              "      <td>0.012987</td>\n",
              "      <td>0.012987</td>\n",
              "      <td>0.012987</td>\n",
              "      <td>0.012987</td>\n",
              "      <td>0.012987</td>\n",
              "      <td>0.012987</td>\n",
              "      <td>0.012987</td>\n",
              "      <td>0.012987</td>\n",
              "      <td>0.012987</td>\n",
              "      <td>0.012987</td>\n",
              "      <td>0.012987</td>\n",
              "      <td>0.012987</td>\n",
              "      <td>0.025974</td>\n",
              "      <td>0.012987</td>\n",
              "      <td>0.012987</td>\n",
              "      <td>0.012987</td>\n",
              "      <td>0.012987</td>\n",
              "      <td>0.038961</td>\n",
              "      <td>0.012987</td>\n",
              "      <td>0.025974</td>\n",
              "      <td>0.012987</td>\n",
              "      <td>0.012987</td>\n",
              "      <td>0.012987</td>\n",
              "    </tr>\n",
              "    <tr>\n",
              "      <th>6</th>\n",
              "      <td>North Toronto West</td>\n",
              "      <td>0.012987</td>\n",
              "      <td>0.012987</td>\n",
              "      <td>0.038961</td>\n",
              "      <td>0.012987</td>\n",
              "      <td>0.012987</td>\n",
              "      <td>0.012987</td>\n",
              "      <td>0.025974</td>\n",
              "      <td>0.038961</td>\n",
              "      <td>0.025974</td>\n",
              "      <td>0.051948</td>\n",
              "      <td>0.025974</td>\n",
              "      <td>0.077922</td>\n",
              "      <td>0.012987</td>\n",
              "      <td>0.012987</td>\n",
              "      <td>0.012987</td>\n",
              "      <td>0.012987</td>\n",
              "      <td>0.012987</td>\n",
              "      <td>0.012987</td>\n",
              "      <td>0.012987</td>\n",
              "      <td>0.012987</td>\n",
              "      <td>0.012987</td>\n",
              "      <td>0.012987</td>\n",
              "      <td>0.012987</td>\n",
              "      <td>0.012987</td>\n",
              "      <td>0.025974</td>\n",
              "      <td>0.025974</td>\n",
              "      <td>0.012987</td>\n",
              "      <td>0.025974</td>\n",
              "      <td>0.012987</td>\n",
              "      <td>0.012987</td>\n",
              "      <td>0.012987</td>\n",
              "      <td>0.012987</td>\n",
              "      <td>0.012987</td>\n",
              "      <td>0.012987</td>\n",
              "      <td>0.012987</td>\n",
              "      <td>0.012987</td>\n",
              "      <td>0.012987</td>\n",
              "      <td>0.012987</td>\n",
              "      <td>0.012987</td>\n",
              "      <td>0.012987</td>\n",
              "      <td>0.012987</td>\n",
              "      <td>0.012987</td>\n",
              "      <td>0.012987</td>\n",
              "      <td>0.025974</td>\n",
              "      <td>0.012987</td>\n",
              "      <td>0.012987</td>\n",
              "      <td>0.012987</td>\n",
              "      <td>0.012987</td>\n",
              "      <td>0.038961</td>\n",
              "      <td>0.012987</td>\n",
              "      <td>0.025974</td>\n",
              "      <td>0.012987</td>\n",
              "      <td>0.012987</td>\n",
              "      <td>0.012987</td>\n",
              "    </tr>\n",
              "    <tr>\n",
              "      <th>7</th>\n",
              "      <td>Roselawn</td>\n",
              "      <td>0.012987</td>\n",
              "      <td>0.012987</td>\n",
              "      <td>0.038961</td>\n",
              "      <td>0.012987</td>\n",
              "      <td>0.012987</td>\n",
              "      <td>0.012987</td>\n",
              "      <td>0.025974</td>\n",
              "      <td>0.038961</td>\n",
              "      <td>0.025974</td>\n",
              "      <td>0.051948</td>\n",
              "      <td>0.025974</td>\n",
              "      <td>0.077922</td>\n",
              "      <td>0.012987</td>\n",
              "      <td>0.012987</td>\n",
              "      <td>0.012987</td>\n",
              "      <td>0.012987</td>\n",
              "      <td>0.012987</td>\n",
              "      <td>0.012987</td>\n",
              "      <td>0.012987</td>\n",
              "      <td>0.012987</td>\n",
              "      <td>0.012987</td>\n",
              "      <td>0.012987</td>\n",
              "      <td>0.012987</td>\n",
              "      <td>0.012987</td>\n",
              "      <td>0.025974</td>\n",
              "      <td>0.025974</td>\n",
              "      <td>0.012987</td>\n",
              "      <td>0.025974</td>\n",
              "      <td>0.012987</td>\n",
              "      <td>0.012987</td>\n",
              "      <td>0.012987</td>\n",
              "      <td>0.012987</td>\n",
              "      <td>0.012987</td>\n",
              "      <td>0.012987</td>\n",
              "      <td>0.012987</td>\n",
              "      <td>0.012987</td>\n",
              "      <td>0.012987</td>\n",
              "      <td>0.012987</td>\n",
              "      <td>0.012987</td>\n",
              "      <td>0.012987</td>\n",
              "      <td>0.012987</td>\n",
              "      <td>0.012987</td>\n",
              "      <td>0.012987</td>\n",
              "      <td>0.025974</td>\n",
              "      <td>0.012987</td>\n",
              "      <td>0.012987</td>\n",
              "      <td>0.012987</td>\n",
              "      <td>0.012987</td>\n",
              "      <td>0.038961</td>\n",
              "      <td>0.012987</td>\n",
              "      <td>0.025974</td>\n",
              "      <td>0.012987</td>\n",
              "      <td>0.012987</td>\n",
              "      <td>0.012987</td>\n",
              "    </tr>\n",
              "    <tr>\n",
              "      <th>8</th>\n",
              "      <td>The Annex, North Midtown, Yorkville</td>\n",
              "      <td>0.012987</td>\n",
              "      <td>0.012987</td>\n",
              "      <td>0.038961</td>\n",
              "      <td>0.012987</td>\n",
              "      <td>0.012987</td>\n",
              "      <td>0.012987</td>\n",
              "      <td>0.025974</td>\n",
              "      <td>0.038961</td>\n",
              "      <td>0.025974</td>\n",
              "      <td>0.051948</td>\n",
              "      <td>0.025974</td>\n",
              "      <td>0.077922</td>\n",
              "      <td>0.012987</td>\n",
              "      <td>0.012987</td>\n",
              "      <td>0.012987</td>\n",
              "      <td>0.012987</td>\n",
              "      <td>0.012987</td>\n",
              "      <td>0.012987</td>\n",
              "      <td>0.012987</td>\n",
              "      <td>0.012987</td>\n",
              "      <td>0.012987</td>\n",
              "      <td>0.012987</td>\n",
              "      <td>0.012987</td>\n",
              "      <td>0.012987</td>\n",
              "      <td>0.025974</td>\n",
              "      <td>0.025974</td>\n",
              "      <td>0.012987</td>\n",
              "      <td>0.025974</td>\n",
              "      <td>0.012987</td>\n",
              "      <td>0.012987</td>\n",
              "      <td>0.012987</td>\n",
              "      <td>0.012987</td>\n",
              "      <td>0.012987</td>\n",
              "      <td>0.012987</td>\n",
              "      <td>0.012987</td>\n",
              "      <td>0.012987</td>\n",
              "      <td>0.012987</td>\n",
              "      <td>0.012987</td>\n",
              "      <td>0.012987</td>\n",
              "      <td>0.012987</td>\n",
              "      <td>0.012987</td>\n",
              "      <td>0.012987</td>\n",
              "      <td>0.012987</td>\n",
              "      <td>0.025974</td>\n",
              "      <td>0.012987</td>\n",
              "      <td>0.012987</td>\n",
              "      <td>0.012987</td>\n",
              "      <td>0.012987</td>\n",
              "      <td>0.038961</td>\n",
              "      <td>0.012987</td>\n",
              "      <td>0.025974</td>\n",
              "      <td>0.012987</td>\n",
              "      <td>0.012987</td>\n",
              "      <td>0.012987</td>\n",
              "    </tr>\n",
              "  </tbody>\n",
              "</table>\n",
              "</div>"
            ],
            "text/plain": [
              "                                        Neighborhood  \\\n",
              "0                                         Davisville   \n",
              "1                                   Davisville North   \n",
              "2  Deer Park, Forest Hill SE, Rathnelly, South Hi...   \n",
              "3                Forest Hill North, Forest Hill West   \n",
              "4                                      Lawrence Park   \n",
              "5                        Moore Park, Summerhill East   \n",
              "6                                 North Toronto West   \n",
              "7                                           Roselawn   \n",
              "8                The Annex, North Midtown, Yorkville   \n",
              "\n",
              "   Vegetarian / Vegan Restaurant  American Restaurant  Art Gallery  \\\n",
              "0                       0.012987             0.012987     0.038961   \n",
              "1                       0.012987             0.012987     0.038961   \n",
              "2                       0.012987             0.012987     0.038961   \n",
              "3                       0.012987             0.012987     0.038961   \n",
              "4                       0.012987             0.012987     0.038961   \n",
              "5                       0.012987             0.012987     0.038961   \n",
              "6                       0.012987             0.012987     0.038961   \n",
              "7                       0.012987             0.012987     0.038961   \n",
              "8                       0.012987             0.012987     0.038961   \n",
              "\n",
              "   Art Museum  Arts & Crafts Store  Asian Restaurant       Bar  \\\n",
              "0    0.012987             0.012987          0.012987  0.025974   \n",
              "1    0.012987             0.012987          0.012987  0.025974   \n",
              "2    0.012987             0.012987          0.012987  0.025974   \n",
              "3    0.012987             0.012987          0.012987  0.025974   \n",
              "4    0.012987             0.012987          0.012987  0.025974   \n",
              "5    0.012987             0.012987          0.012987  0.025974   \n",
              "6    0.012987             0.012987          0.012987  0.025974   \n",
              "7    0.012987             0.012987          0.012987  0.025974   \n",
              "8    0.012987             0.012987          0.012987  0.025974   \n",
              "\n",
              "   Breakfast Spot  Bubble Tea Shop      Café  Chinese Restaurant  Coffee Shop  \\\n",
              "0        0.038961         0.025974  0.051948            0.025974     0.077922   \n",
              "1        0.038961         0.025974  0.051948            0.025974     0.077922   \n",
              "2        0.038961         0.025974  0.051948            0.025974     0.077922   \n",
              "3        0.038961         0.025974  0.051948            0.025974     0.077922   \n",
              "4        0.038961         0.025974  0.051948            0.025974     0.077922   \n",
              "5        0.038961         0.025974  0.051948            0.025974     0.077922   \n",
              "6        0.038961         0.025974  0.051948            0.025974     0.077922   \n",
              "7        0.038961         0.025974  0.051948            0.025974     0.077922   \n",
              "8        0.038961         0.025974  0.051948            0.025974     0.077922   \n",
              "\n",
              "   Concert Hall  Cosmetics Shop  Costume Shop  Dance Studio  Dessert Shop  \\\n",
              "0      0.012987        0.012987      0.012987      0.012987      0.012987   \n",
              "1      0.012987        0.012987      0.012987      0.012987      0.012987   \n",
              "2      0.012987        0.012987      0.012987      0.012987      0.012987   \n",
              "3      0.012987        0.012987      0.012987      0.012987      0.012987   \n",
              "4      0.012987        0.012987      0.012987      0.012987      0.012987   \n",
              "5      0.012987        0.012987      0.012987      0.012987      0.012987   \n",
              "6      0.012987        0.012987      0.012987      0.012987      0.012987   \n",
              "7      0.012987        0.012987      0.012987      0.012987      0.012987   \n",
              "8      0.012987        0.012987      0.012987      0.012987      0.012987   \n",
              "\n",
              "   Donut Shop  Food Court  French Restaurant  Gastropub  Gift Shop  \\\n",
              "0    0.012987    0.012987           0.012987   0.012987   0.012987   \n",
              "1    0.012987    0.012987           0.012987   0.012987   0.012987   \n",
              "2    0.012987    0.012987           0.012987   0.012987   0.012987   \n",
              "3    0.012987    0.012987           0.012987   0.012987   0.012987   \n",
              "4    0.012987    0.012987           0.012987   0.012987   0.012987   \n",
              "5    0.012987    0.012987           0.012987   0.012987   0.012987   \n",
              "6    0.012987    0.012987           0.012987   0.012987   0.012987   \n",
              "7    0.012987    0.012987           0.012987   0.012987   0.012987   \n",
              "8    0.012987    0.012987           0.012987   0.012987   0.012987   \n",
              "\n",
              "   Greek Restaurant       Gym     Hotel  Ice Cream Shop  Indian Restaurant  \\\n",
              "0          0.012987  0.012987  0.025974        0.025974           0.012987   \n",
              "1          0.012987  0.012987  0.025974        0.025974           0.012987   \n",
              "2          0.012987  0.012987  0.025974        0.025974           0.012987   \n",
              "3          0.012987  0.012987  0.025974        0.025974           0.012987   \n",
              "4          0.012987  0.012987  0.025974        0.025974           0.012987   \n",
              "5          0.012987  0.012987  0.025974        0.025974           0.012987   \n",
              "6          0.012987  0.012987  0.025974        0.025974           0.012987   \n",
              "7          0.012987  0.012987  0.025974        0.025974           0.012987   \n",
              "8          0.012987  0.012987  0.025974        0.025974           0.012987   \n",
              "\n",
              "   Japanese Restaurant  Jazz Club  Korean Restaurant  \\\n",
              "0             0.025974   0.012987           0.012987   \n",
              "1             0.025974   0.012987           0.012987   \n",
              "2             0.025974   0.012987           0.012987   \n",
              "3             0.025974   0.012987           0.012987   \n",
              "4             0.025974   0.012987           0.012987   \n",
              "5             0.025974   0.012987           0.012987   \n",
              "6             0.025974   0.012987           0.012987   \n",
              "7             0.025974   0.012987           0.012987   \n",
              "8             0.025974   0.012987           0.012987   \n",
              "\n",
              "   Middle Eastern Restaurant  Miscellaneous Shop  Modern European Restaurant  \\\n",
              "0                   0.012987            0.012987                    0.012987   \n",
              "1                   0.012987            0.012987                    0.012987   \n",
              "2                   0.012987            0.012987                    0.012987   \n",
              "3                   0.012987            0.012987                    0.012987   \n",
              "4                   0.012987            0.012987                    0.012987   \n",
              "5                   0.012987            0.012987                    0.012987   \n",
              "6                   0.012987            0.012987                    0.012987   \n",
              "7                   0.012987            0.012987                    0.012987   \n",
              "8                   0.012987            0.012987                    0.012987   \n",
              "\n",
              "   Monument / Landmark  Movie Theater    Office  Opera House      Park  \\\n",
              "0             0.012987       0.012987  0.012987     0.012987  0.012987   \n",
              "1             0.012987       0.012987  0.012987     0.012987  0.012987   \n",
              "2             0.012987       0.012987  0.012987     0.012987  0.012987   \n",
              "3             0.012987       0.012987  0.012987     0.012987  0.012987   \n",
              "4             0.012987       0.012987  0.012987     0.012987  0.012987   \n",
              "5             0.012987       0.012987  0.012987     0.012987  0.012987   \n",
              "6             0.012987       0.012987  0.012987     0.012987  0.012987   \n",
              "7             0.012987       0.012987  0.012987     0.012987  0.012987   \n",
              "8             0.012987       0.012987  0.012987     0.012987  0.012987   \n",
              "\n",
              "      Plaza  Poke Place       Pub  Ramen Restaurant  Record Shop  Restaurant  \\\n",
              "0  0.012987    0.012987  0.012987          0.012987     0.012987    0.025974   \n",
              "1  0.012987    0.012987  0.012987          0.012987     0.012987    0.025974   \n",
              "2  0.012987    0.012987  0.012987          0.012987     0.012987    0.025974   \n",
              "3  0.012987    0.012987  0.012987          0.012987     0.012987    0.025974   \n",
              "4  0.012987    0.012987  0.012987          0.012987     0.012987    0.025974   \n",
              "5  0.012987    0.012987  0.012987          0.012987     0.012987    0.025974   \n",
              "6  0.012987    0.012987  0.012987          0.012987     0.012987    0.025974   \n",
              "7  0.012987    0.012987  0.012987          0.012987     0.012987    0.025974   \n",
              "8  0.012987    0.012987  0.012987          0.012987     0.012987    0.025974   \n",
              "\n",
              "   Salon / Barbershop  Seafood Restaurant  Smoke Shop  Steakhouse  \\\n",
              "0            0.012987            0.012987    0.012987    0.012987   \n",
              "1            0.012987            0.012987    0.012987    0.012987   \n",
              "2            0.012987            0.012987    0.012987    0.012987   \n",
              "3            0.012987            0.012987    0.012987    0.012987   \n",
              "4            0.012987            0.012987    0.012987    0.012987   \n",
              "5            0.012987            0.012987    0.012987    0.012987   \n",
              "6            0.012987            0.012987    0.012987    0.012987   \n",
              "7            0.012987            0.012987    0.012987    0.012987   \n",
              "8            0.012987            0.012987    0.012987    0.012987   \n",
              "\n",
              "   Sushi Restaurant  Tapas Restaurant  Tea Room  Thai Restaurant  \\\n",
              "0          0.038961          0.012987  0.025974         0.012987   \n",
              "1          0.038961          0.012987  0.025974         0.012987   \n",
              "2          0.038961          0.012987  0.025974         0.012987   \n",
              "3          0.038961          0.012987  0.025974         0.012987   \n",
              "4          0.038961          0.012987  0.025974         0.012987   \n",
              "5          0.038961          0.012987  0.025974         0.012987   \n",
              "6          0.038961          0.012987  0.025974         0.012987   \n",
              "7          0.038961          0.012987  0.025974         0.012987   \n",
              "8          0.038961          0.012987  0.025974         0.012987   \n",
              "\n",
              "   Toy / Game Store  University  \n",
              "0          0.012987    0.012987  \n",
              "1          0.012987    0.012987  \n",
              "2          0.012987    0.012987  \n",
              "3          0.012987    0.012987  \n",
              "4          0.012987    0.012987  \n",
              "5          0.012987    0.012987  \n",
              "6          0.012987    0.012987  \n",
              "7          0.012987    0.012987  \n",
              "8          0.012987    0.012987  "
            ]
          },
          "metadata": {
            "tags": []
          },
          "execution_count": 57
        }
      ]
    },
    {
      "cell_type": "code",
      "metadata": {
        "id": "pK3Eqz0kCB8r",
        "colab_type": "code",
        "outputId": "d853e666-a4e7-49fe-b770-7be2afbc4297",
        "colab": {
          "base_uri": "https://localhost:8080/",
          "height": 34
        }
      },
      "source": [
        "central_toronto_grouped.shape"
      ],
      "execution_count": 58,
      "outputs": [
        {
          "output_type": "execute_result",
          "data": {
            "text/plain": [
              "(9, 55)"
            ]
          },
          "metadata": {
            "tags": []
          },
          "execution_count": 58
        }
      ]
    },
    {
      "cell_type": "markdown",
      "metadata": {
        "id": "E6PxPb56CB8s",
        "colab_type": "text"
      },
      "source": [
        "Let's print each neighborhood along with the top 5 most common venues"
      ]
    },
    {
      "cell_type": "code",
      "metadata": {
        "scrolled": true,
        "id": "WwIsNPEUCB8t",
        "colab_type": "code",
        "outputId": "18295706-1d5c-4408-f3c2-9e1bc17cb857",
        "colab": {
          "base_uri": "https://localhost:8080/",
          "height": 1000
        }
      },
      "source": [
        "num_top_venues = 5\n",
        "\n",
        "for hood in central_toronto_grouped['Neighborhood']:\n",
        "    print(\"----\"+hood+\"----\")\n",
        "    temp = central_toronto_grouped[central_toronto_grouped['Neighborhood'] == hood].T.reset_index()\n",
        "    temp.columns = ['venue','freq']\n",
        "    temp = temp.iloc[1:]\n",
        "    temp['freq'] = temp['freq'].astype(float)\n",
        "    temp = temp.round({'freq': 2})\n",
        "    print(temp.sort_values('freq', ascending=False).reset_index(drop=True).head(num_top_venues))\n",
        "    print('\\n')"
      ],
      "execution_count": 59,
      "outputs": [
        {
          "output_type": "stream",
          "text": [
            "----Davisville----\n",
            "              venue  freq\n",
            "0       Coffee Shop  0.08\n",
            "1              Café  0.05\n",
            "2       Art Gallery  0.04\n",
            "3  Sushi Restaurant  0.04\n",
            "4    Breakfast Spot  0.04\n",
            "\n",
            "\n",
            "----Davisville North----\n",
            "              venue  freq\n",
            "0       Coffee Shop  0.08\n",
            "1              Café  0.05\n",
            "2       Art Gallery  0.04\n",
            "3  Sushi Restaurant  0.04\n",
            "4    Breakfast Spot  0.04\n",
            "\n",
            "\n",
            "----Deer Park, Forest Hill SE, Rathnelly, South Hill, Summerhill West----\n",
            "              venue  freq\n",
            "0       Coffee Shop  0.08\n",
            "1              Café  0.05\n",
            "2       Art Gallery  0.04\n",
            "3  Sushi Restaurant  0.04\n",
            "4    Breakfast Spot  0.04\n",
            "\n",
            "\n",
            "----Forest Hill North, Forest Hill West----\n",
            "              venue  freq\n",
            "0       Coffee Shop  0.08\n",
            "1              Café  0.05\n",
            "2       Art Gallery  0.04\n",
            "3  Sushi Restaurant  0.04\n",
            "4    Breakfast Spot  0.04\n",
            "\n",
            "\n",
            "----Lawrence Park----\n",
            "              venue  freq\n",
            "0       Coffee Shop  0.08\n",
            "1              Café  0.05\n",
            "2       Art Gallery  0.04\n",
            "3  Sushi Restaurant  0.04\n",
            "4    Breakfast Spot  0.04\n",
            "\n",
            "\n",
            "----Moore Park, Summerhill East----\n",
            "              venue  freq\n",
            "0       Coffee Shop  0.08\n",
            "1              Café  0.05\n",
            "2       Art Gallery  0.04\n",
            "3  Sushi Restaurant  0.04\n",
            "4    Breakfast Spot  0.04\n",
            "\n",
            "\n",
            "----North Toronto West----\n",
            "              venue  freq\n",
            "0       Coffee Shop  0.08\n",
            "1              Café  0.05\n",
            "2       Art Gallery  0.04\n",
            "3  Sushi Restaurant  0.04\n",
            "4    Breakfast Spot  0.04\n",
            "\n",
            "\n",
            "----Roselawn----\n",
            "              venue  freq\n",
            "0       Coffee Shop  0.08\n",
            "1              Café  0.05\n",
            "2       Art Gallery  0.04\n",
            "3  Sushi Restaurant  0.04\n",
            "4    Breakfast Spot  0.04\n",
            "\n",
            "\n",
            "----The Annex, North Midtown, Yorkville----\n",
            "              venue  freq\n",
            "0       Coffee Shop  0.08\n",
            "1              Café  0.05\n",
            "2       Art Gallery  0.04\n",
            "3  Sushi Restaurant  0.04\n",
            "4    Breakfast Spot  0.04\n",
            "\n",
            "\n"
          ],
          "name": "stdout"
        }
      ]
    },
    {
      "cell_type": "markdown",
      "metadata": {
        "id": "6gArBFg2CB8u",
        "colab_type": "text"
      },
      "source": [
        "Lets put this into a Pandas Data frame"
      ]
    },
    {
      "cell_type": "markdown",
      "metadata": {
        "id": "Zacg5S7VCB8v",
        "colab_type": "text"
      },
      "source": [
        "first let's write a function tp sort the venues in descending order"
      ]
    },
    {
      "cell_type": "code",
      "metadata": {
        "id": "q0Qnmsw_CB8v",
        "colab_type": "code",
        "colab": {}
      },
      "source": [
        "def return_most_common_venues(row, num_top_venues):\n",
        "    row_categories = row.iloc[1:]\n",
        "    row_categories_sorted = row_categories.sort_values(ascending=False)\n",
        "    \n",
        "    return row_categories_sorted.index.values[0:num_top_venues]"
      ],
      "execution_count": 0,
      "outputs": []
    },
    {
      "cell_type": "markdown",
      "metadata": {
        "id": "8aaTNHwACB8x",
        "colab_type": "text"
      },
      "source": [
        "Next let's create the new Data frame and display the Top 10 venues for each neighborhood"
      ]
    },
    {
      "cell_type": "code",
      "metadata": {
        "id": "31cP3IpxCB8z",
        "colab_type": "code",
        "outputId": "74e77fc1-4a3d-4b98-b770-ba63d5f3cd6b",
        "colab": {
          "base_uri": "https://localhost:8080/",
          "height": 296
        }
      },
      "source": [
        "num_top_venues = 10\n",
        "\n",
        "indicators = ['st', 'nd', 'rd']\n",
        "\n",
        "# create columns according to number of top venues\n",
        "columns = ['Neighborhood']\n",
        "for ind in np.arange(num_top_venues):\n",
        "    try:\n",
        "        columns.append('{}{} Most Common Venue'.format(ind+1, indicators[ind]))\n",
        "    except:\n",
        "        columns.append('{}th Most Common Venue'.format(ind+1))\n",
        "\n",
        "# create a new dataframe\n",
        "neighborhoods_venues_sorted = pd.DataFrame(columns=columns)\n",
        "neighborhoods_venues_sorted['Neighborhood'] = central_toronto_grouped['Neighborhood']\n",
        "\n",
        "for ind in np.arange(central_toronto_grouped.shape[0]):\n",
        "    neighborhoods_venues_sorted.iloc[ind, 1:] = return_most_common_venues(central_toronto_grouped.iloc[ind, :], num_top_venues)\n",
        "\n",
        "neighborhoods_venues_sorted.head()"
      ],
      "execution_count": 61,
      "outputs": [
        {
          "output_type": "execute_result",
          "data": {
            "text/html": [
              "<div>\n",
              "<style scoped>\n",
              "    .dataframe tbody tr th:only-of-type {\n",
              "        vertical-align: middle;\n",
              "    }\n",
              "\n",
              "    .dataframe tbody tr th {\n",
              "        vertical-align: top;\n",
              "    }\n",
              "\n",
              "    .dataframe thead th {\n",
              "        text-align: right;\n",
              "    }\n",
              "</style>\n",
              "<table border=\"1\" class=\"dataframe\">\n",
              "  <thead>\n",
              "    <tr style=\"text-align: right;\">\n",
              "      <th></th>\n",
              "      <th>Neighborhood</th>\n",
              "      <th>1st Most Common Venue</th>\n",
              "      <th>2nd Most Common Venue</th>\n",
              "      <th>3rd Most Common Venue</th>\n",
              "      <th>4th Most Common Venue</th>\n",
              "      <th>5th Most Common Venue</th>\n",
              "      <th>6th Most Common Venue</th>\n",
              "      <th>7th Most Common Venue</th>\n",
              "      <th>8th Most Common Venue</th>\n",
              "      <th>9th Most Common Venue</th>\n",
              "      <th>10th Most Common Venue</th>\n",
              "    </tr>\n",
              "  </thead>\n",
              "  <tbody>\n",
              "    <tr>\n",
              "      <th>0</th>\n",
              "      <td>Davisville</td>\n",
              "      <td>Coffee Shop</td>\n",
              "      <td>Café</td>\n",
              "      <td>Art Gallery</td>\n",
              "      <td>Sushi Restaurant</td>\n",
              "      <td>Breakfast Spot</td>\n",
              "      <td>Restaurant</td>\n",
              "      <td>Ice Cream Shop</td>\n",
              "      <td>Japanese Restaurant</td>\n",
              "      <td>Chinese Restaurant</td>\n",
              "      <td>Bubble Tea Shop</td>\n",
              "    </tr>\n",
              "    <tr>\n",
              "      <th>1</th>\n",
              "      <td>Davisville North</td>\n",
              "      <td>Coffee Shop</td>\n",
              "      <td>Café</td>\n",
              "      <td>Art Gallery</td>\n",
              "      <td>Sushi Restaurant</td>\n",
              "      <td>Breakfast Spot</td>\n",
              "      <td>Restaurant</td>\n",
              "      <td>Ice Cream Shop</td>\n",
              "      <td>Japanese Restaurant</td>\n",
              "      <td>Chinese Restaurant</td>\n",
              "      <td>Bubble Tea Shop</td>\n",
              "    </tr>\n",
              "    <tr>\n",
              "      <th>2</th>\n",
              "      <td>Deer Park, Forest Hill SE, Rathnelly, South Hi...</td>\n",
              "      <td>Coffee Shop</td>\n",
              "      <td>Café</td>\n",
              "      <td>Art Gallery</td>\n",
              "      <td>Sushi Restaurant</td>\n",
              "      <td>Breakfast Spot</td>\n",
              "      <td>Restaurant</td>\n",
              "      <td>Ice Cream Shop</td>\n",
              "      <td>Japanese Restaurant</td>\n",
              "      <td>Chinese Restaurant</td>\n",
              "      <td>Bubble Tea Shop</td>\n",
              "    </tr>\n",
              "    <tr>\n",
              "      <th>3</th>\n",
              "      <td>Forest Hill North, Forest Hill West</td>\n",
              "      <td>Coffee Shop</td>\n",
              "      <td>Café</td>\n",
              "      <td>Art Gallery</td>\n",
              "      <td>Sushi Restaurant</td>\n",
              "      <td>Breakfast Spot</td>\n",
              "      <td>Restaurant</td>\n",
              "      <td>Ice Cream Shop</td>\n",
              "      <td>Japanese Restaurant</td>\n",
              "      <td>Chinese Restaurant</td>\n",
              "      <td>Bubble Tea Shop</td>\n",
              "    </tr>\n",
              "    <tr>\n",
              "      <th>4</th>\n",
              "      <td>Lawrence Park</td>\n",
              "      <td>Coffee Shop</td>\n",
              "      <td>Café</td>\n",
              "      <td>Art Gallery</td>\n",
              "      <td>Sushi Restaurant</td>\n",
              "      <td>Breakfast Spot</td>\n",
              "      <td>Restaurant</td>\n",
              "      <td>Ice Cream Shop</td>\n",
              "      <td>Japanese Restaurant</td>\n",
              "      <td>Chinese Restaurant</td>\n",
              "      <td>Bubble Tea Shop</td>\n",
              "    </tr>\n",
              "  </tbody>\n",
              "</table>\n",
              "</div>"
            ],
            "text/plain": [
              "                                        Neighborhood 1st Most Common Venue  \\\n",
              "0                                         Davisville           Coffee Shop   \n",
              "1                                   Davisville North           Coffee Shop   \n",
              "2  Deer Park, Forest Hill SE, Rathnelly, South Hi...           Coffee Shop   \n",
              "3                Forest Hill North, Forest Hill West           Coffee Shop   \n",
              "4                                      Lawrence Park           Coffee Shop   \n",
              "\n",
              "  2nd Most Common Venue 3rd Most Common Venue 4th Most Common Venue  \\\n",
              "0                  Café           Art Gallery      Sushi Restaurant   \n",
              "1                  Café           Art Gallery      Sushi Restaurant   \n",
              "2                  Café           Art Gallery      Sushi Restaurant   \n",
              "3                  Café           Art Gallery      Sushi Restaurant   \n",
              "4                  Café           Art Gallery      Sushi Restaurant   \n",
              "\n",
              "  5th Most Common Venue 6th Most Common Venue 7th Most Common Venue  \\\n",
              "0        Breakfast Spot            Restaurant        Ice Cream Shop   \n",
              "1        Breakfast Spot            Restaurant        Ice Cream Shop   \n",
              "2        Breakfast Spot            Restaurant        Ice Cream Shop   \n",
              "3        Breakfast Spot            Restaurant        Ice Cream Shop   \n",
              "4        Breakfast Spot            Restaurant        Ice Cream Shop   \n",
              "\n",
              "  8th Most Common Venue 9th Most Common Venue 10th Most Common Venue  \n",
              "0   Japanese Restaurant    Chinese Restaurant        Bubble Tea Shop  \n",
              "1   Japanese Restaurant    Chinese Restaurant        Bubble Tea Shop  \n",
              "2   Japanese Restaurant    Chinese Restaurant        Bubble Tea Shop  \n",
              "3   Japanese Restaurant    Chinese Restaurant        Bubble Tea Shop  \n",
              "4   Japanese Restaurant    Chinese Restaurant        Bubble Tea Shop  "
            ]
          },
          "metadata": {
            "tags": []
          },
          "execution_count": 61
        }
      ]
    },
    {
      "cell_type": "markdown",
      "metadata": {
        "id": "jtuF8lXgCB81",
        "colab_type": "text"
      },
      "source": [
        "### Cluster Neighborhoods"
      ]
    },
    {
      "cell_type": "code",
      "metadata": {
        "id": "KTBrMzJiCB82",
        "colab_type": "code",
        "colab": {}
      },
      "source": [
        "# import k-means from clustering stage\n",
        "from sklearn.cluster import KMeans"
      ],
      "execution_count": 0,
      "outputs": []
    },
    {
      "cell_type": "markdown",
      "metadata": {
        "id": "2e84BR9nCB83",
        "colab_type": "text"
      },
      "source": [
        "Run k-means to cluster the neighborhood into 5 clusters."
      ]
    },
    {
      "cell_type": "code",
      "metadata": {
        "id": "taKLUkngCB84",
        "colab_type": "code",
        "outputId": "ca240f04-9ffa-48f7-e617-0c8c04b81b5f",
        "colab": {
          "base_uri": "https://localhost:8080/",
          "height": 87
        }
      },
      "source": [
        "# set number of clusters\n",
        "kclusters = 5\n",
        "\n",
        "c_toronto_grouped_clustering = central_toronto_grouped.drop('Neighborhood', 1)\n",
        "\n",
        "# run k-means clustering\n",
        "kmeans = KMeans(n_clusters=kclusters, random_state=0).fit(c_toronto_grouped_clustering)\n",
        "\n",
        "# check cluster labels generated for each row in the dataframe\n",
        "kmeans.labels_[0:10] "
      ],
      "execution_count": 63,
      "outputs": [
        {
          "output_type": "stream",
          "text": [
            "/usr/local/lib/python3.6/dist-packages/sklearn/cluster/k_means_.py:969: ConvergenceWarning: Number of distinct clusters (1) found smaller than n_clusters (5). Possibly due to duplicate points in X.\n",
            "  return_n_iter=True)\n"
          ],
          "name": "stderr"
        },
        {
          "output_type": "execute_result",
          "data": {
            "text/plain": [
              "array([0, 0, 0, 0, 0, 0, 0, 0, 0], dtype=int32)"
            ]
          },
          "metadata": {
            "tags": []
          },
          "execution_count": 63
        }
      ]
    },
    {
      "cell_type": "markdown",
      "metadata": {
        "id": "3IQY0HCJEkvK",
        "colab_type": "text"
      },
      "source": [
        "Let's create a new dataframe that includes the cluster as well as the top 10 venues for each neighborhood."
      ]
    },
    {
      "cell_type": "code",
      "metadata": {
        "id": "_kl4atsiCB85",
        "colab_type": "code",
        "outputId": "ffb1b48a-2f8f-4396-e029-bfc9358bdd88",
        "colab": {
          "base_uri": "https://localhost:8080/",
          "height": 330
        }
      },
      "source": [
        "# add clustering labels\n",
        "neighborhoods_venues_sorted.insert(0, 'Cluster Labels', kmeans.labels_)\n",
        "\n",
        "c_toronto_merged = central_toronto_df\n",
        "\n",
        "# merge toronto_grouped with toronto_data to add latitude/longitude for each neighborhood\n",
        "c_toronto_merged = c_toronto_merged.join(neighborhoods_venues_sorted.set_index('Neighborhood'), on='Neighborhood')\n",
        "\n",
        "c_toronto_merged.head() # check the last columns!"
      ],
      "execution_count": 64,
      "outputs": [
        {
          "output_type": "execute_result",
          "data": {
            "text/html": [
              "<div>\n",
              "<style scoped>\n",
              "    .dataframe tbody tr th:only-of-type {\n",
              "        vertical-align: middle;\n",
              "    }\n",
              "\n",
              "    .dataframe tbody tr th {\n",
              "        vertical-align: top;\n",
              "    }\n",
              "\n",
              "    .dataframe thead th {\n",
              "        text-align: right;\n",
              "    }\n",
              "</style>\n",
              "<table border=\"1\" class=\"dataframe\">\n",
              "  <thead>\n",
              "    <tr style=\"text-align: right;\">\n",
              "      <th></th>\n",
              "      <th>PostalCode</th>\n",
              "      <th>Borough</th>\n",
              "      <th>Neighborhood</th>\n",
              "      <th>Latitude</th>\n",
              "      <th>Longitude</th>\n",
              "      <th>Cluster Labels</th>\n",
              "      <th>1st Most Common Venue</th>\n",
              "      <th>2nd Most Common Venue</th>\n",
              "      <th>3rd Most Common Venue</th>\n",
              "      <th>4th Most Common Venue</th>\n",
              "      <th>5th Most Common Venue</th>\n",
              "      <th>6th Most Common Venue</th>\n",
              "      <th>7th Most Common Venue</th>\n",
              "      <th>8th Most Common Venue</th>\n",
              "      <th>9th Most Common Venue</th>\n",
              "      <th>10th Most Common Venue</th>\n",
              "    </tr>\n",
              "  </thead>\n",
              "  <tbody>\n",
              "    <tr>\n",
              "      <th>17</th>\n",
              "      <td>M4N</td>\n",
              "      <td>Central Toronto</td>\n",
              "      <td>Lawrence Park</td>\n",
              "      <td>43.654</td>\n",
              "      <td>-79.387207</td>\n",
              "      <td>0</td>\n",
              "      <td>Coffee Shop</td>\n",
              "      <td>Café</td>\n",
              "      <td>Art Gallery</td>\n",
              "      <td>Sushi Restaurant</td>\n",
              "      <td>Breakfast Spot</td>\n",
              "      <td>Restaurant</td>\n",
              "      <td>Ice Cream Shop</td>\n",
              "      <td>Japanese Restaurant</td>\n",
              "      <td>Chinese Restaurant</td>\n",
              "      <td>Bubble Tea Shop</td>\n",
              "    </tr>\n",
              "    <tr>\n",
              "      <th>18</th>\n",
              "      <td>M5N</td>\n",
              "      <td>Central Toronto</td>\n",
              "      <td>Roselawn</td>\n",
              "      <td>43.654</td>\n",
              "      <td>-79.387207</td>\n",
              "      <td>0</td>\n",
              "      <td>Coffee Shop</td>\n",
              "      <td>Café</td>\n",
              "      <td>Art Gallery</td>\n",
              "      <td>Sushi Restaurant</td>\n",
              "      <td>Breakfast Spot</td>\n",
              "      <td>Restaurant</td>\n",
              "      <td>Ice Cream Shop</td>\n",
              "      <td>Japanese Restaurant</td>\n",
              "      <td>Chinese Restaurant</td>\n",
              "      <td>Bubble Tea Shop</td>\n",
              "    </tr>\n",
              "    <tr>\n",
              "      <th>19</th>\n",
              "      <td>M4P</td>\n",
              "      <td>Central Toronto</td>\n",
              "      <td>Davisville North</td>\n",
              "      <td>43.654</td>\n",
              "      <td>-79.387207</td>\n",
              "      <td>0</td>\n",
              "      <td>Coffee Shop</td>\n",
              "      <td>Café</td>\n",
              "      <td>Art Gallery</td>\n",
              "      <td>Sushi Restaurant</td>\n",
              "      <td>Breakfast Spot</td>\n",
              "      <td>Restaurant</td>\n",
              "      <td>Ice Cream Shop</td>\n",
              "      <td>Japanese Restaurant</td>\n",
              "      <td>Chinese Restaurant</td>\n",
              "      <td>Bubble Tea Shop</td>\n",
              "    </tr>\n",
              "    <tr>\n",
              "      <th>20</th>\n",
              "      <td>M5P</td>\n",
              "      <td>Central Toronto</td>\n",
              "      <td>Forest Hill North, Forest Hill West</td>\n",
              "      <td>43.654</td>\n",
              "      <td>-79.387207</td>\n",
              "      <td>0</td>\n",
              "      <td>Coffee Shop</td>\n",
              "      <td>Café</td>\n",
              "      <td>Art Gallery</td>\n",
              "      <td>Sushi Restaurant</td>\n",
              "      <td>Breakfast Spot</td>\n",
              "      <td>Restaurant</td>\n",
              "      <td>Ice Cream Shop</td>\n",
              "      <td>Japanese Restaurant</td>\n",
              "      <td>Chinese Restaurant</td>\n",
              "      <td>Bubble Tea Shop</td>\n",
              "    </tr>\n",
              "    <tr>\n",
              "      <th>22</th>\n",
              "      <td>M4R</td>\n",
              "      <td>Central Toronto</td>\n",
              "      <td>North Toronto West</td>\n",
              "      <td>43.654</td>\n",
              "      <td>-79.387207</td>\n",
              "      <td>0</td>\n",
              "      <td>Coffee Shop</td>\n",
              "      <td>Café</td>\n",
              "      <td>Art Gallery</td>\n",
              "      <td>Sushi Restaurant</td>\n",
              "      <td>Breakfast Spot</td>\n",
              "      <td>Restaurant</td>\n",
              "      <td>Ice Cream Shop</td>\n",
              "      <td>Japanese Restaurant</td>\n",
              "      <td>Chinese Restaurant</td>\n",
              "      <td>Bubble Tea Shop</td>\n",
              "    </tr>\n",
              "  </tbody>\n",
              "</table>\n",
              "</div>"
            ],
            "text/plain": [
              "   PostalCode          Borough                         Neighborhood Latitude  \\\n",
              "17        M4N  Central Toronto                        Lawrence Park   43.654   \n",
              "18        M5N  Central Toronto                             Roselawn   43.654   \n",
              "19        M4P  Central Toronto                     Davisville North   43.654   \n",
              "20        M5P  Central Toronto  Forest Hill North, Forest Hill West   43.654   \n",
              "22        M4R  Central Toronto                   North Toronto West   43.654   \n",
              "\n",
              "    Longitude  Cluster Labels 1st Most Common Venue 2nd Most Common Venue  \\\n",
              "17 -79.387207               0           Coffee Shop                  Café   \n",
              "18 -79.387207               0           Coffee Shop                  Café   \n",
              "19 -79.387207               0           Coffee Shop                  Café   \n",
              "20 -79.387207               0           Coffee Shop                  Café   \n",
              "22 -79.387207               0           Coffee Shop                  Café   \n",
              "\n",
              "   3rd Most Common Venue 4th Most Common Venue 5th Most Common Venue  \\\n",
              "17           Art Gallery      Sushi Restaurant        Breakfast Spot   \n",
              "18           Art Gallery      Sushi Restaurant        Breakfast Spot   \n",
              "19           Art Gallery      Sushi Restaurant        Breakfast Spot   \n",
              "20           Art Gallery      Sushi Restaurant        Breakfast Spot   \n",
              "22           Art Gallery      Sushi Restaurant        Breakfast Spot   \n",
              "\n",
              "   6th Most Common Venue 7th Most Common Venue 8th Most Common Venue  \\\n",
              "17            Restaurant        Ice Cream Shop   Japanese Restaurant   \n",
              "18            Restaurant        Ice Cream Shop   Japanese Restaurant   \n",
              "19            Restaurant        Ice Cream Shop   Japanese Restaurant   \n",
              "20            Restaurant        Ice Cream Shop   Japanese Restaurant   \n",
              "22            Restaurant        Ice Cream Shop   Japanese Restaurant   \n",
              "\n",
              "   9th Most Common Venue 10th Most Common Venue  \n",
              "17    Chinese Restaurant        Bubble Tea Shop  \n",
              "18    Chinese Restaurant        Bubble Tea Shop  \n",
              "19    Chinese Restaurant        Bubble Tea Shop  \n",
              "20    Chinese Restaurant        Bubble Tea Shop  \n",
              "22    Chinese Restaurant        Bubble Tea Shop  "
            ]
          },
          "metadata": {
            "tags": []
          },
          "execution_count": 64
        }
      ]
    },
    {
      "cell_type": "markdown",
      "metadata": {
        "id": "U_U2eakHE3xl",
        "colab_type": "text"
      },
      "source": [
        "Finally, let's visualize the resulting clusters"
      ]
    },
    {
      "cell_type": "code",
      "metadata": {
        "id": "BRsbCX2ME4RI",
        "colab_type": "code",
        "outputId": "38b39e37-320a-4b63-fe73-463901443dbc",
        "colab": {
          "base_uri": "https://localhost:8080/",
          "height": 858
        }
      },
      "source": [
        "# create map\n",
        "map_clusters = folium.Map(location=[latitude, longitude], zoom_start=11)\n",
        "\n",
        "# set color scheme for the clusters\n",
        "x = np.arange(kclusters)\n",
        "ys = [i + x + (i*x)**2 for i in range(kclusters)]\n",
        "colors_array = cm.rainbow(np.linspace(0, 1, len(ys)))\n",
        "rainbow = [colors.rgb2hex(i) for i in colors_array]\n",
        "\n",
        "# add markers to the map\n",
        "markers_colors = []\n",
        "for lat, lon, poi, cluster in zip(c_toronto_merged['Latitude'], c_toronto_merged['Longitude'], c_toronto_merged['Neighborhood'], c_toronto_merged['Cluster Labels']):\n",
        "    label = folium.Popup(str(poi) + ' Cluster ' + str(cluster), parse_html=True)\n",
        "    folium.CircleMarker(\n",
        "        [lat, lon],\n",
        "        radius=5,\n",
        "        popup=label,\n",
        "        color=rainbow[cluster-1],\n",
        "        fill=True,\n",
        "        fill_color=rainbow[cluster-1],\n",
        "        fill_opacity=0.7).add_to(map_clusters)\n",
        "       \n",
        "map_clusters"
      ],
      "execution_count": 65,
      "outputs": [
        {
          "output_type": "execute_result",
          "data": {
            "text/html": [
              "<div style=\"width:100%;\"><div style=\"position:relative;width:100%;height:0;padding-bottom:60%;\"><iframe src=\"data:text/html;charset=utf-8;base64,PCFET0NUWVBFIGh0bWw+CjxoZWFkPiAgICAKICAgIDxtZXRhIGh0dHAtZXF1aXY9ImNvbnRlbnQtdHlwZSIgY29udGVudD0idGV4dC9odG1sOyBjaGFyc2V0PVVURi04IiAvPgogICAgPHNjcmlwdD5MX1BSRUZFUl9DQU5WQVM9ZmFsc2U7IExfTk9fVE9VQ0g9ZmFsc2U7IExfRElTQUJMRV8zRD1mYWxzZTs8L3NjcmlwdD4KICAgIDxzY3JpcHQgc3JjPSJodHRwczovL2Nkbi5qc2RlbGl2ci5uZXQvbnBtL2xlYWZsZXRAMS40LjAvZGlzdC9sZWFmbGV0LmpzIj48L3NjcmlwdD4KICAgIDxzY3JpcHQgc3JjPSJodHRwczovL2NvZGUuanF1ZXJ5LmNvbS9qcXVlcnktMS4xMi40Lm1pbi5qcyI+PC9zY3JpcHQ+CiAgICA8c2NyaXB0IHNyYz0iaHR0cHM6Ly9tYXhjZG4uYm9vdHN0cmFwY2RuLmNvbS9ib290c3RyYXAvMy4yLjAvanMvYm9vdHN0cmFwLm1pbi5qcyI+PC9zY3JpcHQ+CiAgICA8c2NyaXB0IHNyYz0iaHR0cHM6Ly9jZG5qcy5jbG91ZGZsYXJlLmNvbS9hamF4L2xpYnMvTGVhZmxldC5hd2Vzb21lLW1hcmtlcnMvMi4wLjIvbGVhZmxldC5hd2Vzb21lLW1hcmtlcnMuanMiPjwvc2NyaXB0PgogICAgPGxpbmsgcmVsPSJzdHlsZXNoZWV0IiBocmVmPSJodHRwczovL2Nkbi5qc2RlbGl2ci5uZXQvbnBtL2xlYWZsZXRAMS40LjAvZGlzdC9sZWFmbGV0LmNzcyIvPgogICAgPGxpbmsgcmVsPSJzdHlsZXNoZWV0IiBocmVmPSJodHRwczovL21heGNkbi5ib290c3RyYXBjZG4uY29tL2Jvb3RzdHJhcC8zLjIuMC9jc3MvYm9vdHN0cmFwLm1pbi5jc3MiLz4KICAgIDxsaW5rIHJlbD0ic3R5bGVzaGVldCIgaHJlZj0iaHR0cHM6Ly9tYXhjZG4uYm9vdHN0cmFwY2RuLmNvbS9ib290c3RyYXAvMy4yLjAvY3NzL2Jvb3RzdHJhcC10aGVtZS5taW4uY3NzIi8+CiAgICA8bGluayByZWw9InN0eWxlc2hlZXQiIGhyZWY9Imh0dHBzOi8vbWF4Y2RuLmJvb3RzdHJhcGNkbi5jb20vZm9udC1hd2Vzb21lLzQuNi4zL2Nzcy9mb250LWF3ZXNvbWUubWluLmNzcyIvPgogICAgPGxpbmsgcmVsPSJzdHlsZXNoZWV0IiBocmVmPSJodHRwczovL2NkbmpzLmNsb3VkZmxhcmUuY29tL2FqYXgvbGlicy9MZWFmbGV0LmF3ZXNvbWUtbWFya2Vycy8yLjAuMi9sZWFmbGV0LmF3ZXNvbWUtbWFya2Vycy5jc3MiLz4KICAgIDxsaW5rIHJlbD0ic3R5bGVzaGVldCIgaHJlZj0iaHR0cHM6Ly9yYXdjZG4uZ2l0aGFjay5jb20vcHl0aG9uLXZpc3VhbGl6YXRpb24vZm9saXVtL21hc3Rlci9mb2xpdW0vdGVtcGxhdGVzL2xlYWZsZXQuYXdlc29tZS5yb3RhdGUuY3NzIi8+CiAgICA8c3R5bGU+aHRtbCwgYm9keSB7d2lkdGg6IDEwMCU7aGVpZ2h0OiAxMDAlO21hcmdpbjogMDtwYWRkaW5nOiAwO308L3N0eWxlPgogICAgPHN0eWxlPiNtYXAge3Bvc2l0aW9uOmFic29sdXRlO3RvcDowO2JvdHRvbTowO3JpZ2h0OjA7bGVmdDowO308L3N0eWxlPgogICAgCiAgICA8bWV0YSBuYW1lPSJ2aWV3cG9ydCIgY29udGVudD0id2lkdGg9ZGV2aWNlLXdpZHRoLAogICAgICAgIGluaXRpYWwtc2NhbGU9MS4wLCBtYXhpbXVtLXNjYWxlPTEuMCwgdXNlci1zY2FsYWJsZT1ubyIgLz4KICAgIDxzdHlsZT4jbWFwXzRkZTExZWM1ODQ2YjRmMzJiYzZmZDBmNTUzZDYxOWY4IHsKICAgICAgICBwb3NpdGlvbjogcmVsYXRpdmU7CiAgICAgICAgd2lkdGg6IDEwMC4wJTsKICAgICAgICBoZWlnaHQ6IDEwMC4wJTsKICAgICAgICBsZWZ0OiAwLjAlOwogICAgICAgIHRvcDogMC4wJTsKICAgICAgICB9CiAgICA8L3N0eWxlPgo8L2hlYWQ+Cjxib2R5PiAgICAKICAgIAogICAgPGRpdiBjbGFzcz0iZm9saXVtLW1hcCIgaWQ9Im1hcF80ZGUxMWVjNTg0NmI0ZjMyYmM2ZmQwZjU1M2Q2MTlmOCIgPjwvZGl2Pgo8L2JvZHk+CjxzY3JpcHQ+ICAgIAogICAgCiAgICAKICAgICAgICB2YXIgYm91bmRzID0gbnVsbDsKICAgIAoKICAgIHZhciBtYXBfNGRlMTFlYzU4NDZiNGYzMmJjNmZkMGY1NTNkNjE5ZjggPSBMLm1hcCgKICAgICAgICAnbWFwXzRkZTExZWM1ODQ2YjRmMzJiYzZmZDBmNTUzZDYxOWY4JywgewogICAgICAgIGNlbnRlcjogWzQzLjY1Mzk2MywgLTc5LjM4NzIwN10sCiAgICAgICAgem9vbTogMTEsCiAgICAgICAgbWF4Qm91bmRzOiBib3VuZHMsCiAgICAgICAgbGF5ZXJzOiBbXSwKICAgICAgICB3b3JsZENvcHlKdW1wOiBmYWxzZSwKICAgICAgICBjcnM6IEwuQ1JTLkVQU0czODU3LAogICAgICAgIHpvb21Db250cm9sOiB0cnVlLAogICAgICAgIH0pOwoKCiAgICAKICAgIHZhciB0aWxlX2xheWVyX2YyYTJmOGVjNGY4ZjQxMjE5YmI2ZGRmZTQ0NmU5MDMyID0gTC50aWxlTGF5ZXIoCiAgICAgICAgJ2h0dHBzOi8ve3N9LnRpbGUub3BlbnN0cmVldG1hcC5vcmcve3p9L3t4fS97eX0ucG5nJywKICAgICAgICB7CiAgICAgICAgImF0dHJpYnV0aW9uIjogbnVsbCwKICAgICAgICAiZGV0ZWN0UmV0aW5hIjogZmFsc2UsCiAgICAgICAgIm1heE5hdGl2ZVpvb20iOiAxOCwKICAgICAgICAibWF4Wm9vbSI6IDE4LAogICAgICAgICJtaW5ab29tIjogMCwKICAgICAgICAibm9XcmFwIjogZmFsc2UsCiAgICAgICAgIm9wYWNpdHkiOiAxLAogICAgICAgICJzdWJkb21haW5zIjogImFiYyIsCiAgICAgICAgInRtcyI6IGZhbHNlCn0pLmFkZFRvKG1hcF80ZGUxMWVjNTg0NmI0ZjMyYmM2ZmQwZjU1M2Q2MTlmOCk7CiAgICAKICAgICAgICAgICAgdmFyIGNpcmNsZV9tYXJrZXJfNGFjNTZlYmEzZWRhNGYzZjk3ODhiYjM1ODZkMzZhOWUgPSBMLmNpcmNsZU1hcmtlcigKICAgICAgICAgICAgICAgIFs0My42NTM5NjMsIC03OS4zODcyMDddLAogICAgICAgICAgICAgICAgewogICJidWJibGluZ01vdXNlRXZlbnRzIjogdHJ1ZSwKICAiY29sb3IiOiAiI2ZmMDAwMCIsCiAgImRhc2hBcnJheSI6IG51bGwsCiAgImRhc2hPZmZzZXQiOiBudWxsLAogICJmaWxsIjogdHJ1ZSwKICAiZmlsbENvbG9yIjogIiNmZjAwMDAiLAogICJmaWxsT3BhY2l0eSI6IDAuNywKICAiZmlsbFJ1bGUiOiAiZXZlbm9kZCIsCiAgImxpbmVDYXAiOiAicm91bmQiLAogICJsaW5lSm9pbiI6ICJyb3VuZCIsCiAgIm9wYWNpdHkiOiAxLjAsCiAgInJhZGl1cyI6IDUsCiAgInN0cm9rZSI6IHRydWUsCiAgIndlaWdodCI6IDMKfQogICAgICAgICAgICAgICAgKQogICAgICAgICAgICAgICAgLmFkZFRvKG1hcF80ZGUxMWVjNTg0NmI0ZjMyYmM2ZmQwZjU1M2Q2MTlmOCk7CiAgICAgICAgICAgIAogICAgCiAgICAgICAgICAgIHZhciBwb3B1cF84YjNmMWFjMDNlOTQ0MjI4YTA2YzMwYTg3ZjRlMjZlMyA9IEwucG9wdXAoe21heFdpZHRoOiAnMTAwJScKICAgICAgICAgICAgCiAgICAgICAgICAgIH0pOwoKICAgICAgICAgICAgCiAgICAgICAgICAgICAgICB2YXIgaHRtbF9lNTNiMGY2YWVkNjA0MjgzYTU0MzNhYWJjN2NlNmUxNyA9ICQoYDxkaXYgaWQ9Imh0bWxfZTUzYjBmNmFlZDYwNDI4M2E1NDMzYWFiYzdjZTZlMTciIHN0eWxlPSJ3aWR0aDogMTAwLjAlOyBoZWlnaHQ6IDEwMC4wJTsiPkxhd3JlbmNlIFBhcmsgQ2x1c3RlciAwPC9kaXY+YClbMF07CiAgICAgICAgICAgICAgICBwb3B1cF84YjNmMWFjMDNlOTQ0MjI4YTA2YzMwYTg3ZjRlMjZlMy5zZXRDb250ZW50KGh0bWxfZTUzYjBmNmFlZDYwNDI4M2E1NDMzYWFiYzdjZTZlMTcpOwogICAgICAgICAgICAKCiAgICAgICAgICAgIGNpcmNsZV9tYXJrZXJfNGFjNTZlYmEzZWRhNGYzZjk3ODhiYjM1ODZkMzZhOWUuYmluZFBvcHVwKHBvcHVwXzhiM2YxYWMwM2U5NDQyMjhhMDZjMzBhODdmNGUyNmUzKQogICAgICAgICAgICA7CgogICAgICAgICAgICAKICAgICAgICAKICAgIAogICAgICAgICAgICB2YXIgY2lyY2xlX21hcmtlcl83ZjExNWQ0NTYzZTU0NWE5YjEzNTk2YjlkN2RlOTNkOSA9IEwuY2lyY2xlTWFya2VyKAogICAgICAgICAgICAgICAgWzQzLjY1Mzk2MywgLTc5LjM4NzIwN10sCiAgICAgICAgICAgICAgICB7CiAgImJ1YmJsaW5nTW91c2VFdmVudHMiOiB0cnVlLAogICJjb2xvciI6ICIjZmYwMDAwIiwKICAiZGFzaEFycmF5IjogbnVsbCwKICAiZGFzaE9mZnNldCI6IG51bGwsCiAgImZpbGwiOiB0cnVlLAogICJmaWxsQ29sb3IiOiAiI2ZmMDAwMCIsCiAgImZpbGxPcGFjaXR5IjogMC43LAogICJmaWxsUnVsZSI6ICJldmVub2RkIiwKICAibGluZUNhcCI6ICJyb3VuZCIsCiAgImxpbmVKb2luIjogInJvdW5kIiwKICAib3BhY2l0eSI6IDEuMCwKICAicmFkaXVzIjogNSwKICAic3Ryb2tlIjogdHJ1ZSwKICAid2VpZ2h0IjogMwp9CiAgICAgICAgICAgICAgICApCiAgICAgICAgICAgICAgICAuYWRkVG8obWFwXzRkZTExZWM1ODQ2YjRmMzJiYzZmZDBmNTUzZDYxOWY4KTsKICAgICAgICAgICAgCiAgICAKICAgICAgICAgICAgdmFyIHBvcHVwXzI1MzgxYTcyMmMzMjQzNGRiODFjNzY4MDAxODUxYWM4ID0gTC5wb3B1cCh7bWF4V2lkdGg6ICcxMDAlJwogICAgICAgICAgICAKICAgICAgICAgICAgfSk7CgogICAgICAgICAgICAKICAgICAgICAgICAgICAgIHZhciBodG1sX2JhNjk5NTgzZmEyMzRiZmY4ZjY4NGVjNWM3NTQ1MGNlID0gJChgPGRpdiBpZD0iaHRtbF9iYTY5OTU4M2ZhMjM0YmZmOGY2ODRlYzVjNzU0NTBjZSIgc3R5bGU9IndpZHRoOiAxMDAuMCU7IGhlaWdodDogMTAwLjAlOyI+Um9zZWxhd24gQ2x1c3RlciAwPC9kaXY+YClbMF07CiAgICAgICAgICAgICAgICBwb3B1cF8yNTM4MWE3MjJjMzI0MzRkYjgxYzc2ODAwMTg1MWFjOC5zZXRDb250ZW50KGh0bWxfYmE2OTk1ODNmYTIzNGJmZjhmNjg0ZWM1Yzc1NDUwY2UpOwogICAgICAgICAgICAKCiAgICAgICAgICAgIGNpcmNsZV9tYXJrZXJfN2YxMTVkNDU2M2U1NDVhOWIxMzU5NmI5ZDdkZTkzZDkuYmluZFBvcHVwKHBvcHVwXzI1MzgxYTcyMmMzMjQzNGRiODFjNzY4MDAxODUxYWM4KQogICAgICAgICAgICA7CgogICAgICAgICAgICAKICAgICAgICAKICAgIAogICAgICAgICAgICB2YXIgY2lyY2xlX21hcmtlcl9hMjMwNTM4ZTZmYTQ0ZjdkYjM4MmJmNzg4ZDkwMzYxOSA9IEwuY2lyY2xlTWFya2VyKAogICAgICAgICAgICAgICAgWzQzLjY1Mzk2MywgLTc5LjM4NzIwN10sCiAgICAgICAgICAgICAgICB7CiAgImJ1YmJsaW5nTW91c2VFdmVudHMiOiB0cnVlLAogICJjb2xvciI6ICIjZmYwMDAwIiwKICAiZGFzaEFycmF5IjogbnVsbCwKICAiZGFzaE9mZnNldCI6IG51bGwsCiAgImZpbGwiOiB0cnVlLAogICJmaWxsQ29sb3IiOiAiI2ZmMDAwMCIsCiAgImZpbGxPcGFjaXR5IjogMC43LAogICJmaWxsUnVsZSI6ICJldmVub2RkIiwKICAibGluZUNhcCI6ICJyb3VuZCIsCiAgImxpbmVKb2luIjogInJvdW5kIiwKICAib3BhY2l0eSI6IDEuMCwKICAicmFkaXVzIjogNSwKICAic3Ryb2tlIjogdHJ1ZSwKICAid2VpZ2h0IjogMwp9CiAgICAgICAgICAgICAgICApCiAgICAgICAgICAgICAgICAuYWRkVG8obWFwXzRkZTExZWM1ODQ2YjRmMzJiYzZmZDBmNTUzZDYxOWY4KTsKICAgICAgICAgICAgCiAgICAKICAgICAgICAgICAgdmFyIHBvcHVwX2NlMDA2ZjFiMzc0YTQ4YjFiNjcwZWI5ZTQzYTZmYzVmID0gTC5wb3B1cCh7bWF4V2lkdGg6ICcxMDAlJwogICAgICAgICAgICAKICAgICAgICAgICAgfSk7CgogICAgICAgICAgICAKICAgICAgICAgICAgICAgIHZhciBodG1sXzIzZWZmNGYzYTAzMDRjNDRiY2MwYTgzNDNmNjk0Mjg3ID0gJChgPGRpdiBpZD0iaHRtbF8yM2VmZjRmM2EwMzA0YzQ0YmNjMGE4MzQzZjY5NDI4NyIgc3R5bGU9IndpZHRoOiAxMDAuMCU7IGhlaWdodDogMTAwLjAlOyI+RGF2aXN2aWxsZSBOb3J0aCBDbHVzdGVyIDA8L2Rpdj5gKVswXTsKICAgICAgICAgICAgICAgIHBvcHVwX2NlMDA2ZjFiMzc0YTQ4YjFiNjcwZWI5ZTQzYTZmYzVmLnNldENvbnRlbnQoaHRtbF8yM2VmZjRmM2EwMzA0YzQ0YmNjMGE4MzQzZjY5NDI4Nyk7CiAgICAgICAgICAgIAoKICAgICAgICAgICAgY2lyY2xlX21hcmtlcl9hMjMwNTM4ZTZmYTQ0ZjdkYjM4MmJmNzg4ZDkwMzYxOS5iaW5kUG9wdXAocG9wdXBfY2UwMDZmMWIzNzRhNDhiMWI2NzBlYjllNDNhNmZjNWYpCiAgICAgICAgICAgIDsKCiAgICAgICAgICAgIAogICAgICAgIAogICAgCiAgICAgICAgICAgIHZhciBjaXJjbGVfbWFya2VyXzYxN2QxMWM3ZDdjMzQ1MDZiYzM3YmQzOTdiNTJkOGY5ID0gTC5jaXJjbGVNYXJrZXIoCiAgICAgICAgICAgICAgICBbNDMuNjUzOTYzLCAtNzkuMzg3MjA3XSwKICAgICAgICAgICAgICAgIHsKICAiYnViYmxpbmdNb3VzZUV2ZW50cyI6IHRydWUsCiAgImNvbG9yIjogIiNmZjAwMDAiLAogICJkYXNoQXJyYXkiOiBudWxsLAogICJkYXNoT2Zmc2V0IjogbnVsbCwKICAiZmlsbCI6IHRydWUsCiAgImZpbGxDb2xvciI6ICIjZmYwMDAwIiwKICAiZmlsbE9wYWNpdHkiOiAwLjcsCiAgImZpbGxSdWxlIjogImV2ZW5vZGQiLAogICJsaW5lQ2FwIjogInJvdW5kIiwKICAibGluZUpvaW4iOiAicm91bmQiLAogICJvcGFjaXR5IjogMS4wLAogICJyYWRpdXMiOiA1LAogICJzdHJva2UiOiB0cnVlLAogICJ3ZWlnaHQiOiAzCn0KICAgICAgICAgICAgICAgICkKICAgICAgICAgICAgICAgIC5hZGRUbyhtYXBfNGRlMTFlYzU4NDZiNGYzMmJjNmZkMGY1NTNkNjE5ZjgpOwogICAgICAgICAgICAKICAgIAogICAgICAgICAgICB2YXIgcG9wdXBfMjI0Mzc5MTNiZTZlNGM2NGJjNmI5MjFiM2U4MDMzYzQgPSBMLnBvcHVwKHttYXhXaWR0aDogJzEwMCUnCiAgICAgICAgICAgIAogICAgICAgICAgICB9KTsKCiAgICAgICAgICAgIAogICAgICAgICAgICAgICAgdmFyIGh0bWxfYmE2ZTJhNmQzZjg5NDZlZGJmMWE5YjlhNWU2NDM4NjkgPSAkKGA8ZGl2IGlkPSJodG1sX2JhNmUyYTZkM2Y4OTQ2ZWRiZjFhOWI5YTVlNjQzODY5IiBzdHlsZT0id2lkdGg6IDEwMC4wJTsgaGVpZ2h0OiAxMDAuMCU7Ij5Gb3Jlc3QgSGlsbCBOb3J0aCwgRm9yZXN0IEhpbGwgV2VzdCBDbHVzdGVyIDA8L2Rpdj5gKVswXTsKICAgICAgICAgICAgICAgIHBvcHVwXzIyNDM3OTEzYmU2ZTRjNjRiYzZiOTIxYjNlODAzM2M0LnNldENvbnRlbnQoaHRtbF9iYTZlMmE2ZDNmODk0NmVkYmYxYTliOWE1ZTY0Mzg2OSk7CiAgICAgICAgICAgIAoKICAgICAgICAgICAgY2lyY2xlX21hcmtlcl82MTdkMTFjN2Q3YzM0NTA2YmMzN2JkMzk3YjUyZDhmOS5iaW5kUG9wdXAocG9wdXBfMjI0Mzc5MTNiZTZlNGM2NGJjNmI5MjFiM2U4MDMzYzQpCiAgICAgICAgICAgIDsKCiAgICAgICAgICAgIAogICAgICAgIAogICAgCiAgICAgICAgICAgIHZhciBjaXJjbGVfbWFya2VyXzUwMzMzNmQzYjhlMTRhNWNhODVkYTZmN2E4ZGU0ZDEyID0gTC5jaXJjbGVNYXJrZXIoCiAgICAgICAgICAgICAgICBbNDMuNjUzOTYzLCAtNzkuMzg3MjA3XSwKICAgICAgICAgICAgICAgIHsKICAiYnViYmxpbmdNb3VzZUV2ZW50cyI6IHRydWUsCiAgImNvbG9yIjogIiNmZjAwMDAiLAogICJkYXNoQXJyYXkiOiBudWxsLAogICJkYXNoT2Zmc2V0IjogbnVsbCwKICAiZmlsbCI6IHRydWUsCiAgImZpbGxDb2xvciI6ICIjZmYwMDAwIiwKICAiZmlsbE9wYWNpdHkiOiAwLjcsCiAgImZpbGxSdWxlIjogImV2ZW5vZGQiLAogICJsaW5lQ2FwIjogInJvdW5kIiwKICAibGluZUpvaW4iOiAicm91bmQiLAogICJvcGFjaXR5IjogMS4wLAogICJyYWRpdXMiOiA1LAogICJzdHJva2UiOiB0cnVlLAogICJ3ZWlnaHQiOiAzCn0KICAgICAgICAgICAgICAgICkKICAgICAgICAgICAgICAgIC5hZGRUbyhtYXBfNGRlMTFlYzU4NDZiNGYzMmJjNmZkMGY1NTNkNjE5ZjgpOwogICAgICAgICAgICAKICAgIAogICAgICAgICAgICB2YXIgcG9wdXBfYjllZjllZTY1NGNmNGM3NThiODkxNzA2YWNhMjc2NGIgPSBMLnBvcHVwKHttYXhXaWR0aDogJzEwMCUnCiAgICAgICAgICAgIAogICAgICAgICAgICB9KTsKCiAgICAgICAgICAgIAogICAgICAgICAgICAgICAgdmFyIGh0bWxfYWRiZmFjNTExNGUxNGM0ZGE0NTYyYWY5NzRlYTc1MjIgPSAkKGA8ZGl2IGlkPSJodG1sX2FkYmZhYzUxMTRlMTRjNGRhNDU2MmFmOTc0ZWE3NTIyIiBzdHlsZT0id2lkdGg6IDEwMC4wJTsgaGVpZ2h0OiAxMDAuMCU7Ij5Ob3J0aCBUb3JvbnRvIFdlc3QgQ2x1c3RlciAwPC9kaXY+YClbMF07CiAgICAgICAgICAgICAgICBwb3B1cF9iOWVmOWVlNjU0Y2Y0Yzc1OGI4OTE3MDZhY2EyNzY0Yi5zZXRDb250ZW50KGh0bWxfYWRiZmFjNTExNGUxNGM0ZGE0NTYyYWY5NzRlYTc1MjIpOwogICAgICAgICAgICAKCiAgICAgICAgICAgIGNpcmNsZV9tYXJrZXJfNTAzMzM2ZDNiOGUxNGE1Y2E4NWRhNmY3YThkZTRkMTIuYmluZFBvcHVwKHBvcHVwX2I5ZWY5ZWU2NTRjZjRjNzU4Yjg5MTcwNmFjYTI3NjRiKQogICAgICAgICAgICA7CgogICAgICAgICAgICAKICAgICAgICAKICAgIAogICAgICAgICAgICB2YXIgY2lyY2xlX21hcmtlcl8zYTZkNTA3ZjlhY2E0ZmQ3ODQzOTgwZTI4MGRmODBlYSA9IEwuY2lyY2xlTWFya2VyKAogICAgICAgICAgICAgICAgWzQzLjY1Mzk2MywgLTc5LjM4NzIwN10sCiAgICAgICAgICAgICAgICB7CiAgImJ1YmJsaW5nTW91c2VFdmVudHMiOiB0cnVlLAogICJjb2xvciI6ICIjZmYwMDAwIiwKICAiZGFzaEFycmF5IjogbnVsbCwKICAiZGFzaE9mZnNldCI6IG51bGwsCiAgImZpbGwiOiB0cnVlLAogICJmaWxsQ29sb3IiOiAiI2ZmMDAwMCIsCiAgImZpbGxPcGFjaXR5IjogMC43LAogICJmaWxsUnVsZSI6ICJldmVub2RkIiwKICAibGluZUNhcCI6ICJyb3VuZCIsCiAgImxpbmVKb2luIjogInJvdW5kIiwKICAib3BhY2l0eSI6IDEuMCwKICAicmFkaXVzIjogNSwKICAic3Ryb2tlIjogdHJ1ZSwKICAid2VpZ2h0IjogMwp9CiAgICAgICAgICAgICAgICApCiAgICAgICAgICAgICAgICAuYWRkVG8obWFwXzRkZTExZWM1ODQ2YjRmMzJiYzZmZDBmNTUzZDYxOWY4KTsKICAgICAgICAgICAgCiAgICAKICAgICAgICAgICAgdmFyIHBvcHVwX2ZlYjA5OWRlZTVjNDQxZThiM2ZkYjA3YmMyMDk4MzhhID0gTC5wb3B1cCh7bWF4V2lkdGg6ICcxMDAlJwogICAgICAgICAgICAKICAgICAgICAgICAgfSk7CgogICAgICAgICAgICAKICAgICAgICAgICAgICAgIHZhciBodG1sXzMyZTg4MjA1YjU2ODQyNmFiZjFlZjg1YjBmYTFlYTNhID0gJChgPGRpdiBpZD0iaHRtbF8zMmU4ODIwNWI1Njg0MjZhYmYxZWY4NWIwZmExZWEzYSIgc3R5bGU9IndpZHRoOiAxMDAuMCU7IGhlaWdodDogMTAwLjAlOyI+VGhlIEFubmV4LCBOb3J0aCBNaWR0b3duLCBZb3JrdmlsbGUgQ2x1c3RlciAwPC9kaXY+YClbMF07CiAgICAgICAgICAgICAgICBwb3B1cF9mZWIwOTlkZWU1YzQ0MWU4YjNmZGIwN2JjMjA5ODM4YS5zZXRDb250ZW50KGh0bWxfMzJlODgyMDViNTY4NDI2YWJmMWVmODViMGZhMWVhM2EpOwogICAgICAgICAgICAKCiAgICAgICAgICAgIGNpcmNsZV9tYXJrZXJfM2E2ZDUwN2Y5YWNhNGZkNzg0Mzk4MGUyODBkZjgwZWEuYmluZFBvcHVwKHBvcHVwX2ZlYjA5OWRlZTVjNDQxZThiM2ZkYjA3YmMyMDk4MzhhKQogICAgICAgICAgICA7CgogICAgICAgICAgICAKICAgICAgICAKICAgIAogICAgICAgICAgICB2YXIgY2lyY2xlX21hcmtlcl9mMWViNzQxZTQ3ZTg0Y2JiOTRjMWVlYjU1ODg4Y2M1ZiA9IEwuY2lyY2xlTWFya2VyKAogICAgICAgICAgICAgICAgWzQzLjY1Mzk2MywgLTc5LjM4NzIwN10sCiAgICAgICAgICAgICAgICB7CiAgImJ1YmJsaW5nTW91c2VFdmVudHMiOiB0cnVlLAogICJjb2xvciI6ICIjZmYwMDAwIiwKICAiZGFzaEFycmF5IjogbnVsbCwKICAiZGFzaE9mZnNldCI6IG51bGwsCiAgImZpbGwiOiB0cnVlLAogICJmaWxsQ29sb3IiOiAiI2ZmMDAwMCIsCiAgImZpbGxPcGFjaXR5IjogMC43LAogICJmaWxsUnVsZSI6ICJldmVub2RkIiwKICAibGluZUNhcCI6ICJyb3VuZCIsCiAgImxpbmVKb2luIjogInJvdW5kIiwKICAib3BhY2l0eSI6IDEuMCwKICAicmFkaXVzIjogNSwKICAic3Ryb2tlIjogdHJ1ZSwKICAid2VpZ2h0IjogMwp9CiAgICAgICAgICAgICAgICApCiAgICAgICAgICAgICAgICAuYWRkVG8obWFwXzRkZTExZWM1ODQ2YjRmMzJiYzZmZDBmNTUzZDYxOWY4KTsKICAgICAgICAgICAgCiAgICAKICAgICAgICAgICAgdmFyIHBvcHVwX2YzNmI4NDc1NmExYzQ1Nzk4NDlhYjhiMGY0NWQ5YzU1ID0gTC5wb3B1cCh7bWF4V2lkdGg6ICcxMDAlJwogICAgICAgICAgICAKICAgICAgICAgICAgfSk7CgogICAgICAgICAgICAKICAgICAgICAgICAgICAgIHZhciBodG1sX2EzZjllOWYwMjY1ZTQ0MjZhNmY1YzQzOGM1ODIwNDhkID0gJChgPGRpdiBpZD0iaHRtbF9hM2Y5ZTlmMDI2NWU0NDI2YTZmNWM0MzhjNTgyMDQ4ZCIgc3R5bGU9IndpZHRoOiAxMDAuMCU7IGhlaWdodDogMTAwLjAlOyI+RGF2aXN2aWxsZSBDbHVzdGVyIDA8L2Rpdj5gKVswXTsKICAgICAgICAgICAgICAgIHBvcHVwX2YzNmI4NDc1NmExYzQ1Nzk4NDlhYjhiMGY0NWQ5YzU1LnNldENvbnRlbnQoaHRtbF9hM2Y5ZTlmMDI2NWU0NDI2YTZmNWM0MzhjNTgyMDQ4ZCk7CiAgICAgICAgICAgIAoKICAgICAgICAgICAgY2lyY2xlX21hcmtlcl9mMWViNzQxZTQ3ZTg0Y2JiOTRjMWVlYjU1ODg4Y2M1Zi5iaW5kUG9wdXAocG9wdXBfZjM2Yjg0NzU2YTFjNDU3OTg0OWFiOGIwZjQ1ZDljNTUpCiAgICAgICAgICAgIDsKCiAgICAgICAgICAgIAogICAgICAgIAogICAgCiAgICAgICAgICAgIHZhciBjaXJjbGVfbWFya2VyXzUyNDM3MWE2ZDJiNjQzYTQ4NGJjOWRlYjJlZWI3NTBjID0gTC5jaXJjbGVNYXJrZXIoCiAgICAgICAgICAgICAgICBbNDMuNjUzOTYzLCAtNzkuMzg3MjA3XSwKICAgICAgICAgICAgICAgIHsKICAiYnViYmxpbmdNb3VzZUV2ZW50cyI6IHRydWUsCiAgImNvbG9yIjogIiNmZjAwMDAiLAogICJkYXNoQXJyYXkiOiBudWxsLAogICJkYXNoT2Zmc2V0IjogbnVsbCwKICAiZmlsbCI6IHRydWUsCiAgImZpbGxDb2xvciI6ICIjZmYwMDAwIiwKICAiZmlsbE9wYWNpdHkiOiAwLjcsCiAgImZpbGxSdWxlIjogImV2ZW5vZGQiLAogICJsaW5lQ2FwIjogInJvdW5kIiwKICAibGluZUpvaW4iOiAicm91bmQiLAogICJvcGFjaXR5IjogMS4wLAogICJyYWRpdXMiOiA1LAogICJzdHJva2UiOiB0cnVlLAogICJ3ZWlnaHQiOiAzCn0KICAgICAgICAgICAgICAgICkKICAgICAgICAgICAgICAgIC5hZGRUbyhtYXBfNGRlMTFlYzU4NDZiNGYzMmJjNmZkMGY1NTNkNjE5ZjgpOwogICAgICAgICAgICAKICAgIAogICAgICAgICAgICB2YXIgcG9wdXBfNTJkMzcwN2IzM2U5NDE3Njg5NzVjOGZhMDRiYzA5ZTEgPSBMLnBvcHVwKHttYXhXaWR0aDogJzEwMCUnCiAgICAgICAgICAgIAogICAgICAgICAgICB9KTsKCiAgICAgICAgICAgIAogICAgICAgICAgICAgICAgdmFyIGh0bWxfYjEwNmQ2OGQ4ODhkNGFkMGI3NmZlZDdkNjUzYjMwYWIgPSAkKGA8ZGl2IGlkPSJodG1sX2IxMDZkNjhkODg4ZDRhZDBiNzZmZWQ3ZDY1M2IzMGFiIiBzdHlsZT0id2lkdGg6IDEwMC4wJTsgaGVpZ2h0OiAxMDAuMCU7Ij5Nb29yZSBQYXJrLCBTdW1tZXJoaWxsIEVhc3QgQ2x1c3RlciAwPC9kaXY+YClbMF07CiAgICAgICAgICAgICAgICBwb3B1cF81MmQzNzA3YjMzZTk0MTc2ODk3NWM4ZmEwNGJjMDllMS5zZXRDb250ZW50KGh0bWxfYjEwNmQ2OGQ4ODhkNGFkMGI3NmZlZDdkNjUzYjMwYWIpOwogICAgICAgICAgICAKCiAgICAgICAgICAgIGNpcmNsZV9tYXJrZXJfNTI0MzcxYTZkMmI2NDNhNDg0YmM5ZGViMmVlYjc1MGMuYmluZFBvcHVwKHBvcHVwXzUyZDM3MDdiMzNlOTQxNzY4OTc1YzhmYTA0YmMwOWUxKQogICAgICAgICAgICA7CgogICAgICAgICAgICAKICAgICAgICAKICAgIAogICAgICAgICAgICB2YXIgY2lyY2xlX21hcmtlcl80YzdmYTdkN2QwOTM0YjM0YjliNzNjNjYwOGU4MDVhNSA9IEwuY2lyY2xlTWFya2VyKAogICAgICAgICAgICAgICAgWzQzLjY1Mzk2MywgLTc5LjM4NzIwN10sCiAgICAgICAgICAgICAgICB7CiAgImJ1YmJsaW5nTW91c2VFdmVudHMiOiB0cnVlLAogICJjb2xvciI6ICIjZmYwMDAwIiwKICAiZGFzaEFycmF5IjogbnVsbCwKICAiZGFzaE9mZnNldCI6IG51bGwsCiAgImZpbGwiOiB0cnVlLAogICJmaWxsQ29sb3IiOiAiI2ZmMDAwMCIsCiAgImZpbGxPcGFjaXR5IjogMC43LAogICJmaWxsUnVsZSI6ICJldmVub2RkIiwKICAibGluZUNhcCI6ICJyb3VuZCIsCiAgImxpbmVKb2luIjogInJvdW5kIiwKICAib3BhY2l0eSI6IDEuMCwKICAicmFkaXVzIjogNSwKICAic3Ryb2tlIjogdHJ1ZSwKICAid2VpZ2h0IjogMwp9CiAgICAgICAgICAgICAgICApCiAgICAgICAgICAgICAgICAuYWRkVG8obWFwXzRkZTExZWM1ODQ2YjRmMzJiYzZmZDBmNTUzZDYxOWY4KTsKICAgICAgICAgICAgCiAgICAKICAgICAgICAgICAgdmFyIHBvcHVwX2I3ZTFlMDRjN2FmYzQ0YTI5ZGE3MGRhM2NhMjE5ZDZhID0gTC5wb3B1cCh7bWF4V2lkdGg6ICcxMDAlJwogICAgICAgICAgICAKICAgICAgICAgICAgfSk7CgogICAgICAgICAgICAKICAgICAgICAgICAgICAgIHZhciBodG1sXzdiMjIwNGIwNDYyNDRiNTY5YTYxNjA3MjgwNzliMWVjID0gJChgPGRpdiBpZD0iaHRtbF83YjIyMDRiMDQ2MjQ0YjU2OWE2MTYwNzI4MDc5YjFlYyIgc3R5bGU9IndpZHRoOiAxMDAuMCU7IGhlaWdodDogMTAwLjAlOyI+RGVlciBQYXJrLCBGb3Jlc3QgSGlsbCBTRSwgUmF0aG5lbGx5LCBTb3V0aCBIaWxsLCBTdW1tZXJoaWxsIFdlc3QgQ2x1c3RlciAwPC9kaXY+YClbMF07CiAgICAgICAgICAgICAgICBwb3B1cF9iN2UxZTA0YzdhZmM0NGEyOWRhNzBkYTNjYTIxOWQ2YS5zZXRDb250ZW50KGh0bWxfN2IyMjA0YjA0NjI0NGI1NjlhNjE2MDcyODA3OWIxZWMpOwogICAgICAgICAgICAKCiAgICAgICAgICAgIGNpcmNsZV9tYXJrZXJfNGM3ZmE3ZDdkMDkzNGIzNGI5YjczYzY2MDhlODA1YTUuYmluZFBvcHVwKHBvcHVwX2I3ZTFlMDRjN2FmYzQ0YTI5ZGE3MGRhM2NhMjE5ZDZhKQogICAgICAgICAgICA7CgogICAgICAgICAgICAKICAgICAgICAKPC9zY3JpcHQ+\" style=\"position:absolute;width:100%;height:100%;left:0;top:0;border:none !important;\" allowfullscreen webkitallowfullscreen mozallowfullscreen></iframe></div></div>"
            ],
            "text/plain": [
              "<folium.folium.Map at 0x7f7ef384ea20>"
            ]
          },
          "metadata": {
            "tags": []
          },
          "execution_count": 65
        }
      ]
    },
    {
      "cell_type": "markdown",
      "metadata": {
        "id": "NbDXndAJFl9L",
        "colab_type": "text"
      },
      "source": [
        "### Examine Clusters"
      ]
    },
    {
      "cell_type": "markdown",
      "metadata": {
        "id": "DgGo2G3vFtiq",
        "colab_type": "text"
      },
      "source": [
        "Now, you can examine each cluster and determine the discriminating venue categories that distinguish each cluster. Based on the defining categories, you can then assign a name to each cluster. I will leave this exercise to you.\n",
        "\n"
      ]
    },
    {
      "cell_type": "markdown",
      "metadata": {
        "id": "VPZIimO1GTDu",
        "colab_type": "text"
      },
      "source": [
        "__Cluster 1__"
      ]
    },
    {
      "cell_type": "code",
      "metadata": {
        "id": "eyOgy6hPFq_I",
        "colab_type": "code",
        "outputId": "8f4b0c2b-a345-44eb-a47b-582809a2346f",
        "colab": {
          "base_uri": "https://localhost:8080/",
          "height": 482
        }
      },
      "source": [
        "c_toronto_merged.loc[c_toronto_merged['Cluster Labels'] == 0, c_toronto_merged.columns[[1] + list(range(5, c_toronto_merged.shape[1]))]]"
      ],
      "execution_count": 66,
      "outputs": [
        {
          "output_type": "execute_result",
          "data": {
            "text/html": [
              "<div>\n",
              "<style scoped>\n",
              "    .dataframe tbody tr th:only-of-type {\n",
              "        vertical-align: middle;\n",
              "    }\n",
              "\n",
              "    .dataframe tbody tr th {\n",
              "        vertical-align: top;\n",
              "    }\n",
              "\n",
              "    .dataframe thead th {\n",
              "        text-align: right;\n",
              "    }\n",
              "</style>\n",
              "<table border=\"1\" class=\"dataframe\">\n",
              "  <thead>\n",
              "    <tr style=\"text-align: right;\">\n",
              "      <th></th>\n",
              "      <th>Borough</th>\n",
              "      <th>Cluster Labels</th>\n",
              "      <th>1st Most Common Venue</th>\n",
              "      <th>2nd Most Common Venue</th>\n",
              "      <th>3rd Most Common Venue</th>\n",
              "      <th>4th Most Common Venue</th>\n",
              "      <th>5th Most Common Venue</th>\n",
              "      <th>6th Most Common Venue</th>\n",
              "      <th>7th Most Common Venue</th>\n",
              "      <th>8th Most Common Venue</th>\n",
              "      <th>9th Most Common Venue</th>\n",
              "      <th>10th Most Common Venue</th>\n",
              "    </tr>\n",
              "  </thead>\n",
              "  <tbody>\n",
              "    <tr>\n",
              "      <th>17</th>\n",
              "      <td>Central Toronto</td>\n",
              "      <td>0</td>\n",
              "      <td>Coffee Shop</td>\n",
              "      <td>Café</td>\n",
              "      <td>Art Gallery</td>\n",
              "      <td>Sushi Restaurant</td>\n",
              "      <td>Breakfast Spot</td>\n",
              "      <td>Restaurant</td>\n",
              "      <td>Ice Cream Shop</td>\n",
              "      <td>Japanese Restaurant</td>\n",
              "      <td>Chinese Restaurant</td>\n",
              "      <td>Bubble Tea Shop</td>\n",
              "    </tr>\n",
              "    <tr>\n",
              "      <th>18</th>\n",
              "      <td>Central Toronto</td>\n",
              "      <td>0</td>\n",
              "      <td>Coffee Shop</td>\n",
              "      <td>Café</td>\n",
              "      <td>Art Gallery</td>\n",
              "      <td>Sushi Restaurant</td>\n",
              "      <td>Breakfast Spot</td>\n",
              "      <td>Restaurant</td>\n",
              "      <td>Ice Cream Shop</td>\n",
              "      <td>Japanese Restaurant</td>\n",
              "      <td>Chinese Restaurant</td>\n",
              "      <td>Bubble Tea Shop</td>\n",
              "    </tr>\n",
              "    <tr>\n",
              "      <th>19</th>\n",
              "      <td>Central Toronto</td>\n",
              "      <td>0</td>\n",
              "      <td>Coffee Shop</td>\n",
              "      <td>Café</td>\n",
              "      <td>Art Gallery</td>\n",
              "      <td>Sushi Restaurant</td>\n",
              "      <td>Breakfast Spot</td>\n",
              "      <td>Restaurant</td>\n",
              "      <td>Ice Cream Shop</td>\n",
              "      <td>Japanese Restaurant</td>\n",
              "      <td>Chinese Restaurant</td>\n",
              "      <td>Bubble Tea Shop</td>\n",
              "    </tr>\n",
              "    <tr>\n",
              "      <th>20</th>\n",
              "      <td>Central Toronto</td>\n",
              "      <td>0</td>\n",
              "      <td>Coffee Shop</td>\n",
              "      <td>Café</td>\n",
              "      <td>Art Gallery</td>\n",
              "      <td>Sushi Restaurant</td>\n",
              "      <td>Breakfast Spot</td>\n",
              "      <td>Restaurant</td>\n",
              "      <td>Ice Cream Shop</td>\n",
              "      <td>Japanese Restaurant</td>\n",
              "      <td>Chinese Restaurant</td>\n",
              "      <td>Bubble Tea Shop</td>\n",
              "    </tr>\n",
              "    <tr>\n",
              "      <th>22</th>\n",
              "      <td>Central Toronto</td>\n",
              "      <td>0</td>\n",
              "      <td>Coffee Shop</td>\n",
              "      <td>Café</td>\n",
              "      <td>Art Gallery</td>\n",
              "      <td>Sushi Restaurant</td>\n",
              "      <td>Breakfast Spot</td>\n",
              "      <td>Restaurant</td>\n",
              "      <td>Ice Cream Shop</td>\n",
              "      <td>Japanese Restaurant</td>\n",
              "      <td>Chinese Restaurant</td>\n",
              "      <td>Bubble Tea Shop</td>\n",
              "    </tr>\n",
              "    <tr>\n",
              "      <th>23</th>\n",
              "      <td>Central Toronto</td>\n",
              "      <td>0</td>\n",
              "      <td>Coffee Shop</td>\n",
              "      <td>Café</td>\n",
              "      <td>Art Gallery</td>\n",
              "      <td>Sushi Restaurant</td>\n",
              "      <td>Breakfast Spot</td>\n",
              "      <td>Restaurant</td>\n",
              "      <td>Ice Cream Shop</td>\n",
              "      <td>Japanese Restaurant</td>\n",
              "      <td>Chinese Restaurant</td>\n",
              "      <td>Bubble Tea Shop</td>\n",
              "    </tr>\n",
              "    <tr>\n",
              "      <th>25</th>\n",
              "      <td>Central Toronto</td>\n",
              "      <td>0</td>\n",
              "      <td>Coffee Shop</td>\n",
              "      <td>Café</td>\n",
              "      <td>Art Gallery</td>\n",
              "      <td>Sushi Restaurant</td>\n",
              "      <td>Breakfast Spot</td>\n",
              "      <td>Restaurant</td>\n",
              "      <td>Ice Cream Shop</td>\n",
              "      <td>Japanese Restaurant</td>\n",
              "      <td>Chinese Restaurant</td>\n",
              "      <td>Bubble Tea Shop</td>\n",
              "    </tr>\n",
              "    <tr>\n",
              "      <th>28</th>\n",
              "      <td>Central Toronto</td>\n",
              "      <td>0</td>\n",
              "      <td>Coffee Shop</td>\n",
              "      <td>Café</td>\n",
              "      <td>Art Gallery</td>\n",
              "      <td>Sushi Restaurant</td>\n",
              "      <td>Breakfast Spot</td>\n",
              "      <td>Restaurant</td>\n",
              "      <td>Ice Cream Shop</td>\n",
              "      <td>Japanese Restaurant</td>\n",
              "      <td>Chinese Restaurant</td>\n",
              "      <td>Bubble Tea Shop</td>\n",
              "    </tr>\n",
              "    <tr>\n",
              "      <th>30</th>\n",
              "      <td>Central Toronto</td>\n",
              "      <td>0</td>\n",
              "      <td>Coffee Shop</td>\n",
              "      <td>Café</td>\n",
              "      <td>Art Gallery</td>\n",
              "      <td>Sushi Restaurant</td>\n",
              "      <td>Breakfast Spot</td>\n",
              "      <td>Restaurant</td>\n",
              "      <td>Ice Cream Shop</td>\n",
              "      <td>Japanese Restaurant</td>\n",
              "      <td>Chinese Restaurant</td>\n",
              "      <td>Bubble Tea Shop</td>\n",
              "    </tr>\n",
              "  </tbody>\n",
              "</table>\n",
              "</div>"
            ],
            "text/plain": [
              "            Borough  Cluster Labels 1st Most Common Venue  \\\n",
              "17  Central Toronto               0           Coffee Shop   \n",
              "18  Central Toronto               0           Coffee Shop   \n",
              "19  Central Toronto               0           Coffee Shop   \n",
              "20  Central Toronto               0           Coffee Shop   \n",
              "22  Central Toronto               0           Coffee Shop   \n",
              "23  Central Toronto               0           Coffee Shop   \n",
              "25  Central Toronto               0           Coffee Shop   \n",
              "28  Central Toronto               0           Coffee Shop   \n",
              "30  Central Toronto               0           Coffee Shop   \n",
              "\n",
              "   2nd Most Common Venue 3rd Most Common Venue 4th Most Common Venue  \\\n",
              "17                  Café           Art Gallery      Sushi Restaurant   \n",
              "18                  Café           Art Gallery      Sushi Restaurant   \n",
              "19                  Café           Art Gallery      Sushi Restaurant   \n",
              "20                  Café           Art Gallery      Sushi Restaurant   \n",
              "22                  Café           Art Gallery      Sushi Restaurant   \n",
              "23                  Café           Art Gallery      Sushi Restaurant   \n",
              "25                  Café           Art Gallery      Sushi Restaurant   \n",
              "28                  Café           Art Gallery      Sushi Restaurant   \n",
              "30                  Café           Art Gallery      Sushi Restaurant   \n",
              "\n",
              "   5th Most Common Venue 6th Most Common Venue 7th Most Common Venue  \\\n",
              "17        Breakfast Spot            Restaurant        Ice Cream Shop   \n",
              "18        Breakfast Spot            Restaurant        Ice Cream Shop   \n",
              "19        Breakfast Spot            Restaurant        Ice Cream Shop   \n",
              "20        Breakfast Spot            Restaurant        Ice Cream Shop   \n",
              "22        Breakfast Spot            Restaurant        Ice Cream Shop   \n",
              "23        Breakfast Spot            Restaurant        Ice Cream Shop   \n",
              "25        Breakfast Spot            Restaurant        Ice Cream Shop   \n",
              "28        Breakfast Spot            Restaurant        Ice Cream Shop   \n",
              "30        Breakfast Spot            Restaurant        Ice Cream Shop   \n",
              "\n",
              "   8th Most Common Venue 9th Most Common Venue 10th Most Common Venue  \n",
              "17   Japanese Restaurant    Chinese Restaurant        Bubble Tea Shop  \n",
              "18   Japanese Restaurant    Chinese Restaurant        Bubble Tea Shop  \n",
              "19   Japanese Restaurant    Chinese Restaurant        Bubble Tea Shop  \n",
              "20   Japanese Restaurant    Chinese Restaurant        Bubble Tea Shop  \n",
              "22   Japanese Restaurant    Chinese Restaurant        Bubble Tea Shop  \n",
              "23   Japanese Restaurant    Chinese Restaurant        Bubble Tea Shop  \n",
              "25   Japanese Restaurant    Chinese Restaurant        Bubble Tea Shop  \n",
              "28   Japanese Restaurant    Chinese Restaurant        Bubble Tea Shop  \n",
              "30   Japanese Restaurant    Chinese Restaurant        Bubble Tea Shop  "
            ]
          },
          "metadata": {
            "tags": []
          },
          "execution_count": 66
        }
      ]
    },
    {
      "cell_type": "markdown",
      "metadata": {
        "id": "vaHJzOR9GXol",
        "colab_type": "text"
      },
      "source": [
        "__Cluster Two__"
      ]
    },
    {
      "cell_type": "code",
      "metadata": {
        "id": "I4HDcEDrGa16",
        "colab_type": "code",
        "outputId": "13c389e4-2e4b-4a15-b5de-39eb25097c3d",
        "colab": {
          "base_uri": "https://localhost:8080/",
          "height": 64
        }
      },
      "source": [
        "c_toronto_merged.loc[c_toronto_merged['Cluster Labels'] == 1, c_toronto_merged.columns[[1] + list(range(5, c_toronto_merged.shape[1]))]]"
      ],
      "execution_count": 67,
      "outputs": [
        {
          "output_type": "execute_result",
          "data": {
            "text/html": [
              "<div>\n",
              "<style scoped>\n",
              "    .dataframe tbody tr th:only-of-type {\n",
              "        vertical-align: middle;\n",
              "    }\n",
              "\n",
              "    .dataframe tbody tr th {\n",
              "        vertical-align: top;\n",
              "    }\n",
              "\n",
              "    .dataframe thead th {\n",
              "        text-align: right;\n",
              "    }\n",
              "</style>\n",
              "<table border=\"1\" class=\"dataframe\">\n",
              "  <thead>\n",
              "    <tr style=\"text-align: right;\">\n",
              "      <th></th>\n",
              "      <th>Borough</th>\n",
              "      <th>Cluster Labels</th>\n",
              "      <th>1st Most Common Venue</th>\n",
              "      <th>2nd Most Common Venue</th>\n",
              "      <th>3rd Most Common Venue</th>\n",
              "      <th>4th Most Common Venue</th>\n",
              "      <th>5th Most Common Venue</th>\n",
              "      <th>6th Most Common Venue</th>\n",
              "      <th>7th Most Common Venue</th>\n",
              "      <th>8th Most Common Venue</th>\n",
              "      <th>9th Most Common Venue</th>\n",
              "      <th>10th Most Common Venue</th>\n",
              "    </tr>\n",
              "  </thead>\n",
              "  <tbody>\n",
              "  </tbody>\n",
              "</table>\n",
              "</div>"
            ],
            "text/plain": [
              "Empty DataFrame\n",
              "Columns: [Borough, Cluster Labels, 1st Most Common Venue, 2nd Most Common Venue, 3rd Most Common Venue, 4th Most Common Venue, 5th Most Common Venue, 6th Most Common Venue, 7th Most Common Venue, 8th Most Common Venue, 9th Most Common Venue, 10th Most Common Venue]\n",
              "Index: []"
            ]
          },
          "metadata": {
            "tags": []
          },
          "execution_count": 67
        }
      ]
    },
    {
      "cell_type": "markdown",
      "metadata": {
        "id": "ZsEKCl2ZGh95",
        "colab_type": "text"
      },
      "source": [
        "__Cluster Three__"
      ]
    },
    {
      "cell_type": "code",
      "metadata": {
        "id": "YLSEXNyjGg6v",
        "colab_type": "code",
        "outputId": "e11021e4-3e15-437e-df92-69e57d2ec422",
        "colab": {
          "base_uri": "https://localhost:8080/",
          "height": 64
        }
      },
      "source": [
        "c_toronto_merged.loc[c_toronto_merged['Cluster Labels'] == 2, c_toronto_merged.columns[[1] + list(range(5, c_toronto_merged.shape[1]))]]"
      ],
      "execution_count": 68,
      "outputs": [
        {
          "output_type": "execute_result",
          "data": {
            "text/html": [
              "<div>\n",
              "<style scoped>\n",
              "    .dataframe tbody tr th:only-of-type {\n",
              "        vertical-align: middle;\n",
              "    }\n",
              "\n",
              "    .dataframe tbody tr th {\n",
              "        vertical-align: top;\n",
              "    }\n",
              "\n",
              "    .dataframe thead th {\n",
              "        text-align: right;\n",
              "    }\n",
              "</style>\n",
              "<table border=\"1\" class=\"dataframe\">\n",
              "  <thead>\n",
              "    <tr style=\"text-align: right;\">\n",
              "      <th></th>\n",
              "      <th>Borough</th>\n",
              "      <th>Cluster Labels</th>\n",
              "      <th>1st Most Common Venue</th>\n",
              "      <th>2nd Most Common Venue</th>\n",
              "      <th>3rd Most Common Venue</th>\n",
              "      <th>4th Most Common Venue</th>\n",
              "      <th>5th Most Common Venue</th>\n",
              "      <th>6th Most Common Venue</th>\n",
              "      <th>7th Most Common Venue</th>\n",
              "      <th>8th Most Common Venue</th>\n",
              "      <th>9th Most Common Venue</th>\n",
              "      <th>10th Most Common Venue</th>\n",
              "    </tr>\n",
              "  </thead>\n",
              "  <tbody>\n",
              "  </tbody>\n",
              "</table>\n",
              "</div>"
            ],
            "text/plain": [
              "Empty DataFrame\n",
              "Columns: [Borough, Cluster Labels, 1st Most Common Venue, 2nd Most Common Venue, 3rd Most Common Venue, 4th Most Common Venue, 5th Most Common Venue, 6th Most Common Venue, 7th Most Common Venue, 8th Most Common Venue, 9th Most Common Venue, 10th Most Common Venue]\n",
              "Index: []"
            ]
          },
          "metadata": {
            "tags": []
          },
          "execution_count": 68
        }
      ]
    },
    {
      "cell_type": "markdown",
      "metadata": {
        "id": "eyByKPE6GoiF",
        "colab_type": "text"
      },
      "source": [
        "__Cluster Four__"
      ]
    },
    {
      "cell_type": "code",
      "metadata": {
        "id": "ZXVuYXowGl7P",
        "colab_type": "code",
        "outputId": "c9566d44-075d-4756-97bb-e20f1ab56e75",
        "colab": {
          "base_uri": "https://localhost:8080/",
          "height": 64
        }
      },
      "source": [
        "c_toronto_merged.loc[c_toronto_merged['Cluster Labels'] == 3, c_toronto_merged.columns[[1] + list(range(5, c_toronto_merged.shape[1]))]]"
      ],
      "execution_count": 69,
      "outputs": [
        {
          "output_type": "execute_result",
          "data": {
            "text/html": [
              "<div>\n",
              "<style scoped>\n",
              "    .dataframe tbody tr th:only-of-type {\n",
              "        vertical-align: middle;\n",
              "    }\n",
              "\n",
              "    .dataframe tbody tr th {\n",
              "        vertical-align: top;\n",
              "    }\n",
              "\n",
              "    .dataframe thead th {\n",
              "        text-align: right;\n",
              "    }\n",
              "</style>\n",
              "<table border=\"1\" class=\"dataframe\">\n",
              "  <thead>\n",
              "    <tr style=\"text-align: right;\">\n",
              "      <th></th>\n",
              "      <th>Borough</th>\n",
              "      <th>Cluster Labels</th>\n",
              "      <th>1st Most Common Venue</th>\n",
              "      <th>2nd Most Common Venue</th>\n",
              "      <th>3rd Most Common Venue</th>\n",
              "      <th>4th Most Common Venue</th>\n",
              "      <th>5th Most Common Venue</th>\n",
              "      <th>6th Most Common Venue</th>\n",
              "      <th>7th Most Common Venue</th>\n",
              "      <th>8th Most Common Venue</th>\n",
              "      <th>9th Most Common Venue</th>\n",
              "      <th>10th Most Common Venue</th>\n",
              "    </tr>\n",
              "  </thead>\n",
              "  <tbody>\n",
              "  </tbody>\n",
              "</table>\n",
              "</div>"
            ],
            "text/plain": [
              "Empty DataFrame\n",
              "Columns: [Borough, Cluster Labels, 1st Most Common Venue, 2nd Most Common Venue, 3rd Most Common Venue, 4th Most Common Venue, 5th Most Common Venue, 6th Most Common Venue, 7th Most Common Venue, 8th Most Common Venue, 9th Most Common Venue, 10th Most Common Venue]\n",
              "Index: []"
            ]
          },
          "metadata": {
            "tags": []
          },
          "execution_count": 69
        }
      ]
    },
    {
      "cell_type": "markdown",
      "metadata": {
        "id": "SZk6juCkG9vA",
        "colab_type": "text"
      },
      "source": [
        "c_toronto_merged.loc[c_toronto_merged['Cluster Labels'] == 0, c_toronto_merged.columns[[1] + list(range(5, c_toronto_merged.shape[1]))]]"
      ]
    },
    {
      "cell_type": "code",
      "metadata": {
        "id": "Grs145b-GxBd",
        "colab_type": "code",
        "outputId": "12510f66-0a80-4009-a8de-d2fde1885907",
        "colab": {
          "base_uri": "https://localhost:8080/",
          "height": 64
        }
      },
      "source": [
        "c_toronto_merged.loc[c_toronto_merged['Cluster Labels'] == 4, c_toronto_merged.columns[[1] + list(range(5, c_toronto_merged.shape[1]))]]"
      ],
      "execution_count": 70,
      "outputs": [
        {
          "output_type": "execute_result",
          "data": {
            "text/html": [
              "<div>\n",
              "<style scoped>\n",
              "    .dataframe tbody tr th:only-of-type {\n",
              "        vertical-align: middle;\n",
              "    }\n",
              "\n",
              "    .dataframe tbody tr th {\n",
              "        vertical-align: top;\n",
              "    }\n",
              "\n",
              "    .dataframe thead th {\n",
              "        text-align: right;\n",
              "    }\n",
              "</style>\n",
              "<table border=\"1\" class=\"dataframe\">\n",
              "  <thead>\n",
              "    <tr style=\"text-align: right;\">\n",
              "      <th></th>\n",
              "      <th>Borough</th>\n",
              "      <th>Cluster Labels</th>\n",
              "      <th>1st Most Common Venue</th>\n",
              "      <th>2nd Most Common Venue</th>\n",
              "      <th>3rd Most Common Venue</th>\n",
              "      <th>4th Most Common Venue</th>\n",
              "      <th>5th Most Common Venue</th>\n",
              "      <th>6th Most Common Venue</th>\n",
              "      <th>7th Most Common Venue</th>\n",
              "      <th>8th Most Common Venue</th>\n",
              "      <th>9th Most Common Venue</th>\n",
              "      <th>10th Most Common Venue</th>\n",
              "    </tr>\n",
              "  </thead>\n",
              "  <tbody>\n",
              "  </tbody>\n",
              "</table>\n",
              "</div>"
            ],
            "text/plain": [
              "Empty DataFrame\n",
              "Columns: [Borough, Cluster Labels, 1st Most Common Venue, 2nd Most Common Venue, 3rd Most Common Venue, 4th Most Common Venue, 5th Most Common Venue, 6th Most Common Venue, 7th Most Common Venue, 8th Most Common Venue, 9th Most Common Venue, 10th Most Common Venue]\n",
              "Index: []"
            ]
          },
          "metadata": {
            "tags": []
          },
          "execution_count": 70
        }
      ]
    },
    {
      "cell_type": "code",
      "metadata": {
        "id": "1TKy1SaEG7xi",
        "colab_type": "code",
        "colab": {}
      },
      "source": [
        ""
      ],
      "execution_count": 0,
      "outputs": []
    }
  ]
}