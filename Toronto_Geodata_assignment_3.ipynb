{
    "nbformat_minor": 1, 
    "cells": [
        {
            "source": "### First Let's import required libraries", 
            "cell_type": "markdown", 
            "metadata": {
                "collapsed": true
            }
        }, 
        {
            "execution_count": 12, 
            "cell_type": "code", 
            "metadata": {}, 
            "outputs": [
                {
                    "output_type": "stream", 
                    "name": "stdout", 
                    "text": "Requirement already satisfied: folium in /opt/conda/envs/DSX-Python35/lib/python3.5/site-packages (0.10.0)\nRequirement already satisfied: requests in /opt/conda/envs/DSX-Python35/lib/python3.5/site-packages (from folium) (2.18.4)\nRequirement already satisfied: jinja2>=2.9 in /opt/conda/envs/DSX-Python35/lib/python3.5/site-packages (from folium) (2.9.6)\nRequirement already satisfied: numpy in /opt/conda/envs/DSX-Python35/lib/python3.5/site-packages (from folium) (1.13.3)\nRequirement already satisfied: branca>=0.3.0 in /opt/conda/envs/DSX-Python35/lib/python3.5/site-packages (from folium) (0.3.1)\nRequirement already satisfied: chardet<3.1.0,>=3.0.2 in /opt/conda/envs/DSX-Python35/lib/python3.5/site-packages (from requests->folium) (3.0.4)\nRequirement already satisfied: idna<2.7,>=2.5 in /opt/conda/envs/DSX-Python35/lib/python3.5/site-packages (from requests->folium) (2.6)\nRequirement already satisfied: urllib3<1.23,>=1.21.1 in /opt/conda/envs/DSX-Python35/lib/python3.5/site-packages (from requests->folium) (1.22)\nRequirement already satisfied: certifi>=2017.4.17 in /opt/conda/envs/DSX-Python35/lib/python3.5/site-packages (from requests->folium) (2019.6.16)\nRequirement already satisfied: MarkupSafe>=0.23 in /opt/conda/envs/DSX-Python35/lib/python3.5/site-packages (from jinja2>=2.9->folium) (1.0)\nRequirement already satisfied: six in /opt/conda/envs/DSX-Python35/lib/python3.5/site-packages (from branca>=0.3.0->folium) (1.11.0)\n\u001b[31mtensorflow 1.3.0 requires tensorflow-tensorboard<0.2.0,>=0.1.0, which is not installed.\u001b[0m\nAll modules imported\n"
                }
            ], 
            "source": "from bs4 import BeautifulSoup\nimport requests\nimport pandas as pd\nimport json\nfrom pandas.io.json import json_normalize  # transform json files to pandas dataframes\nfrom geopy.geocoders import Nominatim # \nimport numpy as np\nimport csv\n!pip install folium\nimport folium\n\nprint('All modules imported')"
        }, 
        {
            "source": "## Let's start scraping the wikipedia page", 
            "cell_type": "markdown", 
            "metadata": {}
        }, 
        {
            "execution_count": 13, 
            "cell_type": "code", 
            "metadata": {}, 
            "outputs": [], 
            "source": "# The wikipedia site link\nsite_link = 'https://en.wikipedia.org/wiki/List_of_postal_codes_of_Canada:_M'"
        }, 
        {
            "source": "Get the source code html data from the website", 
            "cell_type": "markdown", 
            "metadata": {}
        }, 
        {
            "execution_count": 14, 
            "cell_type": "code", 
            "metadata": {}, 
            "outputs": [], 
            "source": "source = requests.get(site_link).text"
        }, 
        {
            "source": "Lets Use BeautifulSoup to parse it", 
            "cell_type": "markdown", 
            "metadata": {}
        }, 
        {
            "execution_count": 15, 
            "cell_type": "code", 
            "metadata": {}, 
            "outputs": [], 
            "source": "soup = BeautifulSoup(source, 'lxml')\n\n#print(soup.prettify())"
        }, 
        {
            "source": "Next let's get the table that contains the data we want to scrape", 
            "cell_type": "markdown", 
            "metadata": {}
        }, 
        {
            "execution_count": 16, 
            "cell_type": "code", 
            "metadata": {}, 
            "outputs": [], 
            "source": "My_table = soup.find('table',{'class':'wikitable sortable'})"
        }, 
        {
            "source": "Let's view the table data", 
            "cell_type": "markdown", 
            "metadata": {}
        }, 
        {
            "execution_count": 19, 
            "cell_type": "code", 
            "metadata": {}, 
            "outputs": [], 
            "source": "# Uncomment below to view table\n# My_table"
        }, 
        {
            "source": "we can see that all the data we want are between the $<td>$ brackets, let's get the data between the td brackets", 
            "cell_type": "markdown", 
            "metadata": {}
        }, 
        {
            "execution_count": 20, 
            "cell_type": "code", 
            "metadata": {}, 
            "outputs": [], 
            "source": "links = My_table.find_all('td')"
        }, 
        {
            "execution_count": 21, 
            "cell_type": "code", 
            "metadata": {}, 
            "outputs": [], 
            "source": "# uncomment below to view links\n# print(links)"
        }, 
        {
            "source": "Next let's loop through links and extract only the text elements", 
            "cell_type": "markdown", 
            "metadata": {}
        }, 
        {
            "execution_count": 22, 
            "cell_type": "code", 
            "metadata": {}, 
            "outputs": [], 
            "source": "text_links = []\n\nfor link in links:\n    text_links.append(link.text)\n    \n# uncommnet below to view text_links    \n#text_links"
        }, 
        {
            "source": "### let's clean and process the table elements", 
            "cell_type": "markdown", 
            "metadata": {}
        }, 
        {
            "source": "Let's clean the links and keep only rows with Borough. Out of which we shall rename rows without Neighborhood as Boroughs", 
            "cell_type": "markdown", 
            "metadata": {}
        }, 
        {
            "execution_count": 23, 
            "cell_type": "code", 
            "metadata": {
                "scrolled": true
            }, 
            "outputs": [], 
            "source": "cleaned_links = []\n\nwhile True:\n    \n    if len(text_links) < 3:\n        break\n    \n    sub = text_links[:3]\n    # If 'Not ' in borough then skip that row of data\n    if 'Not ' in sub[1]:\n        text_links = text_links[3:]\n    else:\n        cleaned_links.append(text_links[:3])\n        \n        # Let's strip off the \\n at the end of each neighborhood data\n        cleaned_links[-1][-1] = cleaned_links[-1][-1].strip('\\n')\n        \n        # If the Borough is available but the Neighborhood is missing\n        # make Neighborhood same as Borough\n        if 'Not ' in cleaned_links[-1][-1]:\n            cleaned_links[-1][-1] = cleaned_links[-1][-2]\n        text_links = text_links[3:]\n# Uncomment below to view cleaned_links       \n#cleaned_links"
        }, 
        {
            "source": "lets check the length of the cleaned links", 
            "cell_type": "markdown", 
            "metadata": {}
        }, 
        {
            "execution_count": 24, 
            "cell_type": "code", 
            "metadata": {}, 
            "outputs": [
                {
                    "execution_count": 24, 
                    "metadata": {}, 
                    "data": {
                        "text/plain": "211"
                    }, 
                    "output_type": "execute_result"
                }
            ], 
            "source": "len(cleaned_links)"
        }, 
        {
            "source": "Next let's add the neighborhood data of each duplicate Postal Codes together to the first instance or row that contains the PostalCode", 
            "cell_type": "markdown", 
            "metadata": {}
        }, 
        {
            "execution_count": 25, 
            "cell_type": "code", 
            "metadata": {
                "scrolled": true
            }, 
            "outputs": [], 
            "source": "link = []\nfor i in range(len(cleaned_links)):\n    x = cleaned_links[i][0]\n    if x in link:\n        cleaned_links[link.index(x)][-1] += ', ' + cleaned_links[i][-1]\n    link.append(x)\n    \n# uncomment below\n#cleaned_links"
        }, 
        {
            "source": "Next let's pass the cleaned _links to a data frame and set index to postal code so that we can easily work on it", 
            "cell_type": "markdown", 
            "metadata": {}
        }, 
        {
            "execution_count": 26, 
            "cell_type": "code", 
            "metadata": {}, 
            "outputs": [], 
            "source": "df = pd.DataFrame(cleaned_links, columns=['PostalCode','Borough','Neighborhood'])\ndf.index= df.PostalCode"
        }, 
        {
            "execution_count": 27, 
            "cell_type": "code", 
            "metadata": {}, 
            "outputs": [
                {
                    "execution_count": 27, 
                    "metadata": {}, 
                    "data": {
                        "text/html": "<div>\n<style scoped>\n    .dataframe tbody tr th:only-of-type {\n        vertical-align: middle;\n    }\n\n    .dataframe tbody tr th {\n        vertical-align: top;\n    }\n\n    .dataframe thead th {\n        text-align: right;\n    }\n</style>\n<table border=\"1\" class=\"dataframe\">\n  <thead>\n    <tr style=\"text-align: right;\">\n      <th></th>\n      <th>PostalCode</th>\n      <th>Borough</th>\n      <th>Neighborhood</th>\n    </tr>\n    <tr>\n      <th>PostalCode</th>\n      <th></th>\n      <th></th>\n      <th></th>\n    </tr>\n  </thead>\n  <tbody>\n    <tr>\n      <th>M3A</th>\n      <td>M3A</td>\n      <td>North York</td>\n      <td>Parkwoods</td>\n    </tr>\n    <tr>\n      <th>M4A</th>\n      <td>M4A</td>\n      <td>North York</td>\n      <td>Victoria Village</td>\n    </tr>\n    <tr>\n      <th>M5A</th>\n      <td>M5A</td>\n      <td>Downtown Toronto</td>\n      <td>Harbourfront, Regent Park</td>\n    </tr>\n    <tr>\n      <th>M5A</th>\n      <td>M5A</td>\n      <td>Downtown Toronto</td>\n      <td>Regent Park</td>\n    </tr>\n    <tr>\n      <th>M6A</th>\n      <td>M6A</td>\n      <td>North York</td>\n      <td>Lawrence Heights, Lawrence Manor</td>\n    </tr>\n  </tbody>\n</table>\n</div>", 
                        "text/plain": "           PostalCode           Borough                      Neighborhood\nPostalCode                                                               \nM3A               M3A        North York                         Parkwoods\nM4A               M4A        North York                  Victoria Village\nM5A               M5A  Downtown Toronto         Harbourfront, Regent Park\nM5A               M5A  Downtown Toronto                       Regent Park\nM6A               M6A        North York  Lawrence Heights, Lawrence Manor"
                    }, 
                    "output_type": "execute_result"
                }
            ], 
            "source": "# Let's view the data frame\ndf.head()"
        }, 
        {
            "source": "Next let's Use the pandas duplicate method to drop duplicate index", 
            "cell_type": "markdown", 
            "metadata": {}
        }, 
        {
            "execution_count": 28, 
            "cell_type": "code", 
            "metadata": {}, 
            "outputs": [], 
            "source": "df = df.loc[~df.index.duplicated(keep='first')]"
        }, 
        {
            "execution_count": 29, 
            "cell_type": "code", 
            "metadata": {}, 
            "outputs": [
                {
                    "execution_count": 29, 
                    "metadata": {}, 
                    "data": {
                        "text/plain": "(103, 3)"
                    }, 
                    "output_type": "execute_result"
                }
            ], 
            "source": "# Let's see the shape so far\ndf.shape"
        }, 
        {
            "execution_count": 30, 
            "cell_type": "code", 
            "metadata": {}, 
            "outputs": [
                {
                    "execution_count": 30, 
                    "metadata": {}, 
                    "data": {
                        "text/html": "<div>\n<style scoped>\n    .dataframe tbody tr th:only-of-type {\n        vertical-align: middle;\n    }\n\n    .dataframe tbody tr th {\n        vertical-align: top;\n    }\n\n    .dataframe thead th {\n        text-align: right;\n    }\n</style>\n<table border=\"1\" class=\"dataframe\">\n  <thead>\n    <tr style=\"text-align: right;\">\n      <th></th>\n      <th>PostalCode</th>\n      <th>Borough</th>\n      <th>Neighborhood</th>\n    </tr>\n    <tr>\n      <th>PostalCode</th>\n      <th></th>\n      <th></th>\n      <th></th>\n    </tr>\n  </thead>\n  <tbody>\n    <tr>\n      <th>M3A</th>\n      <td>M3A</td>\n      <td>North York</td>\n      <td>Parkwoods</td>\n    </tr>\n    <tr>\n      <th>M4A</th>\n      <td>M4A</td>\n      <td>North York</td>\n      <td>Victoria Village</td>\n    </tr>\n    <tr>\n      <th>M5A</th>\n      <td>M5A</td>\n      <td>Downtown Toronto</td>\n      <td>Harbourfront, Regent Park</td>\n    </tr>\n    <tr>\n      <th>M6A</th>\n      <td>M6A</td>\n      <td>North York</td>\n      <td>Lawrence Heights, Lawrence Manor</td>\n    </tr>\n    <tr>\n      <th>M7A</th>\n      <td>M7A</td>\n      <td>Queen's Park</td>\n      <td>Queen's Park</td>\n    </tr>\n  </tbody>\n</table>\n</div>", 
                        "text/plain": "           PostalCode           Borough                      Neighborhood\nPostalCode                                                               \nM3A               M3A        North York                         Parkwoods\nM4A               M4A        North York                  Victoria Village\nM5A               M5A  Downtown Toronto         Harbourfront, Regent Park\nM6A               M6A        North York  Lawrence Heights, Lawrence Manor\nM7A               M7A      Queen's Park                      Queen's Park"
                    }, 
                    "output_type": "execute_result"
                }
            ], 
            "source": "df.head()"
        }, 
        {
            "source": "Next let's reset the index back and drop the current index", 
            "cell_type": "markdown", 
            "metadata": {}
        }, 
        {
            "execution_count": 31, 
            "cell_type": "code", 
            "metadata": {
                "scrolled": true
            }, 
            "outputs": [
                {
                    "execution_count": 31, 
                    "metadata": {}, 
                    "data": {
                        "text/html": "<div>\n<style scoped>\n    .dataframe tbody tr th:only-of-type {\n        vertical-align: middle;\n    }\n\n    .dataframe tbody tr th {\n        vertical-align: top;\n    }\n\n    .dataframe thead th {\n        text-align: right;\n    }\n</style>\n<table border=\"1\" class=\"dataframe\">\n  <thead>\n    <tr style=\"text-align: right;\">\n      <th></th>\n      <th>PostalCode</th>\n      <th>Borough</th>\n      <th>Neighborhood</th>\n    </tr>\n  </thead>\n  <tbody>\n    <tr>\n      <th>0</th>\n      <td>M3A</td>\n      <td>North York</td>\n      <td>Parkwoods</td>\n    </tr>\n    <tr>\n      <th>1</th>\n      <td>M4A</td>\n      <td>North York</td>\n      <td>Victoria Village</td>\n    </tr>\n    <tr>\n      <th>2</th>\n      <td>M5A</td>\n      <td>Downtown Toronto</td>\n      <td>Harbourfront, Regent Park</td>\n    </tr>\n    <tr>\n      <th>3</th>\n      <td>M6A</td>\n      <td>North York</td>\n      <td>Lawrence Heights, Lawrence Manor</td>\n    </tr>\n    <tr>\n      <th>4</th>\n      <td>M7A</td>\n      <td>Queen's Park</td>\n      <td>Queen's Park</td>\n    </tr>\n    <tr>\n      <th>5</th>\n      <td>M9A</td>\n      <td>Etobicoke</td>\n      <td>Islington Avenue</td>\n    </tr>\n    <tr>\n      <th>6</th>\n      <td>M1B</td>\n      <td>Scarborough</td>\n      <td>Rouge, Malvern</td>\n    </tr>\n    <tr>\n      <th>7</th>\n      <td>M3B</td>\n      <td>North York</td>\n      <td>Don Mills North</td>\n    </tr>\n    <tr>\n      <th>8</th>\n      <td>M4B</td>\n      <td>East York</td>\n      <td>Woodbine Gardens, Parkview Hill</td>\n    </tr>\n    <tr>\n      <th>9</th>\n      <td>M5B</td>\n      <td>Downtown Toronto</td>\n      <td>Ryerson, Garden District</td>\n    </tr>\n    <tr>\n      <th>10</th>\n      <td>M6B</td>\n      <td>North York</td>\n      <td>Glencairn</td>\n    </tr>\n  </tbody>\n</table>\n</div>", 
                        "text/plain": "   PostalCode           Borough                      Neighborhood\n0         M3A        North York                         Parkwoods\n1         M4A        North York                  Victoria Village\n2         M5A  Downtown Toronto         Harbourfront, Regent Park\n3         M6A        North York  Lawrence Heights, Lawrence Manor\n4         M7A      Queen's Park                      Queen's Park\n5         M9A         Etobicoke                  Islington Avenue\n6         M1B       Scarborough                    Rouge, Malvern\n7         M3B        North York                   Don Mills North\n8         M4B         East York   Woodbine Gardens, Parkview Hill\n9         M5B  Downtown Toronto          Ryerson, Garden District\n10        M6B        North York                         Glencairn"
                    }, 
                    "output_type": "execute_result"
                }
            ], 
            "source": "df.reset_index(drop=True, inplace=True)\n\n# Let's see the first few rows\ndf.head(11)"
        }, 
        {
            "execution_count": 32, 
            "cell_type": "code", 
            "metadata": {}, 
            "outputs": [
                {
                    "execution_count": 32, 
                    "metadata": {}, 
                    "data": {
                        "text/plain": "(103, 3)"
                    }, 
                    "output_type": "execute_result"
                }
            ], 
            "source": "df.shape"
        }, 
        {
            "source": "### Appending the Latitude and Longitude data ", 
            "cell_type": "markdown", 
            "metadata": {}
        }, 
        {
            "source": "Let's define a simple method that we can apply to each Borough to get its Latitude and Longitude using the apply() method", 
            "cell_type": "markdown", 
            "metadata": {}
        }, 
        {
            "execution_count": 33, 
            "cell_type": "code", 
            "metadata": {}, 
            "outputs": [], 
            "source": "def latitude_longitude(Borough):\n    \"\"\" Method takes a Series object and returns\n    a list of Latitude and corresponding Longitude data,\n    using the geopy library.\n    This method also prints out the coordinate data\"\"\"\n    \n    address = Borough\n    \n    geolocator = Nominatim(user_agent=\"CA_explorer\")\n    location = geolocator.geocode(address)\n    latitude = location.latitude\n    longitude = location.longitude\n    print('The geograpical coordinate of {} are {}, {}.'.format(address, latitude, longitude))\n    return [latitude, longitude]\n"
        }, 
        {
            "source": "Let's append the list containing corresponding lat and lon data to column Latitude", 
            "cell_type": "markdown", 
            "metadata": {
                "scrolled": true
            }
        }, 
        {
            "execution_count": 34, 
            "cell_type": "code", 
            "metadata": {
                "scrolled": true
            }, 
            "outputs": [
                {
                    "output_type": "stream", 
                    "name": "stdout", 
                    "text": "The geograpical coordinate of North York are 43.7708175, -79.4132998.\nThe geograpical coordinate of North York are 43.7708175, -79.4132998.\nThe geograpical coordinate of Downtown Toronto are 43.6541737, -79.3808116451341.\nThe geograpical coordinate of North York are 43.7708175, -79.4132998.\nThe geograpical coordinate of Queen's Park are 43.6599803, -79.3903686.\nThe geograpical coordinate of Etobicoke are 43.67145915, -79.5524920661167.\nThe geograpical coordinate of Scarborough are 54.2847601, -0.4090339.\nThe geograpical coordinate of North York are 43.7708175, -79.4132998.\nThe geograpical coordinate of East York are 43.6913391, -79.3278212.\nThe geograpical coordinate of Downtown Toronto are 43.6541737, -79.3808116451341.\nThe geograpical coordinate of North York are 43.7708175, -79.4132998.\nThe geograpical coordinate of Etobicoke are 43.67145915, -79.5524920661167.\nThe geograpical coordinate of Scarborough are 54.2847601, -0.4090339.\nThe geograpical coordinate of North York are 43.7708175, -79.4132998.\nThe geograpical coordinate of East York are 43.6913391, -79.3278212.\nThe geograpical coordinate of Downtown Toronto are 43.6541737, -79.3808116451341.\nThe geograpical coordinate of York are 53.9590555, -1.0815361.\nThe geograpical coordinate of Etobicoke are 43.67145915, -79.5524920661167.\nThe geograpical coordinate of Scarborough are 54.2847601, -0.4090339.\nThe geograpical coordinate of East Toronto are 43.653963, -79.387207.\nThe geograpical coordinate of Downtown Toronto are 43.6541737, -79.3808116451341.\nThe geograpical coordinate of York are 53.9590555, -1.0815361.\nThe geograpical coordinate of Scarborough are 54.2847601, -0.4090339.\nThe geograpical coordinate of East York are 43.6913391, -79.3278212.\nThe geograpical coordinate of Downtown Toronto are 43.6541737, -79.3808116451341.\nThe geograpical coordinate of Downtown Toronto are 43.6541737, -79.3808116451341.\nThe geograpical coordinate of Scarborough are 54.2847601, -0.4090339.\nThe geograpical coordinate of North York are 43.7708175, -79.4132998.\nThe geograpical coordinate of North York are 43.7708175, -79.4132998.\nThe geograpical coordinate of East York are 43.6913391, -79.3278212.\nThe geograpical coordinate of Downtown Toronto are 43.6541737, -79.3808116451341.\nThe geograpical coordinate of West Toronto are 43.653963, -79.387207.\nThe geograpical coordinate of Scarborough are 54.2847601, -0.4090339.\nThe geograpical coordinate of North York are 43.7708175, -79.4132998.\nThe geograpical coordinate of North York are 43.7708175, -79.4132998.\nThe geograpical coordinate of East York are 43.6913391, -79.3278212.\nThe geograpical coordinate of Downtown Toronto are 43.6541737, -79.3808116451341.\nThe geograpical coordinate of West Toronto are 43.653963, -79.387207.\nThe geograpical coordinate of Scarborough are 54.2847601, -0.4090339.\nThe geograpical coordinate of North York are 43.7708175, -79.4132998.\nThe geograpical coordinate of North York are 43.7708175, -79.4132998.\nThe geograpical coordinate of East Toronto are 43.653963, -79.387207.\nThe geograpical coordinate of Downtown Toronto are 43.6541737, -79.3808116451341.\nThe geograpical coordinate of West Toronto are 43.653963, -79.387207.\nThe geograpical coordinate of Scarborough are 54.2847601, -0.4090339.\nThe geograpical coordinate of North York are 43.7708175, -79.4132998.\nThe geograpical coordinate of North York are 43.7708175, -79.4132998.\nThe geograpical coordinate of East Toronto are 43.653963, -79.387207.\nThe geograpical coordinate of Downtown Toronto are 43.6541737, -79.3808116451341.\nThe geograpical coordinate of North York are 43.7708175, -79.4132998.\nThe geograpical coordinate of North York are 43.7708175, -79.4132998.\nThe geograpical coordinate of Scarborough are 54.2847601, -0.4090339.\nThe geograpical coordinate of North York are 43.7708175, -79.4132998.\nThe geograpical coordinate of North York are 43.7708175, -79.4132998.\nThe geograpical coordinate of East Toronto are 43.653963, -79.387207.\nThe geograpical coordinate of North York are 43.7708175, -79.4132998.\nThe geograpical coordinate of York are 53.9590555, -1.0815361.\nThe geograpical coordinate of North York are 43.7708175, -79.4132998.\nThe geograpical coordinate of Scarborough are 54.2847601, -0.4090339.\nThe geograpical coordinate of North York are 43.7708175, -79.4132998.\nThe geograpical coordinate of North York are 43.7708175, -79.4132998.\nThe geograpical coordinate of Central Toronto are 43.653963, -79.387207.\nThe geograpical coordinate of Central Toronto are 43.653963, -79.387207.\nThe geograpical coordinate of York are 53.9590555, -1.0815361.\nThe geograpical coordinate of York are 53.9590555, -1.0815361.\nThe geograpical coordinate of Scarborough are 54.2847601, -0.4090339.\nThe geograpical coordinate of North York are 43.7708175, -79.4132998.\nThe geograpical coordinate of Central Toronto are 43.653963, -79.387207.\nThe geograpical coordinate of Central Toronto are 43.653963, -79.387207.\nThe geograpical coordinate of West Toronto are 43.653963, -79.387207.\nThe geograpical coordinate of Etobicoke are 43.67145915, -79.5524920661167.\nThe geograpical coordinate of Scarborough are 54.2847601, -0.4090339.\nThe geograpical coordinate of North York are 43.7708175, -79.4132998.\nThe geograpical coordinate of Central Toronto are 43.653963, -79.387207.\nThe geograpical coordinate of Central Toronto are 43.653963, -79.387207.\nThe geograpical coordinate of West Toronto are 43.653963, -79.387207.\nThe geograpical coordinate of Mississauga are 43.590338, -79.645729.\nThe geograpical coordinate of Etobicoke are 43.67145915, -79.5524920661167.\nThe geograpical coordinate of Scarborough are 54.2847601, -0.4090339.\nThe geograpical coordinate of Central Toronto are 43.653963, -79.387207.\nThe geograpical coordinate of Downtown Toronto are 43.6541737, -79.3808116451341.\nThe geograpical coordinate of West Toronto are 43.653963, -79.387207.\nThe geograpical coordinate of Scarborough are 54.2847601, -0.4090339.\nThe geograpical coordinate of Central Toronto are 43.653963, -79.387207.\nThe geograpical coordinate of Downtown Toronto are 43.6541737, -79.3808116451341.\nThe geograpical coordinate of Scarborough are 54.2847601, -0.4090339.\nThe geograpical coordinate of Central Toronto are 43.653963, -79.387207.\nThe geograpical coordinate of Downtown Toronto are 43.6541737, -79.3808116451341.\nThe geograpical coordinate of Etobicoke are 43.67145915, -79.5524920661167.\nThe geograpical coordinate of Etobicoke are 43.67145915, -79.5524920661167.\nThe geograpical coordinate of Scarborough are 54.2847601, -0.4090339.\nThe geograpical coordinate of Downtown Toronto are 43.6541737, -79.3808116451341.\nThe geograpical coordinate of Downtown Toronto are 43.6541737, -79.3808116451341.\nThe geograpical coordinate of Etobicoke are 43.67145915, -79.5524920661167.\nThe geograpical coordinate of Etobicoke are 43.67145915, -79.5524920661167.\nThe geograpical coordinate of Scarborough are 54.2847601, -0.4090339.\nThe geograpical coordinate of Downtown Toronto are 43.6541737, -79.3808116451341.\nThe geograpical coordinate of Downtown Toronto are 43.6541737, -79.3808116451341.\nThe geograpical coordinate of Etobicoke are 43.67145915, -79.5524920661167.\nThe geograpical coordinate of Downtown Toronto are 43.6541737, -79.3808116451341.\nThe geograpical coordinate of East Toronto are 43.653963, -79.387207.\nThe geograpical coordinate of Etobicoke are 43.67145915, -79.5524920661167.\nThe geograpical coordinate of Etobicoke are 43.67145915, -79.5524920661167.\n"
                }
            ], 
            "source": "df['Latitude'] = df.Borough.apply(latitude_longitude)"
        }, 
        {
            "execution_count": 35, 
            "cell_type": "code", 
            "metadata": {}, 
            "outputs": [
                {
                    "execution_count": 35, 
                    "metadata": {}, 
                    "data": {
                        "text/html": "<div>\n<style scoped>\n    .dataframe tbody tr th:only-of-type {\n        vertical-align: middle;\n    }\n\n    .dataframe tbody tr th {\n        vertical-align: top;\n    }\n\n    .dataframe thead th {\n        text-align: right;\n    }\n</style>\n<table border=\"1\" class=\"dataframe\">\n  <thead>\n    <tr style=\"text-align: right;\">\n      <th></th>\n      <th>PostalCode</th>\n      <th>Borough</th>\n      <th>Neighborhood</th>\n      <th>Latitude</th>\n    </tr>\n  </thead>\n  <tbody>\n    <tr>\n      <th>0</th>\n      <td>M3A</td>\n      <td>North York</td>\n      <td>Parkwoods</td>\n      <td>[43.7708175, -79.4132998]</td>\n    </tr>\n    <tr>\n      <th>1</th>\n      <td>M4A</td>\n      <td>North York</td>\n      <td>Victoria Village</td>\n      <td>[43.7708175, -79.4132998]</td>\n    </tr>\n    <tr>\n      <th>2</th>\n      <td>M5A</td>\n      <td>Downtown Toronto</td>\n      <td>Harbourfront, Regent Park</td>\n      <td>[43.6541737, -79.3808116451341]</td>\n    </tr>\n    <tr>\n      <th>3</th>\n      <td>M6A</td>\n      <td>North York</td>\n      <td>Lawrence Heights, Lawrence Manor</td>\n      <td>[43.7708175, -79.4132998]</td>\n    </tr>\n    <tr>\n      <th>4</th>\n      <td>M7A</td>\n      <td>Queen's Park</td>\n      <td>Queen's Park</td>\n      <td>[43.6599803, -79.3903686]</td>\n    </tr>\n  </tbody>\n</table>\n</div>", 
                        "text/plain": "  PostalCode           Borough                      Neighborhood  \\\n0        M3A        North York                         Parkwoods   \n1        M4A        North York                  Victoria Village   \n2        M5A  Downtown Toronto         Harbourfront, Regent Park   \n3        M6A        North York  Lawrence Heights, Lawrence Manor   \n4        M7A      Queen's Park                      Queen's Park   \n\n                          Latitude  \n0        [43.7708175, -79.4132998]  \n1        [43.7708175, -79.4132998]  \n2  [43.6541737, -79.3808116451341]  \n3        [43.7708175, -79.4132998]  \n4        [43.6599803, -79.3903686]  "
                    }, 
                    "output_type": "execute_result"
                }
            ], 
            "source": "# Lets see the updated data with Latitude containing lists of lats and lons data\n\ndf.head()"
        }, 
        {
            "source": "Next let's loop through the data frame and separate Latitude from Longitude and make lat and lons just numbers not lists", 
            "cell_type": "markdown", 
            "metadata": {}
        }, 
        {
            "execution_count": 36, 
            "cell_type": "code", 
            "metadata": {}, 
            "outputs": [], 
            "source": "lon_list = []\nfor i, j in df.iterrows():\n    lon_list.append(j.Latitude[1])\n    j.Latitude = j.Latitude[0]\n    \n# next let's assign the lon_list as the value of the Longitude Column\n\ndf['Longitude'] = lon_list"
        }, 
        {
            "execution_count": 37, 
            "cell_type": "code", 
            "metadata": {
                "scrolled": true
            }, 
            "outputs": [
                {
                    "execution_count": 37, 
                    "metadata": {}, 
                    "data": {
                        "text/html": "<div>\n<style scoped>\n    .dataframe tbody tr th:only-of-type {\n        vertical-align: middle;\n    }\n\n    .dataframe tbody tr th {\n        vertical-align: top;\n    }\n\n    .dataframe thead th {\n        text-align: right;\n    }\n</style>\n<table border=\"1\" class=\"dataframe\">\n  <thead>\n    <tr style=\"text-align: right;\">\n      <th></th>\n      <th>PostalCode</th>\n      <th>Borough</th>\n      <th>Neighborhood</th>\n      <th>Latitude</th>\n      <th>Longitude</th>\n    </tr>\n  </thead>\n  <tbody>\n    <tr>\n      <th>0</th>\n      <td>M3A</td>\n      <td>North York</td>\n      <td>Parkwoods</td>\n      <td>43.7708</td>\n      <td>-79.413300</td>\n    </tr>\n    <tr>\n      <th>1</th>\n      <td>M4A</td>\n      <td>North York</td>\n      <td>Victoria Village</td>\n      <td>43.7708</td>\n      <td>-79.413300</td>\n    </tr>\n    <tr>\n      <th>2</th>\n      <td>M5A</td>\n      <td>Downtown Toronto</td>\n      <td>Harbourfront, Regent Park</td>\n      <td>43.6542</td>\n      <td>-79.380812</td>\n    </tr>\n    <tr>\n      <th>3</th>\n      <td>M6A</td>\n      <td>North York</td>\n      <td>Lawrence Heights, Lawrence Manor</td>\n      <td>43.7708</td>\n      <td>-79.413300</td>\n    </tr>\n    <tr>\n      <th>4</th>\n      <td>M7A</td>\n      <td>Queen's Park</td>\n      <td>Queen's Park</td>\n      <td>43.66</td>\n      <td>-79.390369</td>\n    </tr>\n    <tr>\n      <th>5</th>\n      <td>M9A</td>\n      <td>Etobicoke</td>\n      <td>Islington Avenue</td>\n      <td>43.6715</td>\n      <td>-79.552492</td>\n    </tr>\n    <tr>\n      <th>6</th>\n      <td>M1B</td>\n      <td>Scarborough</td>\n      <td>Rouge, Malvern</td>\n      <td>54.2848</td>\n      <td>-0.409034</td>\n    </tr>\n    <tr>\n      <th>7</th>\n      <td>M3B</td>\n      <td>North York</td>\n      <td>Don Mills North</td>\n      <td>43.7708</td>\n      <td>-79.413300</td>\n    </tr>\n    <tr>\n      <th>8</th>\n      <td>M4B</td>\n      <td>East York</td>\n      <td>Woodbine Gardens, Parkview Hill</td>\n      <td>43.6913</td>\n      <td>-79.327821</td>\n    </tr>\n    <tr>\n      <th>9</th>\n      <td>M5B</td>\n      <td>Downtown Toronto</td>\n      <td>Ryerson, Garden District</td>\n      <td>43.6542</td>\n      <td>-79.380812</td>\n    </tr>\n    <tr>\n      <th>10</th>\n      <td>M6B</td>\n      <td>North York</td>\n      <td>Glencairn</td>\n      <td>43.7708</td>\n      <td>-79.413300</td>\n    </tr>\n    <tr>\n      <th>11</th>\n      <td>M9B</td>\n      <td>Etobicoke</td>\n      <td>Cloverdale, Islington, Martin Grove, Princess ...</td>\n      <td>43.6715</td>\n      <td>-79.552492</td>\n    </tr>\n    <tr>\n      <th>12</th>\n      <td>M1C</td>\n      <td>Scarborough</td>\n      <td>Highland Creek, Rouge Hill, Port Union</td>\n      <td>54.2848</td>\n      <td>-0.409034</td>\n    </tr>\n    <tr>\n      <th>13</th>\n      <td>M3C</td>\n      <td>North York</td>\n      <td>Flemingdon Park, Don Mills South</td>\n      <td>43.7708</td>\n      <td>-79.413300</td>\n    </tr>\n    <tr>\n      <th>14</th>\n      <td>M4C</td>\n      <td>East York</td>\n      <td>Woodbine Heights</td>\n      <td>43.6913</td>\n      <td>-79.327821</td>\n    </tr>\n  </tbody>\n</table>\n</div>", 
                        "text/plain": "   PostalCode           Borough  \\\n0         M3A        North York   \n1         M4A        North York   \n2         M5A  Downtown Toronto   \n3         M6A        North York   \n4         M7A      Queen's Park   \n5         M9A         Etobicoke   \n6         M1B       Scarborough   \n7         M3B        North York   \n8         M4B         East York   \n9         M5B  Downtown Toronto   \n10        M6B        North York   \n11        M9B         Etobicoke   \n12        M1C       Scarborough   \n13        M3C        North York   \n14        M4C         East York   \n\n                                         Neighborhood Latitude  Longitude  \n0                                           Parkwoods  43.7708 -79.413300  \n1                                    Victoria Village  43.7708 -79.413300  \n2                           Harbourfront, Regent Park  43.6542 -79.380812  \n3                    Lawrence Heights, Lawrence Manor  43.7708 -79.413300  \n4                                        Queen's Park    43.66 -79.390369  \n5                                    Islington Avenue  43.6715 -79.552492  \n6                                      Rouge, Malvern  54.2848  -0.409034  \n7                                     Don Mills North  43.7708 -79.413300  \n8                     Woodbine Gardens, Parkview Hill  43.6913 -79.327821  \n9                            Ryerson, Garden District  43.6542 -79.380812  \n10                                          Glencairn  43.7708 -79.413300  \n11  Cloverdale, Islington, Martin Grove, Princess ...  43.6715 -79.552492  \n12             Highland Creek, Rouge Hill, Port Union  54.2848  -0.409034  \n13                   Flemingdon Park, Don Mills South  43.7708 -79.413300  \n14                                   Woodbine Heights  43.6913 -79.327821  "
                    }, 
                    "output_type": "execute_result"
                }
            ], 
            "source": "# let's view the changes\n\ndf.head(15)"
        }, 
        {
            "execution_count": 38, 
            "cell_type": "code", 
            "metadata": {}, 
            "outputs": [
                {
                    "execution_count": 38, 
                    "metadata": {}, 
                    "data": {
                        "text/plain": "(103, 5)"
                    }, 
                    "output_type": "execute_result"
                }
            ], 
            "source": "# Let's print the shape of the data frame\n\ndf.shape"
        }, 
        {
            "source": "### EDA of Toronto Neighborhood Clusters", 
            "cell_type": "markdown", 
            "metadata": {}
        }, 
        {
            "source": "Let's explore and cluster the neighborhoods in Toronto. We can decide to work with only boroughs that contain the word Toronto and then replicate the same analysis we did earlier to the New York City data.", 
            "cell_type": "markdown", 
            "metadata": {}
        }, 
        {
            "execution_count": 39, 
            "cell_type": "code", 
            "metadata": {
                "scrolled": true
            }, 
            "outputs": [
                {
                    "execution_count": 39, 
                    "metadata": {}, 
                    "data": {
                        "text/html": "<div>\n<style scoped>\n    .dataframe tbody tr th:only-of-type {\n        vertical-align: middle;\n    }\n\n    .dataframe tbody tr th {\n        vertical-align: top;\n    }\n\n    .dataframe thead th {\n        text-align: right;\n    }\n</style>\n<table border=\"1\" class=\"dataframe\">\n  <thead>\n    <tr style=\"text-align: right;\">\n      <th></th>\n      <th>PostalCode</th>\n      <th>Borough</th>\n      <th>Neighborhood</th>\n      <th>Latitude</th>\n      <th>Longitude</th>\n    </tr>\n  </thead>\n  <tbody>\n    <tr>\n      <th>0</th>\n      <td>M3A</td>\n      <td>North York</td>\n      <td>Parkwoods</td>\n      <td>43.7708</td>\n      <td>-79.413300</td>\n    </tr>\n    <tr>\n      <th>1</th>\n      <td>M4A</td>\n      <td>North York</td>\n      <td>Victoria Village</td>\n      <td>43.7708</td>\n      <td>-79.413300</td>\n    </tr>\n    <tr>\n      <th>2</th>\n      <td>M5A</td>\n      <td>Downtown Toronto</td>\n      <td>Harbourfront, Regent Park</td>\n      <td>43.6542</td>\n      <td>-79.380812</td>\n    </tr>\n    <tr>\n      <th>3</th>\n      <td>M6A</td>\n      <td>North York</td>\n      <td>Lawrence Heights, Lawrence Manor</td>\n      <td>43.7708</td>\n      <td>-79.413300</td>\n    </tr>\n    <tr>\n      <th>4</th>\n      <td>M7A</td>\n      <td>Queen's Park</td>\n      <td>Queen's Park</td>\n      <td>43.66</td>\n      <td>-79.390369</td>\n    </tr>\n    <tr>\n      <th>5</th>\n      <td>M9A</td>\n      <td>Etobicoke</td>\n      <td>Islington Avenue</td>\n      <td>43.6715</td>\n      <td>-79.552492</td>\n    </tr>\n    <tr>\n      <th>6</th>\n      <td>M1B</td>\n      <td>Scarborough</td>\n      <td>Rouge, Malvern</td>\n      <td>54.2848</td>\n      <td>-0.409034</td>\n    </tr>\n    <tr>\n      <th>7</th>\n      <td>M3B</td>\n      <td>North York</td>\n      <td>Don Mills North</td>\n      <td>43.7708</td>\n      <td>-79.413300</td>\n    </tr>\n    <tr>\n      <th>8</th>\n      <td>M4B</td>\n      <td>East York</td>\n      <td>Woodbine Gardens, Parkview Hill</td>\n      <td>43.6913</td>\n      <td>-79.327821</td>\n    </tr>\n    <tr>\n      <th>9</th>\n      <td>M5B</td>\n      <td>Downtown Toronto</td>\n      <td>Ryerson, Garden District</td>\n      <td>43.6542</td>\n      <td>-79.380812</td>\n    </tr>\n  </tbody>\n</table>\n</div>", 
                        "text/plain": "  PostalCode           Borough                      Neighborhood Latitude  \\\n0        M3A        North York                         Parkwoods  43.7708   \n1        M4A        North York                  Victoria Village  43.7708   \n2        M5A  Downtown Toronto         Harbourfront, Regent Park  43.6542   \n3        M6A        North York  Lawrence Heights, Lawrence Manor  43.7708   \n4        M7A      Queen's Park                      Queen's Park    43.66   \n5        M9A         Etobicoke                  Islington Avenue  43.6715   \n6        M1B       Scarborough                    Rouge, Malvern  54.2848   \n7        M3B        North York                   Don Mills North  43.7708   \n8        M4B         East York   Woodbine Gardens, Parkview Hill  43.6913   \n9        M5B  Downtown Toronto          Ryerson, Garden District  43.6542   \n\n   Longitude  \n0 -79.413300  \n1 -79.413300  \n2 -79.380812  \n3 -79.413300  \n4 -79.390369  \n5 -79.552492  \n6  -0.409034  \n7 -79.413300  \n8 -79.327821  \n9 -79.380812  "
                    }, 
                    "output_type": "execute_result"
                }
            ], 
            "source": "df.head(10)"
        }, 
        {
            "source": "Let's see the unique Borough names we have in the Data Frame", 
            "cell_type": "markdown", 
            "metadata": {}
        }, 
        {
            "execution_count": 40, 
            "cell_type": "code", 
            "metadata": {
                "scrolled": true
            }, 
            "outputs": [
                {
                    "execution_count": 40, 
                    "metadata": {}, 
                    "data": {
                        "text/plain": "array(['North York', 'Downtown Toronto', \"Queen's Park\", 'Etobicoke',\n       'Scarborough', 'East York', 'York', 'East Toronto', 'West Toronto',\n       'Central Toronto', 'Mississauga'], dtype=object)"
                    }, 
                    "output_type": "execute_result"
                }
            ], 
            "source": "df.Borough.unique()"
        }, 
        {
            "source": "Let's loop through the data frame and get the index of Boroughs that end with 'Toronto'", 
            "cell_type": "markdown", 
            "metadata": {}
        }, 
        {
            "execution_count": 41, 
            "cell_type": "code", 
            "metadata": {}, 
            "outputs": [], 
            "source": "toronto_list = [i for i in df.index if df.iloc[i,1].endswith('Toronto')]"
        }, 
        {
            "source": "Let's slice through the data frame to select only these rows of Boroughs ending with Toronto", 
            "cell_type": "markdown", 
            "metadata": {}
        }, 
        {
            "execution_count": 42, 
            "cell_type": "code", 
            "metadata": {}, 
            "outputs": [], 
            "source": "Toronto_df = df.iloc[toronto_list,].reset_index(drop=True)"
        }, 
        {
            "source": "let's visualize the first 10 rows", 
            "cell_type": "markdown", 
            "metadata": {
                "scrolled": false
            }
        }, 
        {
            "execution_count": 43, 
            "cell_type": "code", 
            "metadata": {
                "scrolled": false
            }, 
            "outputs": [
                {
                    "execution_count": 43, 
                    "metadata": {}, 
                    "data": {
                        "text/html": "<div>\n<style scoped>\n    .dataframe tbody tr th:only-of-type {\n        vertical-align: middle;\n    }\n\n    .dataframe tbody tr th {\n        vertical-align: top;\n    }\n\n    .dataframe thead th {\n        text-align: right;\n    }\n</style>\n<table border=\"1\" class=\"dataframe\">\n  <thead>\n    <tr style=\"text-align: right;\">\n      <th></th>\n      <th>PostalCode</th>\n      <th>Borough</th>\n      <th>Neighborhood</th>\n      <th>Latitude</th>\n      <th>Longitude</th>\n    </tr>\n  </thead>\n  <tbody>\n    <tr>\n      <th>0</th>\n      <td>M5A</td>\n      <td>Downtown Toronto</td>\n      <td>Harbourfront, Regent Park</td>\n      <td>43.6542</td>\n      <td>-79.380812</td>\n    </tr>\n    <tr>\n      <th>1</th>\n      <td>M5B</td>\n      <td>Downtown Toronto</td>\n      <td>Ryerson, Garden District</td>\n      <td>43.6542</td>\n      <td>-79.380812</td>\n    </tr>\n    <tr>\n      <th>2</th>\n      <td>M5C</td>\n      <td>Downtown Toronto</td>\n      <td>St. James Town</td>\n      <td>43.6542</td>\n      <td>-79.380812</td>\n    </tr>\n    <tr>\n      <th>3</th>\n      <td>M4E</td>\n      <td>East Toronto</td>\n      <td>The Beaches</td>\n      <td>43.654</td>\n      <td>-79.387207</td>\n    </tr>\n    <tr>\n      <th>4</th>\n      <td>M5E</td>\n      <td>Downtown Toronto</td>\n      <td>Berczy Park</td>\n      <td>43.6542</td>\n      <td>-79.380812</td>\n    </tr>\n    <tr>\n      <th>5</th>\n      <td>M5G</td>\n      <td>Downtown Toronto</td>\n      <td>Central Bay Street</td>\n      <td>43.6542</td>\n      <td>-79.380812</td>\n    </tr>\n    <tr>\n      <th>6</th>\n      <td>M6G</td>\n      <td>Downtown Toronto</td>\n      <td>Christie</td>\n      <td>43.6542</td>\n      <td>-79.380812</td>\n    </tr>\n    <tr>\n      <th>7</th>\n      <td>M5H</td>\n      <td>Downtown Toronto</td>\n      <td>Adelaide, King, Richmond</td>\n      <td>43.6542</td>\n      <td>-79.380812</td>\n    </tr>\n    <tr>\n      <th>8</th>\n      <td>M6H</td>\n      <td>West Toronto</td>\n      <td>Dovercourt Village, Dufferin</td>\n      <td>43.654</td>\n      <td>-79.387207</td>\n    </tr>\n    <tr>\n      <th>9</th>\n      <td>M5J</td>\n      <td>Downtown Toronto</td>\n      <td>Harbourfront East, Toronto Islands, Union Station</td>\n      <td>43.6542</td>\n      <td>-79.380812</td>\n    </tr>\n  </tbody>\n</table>\n</div>", 
                        "text/plain": "  PostalCode           Borough  \\\n0        M5A  Downtown Toronto   \n1        M5B  Downtown Toronto   \n2        M5C  Downtown Toronto   \n3        M4E      East Toronto   \n4        M5E  Downtown Toronto   \n5        M5G  Downtown Toronto   \n6        M6G  Downtown Toronto   \n7        M5H  Downtown Toronto   \n8        M6H      West Toronto   \n9        M5J  Downtown Toronto   \n\n                                        Neighborhood Latitude  Longitude  \n0                          Harbourfront, Regent Park  43.6542 -79.380812  \n1                           Ryerson, Garden District  43.6542 -79.380812  \n2                                     St. James Town  43.6542 -79.380812  \n3                                        The Beaches   43.654 -79.387207  \n4                                        Berczy Park  43.6542 -79.380812  \n5                                 Central Bay Street  43.6542 -79.380812  \n6                                           Christie  43.6542 -79.380812  \n7                           Adelaide, King, Richmond  43.6542 -79.380812  \n8                       Dovercourt Village, Dufferin   43.654 -79.387207  \n9  Harbourfront East, Toronto Islands, Union Station  43.6542 -79.380812  "
                    }, 
                    "output_type": "execute_result"
                }
            ], 
            "source": "Toronto_df.head(10)"
        }, 
        {
            "source": "Lets see the unique Boroughs once again in Toronto", 
            "cell_type": "markdown", 
            "metadata": {}
        }, 
        {
            "execution_count": 44, 
            "cell_type": "code", 
            "metadata": {}, 
            "outputs": [
                {
                    "execution_count": 44, 
                    "metadata": {}, 
                    "data": {
                        "text/plain": "array(['Downtown Toronto', 'East Toronto', 'West Toronto',\n       'Central Toronto'], dtype=object)"
                    }, 
                    "output_type": "execute_result"
                }
            ], 
            "source": "Toronto_df.Borough.unique()"
        }, 
        {
            "source": "Let's get the geographic coordinates of Toronto", 
            "cell_type": "markdown", 
            "metadata": {}
        }, 
        {
            "execution_count": 45, 
            "cell_type": "code", 
            "metadata": {
                "scrolled": true
            }, 
            "outputs": [
                {
                    "output_type": "stream", 
                    "name": "stdout", 
                    "text": "The geograpical coordinates of Toronto are 43.653963, -79.387207.\n"
                }
            ], 
            "source": "address = 'Toronto'\n\ngeolocator = Nominatim(user_agent='CA_explorer')\nlocation = geolocator.geocode(address)\nlatitude = location.latitude\nlongitude = location.longitude\n\nprint('The geograpical coordinates of {} are {}, {}.'.format(address, latitude, longitude))"
        }, 
        {
            "source": "let's visualize Toronto and the neighborhoods in it.", 
            "cell_type": "markdown", 
            "metadata": {
                "scrolled": true
            }
        }, 
        {
            "execution_count": 46, 
            "cell_type": "code", 
            "metadata": {
                "scrolled": true
            }, 
            "outputs": [
                {
                    "execution_count": 46, 
                    "metadata": {}, 
                    "data": {
                        "text/html": "<div style=\"width:100%;\"><div style=\"position:relative;width:100%;height:0;padding-bottom:60%;\"><iframe src=\"data:text/html;charset=utf-8;base64,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\" style=\"position:absolute;width:100%;height:100%;left:0;top:0;border:none !important;\" allowfullscreen webkitallowfullscreen mozallowfullscreen></iframe></div></div>", 
                        "text/plain": "<folium.folium.Map at 0x7f4d95cde080>"
                    }, 
                    "output_type": "execute_result"
                }
            ], 
            "source": "# create map of Toronto using latitude and longitude values\nmap_toronto = folium.Map(location=[latitude, longitude], zoom_start=11)\n\n# add markers to map\nfor lat, lng, borough, neighborhood in zip(Toronto_df['Latitude'], Toronto_df['Longitude'], Toronto_df['Borough'], Toronto_df['Neighborhood']):\n    label = \"{}, {}\".format(neighborhood, borough)\n    label = folium.Popup(label, parse_html=True)\n    folium.CircleMarker(\n        [lat, lng],\n        radius=5,\n        popup=label,\n        color='blue',\n        fill=True,\n        fill_color='#3186cc',\n        fill_opacity=0.7,\n        parse_html=False).add_to(map_toronto)  \n    \nmap_toronto  # Feel free to zoom in to see more"
        }, 
        {
            "source": "### Let's explore the data using foursquare API", 
            "cell_type": "markdown", 
            "metadata": {}
        }, 
        {
            "execution_count": 47, 
            "cell_type": "code", 
            "metadata": {}, 
            "outputs": [
                {
                    "output_type": "stream", 
                    "name": "stdout", 
                    "text": "Your credentails:\nCLIENT_ID: L2XUYCRD44VP2YBDMZ3XY0Z4XKO1JODM5SMG3IIYRZ5330FD\nCLIENT_SECRET:5KI00FG4RT2VJQTIDPXFY1N4AOKTIXLIZEAO0AHPP3DPD0U1\n"
                }
            ], 
            "source": "CLIENT_ID = 'L2XUYCRD44VP2YBDMZ3XY0Z4XKO1JODM5SMG3IIYRZ5330FD' # your Foursquare ID\nCLIENT_SECRET = '5KI00FG4RT2VJQTIDPXFY1N4AOKTIXLIZEAO0AHPP3DPD0U1' # your Foursquare Secret\nVERSION = '20190727' # Foursquare API version\n\nprint('Your credentails:')\nprint('CLIENT_ID: ' + CLIENT_ID)\nprint('CLIENT_SECRET:' + CLIENT_SECRET)"
        }, 
        {
            "source": "Let's confirm the shape of Toronto_df", 
            "cell_type": "markdown", 
            "metadata": {}
        }, 
        {
            "execution_count": 48, 
            "cell_type": "code", 
            "metadata": {}, 
            "outputs": [
                {
                    "execution_count": 48, 
                    "metadata": {}, 
                    "data": {
                        "text/plain": "(38, 5)"
                    }, 
                    "output_type": "execute_result"
                }
            ], 
            "source": "Toronto_df.shape  # This shows there are 38 rows and 5 columns"
        }, 
        {
            "source": "Next let's see the unique borough names in Toronto_df", 
            "cell_type": "markdown", 
            "metadata": {}
        }, 
        {
            "execution_count": 49, 
            "cell_type": "code", 
            "metadata": {}, 
            "outputs": [
                {
                    "execution_count": 49, 
                    "metadata": {}, 
                    "data": {
                        "text/plain": "array(['Downtown Toronto', 'East Toronto', 'West Toronto',\n       'Central Toronto'], dtype=object)"
                    }, 
                    "output_type": "execute_result"
                }
            ], 
            "source": "Toronto_df.Borough.unique()"
        }, 
        {
            "source": "### Okay so lets explore the first location in 'Downtown Toronto'", 
            "cell_type": "markdown", 
            "metadata": {}
        }, 
        {
            "source": "Let's get the details of the first entry ", 
            "cell_type": "markdown", 
            "metadata": {}
        }, 
        {
            "execution_count": 53, 
            "cell_type": "code", 
            "metadata": {}, 
            "outputs": [
                {
                    "execution_count": 53, 
                    "metadata": {}, 
                    "data": {
                        "text/html": "<div>\n<style scoped>\n    .dataframe tbody tr th:only-of-type {\n        vertical-align: middle;\n    }\n\n    .dataframe tbody tr th {\n        vertical-align: top;\n    }\n\n    .dataframe thead th {\n        text-align: right;\n    }\n</style>\n<table border=\"1\" class=\"dataframe\">\n  <thead>\n    <tr style=\"text-align: right;\">\n      <th></th>\n      <th>PostalCode</th>\n      <th>Borough</th>\n      <th>Neighborhood</th>\n      <th>Latitude</th>\n      <th>Longitude</th>\n    </tr>\n  </thead>\n  <tbody>\n    <tr>\n      <th>0</th>\n      <td>M5A</td>\n      <td>Downtown Toronto</td>\n      <td>Harbourfront, Regent Park</td>\n      <td>43.6542</td>\n      <td>-79.380812</td>\n    </tr>\n  </tbody>\n</table>\n</div>", 
                        "text/plain": "  PostalCode           Borough               Neighborhood Latitude  Longitude\n0        M5A  Downtown Toronto  Harbourfront, Regent Park  43.6542 -79.380812"
                    }, 
                    "output_type": "execute_result"
                }
            ], 
            "source": "first_entry_Downtown_Toronto = Toronto_df[Toronto_df.Borough =='Downtown Toronto'].head(1)\n\nfirst_entry_Downtown_Toronto"
        }, 
        {
            "source": "Now, let's get the top 100 venues that are in the first entry within a radius of 500 meters.", 
            "cell_type": "markdown", 
            "metadata": {}
        }, 
        {
            "source": "First let's create the get request url", 
            "cell_type": "markdown", 
            "metadata": {}
        }, 
        {
            "execution_count": 59, 
            "cell_type": "code", 
            "metadata": {}, 
            "outputs": [], 
            "source": "radius = 500\nLIMIT=100\n\nurl = 'https://api.foursquare.com/v2/venues/explore?&client_id={}&client_secret={}&v={}&ll={},{}&radius={}&limit={}'.format(\n    CLIENT_ID, \n    CLIENT_SECRET, \n    VERSION, \n    first_entry_Downtown_Toronto.Latitude, \n    first_entry_Downtown_Toronto.Longitude, \n    radius, \n    LIMIT)"
        }, 
        {
            "source": "Send the GET request and examine the resutls", 
            "cell_type": "markdown", 
            "metadata": {}
        }, 
        {
            "execution_count": 64, 
            "cell_type": "code", 
            "metadata": {}, 
            "outputs": [
                {
                    "execution_count": 64, 
                    "metadata": {}, 
                    "data": {
                        "text/plain": "dict_keys(['meta', 'response'])"
                    }, 
                    "output_type": "execute_result"
                }
            ], 
            "source": "result = requests.get(url).json()\n\nresult.keys()"
        }, 
        {
            "execution_count": 65, 
            "cell_type": "code", 
            "metadata": {}, 
            "outputs": [
                {
                    "execution_count": 65, 
                    "metadata": {}, 
                    "data": {
                        "text/plain": "{'meta': {'code': 500,\n  'errorDetail': 'Foursquare servers are experiencing problems. Please retry and check status.foursquare.com for updates.',\n  'errorType': 'server_error'},\n 'response': {}}"
                    }, 
                    "output_type": "execute_result"
                }
            ], 
            "source": "result"
        }, 
        {
            "source": "**I keep getting the following error that Foursquare servers are experiencing problems**<br>\n**Based on the error we have come to a temporary pause of this exercise**", 
            "cell_type": "markdown", 
            "metadata": {}
        }, 
        {
            "execution_count": null, 
            "cell_type": "code", 
            "metadata": {}, 
            "outputs": [], 
            "source": ""
        }
    ], 
    "metadata": {
        "kernelspec": {
            "display_name": "Python 3.5", 
            "name": "python3", 
            "language": "python"
        }, 
        "language_info": {
            "mimetype": "text/x-python", 
            "nbconvert_exporter": "python", 
            "version": "3.5.5", 
            "name": "python", 
            "file_extension": ".py", 
            "pygments_lexer": "ipython3", 
            "codemirror_mode": {
                "version": 3, 
                "name": "ipython"
            }
        }
    }, 
    "nbformat": 4
}