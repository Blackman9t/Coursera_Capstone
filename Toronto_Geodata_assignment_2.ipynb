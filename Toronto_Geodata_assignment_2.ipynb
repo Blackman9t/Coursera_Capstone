{
    "nbformat_minor": 1, 
    "cells": [
        {
            "source": "### First Let's import required libraries", 
            "cell_type": "markdown", 
            "metadata": {
                "collapsed": true
            }
        }, 
        {
            "execution_count": 1, 
            "cell_type": "code", 
            "metadata": {}, 
            "outputs": [
                {
                    "output_type": "stream", 
                    "name": "stdout", 
                    "text": "Requirement already satisfied: folium in /opt/conda/envs/DSX-Python35/lib/python3.5/site-packages (0.10.0)\nRequirement already satisfied: numpy in /opt/conda/envs/DSX-Python35/lib/python3.5/site-packages (from folium) (1.13.3)\nRequirement already satisfied: requests in /opt/conda/envs/DSX-Python35/lib/python3.5/site-packages (from folium) (2.18.4)\nRequirement already satisfied: branca>=0.3.0 in /opt/conda/envs/DSX-Python35/lib/python3.5/site-packages (from folium) (0.3.1)\nRequirement already satisfied: jinja2>=2.9 in /opt/conda/envs/DSX-Python35/lib/python3.5/site-packages (from folium) (2.9.6)\nRequirement already satisfied: chardet<3.1.0,>=3.0.2 in /opt/conda/envs/DSX-Python35/lib/python3.5/site-packages (from requests->folium) (3.0.4)\nRequirement already satisfied: idna<2.7,>=2.5 in /opt/conda/envs/DSX-Python35/lib/python3.5/site-packages (from requests->folium) (2.6)\nRequirement already satisfied: urllib3<1.23,>=1.21.1 in /opt/conda/envs/DSX-Python35/lib/python3.5/site-packages (from requests->folium) (1.22)\nRequirement already satisfied: certifi>=2017.4.17 in /opt/conda/envs/DSX-Python35/lib/python3.5/site-packages (from requests->folium) (2019.6.16)\nRequirement already satisfied: six in /opt/conda/envs/DSX-Python35/lib/python3.5/site-packages (from branca>=0.3.0->folium) (1.11.0)\nRequirement already satisfied: MarkupSafe>=0.23 in /opt/conda/envs/DSX-Python35/lib/python3.5/site-packages (from jinja2>=2.9->folium) (1.0)\n\u001b[31mtensorflow 1.3.0 requires tensorflow-tensorboard<0.2.0,>=0.1.0, which is not installed.\u001b[0m\nAll modules imported\n"
                }
            ], 
            "source": "from bs4 import BeautifulSoup\nimport requests\nimport pandas as pd\nimport json\nfrom pandas.io.json import json_normalize  # transform json files to pandas dataframes\nfrom geopy.geocoders import Nominatim # \nimport numpy as np\nimport csv\n!pip install folium\nimport folium\n\nprint('All modules imported')"
        }, 
        {
            "source": "## Let's start scraping the wikipedia page", 
            "cell_type": "markdown", 
            "metadata": {}
        }, 
        {
            "execution_count": 2, 
            "cell_type": "code", 
            "metadata": {}, 
            "outputs": [], 
            "source": "# The wikipedia site link\nsite_link = 'https://en.wikipedia.org/wiki/List_of_postal_codes_of_Canada:_M'"
        }, 
        {
            "source": "Get the source code html data from the website", 
            "cell_type": "markdown", 
            "metadata": {}
        }, 
        {
            "execution_count": 3, 
            "cell_type": "code", 
            "metadata": {}, 
            "outputs": [], 
            "source": "source = requests.get(site_link).text"
        }, 
        {
            "source": "Lets Use BeautifulSoup to parse it", 
            "cell_type": "markdown", 
            "metadata": {}
        }, 
        {
            "execution_count": 4, 
            "cell_type": "code", 
            "metadata": {}, 
            "outputs": [], 
            "source": "soup = BeautifulSoup(source, 'lxml')\n\n#print(soup.prettify())"
        }, 
        {
            "source": "Next let's get the table that contains the data we want to scrape", 
            "cell_type": "markdown", 
            "metadata": {}
        }, 
        {
            "execution_count": 5, 
            "cell_type": "code", 
            "metadata": {}, 
            "outputs": [], 
            "source": "My_table = soup.find('table',{'class':'wikitable sortable'})"
        }, 
        {
            "source": "Let's view the table data", 
            "cell_type": "markdown", 
            "metadata": {}
        }, 
        {
            "execution_count": 6, 
            "cell_type": "code", 
            "metadata": {}, 
            "outputs": [], 
            "source": "# Uncomment below to view table\n# My_table"
        }, 
        {
            "source": "we can see that all the data we want are between the $<td>$ brackets, let's get the data between the td brackets", 
            "cell_type": "markdown", 
            "metadata": {}
        }, 
        {
            "execution_count": 7, 
            "cell_type": "code", 
            "metadata": {}, 
            "outputs": [], 
            "source": "links = My_table.find_all('td')"
        }, 
        {
            "execution_count": 9, 
            "cell_type": "code", 
            "metadata": {}, 
            "outputs": [], 
            "source": "# uncomment below to view links\n# print(links)"
        }, 
        {
            "source": "Next let's loop through links and extract only the text elements", 
            "cell_type": "markdown", 
            "metadata": {}
        }, 
        {
            "execution_count": 15, 
            "cell_type": "code", 
            "metadata": {}, 
            "outputs": [], 
            "source": "text_links = []\n\nfor link in links:\n    text_links.append(link.text)\n    \n# uncommnet below to view text_links    \n#text_links"
        }, 
        {
            "source": "### let's clean and process the table elements", 
            "cell_type": "markdown", 
            "metadata": {}
        }, 
        {
            "source": "Let's clean the links and keep only rows with Borough. Out of which we shall rename rows without Neighborhood as Boroughs", 
            "cell_type": "markdown", 
            "metadata": {}
        }, 
        {
            "execution_count": 16, 
            "cell_type": "code", 
            "metadata": {
                "scrolled": true
            }, 
            "outputs": [], 
            "source": "cleaned_links = []\n\nwhile True:\n    \n    if len(text_links) < 3:\n        break\n    \n    sub = text_links[:3]\n    # If 'Not ' in borough then skip that row of data\n    if 'Not ' in sub[1]:\n        text_links = text_links[3:]\n    else:\n        cleaned_links.append(text_links[:3])\n        \n        # Let's strip off the \\n at the end of each neighborhood data\n        cleaned_links[-1][-1] = cleaned_links[-1][-1].strip('\\n')\n        \n        # If the Borough is available but the Neighborhood is missing\n        # make Neighborhood same as Borough\n        if 'Not ' in cleaned_links[-1][-1]:\n            cleaned_links[-1][-1] = cleaned_links[-1][-2]\n        text_links = text_links[3:]\n# Uncomment below to view cleaned_links       \n#cleaned_links"
        }, 
        {
            "source": "lets check the length of the cleaned links", 
            "cell_type": "markdown", 
            "metadata": {}
        }, 
        {
            "execution_count": 17, 
            "cell_type": "code", 
            "metadata": {}, 
            "outputs": [
                {
                    "execution_count": 17, 
                    "metadata": {}, 
                    "data": {
                        "text/plain": "211"
                    }, 
                    "output_type": "execute_result"
                }
            ], 
            "source": "len(cleaned_links)"
        }, 
        {
            "source": "Next let's add the neighborhood data of each duplicate Postal Codes together to the first instance or row that contains the PostalCode", 
            "cell_type": "markdown", 
            "metadata": {}
        }, 
        {
            "execution_count": 18, 
            "cell_type": "code", 
            "metadata": {
                "scrolled": true
            }, 
            "outputs": [], 
            "source": "link = []\nfor i in range(len(cleaned_links)):\n    x = cleaned_links[i][0]\n    if x in link:\n        cleaned_links[link.index(x)][-1] += ', ' + cleaned_links[i][-1]\n    link.append(x)\n    \n# uncomment below\n#cleaned_links"
        }, 
        {
            "source": "Next let's pass the cleaned _links to a data frame and set index to postal code so that we can easily work on it", 
            "cell_type": "markdown", 
            "metadata": {}
        }, 
        {
            "execution_count": 19, 
            "cell_type": "code", 
            "metadata": {}, 
            "outputs": [], 
            "source": "df = pd.DataFrame(cleaned_links, columns=['PostalCode','Borough','Neighborhood'])\ndf.index= df.PostalCode"
        }, 
        {
            "execution_count": 20, 
            "cell_type": "code", 
            "metadata": {
                "scrolled": true
            }, 
            "outputs": [
                {
                    "execution_count": 20, 
                    "metadata": {}, 
                    "data": {
                        "text/html": "<div>\n<style scoped>\n    .dataframe tbody tr th:only-of-type {\n        vertical-align: middle;\n    }\n\n    .dataframe tbody tr th {\n        vertical-align: top;\n    }\n\n    .dataframe thead th {\n        text-align: right;\n    }\n</style>\n<table border=\"1\" class=\"dataframe\">\n  <thead>\n    <tr style=\"text-align: right;\">\n      <th></th>\n      <th>PostalCode</th>\n      <th>Borough</th>\n      <th>Neighborhood</th>\n    </tr>\n    <tr>\n      <th>PostalCode</th>\n      <th></th>\n      <th></th>\n      <th></th>\n    </tr>\n  </thead>\n  <tbody>\n    <tr>\n      <th>M3A</th>\n      <td>M3A</td>\n      <td>North York</td>\n      <td>Parkwoods</td>\n    </tr>\n    <tr>\n      <th>M4A</th>\n      <td>M4A</td>\n      <td>North York</td>\n      <td>Victoria Village</td>\n    </tr>\n    <tr>\n      <th>M5A</th>\n      <td>M5A</td>\n      <td>Downtown Toronto</td>\n      <td>Harbourfront, Regent Park</td>\n    </tr>\n    <tr>\n      <th>M5A</th>\n      <td>M5A</td>\n      <td>Downtown Toronto</td>\n      <td>Regent Park</td>\n    </tr>\n    <tr>\n      <th>M6A</th>\n      <td>M6A</td>\n      <td>North York</td>\n      <td>Lawrence Heights, Lawrence Manor</td>\n    </tr>\n  </tbody>\n</table>\n</div>", 
                        "text/plain": "           PostalCode           Borough                      Neighborhood\nPostalCode                                                               \nM3A               M3A        North York                         Parkwoods\nM4A               M4A        North York                  Victoria Village\nM5A               M5A  Downtown Toronto         Harbourfront, Regent Park\nM5A               M5A  Downtown Toronto                       Regent Park\nM6A               M6A        North York  Lawrence Heights, Lawrence Manor"
                    }, 
                    "output_type": "execute_result"
                }
            ], 
            "source": "# Let's view the data frame\ndf.head()"
        }, 
        {
            "source": "Next let's Use the pandas duplicate method to drop duplicate index", 
            "cell_type": "markdown", 
            "metadata": {}
        }, 
        {
            "execution_count": 21, 
            "cell_type": "code", 
            "metadata": {}, 
            "outputs": [], 
            "source": "df = df.loc[~df.index.duplicated(keep='first')]"
        }, 
        {
            "execution_count": 22, 
            "cell_type": "code", 
            "metadata": {}, 
            "outputs": [
                {
                    "execution_count": 22, 
                    "metadata": {}, 
                    "data": {
                        "text/plain": "(103, 3)"
                    }, 
                    "output_type": "execute_result"
                }
            ], 
            "source": "# Let's see the shape so far\ndf.shape"
        }, 
        {
            "execution_count": 23, 
            "cell_type": "code", 
            "metadata": {}, 
            "outputs": [
                {
                    "execution_count": 23, 
                    "metadata": {}, 
                    "data": {
                        "text/html": "<div>\n<style scoped>\n    .dataframe tbody tr th:only-of-type {\n        vertical-align: middle;\n    }\n\n    .dataframe tbody tr th {\n        vertical-align: top;\n    }\n\n    .dataframe thead th {\n        text-align: right;\n    }\n</style>\n<table border=\"1\" class=\"dataframe\">\n  <thead>\n    <tr style=\"text-align: right;\">\n      <th></th>\n      <th>PostalCode</th>\n      <th>Borough</th>\n      <th>Neighborhood</th>\n    </tr>\n    <tr>\n      <th>PostalCode</th>\n      <th></th>\n      <th></th>\n      <th></th>\n    </tr>\n  </thead>\n  <tbody>\n    <tr>\n      <th>M3A</th>\n      <td>M3A</td>\n      <td>North York</td>\n      <td>Parkwoods</td>\n    </tr>\n    <tr>\n      <th>M4A</th>\n      <td>M4A</td>\n      <td>North York</td>\n      <td>Victoria Village</td>\n    </tr>\n    <tr>\n      <th>M5A</th>\n      <td>M5A</td>\n      <td>Downtown Toronto</td>\n      <td>Harbourfront, Regent Park</td>\n    </tr>\n    <tr>\n      <th>M6A</th>\n      <td>M6A</td>\n      <td>North York</td>\n      <td>Lawrence Heights, Lawrence Manor</td>\n    </tr>\n    <tr>\n      <th>M7A</th>\n      <td>M7A</td>\n      <td>Queen's Park</td>\n      <td>Queen's Park</td>\n    </tr>\n  </tbody>\n</table>\n</div>", 
                        "text/plain": "           PostalCode           Borough                      Neighborhood\nPostalCode                                                               \nM3A               M3A        North York                         Parkwoods\nM4A               M4A        North York                  Victoria Village\nM5A               M5A  Downtown Toronto         Harbourfront, Regent Park\nM6A               M6A        North York  Lawrence Heights, Lawrence Manor\nM7A               M7A      Queen's Park                      Queen's Park"
                    }, 
                    "output_type": "execute_result"
                }
            ], 
            "source": "df.head()"
        }, 
        {
            "source": "Next let's reset the index back and drop the current index", 
            "cell_type": "markdown", 
            "metadata": {}
        }, 
        {
            "execution_count": 25, 
            "cell_type": "code", 
            "metadata": {
                "scrolled": true
            }, 
            "outputs": [
                {
                    "execution_count": 25, 
                    "metadata": {}, 
                    "data": {
                        "text/html": "<div>\n<style scoped>\n    .dataframe tbody tr th:only-of-type {\n        vertical-align: middle;\n    }\n\n    .dataframe tbody tr th {\n        vertical-align: top;\n    }\n\n    .dataframe thead th {\n        text-align: right;\n    }\n</style>\n<table border=\"1\" class=\"dataframe\">\n  <thead>\n    <tr style=\"text-align: right;\">\n      <th></th>\n      <th>PostalCode</th>\n      <th>Borough</th>\n      <th>Neighborhood</th>\n    </tr>\n  </thead>\n  <tbody>\n    <tr>\n      <th>0</th>\n      <td>M3A</td>\n      <td>North York</td>\n      <td>Parkwoods</td>\n    </tr>\n    <tr>\n      <th>1</th>\n      <td>M4A</td>\n      <td>North York</td>\n      <td>Victoria Village</td>\n    </tr>\n    <tr>\n      <th>2</th>\n      <td>M5A</td>\n      <td>Downtown Toronto</td>\n      <td>Harbourfront, Regent Park</td>\n    </tr>\n    <tr>\n      <th>3</th>\n      <td>M6A</td>\n      <td>North York</td>\n      <td>Lawrence Heights, Lawrence Manor</td>\n    </tr>\n    <tr>\n      <th>4</th>\n      <td>M7A</td>\n      <td>Queen's Park</td>\n      <td>Queen's Park</td>\n    </tr>\n    <tr>\n      <th>5</th>\n      <td>M9A</td>\n      <td>Etobicoke</td>\n      <td>Islington Avenue</td>\n    </tr>\n    <tr>\n      <th>6</th>\n      <td>M1B</td>\n      <td>Scarborough</td>\n      <td>Rouge, Malvern</td>\n    </tr>\n    <tr>\n      <th>7</th>\n      <td>M3B</td>\n      <td>North York</td>\n      <td>Don Mills North</td>\n    </tr>\n    <tr>\n      <th>8</th>\n      <td>M4B</td>\n      <td>East York</td>\n      <td>Woodbine Gardens, Parkview Hill</td>\n    </tr>\n    <tr>\n      <th>9</th>\n      <td>M5B</td>\n      <td>Downtown Toronto</td>\n      <td>Ryerson, Garden District</td>\n    </tr>\n    <tr>\n      <th>10</th>\n      <td>M6B</td>\n      <td>North York</td>\n      <td>Glencairn</td>\n    </tr>\n  </tbody>\n</table>\n</div>", 
                        "text/plain": "   PostalCode           Borough                      Neighborhood\n0         M3A        North York                         Parkwoods\n1         M4A        North York                  Victoria Village\n2         M5A  Downtown Toronto         Harbourfront, Regent Park\n3         M6A        North York  Lawrence Heights, Lawrence Manor\n4         M7A      Queen's Park                      Queen's Park\n5         M9A         Etobicoke                  Islington Avenue\n6         M1B       Scarborough                    Rouge, Malvern\n7         M3B        North York                   Don Mills North\n8         M4B         East York   Woodbine Gardens, Parkview Hill\n9         M5B  Downtown Toronto          Ryerson, Garden District\n10        M6B        North York                         Glencairn"
                    }, 
                    "output_type": "execute_result"
                }
            ], 
            "source": "df.reset_index(drop=True, inplace=True)\n\n# Let's see the first few rows\ndf.head(11)"
        }, 
        {
            "execution_count": 26, 
            "cell_type": "code", 
            "metadata": {}, 
            "outputs": [
                {
                    "execution_count": 26, 
                    "metadata": {}, 
                    "data": {
                        "text/plain": "(103, 3)"
                    }, 
                    "output_type": "execute_result"
                }
            ], 
            "source": "df.shape"
        }, 
        {
            "source": "### Appending the Latitude and Longitude data ", 
            "cell_type": "markdown", 
            "metadata": {}
        }, 
        {
            "source": "Let's define a simple method that we can apply to each Borough to get its Latitude and Longitude using the apply() method", 
            "cell_type": "markdown", 
            "metadata": {}
        }, 
        {
            "execution_count": 27, 
            "cell_type": "code", 
            "metadata": {}, 
            "outputs": [], 
            "source": "def latitude_longitude(Borough):\n    \"\"\" Method takes a Series object and returns\n    a list of Latitude and corresponding Longitude data,\n    using the geopy library.\n    This method also prints out the coordinate data\"\"\"\n    \n    address = Borough\n    \n    geolocator = Nominatim(user_agent=\"CA_explorer\")\n    location = geolocator.geocode(address)\n    latitude = location.latitude\n    longitude = location.longitude\n    print('The geograpical coordinate of {} are {}, {}.'.format(address, latitude, longitude))\n    return [latitude, longitude]\n"
        }, 
        {
            "source": "Let's append the list containing corresponding lat and lon data to column Latitude", 
            "cell_type": "markdown", 
            "metadata": {
                "scrolled": true
            }
        }, 
        {
            "execution_count": 29, 
            "cell_type": "code", 
            "metadata": {
                "scrolled": true
            }, 
            "outputs": [
                {
                    "output_type": "stream", 
                    "name": "stdout", 
                    "text": "The geograpical coordinate of North York are 43.7708175, -79.4132998.\nThe geograpical coordinate of North York are 43.7708175, -79.4132998.\nThe geograpical coordinate of Downtown Toronto are 43.6541737, -79.3808116451341.\nThe geograpical coordinate of North York are 43.7708175, -79.4132998.\nThe geograpical coordinate of Queen's Park are 43.6599803, -79.3903686.\nThe geograpical coordinate of Etobicoke are 43.67145915, -79.5524920661167.\nThe geograpical coordinate of Scarborough are 54.2847601, -0.4090339.\nThe geograpical coordinate of North York are 43.7708175, -79.4132998.\nThe geograpical coordinate of East York are 43.6913391, -79.3278212.\nThe geograpical coordinate of Downtown Toronto are 43.6541737, -79.3808116451341.\nThe geograpical coordinate of North York are 43.7708175, -79.4132998.\nThe geograpical coordinate of Etobicoke are 43.67145915, -79.5524920661167.\nThe geograpical coordinate of Scarborough are 54.2847601, -0.4090339.\nThe geograpical coordinate of North York are 43.7708175, -79.4132998.\nThe geograpical coordinate of East York are 43.6913391, -79.3278212.\nThe geograpical coordinate of Downtown Toronto are 43.6541737, -79.3808116451341.\nThe geograpical coordinate of York are 53.9590555, -1.0815361.\nThe geograpical coordinate of Etobicoke are 43.67145915, -79.5524920661167.\nThe geograpical coordinate of Scarborough are 54.2847601, -0.4090339.\nThe geograpical coordinate of East Toronto are 43.653963, -79.387207.\nThe geograpical coordinate of Downtown Toronto are 43.6541737, -79.3808116451341.\nThe geograpical coordinate of York are 53.9590555, -1.0815361.\nThe geograpical coordinate of Scarborough are 54.2847601, -0.4090339.\nThe geograpical coordinate of East York are 43.6913391, -79.3278212.\nThe geograpical coordinate of Downtown Toronto are 43.6541737, -79.3808116451341.\nThe geograpical coordinate of Downtown Toronto are 43.6541737, -79.3808116451341.\nThe geograpical coordinate of Scarborough are 54.2847601, -0.4090339.\nThe geograpical coordinate of North York are 43.7708175, -79.4132998.\nThe geograpical coordinate of North York are 43.7708175, -79.4132998.\nThe geograpical coordinate of East York are 43.6913391, -79.3278212.\nThe geograpical coordinate of Downtown Toronto are 43.6541737, -79.3808116451341.\nThe geograpical coordinate of West Toronto are 43.653963, -79.387207.\nThe geograpical coordinate of Scarborough are 54.2847601, -0.4090339.\nThe geograpical coordinate of North York are 43.7708175, -79.4132998.\nThe geograpical coordinate of North York are 43.7708175, -79.4132998.\nThe geograpical coordinate of East York are 43.6913391, -79.3278212.\nThe geograpical coordinate of Downtown Toronto are 43.6541737, -79.3808116451341.\nThe geograpical coordinate of West Toronto are 43.653963, -79.387207.\nThe geograpical coordinate of Scarborough are 54.2847601, -0.4090339.\nThe geograpical coordinate of North York are 43.7708175, -79.4132998.\nThe geograpical coordinate of North York are 43.7708175, -79.4132998.\nThe geograpical coordinate of East Toronto are 43.653963, -79.387207.\nThe geograpical coordinate of Downtown Toronto are 43.6541737, -79.3808116451341.\nThe geograpical coordinate of West Toronto are 43.653963, -79.387207.\nThe geograpical coordinate of Scarborough are 54.2847601, -0.4090339.\nThe geograpical coordinate of North York are 43.7708175, -79.4132998.\nThe geograpical coordinate of North York are 43.7708175, -79.4132998.\nThe geograpical coordinate of East Toronto are 43.653963, -79.387207.\nThe geograpical coordinate of Downtown Toronto are 43.6541737, -79.3808116451341.\nThe geograpical coordinate of North York are 43.7708175, -79.4132998.\nThe geograpical coordinate of North York are 43.7708175, -79.4132998.\nThe geograpical coordinate of Scarborough are 54.2847601, -0.4090339.\nThe geograpical coordinate of North York are 43.7708175, -79.4132998.\nThe geograpical coordinate of North York are 43.7708175, -79.4132998.\nThe geograpical coordinate of East Toronto are 43.653963, -79.387207.\nThe geograpical coordinate of North York are 43.7708175, -79.4132998.\nThe geograpical coordinate of York are 53.9590555, -1.0815361.\nThe geograpical coordinate of North York are 43.7708175, -79.4132998.\nThe geograpical coordinate of Scarborough are 54.2847601, -0.4090339.\nThe geograpical coordinate of North York are 43.7708175, -79.4132998.\nThe geograpical coordinate of North York are 43.7708175, -79.4132998.\nThe geograpical coordinate of Central Toronto are 43.653963, -79.387207.\nThe geograpical coordinate of Central Toronto are 43.653963, -79.387207.\nThe geograpical coordinate of York are 53.9590555, -1.0815361.\nThe geograpical coordinate of York are 53.9590555, -1.0815361.\nThe geograpical coordinate of Scarborough are 54.2847601, -0.4090339.\nThe geograpical coordinate of North York are 43.7708175, -79.4132998.\nThe geograpical coordinate of Central Toronto are 43.653963, -79.387207.\nThe geograpical coordinate of Central Toronto are 43.653963, -79.387207.\nThe geograpical coordinate of West Toronto are 43.653963, -79.387207.\nThe geograpical coordinate of Etobicoke are 43.67145915, -79.5524920661167.\nThe geograpical coordinate of Scarborough are 54.2847601, -0.4090339.\nThe geograpical coordinate of North York are 43.7708175, -79.4132998.\nThe geograpical coordinate of Central Toronto are 43.653963, -79.387207.\nThe geograpical coordinate of Central Toronto are 43.653963, -79.387207.\nThe geograpical coordinate of West Toronto are 43.653963, -79.387207.\nThe geograpical coordinate of Mississauga are 43.590338, -79.645729.\nThe geograpical coordinate of Etobicoke are 43.67145915, -79.5524920661167.\nThe geograpical coordinate of Scarborough are 54.2847601, -0.4090339.\nThe geograpical coordinate of Central Toronto are 43.653963, -79.387207.\nThe geograpical coordinate of Downtown Toronto are 43.6541737, -79.3808116451341.\nThe geograpical coordinate of West Toronto are 43.653963, -79.387207.\nThe geograpical coordinate of Scarborough are 54.2847601, -0.4090339.\nThe geograpical coordinate of Central Toronto are 43.653963, -79.387207.\nThe geograpical coordinate of Downtown Toronto are 43.6541737, -79.3808116451341.\nThe geograpical coordinate of Scarborough are 54.2847601, -0.4090339.\nThe geograpical coordinate of Central Toronto are 43.653963, -79.387207.\nThe geograpical coordinate of Downtown Toronto are 43.6541737, -79.3808116451341.\nThe geograpical coordinate of Etobicoke are 43.67145915, -79.5524920661167.\nThe geograpical coordinate of Etobicoke are 43.67145915, -79.5524920661167.\nThe geograpical coordinate of Scarborough are 54.2847601, -0.4090339.\nThe geograpical coordinate of Downtown Toronto are 43.6541737, -79.3808116451341.\nThe geograpical coordinate of Downtown Toronto are 43.6541737, -79.3808116451341.\nThe geograpical coordinate of Etobicoke are 43.67145915, -79.5524920661167.\nThe geograpical coordinate of Etobicoke are 43.67145915, -79.5524920661167.\nThe geograpical coordinate of Scarborough are 54.2847601, -0.4090339.\nThe geograpical coordinate of Downtown Toronto are 43.6541737, -79.3808116451341.\nThe geograpical coordinate of Downtown Toronto are 43.6541737, -79.3808116451341.\nThe geograpical coordinate of Etobicoke are 43.67145915, -79.5524920661167.\nThe geograpical coordinate of Downtown Toronto are 43.6541737, -79.3808116451341.\nThe geograpical coordinate of East Toronto are 43.653963, -79.387207.\nThe geograpical coordinate of Etobicoke are 43.67145915, -79.5524920661167.\nThe geograpical coordinate of Etobicoke are 43.67145915, -79.5524920661167.\n"
                }
            ], 
            "source": "df['Latitude'] = df.Borough.apply(latitude_longitude)"
        }, 
        {
            "execution_count": 30, 
            "cell_type": "code", 
            "metadata": {}, 
            "outputs": [
                {
                    "execution_count": 30, 
                    "metadata": {}, 
                    "data": {
                        "text/html": "<div>\n<style scoped>\n    .dataframe tbody tr th:only-of-type {\n        vertical-align: middle;\n    }\n\n    .dataframe tbody tr th {\n        vertical-align: top;\n    }\n\n    .dataframe thead th {\n        text-align: right;\n    }\n</style>\n<table border=\"1\" class=\"dataframe\">\n  <thead>\n    <tr style=\"text-align: right;\">\n      <th></th>\n      <th>PostalCode</th>\n      <th>Borough</th>\n      <th>Neighborhood</th>\n      <th>Latitude</th>\n    </tr>\n  </thead>\n  <tbody>\n    <tr>\n      <th>0</th>\n      <td>M3A</td>\n      <td>North York</td>\n      <td>Parkwoods</td>\n      <td>[43.7708175, -79.4132998]</td>\n    </tr>\n    <tr>\n      <th>1</th>\n      <td>M4A</td>\n      <td>North York</td>\n      <td>Victoria Village</td>\n      <td>[43.7708175, -79.4132998]</td>\n    </tr>\n    <tr>\n      <th>2</th>\n      <td>M5A</td>\n      <td>Downtown Toronto</td>\n      <td>Harbourfront, Regent Park</td>\n      <td>[43.6541737, -79.3808116451341]</td>\n    </tr>\n    <tr>\n      <th>3</th>\n      <td>M6A</td>\n      <td>North York</td>\n      <td>Lawrence Heights, Lawrence Manor</td>\n      <td>[43.7708175, -79.4132998]</td>\n    </tr>\n    <tr>\n      <th>4</th>\n      <td>M7A</td>\n      <td>Queen's Park</td>\n      <td>Queen's Park</td>\n      <td>[43.6599803, -79.3903686]</td>\n    </tr>\n  </tbody>\n</table>\n</div>", 
                        "text/plain": "  PostalCode           Borough                      Neighborhood  \\\n0        M3A        North York                         Parkwoods   \n1        M4A        North York                  Victoria Village   \n2        M5A  Downtown Toronto         Harbourfront, Regent Park   \n3        M6A        North York  Lawrence Heights, Lawrence Manor   \n4        M7A      Queen's Park                      Queen's Park   \n\n                          Latitude  \n0        [43.7708175, -79.4132998]  \n1        [43.7708175, -79.4132998]  \n2  [43.6541737, -79.3808116451341]  \n3        [43.7708175, -79.4132998]  \n4        [43.6599803, -79.3903686]  "
                    }, 
                    "output_type": "execute_result"
                }
            ], 
            "source": "# Lets see the updated data with Latitude containing lists of lats and lons data\n\ndf.head()"
        }, 
        {
            "source": "Next let's loop through the data frame and separate Latitude from Longitude and make lat and lons just numbers not lists", 
            "cell_type": "markdown", 
            "metadata": {}
        }, 
        {
            "execution_count": 31, 
            "cell_type": "code", 
            "metadata": {}, 
            "outputs": [], 
            "source": "lon_list = []\nfor i, j in df.iterrows():\n    lon_list.append(j.Latitude[1])\n    j.Latitude = j.Latitude[0]\n    \n# next let's assign the lon_list as the value of the Longitude Column\n\ndf['Longitude'] = lon_list"
        }, 
        {
            "execution_count": 33, 
            "cell_type": "code", 
            "metadata": {
                "scrolled": true
            }, 
            "outputs": [
                {
                    "execution_count": 33, 
                    "metadata": {}, 
                    "data": {
                        "text/html": "<div>\n<style scoped>\n    .dataframe tbody tr th:only-of-type {\n        vertical-align: middle;\n    }\n\n    .dataframe tbody tr th {\n        vertical-align: top;\n    }\n\n    .dataframe thead th {\n        text-align: right;\n    }\n</style>\n<table border=\"1\" class=\"dataframe\">\n  <thead>\n    <tr style=\"text-align: right;\">\n      <th></th>\n      <th>PostalCode</th>\n      <th>Borough</th>\n      <th>Neighborhood</th>\n      <th>Latitude</th>\n      <th>Longitude</th>\n    </tr>\n  </thead>\n  <tbody>\n    <tr>\n      <th>0</th>\n      <td>M3A</td>\n      <td>North York</td>\n      <td>Parkwoods</td>\n      <td>43.7708</td>\n      <td>-79.413300</td>\n    </tr>\n    <tr>\n      <th>1</th>\n      <td>M4A</td>\n      <td>North York</td>\n      <td>Victoria Village</td>\n      <td>43.7708</td>\n      <td>-79.413300</td>\n    </tr>\n    <tr>\n      <th>2</th>\n      <td>M5A</td>\n      <td>Downtown Toronto</td>\n      <td>Harbourfront, Regent Park</td>\n      <td>43.6542</td>\n      <td>-79.380812</td>\n    </tr>\n    <tr>\n      <th>3</th>\n      <td>M6A</td>\n      <td>North York</td>\n      <td>Lawrence Heights, Lawrence Manor</td>\n      <td>43.7708</td>\n      <td>-79.413300</td>\n    </tr>\n    <tr>\n      <th>4</th>\n      <td>M7A</td>\n      <td>Queen's Park</td>\n      <td>Queen's Park</td>\n      <td>43.66</td>\n      <td>-79.390369</td>\n    </tr>\n    <tr>\n      <th>5</th>\n      <td>M9A</td>\n      <td>Etobicoke</td>\n      <td>Islington Avenue</td>\n      <td>43.6715</td>\n      <td>-79.552492</td>\n    </tr>\n    <tr>\n      <th>6</th>\n      <td>M1B</td>\n      <td>Scarborough</td>\n      <td>Rouge, Malvern</td>\n      <td>54.2848</td>\n      <td>-0.409034</td>\n    </tr>\n    <tr>\n      <th>7</th>\n      <td>M3B</td>\n      <td>North York</td>\n      <td>Don Mills North</td>\n      <td>43.7708</td>\n      <td>-79.413300</td>\n    </tr>\n    <tr>\n      <th>8</th>\n      <td>M4B</td>\n      <td>East York</td>\n      <td>Woodbine Gardens, Parkview Hill</td>\n      <td>43.6913</td>\n      <td>-79.327821</td>\n    </tr>\n    <tr>\n      <th>9</th>\n      <td>M5B</td>\n      <td>Downtown Toronto</td>\n      <td>Ryerson, Garden District</td>\n      <td>43.6542</td>\n      <td>-79.380812</td>\n    </tr>\n    <tr>\n      <th>10</th>\n      <td>M6B</td>\n      <td>North York</td>\n      <td>Glencairn</td>\n      <td>43.7708</td>\n      <td>-79.413300</td>\n    </tr>\n    <tr>\n      <th>11</th>\n      <td>M9B</td>\n      <td>Etobicoke</td>\n      <td>Cloverdale, Islington, Martin Grove, Princess ...</td>\n      <td>43.6715</td>\n      <td>-79.552492</td>\n    </tr>\n    <tr>\n      <th>12</th>\n      <td>M1C</td>\n      <td>Scarborough</td>\n      <td>Highland Creek, Rouge Hill, Port Union</td>\n      <td>54.2848</td>\n      <td>-0.409034</td>\n    </tr>\n    <tr>\n      <th>13</th>\n      <td>M3C</td>\n      <td>North York</td>\n      <td>Flemingdon Park, Don Mills South</td>\n      <td>43.7708</td>\n      <td>-79.413300</td>\n    </tr>\n    <tr>\n      <th>14</th>\n      <td>M4C</td>\n      <td>East York</td>\n      <td>Woodbine Heights</td>\n      <td>43.6913</td>\n      <td>-79.327821</td>\n    </tr>\n    <tr>\n      <th>15</th>\n      <td>M5C</td>\n      <td>Downtown Toronto</td>\n      <td>St. James Town</td>\n      <td>43.6542</td>\n      <td>-79.380812</td>\n    </tr>\n    <tr>\n      <th>16</th>\n      <td>M6C</td>\n      <td>York</td>\n      <td>Humewood-Cedarvale</td>\n      <td>53.9591</td>\n      <td>-1.081536</td>\n    </tr>\n    <tr>\n      <th>17</th>\n      <td>M9C</td>\n      <td>Etobicoke</td>\n      <td>Bloordale Gardens, Eringate, Markland Wood, Ol...</td>\n      <td>43.6715</td>\n      <td>-79.552492</td>\n    </tr>\n    <tr>\n      <th>18</th>\n      <td>M1E</td>\n      <td>Scarborough</td>\n      <td>Guildwood, Morningside, West Hill</td>\n      <td>54.2848</td>\n      <td>-0.409034</td>\n    </tr>\n    <tr>\n      <th>19</th>\n      <td>M4E</td>\n      <td>East Toronto</td>\n      <td>The Beaches</td>\n      <td>43.654</td>\n      <td>-79.387207</td>\n    </tr>\n    <tr>\n      <th>20</th>\n      <td>M5E</td>\n      <td>Downtown Toronto</td>\n      <td>Berczy Park</td>\n      <td>43.6542</td>\n      <td>-79.380812</td>\n    </tr>\n    <tr>\n      <th>21</th>\n      <td>M6E</td>\n      <td>York</td>\n      <td>Caledonia-Fairbanks</td>\n      <td>53.9591</td>\n      <td>-1.081536</td>\n    </tr>\n    <tr>\n      <th>22</th>\n      <td>M1G</td>\n      <td>Scarborough</td>\n      <td>Woburn</td>\n      <td>54.2848</td>\n      <td>-0.409034</td>\n    </tr>\n    <tr>\n      <th>23</th>\n      <td>M4G</td>\n      <td>East York</td>\n      <td>Leaside</td>\n      <td>43.6913</td>\n      <td>-79.327821</td>\n    </tr>\n    <tr>\n      <th>24</th>\n      <td>M5G</td>\n      <td>Downtown Toronto</td>\n      <td>Central Bay Street</td>\n      <td>43.6542</td>\n      <td>-79.380812</td>\n    </tr>\n    <tr>\n      <th>25</th>\n      <td>M6G</td>\n      <td>Downtown Toronto</td>\n      <td>Christie</td>\n      <td>43.6542</td>\n      <td>-79.380812</td>\n    </tr>\n    <tr>\n      <th>26</th>\n      <td>M1H</td>\n      <td>Scarborough</td>\n      <td>Cedarbrae</td>\n      <td>54.2848</td>\n      <td>-0.409034</td>\n    </tr>\n    <tr>\n      <th>27</th>\n      <td>M2H</td>\n      <td>North York</td>\n      <td>Hillcrest Village</td>\n      <td>43.7708</td>\n      <td>-79.413300</td>\n    </tr>\n    <tr>\n      <th>28</th>\n      <td>M3H</td>\n      <td>North York</td>\n      <td>Bathurst Manor, Downsview North, Wilson Heights</td>\n      <td>43.7708</td>\n      <td>-79.413300</td>\n    </tr>\n    <tr>\n      <th>29</th>\n      <td>M4H</td>\n      <td>East York</td>\n      <td>Thorncliffe Park</td>\n      <td>43.6913</td>\n      <td>-79.327821</td>\n    </tr>\n    <tr>\n      <th>...</th>\n      <td>...</td>\n      <td>...</td>\n      <td>...</td>\n      <td>...</td>\n      <td>...</td>\n    </tr>\n    <tr>\n      <th>70</th>\n      <td>M9P</td>\n      <td>Etobicoke</td>\n      <td>Westmount</td>\n      <td>43.6715</td>\n      <td>-79.552492</td>\n    </tr>\n    <tr>\n      <th>71</th>\n      <td>M1R</td>\n      <td>Scarborough</td>\n      <td>Maryvale, Wexford</td>\n      <td>54.2848</td>\n      <td>-0.409034</td>\n    </tr>\n    <tr>\n      <th>72</th>\n      <td>M2R</td>\n      <td>North York</td>\n      <td>Willowdale West</td>\n      <td>43.7708</td>\n      <td>-79.413300</td>\n    </tr>\n    <tr>\n      <th>73</th>\n      <td>M4R</td>\n      <td>Central Toronto</td>\n      <td>North Toronto West</td>\n      <td>43.654</td>\n      <td>-79.387207</td>\n    </tr>\n    <tr>\n      <th>74</th>\n      <td>M5R</td>\n      <td>Central Toronto</td>\n      <td>The Annex, North Midtown, Yorkville</td>\n      <td>43.654</td>\n      <td>-79.387207</td>\n    </tr>\n    <tr>\n      <th>75</th>\n      <td>M6R</td>\n      <td>West Toronto</td>\n      <td>Parkdale, Roncesvalles</td>\n      <td>43.654</td>\n      <td>-79.387207</td>\n    </tr>\n    <tr>\n      <th>76</th>\n      <td>M7R</td>\n      <td>Mississauga</td>\n      <td>Canada Post Gateway Processing Centre</td>\n      <td>43.5903</td>\n      <td>-79.645729</td>\n    </tr>\n    <tr>\n      <th>77</th>\n      <td>M9R</td>\n      <td>Etobicoke</td>\n      <td>Kingsview Village, Martin Grove Gardens, Richv...</td>\n      <td>43.6715</td>\n      <td>-79.552492</td>\n    </tr>\n    <tr>\n      <th>78</th>\n      <td>M1S</td>\n      <td>Scarborough</td>\n      <td>Agincourt</td>\n      <td>54.2848</td>\n      <td>-0.409034</td>\n    </tr>\n    <tr>\n      <th>79</th>\n      <td>M4S</td>\n      <td>Central Toronto</td>\n      <td>Davisville</td>\n      <td>43.654</td>\n      <td>-79.387207</td>\n    </tr>\n    <tr>\n      <th>80</th>\n      <td>M5S</td>\n      <td>Downtown Toronto</td>\n      <td>Harbord, University of Toronto</td>\n      <td>43.6542</td>\n      <td>-79.380812</td>\n    </tr>\n    <tr>\n      <th>81</th>\n      <td>M6S</td>\n      <td>West Toronto</td>\n      <td>Runnymede, Swansea</td>\n      <td>43.654</td>\n      <td>-79.387207</td>\n    </tr>\n    <tr>\n      <th>82</th>\n      <td>M1T</td>\n      <td>Scarborough</td>\n      <td>Clarks Corners, Sullivan, Tam O'Shanter</td>\n      <td>54.2848</td>\n      <td>-0.409034</td>\n    </tr>\n    <tr>\n      <th>83</th>\n      <td>M4T</td>\n      <td>Central Toronto</td>\n      <td>Moore Park, Summerhill East</td>\n      <td>43.654</td>\n      <td>-79.387207</td>\n    </tr>\n    <tr>\n      <th>84</th>\n      <td>M5T</td>\n      <td>Downtown Toronto</td>\n      <td>Chinatown, Grange Park, Kensington Market</td>\n      <td>43.6542</td>\n      <td>-79.380812</td>\n    </tr>\n    <tr>\n      <th>85</th>\n      <td>M1V</td>\n      <td>Scarborough</td>\n      <td>Agincourt North, L'Amoreaux East, Milliken, St...</td>\n      <td>54.2848</td>\n      <td>-0.409034</td>\n    </tr>\n    <tr>\n      <th>86</th>\n      <td>M4V</td>\n      <td>Central Toronto</td>\n      <td>Deer Park, Forest Hill SE, Rathnelly, South Hi...</td>\n      <td>43.654</td>\n      <td>-79.387207</td>\n    </tr>\n    <tr>\n      <th>87</th>\n      <td>M5V</td>\n      <td>Downtown Toronto</td>\n      <td>CN Tower, Bathurst Quay, Island airport, Harbo...</td>\n      <td>43.6542</td>\n      <td>-79.380812</td>\n    </tr>\n    <tr>\n      <th>88</th>\n      <td>M8V</td>\n      <td>Etobicoke</td>\n      <td>Humber Bay Shores, Mimico South, New Toronto</td>\n      <td>43.6715</td>\n      <td>-79.552492</td>\n    </tr>\n    <tr>\n      <th>89</th>\n      <td>M9V</td>\n      <td>Etobicoke</td>\n      <td>Albion Gardens, Beaumond Heights, Humbergate, ...</td>\n      <td>43.6715</td>\n      <td>-79.552492</td>\n    </tr>\n    <tr>\n      <th>90</th>\n      <td>M1W</td>\n      <td>Scarborough</td>\n      <td>L'Amoreaux West</td>\n      <td>54.2848</td>\n      <td>-0.409034</td>\n    </tr>\n    <tr>\n      <th>91</th>\n      <td>M4W</td>\n      <td>Downtown Toronto</td>\n      <td>Rosedale</td>\n      <td>43.6542</td>\n      <td>-79.380812</td>\n    </tr>\n    <tr>\n      <th>92</th>\n      <td>M5W</td>\n      <td>Downtown Toronto</td>\n      <td>Stn A PO Boxes 25 The Esplanade</td>\n      <td>43.6542</td>\n      <td>-79.380812</td>\n    </tr>\n    <tr>\n      <th>93</th>\n      <td>M8W</td>\n      <td>Etobicoke</td>\n      <td>Alderwood, Long Branch</td>\n      <td>43.6715</td>\n      <td>-79.552492</td>\n    </tr>\n    <tr>\n      <th>94</th>\n      <td>M9W</td>\n      <td>Etobicoke</td>\n      <td>Northwest</td>\n      <td>43.6715</td>\n      <td>-79.552492</td>\n    </tr>\n    <tr>\n      <th>95</th>\n      <td>M1X</td>\n      <td>Scarborough</td>\n      <td>Upper Rouge</td>\n      <td>54.2848</td>\n      <td>-0.409034</td>\n    </tr>\n    <tr>\n      <th>96</th>\n      <td>M4X</td>\n      <td>Downtown Toronto</td>\n      <td>Cabbagetown, St. James Town</td>\n      <td>43.6542</td>\n      <td>-79.380812</td>\n    </tr>\n    <tr>\n      <th>97</th>\n      <td>M5X</td>\n      <td>Downtown Toronto</td>\n      <td>First Canadian Place, Underground city</td>\n      <td>43.6542</td>\n      <td>-79.380812</td>\n    </tr>\n    <tr>\n      <th>98</th>\n      <td>M8X</td>\n      <td>Etobicoke</td>\n      <td>The Kingsway, Montgomery Road, Old Mill North</td>\n      <td>43.6715</td>\n      <td>-79.552492</td>\n    </tr>\n    <tr>\n      <th>99</th>\n      <td>M4Y</td>\n      <td>Downtown Toronto</td>\n      <td>Church and Wellesley</td>\n      <td>43.6542</td>\n      <td>-79.380812</td>\n    </tr>\n  </tbody>\n</table>\n<p>100 rows \u00d7 5 columns</p>\n</div>", 
                        "text/plain": "   PostalCode           Borough  \\\n0         M3A        North York   \n1         M4A        North York   \n2         M5A  Downtown Toronto   \n3         M6A        North York   \n4         M7A      Queen's Park   \n5         M9A         Etobicoke   \n6         M1B       Scarborough   \n7         M3B        North York   \n8         M4B         East York   \n9         M5B  Downtown Toronto   \n10        M6B        North York   \n11        M9B         Etobicoke   \n12        M1C       Scarborough   \n13        M3C        North York   \n14        M4C         East York   \n15        M5C  Downtown Toronto   \n16        M6C              York   \n17        M9C         Etobicoke   \n18        M1E       Scarborough   \n19        M4E      East Toronto   \n20        M5E  Downtown Toronto   \n21        M6E              York   \n22        M1G       Scarborough   \n23        M4G         East York   \n24        M5G  Downtown Toronto   \n25        M6G  Downtown Toronto   \n26        M1H       Scarborough   \n27        M2H        North York   \n28        M3H        North York   \n29        M4H         East York   \n..        ...               ...   \n70        M9P         Etobicoke   \n71        M1R       Scarborough   \n72        M2R        North York   \n73        M4R   Central Toronto   \n74        M5R   Central Toronto   \n75        M6R      West Toronto   \n76        M7R       Mississauga   \n77        M9R         Etobicoke   \n78        M1S       Scarborough   \n79        M4S   Central Toronto   \n80        M5S  Downtown Toronto   \n81        M6S      West Toronto   \n82        M1T       Scarborough   \n83        M4T   Central Toronto   \n84        M5T  Downtown Toronto   \n85        M1V       Scarborough   \n86        M4V   Central Toronto   \n87        M5V  Downtown Toronto   \n88        M8V         Etobicoke   \n89        M9V         Etobicoke   \n90        M1W       Scarborough   \n91        M4W  Downtown Toronto   \n92        M5W  Downtown Toronto   \n93        M8W         Etobicoke   \n94        M9W         Etobicoke   \n95        M1X       Scarborough   \n96        M4X  Downtown Toronto   \n97        M5X  Downtown Toronto   \n98        M8X         Etobicoke   \n99        M4Y  Downtown Toronto   \n\n                                         Neighborhood Latitude  Longitude  \n0                                           Parkwoods  43.7708 -79.413300  \n1                                    Victoria Village  43.7708 -79.413300  \n2                           Harbourfront, Regent Park  43.6542 -79.380812  \n3                    Lawrence Heights, Lawrence Manor  43.7708 -79.413300  \n4                                        Queen's Park    43.66 -79.390369  \n5                                    Islington Avenue  43.6715 -79.552492  \n6                                      Rouge, Malvern  54.2848  -0.409034  \n7                                     Don Mills North  43.7708 -79.413300  \n8                     Woodbine Gardens, Parkview Hill  43.6913 -79.327821  \n9                            Ryerson, Garden District  43.6542 -79.380812  \n10                                          Glencairn  43.7708 -79.413300  \n11  Cloverdale, Islington, Martin Grove, Princess ...  43.6715 -79.552492  \n12             Highland Creek, Rouge Hill, Port Union  54.2848  -0.409034  \n13                   Flemingdon Park, Don Mills South  43.7708 -79.413300  \n14                                   Woodbine Heights  43.6913 -79.327821  \n15                                     St. James Town  43.6542 -79.380812  \n16                                 Humewood-Cedarvale  53.9591  -1.081536  \n17  Bloordale Gardens, Eringate, Markland Wood, Ol...  43.6715 -79.552492  \n18                  Guildwood, Morningside, West Hill  54.2848  -0.409034  \n19                                        The Beaches   43.654 -79.387207  \n20                                        Berczy Park  43.6542 -79.380812  \n21                                Caledonia-Fairbanks  53.9591  -1.081536  \n22                                             Woburn  54.2848  -0.409034  \n23                                            Leaside  43.6913 -79.327821  \n24                                 Central Bay Street  43.6542 -79.380812  \n25                                           Christie  43.6542 -79.380812  \n26                                          Cedarbrae  54.2848  -0.409034  \n27                                  Hillcrest Village  43.7708 -79.413300  \n28    Bathurst Manor, Downsview North, Wilson Heights  43.7708 -79.413300  \n29                                   Thorncliffe Park  43.6913 -79.327821  \n..                                                ...      ...        ...  \n70                                          Westmount  43.6715 -79.552492  \n71                                  Maryvale, Wexford  54.2848  -0.409034  \n72                                    Willowdale West  43.7708 -79.413300  \n73                                 North Toronto West   43.654 -79.387207  \n74                The Annex, North Midtown, Yorkville   43.654 -79.387207  \n75                             Parkdale, Roncesvalles   43.654 -79.387207  \n76              Canada Post Gateway Processing Centre  43.5903 -79.645729  \n77  Kingsview Village, Martin Grove Gardens, Richv...  43.6715 -79.552492  \n78                                          Agincourt  54.2848  -0.409034  \n79                                         Davisville   43.654 -79.387207  \n80                     Harbord, University of Toronto  43.6542 -79.380812  \n81                                 Runnymede, Swansea   43.654 -79.387207  \n82            Clarks Corners, Sullivan, Tam O'Shanter  54.2848  -0.409034  \n83                        Moore Park, Summerhill East   43.654 -79.387207  \n84          Chinatown, Grange Park, Kensington Market  43.6542 -79.380812  \n85  Agincourt North, L'Amoreaux East, Milliken, St...  54.2848  -0.409034  \n86  Deer Park, Forest Hill SE, Rathnelly, South Hi...   43.654 -79.387207  \n87  CN Tower, Bathurst Quay, Island airport, Harbo...  43.6542 -79.380812  \n88       Humber Bay Shores, Mimico South, New Toronto  43.6715 -79.552492  \n89  Albion Gardens, Beaumond Heights, Humbergate, ...  43.6715 -79.552492  \n90                                    L'Amoreaux West  54.2848  -0.409034  \n91                                           Rosedale  43.6542 -79.380812  \n92                    Stn A PO Boxes 25 The Esplanade  43.6542 -79.380812  \n93                             Alderwood, Long Branch  43.6715 -79.552492  \n94                                          Northwest  43.6715 -79.552492  \n95                                        Upper Rouge  54.2848  -0.409034  \n96                        Cabbagetown, St. James Town  43.6542 -79.380812  \n97             First Canadian Place, Underground city  43.6542 -79.380812  \n98      The Kingsway, Montgomery Road, Old Mill North  43.6715 -79.552492  \n99                               Church and Wellesley  43.6542 -79.380812  \n\n[100 rows x 5 columns]"
                    }, 
                    "output_type": "execute_result"
                }
            ], 
            "source": "# let's view the changes\n\ndf.head(100)"
        }
    ], 
    "metadata": {
        "kernelspec": {
            "display_name": "Python 3.5", 
            "name": "python3", 
            "language": "python"
        }, 
        "language_info": {
            "mimetype": "text/x-python", 
            "nbconvert_exporter": "python", 
            "version": "3.5.5", 
            "name": "python", 
            "file_extension": ".py", 
            "pygments_lexer": "ipython3", 
            "codemirror_mode": {
                "version": 3, 
                "name": "ipython"
            }
        }
    }, 
    "nbformat": 4
}