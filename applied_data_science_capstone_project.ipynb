{
  "nbformat": 4,
  "nbformat_minor": 0,
  "metadata": {
    "colab": {
      "name": "applied_data_science_capstone_project.ipynb",
      "version": "0.3.2",
      "provenance": [],
      "collapsed_sections": [],
      "include_colab_link": true
    },
    "kernelspec": {
      "name": "python3",
      "display_name": "Python 3"
    }
  },
  "cells": [
    {
      "cell_type": "markdown",
      "metadata": {
        "id": "view-in-github",
        "colab_type": "text"
      },
      "source": [
        "<a href=\"https://colab.research.google.com/github/Blackman9t/Coursera_Capstone/blob/master/applied_data_science_capstone_project.ipynb\" target=\"_parent\"><img src=\"https://colab.research.google.com/assets/colab-badge.svg\" alt=\"Open In Colab\"/></a>"
      ]
    },
    {
      "cell_type": "markdown",
      "metadata": {
        "id": "1NN8a1111_RT",
        "colab_type": "text"
      },
      "source": [
        "## Applied Data Science Capstone-Project\n",
        "\n",
        "\n",
        "### This Capsone-Project is the final course in a series of nine(9) Data Science Specialization courses taught by IBM via Coursera. <br>\n",
        "###The courses include the following:-\n",
        "1. [What is Data Science?](https://www.coursera.org/learn/what-is-datascience/home/welcome)\n",
        "2. [Open Source tools for Data Science](https://www.coursera.org/learn/open-source-tools-for-data-science/home/welcome)\n",
        "3. [Python for Data Science](https://www.coursera.org/learn/python-for-applied-data-science/home/welcome)\n",
        "4. [Data Science Methodology](https://www.coursera.org/learn/data-science-methodology/home/welcome)\n",
        "5. [Databases and SQL for Data Science](https://www.coursera.org/learn/sql-data-science/home/welcome)\n",
        "6. [Data Visualization with Python](https://www.coursera.org/learn/python-for-data-visualization/home/welcome)\n",
        "7. [Data Analysis with Python](https://www.coursera.org/learn/data-analysis-with-python/home/welcome)\n",
        "8. [Machine Learning with Python](https://www.coursera.org/learn/machine-learning-with-python/home/welcome)\n",
        "9. [Applied Data Science Capstone](https://www.coursera.org/learn/applied-data-science-capstone/home/welcome)\n",
        "\n",
        "#### It is mandatory that all courses from 1 to 8 are passed with acceptable grades before attempting this Capsone-Project."
      ]
    },
    {
      "cell_type": "markdown",
      "metadata": {
        "id": "wFnhvYeq3h4W",
        "colab_type": "text"
      },
      "source": [
        "Importing requred libraries"
      ]
    },
    {
      "cell_type": "code",
      "metadata": {
        "id": "o3gaNkio3lNs",
        "colab_type": "code",
        "colab": {}
      },
      "source": [
        "import pandas as pd\n",
        "import numpy as np"
      ],
      "execution_count": 0,
      "outputs": []
    },
    {
      "cell_type": "code",
      "metadata": {
        "id": "GdpbL_of3uqe",
        "colab_type": "code",
        "outputId": "9aad268e-6b12-4d31-8184-dd74d56479d4",
        "colab": {
          "base_uri": "https://localhost:8080/",
          "height": 34
        }
      },
      "source": [
        "print('Hello Capstone Project Course!')"
      ],
      "execution_count": 2,
      "outputs": [
        {
          "output_type": "stream",
          "text": [
            "Hello Capstone Project Course!\n"
          ],
          "name": "stdout"
        }
      ]
    },
    {
      "cell_type": "markdown",
      "metadata": {
        "id": "gSwz2Tl9QeNY",
        "colab_type": "text"
      },
      "source": [
        "<h2>Problem Description</h2>"
      ]
    },
    {
      "cell_type": "markdown",
      "metadata": {
        "id": "ydbJ0Q1TQfgQ",
        "colab_type": "text"
      },
      "source": [
        "<h3>The problem I want to solve using Geo-location Data is helping a new Tech-StartUp find the ideal location for its Head-office in The City of Lagos Nigeria.\n",
        "This Head-office should be situated in a good location that has the following:-</h3><br>\n",
        "\n",
        "Affordable or shared office-space<br>\n",
        "Ease of access by customers.<br>\n",
        "Close proximity to Tech-Hubs and talent.<br>\n",
        "High feet traffic area for easy interaction with potential customers.<br>\n",
        "Nearness to Educational institutions for research and interactions with academics.<br>\n",
        "Nearness to cafes and restaurants for business meetings or lunch-meets.<br>\n",
        "Good road network and close proximity to bus stops or train stations and taxis.<br>\n",
        "Security and safety.<br>\n",
        "Cluster of economic activities and similar or complementing businesses.\n"
      ]
    },
    {
      "cell_type": "markdown",
      "metadata": {
        "id": "q16Xmdy5QkuO",
        "colab_type": "text"
      },
      "source": [
        "<h2>Background to Problem</h2>"
      ]
    },
    {
      "cell_type": "markdown",
      "metadata": {
        "id": "Ot2fDGwXQqcf",
        "colab_type": "text"
      },
      "source": [
        "I have lived in Lagos for some time off and on, longest has been 3 years stretch from 2006 to 2009. <br>\n",
        "I have also done a lot of travelling to other Countries such as Russia, South-Africa, Ghana, Dubai, Mauritius and a few others.<br>\n",
        "By the way, Mauritius is The wealthiest country in Africa with average wealth per person increasing from $(21000 - 25000) within one year recently ([link](https://www.graphic.com.gh/business/business-news/accra-ranked-10th-wealthiest-city-in-africa.html)).<br>\n",
        "My analysis today is on Lagos state, which is the 4th wealthiest city in Africa, fourth place behind Johannesburg, Cairo and Cape Town ([link](https://www.graphic.com.gh/business/business-news/accra-ranked-10th-wealthiest-city-in-africa.html)).<br>\n",
        "Lagos city is home to over 6,800 millionaires, 370 multi-millionaires and 4 billionaires.<br>\n",
        "Lagos is also the commercial capital of Nigeria (The Most populous black nation), and the commercial hub of West Africa.<br>\n",
        "I have just only recently returned to Lagos city, got enrolled in The Founder Institute and currently building my new Startup in The Fintech industry ([link](http://bit.ly/escrowallet)).<br>\n",
        "Therefore I want to use this opportunity to help future Startups find the most ideal location in Lagos city, for a Head-office."
      ]
    },
    {
      "cell_type": "markdown",
      "metadata": {
        "id": "OeJz-T3-Qv0K",
        "colab_type": "text"
      },
      "source": [
        "<h2>Data Requirements and Overview</h2>"
      ]
    },
    {
      "cell_type": "markdown",
      "metadata": {
        "id": "ZDfmwP_cQ1k7",
        "colab_type": "text"
      },
      "source": [
        "We shall explore Lagos city through its respective postcodes via this [link](https://naijaquest.com/lagos-postal-code/).<br>\n",
        "The above link is a web page that shows the respective Postal codes and Local Government Areas in Lagos State. It's a public dataset<br>\n",
        "This data will be analysed through the following steps:-<br>\n",
        "1. We shall scrape the web page using the beautiful soup library<br>\n",
        "2. We shall use The Foresquare API calls to retrieve geo-location data<br>\n",
        "3. We shall fetch the text data using the requests library<br>\n",
        "4. We shall convert it from JSON to Pandas dataframe using the josn_normalize module<br>\n",
        "5. We shall use The folium library to view the maps and plot these via matplotlib library.<br>\n",
        "Then we shall cluster Lagos City into its respective Postcodes and Local Government Areas and analyse each area for its appeal as a location for a Tech-Statrup based on the aforementioned parameters.<br>\n",
        "After this we shall select our Top-Location.<br>\n",
        "5. Finally to add some fun, we shall use the Word-cloud library to display the names of the top hubs, restaurants, offices and education institutes in our Top-Location."
      ]
    },
    {
      "cell_type": "markdown",
      "metadata": {
        "id": "rXvgbEkIOLpy",
        "colab_type": "text"
      },
      "source": [
        "**So please sit back, relax and enjoy the ride as we explore Lagos City**"
      ]
    },
    {
      "cell_type": "markdown",
      "metadata": {
        "id": "2Opd6xcCz44c",
        "colab_type": "text"
      },
      "source": [
        "First let's import required libraries"
      ]
    },
    {
      "cell_type": "code",
      "metadata": {
        "id": "Yxg7Cp0nNaI-",
        "colab_type": "code",
        "outputId": "6890c80b-16e7-4067-b3b5-ad95e9622a33",
        "colab": {
          "base_uri": "https://localhost:8080/",
          "height": 34
        }
      },
      "source": [
        "from bs4 import BeautifulSoup\n",
        "import requests  # library to handle requests\n",
        "import pandas as pd\n",
        "import json  # library to handle JSON files\n",
        "from pandas.io.json import json_normalize  # transform json files to pandas dataframes\n",
        "from geopy.geocoders import Nominatim  # convert an address into latitude and longitude values\n",
        "\n",
        "# Matplotlib and associated plotting modules\n",
        "import matplotlib.cm as cm\n",
        "import matplotlib.colors as colors\n",
        "\n",
        "# import k-means from clustering stage\n",
        "from sklearn.cluster import KMeans\n",
        "\n",
        "#!conda install -c conda-forge folium=0.5.0 --yes # uncomment this line if you haven't completed the Foursquare API lab\n",
        "import folium # map rendering library\n",
        "\n",
        "import numpy as np\n",
        "import csv\n",
        "\n",
        "print('All modules imported')"
      ],
      "execution_count": 3,
      "outputs": [
        {
          "output_type": "stream",
          "text": [
            "All modules imported\n"
          ],
          "name": "stdout"
        }
      ]
    },
    {
      "cell_type": "code",
      "metadata": {
        "id": "hyHRivq_2hom",
        "colab_type": "code",
        "colab": {}
      },
      "source": [
        "# Lets save the weblink for The Lagos Data\n",
        "\n",
        "lagos_link = 'https://naijaquest.com/lagos-postal-code/'"
      ],
      "execution_count": 0,
      "outputs": []
    }
  ]
}