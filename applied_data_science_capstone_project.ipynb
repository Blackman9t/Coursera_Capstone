{
  "nbformat": 4,
  "nbformat_minor": 0,
  "metadata": {
    "colab": {
      "name": "applied_data_science_capstone_project.ipynb",
      "provenance": [],
      "collapsed_sections": [],
      "include_colab_link": true
    },
    "kernelspec": {
      "name": "python3",
      "display_name": "Python 3"
    },
    "accelerator": "GPU"
  },
  "cells": [
    {
      "cell_type": "markdown",
      "metadata": {
        "id": "view-in-github",
        "colab_type": "text"
      },
      "source": [
        "<a href=\"https://colab.research.google.com/github/Blackman9t/Coursera_Capstone/blob/master/applied_data_science_capstone_project.ipynb\" target=\"_parent\"><img src=\"https://colab.research.google.com/assets/colab-badge.svg\" alt=\"Open In Colab\"/></a>"
      ]
    },
    {
      "cell_type": "markdown",
      "metadata": {
        "id": "1NN8a1111_RT",
        "colab_type": "text"
      },
      "source": [
        "## Applied Data Science Capstone-Project\n",
        "\n",
        "\n",
        "### This Capsone-Project is the final course in a series of nine(9) Data Science Specialization courses taught by IBM via Coursera. <br>\n",
        "###The courses include the following:-\n",
        "1. [What is Data Science?](https://www.coursera.org/learn/what-is-datascience/home/welcome)\n",
        "2. [Open Source tools for Data Science](https://www.coursera.org/learn/open-source-tools-for-data-science/home/welcome)\n",
        "3. [Python for Data Science](https://www.coursera.org/learn/python-for-applied-data-science/home/welcome)\n",
        "4. [Data Science Methodology](https://www.coursera.org/learn/data-science-methodology/home/welcome)\n",
        "5. [Databases and SQL for Data Science](https://www.coursera.org/learn/sql-data-science/home/welcome)\n",
        "6. [Data Visualization with Python](https://www.coursera.org/learn/python-for-data-visualization/home/welcome)\n",
        "7. [Data Analysis with Python](https://www.coursera.org/learn/data-analysis-with-python/home/welcome)\n",
        "8. [Machine Learning with Python](https://www.coursera.org/learn/machine-learning-with-python/home/welcome)\n",
        "9. [Applied Data Science Capstone](https://www.coursera.org/learn/applied-data-science-capstone/home/welcome)\n",
        "\n",
        "#### It is mandatory that all courses from 1 to 8 are passed with acceptable grades before attempting this Capsone-Project."
      ]
    },
    {
      "cell_type": "markdown",
      "metadata": {
        "id": "wFnhvYeq3h4W",
        "colab_type": "text"
      },
      "source": [
        "Importing requred libraries"
      ]
    },
    {
      "cell_type": "code",
      "metadata": {
        "id": "o3gaNkio3lNs",
        "colab_type": "code",
        "colab": {}
      },
      "source": [
        "import pandas as pd\n",
        "import numpy as np"
      ],
      "execution_count": 0,
      "outputs": []
    },
    {
      "cell_type": "code",
      "metadata": {
        "id": "GdpbL_of3uqe",
        "colab_type": "code",
        "outputId": "8ae42861-a7f7-4a1a-957c-2105dc0cec68",
        "colab": {
          "base_uri": "https://localhost:8080/",
          "height": 34
        }
      },
      "source": [
        "print('Hello Capstone Project Course!')"
      ],
      "execution_count": 2,
      "outputs": [
        {
          "output_type": "stream",
          "text": [
            "Hello Capstone Project Course!\n"
          ],
          "name": "stdout"
        }
      ]
    },
    {
      "cell_type": "markdown",
      "metadata": {
        "id": "gSwz2Tl9QeNY",
        "colab_type": "text"
      },
      "source": [
        "<h2>Problem Description</h2>"
      ]
    },
    {
      "cell_type": "markdown",
      "metadata": {
        "id": "ydbJ0Q1TQfgQ",
        "colab_type": "text"
      },
      "source": [
        "<h3>The problem I want to solve using Geo-location Data is helping a new Tech-StartUp find the ideal location for its Head-office in The City of Lagos Nigeria.\n",
        "This Head-office should be situated in a good location that has the following:-</h3><br>\n",
        "\n",
        "central location.<br>\n",
        "Close proximity to Tech-Hubs and talent.<br>\n",
        "High feet traffic area for easy interaction with potential customers.<br>\n",
        "Nearness to Educational institutions for research and interactions with academics.<br>\n",
        "Nearness to cafes and restaurants for business meetings or lunch-meets.<br>\n",
        "Nearness to bus-stops, seaports and airports.<br>\n",
        "Security and safety.<br>\n",
        "Cluster of economic activities and similar or complementing businesses.\n"
      ]
    },
    {
      "cell_type": "markdown",
      "metadata": {
        "id": "q16Xmdy5QkuO",
        "colab_type": "text"
      },
      "source": [
        "<h2>Background to Problem</h2>"
      ]
    },
    {
      "cell_type": "markdown",
      "metadata": {
        "id": "Ot2fDGwXQqcf",
        "colab_type": "text"
      },
      "source": [
        "I have lived in Lagos for some time off and on, longest has been 3 years stretch from 2006 to 2009. <br>\n",
        "I have also done some travelling to other countries such as Russia, which by the way is the largest country in The World by land mass, South-Africa, Ghana, Dubai, Mauritius and a few others.<br>\n",
        "By the way, Mauritius is The wealthiest country in Africa with average wealth per person increasing from $(21700 - 25700) within one year recently ([link](https://www.graphic.com.gh/business/business-news/accra-ranked-10th-wealthiest-city-in-africa.html)).<br>\n",
        "My analysis today is on Lagos state, which is the 4th wealthiest city in Africa, fourth place behind Johannesburg, Cairo and Cape Town ([link](https://www.graphic.com.gh/business/business-news/accra-ranked-10th-wealthiest-city-in-africa.html)).<br>\n",
        "Lagos city is home to over 6,800 $$ millionaires, 370 $$ multi-millionaires and 4 $$ billionaires.<br>\n",
        "Lagos is also the commercial capital of Nigeria (The Most populous black nation), and the commercial hub of West Africa.<br>\n",
        "I have only recently returned to Lagos city, got enrolled and completed The [Founder Institute](https://fi.co/) programme and currently building a Startup in The Insuretech industry ([link](http://bit.ly/escrowallet)).<br>\n",
        "Therefore I want to use this opportunity to help future Startups find the most ideal location in Lagos city, for an office."
      ]
    },
    {
      "cell_type": "markdown",
      "metadata": {
        "id": "OeJz-T3-Qv0K",
        "colab_type": "text"
      },
      "source": [
        "<h2>Data Requirements and Overview</h2>"
      ]
    },
    {
      "cell_type": "markdown",
      "metadata": {
        "id": "rHYrw2Hm0L1H",
        "colab_type": "text"
      },
      "source": [
        "**The Dataset is the wikipedia page of Lagos state** see [link](https://en.wikipedia.org/wiki/List_of_Lagos_State_local_government_areas_by_population)"
      ]
    },
    {
      "cell_type": "markdown",
      "metadata": {
        "id": "ZDfmwP_cQ1k7",
        "colab_type": "text"
      },
      "source": [
        "We shall explore Lagos city through its respective Local Government Areas or Boroughs via this [link](https://en.wikipedia.org/wiki/List_of_Lagos_State_local_government_areas_by_population).<br>\n",
        "The above link is a web page that shows the respective Local Government Areas in Lagos State and each population figure. It's a public wikipedia data page<br>\n",
        "This data will be analysed through the following steps:-<br>\n",
        "1. We shall scrape the web page using the beautiful soup library<br>\n",
        "2. We shall use The Foresquare API calls to retrieve geo-location data<br>\n",
        "3. We shall fetch the text data using the requests library<br>\n",
        "4. We shall convert it from JSON to Pandas dataframe using the josn_normalize module<br>\n",
        "5. We shall use The folium library to view the maps and plot these via matplotlib library.<br>\n",
        "Then we shall cluster Lagos City into its respective Postcodes and Local Government Areas and analyse each area for its appeal as a location for a Tech-Startup based on the aforementioned parameters.<br>\n",
        "After this we shall select our Top-Location.<br>\n",
        "5. Finally to add some fun, we shall use the Word-cloud library to display the names of the top hubs, restaurants, offices and education institutes in our Top-Location."
      ]
    },
    {
      "cell_type": "markdown",
      "metadata": {
        "id": "rXvgbEkIOLpy",
        "colab_type": "text"
      },
      "source": [
        "**So please sit back, relax and enjoy the ride as we explore Lagos City**"
      ]
    },
    {
      "cell_type": "markdown",
      "metadata": {
        "id": "2Opd6xcCz44c",
        "colab_type": "text"
      },
      "source": [
        "First let's import required libraries"
      ]
    },
    {
      "cell_type": "code",
      "metadata": {
        "id": "Yxg7Cp0nNaI-",
        "colab_type": "code",
        "outputId": "2914597e-2811-45af-838c-64e1392332fc",
        "colab": {
          "base_uri": "https://localhost:8080/",
          "height": 34
        }
      },
      "source": [
        "from bs4 import BeautifulSoup\n",
        "import requests  # library to handle requests\n",
        "import pandas as pd\n",
        "import json  # library to handle JSON files\n",
        "from pandas.io.json import json_normalize  # transform json files to pandas dataframes\n",
        "from geopy.geocoders import Nominatim  # convert an address into latitude and longitude values\n",
        "\n",
        "# Matplotlib and associated plotting modules\n",
        "import matplotlib.pyplot as plt\n",
        "import matplotlib.cm as cm\n",
        "import matplotlib.colors as colors\n",
        "\n",
        "# import k-means from clustering stage\n",
        "from sklearn.cluster import KMeans\n",
        "\n",
        "#!conda install -c conda-forge folium=0.5.0 --yes\n",
        "import folium # map rendering library\n",
        "\n",
        "import numpy as np\n",
        "import csv\n",
        "\n",
        "print('All modules imported')"
      ],
      "execution_count": 3,
      "outputs": [
        {
          "output_type": "stream",
          "text": [
            "All modules imported\n"
          ],
          "name": "stdout"
        }
      ]
    },
    {
      "cell_type": "code",
      "metadata": {
        "id": "hyHRivq_2hom",
        "colab_type": "code",
        "colab": {}
      },
      "source": [
        "# Lets save the weblink for The Lagos Data\n",
        "\n",
        "lagos_link = 'https://en.wikipedia.org/wiki/List_of_Lagos_State_local_government_areas_by_population'"
      ],
      "execution_count": 0,
      "outputs": []
    },
    {
      "cell_type": "markdown",
      "metadata": {
        "id": "HmkJLYfhyKtp",
        "colab_type": "text"
      },
      "source": [
        "Get the source code html data from the website"
      ]
    },
    {
      "cell_type": "code",
      "metadata": {
        "id": "VC5GhczSyMU4",
        "colab_type": "code",
        "colab": {}
      },
      "source": [
        "source = requests.get(lagos_link).text"
      ],
      "execution_count": 0,
      "outputs": []
    },
    {
      "cell_type": "markdown",
      "metadata": {
        "id": "AexSEq_Wu84U",
        "colab_type": "text"
      },
      "source": [
        "Lets Use BeautifulSoup to parse it"
      ]
    },
    {
      "cell_type": "code",
      "metadata": {
        "id": "8-rdg0tGyqGz",
        "colab_type": "code",
        "colab": {}
      },
      "source": [
        "soup = BeautifulSoup(source,'lxml')\n",
        "\n",
        "# Let's pretty print it in its right shape\n",
        "\n",
        "#print(soup.prettify())"
      ],
      "execution_count": 0,
      "outputs": []
    },
    {
      "cell_type": "markdown",
      "metadata": {
        "id": "bK1kWLx-0l1F",
        "colab_type": "text"
      },
      "source": [
        "Next let's get the table that contains the data we want to scrape"
      ]
    },
    {
      "cell_type": "code",
      "metadata": {
        "id": "jrtBgrow0moy",
        "colab_type": "code",
        "colab": {}
      },
      "source": [
        "my_table = soup.find_all('td')\n",
        "#mw-content-text\n",
        "# Let's view the table\n",
        "\n",
        "# my_table"
      ],
      "execution_count": 0,
      "outputs": []
    },
    {
      "cell_type": "markdown",
      "metadata": {
        "id": "S1qFFQr6-vJy",
        "colab_type": "text"
      },
      "source": [
        "Next let's iterate through each link and append the text parts"
      ]
    },
    {
      "cell_type": "code",
      "metadata": {
        "id": "BkZ0CU3bgHn-",
        "colab_type": "code",
        "outputId": "f8f59868-eea0-46b2-acfb-2289132ecd01",
        "colab": {
          "base_uri": "https://localhost:8080/",
          "height": 34
        }
      },
      "source": [
        "type(my_table)"
      ],
      "execution_count": 8,
      "outputs": [
        {
          "output_type": "execute_result",
          "data": {
            "text/plain": [
              "bs4.element.ResultSet"
            ]
          },
          "metadata": {
            "tags": []
          },
          "execution_count": 8
        }
      ]
    },
    {
      "cell_type": "code",
      "metadata": {
        "id": "YVhuX3QO-2O0",
        "colab_type": "code",
        "colab": {}
      },
      "source": [
        "table_text = []\n",
        "\n",
        "for data in my_table:\n",
        "    table_text.append(data.text)"
      ],
      "execution_count": 0,
      "outputs": []
    },
    {
      "cell_type": "code",
      "metadata": {
        "id": "B-twK_2Ulugg",
        "colab_type": "code",
        "colab": {}
      },
      "source": [
        "# Let's see the text\n",
        "\n",
        "# table_text"
      ],
      "execution_count": 0,
      "outputs": []
    },
    {
      "cell_type": "markdown",
      "metadata": {
        "id": "6EsoADW0mkrR",
        "colab_type": "text"
      },
      "source": [
        "First let's extract only the relevent data from the table"
      ]
    },
    {
      "cell_type": "code",
      "metadata": {
        "id": "WET_B_y0mwdN",
        "colab_type": "code",
        "outputId": "75f05951-2a3f-4986-ff03-0d2807a66205",
        "colab": {
          "base_uri": "https://localhost:8080/",
          "height": 34
        }
      },
      "source": [
        "relevant_table_data = table_text[4:-3]\n",
        "\n",
        "# Next let's see the first 3 elements\n",
        "relevant_table_data[:3]"
      ],
      "execution_count": 11,
      "outputs": [
        {
          "output_type": "execute_result",
          "data": {
            "text/plain": [
              "['1\\n', 'Alimosho\\n', '5,700,714\\n']"
            ]
          },
          "metadata": {
            "tags": []
          },
          "execution_count": 11
        }
      ]
    },
    {
      "cell_type": "markdown",
      "metadata": {
        "id": "_jJzom_Hw2yS",
        "colab_type": "text"
      },
      "source": [
        "Next lets create a dictionary and append the LGA and corresponding Population data to it"
      ]
    },
    {
      "cell_type": "code",
      "metadata": {
        "id": "AGRNCXgInsJh",
        "colab_type": "code",
        "colab": {}
      },
      "source": [
        "table_dict={'LGA':[], 'POP':[]}\n",
        "count = 0\n",
        "\n",
        "for item in relevant_table_data:\n",
        "    # First let's strip off the \\n at the end\n",
        "    item = item.strip('\\n')\n",
        "    try:\n",
        "        item = int(item)\n",
        "    except:\n",
        "        # if second item after the int, append to POP\n",
        "        if count > 0:\n",
        "            # First let's remove the commas\n",
        "            item = item.replace(',','')\n",
        "            # Next let's convert to an integer so we can use it for calculations\n",
        "            item = int(item)\n",
        "            # Finally, let's append it to the Population list of the dictionary\n",
        "            table_dict['POP'].append(item)\n",
        "            count = 0\n",
        "        else:\n",
        "         # if first item after the int, append to LGA\n",
        "            table_dict['LGA'].append(item)\n",
        "            count +=1\n",
        "            "
      ],
      "execution_count": 0,
      "outputs": []
    },
    {
      "cell_type": "markdown",
      "metadata": {
        "id": "BpsyT11FxCze",
        "colab_type": "text"
      },
      "source": [
        "Next let's create a Dataframe of each LGA and its respective Population"
      ]
    },
    {
      "cell_type": "code",
      "metadata": {
        "id": "4_Zgf7jVtmTu",
        "colab_type": "code",
        "outputId": "4fc98180-502d-4f19-c0be-9b96f5ac1f01",
        "colab": {
          "base_uri": "https://localhost:8080/",
          "height": 195
        }
      },
      "source": [
        "lagos_df = pd.DataFrame(table_dict)\n",
        "\n",
        "# Let's see the first five rows\n",
        "lagos_df.head()"
      ],
      "execution_count": 13,
      "outputs": [
        {
          "output_type": "execute_result",
          "data": {
            "text/html": [
              "<div>\n",
              "<style scoped>\n",
              "    .dataframe tbody tr th:only-of-type {\n",
              "        vertical-align: middle;\n",
              "    }\n",
              "\n",
              "    .dataframe tbody tr th {\n",
              "        vertical-align: top;\n",
              "    }\n",
              "\n",
              "    .dataframe thead th {\n",
              "        text-align: right;\n",
              "    }\n",
              "</style>\n",
              "<table border=\"1\" class=\"dataframe\">\n",
              "  <thead>\n",
              "    <tr style=\"text-align: right;\">\n",
              "      <th></th>\n",
              "      <th>LGA</th>\n",
              "      <th>POP</th>\n",
              "    </tr>\n",
              "  </thead>\n",
              "  <tbody>\n",
              "    <tr>\n",
              "      <th>0</th>\n",
              "      <td>Alimosho</td>\n",
              "      <td>5700714</td>\n",
              "    </tr>\n",
              "    <tr>\n",
              "      <th>1</th>\n",
              "      <td>Ajeromi-Ifelodun</td>\n",
              "      <td>1746634</td>\n",
              "    </tr>\n",
              "    <tr>\n",
              "      <th>2</th>\n",
              "      <td>Kosofe</td>\n",
              "      <td>665998</td>\n",
              "    </tr>\n",
              "    <tr>\n",
              "      <th>3</th>\n",
              "      <td>Mushin, Lagos</td>\n",
              "      <td>633543</td>\n",
              "    </tr>\n",
              "    <tr>\n",
              "      <th>4</th>\n",
              "      <td>Oshodi-Isolo</td>\n",
              "      <td>621789</td>\n",
              "    </tr>\n",
              "  </tbody>\n",
              "</table>\n",
              "</div>"
            ],
            "text/plain": [
              "                LGA      POP\n",
              "0          Alimosho  5700714\n",
              "1  Ajeromi-Ifelodun  1746634\n",
              "2            Kosofe   665998\n",
              "3     Mushin, Lagos   633543\n",
              "4      Oshodi-Isolo   621789"
            ]
          },
          "metadata": {
            "tags": []
          },
          "execution_count": 13
        }
      ]
    },
    {
      "cell_type": "markdown",
      "metadata": {
        "id": "eNGYERJUS83m",
        "colab_type": "text"
      },
      "source": [
        "Appending the Latitude and Longitude Values:<br>\n",
        "First let's define a simple method to extract each LGA or Borough Lats and Longs data"
      ]
    },
    {
      "cell_type": "code",
      "metadata": {
        "id": "1UNfx6OVRlOS",
        "colab_type": "code",
        "colab": {}
      },
      "source": [
        "def latitude_longitude(Borough):\n",
        "    import time\n",
        "    \"\"\" Method takes a Series object and returns\n",
        "    a list of Latitude and corresponding Longitude data,\n",
        "    using the geopy library.\n",
        "    This method also prints out the coordinate data\"\"\"\n",
        "    \n",
        "    address = str(Borough)\n",
        "    \n",
        "    # We must define a geolocator user agent\n",
        "    geolocator = Nominatim(user_agent=\"NG_explorer\")\n",
        "    location = geolocator.geocode(address)\n",
        "    latitude = location.latitude\n",
        "    longitude = location.longitude\n",
        "    print('The geograpical coordinates of {} are lat {} and long {}.'.format(address, latitude, longitude))\n",
        "    time.sleep(2)  # we let 2 secs pass after calling each location lat/lon so that the geocode function does not crash\n",
        "    return [latitude, longitude]\n"
      ],
      "execution_count": 0,
      "outputs": []
    },
    {
      "cell_type": "code",
      "metadata": {
        "id": "34bdCijURtXE",
        "colab_type": "code",
        "outputId": "794f07da-bd60-437d-d79d-feb5c8a849df",
        "colab": {
          "base_uri": "https://localhost:8080/",
          "height": 353
        }
      },
      "source": [
        "lagos_df['latitude'] = lagos_df['LGA'].apply(latitude_longitude)"
      ],
      "execution_count": 15,
      "outputs": [
        {
          "output_type": "stream",
          "text": [
            "The geograpical coordinates of Alimosho are lat 6.58434295 and long 3.25763109723237.\n",
            "The geograpical coordinates of Ajeromi-Ifelodun are lat 6.4551217 and long 3.33594625182987.\n",
            "The geograpical coordinates of Kosofe are lat 6.581974 and long 3.41483594161784.\n",
            "The geograpical coordinates of Mushin, Lagos are lat 6.53263245 and long 3.35202197179877.\n",
            "The geograpical coordinates of Oshodi-Isolo are lat 6.54001 and long 3.31241461318394.\n",
            "The geograpical coordinates of Ojo are lat 1.0958392 and long -76.6110685.\n",
            "The geograpical coordinates of Ikorodu are lat 6.6191233 and long 3.5041271.\n",
            "The geograpical coordinates of Surulere are lat 6.48720145 and long 3.35325872672398.\n",
            "The geograpical coordinates of Agege are lat 6.6252564 and long 3.31120926770265.\n",
            "The geograpical coordinates of Ifako-Ijaiye are lat 6.6636025 and long 3.289491.\n",
            "The geograpical coordinates of Somolu are lat 6.583333 and long 3.466667.\n",
            "The geograpical coordinates of Amuwo-Odofin are lat 6.4470234 and long 3.26627971168259.\n",
            "The geograpical coordinates of Lagos Mainland are lat 6.49306105 and long 3.38824963720956.\n",
            "The geograpical coordinates of Ikeja are lat 6.6048591 and long 3.35320407409498.\n",
            "The geograpical coordinates of Eti-Osa are lat 6.4602312 and long 3.53218066773601.\n",
            "The geograpical coordinates of Badagry are lat 6.4387296 and long 2.90748574931917.\n",
            "The geograpical coordinates of Apapa are lat 6.445187 and long 3.36837316794241.\n",
            "The geograpical coordinates of Lagos Island are lat 6.5148613 and long 3.49086616139006.\n",
            "The geograpical coordinates of Epe are lat 6.52474955 and long 4.05724579513234.\n",
            "The geograpical coordinates of Ibeju-Lekki are lat 6.4711251 and long 3.81475020068694.\n"
          ],
          "name": "stdout"
        }
      ]
    },
    {
      "cell_type": "markdown",
      "metadata": {
        "id": "FQ-5GsxfqFCv",
        "colab_type": "text"
      },
      "source": [
        "Let's see the data frame again"
      ]
    },
    {
      "cell_type": "code",
      "metadata": {
        "id": "1jRsohp3qIB7",
        "colab_type": "code",
        "outputId": "b349f07b-aada-4b33-ef8a-84ea8a1d5d8a",
        "colab": {
          "base_uri": "https://localhost:8080/",
          "height": 195
        }
      },
      "source": [
        "lagos_df.head()"
      ],
      "execution_count": 16,
      "outputs": [
        {
          "output_type": "execute_result",
          "data": {
            "text/html": [
              "<div>\n",
              "<style scoped>\n",
              "    .dataframe tbody tr th:only-of-type {\n",
              "        vertical-align: middle;\n",
              "    }\n",
              "\n",
              "    .dataframe tbody tr th {\n",
              "        vertical-align: top;\n",
              "    }\n",
              "\n",
              "    .dataframe thead th {\n",
              "        text-align: right;\n",
              "    }\n",
              "</style>\n",
              "<table border=\"1\" class=\"dataframe\">\n",
              "  <thead>\n",
              "    <tr style=\"text-align: right;\">\n",
              "      <th></th>\n",
              "      <th>LGA</th>\n",
              "      <th>POP</th>\n",
              "      <th>latitude</th>\n",
              "    </tr>\n",
              "  </thead>\n",
              "  <tbody>\n",
              "    <tr>\n",
              "      <th>0</th>\n",
              "      <td>Alimosho</td>\n",
              "      <td>5700714</td>\n",
              "      <td>[6.58434295, 3.25763109723237]</td>\n",
              "    </tr>\n",
              "    <tr>\n",
              "      <th>1</th>\n",
              "      <td>Ajeromi-Ifelodun</td>\n",
              "      <td>1746634</td>\n",
              "      <td>[6.4551217, 3.33594625182987]</td>\n",
              "    </tr>\n",
              "    <tr>\n",
              "      <th>2</th>\n",
              "      <td>Kosofe</td>\n",
              "      <td>665998</td>\n",
              "      <td>[6.581974, 3.41483594161784]</td>\n",
              "    </tr>\n",
              "    <tr>\n",
              "      <th>3</th>\n",
              "      <td>Mushin, Lagos</td>\n",
              "      <td>633543</td>\n",
              "      <td>[6.53263245, 3.35202197179877]</td>\n",
              "    </tr>\n",
              "    <tr>\n",
              "      <th>4</th>\n",
              "      <td>Oshodi-Isolo</td>\n",
              "      <td>621789</td>\n",
              "      <td>[6.54001, 3.31241461318394]</td>\n",
              "    </tr>\n",
              "  </tbody>\n",
              "</table>\n",
              "</div>"
            ],
            "text/plain": [
              "                LGA      POP                        latitude\n",
              "0          Alimosho  5700714  [6.58434295, 3.25763109723237]\n",
              "1  Ajeromi-Ifelodun  1746634   [6.4551217, 3.33594625182987]\n",
              "2            Kosofe   665998    [6.581974, 3.41483594161784]\n",
              "3     Mushin, Lagos   633543  [6.53263245, 3.35202197179877]\n",
              "4      Oshodi-Isolo   621789     [6.54001, 3.31241461318394]"
            ]
          },
          "metadata": {
            "tags": []
          },
          "execution_count": 16
        }
      ]
    },
    {
      "cell_type": "markdown",
      "metadata": {
        "id": "urZ6BlyRqRKZ",
        "colab_type": "text"
      },
      "source": [
        "Next let's loop through the data frame and separate Latitude from Longitude and make lat and lons just numbers not lists\n"
      ]
    },
    {
      "cell_type": "code",
      "metadata": {
        "id": "D-242baCqbms",
        "colab_type": "code",
        "colab": {}
      },
      "source": [
        "lon_list = []\n",
        "for i, j in lagos_df.iterrows():\n",
        "    lon_list.append(j.latitude[1])\n",
        "    lagos_df.iat[i,2] = j.latitude[0]\n",
        "      \n",
        "# next let's assign the lon_list as the value of the Longitude Column\n",
        "\n",
        "lagos_df['longitude'] = lon_list"
      ],
      "execution_count": 0,
      "outputs": []
    },
    {
      "cell_type": "markdown",
      "metadata": {
        "id": "zq_eqtUctlO7",
        "colab_type": "text"
      },
      "source": [
        "Let's see our table with the separated latitude and longitude values"
      ]
    },
    {
      "cell_type": "code",
      "metadata": {
        "id": "b0lMEy5Btl4b",
        "colab_type": "code",
        "outputId": "b5fd603b-c12e-462a-85fd-1a5270d09e4d",
        "colab": {
          "base_uri": "https://localhost:8080/",
          "height": 195
        }
      },
      "source": [
        "lagos_df.head()"
      ],
      "execution_count": 18,
      "outputs": [
        {
          "output_type": "execute_result",
          "data": {
            "text/html": [
              "<div>\n",
              "<style scoped>\n",
              "    .dataframe tbody tr th:only-of-type {\n",
              "        vertical-align: middle;\n",
              "    }\n",
              "\n",
              "    .dataframe tbody tr th {\n",
              "        vertical-align: top;\n",
              "    }\n",
              "\n",
              "    .dataframe thead th {\n",
              "        text-align: right;\n",
              "    }\n",
              "</style>\n",
              "<table border=\"1\" class=\"dataframe\">\n",
              "  <thead>\n",
              "    <tr style=\"text-align: right;\">\n",
              "      <th></th>\n",
              "      <th>LGA</th>\n",
              "      <th>POP</th>\n",
              "      <th>latitude</th>\n",
              "      <th>longitude</th>\n",
              "    </tr>\n",
              "  </thead>\n",
              "  <tbody>\n",
              "    <tr>\n",
              "      <th>0</th>\n",
              "      <td>Alimosho</td>\n",
              "      <td>5700714</td>\n",
              "      <td>6.58434</td>\n",
              "      <td>3.257631</td>\n",
              "    </tr>\n",
              "    <tr>\n",
              "      <th>1</th>\n",
              "      <td>Ajeromi-Ifelodun</td>\n",
              "      <td>1746634</td>\n",
              "      <td>6.45512</td>\n",
              "      <td>3.335946</td>\n",
              "    </tr>\n",
              "    <tr>\n",
              "      <th>2</th>\n",
              "      <td>Kosofe</td>\n",
              "      <td>665998</td>\n",
              "      <td>6.58197</td>\n",
              "      <td>3.414836</td>\n",
              "    </tr>\n",
              "    <tr>\n",
              "      <th>3</th>\n",
              "      <td>Mushin, Lagos</td>\n",
              "      <td>633543</td>\n",
              "      <td>6.53263</td>\n",
              "      <td>3.352022</td>\n",
              "    </tr>\n",
              "    <tr>\n",
              "      <th>4</th>\n",
              "      <td>Oshodi-Isolo</td>\n",
              "      <td>621789</td>\n",
              "      <td>6.54001</td>\n",
              "      <td>3.312415</td>\n",
              "    </tr>\n",
              "  </tbody>\n",
              "</table>\n",
              "</div>"
            ],
            "text/plain": [
              "                LGA      POP latitude  longitude\n",
              "0          Alimosho  5700714  6.58434   3.257631\n",
              "1  Ajeromi-Ifelodun  1746634  6.45512   3.335946\n",
              "2            Kosofe   665998  6.58197   3.414836\n",
              "3     Mushin, Lagos   633543  6.53263   3.352022\n",
              "4      Oshodi-Isolo   621789  6.54001   3.312415"
            ]
          },
          "metadata": {
            "tags": []
          },
          "execution_count": 18
        }
      ]
    },
    {
      "cell_type": "markdown",
      "metadata": {
        "id": "UWj17IRi5BAg",
        "colab_type": "text"
      },
      "source": [
        "Okay so at this point let's look at each Borough or L.G.A closer. Let's start with the first one and visualize it via Folium library"
      ]
    },
    {
      "cell_type": "markdown",
      "metadata": {
        "id": "2QWtdI_x56jO",
        "colab_type": "text"
      },
      "source": [
        "Let's get the geographic coordinates of Alimosho, the first L.G.A"
      ]
    },
    {
      "cell_type": "code",
      "metadata": {
        "id": "Gdx8ufxPAnHg",
        "colab_type": "code",
        "outputId": "05c09f56-dfe8-488a-fc57-79b0d2787884",
        "colab": {
          "base_uri": "https://localhost:8080/",
          "height": 77
        }
      },
      "source": [
        "alimosho_data = lagos_df.loc[0,].to_frame().T\n",
        "alimosho_data"
      ],
      "execution_count": 19,
      "outputs": [
        {
          "output_type": "execute_result",
          "data": {
            "text/html": [
              "<div>\n",
              "<style scoped>\n",
              "    .dataframe tbody tr th:only-of-type {\n",
              "        vertical-align: middle;\n",
              "    }\n",
              "\n",
              "    .dataframe tbody tr th {\n",
              "        vertical-align: top;\n",
              "    }\n",
              "\n",
              "    .dataframe thead th {\n",
              "        text-align: right;\n",
              "    }\n",
              "</style>\n",
              "<table border=\"1\" class=\"dataframe\">\n",
              "  <thead>\n",
              "    <tr style=\"text-align: right;\">\n",
              "      <th></th>\n",
              "      <th>LGA</th>\n",
              "      <th>POP</th>\n",
              "      <th>latitude</th>\n",
              "      <th>longitude</th>\n",
              "    </tr>\n",
              "  </thead>\n",
              "  <tbody>\n",
              "    <tr>\n",
              "      <th>0</th>\n",
              "      <td>Alimosho</td>\n",
              "      <td>5700714</td>\n",
              "      <td>6.58434</td>\n",
              "      <td>3.25763</td>\n",
              "    </tr>\n",
              "  </tbody>\n",
              "</table>\n",
              "</div>"
            ],
            "text/plain": [
              "        LGA      POP latitude longitude\n",
              "0  Alimosho  5700714  6.58434   3.25763"
            ]
          },
          "metadata": {
            "tags": []
          },
          "execution_count": 19
        }
      ]
    },
    {
      "cell_type": "code",
      "metadata": {
        "id": "o9yjb12t7LwQ",
        "colab_type": "code",
        "outputId": "651b532c-b7a5-48a7-a75f-3821e026d063",
        "colab": {
          "base_uri": "https://localhost:8080/",
          "height": 50
        }
      },
      "source": [
        "lat, lon = latitude_longitude(alimosho_data.iloc[0,0])\n",
        "\n",
        "print('lat: {}, lon: {}'.format(lat,lon))"
      ],
      "execution_count": 20,
      "outputs": [
        {
          "output_type": "stream",
          "text": [
            "The geograpical coordinates of Alimosho are lat 6.58434295 and long 3.25763109723237.\n",
            "lat: 6.58434295, lon: 3.25763109723237\n"
          ],
          "name": "stdout"
        }
      ]
    },
    {
      "cell_type": "code",
      "metadata": {
        "id": "BZb395Lm5RsE",
        "colab_type": "code",
        "outputId": "80e98611-8510-4a8d-e17f-78ca2bbc5572",
        "colab": {
          "base_uri": "https://localhost:8080/",
          "height": 858
        }
      },
      "source": [
        "# create map of Alimosho using latitude and longitude values\n",
        "map_alimosho = folium.Map(location=[lat, lon], zoom_start=14)\n",
        "\n",
        "# add markers to map\n",
        "\n",
        "label = \"{}\".format('Alimosho')\n",
        "label = folium.Popup(label, parse_html=True)\n",
        "folium.CircleMarker(\n",
        "    [lat, lon],\n",
        "    radius=10,\n",
        "    popup=label,\n",
        "    color='blue',\n",
        "    fill=True,\n",
        "    fill_color='#3186cc',\n",
        "    fill_opacity=0.8,\n",
        "    parse_html=False).add_to(map_alimosho)  \n",
        "\n",
        "map_alimosho  # Feel free to zoom in to see more"
      ],
      "execution_count": 21,
      "outputs": [
        {
          "output_type": "execute_result",
          "data": {
            "text/html": [
              "<div style=\"width:100%;\"><div style=\"position:relative;width:100%;height:0;padding-bottom:60%;\"><iframe src=\"data:text/html;charset=utf-8;base64,PCFET0NUWVBFIGh0bWw+CjxoZWFkPiAgICAKICAgIDxtZXRhIGh0dHAtZXF1aXY9ImNvbnRlbnQtdHlwZSIgY29udGVudD0idGV4dC9odG1sOyBjaGFyc2V0PVVURi04IiAvPgogICAgPHNjcmlwdD5MX1BSRUZFUl9DQU5WQVM9ZmFsc2U7IExfTk9fVE9VQ0g9ZmFsc2U7IExfRElTQUJMRV8zRD1mYWxzZTs8L3NjcmlwdD4KICAgIDxzY3JpcHQgc3JjPSJodHRwczovL2Nkbi5qc2RlbGl2ci5uZXQvbnBtL2xlYWZsZXRAMS40LjAvZGlzdC9sZWFmbGV0LmpzIj48L3NjcmlwdD4KICAgIDxzY3JpcHQgc3JjPSJodHRwczovL2NvZGUuanF1ZXJ5LmNvbS9qcXVlcnktMS4xMi40Lm1pbi5qcyI+PC9zY3JpcHQ+CiAgICA8c2NyaXB0IHNyYz0iaHR0cHM6Ly9tYXhjZG4uYm9vdHN0cmFwY2RuLmNvbS9ib290c3RyYXAvMy4yLjAvanMvYm9vdHN0cmFwLm1pbi5qcyI+PC9zY3JpcHQ+CiAgICA8c2NyaXB0IHNyYz0iaHR0cHM6Ly9jZG5qcy5jbG91ZGZsYXJlLmNvbS9hamF4L2xpYnMvTGVhZmxldC5hd2Vzb21lLW1hcmtlcnMvMi4wLjIvbGVhZmxldC5hd2Vzb21lLW1hcmtlcnMuanMiPjwvc2NyaXB0PgogICAgPGxpbmsgcmVsPSJzdHlsZXNoZWV0IiBocmVmPSJodHRwczovL2Nkbi5qc2RlbGl2ci5uZXQvbnBtL2xlYWZsZXRAMS40LjAvZGlzdC9sZWFmbGV0LmNzcyIvPgogICAgPGxpbmsgcmVsPSJzdHlsZXNoZWV0IiBocmVmPSJodHRwczovL21heGNkbi5ib290c3RyYXBjZG4uY29tL2Jvb3RzdHJhcC8zLjIuMC9jc3MvYm9vdHN0cmFwLm1pbi5jc3MiLz4KICAgIDxsaW5rIHJlbD0ic3R5bGVzaGVldCIgaHJlZj0iaHR0cHM6Ly9tYXhjZG4uYm9vdHN0cmFwY2RuLmNvbS9ib290c3RyYXAvMy4yLjAvY3NzL2Jvb3RzdHJhcC10aGVtZS5taW4uY3NzIi8+CiAgICA8bGluayByZWw9InN0eWxlc2hlZXQiIGhyZWY9Imh0dHBzOi8vbWF4Y2RuLmJvb3RzdHJhcGNkbi5jb20vZm9udC1hd2Vzb21lLzQuNi4zL2Nzcy9mb250LWF3ZXNvbWUubWluLmNzcyIvPgogICAgPGxpbmsgcmVsPSJzdHlsZXNoZWV0IiBocmVmPSJodHRwczovL2NkbmpzLmNsb3VkZmxhcmUuY29tL2FqYXgvbGlicy9MZWFmbGV0LmF3ZXNvbWUtbWFya2Vycy8yLjAuMi9sZWFmbGV0LmF3ZXNvbWUtbWFya2Vycy5jc3MiLz4KICAgIDxsaW5rIHJlbD0ic3R5bGVzaGVldCIgaHJlZj0iaHR0cHM6Ly9yYXdjZG4uZ2l0aGFjay5jb20vcHl0aG9uLXZpc3VhbGl6YXRpb24vZm9saXVtL21hc3Rlci9mb2xpdW0vdGVtcGxhdGVzL2xlYWZsZXQuYXdlc29tZS5yb3RhdGUuY3NzIi8+CiAgICA8c3R5bGU+aHRtbCwgYm9keSB7d2lkdGg6IDEwMCU7aGVpZ2h0OiAxMDAlO21hcmdpbjogMDtwYWRkaW5nOiAwO308L3N0eWxlPgogICAgPHN0eWxlPiNtYXAge3Bvc2l0aW9uOmFic29sdXRlO3RvcDowO2JvdHRvbTowO3JpZ2h0OjA7bGVmdDowO308L3N0eWxlPgogICAgCiAgICA8bWV0YSBuYW1lPSJ2aWV3cG9ydCIgY29udGVudD0id2lkdGg9ZGV2aWNlLXdpZHRoLAogICAgICAgIGluaXRpYWwtc2NhbGU9MS4wLCBtYXhpbXVtLXNjYWxlPTEuMCwgdXNlci1zY2FsYWJsZT1ubyIgLz4KICAgIDxzdHlsZT4jbWFwX2E4MTI4ZmUyZWFlMjQ4NjViZTM3ZjE3Y2JjYWExZDNkIHsKICAgICAgICBwb3NpdGlvbjogcmVsYXRpdmU7CiAgICAgICAgd2lkdGg6IDEwMC4wJTsKICAgICAgICBoZWlnaHQ6IDEwMC4wJTsKICAgICAgICBsZWZ0OiAwLjAlOwogICAgICAgIHRvcDogMC4wJTsKICAgICAgICB9CiAgICA8L3N0eWxlPgo8L2hlYWQ+Cjxib2R5PiAgICAKICAgIAogICAgPGRpdiBjbGFzcz0iZm9saXVtLW1hcCIgaWQ9Im1hcF9hODEyOGZlMmVhZTI0ODY1YmUzN2YxN2NiY2FhMWQzZCIgPjwvZGl2Pgo8L2JvZHk+CjxzY3JpcHQ+ICAgIAogICAgCiAgICAKICAgICAgICB2YXIgYm91bmRzID0gbnVsbDsKICAgIAoKICAgIHZhciBtYXBfYTgxMjhmZTJlYWUyNDg2NWJlMzdmMTdjYmNhYTFkM2QgPSBMLm1hcCgKICAgICAgICAnbWFwX2E4MTI4ZmUyZWFlMjQ4NjViZTM3ZjE3Y2JjYWExZDNkJywgewogICAgICAgIGNlbnRlcjogWzYuNTg0MzQyOTUsIDMuMjU3NjMxMDk3MjMyMzddLAogICAgICAgIHpvb206IDE0LAogICAgICAgIG1heEJvdW5kczogYm91bmRzLAogICAgICAgIGxheWVyczogW10sCiAgICAgICAgd29ybGRDb3B5SnVtcDogZmFsc2UsCiAgICAgICAgY3JzOiBMLkNSUy5FUFNHMzg1NywKICAgICAgICB6b29tQ29udHJvbDogdHJ1ZSwKICAgICAgICB9KTsKCgogICAgCiAgICB2YXIgdGlsZV9sYXllcl82YWYxYjkwN2U5MjI0MWUzYTgzNDk0M2U4OGY2MGM5NCA9IEwudGlsZUxheWVyKAogICAgICAgICdodHRwczovL3tzfS50aWxlLm9wZW5zdHJlZXRtYXAub3JnL3t6fS97eH0ve3l9LnBuZycsCiAgICAgICAgewogICAgICAgICJhdHRyaWJ1dGlvbiI6IG51bGwsCiAgICAgICAgImRldGVjdFJldGluYSI6IGZhbHNlLAogICAgICAgICJtYXhOYXRpdmVab29tIjogMTgsCiAgICAgICAgIm1heFpvb20iOiAxOCwKICAgICAgICAibWluWm9vbSI6IDAsCiAgICAgICAgIm5vV3JhcCI6IGZhbHNlLAogICAgICAgICJvcGFjaXR5IjogMSwKICAgICAgICAic3ViZG9tYWlucyI6ICJhYmMiLAogICAgICAgICJ0bXMiOiBmYWxzZQp9KS5hZGRUbyhtYXBfYTgxMjhmZTJlYWUyNDg2NWJlMzdmMTdjYmNhYTFkM2QpOwogICAgCiAgICAgICAgICAgIHZhciBjaXJjbGVfbWFya2VyX2Q1MzRkYTY2YWQxYTQ3MTk4YTQ2N2MyZmRmYmIxMjVmID0gTC5jaXJjbGVNYXJrZXIoCiAgICAgICAgICAgICAgICBbNi41ODQzNDI5NSwgMy4yNTc2MzEwOTcyMzIzN10sCiAgICAgICAgICAgICAgICB7CiAgImJ1YmJsaW5nTW91c2VFdmVudHMiOiB0cnVlLAogICJjb2xvciI6ICJibHVlIiwKICAiZGFzaEFycmF5IjogbnVsbCwKICAiZGFzaE9mZnNldCI6IG51bGwsCiAgImZpbGwiOiB0cnVlLAogICJmaWxsQ29sb3IiOiAiIzMxODZjYyIsCiAgImZpbGxPcGFjaXR5IjogMC44LAogICJmaWxsUnVsZSI6ICJldmVub2RkIiwKICAibGluZUNhcCI6ICJyb3VuZCIsCiAgImxpbmVKb2luIjogInJvdW5kIiwKICAib3BhY2l0eSI6IDEuMCwKICAicmFkaXVzIjogMTAsCiAgInN0cm9rZSI6IHRydWUsCiAgIndlaWdodCI6IDMKfQogICAgICAgICAgICAgICAgKQogICAgICAgICAgICAgICAgLmFkZFRvKG1hcF9hODEyOGZlMmVhZTI0ODY1YmUzN2YxN2NiY2FhMWQzZCk7CiAgICAgICAgICAgIAogICAgCiAgICAgICAgICAgIHZhciBwb3B1cF8zMDViODdkOThlOWM0MWFkYWExZTllZmNlY2YyNzZlZCA9IEwucG9wdXAoe21heFdpZHRoOiAnMTAwJScKICAgICAgICAgICAgCiAgICAgICAgICAgIH0pOwoKICAgICAgICAgICAgCiAgICAgICAgICAgICAgICB2YXIgaHRtbF8yNWQ2YjZmZTk5ZjY0NTNiYjJiODE0MTEyOTE1YWRlMyA9ICQoYDxkaXYgaWQ9Imh0bWxfMjVkNmI2ZmU5OWY2NDUzYmIyYjgxNDExMjkxNWFkZTMiIHN0eWxlPSJ3aWR0aDogMTAwLjAlOyBoZWlnaHQ6IDEwMC4wJTsiPkFsaW1vc2hvPC9kaXY+YClbMF07CiAgICAgICAgICAgICAgICBwb3B1cF8zMDViODdkOThlOWM0MWFkYWExZTllZmNlY2YyNzZlZC5zZXRDb250ZW50KGh0bWxfMjVkNmI2ZmU5OWY2NDUzYmIyYjgxNDExMjkxNWFkZTMpOwogICAgICAgICAgICAKCiAgICAgICAgICAgIGNpcmNsZV9tYXJrZXJfZDUzNGRhNjZhZDFhNDcxOThhNDY3YzJmZGZiYjEyNWYuYmluZFBvcHVwKHBvcHVwXzMwNWI4N2Q5OGU5YzQxYWRhYTFlOWVmY2VjZjI3NmVkKQogICAgICAgICAgICA7CgogICAgICAgICAgICAKICAgICAgICAKPC9zY3JpcHQ+\" style=\"position:absolute;width:100%;height:100%;left:0;top:0;border:none !important;\" allowfullscreen webkitallowfullscreen mozallowfullscreen></iframe></div></div>"
            ],
            "text/plain": [
              "<folium.folium.Map at 0x7fa27aff57f0>"
            ]
          },
          "metadata": {
            "tags": []
          },
          "execution_count": 21
        }
      ]
    },
    {
      "cell_type": "markdown",
      "metadata": {
        "id": "awqo0glw9y9z",
        "colab_type": "text"
      },
      "source": [
        "Now Let's explore the data using foursquare API"
      ]
    },
    {
      "cell_type": "code",
      "metadata": {
        "id": "IcLLLBoT9yAX",
        "colab_type": "code",
        "outputId": "1fe07ac0-897a-4e89-8662-ae31bff4770c",
        "colab": {
          "base_uri": "https://localhost:8080/",
          "height": 67
        }
      },
      "source": [
        "CLIENT_ID = 'L2XUYCRD44VP2YBDMZ3XY0Z4XKO1JODM5SMG3IIYRZ5330FD' # your Foursquare ID\n",
        "CLIENT_SECRET = '5KI00FG4RT2VJQTIDPXFY1N4AOKTIXLIZEAO0AHPP3DPD0U1' # your Foursquare Secret\n",
        "VERSION = '20191212'\n",
        "LIMIT = 50\n",
        "print('Your credentials:')\n",
        "print('CLIENT_ID: ' + CLIENT_ID)\n",
        "print('CLIENT_SECRET:' + CLIENT_SECRET)"
      ],
      "execution_count": 22,
      "outputs": [
        {
          "output_type": "stream",
          "text": [
            "Your credentials:\n",
            "CLIENT_ID: L2XUYCRD44VP2YBDMZ3XY0Z4XKO1JODM5SMG3IIYRZ5330FD\n",
            "CLIENT_SECRET:5KI00FG4RT2VJQTIDPXFY1N4AOKTIXLIZEAO0AHPP3DPD0U1\n"
          ],
          "name": "stdout"
        }
      ]
    },
    {
      "cell_type": "markdown",
      "metadata": {
        "id": "XOq8VAcKE6jV",
        "colab_type": "text"
      },
      "source": [
        "Let's get the full data for Alimosho LGA"
      ]
    },
    {
      "cell_type": "markdown",
      "metadata": {
        "id": "lSkhPURzQake",
        "colab_type": "text"
      },
      "source": [
        "Now, let's get the top 200 venues that are in the first entry within a radius of 10 Kilometers."
      ]
    },
    {
      "cell_type": "code",
      "metadata": {
        "id": "BzlnZyBeQfKb",
        "colab_type": "code",
        "colab": {}
      },
      "source": [
        "radius = 10000 # 10,000 meters is 10KM\n",
        "LIMIT=200\n",
        "\n",
        "url = 'https://api.foursquare.com/v2/venues/explore?&client_id={}&client_secret={}&v={}&ll={},{}&radius={}&limit={}'.format(\n",
        "    CLIENT_ID, \n",
        "    CLIENT_SECRET, \n",
        "    VERSION, \n",
        "    alimosho_data.latitude[0], \n",
        "    alimosho_data.longitude[0], \n",
        "    radius, \n",
        "    LIMIT)"
      ],
      "execution_count": 0,
      "outputs": []
    },
    {
      "cell_type": "markdown",
      "metadata": {
        "id": "U8a-qiJFRE8I",
        "colab_type": "text"
      },
      "source": [
        "let's Send the GET request and examine the resutls"
      ]
    },
    {
      "cell_type": "code",
      "metadata": {
        "id": "pHOQ6r9JRHPs",
        "colab_type": "code",
        "outputId": "3e6402d9-710f-407b-c57e-0d77c9338973",
        "colab": {
          "base_uri": "https://localhost:8080/",
          "height": 34
        }
      },
      "source": [
        "result = requests.get(url).json()\n",
        "\n",
        "result.keys()"
      ],
      "execution_count": 24,
      "outputs": [
        {
          "output_type": "execute_result",
          "data": {
            "text/plain": [
              "dict_keys(['meta', 'response'])"
            ]
          },
          "metadata": {
            "tags": []
          },
          "execution_count": 24
        }
      ]
    },
    {
      "cell_type": "code",
      "metadata": {
        "id": "fy95KtXvRSh1",
        "colab_type": "code",
        "colab": {}
      },
      "source": [
        "# show the result\n",
        "# result"
      ],
      "execution_count": 0,
      "outputs": []
    },
    {
      "cell_type": "markdown",
      "metadata": {
        "id": "Ivyyc6dTR0ty",
        "colab_type": "text"
      },
      "source": [
        "Let's define a function that extracts the category of the venue"
      ]
    },
    {
      "cell_type": "markdown",
      "metadata": {
        "id": "ldqGNQujCT3T",
        "colab_type": "text"
      },
      "source": [
        "Let's save only the venues from result in a variable called venues"
      ]
    },
    {
      "cell_type": "code",
      "metadata": {
        "id": "w2fsDpmiSUG7",
        "colab_type": "code",
        "outputId": "868bc998-c343-40bb-bc40-0517869b41c2",
        "colab": {
          "base_uri": "https://localhost:8080/",
          "height": 34
        }
      },
      "source": [
        "venues = result['response']['groups'][0]['items']\n",
        "len(venues)\n",
        "\n",
        "# This tells us about 40 venues are returned in a 10 Kilometer radius of Alimosho LGA"
      ],
      "execution_count": 26,
      "outputs": [
        {
          "output_type": "execute_result",
          "data": {
            "text/plain": [
              "39"
            ]
          },
          "metadata": {
            "tags": []
          },
          "execution_count": 26
        }
      ]
    },
    {
      "cell_type": "code",
      "metadata": {
        "id": "HTJCqk02o0Z3",
        "colab_type": "code",
        "colab": {}
      },
      "source": [
        "# See the venues json data\n",
        "\n",
        "# venues"
      ],
      "execution_count": 0,
      "outputs": []
    },
    {
      "cell_type": "markdown",
      "metadata": {
        "id": "kWRrHXn9ByJ6",
        "colab_type": "text"
      },
      "source": [
        "Next, lets convert the result of nearby alimosho borough venues returned into a DataFrame"
      ]
    },
    {
      "cell_type": "code",
      "metadata": {
        "id": "_CxoOEbMB6S3",
        "colab_type": "code",
        "outputId": "c8f8f49e-4de4-4675-8d0a-4be7b628e22e",
        "colab": {
          "base_uri": "https://localhost:8080/",
          "height": 467
        }
      },
      "source": [
        "nearby_venues = json_normalize(venues)\n",
        "nearby_venues.head()"
      ],
      "execution_count": 28,
      "outputs": [
        {
          "output_type": "execute_result",
          "data": {
            "text/html": [
              "<div>\n",
              "<style scoped>\n",
              "    .dataframe tbody tr th:only-of-type {\n",
              "        vertical-align: middle;\n",
              "    }\n",
              "\n",
              "    .dataframe tbody tr th {\n",
              "        vertical-align: top;\n",
              "    }\n",
              "\n",
              "    .dataframe thead th {\n",
              "        text-align: right;\n",
              "    }\n",
              "</style>\n",
              "<table border=\"1\" class=\"dataframe\">\n",
              "  <thead>\n",
              "    <tr style=\"text-align: right;\">\n",
              "      <th></th>\n",
              "      <th>referralId</th>\n",
              "      <th>reasons.count</th>\n",
              "      <th>reasons.items</th>\n",
              "      <th>venue.id</th>\n",
              "      <th>venue.name</th>\n",
              "      <th>venue.location.address</th>\n",
              "      <th>venue.location.lat</th>\n",
              "      <th>venue.location.lng</th>\n",
              "      <th>venue.location.labeledLatLngs</th>\n",
              "      <th>venue.location.distance</th>\n",
              "      <th>venue.location.postalCode</th>\n",
              "      <th>venue.location.cc</th>\n",
              "      <th>venue.location.city</th>\n",
              "      <th>venue.location.state</th>\n",
              "      <th>venue.location.country</th>\n",
              "      <th>venue.location.formattedAddress</th>\n",
              "      <th>venue.categories</th>\n",
              "      <th>venue.photos.count</th>\n",
              "      <th>venue.photos.groups</th>\n",
              "      <th>venue.location.crossStreet</th>\n",
              "      <th>venue.location.neighborhood</th>\n",
              "      <th>venue.venuePage.id</th>\n",
              "    </tr>\n",
              "  </thead>\n",
              "  <tbody>\n",
              "    <tr>\n",
              "      <th>0</th>\n",
              "      <td>e-0-4e261fce315161d79d2a8fa5-0</td>\n",
              "      <td>0</td>\n",
              "      <td>[{'summary': 'This spot is popular', 'type': '...</td>\n",
              "      <td>4e261fce315161d79d2a8fa5</td>\n",
              "      <td>SHAWARMA.COME</td>\n",
              "      <td>federal junction beside mr biggs gowon estate ...</td>\n",
              "      <td>6.604609</td>\n",
              "      <td>3.277413</td>\n",
              "      <td>[{'label': 'display', 'lat': 6.604608729562348...</td>\n",
              "      <td>3142</td>\n",
              "      <td>+234</td>\n",
              "      <td>NG</td>\n",
              "      <td>Lagos</td>\n",
              "      <td>Lagos</td>\n",
              "      <td>Nigeria</td>\n",
              "      <td>[federal junction beside mr biggs gowon estate...</td>\n",
              "      <td>[{'id': '4bf58dd8d48988d1ca941735', 'name': 'P...</td>\n",
              "      <td>0</td>\n",
              "      <td>[]</td>\n",
              "      <td>NaN</td>\n",
              "      <td>NaN</td>\n",
              "      <td>NaN</td>\n",
              "    </tr>\n",
              "    <tr>\n",
              "      <th>1</th>\n",
              "      <td>e-0-4ecbf689b6346e2d3a4dead5-1</td>\n",
              "      <td>0</td>\n",
              "      <td>[{'summary': 'This spot is popular', 'type': '...</td>\n",
              "      <td>4ecbf689b6346e2d3a4dead5</td>\n",
              "      <td>Tantalisers</td>\n",
              "      <td>Abule Egba</td>\n",
              "      <td>6.649299</td>\n",
              "      <td>3.265609</td>\n",
              "      <td>[{'label': 'display', 'lat': 6.649299147190656...</td>\n",
              "      <td>7284</td>\n",
              "      <td>NaN</td>\n",
              "      <td>NG</td>\n",
              "      <td>Lagos</td>\n",
              "      <td>Lagos</td>\n",
              "      <td>Nigeria</td>\n",
              "      <td>[Abule Egba, Lagos, Lagos, Nigeria]</td>\n",
              "      <td>[{'id': '4bf58dd8d48988d16c941735', 'name': 'B...</td>\n",
              "      <td>0</td>\n",
              "      <td>[]</td>\n",
              "      <td>NaN</td>\n",
              "      <td>NaN</td>\n",
              "      <td>NaN</td>\n",
              "    </tr>\n",
              "    <tr>\n",
              "      <th>2</th>\n",
              "      <td>e-0-4f75a8e7e4b06c81e0e3ba05-2</td>\n",
              "      <td>0</td>\n",
              "      <td>[{'summary': 'This spot is popular', 'type': '...</td>\n",
              "      <td>4f75a8e7e4b06c81e0e3ba05</td>\n",
              "      <td>Wings Restaurant</td>\n",
              "      <td>NaN</td>\n",
              "      <td>6.576023</td>\n",
              "      <td>3.325612</td>\n",
              "      <td>[{'label': 'display', 'lat': 6.576022675981682...</td>\n",
              "      <td>7574</td>\n",
              "      <td>NaN</td>\n",
              "      <td>NG</td>\n",
              "      <td>Lagos</td>\n",
              "      <td>Lagos</td>\n",
              "      <td>Nigeria</td>\n",
              "      <td>[Lagos, Lagos, Nigeria]</td>\n",
              "      <td>[{'id': '4bf58dd8d48988d1c4941735', 'name': 'R...</td>\n",
              "      <td>0</td>\n",
              "      <td>[]</td>\n",
              "      <td>NaN</td>\n",
              "      <td>NaN</td>\n",
              "      <td>NaN</td>\n",
              "    </tr>\n",
              "    <tr>\n",
              "      <th>3</th>\n",
              "      <td>e-0-51176f6ce4b05931e449abbc-3</td>\n",
              "      <td>0</td>\n",
              "      <td>[{'summary': 'This spot is popular', 'type': '...</td>\n",
              "      <td>51176f6ce4b05931e449abbc</td>\n",
              "      <td>Ipaja market ipaja</td>\n",
              "      <td>Ipaja Last bus stop</td>\n",
              "      <td>6.602248</td>\n",
              "      <td>3.255585</td>\n",
              "      <td>[{'label': 'display', 'lat': 6.602248491329565...</td>\n",
              "      <td>2006</td>\n",
              "      <td>NaN</td>\n",
              "      <td>NG</td>\n",
              "      <td>Lagos</td>\n",
              "      <td>Lagos</td>\n",
              "      <td>Nigeria</td>\n",
              "      <td>[Ipaja Last bus stop (Ipaja), Lagos, Lagos, Ni...</td>\n",
              "      <td>[{'id': '50be8ee891d4fa8dcc7199a7', 'name': 'M...</td>\n",
              "      <td>0</td>\n",
              "      <td>[]</td>\n",
              "      <td>Ipaja</td>\n",
              "      <td>NaN</td>\n",
              "      <td>NaN</td>\n",
              "    </tr>\n",
              "    <tr>\n",
              "      <th>4</th>\n",
              "      <td>e-0-4c93872fa25fef3b4c231223-4</td>\n",
              "      <td>0</td>\n",
              "      <td>[{'summary': 'This spot is popular', 'type': '...</td>\n",
              "      <td>4c93872fa25fef3b4c231223</td>\n",
              "      <td>De Grange suites &amp; bar</td>\n",
              "      <td>4, association rd, boys town Ipaja</td>\n",
              "      <td>6.602309</td>\n",
              "      <td>3.267038</td>\n",
              "      <td>[{'label': 'display', 'lat': 6.602309210296299...</td>\n",
              "      <td>2254</td>\n",
              "      <td>NaN</td>\n",
              "      <td>NG</td>\n",
              "      <td>Lagos</td>\n",
              "      <td>Lagos</td>\n",
              "      <td>Nigeria</td>\n",
              "      <td>[4, association rd, boys town Ipaja (btw ipaja...</td>\n",
              "      <td>[{'id': '4bf58dd8d48988d116941735', 'name': 'B...</td>\n",
              "      <td>0</td>\n",
              "      <td>[]</td>\n",
              "      <td>btw ipaja road and ayobo</td>\n",
              "      <td>NaN</td>\n",
              "      <td>NaN</td>\n",
              "    </tr>\n",
              "  </tbody>\n",
              "</table>\n",
              "</div>"
            ],
            "text/plain": [
              "                       referralId  ...  venue.venuePage.id\n",
              "0  e-0-4e261fce315161d79d2a8fa5-0  ...                 NaN\n",
              "1  e-0-4ecbf689b6346e2d3a4dead5-1  ...                 NaN\n",
              "2  e-0-4f75a8e7e4b06c81e0e3ba05-2  ...                 NaN\n",
              "3  e-0-51176f6ce4b05931e449abbc-3  ...                 NaN\n",
              "4  e-0-4c93872fa25fef3b4c231223-4  ...                 NaN\n",
              "\n",
              "[5 rows x 22 columns]"
            ]
          },
          "metadata": {
            "tags": []
          },
          "execution_count": 28
        }
      ]
    },
    {
      "cell_type": "markdown",
      "metadata": {
        "id": "Wdoii5b7ms17",
        "colab_type": "text"
      },
      "source": [
        "Okay let's now filter the venue DataFrame and select only the volumns needed "
      ]
    },
    {
      "cell_type": "code",
      "metadata": {
        "id": "RXVe8mW0mImM",
        "colab_type": "code",
        "outputId": "43b922b7-3679-4bdd-fcd4-15a0495d3876",
        "colab": {
          "base_uri": "https://localhost:8080/",
          "height": 195
        }
      },
      "source": [
        "# filter columns\n",
        "filtered_columns = ['venue.name', 'venue.categories', 'venue.location.lat', 'venue.location.lng', 'venue.location.distance', 'venue.id']\n",
        "nearby_venues = nearby_venues.loc[:, filtered_columns]\n",
        "\n",
        "nearby_venues.head()"
      ],
      "execution_count": 29,
      "outputs": [
        {
          "output_type": "execute_result",
          "data": {
            "text/html": [
              "<div>\n",
              "<style scoped>\n",
              "    .dataframe tbody tr th:only-of-type {\n",
              "        vertical-align: middle;\n",
              "    }\n",
              "\n",
              "    .dataframe tbody tr th {\n",
              "        vertical-align: top;\n",
              "    }\n",
              "\n",
              "    .dataframe thead th {\n",
              "        text-align: right;\n",
              "    }\n",
              "</style>\n",
              "<table border=\"1\" class=\"dataframe\">\n",
              "  <thead>\n",
              "    <tr style=\"text-align: right;\">\n",
              "      <th></th>\n",
              "      <th>venue.name</th>\n",
              "      <th>venue.categories</th>\n",
              "      <th>venue.location.lat</th>\n",
              "      <th>venue.location.lng</th>\n",
              "      <th>venue.location.distance</th>\n",
              "      <th>venue.id</th>\n",
              "    </tr>\n",
              "  </thead>\n",
              "  <tbody>\n",
              "    <tr>\n",
              "      <th>0</th>\n",
              "      <td>SHAWARMA.COME</td>\n",
              "      <td>[{'id': '4bf58dd8d48988d1ca941735', 'name': 'P...</td>\n",
              "      <td>6.604609</td>\n",
              "      <td>3.277413</td>\n",
              "      <td>3142</td>\n",
              "      <td>4e261fce315161d79d2a8fa5</td>\n",
              "    </tr>\n",
              "    <tr>\n",
              "      <th>1</th>\n",
              "      <td>Tantalisers</td>\n",
              "      <td>[{'id': '4bf58dd8d48988d16c941735', 'name': 'B...</td>\n",
              "      <td>6.649299</td>\n",
              "      <td>3.265609</td>\n",
              "      <td>7284</td>\n",
              "      <td>4ecbf689b6346e2d3a4dead5</td>\n",
              "    </tr>\n",
              "    <tr>\n",
              "      <th>2</th>\n",
              "      <td>Wings Restaurant</td>\n",
              "      <td>[{'id': '4bf58dd8d48988d1c4941735', 'name': 'R...</td>\n",
              "      <td>6.576023</td>\n",
              "      <td>3.325612</td>\n",
              "      <td>7574</td>\n",
              "      <td>4f75a8e7e4b06c81e0e3ba05</td>\n",
              "    </tr>\n",
              "    <tr>\n",
              "      <th>3</th>\n",
              "      <td>Ipaja market ipaja</td>\n",
              "      <td>[{'id': '50be8ee891d4fa8dcc7199a7', 'name': 'M...</td>\n",
              "      <td>6.602248</td>\n",
              "      <td>3.255585</td>\n",
              "      <td>2006</td>\n",
              "      <td>51176f6ce4b05931e449abbc</td>\n",
              "    </tr>\n",
              "    <tr>\n",
              "      <th>4</th>\n",
              "      <td>De Grange suites &amp; bar</td>\n",
              "      <td>[{'id': '4bf58dd8d48988d116941735', 'name': 'B...</td>\n",
              "      <td>6.602309</td>\n",
              "      <td>3.267038</td>\n",
              "      <td>2254</td>\n",
              "      <td>4c93872fa25fef3b4c231223</td>\n",
              "    </tr>\n",
              "  </tbody>\n",
              "</table>\n",
              "</div>"
            ],
            "text/plain": [
              "               venue.name  ...                  venue.id\n",
              "0           SHAWARMA.COME  ...  4e261fce315161d79d2a8fa5\n",
              "1             Tantalisers  ...  4ecbf689b6346e2d3a4dead5\n",
              "2        Wings Restaurant  ...  4f75a8e7e4b06c81e0e3ba05\n",
              "3      Ipaja market ipaja  ...  51176f6ce4b05931e449abbc\n",
              "4  De Grange suites & bar  ...  4c93872fa25fef3b4c231223\n",
              "\n",
              "[5 rows x 6 columns]"
            ]
          },
          "metadata": {
            "tags": []
          },
          "execution_count": 29
        }
      ]
    },
    {
      "cell_type": "markdown",
      "metadata": {
        "id": "QQMuqBLlpr8D",
        "colab_type": "text"
      },
      "source": [
        "We can see that the categories column is not well formatted. Let's clean it out.<br>\n",
        "First let's inspect it closer"
      ]
    },
    {
      "cell_type": "code",
      "metadata": {
        "id": "UrAZ9DBUp3ZC",
        "colab_type": "code",
        "outputId": "aadff1f1-001d-4905-dd4b-e570a97741b7",
        "colab": {
          "base_uri": "https://localhost:8080/",
          "height": 134
        }
      },
      "source": [
        "nearby_venues['venue.categories'][0]"
      ],
      "execution_count": 30,
      "outputs": [
        {
          "output_type": "execute_result",
          "data": {
            "text/plain": [
              "[{'icon': {'prefix': 'https://ss3.4sqi.net/img/categories_v2/food/pizza_',\n",
              "   'suffix': '.png'},\n",
              "  'id': '4bf58dd8d48988d1ca941735',\n",
              "  'name': 'Pizza Place',\n",
              "  'pluralName': 'Pizza Places',\n",
              "  'primary': True,\n",
              "  'shortName': 'Pizza'}]"
            ]
          },
          "metadata": {
            "tags": []
          },
          "execution_count": 30
        }
      ]
    },
    {
      "cell_type": "markdown",
      "metadata": {
        "id": "cZj8jlwOqJ_n",
        "colab_type": "text"
      },
      "source": [
        "Ok so let's now define a simple method that returns only the name for each category.<br>\n",
        "Then use the apply method to apply it on each category item in the dataframe\n",
        "                                                            "
      ]
    },
    {
      "cell_type": "code",
      "metadata": {
        "id": "wEp6r3CdoXIu",
        "colab_type": "code",
        "colab": {}
      },
      "source": [
        "def clean_category(x):\n",
        "    x = x[0]['name']\n",
        "    return x"
      ],
      "execution_count": 0,
      "outputs": []
    },
    {
      "cell_type": "markdown",
      "metadata": {
        "id": "N2Nb3oSNqepT",
        "colab_type": "text"
      },
      "source": [
        "Now let's apply it"
      ]
    },
    {
      "cell_type": "code",
      "metadata": {
        "id": "o7qzO6zmpRF2",
        "colab_type": "code",
        "colab": {}
      },
      "source": [
        "nearby_venues['venue.categories'] = nearby_venues['venue.categories'].apply(clean_category)"
      ],
      "execution_count": 0,
      "outputs": []
    },
    {
      "cell_type": "markdown",
      "metadata": {
        "id": "I_DCPW7wqihT",
        "colab_type": "text"
      },
      "source": [
        "Finally let's view the cleaned category column"
      ]
    },
    {
      "cell_type": "code",
      "metadata": {
        "id": "PJVhOY495zFE",
        "colab_type": "code",
        "outputId": "853c2905-da9c-4de3-a015-fa3abed24c96",
        "colab": {
          "base_uri": "https://localhost:8080/",
          "height": 195
        }
      },
      "source": [
        "alimosho_venues = nearby_venues\n",
        "\n",
        "alimosho_venues.head()"
      ],
      "execution_count": 33,
      "outputs": [
        {
          "output_type": "execute_result",
          "data": {
            "text/html": [
              "<div>\n",
              "<style scoped>\n",
              "    .dataframe tbody tr th:only-of-type {\n",
              "        vertical-align: middle;\n",
              "    }\n",
              "\n",
              "    .dataframe tbody tr th {\n",
              "        vertical-align: top;\n",
              "    }\n",
              "\n",
              "    .dataframe thead th {\n",
              "        text-align: right;\n",
              "    }\n",
              "</style>\n",
              "<table border=\"1\" class=\"dataframe\">\n",
              "  <thead>\n",
              "    <tr style=\"text-align: right;\">\n",
              "      <th></th>\n",
              "      <th>venue.name</th>\n",
              "      <th>venue.categories</th>\n",
              "      <th>venue.location.lat</th>\n",
              "      <th>venue.location.lng</th>\n",
              "      <th>venue.location.distance</th>\n",
              "      <th>venue.id</th>\n",
              "    </tr>\n",
              "  </thead>\n",
              "  <tbody>\n",
              "    <tr>\n",
              "      <th>0</th>\n",
              "      <td>SHAWARMA.COME</td>\n",
              "      <td>Pizza Place</td>\n",
              "      <td>6.604609</td>\n",
              "      <td>3.277413</td>\n",
              "      <td>3142</td>\n",
              "      <td>4e261fce315161d79d2a8fa5</td>\n",
              "    </tr>\n",
              "    <tr>\n",
              "      <th>1</th>\n",
              "      <td>Tantalisers</td>\n",
              "      <td>Burger Joint</td>\n",
              "      <td>6.649299</td>\n",
              "      <td>3.265609</td>\n",
              "      <td>7284</td>\n",
              "      <td>4ecbf689b6346e2d3a4dead5</td>\n",
              "    </tr>\n",
              "    <tr>\n",
              "      <th>2</th>\n",
              "      <td>Wings Restaurant</td>\n",
              "      <td>Restaurant</td>\n",
              "      <td>6.576023</td>\n",
              "      <td>3.325612</td>\n",
              "      <td>7574</td>\n",
              "      <td>4f75a8e7e4b06c81e0e3ba05</td>\n",
              "    </tr>\n",
              "    <tr>\n",
              "      <th>3</th>\n",
              "      <td>Ipaja market ipaja</td>\n",
              "      <td>Market</td>\n",
              "      <td>6.602248</td>\n",
              "      <td>3.255585</td>\n",
              "      <td>2006</td>\n",
              "      <td>51176f6ce4b05931e449abbc</td>\n",
              "    </tr>\n",
              "    <tr>\n",
              "      <th>4</th>\n",
              "      <td>De Grange suites &amp; bar</td>\n",
              "      <td>Bar</td>\n",
              "      <td>6.602309</td>\n",
              "      <td>3.267038</td>\n",
              "      <td>2254</td>\n",
              "      <td>4c93872fa25fef3b4c231223</td>\n",
              "    </tr>\n",
              "  </tbody>\n",
              "</table>\n",
              "</div>"
            ],
            "text/plain": [
              "               venue.name  ...                  venue.id\n",
              "0           SHAWARMA.COME  ...  4e261fce315161d79d2a8fa5\n",
              "1             Tantalisers  ...  4ecbf689b6346e2d3a4dead5\n",
              "2        Wings Restaurant  ...  4f75a8e7e4b06c81e0e3ba05\n",
              "3      Ipaja market ipaja  ...  51176f6ce4b05931e449abbc\n",
              "4  De Grange suites & bar  ...  4c93872fa25fef3b4c231223\n",
              "\n",
              "[5 rows x 6 columns]"
            ]
          },
          "metadata": {
            "tags": []
          },
          "execution_count": 33
        }
      ]
    },
    {
      "cell_type": "markdown",
      "metadata": {
        "id": "fYtIW4-_pBAo",
        "colab_type": "text"
      },
      "source": [
        "Lets see the different types of venues present"
      ]
    },
    {
      "cell_type": "code",
      "metadata": {
        "id": "uxrHYnrJpHkj",
        "colab_type": "code",
        "outputId": "d236aecf-2749-448f-a65f-38f6f59ac5b1",
        "colab": {
          "base_uri": "https://localhost:8080/",
          "height": 130
        }
      },
      "source": [
        "alimosho_cat_count = alimosho_venues.groupby('venue.categories').size().to_frame()\n",
        "\n",
        "alimosho_cat_count.columns = ['frequency']\n",
        "\n",
        "# Let's see the categories of venues present in the alimosho LGA\n",
        "alimosho_cat_count.T"
      ],
      "execution_count": 34,
      "outputs": [
        {
          "output_type": "execute_result",
          "data": {
            "text/html": [
              "<div>\n",
              "<style scoped>\n",
              "    .dataframe tbody tr th:only-of-type {\n",
              "        vertical-align: middle;\n",
              "    }\n",
              "\n",
              "    .dataframe tbody tr th {\n",
              "        vertical-align: top;\n",
              "    }\n",
              "\n",
              "    .dataframe thead th {\n",
              "        text-align: right;\n",
              "    }\n",
              "</style>\n",
              "<table border=\"1\" class=\"dataframe\">\n",
              "  <thead>\n",
              "    <tr style=\"text-align: right;\">\n",
              "      <th>venue.categories</th>\n",
              "      <th>Airport</th>\n",
              "      <th>Airport Food Court</th>\n",
              "      <th>Airport Lounge</th>\n",
              "      <th>Airport Service</th>\n",
              "      <th>American Restaurant</th>\n",
              "      <th>Athletics &amp; Sports</th>\n",
              "      <th>Bar</th>\n",
              "      <th>Boutique</th>\n",
              "      <th>Burger Joint</th>\n",
              "      <th>Campground</th>\n",
              "      <th>Convenience Store</th>\n",
              "      <th>Department Store</th>\n",
              "      <th>Electronics Store</th>\n",
              "      <th>Farmers Market</th>\n",
              "      <th>Fast Food Restaurant</th>\n",
              "      <th>Heliport</th>\n",
              "      <th>Hotel</th>\n",
              "      <th>Lounge</th>\n",
              "      <th>Market</th>\n",
              "      <th>Park</th>\n",
              "      <th>Pizza Place</th>\n",
              "      <th>Restaurant</th>\n",
              "      <th>Shopping Mall</th>\n",
              "      <th>Soup Place</th>\n",
              "      <th>Wine Shop</th>\n",
              "    </tr>\n",
              "  </thead>\n",
              "  <tbody>\n",
              "    <tr>\n",
              "      <th>frequency</th>\n",
              "      <td>1</td>\n",
              "      <td>1</td>\n",
              "      <td>1</td>\n",
              "      <td>1</td>\n",
              "      <td>1</td>\n",
              "      <td>1</td>\n",
              "      <td>1</td>\n",
              "      <td>1</td>\n",
              "      <td>2</td>\n",
              "      <td>1</td>\n",
              "      <td>1</td>\n",
              "      <td>1</td>\n",
              "      <td>1</td>\n",
              "      <td>1</td>\n",
              "      <td>6</td>\n",
              "      <td>1</td>\n",
              "      <td>2</td>\n",
              "      <td>2</td>\n",
              "      <td>1</td>\n",
              "      <td>2</td>\n",
              "      <td>3</td>\n",
              "      <td>3</td>\n",
              "      <td>2</td>\n",
              "      <td>1</td>\n",
              "      <td>1</td>\n",
              "    </tr>\n",
              "  </tbody>\n",
              "</table>\n",
              "</div>"
            ],
            "text/plain": [
              "venue.categories  Airport  Airport Food Court  ...  Soup Place  Wine Shop\n",
              "frequency               1                   1  ...           1          1\n",
              "\n",
              "[1 rows x 25 columns]"
            ]
          },
          "metadata": {
            "tags": []
          },
          "execution_count": 34
        }
      ]
    },
    {
      "cell_type": "markdown",
      "metadata": {
        "id": "odg7dE_r_sTD",
        "colab_type": "text"
      },
      "source": [
        "Let's create a copy of the original lagos_df so that we can make the LGA its index. this will make our analysis easier"
      ]
    },
    {
      "cell_type": "code",
      "metadata": {
        "id": "xJW3o79-_31G",
        "colab_type": "code",
        "outputId": "e89288f9-946f-44f9-d835-4b60bdd91496",
        "colab": {
          "base_uri": "https://localhost:8080/",
          "height": 225
        }
      },
      "source": [
        "# First let's make a copy of the lagos_df\n",
        "copy_lagos_df = lagos_df.copy(deep=True)\n",
        "\n",
        "# Then let's make LGAs the index\n",
        "copy_lagos_df.index = copy_lagos_df.LGA\n",
        "\n",
        "# Let's drop the LGA Column\n",
        "copy_lagos_df = copy_lagos_df.drop('LGA', axis=1)\n",
        "\n",
        "# Lets view the effect\n",
        "copy_lagos_df.head()"
      ],
      "execution_count": 35,
      "outputs": [
        {
          "output_type": "execute_result",
          "data": {
            "text/html": [
              "<div>\n",
              "<style scoped>\n",
              "    .dataframe tbody tr th:only-of-type {\n",
              "        vertical-align: middle;\n",
              "    }\n",
              "\n",
              "    .dataframe tbody tr th {\n",
              "        vertical-align: top;\n",
              "    }\n",
              "\n",
              "    .dataframe thead th {\n",
              "        text-align: right;\n",
              "    }\n",
              "</style>\n",
              "<table border=\"1\" class=\"dataframe\">\n",
              "  <thead>\n",
              "    <tr style=\"text-align: right;\">\n",
              "      <th></th>\n",
              "      <th>POP</th>\n",
              "      <th>latitude</th>\n",
              "      <th>longitude</th>\n",
              "    </tr>\n",
              "    <tr>\n",
              "      <th>LGA</th>\n",
              "      <th></th>\n",
              "      <th></th>\n",
              "      <th></th>\n",
              "    </tr>\n",
              "  </thead>\n",
              "  <tbody>\n",
              "    <tr>\n",
              "      <th>Alimosho</th>\n",
              "      <td>5700714</td>\n",
              "      <td>6.58434</td>\n",
              "      <td>3.257631</td>\n",
              "    </tr>\n",
              "    <tr>\n",
              "      <th>Ajeromi-Ifelodun</th>\n",
              "      <td>1746634</td>\n",
              "      <td>6.45512</td>\n",
              "      <td>3.335946</td>\n",
              "    </tr>\n",
              "    <tr>\n",
              "      <th>Kosofe</th>\n",
              "      <td>665998</td>\n",
              "      <td>6.58197</td>\n",
              "      <td>3.414836</td>\n",
              "    </tr>\n",
              "    <tr>\n",
              "      <th>Mushin, Lagos</th>\n",
              "      <td>633543</td>\n",
              "      <td>6.53263</td>\n",
              "      <td>3.352022</td>\n",
              "    </tr>\n",
              "    <tr>\n",
              "      <th>Oshodi-Isolo</th>\n",
              "      <td>621789</td>\n",
              "      <td>6.54001</td>\n",
              "      <td>3.312415</td>\n",
              "    </tr>\n",
              "  </tbody>\n",
              "</table>\n",
              "</div>"
            ],
            "text/plain": [
              "                      POP latitude  longitude\n",
              "LGA                                          \n",
              "Alimosho          5700714  6.58434   3.257631\n",
              "Ajeromi-Ifelodun  1746634  6.45512   3.335946\n",
              "Kosofe             665998  6.58197   3.414836\n",
              "Mushin, Lagos      633543  6.53263   3.352022\n",
              "Oshodi-Isolo       621789  6.54001   3.312415"
            ]
          },
          "metadata": {
            "tags": []
          },
          "execution_count": 35
        }
      ]
    },
    {
      "cell_type": "markdown",
      "metadata": {
        "id": "HYTrN7C26EBP",
        "colab_type": "text"
      },
      "source": [
        "<h3>Next let's encapsulate all these steps into a single method that we can call</h3>"
      ]
    },
    {
      "cell_type": "markdown",
      "metadata": {
        "id": "ABkhsHFy673f",
        "colab_type": "text"
      },
      "source": [
        "First let's define a method for plotting each map"
      ]
    },
    {
      "cell_type": "code",
      "metadata": {
        "id": "lKUnyNhM6sR4",
        "colab_type": "code",
        "colab": {}
      },
      "source": [
        "def plot_map(lga):\n",
        "    \"\"\" This method takes an LGA name and\n",
        "    returns a plotted map of it based on lat and lon\"\"\"\n",
        "    lat = copy_lagos_df.loc[lga, 'latitude']\n",
        "    lon = copy_lagos_df.loc[lga, 'longitude']\n",
        "    \n",
        "    # create map of lga using latitude and longitude values\n",
        "    map_lga = folium.Map(location=[lat, lon], zoom_start=14)\n",
        "\n",
        "    # add markers to map\n",
        "\n",
        "    label = \"{}\".format(lga)\n",
        "    label = folium.Popup(label, parse_html=True)\n",
        "    folium.CircleMarker(\n",
        "        [lat, lon],\n",
        "        radius=10,\n",
        "        popup=label,\n",
        "        color='blue',\n",
        "        fill=True,\n",
        "        fill_color='#3186cc',\n",
        "        fill_opacity=0.8,\n",
        "        parse_html=False).add_to(map_lga)  \n",
        "    return map_lga"
      ],
      "execution_count": 0,
      "outputs": []
    },
    {
      "cell_type": "markdown",
      "metadata": {
        "id": "RtnXsY6hDS4d",
        "colab_type": "text"
      },
      "source": [
        "Next let's define a method that returns a filtered out version of up to 200 popular venues within 10KM radius of each LGA"
      ]
    },
    {
      "cell_type": "code",
      "metadata": {
        "id": "G1cZ-FIzDdZW",
        "colab_type": "code",
        "colab": {}
      },
      "source": [
        "def return_venues(lga):\n",
        "    \n",
        "    # let's save the latitude and longitude values\n",
        "    lat = copy_lagos_df.loc[lga, 'latitude']\n",
        "    lon = copy_lagos_df.loc[lga, 'longitude']\n",
        "    \n",
        "    # First lets save the foursquare credentials\n",
        "    CLIENT_ID = 'L2XUYCRD44VP2YBDMZ3XY0Z4XKO1JODM5SMG3IIYRZ5330FD' # your Foursquare ID\n",
        "    CLIENT_SECRET = '5KI00FG4RT2VJQTIDPXFY1N4AOKTIXLIZEAO0AHPP3DPD0U1' # your Foursquare Secret\n",
        "    VERSION = '20190902'\n",
        "    \n",
        "    # Now, let's get the top 200 venues that are in the first entry within a radius of 10 Kilometers.\n",
        "    radius = 10000 # 10,000 meters is 10KM\n",
        "    LIMIT=200  # no more than 200 venues\n",
        "    url = 'https://api.foursquare.com/v2/venues/explore?&client_id={}&client_secret={}&v={}&ll={},{}&radius={}&limit={}'.format(\n",
        "        CLIENT_ID, \n",
        "        CLIENT_SECRET, \n",
        "        VERSION, \n",
        "        lat, \n",
        "        lon, \n",
        "        radius, \n",
        "        LIMIT)\n",
        "    \n",
        "    # Let's filter out the result\n",
        "    result = requests.get(url).json()\n",
        "    \n",
        "    # From the result, lets get the venues\n",
        "    venues = result['response']['groups'][0]['items']\n",
        "    \n",
        "    # Lets convert the json files to dataframe\n",
        "    nearby_venues = json_normalize(venues)\n",
        "    \n",
        "    # Let's filter the venues and select only columns needed\n",
        "    filtered_columns = ['venue.name', 'venue.categories', 'venue.location.lat', 'venue.location.lng', 'venue.location.distance', 'venue.id']\n",
        "    nearby_venues = nearby_venues.loc[:, filtered_columns]\n",
        "    \n",
        "    # Next lets use the clean_category method to clean out category column\n",
        "    nearby_venues['venue.categories'] = nearby_venues['venue.categories'].apply(clean_category)\n",
        "\n",
        "    \n",
        "    return nearby_venues"
      ],
      "execution_count": 0,
      "outputs": []
    },
    {
      "cell_type": "markdown",
      "metadata": {
        "id": "lrG-5jbIGgI7",
        "colab_type": "text"
      },
      "source": [
        "Let's see a summary of the total number of venues returned for each LGA, as well as the first 5 venues<br>We shall also extract the lgas with less than i5 venues"
      ]
    },
    {
      "cell_type": "markdown",
      "metadata": {
        "id": "cHhHrcVMFntb",
        "colab_type": "text"
      },
      "source": [
        "Always  be aware that the total venues and types returned will be a function of the day and time the code cell below is run.<br> Normally weekends may return fewer official venues than weekdays and sunday mornings in particular return the least amount of available venues."
      ]
    },
    {
      "cell_type": "code",
      "metadata": {
        "id": "K62WPeptGgxa",
        "colab_type": "code",
        "outputId": "a7ac92d1-26d6-4995-b13a-ec08cae1cacb",
        "colab": {
          "base_uri": "https://localhost:8080/",
          "height": 1000
        }
      },
      "source": [
        "# first let's create a list of lgas with <= 15 venues to be excluded from our analysis\n",
        "lga_exclusion_list = []\n",
        "\n",
        "for i in range(len(copy_lagos_df)):\n",
        "    x = copy_lagos_df.index[i]\n",
        "    z = x\n",
        "    x+='_lga_venues'\n",
        "    y = return_venues(copy_lagos_df.index[i])\n",
        "\n",
        "    print('Total number of venues returned for {} is {}'.format(x, len(y)))\n",
        "    # if total venues returned per lga is less than 15 add to exclusion list\n",
        "    if len(y) <= 15:\n",
        "        lga_exclusion_list.append(z)\n",
        "\n",
        "    print(y.head())\n",
        "    print()\n",
        "\n",
        "print(lga_exclusion_list)"
      ],
      "execution_count": 38,
      "outputs": [
        {
          "output_type": "stream",
          "text": [
            "Total number of venues returned for Alimosho_lga_venues is 39\n",
            "               venue.name  ...                  venue.id\n",
            "0           SHAWARMA.COME  ...  4e261fce315161d79d2a8fa5\n",
            "1             Tantalisers  ...  4ecbf689b6346e2d3a4dead5\n",
            "2        Wings Restaurant  ...  4f75a8e7e4b06c81e0e3ba05\n",
            "3      Ipaja market ipaja  ...  51176f6ce4b05931e449abbc\n",
            "4  De Grange suites & bar  ...  4c93872fa25fef3b4c231223\n",
            "\n",
            "[5 rows x 6 columns]\n",
            "\n",
            "Total number of venues returned for Ajeromi-Ifelodun_lga_venues is 59\n",
            "                        venue.name  ...                  venue.id\n",
            "0  Mega Chicken Chinese Restaurant  ...  54ce24ae498e6f49a707f987\n",
            "1                   Rockview Hotel  ...  4e1cbebe7d8b8fe8c30af7b0\n",
            "2                Film House Cinema  ...  50ccbc9ce4b0d07024dd14f4\n",
            "3                Pool Golden Tulip  ...  5139ec67e4b06ad169780e29\n",
            "4            tank and tummy festac  ...  4d4ea5e9ae4e60fce52c02a2\n",
            "\n",
            "[5 rows x 6 columns]\n",
            "\n",
            "Total number of venues returned for Kosofe_lga_venues is 79\n",
            "                       venue.name  ...                  venue.id\n",
            "0           De Prince Supermarket  ...  4fce4c1ae4b0d4988249ad4a\n",
            "1                 Mende Suya Spot  ...  4c5af9572091a593d5b160d0\n",
            "2                   Maryland Mall  ...  57767482498e1b23fc39b866\n",
            "3    Zen Garden Chinese Resturant  ...  4cbb0b289552b60c6994dd8b\n",
            "4  The Londoners Bar & Restaurant  ...  4da4afbcb1c9370496db15a2\n",
            "\n",
            "[5 rows x 6 columns]\n",
            "\n",
            "Total number of venues returned for Mushin, Lagos_lga_venues is 100\n",
            "        venue.name  ...                  venue.id\n",
            "0      KFC Ilupeju  ...  50605618e4b010db7403ba92\n",
            "1        CKDigital  ...  51e4a11c498ed6f7bfaff09f\n",
            "2             Spar  ...  5701078acd102e9eccf3890f\n",
            "3      Bar Enclave  ...  4d3c661405b8721ef3f98b37\n",
            "4  Cakes and Cream  ...  4e903b55d22dccc37eac32c3\n",
            "\n",
            "[5 rows x 6 columns]\n",
            "\n",
            "Total number of venues returned for Oshodi-Isolo_lga_venues is 100\n",
            "                       venue.name  ...                  venue.id\n",
            "0                  Shoprite Ikeja  ...  4ef0a1a502d50bd85776d3f6\n",
            "1                Wings Restaurant  ...  4f75a8e7e4b06c81e0e3ba05\n",
            "2                     KFC Ilupeju  ...  50605618e4b010db7403ba92\n",
            "3  The Londoners Bar & Restaurant  ...  4da4afbcb1c9370496db15a2\n",
            "4                       CKDigital  ...  51e4a11c498ed6f7bfaff09f\n",
            "\n",
            "[5 rows x 6 columns]\n",
            "\n",
            "Total number of venues returned for Ojo_lga_venues is 4\n",
            "             venue.name  ...                  venue.id\n",
            "0               Al Humo  ...  5075bb61e4b0c5298eb9261a\n",
            "1     Hotel Marli Plaza  ...  51dcc711498ef05519f7ef99\n",
            "2  Parque Central Mocoa  ...  503b80a9e4b00145171241b3\n",
            "3         Hotel Rahsmel  ...  58ec16aefebfbd7d11bac12d\n",
            "\n",
            "[4 rows x 6 columns]\n",
            "\n",
            "Total number of venues returned for Ikorodu_lga_venues is 10\n",
            "          venue.name  ...                  venue.id\n",
            "0        Pizza House  ...  5405bb8b498eeb9671ebbe62\n",
            "1  Fatmot Restaurant  ...  50374439e4b05b4c79f8f7da\n",
            "2    Mambillah Hotel  ...  5094707ee4b0f94e040193b3\n",
            "3       Tipsy Lounge  ...  4e3d8ad218a83d5b28459620\n",
            "4            Magidun  ...  4e68b861c65be3a5650f09d6\n",
            "\n",
            "[5 rows x 6 columns]\n",
            "\n",
            "Total number of venues returned for Surulere_lga_venues is 88\n",
            "          venue.name  ...                  venue.id\n",
            "0  Film House Cinema  ...  50ccbc9ce4b0d07024dd14f4\n",
            "1   Filmhouse Cinema  ...  51c46f3d498efee47e5563a5\n",
            "2       Leisure Mall  ...  50ccbb66e4b0373cc146a483\n",
            "3       Olaiya Amala  ...  4f64f3e7e4b03a7ce173376d\n",
            "4        White House  ...  4d344e1098336dcb474236f0\n",
            "\n",
            "[5 rows x 6 columns]\n",
            "\n",
            "Total number of venues returned for Agege_lga_venues is 91\n",
            "             venue.name  ...                  venue.id\n",
            "0           SmartieMart  ...  4e10a71a1495c8d31bbfb4d3\n",
            "1  Tastee Fried Chicken  ...  4fc70e25e4b0d7c765050bf1\n",
            "2     New Afrika Shrine  ...  515eecc5e4b04e50b0bac6eb\n",
            "3  Tastee Fried Chicken  ...  56c0a978cd109d4ce6961b15\n",
            "4   Cold Stone Creamery  ...  51fd1472498ef59d5eeba984\n",
            "\n",
            "[5 rows x 6 columns]\n",
            "\n",
            "Total number of venues returned for Ifako-Ijaiye_lga_venues is 62\n",
            "             venue.name  ...                  venue.id\n",
            "0   justrite superstore  ...  504e05c7e4b04977df63d6ba\n",
            "1           Tantalisers  ...  4ecbf689b6346e2d3a4dead5\n",
            "2  Tastee Fried Chicken  ...  4fc70e25e4b0d7c765050bf1\n",
            "3           SmartieMart  ...  4e10a71a1495c8d31bbfb4d3\n",
            "4         SHAWARMA.COME  ...  4e261fce315161d79d2a8fa5\n",
            "\n",
            "[5 rows x 6 columns]\n",
            "\n",
            "Total number of venues returned for Somolu_lga_venues is 18\n",
            "              venue.name  ...                  venue.id\n",
            "0  De Prince Supermarket  ...  4fce4c1ae4b0d4988249ad4a\n",
            "1            Pizza House  ...  5405bb8b498eeb9671ebbe62\n",
            "2                Magidun  ...  4e68b861c65be3a5650f09d6\n",
            "3         Domino's Pizza  ...  552574af498e9338ad7c4479\n",
            "4               Mr Biggs  ...  4ecbd11249015d98b1a3d15e\n",
            "\n",
            "[5 rows x 6 columns]\n",
            "\n",
            "Total number of venues returned for Amuwo-Odofin_lga_venues is 20\n",
            "                        venue.name  ...                  venue.id\n",
            "0               Trade Fair Complex  ...  4c9b4bc8eaa5a1436967d3e4\n",
            "1                     Ilashe beach  ...  50c36e99e4b0fac7b1e0c5dc\n",
            "2                Pool Golden Tulip  ...  5139ec67e4b06ad169780e29\n",
            "3  Mega Chicken Chinese Restaurant  ...  54ce24ae498e6f49a707f987\n",
            "4                        TFC Place  ...  4e89d4ede5faccee5099e029\n",
            "\n",
            "[5 rows x 6 columns]\n",
            "\n",
            "Total number of venues returned for Lagos Mainland_lga_venues is 100\n",
            "                     venue.name  ...                  venue.id\n",
            "0                   White House  ...  4d344e1098336dcb474236f0\n",
            "1             Film House Cinema  ...  50ccbc9ce4b0d07024dd14f4\n",
            "2  The Banana Island Patisserie  ...  51cabaad498eb06f0fdb0340\n",
            "3                 Ozone Cinemas  ...  4de68e0418389f05587cbc03\n",
            "4                       Banilux  ...  4de00f9a3151d414eb1dcfae\n",
            "\n",
            "[5 rows x 6 columns]\n",
            "\n",
            "Total number of venues returned for Ikeja_lga_venues is 91\n",
            "                            venue.name  ...                  venue.id\n",
            "0                  Cold Stone Creamery  ...  51fd1472498ef59d5eeba984\n",
            "1  Best Western Plus Lagos Ikeja Hotel  ...  50a342c2e4b06729d0c1d95d\n",
            "2                            Mr. Price  ...  504248e9e4b0f7ca2c66f37c\n",
            "3                    New Afrika Shrine  ...  515eecc5e4b04e50b0bac6eb\n",
            "4                   University of Suya  ...  4c72b7d59e706dcbe0904b62\n",
            "\n",
            "[5 rows x 6 columns]\n",
            "\n",
            "Total number of venues returned for Eti-Osa_lga_venues is 54\n",
            "                  venue.name  ...                  venue.id\n",
            "0                V.G.C. Park  ...  4d7234f6f7c38cfa5aa0a23d\n",
            "1        Cold Stone Creamery  ...  53f0897a498eec00f0629628\n",
            "2  Lekki Conservation Centre  ...  4bfc3c78b5cd2d7f994531fb\n",
            "3               xovar lounge  ...  51b2667f498e624e770cfe6a\n",
            "4      Friends Colony Estate  ...  4c9242b457e5b60c1776671c\n",
            "\n",
            "[5 rows x 6 columns]\n",
            "\n",
            "Total number of venues returned for Badagry_lga_venues is 5\n",
            "                                   venue.name  ...                  venue.id\n",
            "0                                   Tuse Café  ...  4f92bcb8e4b0e29f54590580\n",
            "1                             Oxygen (O2) Bar  ...  4e08cbfae4cdefcff6e442e4\n",
            "2  Seriki Williams Abass' Brazilian Barracoon  ...  5236f35f11d24cf7aa0c1670\n",
            "3                        Mobee Badagry Museum  ...  4e08dc53d1640223a4a597bd\n",
            "4                   Seriki Abbas Slave Museum  ...  4f96bfd2e4b0b10b9cb6d939\n",
            "\n",
            "[5 rows x 6 columns]\n",
            "\n",
            "Total number of venues returned for Apapa_lga_venues is 100\n",
            "            venue.name  ...                  venue.id\n",
            "0       Rockview Hotel  ...  4e1cbebe7d8b8fe8c30af7b0\n",
            "1         Freedom Park  ...  4fa3a928e4b01208f9529e8e\n",
            "2  Apapa Shopping Mall  ...  5505878c498eb6579786bfd7\n",
            "3      SpicyInc Studio  ...  4fbd1a457716f968e28e0cf2\n",
            "4         Muson Centre  ...  4c57462a7613b7132e1b91ea\n",
            "\n",
            "[5 rows x 6 columns]\n",
            "\n",
            "Total number of venues returned for Lagos Island_lga_venues is 63\n",
            "         venue.name  ...                  venue.id\n",
            "0     Maple Cottage  ...  4d5834d4de8f6dcbcf0e0991\n",
            "1     Banana Island  ...  4c976e836b35a14310ee35dc\n",
            "2      Domino Pizza  ...  506c8746e4b0916d139092dc\n",
            "3  Wheatbaker Hotel  ...  4ed67bbd8231ee8d68e34649\n",
            "4    Filmhouse Imax  ...  57d1a57e498e02fa25dbe90b\n",
            "\n",
            "[5 rows x 6 columns]\n",
            "\n",
            "Total number of venues returned for Epe_lga_venues is 2\n",
            "           venue.name  ...                  venue.id\n",
            "0  Continental Dishes  ...  4bdd62c1be5120a19c72fe70\n",
            "1     Jubilee Chalets  ...  5b1a7343b3c9610039f825c4\n",
            "\n",
            "[2 rows x 6 columns]\n",
            "\n",
            "Total number of venues returned for Ibeju-Lekki_lga_venues is 4\n",
            "               venue.name  ...                  venue.id\n",
            "0             Eleko Beach  ...  4f2538b9e4b06176451d3848\n",
            "1  lakowe lakes golfcourt  ...  51bde98f498ee13d093d3ae3\n",
            "2              Omu Resort  ...  5690f080498e2fa05ac9c2d1\n",
            "3  Olive Estate Lekki FTZ  ...  4bbb019c7421a593b355c440\n",
            "\n",
            "[4 rows x 6 columns]\n",
            "\n",
            "['Ojo', 'Ikorodu', 'Badagry', 'Epe', 'Ibeju-Lekki']\n"
          ],
          "name": "stdout"
        }
      ]
    },
    {
      "cell_type": "markdown",
      "metadata": {
        "id": "nR-o1QHQIn_f",
        "colab_type": "text"
      },
      "source": [
        "Now let's exclude the LGAs with less than 15 venues from our dataframe and future analysis"
      ]
    },
    {
      "cell_type": "code",
      "metadata": {
        "id": "4yOrRGeSLN9v",
        "colab_type": "code",
        "outputId": "60dd4e5c-858d-4498-d812-60e4d541c3e7",
        "colab": {
          "base_uri": "https://localhost:8080/",
          "height": 34
        }
      },
      "source": [
        "len(copy_lagos_df)"
      ],
      "execution_count": 39,
      "outputs": [
        {
          "output_type": "execute_result",
          "data": {
            "text/plain": [
              "20"
            ]
          },
          "metadata": {
            "tags": []
          },
          "execution_count": 39
        }
      ]
    },
    {
      "cell_type": "code",
      "metadata": {
        "id": "BNktvZB3I11o",
        "colab_type": "code",
        "colab": {}
      },
      "source": [
        "# if we have atleast one lga with less than 15 venues, drop it.\n",
        "if len(lga_exclusion_list) >= 1:\n",
        "    copy_lagos_df.drop(index=lga_exclusion_list, inplace=True)"
      ],
      "execution_count": 0,
      "outputs": []
    },
    {
      "cell_type": "markdown",
      "metadata": {
        "id": "SYwHPVoxNbiH",
        "colab_type": "text"
      },
      "source": [
        "Let's confirm the length"
      ]
    },
    {
      "cell_type": "code",
      "metadata": {
        "id": "FBxjt4ivNgsD",
        "colab_type": "code",
        "outputId": "9d139a5e-e938-4c5a-f2f4-ccbeda9bc31d",
        "colab": {
          "base_uri": "https://localhost:8080/",
          "height": 34
        }
      },
      "source": [
        "len(copy_lagos_df)"
      ],
      "execution_count": 41,
      "outputs": [
        {
          "output_type": "execute_result",
          "data": {
            "text/plain": [
              "15"
            ]
          },
          "metadata": {
            "tags": []
          },
          "execution_count": 41
        }
      ]
    },
    {
      "cell_type": "markdown",
      "metadata": {
        "id": "SvxdT2pVN1wk",
        "colab_type": "text"
      },
      "source": [
        "Ok, so we now have only lgas left with atleast 15 venues "
      ]
    },
    {
      "cell_type": "markdown",
      "metadata": {
        "id": "tzLCKiN1IxID",
        "colab_type": "text"
      },
      "source": [
        "Let's see the number of venues returned for the second LGA and the first 5 venues"
      ]
    },
    {
      "cell_type": "code",
      "metadata": {
        "id": "mwEx_ncjJu-o",
        "colab_type": "code",
        "outputId": "3a38dc3b-5c6a-48e6-f506-a08d439b3352",
        "colab": {
          "base_uri": "https://localhost:8080/",
          "height": 34
        }
      },
      "source": [
        "# first let's confirm the name\n",
        "copy_lagos_df.index[1]"
      ],
      "execution_count": 42,
      "outputs": [
        {
          "output_type": "execute_result",
          "data": {
            "text/plain": [
              "'Ajeromi-Ifelodun'"
            ]
          },
          "metadata": {
            "tags": []
          },
          "execution_count": 42
        }
      ]
    },
    {
      "cell_type": "code",
      "metadata": {
        "id": "qu3FGwIOG1gE",
        "colab_type": "code",
        "outputId": "0d6972df-5d4d-4363-8195-a07170f5fa9c",
        "colab": {
          "base_uri": "https://localhost:8080/",
          "height": 212
        }
      },
      "source": [
        "Ajeromi_lga_venues = return_venues(copy_lagos_df.index[1])\n",
        "\n",
        "print('Total number of venues returned is {}'.format(len(Ajeromi_lga_venues)))\n",
        "\n",
        "Ajeromi_lga_venues.head()"
      ],
      "execution_count": 43,
      "outputs": [
        {
          "output_type": "stream",
          "text": [
            "Total number of venues returned is 59\n"
          ],
          "name": "stdout"
        },
        {
          "output_type": "execute_result",
          "data": {
            "text/html": [
              "<div>\n",
              "<style scoped>\n",
              "    .dataframe tbody tr th:only-of-type {\n",
              "        vertical-align: middle;\n",
              "    }\n",
              "\n",
              "    .dataframe tbody tr th {\n",
              "        vertical-align: top;\n",
              "    }\n",
              "\n",
              "    .dataframe thead th {\n",
              "        text-align: right;\n",
              "    }\n",
              "</style>\n",
              "<table border=\"1\" class=\"dataframe\">\n",
              "  <thead>\n",
              "    <tr style=\"text-align: right;\">\n",
              "      <th></th>\n",
              "      <th>venue.name</th>\n",
              "      <th>venue.categories</th>\n",
              "      <th>venue.location.lat</th>\n",
              "      <th>venue.location.lng</th>\n",
              "      <th>venue.location.distance</th>\n",
              "      <th>venue.id</th>\n",
              "    </tr>\n",
              "  </thead>\n",
              "  <tbody>\n",
              "    <tr>\n",
              "      <th>0</th>\n",
              "      <td>Mega Chicken Chinese Restaurant</td>\n",
              "      <td>Chinese Restaurant</td>\n",
              "      <td>6.471061</td>\n",
              "      <td>3.312721</td>\n",
              "      <td>3122</td>\n",
              "      <td>54ce24ae498e6f49a707f987</td>\n",
              "    </tr>\n",
              "    <tr>\n",
              "      <th>1</th>\n",
              "      <td>Rockview Hotel</td>\n",
              "      <td>Hotel</td>\n",
              "      <td>6.448105</td>\n",
              "      <td>3.360831</td>\n",
              "      <td>2861</td>\n",
              "      <td>4e1cbebe7d8b8fe8c30af7b0</td>\n",
              "    </tr>\n",
              "    <tr>\n",
              "      <th>2</th>\n",
              "      <td>Film House Cinema</td>\n",
              "      <td>Multiplex</td>\n",
              "      <td>6.490242</td>\n",
              "      <td>3.357371</td>\n",
              "      <td>4571</td>\n",
              "      <td>50ccbc9ce4b0d07024dd14f4</td>\n",
              "    </tr>\n",
              "    <tr>\n",
              "      <th>3</th>\n",
              "      <td>Pool Golden Tulip</td>\n",
              "      <td>Pool</td>\n",
              "      <td>6.465255</td>\n",
              "      <td>3.302554</td>\n",
              "      <td>3861</td>\n",
              "      <td>5139ec67e4b06ad169780e29</td>\n",
              "    </tr>\n",
              "    <tr>\n",
              "      <th>4</th>\n",
              "      <td>tank and tummy festac</td>\n",
              "      <td>Fast Food Restaurant</td>\n",
              "      <td>6.477172</td>\n",
              "      <td>3.332893</td>\n",
              "      <td>2477</td>\n",
              "      <td>4d4ea5e9ae4e60fce52c02a2</td>\n",
              "    </tr>\n",
              "  </tbody>\n",
              "</table>\n",
              "</div>"
            ],
            "text/plain": [
              "                        venue.name  ...                  venue.id\n",
              "0  Mega Chicken Chinese Restaurant  ...  54ce24ae498e6f49a707f987\n",
              "1                   Rockview Hotel  ...  4e1cbebe7d8b8fe8c30af7b0\n",
              "2                Film House Cinema  ...  50ccbc9ce4b0d07024dd14f4\n",
              "3                Pool Golden Tulip  ...  5139ec67e4b06ad169780e29\n",
              "4            tank and tummy festac  ...  4d4ea5e9ae4e60fce52c02a2\n",
              "\n",
              "[5 rows x 6 columns]"
            ]
          },
          "metadata": {
            "tags": []
          },
          "execution_count": 43
        }
      ]
    },
    {
      "cell_type": "markdown",
      "metadata": {
        "id": "rMuI2phKS9Ex",
        "colab_type": "text"
      },
      "source": [
        "Let's see the different types of venues present"
      ]
    },
    {
      "cell_type": "code",
      "metadata": {
        "id": "M4ZkDkb4TCbW",
        "colab_type": "code",
        "outputId": "8eb230b2-b8ea-409b-c4c9-66b8f007c22c",
        "colab": {
          "base_uri": "https://localhost:8080/",
          "height": 130
        }
      },
      "source": [
        "Ajeromi_cat_count = Ajeromi_lga_venues.groupby('venue.categories').size().to_frame()\n",
        "\n",
        "Ajeromi_cat_count.columns = ['frequency']\n",
        "\n",
        "# Let's see the categories of venues present in the alimosho LGA\n",
        "Ajeromi_cat_count.T"
      ],
      "execution_count": 44,
      "outputs": [
        {
          "output_type": "execute_result",
          "data": {
            "text/html": [
              "<div>\n",
              "<style scoped>\n",
              "    .dataframe tbody tr th:only-of-type {\n",
              "        vertical-align: middle;\n",
              "    }\n",
              "\n",
              "    .dataframe tbody tr th {\n",
              "        vertical-align: top;\n",
              "    }\n",
              "\n",
              "    .dataframe thead th {\n",
              "        text-align: right;\n",
              "    }\n",
              "</style>\n",
              "<table border=\"1\" class=\"dataframe\">\n",
              "  <thead>\n",
              "    <tr style=\"text-align: right;\">\n",
              "      <th>venue.categories</th>\n",
              "      <th>African Restaurant</th>\n",
              "      <th>Art Gallery</th>\n",
              "      <th>Asian Restaurant</th>\n",
              "      <th>Bagel Shop</th>\n",
              "      <th>Bar</th>\n",
              "      <th>Beach</th>\n",
              "      <th>Breakfast Spot</th>\n",
              "      <th>Chinese Restaurant</th>\n",
              "      <th>Cocktail Bar</th>\n",
              "      <th>Convention Center</th>\n",
              "      <th>Cupcake Shop</th>\n",
              "      <th>Department Store</th>\n",
              "      <th>Diner</th>\n",
              "      <th>Fast Food Restaurant</th>\n",
              "      <th>Flea Market</th>\n",
              "      <th>Grocery Store</th>\n",
              "      <th>Gym / Fitness Center</th>\n",
              "      <th>Hotel</th>\n",
              "      <th>Ice Cream Shop</th>\n",
              "      <th>Italian Restaurant</th>\n",
              "      <th>Japanese Restaurant</th>\n",
              "      <th>Lounge</th>\n",
              "      <th>Market</th>\n",
              "      <th>Mediterranean Restaurant</th>\n",
              "      <th>Modern European Restaurant</th>\n",
              "      <th>Movie Theater</th>\n",
              "      <th>Multiplex</th>\n",
              "      <th>Music Venue</th>\n",
              "      <th>Nightclub</th>\n",
              "      <th>Park</th>\n",
              "      <th>Photography Studio</th>\n",
              "      <th>Pizza Place</th>\n",
              "      <th>Pool</th>\n",
              "      <th>Pub</th>\n",
              "      <th>Restaurant</th>\n",
              "      <th>Shopping Mall</th>\n",
              "      <th>Soccer Field</th>\n",
              "      <th>Stables</th>\n",
              "      <th>Supermarket</th>\n",
              "    </tr>\n",
              "  </thead>\n",
              "  <tbody>\n",
              "    <tr>\n",
              "      <th>frequency</th>\n",
              "      <td>5</td>\n",
              "      <td>2</td>\n",
              "      <td>2</td>\n",
              "      <td>1</td>\n",
              "      <td>1</td>\n",
              "      <td>1</td>\n",
              "      <td>1</td>\n",
              "      <td>2</td>\n",
              "      <td>1</td>\n",
              "      <td>1</td>\n",
              "      <td>1</td>\n",
              "      <td>1</td>\n",
              "      <td>1</td>\n",
              "      <td>2</td>\n",
              "      <td>1</td>\n",
              "      <td>1</td>\n",
              "      <td>1</td>\n",
              "      <td>5</td>\n",
              "      <td>1</td>\n",
              "      <td>1</td>\n",
              "      <td>2</td>\n",
              "      <td>3</td>\n",
              "      <td>1</td>\n",
              "      <td>1</td>\n",
              "      <td>1</td>\n",
              "      <td>2</td>\n",
              "      <td>1</td>\n",
              "      <td>1</td>\n",
              "      <td>2</td>\n",
              "      <td>2</td>\n",
              "      <td>1</td>\n",
              "      <td>2</td>\n",
              "      <td>1</td>\n",
              "      <td>1</td>\n",
              "      <td>1</td>\n",
              "      <td>2</td>\n",
              "      <td>1</td>\n",
              "      <td>1</td>\n",
              "      <td>1</td>\n",
              "    </tr>\n",
              "  </tbody>\n",
              "</table>\n",
              "</div>"
            ],
            "text/plain": [
              "venue.categories  African Restaurant  Art Gallery  ...  Stables  Supermarket\n",
              "frequency                          5            2  ...        1            1\n",
              "\n",
              "[1 rows x 39 columns]"
            ]
          },
          "metadata": {
            "tags": []
          },
          "execution_count": 44
        }
      ]
    },
    {
      "cell_type": "markdown",
      "metadata": {
        "id": "a4GBvlH_K4fL",
        "colab_type": "text"
      },
      "source": [
        "Let's plot the map of 'Ajeromi-LgA'"
      ]
    },
    {
      "cell_type": "code",
      "metadata": {
        "id": "zCTGZ8ejLBmc",
        "colab_type": "code",
        "outputId": "da12428a-4755-46e1-a772-81d2483eb8f5",
        "colab": {
          "base_uri": "https://localhost:8080/",
          "height": 858
        }
      },
      "source": [
        "plot_map(copy_lagos_df.index[1])"
      ],
      "execution_count": 45,
      "outputs": [
        {
          "output_type": "execute_result",
          "data": {
            "text/html": [
              "<div style=\"width:100%;\"><div style=\"position:relative;width:100%;height:0;padding-bottom:60%;\"><iframe src=\"data:text/html;charset=utf-8;base64,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\" style=\"position:absolute;width:100%;height:100%;left:0;top:0;border:none !important;\" allowfullscreen webkitallowfullscreen mozallowfullscreen></iframe></div></div>"
            ],
            "text/plain": [
              "<folium.folium.Map at 0x7fa27af7e390>"
            ]
          },
          "metadata": {
            "tags": []
          },
          "execution_count": 45
        }
      ]
    },
    {
      "cell_type": "markdown",
      "metadata": {
        "id": "u1PK6dwUJoEo",
        "colab_type": "text"
      },
      "source": [
        "Next let's see the number of venues returned for the third LGA and the first 5 venues"
      ]
    },
    {
      "cell_type": "code",
      "metadata": {
        "id": "viR1nSvXG1d0",
        "colab_type": "code",
        "outputId": "b4eea87b-6370-48a5-e853-49d67f0811c2",
        "colab": {
          "base_uri": "https://localhost:8080/",
          "height": 34
        }
      },
      "source": [
        "# First let's confirm the name\n",
        "copy_lagos_df.index[2]"
      ],
      "execution_count": 46,
      "outputs": [
        {
          "output_type": "execute_result",
          "data": {
            "text/plain": [
              "'Kosofe'"
            ]
          },
          "metadata": {
            "tags": []
          },
          "execution_count": 46
        }
      ]
    },
    {
      "cell_type": "code",
      "metadata": {
        "id": "uxGxE8KkKPMu",
        "colab_type": "code",
        "outputId": "adeb3350-c388-4f75-d6b1-22736b7cdbe8",
        "colab": {
          "base_uri": "https://localhost:8080/",
          "height": 212
        }
      },
      "source": [
        "Kosofe_lga_venues = return_venues(copy_lagos_df.index[2])\n",
        "\n",
        "print('Total number of venues returned is {}'.format(len(Kosofe_lga_venues)))\n",
        "\n",
        "Kosofe_lga_venues.head()"
      ],
      "execution_count": 47,
      "outputs": [
        {
          "output_type": "stream",
          "text": [
            "Total number of venues returned is 79\n"
          ],
          "name": "stdout"
        },
        {
          "output_type": "execute_result",
          "data": {
            "text/html": [
              "<div>\n",
              "<style scoped>\n",
              "    .dataframe tbody tr th:only-of-type {\n",
              "        vertical-align: middle;\n",
              "    }\n",
              "\n",
              "    .dataframe tbody tr th {\n",
              "        vertical-align: top;\n",
              "    }\n",
              "\n",
              "    .dataframe thead th {\n",
              "        text-align: right;\n",
              "    }\n",
              "</style>\n",
              "<table border=\"1\" class=\"dataframe\">\n",
              "  <thead>\n",
              "    <tr style=\"text-align: right;\">\n",
              "      <th></th>\n",
              "      <th>venue.name</th>\n",
              "      <th>venue.categories</th>\n",
              "      <th>venue.location.lat</th>\n",
              "      <th>venue.location.lng</th>\n",
              "      <th>venue.location.distance</th>\n",
              "      <th>venue.id</th>\n",
              "    </tr>\n",
              "  </thead>\n",
              "  <tbody>\n",
              "    <tr>\n",
              "      <th>0</th>\n",
              "      <td>De Prince Supermarket</td>\n",
              "      <td>Department Store</td>\n",
              "      <td>6.554255</td>\n",
              "      <td>3.388933</td>\n",
              "      <td>4210</td>\n",
              "      <td>4fce4c1ae4b0d4988249ad4a</td>\n",
              "    </tr>\n",
              "    <tr>\n",
              "      <th>1</th>\n",
              "      <td>Mende Suya Spot</td>\n",
              "      <td>BBQ Joint</td>\n",
              "      <td>6.568890</td>\n",
              "      <td>3.371953</td>\n",
              "      <td>4960</td>\n",
              "      <td>4c5af9572091a593d5b160d0</td>\n",
              "    </tr>\n",
              "    <tr>\n",
              "      <th>2</th>\n",
              "      <td>Maryland Mall</td>\n",
              "      <td>Shopping Mall</td>\n",
              "      <td>6.567211</td>\n",
              "      <td>3.367269</td>\n",
              "      <td>5511</td>\n",
              "      <td>57767482498e1b23fc39b866</td>\n",
              "    </tr>\n",
              "    <tr>\n",
              "      <th>3</th>\n",
              "      <td>Zen Garden Chinese Resturant</td>\n",
              "      <td>Chinese Restaurant</td>\n",
              "      <td>6.585504</td>\n",
              "      <td>3.357131</td>\n",
              "      <td>6393</td>\n",
              "      <td>4cbb0b289552b60c6994dd8b</td>\n",
              "    </tr>\n",
              "    <tr>\n",
              "      <th>4</th>\n",
              "      <td>The Londoners Bar &amp; Restaurant</td>\n",
              "      <td>Bar</td>\n",
              "      <td>6.573301</td>\n",
              "      <td>3.357092</td>\n",
              "      <td>6458</td>\n",
              "      <td>4da4afbcb1c9370496db15a2</td>\n",
              "    </tr>\n",
              "  </tbody>\n",
              "</table>\n",
              "</div>"
            ],
            "text/plain": [
              "                       venue.name  ...                  venue.id\n",
              "0           De Prince Supermarket  ...  4fce4c1ae4b0d4988249ad4a\n",
              "1                 Mende Suya Spot  ...  4c5af9572091a593d5b160d0\n",
              "2                   Maryland Mall  ...  57767482498e1b23fc39b866\n",
              "3    Zen Garden Chinese Resturant  ...  4cbb0b289552b60c6994dd8b\n",
              "4  The Londoners Bar & Restaurant  ...  4da4afbcb1c9370496db15a2\n",
              "\n",
              "[5 rows x 6 columns]"
            ]
          },
          "metadata": {
            "tags": []
          },
          "execution_count": 47
        }
      ]
    },
    {
      "cell_type": "markdown",
      "metadata": {
        "id": "81G1eulPUP5q",
        "colab_type": "text"
      },
      "source": [
        "Let's see the different types of venues present"
      ]
    },
    {
      "cell_type": "code",
      "metadata": {
        "id": "m9QuygLRUW5x",
        "colab_type": "code",
        "outputId": "ebb05463-e6f8-4c71-fd2d-697f344ef452",
        "colab": {
          "base_uri": "https://localhost:8080/",
          "height": 130
        }
      },
      "source": [
        "Kosofe_cat_count = Kosofe_lga_venues.groupby('venue.categories').size().to_frame()\n",
        "\n",
        "Kosofe_cat_count.columns = ['frequency']\n",
        "\n",
        "# Let's see the categories of venues present in the alimosho LGA\n",
        "Kosofe_cat_count.T"
      ],
      "execution_count": 48,
      "outputs": [
        {
          "output_type": "execute_result",
          "data": {
            "text/html": [
              "<div>\n",
              "<style scoped>\n",
              "    .dataframe tbody tr th:only-of-type {\n",
              "        vertical-align: middle;\n",
              "    }\n",
              "\n",
              "    .dataframe tbody tr th {\n",
              "        vertical-align: top;\n",
              "    }\n",
              "\n",
              "    .dataframe thead th {\n",
              "        text-align: right;\n",
              "    }\n",
              "</style>\n",
              "<table border=\"1\" class=\"dataframe\">\n",
              "  <thead>\n",
              "    <tr style=\"text-align: right;\">\n",
              "      <th>venue.categories</th>\n",
              "      <th>African Restaurant</th>\n",
              "      <th>Airport</th>\n",
              "      <th>Airport Food Court</th>\n",
              "      <th>Airport Terminal</th>\n",
              "      <th>American Restaurant</th>\n",
              "      <th>BBQ Joint</th>\n",
              "      <th>Bagel Shop</th>\n",
              "      <th>Bakery</th>\n",
              "      <th>Bar</th>\n",
              "      <th>Beach</th>\n",
              "      <th>Beer Garden</th>\n",
              "      <th>Café</th>\n",
              "      <th>Chinese Restaurant</th>\n",
              "      <th>Clothing Store</th>\n",
              "      <th>Coffee Shop</th>\n",
              "      <th>Convenience Store</th>\n",
              "      <th>Cupcake Shop</th>\n",
              "      <th>Department Store</th>\n",
              "      <th>Electronics Store</th>\n",
              "      <th>Fast Food Restaurant</th>\n",
              "      <th>Flea Market</th>\n",
              "      <th>Heliport</th>\n",
              "      <th>Hotel</th>\n",
              "      <th>IT Services</th>\n",
              "      <th>Ice Cream Shop</th>\n",
              "      <th>Lounge</th>\n",
              "      <th>Luggage Store</th>\n",
              "      <th>Men's Store</th>\n",
              "      <th>Movie Theater</th>\n",
              "      <th>Multiplex</th>\n",
              "      <th>Nightclub</th>\n",
              "      <th>Performing Arts Venue</th>\n",
              "      <th>Pizza Place</th>\n",
              "      <th>Pool</th>\n",
              "      <th>Restaurant</th>\n",
              "      <th>Shopping Mall</th>\n",
              "      <th>Soup Place</th>\n",
              "      <th>Spa</th>\n",
              "      <th>Steakhouse</th>\n",
              "    </tr>\n",
              "  </thead>\n",
              "  <tbody>\n",
              "    <tr>\n",
              "      <th>frequency</th>\n",
              "      <td>4</td>\n",
              "      <td>1</td>\n",
              "      <td>1</td>\n",
              "      <td>1</td>\n",
              "      <td>1</td>\n",
              "      <td>3</td>\n",
              "      <td>1</td>\n",
              "      <td>2</td>\n",
              "      <td>3</td>\n",
              "      <td>1</td>\n",
              "      <td>1</td>\n",
              "      <td>1</td>\n",
              "      <td>3</td>\n",
              "      <td>1</td>\n",
              "      <td>1</td>\n",
              "      <td>4</td>\n",
              "      <td>1</td>\n",
              "      <td>3</td>\n",
              "      <td>1</td>\n",
              "      <td>6</td>\n",
              "      <td>1</td>\n",
              "      <td>1</td>\n",
              "      <td>3</td>\n",
              "      <td>1</td>\n",
              "      <td>3</td>\n",
              "      <td>2</td>\n",
              "      <td>1</td>\n",
              "      <td>1</td>\n",
              "      <td>1</td>\n",
              "      <td>1</td>\n",
              "      <td>5</td>\n",
              "      <td>1</td>\n",
              "      <td>4</td>\n",
              "      <td>1</td>\n",
              "      <td>3</td>\n",
              "      <td>6</td>\n",
              "      <td>1</td>\n",
              "      <td>1</td>\n",
              "      <td>2</td>\n",
              "    </tr>\n",
              "  </tbody>\n",
              "</table>\n",
              "</div>"
            ],
            "text/plain": [
              "venue.categories  African Restaurant  Airport  ...  Spa  Steakhouse\n",
              "frequency                          4        1  ...    1           2\n",
              "\n",
              "[1 rows x 39 columns]"
            ]
          },
          "metadata": {
            "tags": []
          },
          "execution_count": 48
        }
      ]
    },
    {
      "cell_type": "markdown",
      "metadata": {
        "id": "Kgl7Jig7Ld3o",
        "colab_type": "text"
      },
      "source": [
        "Now let's plot the map of Kosofe LGA"
      ]
    },
    {
      "cell_type": "code",
      "metadata": {
        "id": "d0HVjqF8LaMZ",
        "colab_type": "code",
        "outputId": "c9e15d97-b21d-45b1-af18-c783193eada8",
        "colab": {
          "base_uri": "https://localhost:8080/",
          "height": 858
        }
      },
      "source": [
        "plot_map(copy_lagos_df.index[2])"
      ],
      "execution_count": 49,
      "outputs": [
        {
          "output_type": "execute_result",
          "data": {
            "text/html": [
              "<div style=\"width:100%;\"><div style=\"position:relative;width:100%;height:0;padding-bottom:60%;\"><iframe src=\"data:text/html;charset=utf-8;base64,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\" style=\"position:absolute;width:100%;height:100%;left:0;top:0;border:none !important;\" allowfullscreen webkitallowfullscreen mozallowfullscreen></iframe></div></div>"
            ],
            "text/plain": [
              "<folium.folium.Map at 0x7fa27affa550>"
            ]
          },
          "metadata": {
            "tags": []
          },
          "execution_count": 49
        }
      ]
    },
    {
      "cell_type": "markdown",
      "metadata": {
        "id": "mWnjgHrUs3nS",
        "colab_type": "text"
      },
      "source": [
        "We can repeat the above steps for all the remaining LGAs, but remember our task is to find the ideal LGA location for a Tech start-up.<br>So we need to be smart about it.<br> I believe we need to get the venues returned by each LGA and a total list of venue categories.<br>Then we compare each LGA venues to the categories of venues we care about."
      ]
    },
    {
      "cell_type": "markdown",
      "metadata": {
        "id": "pq2YB1aEdYRW",
        "colab_type": "text"
      },
      "source": [
        "So first, let's define a method that converts the venue categories in each LGA to small case and adds it to a set. So that we can get a set of all available venue categories in our dataframe. "
      ]
    },
    {
      "cell_type": "markdown",
      "metadata": {
        "id": "d2xPtXcxQwJS",
        "colab_type": "text"
      },
      "source": [
        "The essence of converting each category name to all small case is just incase one category exists in upper and lower case some where. So that it won't be added as 2 categories"
      ]
    },
    {
      "cell_type": "code",
      "metadata": {
        "id": "3k0o_QDLdHas",
        "colab_type": "code",
        "colab": {}
      },
      "source": [
        "def store_venue_categories(df):\n",
        "    venue_set = set()\n",
        "    for lga in df.index:\n",
        "        df_lga = return_venues(lga)\n",
        "        # Converting each category name to lower case using a list comprehension\n",
        "        df_lga['venue.categories'] = [x.lower() for x in list(df_lga['venue.categories'])]\n",
        "        # Add each converted name to a set to avoid any possible duplicates\n",
        "        for category in df_lga['venue.categories']:\n",
        "            venue_set.add(category)\n",
        "    # Finally return a list of all venue categories in our DataFrame.\n",
        "    return list(venue_set)"
      ],
      "execution_count": 0,
      "outputs": []
    },
    {
      "cell_type": "code",
      "metadata": {
        "id": "3EI1jfV-HsiH",
        "colab_type": "code",
        "colab": {}
      },
      "source": [
        "all_venue_categories = store_venue_categories(copy_lagos_df)"
      ],
      "execution_count": 0,
      "outputs": []
    },
    {
      "cell_type": "markdown",
      "metadata": {
        "id": "raVFi9wkyKqw",
        "colab_type": "text"
      },
      "source": [
        "Let's see all the categories of venues listed in our data set"
      ]
    },
    {
      "cell_type": "code",
      "metadata": {
        "id": "zx_X1b2pKgGg",
        "colab_type": "code",
        "outputId": "23e3c179-91cb-4405-dcca-64be397995a5",
        "colab": {
          "base_uri": "https://localhost:8080/",
          "height": 1000
        }
      },
      "source": [
        "print('Total venue categories is: {} categories'.format(len(all_venue_categories)))\n",
        "\n",
        "all_venue_categories"
      ],
      "execution_count": 52,
      "outputs": [
        {
          "output_type": "stream",
          "text": [
            "Total venue categories is: 101 categories\n"
          ],
          "name": "stdout"
        },
        {
          "output_type": "execute_result",
          "data": {
            "text/plain": [
              "['performing arts venue',\n",
              " 'convenience store',\n",
              " 'dessert shop',\n",
              " 'bistro',\n",
              " 'theater',\n",
              " 'japanese restaurant',\n",
              " 'music venue',\n",
              " 'food',\n",
              " 'cocktail bar',\n",
              " 'golf course',\n",
              " 'multiplex',\n",
              " 'furniture / home store',\n",
              " 'karaoke bar',\n",
              " 'restaurant',\n",
              " 'beer garden',\n",
              " 'beach',\n",
              " 'neighborhood',\n",
              " 'indian restaurant',\n",
              " 'bakery',\n",
              " 'soccer field',\n",
              " 'food court',\n",
              " 'african restaurant',\n",
              " 'snack place',\n",
              " 'cupcake shop',\n",
              " 'gym / fitness center',\n",
              " 'pier',\n",
              " 'sushi restaurant',\n",
              " 'photography studio',\n",
              " 'comedy club',\n",
              " 'pool',\n",
              " 'bar',\n",
              " 'american restaurant',\n",
              " 'department store',\n",
              " 'heliport',\n",
              " 'steakhouse',\n",
              " 'burger joint',\n",
              " 'boutique',\n",
              " 'airport',\n",
              " 'mediterranean restaurant',\n",
              " 'hotel',\n",
              " 'airport service',\n",
              " 'auto garage',\n",
              " 'spa',\n",
              " 'electronics store',\n",
              " 'resort',\n",
              " 'grocery store',\n",
              " 'bus station',\n",
              " 'athletics & sports',\n",
              " 'soup place',\n",
              " 'theme restaurant',\n",
              " 'nightclub',\n",
              " 'it services',\n",
              " 'farmers market',\n",
              " 'chinese restaurant',\n",
              " 'mobile phone shop',\n",
              " 'food & drink shop',\n",
              " 'luggage store',\n",
              " 'brazilian restaurant',\n",
              " 'fast food restaurant',\n",
              " 'seafood restaurant',\n",
              " 'airport lounge',\n",
              " 'wine shop',\n",
              " 'fried chicken joint',\n",
              " 'ice cream shop',\n",
              " 'comfort food restaurant',\n",
              " 'supermarket',\n",
              " 'pub',\n",
              " \"men's store\",\n",
              " 'italian restaurant',\n",
              " 'plaza',\n",
              " 'park',\n",
              " 'gas station',\n",
              " 'bagel shop',\n",
              " 'airport terminal',\n",
              " 'pool hall',\n",
              " 'arcade',\n",
              " 'pizza place',\n",
              " 'modern european restaurant',\n",
              " 'bbq joint',\n",
              " 'sports bar',\n",
              " 'movie theater',\n",
              " 'convention center',\n",
              " 'bike rental / bike share',\n",
              " 'coffee shop',\n",
              " 'campground',\n",
              " 'surf spot',\n",
              " 'art gallery',\n",
              " 'stables',\n",
              " 'airport food court',\n",
              " 'lounge',\n",
              " 'flea market',\n",
              " 'playground',\n",
              " 'mexican restaurant',\n",
              " 'asian restaurant',\n",
              " 'breakfast spot',\n",
              " 'clothing store',\n",
              " 'café',\n",
              " 'diner',\n",
              " 'market',\n",
              " 'shopping mall',\n",
              " 'baseball stadium']"
            ]
          },
          "metadata": {
            "tags": []
          },
          "execution_count": 52
        }
      ]
    },
    {
      "cell_type": "markdown",
      "metadata": {
        "id": "64eWUrXLSkpA",
        "colab_type": "text"
      },
      "source": [
        "Next, we need to arrange all categories in order of importance to our analysis. This means categories that are more important be moved up the list, while others are down.<br>\n",
        "First let's group similar venue types together such as coffee shop and cupcake shop"
      ]
    },
    {
      "cell_type": "code",
      "metadata": {
        "id": "ZZefUUYLzB1_",
        "colab_type": "code",
        "colab": {}
      },
      "source": [
        "continental_restaurants = ['italian restaurant', 'modern european restaurant','african restaurant','brazilian restaurant','theme restaurant', \n",
        "                           'mexican restaurant',  'seafood restaurant','american restaurant','mediterranean restaurant','fast food restaurant','japanese restaurant',\n",
        "                           'chinese restaurant','comfort food restaurant','asian restaurant','indian restaurant', 'sushi restaurant','restaurant']\n",
        "\n",
        "eateries = ['bbq joint', 'fried chicken joint', 'food','burger joint' ,'pizza place','steakhouse','food court','soup place','airport food court','food & drink shop',\n",
        "            'breakfast spot','diner']\n",
        "\n",
        "coffee_shops = ['bagel shop','dessert shop', 'café','cupcake shop','coffee shop']\n",
        "\n",
        "gas_stations = ['gas station']\n",
        "\n",
        "ice_cream_n_confectionery = ['snack place','bakery','ice cream shop']\n",
        "\n",
        "hotels_resorts_spas = ['resort','hotel','spa']\n",
        "\n",
        "bars_n_lounges = ['lounge','pub','bar','sports bar','beer garden', 'karaoke bar','cocktail bar','airport lounge']\n",
        "\n",
        "airport = ['airport terminal','airport service']\n",
        "\n",
        "bus_stations = ['bus station']\n",
        "\n",
        "heliport = ['bistro','heliport']\n",
        "\n",
        "it_services_n_hubs = ['it services']\n",
        "\n",
        "shopping_malls_n_stores = ['department store', 'plaza','grocery store','convenience store','supermarket','furniture / home store','shopping mall','wine shop',\n",
        "                           \"men's store\"]\n",
        "\n",
        "gym_sports_facilities_games = ['gym / fitness center','playground','soccer field','arcade','golf course','pool hall','surf spot','pool','baseball stadium',\n",
        "                               'athletics & sports']\n",
        "\n",
        "markets = ['farmers market','market','flea market']\n",
        "\n",
        "fashion_n_clothing = ['boutique','clothing store']\n",
        "\n",
        "arts_studios_galleries = ['comedy club','art gallery','theater','performing arts venue']\n",
        "\n",
        "convention_centers = ['multiplex','convention center']\n",
        "\n",
        "halls_events_venues = ['music venue','campground']\n",
        "\n",
        "night_clubs = ['nightclub']\n",
        "\n",
        "beach = ['beach']\n",
        "\n",
        "parks = ['park']\n",
        "\n",
        "cinemas = ['movie theater']\n",
        "\n",
        "auto_services = ['auto garage']\n",
        "\n",
        "electronics_shop = ['mobile phone shop','electronics store']\n",
        "\n",
        "residences = ['neighborhood']\n",
        "\n",
        "other_services = ['stables','photography studio','pier','luggage store','bike rental / bike share']"
      ],
      "execution_count": 0,
      "outputs": []
    },
    {
      "cell_type": "markdown",
      "metadata": {
        "id": "QQx5ljs8s4OE",
        "colab_type": "text"
      },
      "source": [
        "Let's now create a super list that stores each category list above in a list"
      ]
    },
    {
      "cell_type": "code",
      "metadata": {
        "id": "HThMEp5us3jl",
        "colab_type": "code",
        "colab": {}
      },
      "source": [
        "super_list  = [continental_restaurants, eateries, coffee_shops, gas_stations, ice_cream_n_confectionery, hotels_resorts_spas, bars_n_lounges,\n",
        "               airport, bus_stations, heliport, it_services_n_hubs, shopping_malls_n_stores, gym_sports_facilities_games, markets, fashion_n_clothing,\n",
        "               arts_studios_galleries, convention_centers, halls_events_venues, night_clubs, beach, parks, cinemas, auto_services, electronics_shop,\n",
        "               residences, other_services]"
      ],
      "execution_count": 0,
      "outputs": []
    },
    {
      "cell_type": "markdown",
      "metadata": {
        "id": "VmsdMA1NXPmr",
        "colab_type": "text"
      },
      "source": [
        "Let's confirm we have the same number of unique venues as we got using the returned_venues method above"
      ]
    },
    {
      "cell_type": "code",
      "metadata": {
        "id": "vdrcYnUorQBg",
        "colab_type": "code",
        "outputId": "7f045ad3-d283-4ac6-a14e-5c6ae1e87de7",
        "colab": {
          "base_uri": "https://localhost:8080/",
          "height": 34
        }
      },
      "source": [
        "count = 0\n",
        "for i in super_list:\n",
        "    count += len(i)\n",
        "print(count)"
      ],
      "execution_count": 55,
      "outputs": [
        {
          "output_type": "stream",
          "text": [
            "100\n"
          ],
          "name": "stdout"
        }
      ]
    },
    {
      "cell_type": "markdown",
      "metadata": {
        "id": "NlMebOGwv1Bf",
        "colab_type": "text"
      },
      "source": [
        "We had 101 venue categories earlier. So one venue is missing, let's trace it and add it up to the right category, else it will distort our output"
      ]
    },
    {
      "cell_type": "code",
      "metadata": {
        "id": "_SAMvgyIrL1F",
        "colab_type": "code",
        "colab": {}
      },
      "source": [
        "if count < len(all_venue_categories):\n",
        "    test_set = set()\n",
        "\n",
        "    for i in super_list:\n",
        "        for j in i:\n",
        "            test_set.add(j)\n",
        "\n",
        "    len(test_set)"
      ],
      "execution_count": 0,
      "outputs": []
    },
    {
      "cell_type": "markdown",
      "metadata": {
        "id": "LME9kjkvr-dX",
        "colab_type": "text"
      },
      "source": [
        "Now that we have a test_set containing all venue categories in super_list,<br> Let's set it against the all_venue_categories list to identify the missing venue category "
      ]
    },
    {
      "cell_type": "code",
      "metadata": {
        "id": "5UGBXfihswTh",
        "colab_type": "code",
        "colab": {}
      },
      "source": [
        "missing_category = set(all_venue_categories).difference(test_set)"
      ],
      "execution_count": 0,
      "outputs": []
    },
    {
      "cell_type": "code",
      "metadata": {
        "id": "yo1weOhPtW_A",
        "colab_type": "code",
        "outputId": "167131cd-1e41-4b0a-f5df-4d1dcb608a1d",
        "colab": {
          "base_uri": "https://localhost:8080/",
          "height": 34
        }
      },
      "source": [
        "# Let's see the missing category\n",
        "\n",
        "print(missing_category)"
      ],
      "execution_count": 58,
      "outputs": [
        {
          "output_type": "stream",
          "text": [
            "{'airport'}\n"
          ],
          "name": "stdout"
        }
      ]
    },
    {
      "cell_type": "markdown",
      "metadata": {
        "id": "uiMxW8Ej0BOc",
        "colab_type": "text"
      },
      "source": [
        "So let's add the airport category to the appropriate list. which should be airport list"
      ]
    },
    {
      "cell_type": "code",
      "metadata": {
        "id": "XMSOWEOo0sWD",
        "colab_type": "code",
        "colab": {}
      },
      "source": [
        "airport.append('airport')"
      ],
      "execution_count": 0,
      "outputs": []
    },
    {
      "cell_type": "code",
      "metadata": {
        "id": "SNzPK7u11JJ4",
        "colab_type": "code",
        "outputId": "ca502993-8435-4ddf-86b8-2722cfadeca5",
        "colab": {
          "base_uri": "https://localhost:8080/",
          "height": 34
        }
      },
      "source": [
        "print(airport)"
      ],
      "execution_count": 60,
      "outputs": [
        {
          "output_type": "stream",
          "text": [
            "['airport terminal', 'airport service', 'airport']\n"
          ],
          "name": "stdout"
        }
      ]
    },
    {
      "cell_type": "markdown",
      "metadata": {
        "id": "MTQJjE0y04s1",
        "colab_type": "text"
      },
      "source": [
        "Let's once again confirm that we now have equal number of venues"
      ]
    },
    {
      "cell_type": "code",
      "metadata": {
        "id": "rCXWz6ha1EKe",
        "colab_type": "code",
        "outputId": "e45dd7b6-d390-4b54-fd6a-e1f5d5ed73d4",
        "colab": {
          "base_uri": "https://localhost:8080/",
          "height": 34
        }
      },
      "source": [
        "count = 0\n",
        "for i in super_list:\n",
        "    count += len(i)\n",
        "print(count)"
      ],
      "execution_count": 61,
      "outputs": [
        {
          "output_type": "stream",
          "text": [
            "101\n"
          ],
          "name": "stdout"
        }
      ]
    },
    {
      "cell_type": "markdown",
      "metadata": {
        "id": "5IMhpVaf11R9",
        "colab_type": "text"
      },
      "source": [
        "Ok, Let's move on to the next step which is creating a DataFrame with categories as index and LGAs as columns.<br>Then each LGA would have a score based on the number of venues in each category.<br>\n",
        "After that we would sort the data frame by categories we care most about."
      ]
    },
    {
      "cell_type": "code",
      "metadata": {
        "id": "7MC7ySM52s7Z",
        "colab_type": "code",
        "colab": {}
      },
      "source": [
        "# Let's make the categories the index of the new DataFrame\n",
        "\n",
        "data_index = ['continental_restaurants', 'eateries', 'coffee_shops', 'gas_stations', 'ice_cream_n_confectionery', 'hotels_resorts_spas', 'bars_n_lounges',\n",
        "               'airport', 'bus_stations', 'heliport', 'it_services_n_hubs', 'shopping_malls_n_stores', 'gym_sports_facilities_games', 'markets', 'fashion_n_clothing',\n",
        "               'arts_studios_galleries', 'convention_centers', 'halls_events_venues', 'night_clubs', 'beach', 'parks', 'cinemas', 'auto_services', 'electronics_shop',\n",
        "               'residences', 'other_services']"
      ],
      "execution_count": 0,
      "outputs": []
    },
    {
      "cell_type": "code",
      "metadata": {
        "id": "9DYep3IO5neV",
        "colab_type": "code",
        "colab": {}
      },
      "source": [
        "# Let's create a list of LGAs to be the columns of our new DataFrame\n",
        "\n",
        "data_columns = list(copy_lagos_df.index)"
      ],
      "execution_count": 0,
      "outputs": []
    },
    {
      "cell_type": "code",
      "metadata": {
        "id": "EJTNcq55855P",
        "colab_type": "code",
        "outputId": "d5c999c8-ce00-4a00-fd27-ee4d46b27ac5",
        "colab": {
          "base_uri": "https://localhost:8080/",
          "height": 212
        }
      },
      "source": [
        "# Let's create a new DataFrame\n",
        "summary_df = pd.DataFrame(index= data_index, columns= data_columns)\n",
        "\n",
        "# Next let's replace any possoble NaN values with 0\n",
        "summary_df.fillna(0, inplace=True)\n",
        "\n",
        "# Let's see the first 5 rows\n",
        "summary_df.head()"
      ],
      "execution_count": 64,
      "outputs": [
        {
          "output_type": "execute_result",
          "data": {
            "text/html": [
              "<div>\n",
              "<style scoped>\n",
              "    .dataframe tbody tr th:only-of-type {\n",
              "        vertical-align: middle;\n",
              "    }\n",
              "\n",
              "    .dataframe tbody tr th {\n",
              "        vertical-align: top;\n",
              "    }\n",
              "\n",
              "    .dataframe thead th {\n",
              "        text-align: right;\n",
              "    }\n",
              "</style>\n",
              "<table border=\"1\" class=\"dataframe\">\n",
              "  <thead>\n",
              "    <tr style=\"text-align: right;\">\n",
              "      <th></th>\n",
              "      <th>Alimosho</th>\n",
              "      <th>Ajeromi-Ifelodun</th>\n",
              "      <th>Kosofe</th>\n",
              "      <th>Mushin, Lagos</th>\n",
              "      <th>Oshodi-Isolo</th>\n",
              "      <th>Surulere</th>\n",
              "      <th>Agege</th>\n",
              "      <th>Ifako-Ijaiye</th>\n",
              "      <th>Somolu</th>\n",
              "      <th>Amuwo-Odofin</th>\n",
              "      <th>Lagos Mainland</th>\n",
              "      <th>Ikeja</th>\n",
              "      <th>Eti-Osa</th>\n",
              "      <th>Apapa</th>\n",
              "      <th>Lagos Island</th>\n",
              "    </tr>\n",
              "  </thead>\n",
              "  <tbody>\n",
              "    <tr>\n",
              "      <th>continental_restaurants</th>\n",
              "      <td>0</td>\n",
              "      <td>0</td>\n",
              "      <td>0</td>\n",
              "      <td>0</td>\n",
              "      <td>0</td>\n",
              "      <td>0</td>\n",
              "      <td>0</td>\n",
              "      <td>0</td>\n",
              "      <td>0</td>\n",
              "      <td>0</td>\n",
              "      <td>0</td>\n",
              "      <td>0</td>\n",
              "      <td>0</td>\n",
              "      <td>0</td>\n",
              "      <td>0</td>\n",
              "    </tr>\n",
              "    <tr>\n",
              "      <th>eateries</th>\n",
              "      <td>0</td>\n",
              "      <td>0</td>\n",
              "      <td>0</td>\n",
              "      <td>0</td>\n",
              "      <td>0</td>\n",
              "      <td>0</td>\n",
              "      <td>0</td>\n",
              "      <td>0</td>\n",
              "      <td>0</td>\n",
              "      <td>0</td>\n",
              "      <td>0</td>\n",
              "      <td>0</td>\n",
              "      <td>0</td>\n",
              "      <td>0</td>\n",
              "      <td>0</td>\n",
              "    </tr>\n",
              "    <tr>\n",
              "      <th>coffee_shops</th>\n",
              "      <td>0</td>\n",
              "      <td>0</td>\n",
              "      <td>0</td>\n",
              "      <td>0</td>\n",
              "      <td>0</td>\n",
              "      <td>0</td>\n",
              "      <td>0</td>\n",
              "      <td>0</td>\n",
              "      <td>0</td>\n",
              "      <td>0</td>\n",
              "      <td>0</td>\n",
              "      <td>0</td>\n",
              "      <td>0</td>\n",
              "      <td>0</td>\n",
              "      <td>0</td>\n",
              "    </tr>\n",
              "    <tr>\n",
              "      <th>gas_stations</th>\n",
              "      <td>0</td>\n",
              "      <td>0</td>\n",
              "      <td>0</td>\n",
              "      <td>0</td>\n",
              "      <td>0</td>\n",
              "      <td>0</td>\n",
              "      <td>0</td>\n",
              "      <td>0</td>\n",
              "      <td>0</td>\n",
              "      <td>0</td>\n",
              "      <td>0</td>\n",
              "      <td>0</td>\n",
              "      <td>0</td>\n",
              "      <td>0</td>\n",
              "      <td>0</td>\n",
              "    </tr>\n",
              "    <tr>\n",
              "      <th>ice_cream_n_confectionery</th>\n",
              "      <td>0</td>\n",
              "      <td>0</td>\n",
              "      <td>0</td>\n",
              "      <td>0</td>\n",
              "      <td>0</td>\n",
              "      <td>0</td>\n",
              "      <td>0</td>\n",
              "      <td>0</td>\n",
              "      <td>0</td>\n",
              "      <td>0</td>\n",
              "      <td>0</td>\n",
              "      <td>0</td>\n",
              "      <td>0</td>\n",
              "      <td>0</td>\n",
              "      <td>0</td>\n",
              "    </tr>\n",
              "  </tbody>\n",
              "</table>\n",
              "</div>"
            ],
            "text/plain": [
              "                           Alimosho  Ajeromi-Ifelodun  ...  Apapa  Lagos Island\n",
              "continental_restaurants           0                 0  ...      0             0\n",
              "eateries                          0                 0  ...      0             0\n",
              "coffee_shops                      0                 0  ...      0             0\n",
              "gas_stations                      0                 0  ...      0             0\n",
              "ice_cream_n_confectionery         0                 0  ...      0             0\n",
              "\n",
              "[5 rows x 15 columns]"
            ]
          },
          "metadata": {
            "tags": []
          },
          "execution_count": 64
        }
      ]
    },
    {
      "cell_type": "markdown",
      "metadata": {
        "id": "IaAnQOOhYc35",
        "colab_type": "text"
      },
      "source": [
        "Now let's create a method that adds the number of venues in each category per LGA to the summary_df DataFrame above"
      ]
    },
    {
      "cell_type": "code",
      "metadata": {
        "id": "o7NkFJqU_wlp",
        "colab_type": "code",
        "colab": {}
      },
      "source": [
        "def update_lga_category_values(df_1, df_2):\n",
        "    \"\"\"df_1 refers to the copy_lagos_df DataFrame and\n",
        "    df_2 refers to the summary_df DataFrame,\n",
        "    This method returns an updated df_2, showing the total number\n",
        "    of each type of venues that exist in each LGA\"\"\"\n",
        "\n",
        "    # let's make a refence to the super_list object\n",
        "    new_list = super_list.copy()\n",
        "    # Let's iterate through the copy_lagos_df DataFrame\n",
        "    for i in df_1.index:\n",
        "        # Lets use the return_venues method defined earlier to get the venues for each LGA\n",
        "        df_lga_venues = return_venues(i)\n",
        "        # convert the venue.categories elements to all lower case for each LGA using list comp.\n",
        "        df_lga_venues['venue.categories'] = [x.lower() for x in list(df_lga_venues['venue.categories'])]\n",
        "        # Let's iterate through each venue category in the given LGA\n",
        "        for x in df_lga_venues['venue.categories']:\n",
        "            # Let's check if the venue is in the first element of the new_list, \n",
        "            # which is a copy of the Super_list we created earlier\n",
        "            for y in range(len(new_list)):\n",
        "                # If it exists add one to the category under which it exists\n",
        "                if x in new_list[y]:\n",
        "                    df_2[i][y] += 1\n",
        "                # if it doesn't exist continue seeking the right category\n",
        "                else:\n",
        "                    continue\n",
        "    # Finally add a Total row that shows the total venues returned per category per LGA\n",
        "    df_2.loc[\"Total_Venues\"] = df_2.sum()\n",
        "    return df_2"
      ],
      "execution_count": 0,
      "outputs": []
    },
    {
      "cell_type": "code",
      "metadata": {
        "id": "U2BhwQvkKlBQ",
        "colab_type": "code",
        "colab": {}
      },
      "source": [
        "summary_df = update_lga_category_values(copy_lagos_df, summary_df)"
      ],
      "execution_count": 0,
      "outputs": []
    },
    {
      "cell_type": "code",
      "metadata": {
        "id": "9vu278mtLRZA",
        "colab_type": "code",
        "outputId": "8eef05cf-4d67-4425-e99b-1fa8d27002b9",
        "colab": {
          "base_uri": "https://localhost:8080/",
          "height": 863
        }
      },
      "source": [
        "summary_df"
      ],
      "execution_count": 67,
      "outputs": [
        {
          "output_type": "execute_result",
          "data": {
            "text/html": [
              "<div>\n",
              "<style scoped>\n",
              "    .dataframe tbody tr th:only-of-type {\n",
              "        vertical-align: middle;\n",
              "    }\n",
              "\n",
              "    .dataframe tbody tr th {\n",
              "        vertical-align: top;\n",
              "    }\n",
              "\n",
              "    .dataframe thead th {\n",
              "        text-align: right;\n",
              "    }\n",
              "</style>\n",
              "<table border=\"1\" class=\"dataframe\">\n",
              "  <thead>\n",
              "    <tr style=\"text-align: right;\">\n",
              "      <th></th>\n",
              "      <th>Alimosho</th>\n",
              "      <th>Ajeromi-Ifelodun</th>\n",
              "      <th>Kosofe</th>\n",
              "      <th>Mushin, Lagos</th>\n",
              "      <th>Oshodi-Isolo</th>\n",
              "      <th>Surulere</th>\n",
              "      <th>Agege</th>\n",
              "      <th>Ifako-Ijaiye</th>\n",
              "      <th>Somolu</th>\n",
              "      <th>Amuwo-Odofin</th>\n",
              "      <th>Lagos Mainland</th>\n",
              "      <th>Ikeja</th>\n",
              "      <th>Eti-Osa</th>\n",
              "      <th>Apapa</th>\n",
              "      <th>Lagos Island</th>\n",
              "    </tr>\n",
              "  </thead>\n",
              "  <tbody>\n",
              "    <tr>\n",
              "      <th>continental_restaurants</th>\n",
              "      <td>10</td>\n",
              "      <td>17</td>\n",
              "      <td>17</td>\n",
              "      <td>21</td>\n",
              "      <td>23</td>\n",
              "      <td>18</td>\n",
              "      <td>20</td>\n",
              "      <td>16</td>\n",
              "      <td>3</td>\n",
              "      <td>4</td>\n",
              "      <td>23</td>\n",
              "      <td>21</td>\n",
              "      <td>9</td>\n",
              "      <td>30</td>\n",
              "      <td>7</td>\n",
              "    </tr>\n",
              "    <tr>\n",
              "      <th>eateries</th>\n",
              "      <td>7</td>\n",
              "      <td>4</td>\n",
              "      <td>11</td>\n",
              "      <td>15</td>\n",
              "      <td>16</td>\n",
              "      <td>7</td>\n",
              "      <td>16</td>\n",
              "      <td>11</td>\n",
              "      <td>3</td>\n",
              "      <td>2</td>\n",
              "      <td>7</td>\n",
              "      <td>16</td>\n",
              "      <td>5</td>\n",
              "      <td>7</td>\n",
              "      <td>5</td>\n",
              "    </tr>\n",
              "    <tr>\n",
              "      <th>coffee_shops</th>\n",
              "      <td>0</td>\n",
              "      <td>2</td>\n",
              "      <td>4</td>\n",
              "      <td>5</td>\n",
              "      <td>4</td>\n",
              "      <td>2</td>\n",
              "      <td>2</td>\n",
              "      <td>2</td>\n",
              "      <td>0</td>\n",
              "      <td>0</td>\n",
              "      <td>5</td>\n",
              "      <td>2</td>\n",
              "      <td>0</td>\n",
              "      <td>5</td>\n",
              "      <td>0</td>\n",
              "    </tr>\n",
              "    <tr>\n",
              "      <th>gas_stations</th>\n",
              "      <td>0</td>\n",
              "      <td>0</td>\n",
              "      <td>0</td>\n",
              "      <td>0</td>\n",
              "      <td>0</td>\n",
              "      <td>0</td>\n",
              "      <td>0</td>\n",
              "      <td>0</td>\n",
              "      <td>0</td>\n",
              "      <td>0</td>\n",
              "      <td>0</td>\n",
              "      <td>0</td>\n",
              "      <td>0</td>\n",
              "      <td>0</td>\n",
              "      <td>1</td>\n",
              "    </tr>\n",
              "    <tr>\n",
              "      <th>ice_cream_n_confectionery</th>\n",
              "      <td>0</td>\n",
              "      <td>1</td>\n",
              "      <td>5</td>\n",
              "      <td>6</td>\n",
              "      <td>6</td>\n",
              "      <td>1</td>\n",
              "      <td>4</td>\n",
              "      <td>0</td>\n",
              "      <td>1</td>\n",
              "      <td>1</td>\n",
              "      <td>4</td>\n",
              "      <td>4</td>\n",
              "      <td>3</td>\n",
              "      <td>3</td>\n",
              "      <td>3</td>\n",
              "    </tr>\n",
              "    <tr>\n",
              "      <th>hotels_resorts_spas</th>\n",
              "      <td>2</td>\n",
              "      <td>5</td>\n",
              "      <td>4</td>\n",
              "      <td>5</td>\n",
              "      <td>7</td>\n",
              "      <td>10</td>\n",
              "      <td>5</td>\n",
              "      <td>3</td>\n",
              "      <td>1</td>\n",
              "      <td>4</td>\n",
              "      <td>9</td>\n",
              "      <td>5</td>\n",
              "      <td>6</td>\n",
              "      <td>11</td>\n",
              "      <td>9</td>\n",
              "    </tr>\n",
              "    <tr>\n",
              "      <th>bars_n_lounges</th>\n",
              "      <td>4</td>\n",
              "      <td>6</td>\n",
              "      <td>6</td>\n",
              "      <td>9</td>\n",
              "      <td>10</td>\n",
              "      <td>12</td>\n",
              "      <td>9</td>\n",
              "      <td>4</td>\n",
              "      <td>1</td>\n",
              "      <td>0</td>\n",
              "      <td>15</td>\n",
              "      <td>10</td>\n",
              "      <td>9</td>\n",
              "      <td>13</td>\n",
              "      <td>11</td>\n",
              "    </tr>\n",
              "    <tr>\n",
              "      <th>airport</th>\n",
              "      <td>2</td>\n",
              "      <td>0</td>\n",
              "      <td>2</td>\n",
              "      <td>0</td>\n",
              "      <td>0</td>\n",
              "      <td>0</td>\n",
              "      <td>3</td>\n",
              "      <td>0</td>\n",
              "      <td>0</td>\n",
              "      <td>0</td>\n",
              "      <td>0</td>\n",
              "      <td>3</td>\n",
              "      <td>0</td>\n",
              "      <td>0</td>\n",
              "      <td>0</td>\n",
              "    </tr>\n",
              "    <tr>\n",
              "      <th>bus_stations</th>\n",
              "      <td>0</td>\n",
              "      <td>0</td>\n",
              "      <td>0</td>\n",
              "      <td>0</td>\n",
              "      <td>0</td>\n",
              "      <td>0</td>\n",
              "      <td>1</td>\n",
              "      <td>2</td>\n",
              "      <td>3</td>\n",
              "      <td>1</td>\n",
              "      <td>0</td>\n",
              "      <td>0</td>\n",
              "      <td>0</td>\n",
              "      <td>0</td>\n",
              "      <td>2</td>\n",
              "    </tr>\n",
              "    <tr>\n",
              "      <th>heliport</th>\n",
              "      <td>1</td>\n",
              "      <td>0</td>\n",
              "      <td>1</td>\n",
              "      <td>1</td>\n",
              "      <td>0</td>\n",
              "      <td>1</td>\n",
              "      <td>1</td>\n",
              "      <td>1</td>\n",
              "      <td>0</td>\n",
              "      <td>0</td>\n",
              "      <td>0</td>\n",
              "      <td>1</td>\n",
              "      <td>0</td>\n",
              "      <td>0</td>\n",
              "      <td>0</td>\n",
              "    </tr>\n",
              "    <tr>\n",
              "      <th>it_services_n_hubs</th>\n",
              "      <td>0</td>\n",
              "      <td>0</td>\n",
              "      <td>1</td>\n",
              "      <td>1</td>\n",
              "      <td>1</td>\n",
              "      <td>1</td>\n",
              "      <td>0</td>\n",
              "      <td>0</td>\n",
              "      <td>0</td>\n",
              "      <td>0</td>\n",
              "      <td>1</td>\n",
              "      <td>1</td>\n",
              "      <td>0</td>\n",
              "      <td>0</td>\n",
              "      <td>0</td>\n",
              "    </tr>\n",
              "    <tr>\n",
              "      <th>shopping_malls_n_stores</th>\n",
              "      <td>5</td>\n",
              "      <td>5</td>\n",
              "      <td>14</td>\n",
              "      <td>18</td>\n",
              "      <td>14</td>\n",
              "      <td>12</td>\n",
              "      <td>15</td>\n",
              "      <td>7</td>\n",
              "      <td>4</td>\n",
              "      <td>1</td>\n",
              "      <td>11</td>\n",
              "      <td>13</td>\n",
              "      <td>8</td>\n",
              "      <td>6</td>\n",
              "      <td>8</td>\n",
              "    </tr>\n",
              "    <tr>\n",
              "      <th>gym_sports_facilities_games</th>\n",
              "      <td>1</td>\n",
              "      <td>3</td>\n",
              "      <td>1</td>\n",
              "      <td>5</td>\n",
              "      <td>4</td>\n",
              "      <td>8</td>\n",
              "      <td>3</td>\n",
              "      <td>2</td>\n",
              "      <td>0</td>\n",
              "      <td>1</td>\n",
              "      <td>8</td>\n",
              "      <td>3</td>\n",
              "      <td>4</td>\n",
              "      <td>8</td>\n",
              "      <td>5</td>\n",
              "    </tr>\n",
              "    <tr>\n",
              "      <th>markets</th>\n",
              "      <td>2</td>\n",
              "      <td>2</td>\n",
              "      <td>1</td>\n",
              "      <td>1</td>\n",
              "      <td>2</td>\n",
              "      <td>1</td>\n",
              "      <td>2</td>\n",
              "      <td>2</td>\n",
              "      <td>1</td>\n",
              "      <td>1</td>\n",
              "      <td>1</td>\n",
              "      <td>2</td>\n",
              "      <td>1</td>\n",
              "      <td>1</td>\n",
              "      <td>2</td>\n",
              "    </tr>\n",
              "    <tr>\n",
              "      <th>fashion_n_clothing</th>\n",
              "      <td>1</td>\n",
              "      <td>0</td>\n",
              "      <td>1</td>\n",
              "      <td>2</td>\n",
              "      <td>2</td>\n",
              "      <td>0</td>\n",
              "      <td>2</td>\n",
              "      <td>2</td>\n",
              "      <td>0</td>\n",
              "      <td>0</td>\n",
              "      <td>0</td>\n",
              "      <td>2</td>\n",
              "      <td>1</td>\n",
              "      <td>0</td>\n",
              "      <td>1</td>\n",
              "    </tr>\n",
              "    <tr>\n",
              "      <th>arts_studios_galleries</th>\n",
              "      <td>0</td>\n",
              "      <td>2</td>\n",
              "      <td>1</td>\n",
              "      <td>1</td>\n",
              "      <td>1</td>\n",
              "      <td>2</td>\n",
              "      <td>1</td>\n",
              "      <td>4</td>\n",
              "      <td>0</td>\n",
              "      <td>0</td>\n",
              "      <td>3</td>\n",
              "      <td>1</td>\n",
              "      <td>1</td>\n",
              "      <td>4</td>\n",
              "      <td>1</td>\n",
              "    </tr>\n",
              "    <tr>\n",
              "      <th>convention_centers</th>\n",
              "      <td>0</td>\n",
              "      <td>2</td>\n",
              "      <td>1</td>\n",
              "      <td>2</td>\n",
              "      <td>2</td>\n",
              "      <td>2</td>\n",
              "      <td>1</td>\n",
              "      <td>1</td>\n",
              "      <td>0</td>\n",
              "      <td>0</td>\n",
              "      <td>2</td>\n",
              "      <td>1</td>\n",
              "      <td>1</td>\n",
              "      <td>2</td>\n",
              "      <td>1</td>\n",
              "    </tr>\n",
              "    <tr>\n",
              "      <th>halls_events_venues</th>\n",
              "      <td>1</td>\n",
              "      <td>1</td>\n",
              "      <td>0</td>\n",
              "      <td>0</td>\n",
              "      <td>0</td>\n",
              "      <td>1</td>\n",
              "      <td>1</td>\n",
              "      <td>2</td>\n",
              "      <td>0</td>\n",
              "      <td>0</td>\n",
              "      <td>1</td>\n",
              "      <td>1</td>\n",
              "      <td>0</td>\n",
              "      <td>1</td>\n",
              "      <td>0</td>\n",
              "    </tr>\n",
              "    <tr>\n",
              "      <th>night_clubs</th>\n",
              "      <td>0</td>\n",
              "      <td>2</td>\n",
              "      <td>5</td>\n",
              "      <td>5</td>\n",
              "      <td>4</td>\n",
              "      <td>4</td>\n",
              "      <td>2</td>\n",
              "      <td>0</td>\n",
              "      <td>0</td>\n",
              "      <td>0</td>\n",
              "      <td>4</td>\n",
              "      <td>2</td>\n",
              "      <td>0</td>\n",
              "      <td>3</td>\n",
              "      <td>0</td>\n",
              "    </tr>\n",
              "    <tr>\n",
              "      <th>beach</th>\n",
              "      <td>0</td>\n",
              "      <td>1</td>\n",
              "      <td>1</td>\n",
              "      <td>0</td>\n",
              "      <td>0</td>\n",
              "      <td>0</td>\n",
              "      <td>0</td>\n",
              "      <td>0</td>\n",
              "      <td>1</td>\n",
              "      <td>1</td>\n",
              "      <td>0</td>\n",
              "      <td>0</td>\n",
              "      <td>3</td>\n",
              "      <td>0</td>\n",
              "      <td>2</td>\n",
              "    </tr>\n",
              "    <tr>\n",
              "      <th>parks</th>\n",
              "      <td>2</td>\n",
              "      <td>2</td>\n",
              "      <td>0</td>\n",
              "      <td>0</td>\n",
              "      <td>0</td>\n",
              "      <td>2</td>\n",
              "      <td>2</td>\n",
              "      <td>2</td>\n",
              "      <td>0</td>\n",
              "      <td>2</td>\n",
              "      <td>2</td>\n",
              "      <td>1</td>\n",
              "      <td>1</td>\n",
              "      <td>2</td>\n",
              "      <td>1</td>\n",
              "    </tr>\n",
              "    <tr>\n",
              "      <th>cinemas</th>\n",
              "      <td>0</td>\n",
              "      <td>2</td>\n",
              "      <td>1</td>\n",
              "      <td>2</td>\n",
              "      <td>2</td>\n",
              "      <td>2</td>\n",
              "      <td>0</td>\n",
              "      <td>0</td>\n",
              "      <td>0</td>\n",
              "      <td>0</td>\n",
              "      <td>2</td>\n",
              "      <td>0</td>\n",
              "      <td>1</td>\n",
              "      <td>2</td>\n",
              "      <td>1</td>\n",
              "    </tr>\n",
              "    <tr>\n",
              "      <th>auto_services</th>\n",
              "      <td>0</td>\n",
              "      <td>0</td>\n",
              "      <td>0</td>\n",
              "      <td>0</td>\n",
              "      <td>1</td>\n",
              "      <td>0</td>\n",
              "      <td>0</td>\n",
              "      <td>0</td>\n",
              "      <td>0</td>\n",
              "      <td>0</td>\n",
              "      <td>0</td>\n",
              "      <td>0</td>\n",
              "      <td>0</td>\n",
              "      <td>0</td>\n",
              "      <td>0</td>\n",
              "    </tr>\n",
              "    <tr>\n",
              "      <th>electronics_shop</th>\n",
              "      <td>1</td>\n",
              "      <td>0</td>\n",
              "      <td>1</td>\n",
              "      <td>1</td>\n",
              "      <td>1</td>\n",
              "      <td>0</td>\n",
              "      <td>1</td>\n",
              "      <td>1</td>\n",
              "      <td>0</td>\n",
              "      <td>1</td>\n",
              "      <td>0</td>\n",
              "      <td>1</td>\n",
              "      <td>0</td>\n",
              "      <td>0</td>\n",
              "      <td>1</td>\n",
              "    </tr>\n",
              "    <tr>\n",
              "      <th>residences</th>\n",
              "      <td>0</td>\n",
              "      <td>0</td>\n",
              "      <td>0</td>\n",
              "      <td>0</td>\n",
              "      <td>0</td>\n",
              "      <td>0</td>\n",
              "      <td>0</td>\n",
              "      <td>0</td>\n",
              "      <td>0</td>\n",
              "      <td>0</td>\n",
              "      <td>1</td>\n",
              "      <td>0</td>\n",
              "      <td>1</td>\n",
              "      <td>1</td>\n",
              "      <td>1</td>\n",
              "    </tr>\n",
              "    <tr>\n",
              "      <th>other_services</th>\n",
              "      <td>0</td>\n",
              "      <td>2</td>\n",
              "      <td>1</td>\n",
              "      <td>0</td>\n",
              "      <td>0</td>\n",
              "      <td>2</td>\n",
              "      <td>0</td>\n",
              "      <td>0</td>\n",
              "      <td>0</td>\n",
              "      <td>1</td>\n",
              "      <td>1</td>\n",
              "      <td>1</td>\n",
              "      <td>0</td>\n",
              "      <td>1</td>\n",
              "      <td>1</td>\n",
              "    </tr>\n",
              "    <tr>\n",
              "      <th>Total_Venues</th>\n",
              "      <td>39</td>\n",
              "      <td>59</td>\n",
              "      <td>79</td>\n",
              "      <td>100</td>\n",
              "      <td>100</td>\n",
              "      <td>88</td>\n",
              "      <td>91</td>\n",
              "      <td>62</td>\n",
              "      <td>18</td>\n",
              "      <td>20</td>\n",
              "      <td>100</td>\n",
              "      <td>91</td>\n",
              "      <td>54</td>\n",
              "      <td>100</td>\n",
              "      <td>63</td>\n",
              "    </tr>\n",
              "  </tbody>\n",
              "</table>\n",
              "</div>"
            ],
            "text/plain": [
              "                             Alimosho  Ajeromi-Ifelodun  ...  Apapa  Lagos Island\n",
              "continental_restaurants            10                17  ...     30             7\n",
              "eateries                            7                 4  ...      7             5\n",
              "coffee_shops                        0                 2  ...      5             0\n",
              "gas_stations                        0                 0  ...      0             1\n",
              "ice_cream_n_confectionery           0                 1  ...      3             3\n",
              "hotels_resorts_spas                 2                 5  ...     11             9\n",
              "bars_n_lounges                      4                 6  ...     13            11\n",
              "airport                             2                 0  ...      0             0\n",
              "bus_stations                        0                 0  ...      0             2\n",
              "heliport                            1                 0  ...      0             0\n",
              "it_services_n_hubs                  0                 0  ...      0             0\n",
              "shopping_malls_n_stores             5                 5  ...      6             8\n",
              "gym_sports_facilities_games         1                 3  ...      8             5\n",
              "markets                             2                 2  ...      1             2\n",
              "fashion_n_clothing                  1                 0  ...      0             1\n",
              "arts_studios_galleries              0                 2  ...      4             1\n",
              "convention_centers                  0                 2  ...      2             1\n",
              "halls_events_venues                 1                 1  ...      1             0\n",
              "night_clubs                         0                 2  ...      3             0\n",
              "beach                               0                 1  ...      0             2\n",
              "parks                               2                 2  ...      2             1\n",
              "cinemas                             0                 2  ...      2             1\n",
              "auto_services                       0                 0  ...      0             0\n",
              "electronics_shop                    1                 0  ...      0             1\n",
              "residences                          0                 0  ...      1             1\n",
              "other_services                      0                 2  ...      1             1\n",
              "Total_Venues                       39                59  ...    100            63\n",
              "\n",
              "[27 rows x 15 columns]"
            ]
          },
          "metadata": {
            "tags": []
          },
          "execution_count": 67
        }
      ]
    },
    {
      "cell_type": "markdown",
      "metadata": {
        "id": "1wTDJIXegR03",
        "colab_type": "text"
      },
      "source": [
        "Let's make an effort to select our top 20 categories from the summary_df above and save that to a list"
      ]
    },
    {
      "cell_type": "code",
      "metadata": {
        "id": "cYVDNY49gkxu",
        "colab_type": "code",
        "colab": {}
      },
      "source": [
        "top_criteria = ['hotels_resorts_spas','airport','it_services_n_hubs','gym_sports_facilities_games','shopping_malls_n_stores','coffee_shops','markets',\n",
        "                'bars_n_lounges','arts_studios_galleries','halls_events_venues','continental_restaurants','eateries','gas_stations','cinemas','residences',\n",
        "                'auto_services','convention_centers','parks','electronics_shop','night_clubs']"
      ],
      "execution_count": 0,
      "outputs": []
    },
    {
      "cell_type": "code",
      "metadata": {
        "id": "RTyX6WZJeNro",
        "colab_type": "code",
        "colab": {}
      },
      "source": [
        "# uncomment and run code below to kill the notebook and free up space\n",
        "\n",
        "# import os, signal\n",
        "# os.kill(os.getpid(),signal.SIGKILL)"
      ],
      "execution_count": 0,
      "outputs": []
    },
    {
      "cell_type": "code",
      "metadata": {
        "id": "eKOdCyh6xMaX",
        "colab_type": "code",
        "colab": {}
      },
      "source": [
        "top_criteria_df = summary_df.loc[top_criteria,]\n",
        "\n",
        "top_criteria_df.loc['Total Venues'] = top_criteria_df.sum()"
      ],
      "execution_count": 0,
      "outputs": []
    },
    {
      "cell_type": "code",
      "metadata": {
        "id": "cF6yYzZ_xbJt",
        "colab_type": "code",
        "colab": {
          "base_uri": "https://localhost:8080/",
          "height": 686
        },
        "outputId": "2e419f5e-886e-4872-d221-be3aa4d05ef0"
      },
      "source": [
        "top_criteria_df"
      ],
      "execution_count": 73,
      "outputs": [
        {
          "output_type": "execute_result",
          "data": {
            "text/html": [
              "<div>\n",
              "<style scoped>\n",
              "    .dataframe tbody tr th:only-of-type {\n",
              "        vertical-align: middle;\n",
              "    }\n",
              "\n",
              "    .dataframe tbody tr th {\n",
              "        vertical-align: top;\n",
              "    }\n",
              "\n",
              "    .dataframe thead th {\n",
              "        text-align: right;\n",
              "    }\n",
              "</style>\n",
              "<table border=\"1\" class=\"dataframe\">\n",
              "  <thead>\n",
              "    <tr style=\"text-align: right;\">\n",
              "      <th></th>\n",
              "      <th>Alimosho</th>\n",
              "      <th>Ajeromi-Ifelodun</th>\n",
              "      <th>Kosofe</th>\n",
              "      <th>Mushin, Lagos</th>\n",
              "      <th>Oshodi-Isolo</th>\n",
              "      <th>Surulere</th>\n",
              "      <th>Agege</th>\n",
              "      <th>Ifako-Ijaiye</th>\n",
              "      <th>Somolu</th>\n",
              "      <th>Amuwo-Odofin</th>\n",
              "      <th>Lagos Mainland</th>\n",
              "      <th>Ikeja</th>\n",
              "      <th>Eti-Osa</th>\n",
              "      <th>Apapa</th>\n",
              "      <th>Lagos Island</th>\n",
              "    </tr>\n",
              "  </thead>\n",
              "  <tbody>\n",
              "    <tr>\n",
              "      <th>hotels_resorts_spas</th>\n",
              "      <td>2</td>\n",
              "      <td>5</td>\n",
              "      <td>4</td>\n",
              "      <td>5</td>\n",
              "      <td>7</td>\n",
              "      <td>10</td>\n",
              "      <td>5</td>\n",
              "      <td>3</td>\n",
              "      <td>1</td>\n",
              "      <td>4</td>\n",
              "      <td>9</td>\n",
              "      <td>5</td>\n",
              "      <td>6</td>\n",
              "      <td>11</td>\n",
              "      <td>9</td>\n",
              "    </tr>\n",
              "    <tr>\n",
              "      <th>airport</th>\n",
              "      <td>2</td>\n",
              "      <td>0</td>\n",
              "      <td>2</td>\n",
              "      <td>0</td>\n",
              "      <td>0</td>\n",
              "      <td>0</td>\n",
              "      <td>3</td>\n",
              "      <td>0</td>\n",
              "      <td>0</td>\n",
              "      <td>0</td>\n",
              "      <td>0</td>\n",
              "      <td>3</td>\n",
              "      <td>0</td>\n",
              "      <td>0</td>\n",
              "      <td>0</td>\n",
              "    </tr>\n",
              "    <tr>\n",
              "      <th>it_services_n_hubs</th>\n",
              "      <td>0</td>\n",
              "      <td>0</td>\n",
              "      <td>1</td>\n",
              "      <td>1</td>\n",
              "      <td>1</td>\n",
              "      <td>1</td>\n",
              "      <td>0</td>\n",
              "      <td>0</td>\n",
              "      <td>0</td>\n",
              "      <td>0</td>\n",
              "      <td>1</td>\n",
              "      <td>1</td>\n",
              "      <td>0</td>\n",
              "      <td>0</td>\n",
              "      <td>0</td>\n",
              "    </tr>\n",
              "    <tr>\n",
              "      <th>gym_sports_facilities_games</th>\n",
              "      <td>1</td>\n",
              "      <td>3</td>\n",
              "      <td>1</td>\n",
              "      <td>5</td>\n",
              "      <td>4</td>\n",
              "      <td>8</td>\n",
              "      <td>3</td>\n",
              "      <td>2</td>\n",
              "      <td>0</td>\n",
              "      <td>1</td>\n",
              "      <td>8</td>\n",
              "      <td>3</td>\n",
              "      <td>4</td>\n",
              "      <td>8</td>\n",
              "      <td>5</td>\n",
              "    </tr>\n",
              "    <tr>\n",
              "      <th>shopping_malls_n_stores</th>\n",
              "      <td>5</td>\n",
              "      <td>5</td>\n",
              "      <td>14</td>\n",
              "      <td>18</td>\n",
              "      <td>14</td>\n",
              "      <td>12</td>\n",
              "      <td>15</td>\n",
              "      <td>7</td>\n",
              "      <td>4</td>\n",
              "      <td>1</td>\n",
              "      <td>11</td>\n",
              "      <td>13</td>\n",
              "      <td>8</td>\n",
              "      <td>6</td>\n",
              "      <td>8</td>\n",
              "    </tr>\n",
              "    <tr>\n",
              "      <th>coffee_shops</th>\n",
              "      <td>0</td>\n",
              "      <td>2</td>\n",
              "      <td>4</td>\n",
              "      <td>5</td>\n",
              "      <td>4</td>\n",
              "      <td>2</td>\n",
              "      <td>2</td>\n",
              "      <td>2</td>\n",
              "      <td>0</td>\n",
              "      <td>0</td>\n",
              "      <td>5</td>\n",
              "      <td>2</td>\n",
              "      <td>0</td>\n",
              "      <td>5</td>\n",
              "      <td>0</td>\n",
              "    </tr>\n",
              "    <tr>\n",
              "      <th>markets</th>\n",
              "      <td>2</td>\n",
              "      <td>2</td>\n",
              "      <td>1</td>\n",
              "      <td>1</td>\n",
              "      <td>2</td>\n",
              "      <td>1</td>\n",
              "      <td>2</td>\n",
              "      <td>2</td>\n",
              "      <td>1</td>\n",
              "      <td>1</td>\n",
              "      <td>1</td>\n",
              "      <td>2</td>\n",
              "      <td>1</td>\n",
              "      <td>1</td>\n",
              "      <td>2</td>\n",
              "    </tr>\n",
              "    <tr>\n",
              "      <th>bars_n_lounges</th>\n",
              "      <td>4</td>\n",
              "      <td>6</td>\n",
              "      <td>6</td>\n",
              "      <td>9</td>\n",
              "      <td>10</td>\n",
              "      <td>12</td>\n",
              "      <td>9</td>\n",
              "      <td>4</td>\n",
              "      <td>1</td>\n",
              "      <td>0</td>\n",
              "      <td>15</td>\n",
              "      <td>10</td>\n",
              "      <td>9</td>\n",
              "      <td>13</td>\n",
              "      <td>11</td>\n",
              "    </tr>\n",
              "    <tr>\n",
              "      <th>arts_studios_galleries</th>\n",
              "      <td>0</td>\n",
              "      <td>2</td>\n",
              "      <td>1</td>\n",
              "      <td>1</td>\n",
              "      <td>1</td>\n",
              "      <td>2</td>\n",
              "      <td>1</td>\n",
              "      <td>4</td>\n",
              "      <td>0</td>\n",
              "      <td>0</td>\n",
              "      <td>3</td>\n",
              "      <td>1</td>\n",
              "      <td>1</td>\n",
              "      <td>4</td>\n",
              "      <td>1</td>\n",
              "    </tr>\n",
              "    <tr>\n",
              "      <th>halls_events_venues</th>\n",
              "      <td>1</td>\n",
              "      <td>1</td>\n",
              "      <td>0</td>\n",
              "      <td>0</td>\n",
              "      <td>0</td>\n",
              "      <td>1</td>\n",
              "      <td>1</td>\n",
              "      <td>2</td>\n",
              "      <td>0</td>\n",
              "      <td>0</td>\n",
              "      <td>1</td>\n",
              "      <td>1</td>\n",
              "      <td>0</td>\n",
              "      <td>1</td>\n",
              "      <td>0</td>\n",
              "    </tr>\n",
              "    <tr>\n",
              "      <th>continental_restaurants</th>\n",
              "      <td>10</td>\n",
              "      <td>17</td>\n",
              "      <td>17</td>\n",
              "      <td>21</td>\n",
              "      <td>23</td>\n",
              "      <td>18</td>\n",
              "      <td>20</td>\n",
              "      <td>16</td>\n",
              "      <td>3</td>\n",
              "      <td>4</td>\n",
              "      <td>23</td>\n",
              "      <td>21</td>\n",
              "      <td>9</td>\n",
              "      <td>30</td>\n",
              "      <td>7</td>\n",
              "    </tr>\n",
              "    <tr>\n",
              "      <th>eateries</th>\n",
              "      <td>7</td>\n",
              "      <td>4</td>\n",
              "      <td>11</td>\n",
              "      <td>15</td>\n",
              "      <td>16</td>\n",
              "      <td>7</td>\n",
              "      <td>16</td>\n",
              "      <td>11</td>\n",
              "      <td>3</td>\n",
              "      <td>2</td>\n",
              "      <td>7</td>\n",
              "      <td>16</td>\n",
              "      <td>5</td>\n",
              "      <td>7</td>\n",
              "      <td>5</td>\n",
              "    </tr>\n",
              "    <tr>\n",
              "      <th>gas_stations</th>\n",
              "      <td>0</td>\n",
              "      <td>0</td>\n",
              "      <td>0</td>\n",
              "      <td>0</td>\n",
              "      <td>0</td>\n",
              "      <td>0</td>\n",
              "      <td>0</td>\n",
              "      <td>0</td>\n",
              "      <td>0</td>\n",
              "      <td>0</td>\n",
              "      <td>0</td>\n",
              "      <td>0</td>\n",
              "      <td>0</td>\n",
              "      <td>0</td>\n",
              "      <td>1</td>\n",
              "    </tr>\n",
              "    <tr>\n",
              "      <th>cinemas</th>\n",
              "      <td>0</td>\n",
              "      <td>2</td>\n",
              "      <td>1</td>\n",
              "      <td>2</td>\n",
              "      <td>2</td>\n",
              "      <td>2</td>\n",
              "      <td>0</td>\n",
              "      <td>0</td>\n",
              "      <td>0</td>\n",
              "      <td>0</td>\n",
              "      <td>2</td>\n",
              "      <td>0</td>\n",
              "      <td>1</td>\n",
              "      <td>2</td>\n",
              "      <td>1</td>\n",
              "    </tr>\n",
              "    <tr>\n",
              "      <th>residences</th>\n",
              "      <td>0</td>\n",
              "      <td>0</td>\n",
              "      <td>0</td>\n",
              "      <td>0</td>\n",
              "      <td>0</td>\n",
              "      <td>0</td>\n",
              "      <td>0</td>\n",
              "      <td>0</td>\n",
              "      <td>0</td>\n",
              "      <td>0</td>\n",
              "      <td>1</td>\n",
              "      <td>0</td>\n",
              "      <td>1</td>\n",
              "      <td>1</td>\n",
              "      <td>1</td>\n",
              "    </tr>\n",
              "    <tr>\n",
              "      <th>auto_services</th>\n",
              "      <td>0</td>\n",
              "      <td>0</td>\n",
              "      <td>0</td>\n",
              "      <td>0</td>\n",
              "      <td>1</td>\n",
              "      <td>0</td>\n",
              "      <td>0</td>\n",
              "      <td>0</td>\n",
              "      <td>0</td>\n",
              "      <td>0</td>\n",
              "      <td>0</td>\n",
              "      <td>0</td>\n",
              "      <td>0</td>\n",
              "      <td>0</td>\n",
              "      <td>0</td>\n",
              "    </tr>\n",
              "    <tr>\n",
              "      <th>convention_centers</th>\n",
              "      <td>0</td>\n",
              "      <td>2</td>\n",
              "      <td>1</td>\n",
              "      <td>2</td>\n",
              "      <td>2</td>\n",
              "      <td>2</td>\n",
              "      <td>1</td>\n",
              "      <td>1</td>\n",
              "      <td>0</td>\n",
              "      <td>0</td>\n",
              "      <td>2</td>\n",
              "      <td>1</td>\n",
              "      <td>1</td>\n",
              "      <td>2</td>\n",
              "      <td>1</td>\n",
              "    </tr>\n",
              "    <tr>\n",
              "      <th>parks</th>\n",
              "      <td>2</td>\n",
              "      <td>2</td>\n",
              "      <td>0</td>\n",
              "      <td>0</td>\n",
              "      <td>0</td>\n",
              "      <td>2</td>\n",
              "      <td>2</td>\n",
              "      <td>2</td>\n",
              "      <td>0</td>\n",
              "      <td>2</td>\n",
              "      <td>2</td>\n",
              "      <td>1</td>\n",
              "      <td>1</td>\n",
              "      <td>2</td>\n",
              "      <td>1</td>\n",
              "    </tr>\n",
              "    <tr>\n",
              "      <th>electronics_shop</th>\n",
              "      <td>1</td>\n",
              "      <td>0</td>\n",
              "      <td>1</td>\n",
              "      <td>1</td>\n",
              "      <td>1</td>\n",
              "      <td>0</td>\n",
              "      <td>1</td>\n",
              "      <td>1</td>\n",
              "      <td>0</td>\n",
              "      <td>1</td>\n",
              "      <td>0</td>\n",
              "      <td>1</td>\n",
              "      <td>0</td>\n",
              "      <td>0</td>\n",
              "      <td>1</td>\n",
              "    </tr>\n",
              "    <tr>\n",
              "      <th>night_clubs</th>\n",
              "      <td>0</td>\n",
              "      <td>2</td>\n",
              "      <td>5</td>\n",
              "      <td>5</td>\n",
              "      <td>4</td>\n",
              "      <td>4</td>\n",
              "      <td>2</td>\n",
              "      <td>0</td>\n",
              "      <td>0</td>\n",
              "      <td>0</td>\n",
              "      <td>4</td>\n",
              "      <td>2</td>\n",
              "      <td>0</td>\n",
              "      <td>3</td>\n",
              "      <td>0</td>\n",
              "    </tr>\n",
              "    <tr>\n",
              "      <th>Total Venues</th>\n",
              "      <td>37</td>\n",
              "      <td>55</td>\n",
              "      <td>70</td>\n",
              "      <td>91</td>\n",
              "      <td>92</td>\n",
              "      <td>84</td>\n",
              "      <td>83</td>\n",
              "      <td>57</td>\n",
              "      <td>13</td>\n",
              "      <td>16</td>\n",
              "      <td>95</td>\n",
              "      <td>83</td>\n",
              "      <td>47</td>\n",
              "      <td>96</td>\n",
              "      <td>54</td>\n",
              "    </tr>\n",
              "  </tbody>\n",
              "</table>\n",
              "</div>"
            ],
            "text/plain": [
              "                             Alimosho  Ajeromi-Ifelodun  ...  Apapa  Lagos Island\n",
              "hotels_resorts_spas                 2                 5  ...     11             9\n",
              "airport                             2                 0  ...      0             0\n",
              "it_services_n_hubs                  0                 0  ...      0             0\n",
              "gym_sports_facilities_games         1                 3  ...      8             5\n",
              "shopping_malls_n_stores             5                 5  ...      6             8\n",
              "coffee_shops                        0                 2  ...      5             0\n",
              "markets                             2                 2  ...      1             2\n",
              "bars_n_lounges                      4                 6  ...     13            11\n",
              "arts_studios_galleries              0                 2  ...      4             1\n",
              "halls_events_venues                 1                 1  ...      1             0\n",
              "continental_restaurants            10                17  ...     30             7\n",
              "eateries                            7                 4  ...      7             5\n",
              "gas_stations                        0                 0  ...      0             1\n",
              "cinemas                             0                 2  ...      2             1\n",
              "residences                          0                 0  ...      1             1\n",
              "auto_services                       0                 0  ...      0             0\n",
              "convention_centers                  0                 2  ...      2             1\n",
              "parks                               2                 2  ...      2             1\n",
              "electronics_shop                    1                 0  ...      0             1\n",
              "night_clubs                         0                 2  ...      3             0\n",
              "Total Venues                       37                55  ...     96            54\n",
              "\n",
              "[21 rows x 15 columns]"
            ]
          },
          "metadata": {
            "tags": []
          },
          "execution_count": 73
        }
      ]
    },
    {
      "cell_type": "markdown",
      "metadata": {
        "id": "aPA07dnOyz2j",
        "colab_type": "text"
      },
      "source": [
        "Just by eye-balling the total scores, it seems Lagos Mainland LGA has the highest score of 95 venues meeting our selection.<br>\n",
        "But let's check for the LGA that has the fewest number of 0's. This means the LGA that has the most wide spread categories of venues.<br>\n",
        "Because ideally, we want a location that lacks the least, on the categories of venues we deem important."
      ]
    },
    {
      "cell_type": "code",
      "metadata": {
        "id": "hcRy9-xKxpgN",
        "colab_type": "code",
        "colab": {
          "base_uri": "https://localhost:8080/",
          "height": 34
        },
        "outputId": "207de35d-92d3-4f43-f356-8509eeb79450"
      },
      "source": [
        "# First let's save the columns to a variable\n",
        "column_list = list(top_criteria_df.columns)\n",
        "\n",
        "# Let's iterate through each LGA in the top_criteria_df and count the number of missing categories\n",
        "# Then append each LGA and its missing categories score to the first dictionary\n",
        "\n",
        "lga_dict = {}  # first dict\n",
        "min_dict = {}  # second dict\n",
        "\n",
        "for i in column_list:\n",
        "    zero_count = 0\n",
        "    for j in top_criteria_df[i]:\n",
        "        if j == 0:\n",
        "            zero_count  += 1\n",
        "            lga_dict[i] = zero_count\n",
        "\n",
        "# Let's iterate through the first dictionary and append the keys and values \n",
        "# corresponding to the LGAs with the least missing categories to the second dictionary.\n",
        "\n",
        "for i, j in lga_dict.items():\n",
        "    if j == min(lga_dict.values()):\n",
        "        min_dict[i] = j\n",
        "\n",
        "# show the LGAs with the corresponding lowest missing categories \n",
        "print(min_dict)"
      ],
      "execution_count": 106,
      "outputs": [
        {
          "output_type": "stream",
          "text": [
            "{'Lagos Mainland': 4, 'Ikeja': 4}\n"
          ],
          "name": "stdout"
        }
      ]
    },
    {
      "cell_type": "markdown",
      "metadata": {
        "id": "Qsv4o9yl3Qbh",
        "colab_type": "text"
      },
      "source": [
        "With both Lagos Mainland LGA and Ikeja LGA having the least absent category of 4 venues each.<br>\n",
        "Plus Lagos Mainland having 95 active venues in 16 top categories and,<br>\n",
        "Ikeja having 83 active venues in 16 top categories.<br>\n",
        "It is safe to say Lagos Mainland LGA is the most ideal location in Lagos state to cite an office.<br>\n",
        "Although a closer look indicates that Ikeja LGA has three airports and that should count for a lot of consideration.<br>\n",
        "By and Large, Lagos Mainland LGA and Ikeja LGA are the two most ideal locations to cite an office in Lagos State."
      ]
    },
    {
      "cell_type": "markdown",
      "metadata": {
        "id": "-RcV2Zl55t5l",
        "colab_type": "text"
      },
      "source": [
        "A possible shortfall of this exercise.<br>\n",
        "You may have noticed that for some reason no educational institution or religious institution was returned by foursquare API. This is a flaw as Lagos has over 50 institutions of learning spread across the state.<br>\n",
        "Another flaw is on the data for Tech Hubs cited generally around Yaba, which is still under Lagos Mainland LGA.<br>\n",
        "This adds credence to the fact yet again, that Lagos Mainland LGA is the most ideal location to cite an office in Lagos State.<br>\n",
        "Thank you"
      ]
    },
    {
      "cell_type": "code",
      "metadata": {
        "id": "rXabRJhH1hPF",
        "colab_type": "code",
        "colab": {
          "base_uri": "https://localhost:8080/",
          "height": 34
        },
        "outputId": "2ec46e69-f8f2-480f-d254-4fb64f55405f"
      },
      "source": [
        ""
      ],
      "execution_count": 79,
      "outputs": [
        {
          "output_type": "execute_result",
          "data": {
            "text/plain": [
              "'Alimosho'"
            ]
          },
          "metadata": {
            "tags": []
          },
          "execution_count": 79
        }
      ]
    }
  ]
}