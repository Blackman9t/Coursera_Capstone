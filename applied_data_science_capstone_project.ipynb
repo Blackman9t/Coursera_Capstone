{
  "nbformat": 4,
  "nbformat_minor": 0,
  "metadata": {
    "colab": {
      "name": "applied_data_science_capstone_project.ipynb",
      "provenance": [],
      "collapsed_sections": [],
      "include_colab_link": true
    },
    "kernelspec": {
      "name": "python3",
      "display_name": "Python 3"
    },
    "accelerator": "GPU"
  },
  "cells": [
    {
      "cell_type": "markdown",
      "metadata": {
        "id": "view-in-github",
        "colab_type": "text"
      },
      "source": [
        "<a href=\"https://colab.research.google.com/github/Blackman9t/Coursera_Capstone/blob/master/applied_data_science_capstone_project.ipynb\" target=\"_parent\"><img src=\"https://colab.research.google.com/assets/colab-badge.svg\" alt=\"Open In Colab\"/></a>"
      ]
    },
    {
      "cell_type": "markdown",
      "metadata": {
        "id": "1NN8a1111_RT",
        "colab_type": "text"
      },
      "source": [
        "## Applied Data Science Capstone-Project\n",
        "\n",
        "\n",
        "### This Capsone-Project is the final course in a series of nine(9) Data Science Specialization courses taught by IBM via Coursera. <br>\n",
        "###The courses include the following:-\n",
        "1. [What is Data Science?](https://www.coursera.org/learn/what-is-datascience/home/welcome)\n",
        "2. [Open Source tools for Data Science](https://www.coursera.org/learn/open-source-tools-for-data-science/home/welcome)\n",
        "3. [Python for Data Science](https://www.coursera.org/learn/python-for-applied-data-science/home/welcome)\n",
        "4. [Data Science Methodology](https://www.coursera.org/learn/data-science-methodology/home/welcome)\n",
        "5. [Databases and SQL for Data Science](https://www.coursera.org/learn/sql-data-science/home/welcome)\n",
        "6. [Data Visualization with Python](https://www.coursera.org/learn/python-for-data-visualization/home/welcome)\n",
        "7. [Data Analysis with Python](https://www.coursera.org/learn/data-analysis-with-python/home/welcome)\n",
        "8. [Machine Learning with Python](https://www.coursera.org/learn/machine-learning-with-python/home/welcome)\n",
        "9. [Applied Data Science Capstone](https://www.coursera.org/learn/applied-data-science-capstone/home/welcome)\n",
        "\n",
        "#### It is mandatory that all courses from 1 to 8 are passed with acceptable grades before attempting this Capsone-Project."
      ]
    },
    {
      "cell_type": "markdown",
      "metadata": {
        "id": "wFnhvYeq3h4W",
        "colab_type": "text"
      },
      "source": [
        "Importing requred libraries"
      ]
    },
    {
      "cell_type": "code",
      "metadata": {
        "id": "o3gaNkio3lNs",
        "colab_type": "code",
        "colab": {}
      },
      "source": [
        "import pandas as pd\n",
        "import numpy as np"
      ],
      "execution_count": 0,
      "outputs": []
    },
    {
      "cell_type": "code",
      "metadata": {
        "id": "GdpbL_of3uqe",
        "colab_type": "code",
        "outputId": "a4f89337-d2b1-4046-ad6d-2045475a89b1",
        "colab": {
          "base_uri": "https://localhost:8080/",
          "height": 34
        }
      },
      "source": [
        "print('Hello Capstone Project Course!')"
      ],
      "execution_count": 0,
      "outputs": [
        {
          "output_type": "stream",
          "text": [
            "Hello Capstone Project Course!\n"
          ],
          "name": "stdout"
        }
      ]
    },
    {
      "cell_type": "markdown",
      "metadata": {
        "id": "gSwz2Tl9QeNY",
        "colab_type": "text"
      },
      "source": [
        "<h2>Problem Description</h2>"
      ]
    },
    {
      "cell_type": "markdown",
      "metadata": {
        "id": "ydbJ0Q1TQfgQ",
        "colab_type": "text"
      },
      "source": [
        "<h3>The problem I want to solve using Geo-location Data is helping a new Tech-StartUp find the ideal location for its office in The City of Lagos Nigeria.\n",
        "This office should be situated in a good location that has the following:-</h3><br>\n",
        "\n",
        "Central location.<br>\n",
        "Close proximity to Tech-Hubs and talent.<br>\n",
        "High feet traffic area for easy interaction with potential customers.<br>\n",
        "Nearness to Educational institutions for research and interactions with academics.<br>\n",
        "Nearness to cafes and restaurants for business meetings or lunch-meets.<br>\n",
        "Nearness to bus-stops, seaports and airports.<br>\n",
        "Security and safety.<br>\n",
        "Cluster of economic activities and similar or complementing businesses.\n"
      ]
    },
    {
      "cell_type": "markdown",
      "metadata": {
        "id": "q16Xmdy5QkuO",
        "colab_type": "text"
      },
      "source": [
        "<h2>Background to Problem</h2>"
      ]
    },
    {
      "cell_type": "markdown",
      "metadata": {
        "id": "Ot2fDGwXQqcf",
        "colab_type": "text"
      },
      "source": [
        "I have lived in Lagos for some time off and on, longest has been 3 years stretch from 2006 to 2009. <br>\n",
        "I have also done some travelling to other countries such as Russia, which by the way is the largest country in The World by land mass, South-Africa, Ghana, Dubai, Mauritius and a few others.<br>\n",
        "By the way, Mauritius is The wealthiest country in Africa with average wealth per person increasing from $(21700 - 25700) within one year recently ([link](https://www.graphic.com.gh/business/business-news/accra-ranked-10th-wealthiest-city-in-africa.html)).<br>\n",
        "My analysis today is on Lagos state, which is the 4th wealthiest city in Africa, fourth place behind Johannesburg, Cairo and Cape Town ([link](https://www.graphic.com.gh/business/business-news/accra-ranked-10th-wealthiest-city-in-africa.html)).<br>\n",
        "Lagos city is home to over 6,800 $$ millionaires, 370 $$ multi-millionaires and 4 $$ billionaires.<br>\n",
        "Lagos is also the commercial capital of Nigeria (The Most populous black nation), and the commercial hub of West Africa.<br>\n",
        "I have only recently returned to Lagos city, got enrolled and completed The [Founder Institute](https://fi.co/) programme and currently building a Startup in The Insuretech industry ([link](http://bit.ly/escrowallet)).<br>\n",
        "Therefore I want to use this opportunity to help future Startups find the most ideal location in Lagos city, for an office."
      ]
    },
    {
      "cell_type": "markdown",
      "metadata": {
        "id": "OeJz-T3-Qv0K",
        "colab_type": "text"
      },
      "source": [
        "<h2>Data Requirements and Overview</h2>"
      ]
    },
    {
      "cell_type": "markdown",
      "metadata": {
        "id": "rHYrw2Hm0L1H",
        "colab_type": "text"
      },
      "source": [
        "**The Dataset is the wikipedia page of Lagos state** see [link](https://en.wikipedia.org/wiki/List_of_Lagos_State_local_government_areas_by_population)"
      ]
    },
    {
      "cell_type": "markdown",
      "metadata": {
        "id": "ZDfmwP_cQ1k7",
        "colab_type": "text"
      },
      "source": [
        "We shall explore Lagos city through its respective Local Government Areas or Boroughs. The above link is a web page that shows the respective boroughs in Lagos State and each population figure. It's a public Wikipedia data page.\n",
        "<br>This data will be analysed through the following steps:-\n",
        "<br>We shall scrape the web page using the beautiful soup library\n",
        "<br>We shall use The Foursquare API calls to retrieve geolocation data\n",
        "<br>We shall fetch the text data using the requests library\n",
        "<br>We shall convert it from JSON to Pandas data frame using the json_normalize module\n",
        "<br>We shall use The folium library to render the maps and plot these via The Matplotlib library. Then we shall explore respective boroughs and analyse each area as a location for a Tech-Startup based on the aforementioned parameters.\n",
        "<br>After this, we shall select our top location.\n",
        "<br>Finally, to add some fun, we shall use the word-cloud library to display the names of the top categories of venues per borough."
      ]
    },
    {
      "cell_type": "markdown",
      "metadata": {
        "id": "rXvgbEkIOLpy",
        "colab_type": "text"
      },
      "source": [
        "**So please sit back, relax and enjoy the ride as we explore Lagos City**"
      ]
    },
    {
      "cell_type": "markdown",
      "metadata": {
        "id": "2Opd6xcCz44c",
        "colab_type": "text"
      },
      "source": [
        "First let's import required libraries"
      ]
    },
    {
      "cell_type": "code",
      "metadata": {
        "id": "Yxg7Cp0nNaI-",
        "colab_type": "code",
        "outputId": "f85a634f-a88a-409c-ec9a-37b4b247f564",
        "colab": {
          "base_uri": "https://localhost:8080/",
          "height": 34
        }
      },
      "source": [
        "from bs4 import BeautifulSoup\n",
        "import requests  # library to handle requests\n",
        "import pandas as pd\n",
        "import json  # library to handle JSON files\n",
        "from pandas.io.json import json_normalize  # transform json files to pandas dataframes\n",
        "from geopy.geocoders import Nominatim  # convert an address into latitude and longitude values\n",
        "\n",
        "# Matplotlib and associated plotting modules\n",
        "import matplotlib.pyplot as plt\n",
        "import matplotlib.cm as cm\n",
        "import matplotlib.colors as colors\n",
        "\n",
        "# import k-means from clustering stage\n",
        "from sklearn.cluster import KMeans\n",
        "\n",
        "#!conda install -c conda-forge folium=0.5.0 --yes\n",
        "import folium # map rendering library\n",
        "\n",
        "import numpy as np\n",
        "import csv\n",
        "\n",
        "print('All modules imported')"
      ],
      "execution_count": 0,
      "outputs": [
        {
          "output_type": "stream",
          "text": [
            "All modules imported\n"
          ],
          "name": "stdout"
        }
      ]
    },
    {
      "cell_type": "code",
      "metadata": {
        "id": "hyHRivq_2hom",
        "colab_type": "code",
        "colab": {}
      },
      "source": [
        "# Lets save the weblink for The Lagos Data\n",
        "\n",
        "lagos_link = 'https://en.wikipedia.org/wiki/List_of_Lagos_State_local_government_areas_by_population'"
      ],
      "execution_count": 0,
      "outputs": []
    },
    {
      "cell_type": "markdown",
      "metadata": {
        "id": "HmkJLYfhyKtp",
        "colab_type": "text"
      },
      "source": [
        "Get the source code HTML data from the website"
      ]
    },
    {
      "cell_type": "code",
      "metadata": {
        "id": "VC5GhczSyMU4",
        "colab_type": "code",
        "colab": {}
      },
      "source": [
        "source = requests.get(lagos_link).text"
      ],
      "execution_count": 0,
      "outputs": []
    },
    {
      "cell_type": "markdown",
      "metadata": {
        "id": "AexSEq_Wu84U",
        "colab_type": "text"
      },
      "source": [
        "Lets Use BeautifulSoup to parse it"
      ]
    },
    {
      "cell_type": "code",
      "metadata": {
        "id": "8-rdg0tGyqGz",
        "colab_type": "code",
        "colab": {}
      },
      "source": [
        "soup = BeautifulSoup(source,'lxml')\n",
        "\n",
        "# Let's pretty print it in its right shape\n",
        "\n",
        "#print(soup.prettify())"
      ],
      "execution_count": 0,
      "outputs": []
    },
    {
      "cell_type": "markdown",
      "metadata": {
        "id": "bK1kWLx-0l1F",
        "colab_type": "text"
      },
      "source": [
        "Next let's get the table that contains the data we want to scrape"
      ]
    },
    {
      "cell_type": "code",
      "metadata": {
        "id": "jrtBgrow0moy",
        "colab_type": "code",
        "outputId": "a2ba40a8-e05d-495c-a40c-e8d44b06b6a7",
        "colab": {
          "base_uri": "https://localhost:8080/",
          "height": 306
        }
      },
      "source": [
        "my_table = soup.find_all('td')\n",
        "#mw-content-text\n",
        "# Let's view the table\n",
        "\n",
        "my_table[:10]"
      ],
      "execution_count": 0,
      "outputs": [
        {
          "output_type": "execute_result",
          "data": {
            "text/plain": [
              "[<td class=\"mbox-image\"><div style=\"width:52px\"><img alt=\"Ambox current red.svg\" data-file-height=\"290\" data-file-width=\"360\" decoding=\"async\" height=\"34\" src=\"//upload.wikimedia.org/wikipedia/commons/thumb/9/98/Ambox_current_red.svg/42px-Ambox_current_red.svg.png\" srcset=\"//upload.wikimedia.org/wikipedia/commons/thumb/9/98/Ambox_current_red.svg/63px-Ambox_current_red.svg.png 1.5x, //upload.wikimedia.org/wikipedia/commons/thumb/9/98/Ambox_current_red.svg/84px-Ambox_current_red.svg.png 2x\" width=\"42\"/></div></td>,\n",
              " <td class=\"mbox-text\"><div class=\"mbox-text-span\">This article needs to be <b>updated</b>.<span class=\"hide-when-compact\"> Please update this article to reflect recent events or newly available information.</span> <small class=\"date-container\"><i>(<span class=\"date\">March 2015</span>)</i></small></div></td>,\n",
              " <td class=\"mbox-image\"><div style=\"width:52px\"><a class=\"image\" href=\"/wiki/File:Question_book-new.svg\"><img alt=\"\" data-file-height=\"399\" data-file-width=\"512\" decoding=\"async\" height=\"39\" src=\"//upload.wikimedia.org/wikipedia/en/thumb/9/99/Question_book-new.svg/50px-Question_book-new.svg.png\" srcset=\"//upload.wikimedia.org/wikipedia/en/thumb/9/99/Question_book-new.svg/75px-Question_book-new.svg.png 1.5x, //upload.wikimedia.org/wikipedia/en/thumb/9/99/Question_book-new.svg/100px-Question_book-new.svg.png 2x\" width=\"50\"/></a></div></td>,\n",
              " <td class=\"mbox-text\"><div class=\"mbox-text-span\">This article <b>does not <a href=\"/wiki/Wikipedia:Citing_sources\" title=\"Wikipedia:Citing sources\">cite</a> any <a href=\"/wiki/Wikipedia:Verifiability\" title=\"Wikipedia:Verifiability\">sources</a></b>.<span class=\"hide-when-compact\"> Please help <a class=\"external text\" href=\"https://en.wikipedia.org/w/index.php?title=List_of_Lagos_State_local_government_areas_by_population&amp;action=edit\">improve this article</a> by <a href=\"/wiki/Help:Introduction_to_referencing_with_Wiki_Markup/1\" title=\"Help:Introduction to referencing with Wiki Markup/1\">adding citations to reliable sources</a>. Unsourced material may be challenged and <a href=\"/wiki/Wikipedia:Verifiability#Burden_of_evidence\" title=\"Wikipedia:Verifiability\">removed</a>.<br/><small><span class=\"plainlinks\"><i>Find sources:</i> <a class=\"external text\" href=\"//www.google.com/search?as_eq=wikipedia&amp;q=%22List+of+Lagos+State+local+government+areas+by+population%22\" rel=\"nofollow\">\"List of Lagos State local government areas by population\"</a> – <a class=\"external text\" href=\"//www.google.com/search?tbm=nws&amp;q=%22List+of+Lagos+State+local+government+areas+by+population%22+-wikipedia\" rel=\"nofollow\">news</a> <b>·</b> <a class=\"external text\" href=\"//www.google.com/search?&amp;q=%22List+of+Lagos+State+local+government+areas+by+population%22+site:news.google.com/newspapers&amp;source=newspapers\" rel=\"nofollow\">newspapers</a> <b>·</b> <a class=\"external text\" href=\"//www.google.com/search?tbs=bks:1&amp;q=%22List+of+Lagos+State+local+government+areas+by+population%22+-wikipedia\" rel=\"nofollow\">books</a> <b>·</b> <a class=\"external text\" href=\"//scholar.google.com/scholar?q=%22List+of+Lagos+State+local+government+areas+by+population%22\" rel=\"nofollow\">scholar</a> <b>·</b> <a class=\"external text\" href=\"https://www.jstor.org/action/doBasicSearch?Query=%22List+of+Lagos+State+local+government+areas+by+population%22&amp;acc=on&amp;wc=on\" rel=\"nofollow\">JSTOR</a></span></small></span> <small class=\"date-container\"><i>(<span class=\"date\">June 2015</span>)</i></small><small class=\"hide-when-compact\"><i> (<a href=\"/wiki/Help:Maintenance_template_removal\" title=\"Help:Maintenance template removal\">Learn how and when to remove this template message</a>)</i></small></div></td>,\n",
              " <td align=\"left\">1\n",
              " </td>,\n",
              " <td align=\"left\"><a href=\"/wiki/Alimosho\" title=\"Alimosho\">Alimosho</a>\n",
              " </td>,\n",
              " <td align=\"center\">5,700,714\n",
              " </td>,\n",
              " <td align=\"left\">2\n",
              " </td>,\n",
              " <td align=\"left\"><a href=\"/wiki/Ajeromi-Ifelodun\" title=\"Ajeromi-Ifelodun\">Ajeromi-Ifelodun</a>\n",
              " </td>,\n",
              " <td align=\"center\">1,746,634\n",
              " </td>]"
            ]
          },
          "metadata": {
            "tags": []
          },
          "execution_count": 155
        }
      ]
    },
    {
      "cell_type": "markdown",
      "metadata": {
        "id": "S1qFFQr6-vJy",
        "colab_type": "text"
      },
      "source": [
        "Next let's iterate through each link and append the text parts"
      ]
    },
    {
      "cell_type": "code",
      "metadata": {
        "id": "BkZ0CU3bgHn-",
        "colab_type": "code",
        "outputId": "f6d31db6-c636-47ee-edf2-0ce9f1e26aff",
        "colab": {
          "base_uri": "https://localhost:8080/",
          "height": 34
        }
      },
      "source": [
        "type(my_table)"
      ],
      "execution_count": 0,
      "outputs": [
        {
          "output_type": "execute_result",
          "data": {
            "text/plain": [
              "bs4.element.ResultSet"
            ]
          },
          "metadata": {
            "tags": []
          },
          "execution_count": 156
        }
      ]
    },
    {
      "cell_type": "code",
      "metadata": {
        "id": "YVhuX3QO-2O0",
        "colab_type": "code",
        "colab": {}
      },
      "source": [
        "table_text = []\n",
        "\n",
        "for data in my_table:\n",
        "    table_text.append(data.text)"
      ],
      "execution_count": 0,
      "outputs": []
    },
    {
      "cell_type": "code",
      "metadata": {
        "id": "B-twK_2Ulugg",
        "colab_type": "code",
        "colab": {}
      },
      "source": [
        "# Let's see the text\n",
        "\n",
        "# table_text"
      ],
      "execution_count": 0,
      "outputs": []
    },
    {
      "cell_type": "markdown",
      "metadata": {
        "id": "6EsoADW0mkrR",
        "colab_type": "text"
      },
      "source": [
        "First let's extract only the relevent data from the table"
      ]
    },
    {
      "cell_type": "code",
      "metadata": {
        "id": "WET_B_y0mwdN",
        "colab_type": "code",
        "outputId": "00503d7e-907b-4bb1-da1a-667bacd74108",
        "colab": {
          "base_uri": "https://localhost:8080/",
          "height": 34
        }
      },
      "source": [
        "relevant_table_data = table_text[4:-3]\n",
        "\n",
        "# Next let's see the first 3 elements\n",
        "relevant_table_data[:3]"
      ],
      "execution_count": 0,
      "outputs": [
        {
          "output_type": "execute_result",
          "data": {
            "text/plain": [
              "['1\\n', 'Alimosho\\n', '5,700,714\\n']"
            ]
          },
          "metadata": {
            "tags": []
          },
          "execution_count": 159
        }
      ]
    },
    {
      "cell_type": "markdown",
      "metadata": {
        "id": "_jJzom_Hw2yS",
        "colab_type": "text"
      },
      "source": [
        "Next lets create a dictionary and append the LGA and corresponding Population data to it"
      ]
    },
    {
      "cell_type": "code",
      "metadata": {
        "id": "AGRNCXgInsJh",
        "colab_type": "code",
        "colab": {}
      },
      "source": [
        "table_dict={'LGA':[], 'POP':[]}\n",
        "count = 0\n",
        "\n",
        "for item in relevant_table_data:\n",
        "    # First let's strip off the \\n at the end\n",
        "    item = item.strip('\\n')\n",
        "    try:\n",
        "        item = int(item)\n",
        "    except:\n",
        "        # if second item after the int, append to POP\n",
        "        if count > 0:\n",
        "            # First let's remove the commas\n",
        "            item = item.replace(',','')\n",
        "            # Next let's convert to an integer so we can use it for calculations\n",
        "            item = int(item)\n",
        "            # Finally, let's append it to the Population list of the dictionary\n",
        "            table_dict['POP'].append(item)\n",
        "            count = 0\n",
        "        else:\n",
        "         # if first item after the int, append to LGA\n",
        "            table_dict['LGA'].append(item)\n",
        "            count +=1\n",
        "            "
      ],
      "execution_count": 0,
      "outputs": []
    },
    {
      "cell_type": "markdown",
      "metadata": {
        "id": "BpsyT11FxCze",
        "colab_type": "text"
      },
      "source": [
        "Next let's create a Dataframe of each LGA and its respective Population"
      ]
    },
    {
      "cell_type": "code",
      "metadata": {
        "id": "4_Zgf7jVtmTu",
        "colab_type": "code",
        "outputId": "acacbb79-0f6c-4244-d3d1-150fce2665c4",
        "colab": {
          "base_uri": "https://localhost:8080/",
          "height": 195
        }
      },
      "source": [
        "lagos_df = pd.DataFrame(table_dict)\n",
        "\n",
        "# Let's see the first five rows\n",
        "lagos_df.head()"
      ],
      "execution_count": 0,
      "outputs": [
        {
          "output_type": "execute_result",
          "data": {
            "text/html": [
              "<div>\n",
              "<style scoped>\n",
              "    .dataframe tbody tr th:only-of-type {\n",
              "        vertical-align: middle;\n",
              "    }\n",
              "\n",
              "    .dataframe tbody tr th {\n",
              "        vertical-align: top;\n",
              "    }\n",
              "\n",
              "    .dataframe thead th {\n",
              "        text-align: right;\n",
              "    }\n",
              "</style>\n",
              "<table border=\"1\" class=\"dataframe\">\n",
              "  <thead>\n",
              "    <tr style=\"text-align: right;\">\n",
              "      <th></th>\n",
              "      <th>LGA</th>\n",
              "      <th>POP</th>\n",
              "    </tr>\n",
              "  </thead>\n",
              "  <tbody>\n",
              "    <tr>\n",
              "      <th>0</th>\n",
              "      <td>Alimosho</td>\n",
              "      <td>5700714</td>\n",
              "    </tr>\n",
              "    <tr>\n",
              "      <th>1</th>\n",
              "      <td>Ajeromi-Ifelodun</td>\n",
              "      <td>1746634</td>\n",
              "    </tr>\n",
              "    <tr>\n",
              "      <th>2</th>\n",
              "      <td>Kosofe</td>\n",
              "      <td>665998</td>\n",
              "    </tr>\n",
              "    <tr>\n",
              "      <th>3</th>\n",
              "      <td>Mushin, Lagos</td>\n",
              "      <td>633543</td>\n",
              "    </tr>\n",
              "    <tr>\n",
              "      <th>4</th>\n",
              "      <td>Oshodi-Isolo</td>\n",
              "      <td>621789</td>\n",
              "    </tr>\n",
              "  </tbody>\n",
              "</table>\n",
              "</div>"
            ],
            "text/plain": [
              "                LGA      POP\n",
              "0          Alimosho  5700714\n",
              "1  Ajeromi-Ifelodun  1746634\n",
              "2            Kosofe   665998\n",
              "3     Mushin, Lagos   633543\n",
              "4      Oshodi-Isolo   621789"
            ]
          },
          "metadata": {
            "tags": []
          },
          "execution_count": 161
        }
      ]
    },
    {
      "cell_type": "markdown",
      "metadata": {
        "id": "eNGYERJUS83m",
        "colab_type": "text"
      },
      "source": [
        "Appending the Latitude and Longitude Values:<br>\n",
        "First let's define a simple method to extract each LGA or Borough Lats and Longs data"
      ]
    },
    {
      "cell_type": "code",
      "metadata": {
        "id": "1UNfx6OVRlOS",
        "colab_type": "code",
        "colab": {}
      },
      "source": [
        "def latitude_longitude(Borough):\n",
        "    import time\n",
        "    \"\"\" Method takes a Series object and returns\n",
        "    a list of Latitude and corresponding Longitude data,\n",
        "    using the geopy library.\n",
        "    This method also prints out the coordinate data\"\"\"\n",
        "    \n",
        "    address = str(Borough)\n",
        "    \n",
        "    # We must define a geolocator user agent\n",
        "    geolocator = Nominatim(user_agent=\"NG_explorer\")\n",
        "    location = geolocator.geocode(address)\n",
        "    latitude = location.latitude\n",
        "    longitude = location.longitude\n",
        "    print('The geograpical coordinates of {} are lat {} and long {}.'.format(address, latitude, longitude))\n",
        "    # WARNING: we let 2 secs pass after calling each location lat/lon so that the geocode function may not crash as it crashes quite often\n",
        "    # Feel free to wait a few seconds and re-run this cell if it crashes or displays an Error message.\n",
        "    time.sleep(2)  \n",
        "    return [latitude, longitude]\n"
      ],
      "execution_count": 0,
      "outputs": []
    },
    {
      "cell_type": "code",
      "metadata": {
        "id": "34bdCijURtXE",
        "colab_type": "code",
        "outputId": "d6703676-e8ba-49de-98b9-c8215b003252",
        "colab": {
          "base_uri": "https://localhost:8080/",
          "height": 353
        }
      },
      "source": [
        "lagos_df['latitude'] = lagos_df['LGA'].apply(latitude_longitude)"
      ],
      "execution_count": 0,
      "outputs": [
        {
          "output_type": "stream",
          "text": [
            "The geograpical coordinates of Alimosho are lat 6.58434295 and long 3.25763109723237.\n",
            "The geograpical coordinates of Ajeromi-Ifelodun are lat 6.4551217 and long 3.33594625182987.\n",
            "The geograpical coordinates of Kosofe are lat 6.581974 and long 3.41483594161784.\n",
            "The geograpical coordinates of Mushin, Lagos are lat 6.53263245 and long 3.35202197179877.\n",
            "The geograpical coordinates of Oshodi-Isolo are lat 6.54001 and long 3.31241461318394.\n",
            "The geograpical coordinates of Ojo are lat 1.0958392 and long -76.6110685.\n",
            "The geograpical coordinates of Ikorodu are lat 6.6191233 and long 3.5041271.\n",
            "The geograpical coordinates of Surulere are lat 6.48720145 and long 3.35325872672398.\n",
            "The geograpical coordinates of Agege are lat 6.6252564 and long 3.31120926770265.\n",
            "The geograpical coordinates of Ifako-Ijaiye are lat 6.6636025 and long 3.289491.\n",
            "The geograpical coordinates of Somolu are lat 6.583333 and long 3.466667.\n",
            "The geograpical coordinates of Amuwo-Odofin are lat 6.4470234 and long 3.26627971168259.\n",
            "The geograpical coordinates of Lagos Mainland are lat 6.49306105 and long 3.38824963720956.\n",
            "The geograpical coordinates of Ikeja are lat 6.6048591 and long 3.35320407409498.\n",
            "The geograpical coordinates of Eti-Osa are lat 6.4602312 and long 3.53218066773601.\n",
            "The geograpical coordinates of Badagry are lat 6.4387296 and long 2.90748574931917.\n",
            "The geograpical coordinates of Apapa are lat 6.445187 and long 3.36837316794241.\n",
            "The geograpical coordinates of Lagos Island are lat 6.5148613 and long 3.49086616139006.\n",
            "The geograpical coordinates of Epe are lat 6.52474955 and long 4.05724579513234.\n",
            "The geograpical coordinates of Ibeju-Lekki are lat 6.4711251 and long 3.81475020068694.\n"
          ],
          "name": "stdout"
        }
      ]
    },
    {
      "cell_type": "markdown",
      "metadata": {
        "id": "FQ-5GsxfqFCv",
        "colab_type": "text"
      },
      "source": [
        "Let's see the data frame again"
      ]
    },
    {
      "cell_type": "code",
      "metadata": {
        "id": "1jRsohp3qIB7",
        "colab_type": "code",
        "outputId": "30941425-3963-465a-ef2d-6e9282f02239",
        "colab": {
          "base_uri": "https://localhost:8080/",
          "height": 195
        }
      },
      "source": [
        "lagos_df.head()"
      ],
      "execution_count": 0,
      "outputs": [
        {
          "output_type": "execute_result",
          "data": {
            "text/html": [
              "<div>\n",
              "<style scoped>\n",
              "    .dataframe tbody tr th:only-of-type {\n",
              "        vertical-align: middle;\n",
              "    }\n",
              "\n",
              "    .dataframe tbody tr th {\n",
              "        vertical-align: top;\n",
              "    }\n",
              "\n",
              "    .dataframe thead th {\n",
              "        text-align: right;\n",
              "    }\n",
              "</style>\n",
              "<table border=\"1\" class=\"dataframe\">\n",
              "  <thead>\n",
              "    <tr style=\"text-align: right;\">\n",
              "      <th></th>\n",
              "      <th>LGA</th>\n",
              "      <th>POP</th>\n",
              "      <th>latitude</th>\n",
              "    </tr>\n",
              "  </thead>\n",
              "  <tbody>\n",
              "    <tr>\n",
              "      <th>0</th>\n",
              "      <td>Alimosho</td>\n",
              "      <td>5700714</td>\n",
              "      <td>[6.58434295, 3.25763109723237]</td>\n",
              "    </tr>\n",
              "    <tr>\n",
              "      <th>1</th>\n",
              "      <td>Ajeromi-Ifelodun</td>\n",
              "      <td>1746634</td>\n",
              "      <td>[6.4551217, 3.33594625182987]</td>\n",
              "    </tr>\n",
              "    <tr>\n",
              "      <th>2</th>\n",
              "      <td>Kosofe</td>\n",
              "      <td>665998</td>\n",
              "      <td>[6.581974, 3.41483594161784]</td>\n",
              "    </tr>\n",
              "    <tr>\n",
              "      <th>3</th>\n",
              "      <td>Mushin, Lagos</td>\n",
              "      <td>633543</td>\n",
              "      <td>[6.53263245, 3.35202197179877]</td>\n",
              "    </tr>\n",
              "    <tr>\n",
              "      <th>4</th>\n",
              "      <td>Oshodi-Isolo</td>\n",
              "      <td>621789</td>\n",
              "      <td>[6.54001, 3.31241461318394]</td>\n",
              "    </tr>\n",
              "  </tbody>\n",
              "</table>\n",
              "</div>"
            ],
            "text/plain": [
              "                LGA      POP                        latitude\n",
              "0          Alimosho  5700714  [6.58434295, 3.25763109723237]\n",
              "1  Ajeromi-Ifelodun  1746634   [6.4551217, 3.33594625182987]\n",
              "2            Kosofe   665998    [6.581974, 3.41483594161784]\n",
              "3     Mushin, Lagos   633543  [6.53263245, 3.35202197179877]\n",
              "4      Oshodi-Isolo   621789     [6.54001, 3.31241461318394]"
            ]
          },
          "metadata": {
            "tags": []
          },
          "execution_count": 165
        }
      ]
    },
    {
      "cell_type": "markdown",
      "metadata": {
        "id": "urZ6BlyRqRKZ",
        "colab_type": "text"
      },
      "source": [
        "Next let's loop through the data frame and separate Latitude from Longitude and make lat and lons just numbers not lists\n"
      ]
    },
    {
      "cell_type": "code",
      "metadata": {
        "id": "D-242baCqbms",
        "colab_type": "code",
        "colab": {}
      },
      "source": [
        "lon_list = []\n",
        "for i, j in lagos_df.iterrows():\n",
        "    lon_list.append(j.latitude[1])\n",
        "    lagos_df.iat[i,2] = j.latitude[0]\n",
        "      \n",
        "# next let's assign the lon_list as the value of the Longitude Column\n",
        "\n",
        "lagos_df['longitude'] = lon_list"
      ],
      "execution_count": 0,
      "outputs": []
    },
    {
      "cell_type": "markdown",
      "metadata": {
        "id": "zq_eqtUctlO7",
        "colab_type": "text"
      },
      "source": [
        "Let's see our table with the separated latitude and longitude values"
      ]
    },
    {
      "cell_type": "code",
      "metadata": {
        "id": "b0lMEy5Btl4b",
        "colab_type": "code",
        "outputId": "51d82372-7088-4fb3-d610-6765526e7c88",
        "colab": {
          "base_uri": "https://localhost:8080/",
          "height": 195
        }
      },
      "source": [
        "lagos_df.head()"
      ],
      "execution_count": 0,
      "outputs": [
        {
          "output_type": "execute_result",
          "data": {
            "text/html": [
              "<div>\n",
              "<style scoped>\n",
              "    .dataframe tbody tr th:only-of-type {\n",
              "        vertical-align: middle;\n",
              "    }\n",
              "\n",
              "    .dataframe tbody tr th {\n",
              "        vertical-align: top;\n",
              "    }\n",
              "\n",
              "    .dataframe thead th {\n",
              "        text-align: right;\n",
              "    }\n",
              "</style>\n",
              "<table border=\"1\" class=\"dataframe\">\n",
              "  <thead>\n",
              "    <tr style=\"text-align: right;\">\n",
              "      <th></th>\n",
              "      <th>LGA</th>\n",
              "      <th>POP</th>\n",
              "      <th>latitude</th>\n",
              "      <th>longitude</th>\n",
              "    </tr>\n",
              "  </thead>\n",
              "  <tbody>\n",
              "    <tr>\n",
              "      <th>0</th>\n",
              "      <td>Alimosho</td>\n",
              "      <td>5700714</td>\n",
              "      <td>6.58434</td>\n",
              "      <td>3.257631</td>\n",
              "    </tr>\n",
              "    <tr>\n",
              "      <th>1</th>\n",
              "      <td>Ajeromi-Ifelodun</td>\n",
              "      <td>1746634</td>\n",
              "      <td>6.45512</td>\n",
              "      <td>3.335946</td>\n",
              "    </tr>\n",
              "    <tr>\n",
              "      <th>2</th>\n",
              "      <td>Kosofe</td>\n",
              "      <td>665998</td>\n",
              "      <td>6.58197</td>\n",
              "      <td>3.414836</td>\n",
              "    </tr>\n",
              "    <tr>\n",
              "      <th>3</th>\n",
              "      <td>Mushin, Lagos</td>\n",
              "      <td>633543</td>\n",
              "      <td>6.53263</td>\n",
              "      <td>3.352022</td>\n",
              "    </tr>\n",
              "    <tr>\n",
              "      <th>4</th>\n",
              "      <td>Oshodi-Isolo</td>\n",
              "      <td>621789</td>\n",
              "      <td>6.54001</td>\n",
              "      <td>3.312415</td>\n",
              "    </tr>\n",
              "  </tbody>\n",
              "</table>\n",
              "</div>"
            ],
            "text/plain": [
              "                LGA      POP latitude  longitude\n",
              "0          Alimosho  5700714  6.58434   3.257631\n",
              "1  Ajeromi-Ifelodun  1746634  6.45512   3.335946\n",
              "2            Kosofe   665998  6.58197   3.414836\n",
              "3     Mushin, Lagos   633543  6.53263   3.352022\n",
              "4      Oshodi-Isolo   621789  6.54001   3.312415"
            ]
          },
          "metadata": {
            "tags": []
          },
          "execution_count": 167
        }
      ]
    },
    {
      "cell_type": "markdown",
      "metadata": {
        "id": "UWj17IRi5BAg",
        "colab_type": "text"
      },
      "source": [
        "Okay so at this point let's look at each Borough or L.G.A closer. Let's start with the first one and visualize it via Folium library"
      ]
    },
    {
      "cell_type": "markdown",
      "metadata": {
        "id": "2QWtdI_x56jO",
        "colab_type": "text"
      },
      "source": [
        "Let's get the geographic coordinates of Alimosho, the first L.G.A"
      ]
    },
    {
      "cell_type": "code",
      "metadata": {
        "id": "Gdx8ufxPAnHg",
        "colab_type": "code",
        "outputId": "2e6bcaaa-8c59-4714-f156-1d63bac573f5",
        "colab": {
          "base_uri": "https://localhost:8080/",
          "height": 77
        }
      },
      "source": [
        "alimosho_data = lagos_df.loc[0,].to_frame().T\n",
        "alimosho_data"
      ],
      "execution_count": 0,
      "outputs": [
        {
          "output_type": "execute_result",
          "data": {
            "text/html": [
              "<div>\n",
              "<style scoped>\n",
              "    .dataframe tbody tr th:only-of-type {\n",
              "        vertical-align: middle;\n",
              "    }\n",
              "\n",
              "    .dataframe tbody tr th {\n",
              "        vertical-align: top;\n",
              "    }\n",
              "\n",
              "    .dataframe thead th {\n",
              "        text-align: right;\n",
              "    }\n",
              "</style>\n",
              "<table border=\"1\" class=\"dataframe\">\n",
              "  <thead>\n",
              "    <tr style=\"text-align: right;\">\n",
              "      <th></th>\n",
              "      <th>LGA</th>\n",
              "      <th>POP</th>\n",
              "      <th>latitude</th>\n",
              "      <th>longitude</th>\n",
              "    </tr>\n",
              "  </thead>\n",
              "  <tbody>\n",
              "    <tr>\n",
              "      <th>0</th>\n",
              "      <td>Alimosho</td>\n",
              "      <td>5700714</td>\n",
              "      <td>6.58434</td>\n",
              "      <td>3.25763</td>\n",
              "    </tr>\n",
              "  </tbody>\n",
              "</table>\n",
              "</div>"
            ],
            "text/plain": [
              "        LGA      POP latitude longitude\n",
              "0  Alimosho  5700714  6.58434   3.25763"
            ]
          },
          "metadata": {
            "tags": []
          },
          "execution_count": 168
        }
      ]
    },
    {
      "cell_type": "code",
      "metadata": {
        "id": "o9yjb12t7LwQ",
        "colab_type": "code",
        "outputId": "b45862d1-e522-4682-ddc8-cff30a793e21",
        "colab": {
          "base_uri": "https://localhost:8080/",
          "height": 50
        }
      },
      "source": [
        "lat, lon = latitude_longitude(alimosho_data.iloc[0,0])\n",
        "\n",
        "print('lat: {}, lon: {}'.format(lat,lon))"
      ],
      "execution_count": 0,
      "outputs": [
        {
          "output_type": "stream",
          "text": [
            "The geograpical coordinates of Alimosho are lat 6.58434295 and long 3.25763109723237.\n",
            "lat: 6.58434295, lon: 3.25763109723237\n"
          ],
          "name": "stdout"
        }
      ]
    },
    {
      "cell_type": "code",
      "metadata": {
        "id": "BZb395Lm5RsE",
        "colab_type": "code",
        "outputId": "4004a140-2a00-4db3-af2e-2cd2fcb42761",
        "colab": {
          "base_uri": "https://localhost:8080/",
          "height": 858
        }
      },
      "source": [
        "# create map of Alimosho using latitude and longitude values\n",
        "map_alimosho = folium.Map(location=[lat, lon], zoom_start=14)\n",
        "\n",
        "# add markers to map\n",
        "\n",
        "label = \"{}\".format('Alimosho')\n",
        "label = folium.Popup(label, parse_html=True)\n",
        "folium.CircleMarker(\n",
        "    [lat, lon],\n",
        "    radius=10,\n",
        "    popup=label,\n",
        "    color='blue',\n",
        "    fill=True,\n",
        "    fill_color='#3186cc',\n",
        "    fill_opacity=0.8,\n",
        "    parse_html=False).add_to(map_alimosho)  \n",
        "\n",
        "map_alimosho  # Feel free to zoom in to see more"
      ],
      "execution_count": 0,
      "outputs": [
        {
          "output_type": "execute_result",
          "data": {
            "text/html": [
              "<div style=\"width:100%;\"><div style=\"position:relative;width:100%;height:0;padding-bottom:60%;\"><iframe src=\"data:text/html;charset=utf-8;base64,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\" style=\"position:absolute;width:100%;height:100%;left:0;top:0;border:none !important;\" allowfullscreen webkitallowfullscreen mozallowfullscreen></iframe></div></div>"
            ],
            "text/plain": [
              "<folium.folium.Map at 0x7fb59f4e24e0>"
            ]
          },
          "metadata": {
            "tags": []
          },
          "execution_count": 170
        }
      ]
    },
    {
      "cell_type": "markdown",
      "metadata": {
        "id": "awqo0glw9y9z",
        "colab_type": "text"
      },
      "source": [
        "Now Let's explore the data using foursquare API"
      ]
    },
    {
      "cell_type": "code",
      "metadata": {
        "id": "IcLLLBoT9yAX",
        "colab_type": "code",
        "outputId": "57f15f26-7abe-4099-d189-8c62bac7723f",
        "colab": {
          "base_uri": "https://localhost:8080/",
          "height": 67
        }
      },
      "source": [
        "CLIENT_ID = 'L2XUYCRD44VP2YBDMZ3XY0Z4XKO1JODM5SMG3IIYRZ5330FD' # your Foursquare ID\n",
        "CLIENT_SECRET = '5KI00FG4RT2VJQTIDPXFY1N4AOKTIXLIZEAO0AHPP3DPD0U1' # your Foursquare Secret\n",
        "VERSION = '20191212'\n",
        "LIMIT = 50\n",
        "print('Your credentials:')\n",
        "print('CLIENT_ID: ' + CLIENT_ID)\n",
        "print('CLIENT_SECRET:' + CLIENT_SECRET)"
      ],
      "execution_count": 0,
      "outputs": [
        {
          "output_type": "stream",
          "text": [
            "Your credentials:\n",
            "CLIENT_ID: L2XUYCRD44VP2YBDMZ3XY0Z4XKO1JODM5SMG3IIYRZ5330FD\n",
            "CLIENT_SECRET:5KI00FG4RT2VJQTIDPXFY1N4AOKTIXLIZEAO0AHPP3DPD0U1\n"
          ],
          "name": "stdout"
        }
      ]
    },
    {
      "cell_type": "markdown",
      "metadata": {
        "id": "XOq8VAcKE6jV",
        "colab_type": "text"
      },
      "source": [
        "Let's get the full data for Alimosho LGA"
      ]
    },
    {
      "cell_type": "markdown",
      "metadata": {
        "id": "lSkhPURzQake",
        "colab_type": "text"
      },
      "source": [
        "Now, let's get the top 200 venues that are in the first entry within a radius of 10 Kilometers."
      ]
    },
    {
      "cell_type": "code",
      "metadata": {
        "id": "BzlnZyBeQfKb",
        "colab_type": "code",
        "colab": {}
      },
      "source": [
        "radius = 10000 # 10,000 meters is 10KM\n",
        "LIMIT=200\n",
        "\n",
        "url = 'https://api.foursquare.com/v2/venues/explore?&client_id={}&client_secret={}&v={}&ll={},{}&radius={}&limit={}'.format(\n",
        "    CLIENT_ID, \n",
        "    CLIENT_SECRET, \n",
        "    VERSION, \n",
        "    alimosho_data.latitude[0], \n",
        "    alimosho_data.longitude[0], \n",
        "    radius, \n",
        "    LIMIT)"
      ],
      "execution_count": 0,
      "outputs": []
    },
    {
      "cell_type": "markdown",
      "metadata": {
        "id": "U8a-qiJFRE8I",
        "colab_type": "text"
      },
      "source": [
        "let's Send the GET request and examine the resutls"
      ]
    },
    {
      "cell_type": "code",
      "metadata": {
        "id": "pHOQ6r9JRHPs",
        "colab_type": "code",
        "outputId": "94e7f5ca-b452-46bd-c07e-e65f8773682a",
        "colab": {
          "base_uri": "https://localhost:8080/",
          "height": 34
        }
      },
      "source": [
        "result = requests.get(url).json()\n",
        "\n",
        "result.keys()"
      ],
      "execution_count": 0,
      "outputs": [
        {
          "output_type": "execute_result",
          "data": {
            "text/plain": [
              "dict_keys(['meta', 'response'])"
            ]
          },
          "metadata": {
            "tags": []
          },
          "execution_count": 173
        }
      ]
    },
    {
      "cell_type": "code",
      "metadata": {
        "id": "fy95KtXvRSh1",
        "colab_type": "code",
        "colab": {}
      },
      "source": [
        "# show the result\n",
        "# result"
      ],
      "execution_count": 0,
      "outputs": []
    },
    {
      "cell_type": "markdown",
      "metadata": {
        "id": "Ivyyc6dTR0ty",
        "colab_type": "text"
      },
      "source": [
        "Let's define a function that extracts the category of the venue"
      ]
    },
    {
      "cell_type": "markdown",
      "metadata": {
        "id": "ldqGNQujCT3T",
        "colab_type": "text"
      },
      "source": [
        "Let's save only the venues from result in a variable called venues"
      ]
    },
    {
      "cell_type": "code",
      "metadata": {
        "id": "w2fsDpmiSUG7",
        "colab_type": "code",
        "outputId": "1a5c6640-22ae-4408-a909-32403d4f2014",
        "colab": {
          "base_uri": "https://localhost:8080/",
          "height": 34
        }
      },
      "source": [
        "venues = result['response']['groups'][0]['items']\n",
        "len(venues)\n",
        "\n",
        "# This tells us about 40 venues are returned in a 10 Kilometer radius of Alimosho LGA"
      ],
      "execution_count": 0,
      "outputs": [
        {
          "output_type": "execute_result",
          "data": {
            "text/plain": [
              "39"
            ]
          },
          "metadata": {
            "tags": []
          },
          "execution_count": 175
        }
      ]
    },
    {
      "cell_type": "code",
      "metadata": {
        "id": "HTJCqk02o0Z3",
        "colab_type": "code",
        "colab": {}
      },
      "source": [
        "# See the venues json data\n",
        "\n",
        "# venues"
      ],
      "execution_count": 0,
      "outputs": []
    },
    {
      "cell_type": "markdown",
      "metadata": {
        "id": "kWRrHXn9ByJ6",
        "colab_type": "text"
      },
      "source": [
        "Next, lets convert the result of nearby alimosho borough venues returned into a DataFrame"
      ]
    },
    {
      "cell_type": "code",
      "metadata": {
        "id": "_CxoOEbMB6S3",
        "colab_type": "code",
        "outputId": "e333ea10-db81-4194-a564-8f81a772b2a1",
        "colab": {
          "base_uri": "https://localhost:8080/",
          "height": 467
        }
      },
      "source": [
        "nearby_venues = json_normalize(venues)\n",
        "nearby_venues.head()"
      ],
      "execution_count": 0,
      "outputs": [
        {
          "output_type": "execute_result",
          "data": {
            "text/html": [
              "<div>\n",
              "<style scoped>\n",
              "    .dataframe tbody tr th:only-of-type {\n",
              "        vertical-align: middle;\n",
              "    }\n",
              "\n",
              "    .dataframe tbody tr th {\n",
              "        vertical-align: top;\n",
              "    }\n",
              "\n",
              "    .dataframe thead th {\n",
              "        text-align: right;\n",
              "    }\n",
              "</style>\n",
              "<table border=\"1\" class=\"dataframe\">\n",
              "  <thead>\n",
              "    <tr style=\"text-align: right;\">\n",
              "      <th></th>\n",
              "      <th>referralId</th>\n",
              "      <th>reasons.count</th>\n",
              "      <th>reasons.items</th>\n",
              "      <th>venue.id</th>\n",
              "      <th>venue.name</th>\n",
              "      <th>venue.location.address</th>\n",
              "      <th>venue.location.lat</th>\n",
              "      <th>venue.location.lng</th>\n",
              "      <th>venue.location.labeledLatLngs</th>\n",
              "      <th>venue.location.distance</th>\n",
              "      <th>venue.location.postalCode</th>\n",
              "      <th>venue.location.cc</th>\n",
              "      <th>venue.location.city</th>\n",
              "      <th>venue.location.state</th>\n",
              "      <th>venue.location.country</th>\n",
              "      <th>venue.location.formattedAddress</th>\n",
              "      <th>venue.categories</th>\n",
              "      <th>venue.photos.count</th>\n",
              "      <th>venue.photos.groups</th>\n",
              "      <th>venue.location.crossStreet</th>\n",
              "      <th>venue.location.neighborhood</th>\n",
              "      <th>venue.venuePage.id</th>\n",
              "    </tr>\n",
              "  </thead>\n",
              "  <tbody>\n",
              "    <tr>\n",
              "      <th>0</th>\n",
              "      <td>e-0-4e261fce315161d79d2a8fa5-0</td>\n",
              "      <td>0</td>\n",
              "      <td>[{'summary': 'This spot is popular', 'type': '...</td>\n",
              "      <td>4e261fce315161d79d2a8fa5</td>\n",
              "      <td>SHAWARMA.COME</td>\n",
              "      <td>federal junction beside mr biggs gowon estate ...</td>\n",
              "      <td>6.604609</td>\n",
              "      <td>3.277413</td>\n",
              "      <td>[{'label': 'display', 'lat': 6.604608729562348...</td>\n",
              "      <td>3142</td>\n",
              "      <td>+234</td>\n",
              "      <td>NG</td>\n",
              "      <td>Lagos</td>\n",
              "      <td>Lagos</td>\n",
              "      <td>Nigeria</td>\n",
              "      <td>[federal junction beside mr biggs gowon estate...</td>\n",
              "      <td>[{'id': '4bf58dd8d48988d1ca941735', 'name': 'P...</td>\n",
              "      <td>0</td>\n",
              "      <td>[]</td>\n",
              "      <td>NaN</td>\n",
              "      <td>NaN</td>\n",
              "      <td>NaN</td>\n",
              "    </tr>\n",
              "    <tr>\n",
              "      <th>1</th>\n",
              "      <td>e-0-4ecbf689b6346e2d3a4dead5-1</td>\n",
              "      <td>0</td>\n",
              "      <td>[{'summary': 'This spot is popular', 'type': '...</td>\n",
              "      <td>4ecbf689b6346e2d3a4dead5</td>\n",
              "      <td>Tantalisers</td>\n",
              "      <td>Abule Egba</td>\n",
              "      <td>6.649299</td>\n",
              "      <td>3.265609</td>\n",
              "      <td>[{'label': 'display', 'lat': 6.649299147190656...</td>\n",
              "      <td>7284</td>\n",
              "      <td>NaN</td>\n",
              "      <td>NG</td>\n",
              "      <td>Lagos</td>\n",
              "      <td>Lagos</td>\n",
              "      <td>Nigeria</td>\n",
              "      <td>[Abule Egba, Lagos, Lagos, Nigeria]</td>\n",
              "      <td>[{'id': '4bf58dd8d48988d16c941735', 'name': 'B...</td>\n",
              "      <td>0</td>\n",
              "      <td>[]</td>\n",
              "      <td>NaN</td>\n",
              "      <td>NaN</td>\n",
              "      <td>NaN</td>\n",
              "    </tr>\n",
              "    <tr>\n",
              "      <th>2</th>\n",
              "      <td>e-0-4f75a8e7e4b06c81e0e3ba05-2</td>\n",
              "      <td>0</td>\n",
              "      <td>[{'summary': 'This spot is popular', 'type': '...</td>\n",
              "      <td>4f75a8e7e4b06c81e0e3ba05</td>\n",
              "      <td>Wings Restaurant</td>\n",
              "      <td>NaN</td>\n",
              "      <td>6.576023</td>\n",
              "      <td>3.325612</td>\n",
              "      <td>[{'label': 'display', 'lat': 6.576022675981682...</td>\n",
              "      <td>7574</td>\n",
              "      <td>NaN</td>\n",
              "      <td>NG</td>\n",
              "      <td>Lagos</td>\n",
              "      <td>Lagos</td>\n",
              "      <td>Nigeria</td>\n",
              "      <td>[Lagos, Lagos, Nigeria]</td>\n",
              "      <td>[{'id': '4bf58dd8d48988d1c4941735', 'name': 'R...</td>\n",
              "      <td>0</td>\n",
              "      <td>[]</td>\n",
              "      <td>NaN</td>\n",
              "      <td>NaN</td>\n",
              "      <td>NaN</td>\n",
              "    </tr>\n",
              "    <tr>\n",
              "      <th>3</th>\n",
              "      <td>e-0-51176f6ce4b05931e449abbc-3</td>\n",
              "      <td>0</td>\n",
              "      <td>[{'summary': 'This spot is popular', 'type': '...</td>\n",
              "      <td>51176f6ce4b05931e449abbc</td>\n",
              "      <td>Ipaja market ipaja</td>\n",
              "      <td>Ipaja Last bus stop</td>\n",
              "      <td>6.602248</td>\n",
              "      <td>3.255585</td>\n",
              "      <td>[{'label': 'display', 'lat': 6.602248491329565...</td>\n",
              "      <td>2006</td>\n",
              "      <td>NaN</td>\n",
              "      <td>NG</td>\n",
              "      <td>Lagos</td>\n",
              "      <td>Lagos</td>\n",
              "      <td>Nigeria</td>\n",
              "      <td>[Ipaja Last bus stop (Ipaja), Lagos, Lagos, Ni...</td>\n",
              "      <td>[{'id': '50be8ee891d4fa8dcc7199a7', 'name': 'M...</td>\n",
              "      <td>0</td>\n",
              "      <td>[]</td>\n",
              "      <td>Ipaja</td>\n",
              "      <td>NaN</td>\n",
              "      <td>NaN</td>\n",
              "    </tr>\n",
              "    <tr>\n",
              "      <th>4</th>\n",
              "      <td>e-0-4c93872fa25fef3b4c231223-4</td>\n",
              "      <td>0</td>\n",
              "      <td>[{'summary': 'This spot is popular', 'type': '...</td>\n",
              "      <td>4c93872fa25fef3b4c231223</td>\n",
              "      <td>De Grange suites &amp; bar</td>\n",
              "      <td>4, association rd, boys town Ipaja</td>\n",
              "      <td>6.602309</td>\n",
              "      <td>3.267038</td>\n",
              "      <td>[{'label': 'display', 'lat': 6.602309210296299...</td>\n",
              "      <td>2254</td>\n",
              "      <td>NaN</td>\n",
              "      <td>NG</td>\n",
              "      <td>Lagos</td>\n",
              "      <td>Lagos</td>\n",
              "      <td>Nigeria</td>\n",
              "      <td>[4, association rd, boys town Ipaja (btw ipaja...</td>\n",
              "      <td>[{'id': '4bf58dd8d48988d116941735', 'name': 'B...</td>\n",
              "      <td>0</td>\n",
              "      <td>[]</td>\n",
              "      <td>btw ipaja road and ayobo</td>\n",
              "      <td>NaN</td>\n",
              "      <td>NaN</td>\n",
              "    </tr>\n",
              "  </tbody>\n",
              "</table>\n",
              "</div>"
            ],
            "text/plain": [
              "                       referralId  ...  venue.venuePage.id\n",
              "0  e-0-4e261fce315161d79d2a8fa5-0  ...                 NaN\n",
              "1  e-0-4ecbf689b6346e2d3a4dead5-1  ...                 NaN\n",
              "2  e-0-4f75a8e7e4b06c81e0e3ba05-2  ...                 NaN\n",
              "3  e-0-51176f6ce4b05931e449abbc-3  ...                 NaN\n",
              "4  e-0-4c93872fa25fef3b4c231223-4  ...                 NaN\n",
              "\n",
              "[5 rows x 22 columns]"
            ]
          },
          "metadata": {
            "tags": []
          },
          "execution_count": 177
        }
      ]
    },
    {
      "cell_type": "markdown",
      "metadata": {
        "id": "Wdoii5b7ms17",
        "colab_type": "text"
      },
      "source": [
        "Okay let's now filter the venue DataFrame and select only the volumns needed "
      ]
    },
    {
      "cell_type": "code",
      "metadata": {
        "id": "RXVe8mW0mImM",
        "colab_type": "code",
        "outputId": "3e49362f-0ebf-42ff-c7d0-717e4d7a9de3",
        "colab": {
          "base_uri": "https://localhost:8080/",
          "height": 195
        }
      },
      "source": [
        "# filter columns\n",
        "filtered_columns = ['venue.name', 'venue.categories', 'venue.location.lat', 'venue.location.lng', 'venue.location.distance', 'venue.id']\n",
        "nearby_venues = nearby_venues.loc[:, filtered_columns]\n",
        "\n",
        "nearby_venues.head()"
      ],
      "execution_count": 0,
      "outputs": [
        {
          "output_type": "execute_result",
          "data": {
            "text/html": [
              "<div>\n",
              "<style scoped>\n",
              "    .dataframe tbody tr th:only-of-type {\n",
              "        vertical-align: middle;\n",
              "    }\n",
              "\n",
              "    .dataframe tbody tr th {\n",
              "        vertical-align: top;\n",
              "    }\n",
              "\n",
              "    .dataframe thead th {\n",
              "        text-align: right;\n",
              "    }\n",
              "</style>\n",
              "<table border=\"1\" class=\"dataframe\">\n",
              "  <thead>\n",
              "    <tr style=\"text-align: right;\">\n",
              "      <th></th>\n",
              "      <th>venue.name</th>\n",
              "      <th>venue.categories</th>\n",
              "      <th>venue.location.lat</th>\n",
              "      <th>venue.location.lng</th>\n",
              "      <th>venue.location.distance</th>\n",
              "      <th>venue.id</th>\n",
              "    </tr>\n",
              "  </thead>\n",
              "  <tbody>\n",
              "    <tr>\n",
              "      <th>0</th>\n",
              "      <td>SHAWARMA.COME</td>\n",
              "      <td>[{'id': '4bf58dd8d48988d1ca941735', 'name': 'P...</td>\n",
              "      <td>6.604609</td>\n",
              "      <td>3.277413</td>\n",
              "      <td>3142</td>\n",
              "      <td>4e261fce315161d79d2a8fa5</td>\n",
              "    </tr>\n",
              "    <tr>\n",
              "      <th>1</th>\n",
              "      <td>Tantalisers</td>\n",
              "      <td>[{'id': '4bf58dd8d48988d16c941735', 'name': 'B...</td>\n",
              "      <td>6.649299</td>\n",
              "      <td>3.265609</td>\n",
              "      <td>7284</td>\n",
              "      <td>4ecbf689b6346e2d3a4dead5</td>\n",
              "    </tr>\n",
              "    <tr>\n",
              "      <th>2</th>\n",
              "      <td>Wings Restaurant</td>\n",
              "      <td>[{'id': '4bf58dd8d48988d1c4941735', 'name': 'R...</td>\n",
              "      <td>6.576023</td>\n",
              "      <td>3.325612</td>\n",
              "      <td>7574</td>\n",
              "      <td>4f75a8e7e4b06c81e0e3ba05</td>\n",
              "    </tr>\n",
              "    <tr>\n",
              "      <th>3</th>\n",
              "      <td>Ipaja market ipaja</td>\n",
              "      <td>[{'id': '50be8ee891d4fa8dcc7199a7', 'name': 'M...</td>\n",
              "      <td>6.602248</td>\n",
              "      <td>3.255585</td>\n",
              "      <td>2006</td>\n",
              "      <td>51176f6ce4b05931e449abbc</td>\n",
              "    </tr>\n",
              "    <tr>\n",
              "      <th>4</th>\n",
              "      <td>De Grange suites &amp; bar</td>\n",
              "      <td>[{'id': '4bf58dd8d48988d116941735', 'name': 'B...</td>\n",
              "      <td>6.602309</td>\n",
              "      <td>3.267038</td>\n",
              "      <td>2254</td>\n",
              "      <td>4c93872fa25fef3b4c231223</td>\n",
              "    </tr>\n",
              "  </tbody>\n",
              "</table>\n",
              "</div>"
            ],
            "text/plain": [
              "               venue.name  ...                  venue.id\n",
              "0           SHAWARMA.COME  ...  4e261fce315161d79d2a8fa5\n",
              "1             Tantalisers  ...  4ecbf689b6346e2d3a4dead5\n",
              "2        Wings Restaurant  ...  4f75a8e7e4b06c81e0e3ba05\n",
              "3      Ipaja market ipaja  ...  51176f6ce4b05931e449abbc\n",
              "4  De Grange suites & bar  ...  4c93872fa25fef3b4c231223\n",
              "\n",
              "[5 rows x 6 columns]"
            ]
          },
          "metadata": {
            "tags": []
          },
          "execution_count": 178
        }
      ]
    },
    {
      "cell_type": "markdown",
      "metadata": {
        "id": "QQMuqBLlpr8D",
        "colab_type": "text"
      },
      "source": [
        "We can see that the categories column is not well formatted. Let's clean it out.<br>\n",
        "First let's inspect it closer"
      ]
    },
    {
      "cell_type": "code",
      "metadata": {
        "id": "UrAZ9DBUp3ZC",
        "colab_type": "code",
        "outputId": "cb9d83d4-9ce3-4320-f00e-c321cf2f662d",
        "colab": {
          "base_uri": "https://localhost:8080/",
          "height": 134
        }
      },
      "source": [
        "nearby_venues['venue.categories'][0]"
      ],
      "execution_count": 0,
      "outputs": [
        {
          "output_type": "execute_result",
          "data": {
            "text/plain": [
              "[{'icon': {'prefix': 'https://ss3.4sqi.net/img/categories_v2/food/pizza_',\n",
              "   'suffix': '.png'},\n",
              "  'id': '4bf58dd8d48988d1ca941735',\n",
              "  'name': 'Pizza Place',\n",
              "  'pluralName': 'Pizza Places',\n",
              "  'primary': True,\n",
              "  'shortName': 'Pizza'}]"
            ]
          },
          "metadata": {
            "tags": []
          },
          "execution_count": 179
        }
      ]
    },
    {
      "cell_type": "markdown",
      "metadata": {
        "id": "cZj8jlwOqJ_n",
        "colab_type": "text"
      },
      "source": [
        "Ok so let's now define a simple method that returns only the name for each category.<br>\n",
        "Then use the apply method to apply it on each category item in the dataframe\n",
        "                                                            "
      ]
    },
    {
      "cell_type": "code",
      "metadata": {
        "id": "wEp6r3CdoXIu",
        "colab_type": "code",
        "colab": {}
      },
      "source": [
        "def clean_category(x):\n",
        "    x = x[0]['name']\n",
        "    return x"
      ],
      "execution_count": 0,
      "outputs": []
    },
    {
      "cell_type": "markdown",
      "metadata": {
        "id": "N2Nb3oSNqepT",
        "colab_type": "text"
      },
      "source": [
        "Now let's apply it"
      ]
    },
    {
      "cell_type": "code",
      "metadata": {
        "id": "o7qzO6zmpRF2",
        "colab_type": "code",
        "colab": {}
      },
      "source": [
        "nearby_venues['venue.categories'] = nearby_venues['venue.categories'].apply(clean_category)"
      ],
      "execution_count": 0,
      "outputs": []
    },
    {
      "cell_type": "markdown",
      "metadata": {
        "id": "I_DCPW7wqihT",
        "colab_type": "text"
      },
      "source": [
        "Finally let's view the cleaned category column"
      ]
    },
    {
      "cell_type": "code",
      "metadata": {
        "id": "PJVhOY495zFE",
        "colab_type": "code",
        "outputId": "71e9a011-dce0-455e-eadd-155f51de4022",
        "colab": {
          "base_uri": "https://localhost:8080/",
          "height": 195
        }
      },
      "source": [
        "alimosho_venues = nearby_venues\n",
        "\n",
        "alimosho_venues.head()"
      ],
      "execution_count": 0,
      "outputs": [
        {
          "output_type": "execute_result",
          "data": {
            "text/html": [
              "<div>\n",
              "<style scoped>\n",
              "    .dataframe tbody tr th:only-of-type {\n",
              "        vertical-align: middle;\n",
              "    }\n",
              "\n",
              "    .dataframe tbody tr th {\n",
              "        vertical-align: top;\n",
              "    }\n",
              "\n",
              "    .dataframe thead th {\n",
              "        text-align: right;\n",
              "    }\n",
              "</style>\n",
              "<table border=\"1\" class=\"dataframe\">\n",
              "  <thead>\n",
              "    <tr style=\"text-align: right;\">\n",
              "      <th></th>\n",
              "      <th>venue.name</th>\n",
              "      <th>venue.categories</th>\n",
              "      <th>venue.location.lat</th>\n",
              "      <th>venue.location.lng</th>\n",
              "      <th>venue.location.distance</th>\n",
              "      <th>venue.id</th>\n",
              "    </tr>\n",
              "  </thead>\n",
              "  <tbody>\n",
              "    <tr>\n",
              "      <th>0</th>\n",
              "      <td>SHAWARMA.COME</td>\n",
              "      <td>Pizza Place</td>\n",
              "      <td>6.604609</td>\n",
              "      <td>3.277413</td>\n",
              "      <td>3142</td>\n",
              "      <td>4e261fce315161d79d2a8fa5</td>\n",
              "    </tr>\n",
              "    <tr>\n",
              "      <th>1</th>\n",
              "      <td>Tantalisers</td>\n",
              "      <td>Burger Joint</td>\n",
              "      <td>6.649299</td>\n",
              "      <td>3.265609</td>\n",
              "      <td>7284</td>\n",
              "      <td>4ecbf689b6346e2d3a4dead5</td>\n",
              "    </tr>\n",
              "    <tr>\n",
              "      <th>2</th>\n",
              "      <td>Wings Restaurant</td>\n",
              "      <td>Restaurant</td>\n",
              "      <td>6.576023</td>\n",
              "      <td>3.325612</td>\n",
              "      <td>7574</td>\n",
              "      <td>4f75a8e7e4b06c81e0e3ba05</td>\n",
              "    </tr>\n",
              "    <tr>\n",
              "      <th>3</th>\n",
              "      <td>Ipaja market ipaja</td>\n",
              "      <td>Market</td>\n",
              "      <td>6.602248</td>\n",
              "      <td>3.255585</td>\n",
              "      <td>2006</td>\n",
              "      <td>51176f6ce4b05931e449abbc</td>\n",
              "    </tr>\n",
              "    <tr>\n",
              "      <th>4</th>\n",
              "      <td>De Grange suites &amp; bar</td>\n",
              "      <td>Bar</td>\n",
              "      <td>6.602309</td>\n",
              "      <td>3.267038</td>\n",
              "      <td>2254</td>\n",
              "      <td>4c93872fa25fef3b4c231223</td>\n",
              "    </tr>\n",
              "  </tbody>\n",
              "</table>\n",
              "</div>"
            ],
            "text/plain": [
              "               venue.name  ...                  venue.id\n",
              "0           SHAWARMA.COME  ...  4e261fce315161d79d2a8fa5\n",
              "1             Tantalisers  ...  4ecbf689b6346e2d3a4dead5\n",
              "2        Wings Restaurant  ...  4f75a8e7e4b06c81e0e3ba05\n",
              "3      Ipaja market ipaja  ...  51176f6ce4b05931e449abbc\n",
              "4  De Grange suites & bar  ...  4c93872fa25fef3b4c231223\n",
              "\n",
              "[5 rows x 6 columns]"
            ]
          },
          "metadata": {
            "tags": []
          },
          "execution_count": 182
        }
      ]
    },
    {
      "cell_type": "markdown",
      "metadata": {
        "id": "fYtIW4-_pBAo",
        "colab_type": "text"
      },
      "source": [
        "Lets see the different types of venues present"
      ]
    },
    {
      "cell_type": "code",
      "metadata": {
        "id": "uxrHYnrJpHkj",
        "colab_type": "code",
        "outputId": "a757b360-26c8-49d8-ed8c-3f23599abe23",
        "colab": {
          "base_uri": "https://localhost:8080/",
          "height": 130
        }
      },
      "source": [
        "alimosho_cat_count = alimosho_venues.groupby('venue.categories').size().to_frame()\n",
        "\n",
        "alimosho_cat_count.columns = ['frequency']\n",
        "\n",
        "# Let's see the categories of venues present in the alimosho LGA\n",
        "alimosho_cat_count.T"
      ],
      "execution_count": 0,
      "outputs": [
        {
          "output_type": "execute_result",
          "data": {
            "text/html": [
              "<div>\n",
              "<style scoped>\n",
              "    .dataframe tbody tr th:only-of-type {\n",
              "        vertical-align: middle;\n",
              "    }\n",
              "\n",
              "    .dataframe tbody tr th {\n",
              "        vertical-align: top;\n",
              "    }\n",
              "\n",
              "    .dataframe thead th {\n",
              "        text-align: right;\n",
              "    }\n",
              "</style>\n",
              "<table border=\"1\" class=\"dataframe\">\n",
              "  <thead>\n",
              "    <tr style=\"text-align: right;\">\n",
              "      <th>venue.categories</th>\n",
              "      <th>Airport</th>\n",
              "      <th>Airport Food Court</th>\n",
              "      <th>Airport Lounge</th>\n",
              "      <th>Airport Service</th>\n",
              "      <th>American Restaurant</th>\n",
              "      <th>Athletics &amp; Sports</th>\n",
              "      <th>Bar</th>\n",
              "      <th>Boutique</th>\n",
              "      <th>Burger Joint</th>\n",
              "      <th>Campground</th>\n",
              "      <th>Convenience Store</th>\n",
              "      <th>Department Store</th>\n",
              "      <th>Electronics Store</th>\n",
              "      <th>Farmers Market</th>\n",
              "      <th>Fast Food Restaurant</th>\n",
              "      <th>Heliport</th>\n",
              "      <th>Hotel</th>\n",
              "      <th>Lounge</th>\n",
              "      <th>Market</th>\n",
              "      <th>Park</th>\n",
              "      <th>Pizza Place</th>\n",
              "      <th>Restaurant</th>\n",
              "      <th>Shopping Mall</th>\n",
              "      <th>Soup Place</th>\n",
              "      <th>Wine Shop</th>\n",
              "    </tr>\n",
              "  </thead>\n",
              "  <tbody>\n",
              "    <tr>\n",
              "      <th>frequency</th>\n",
              "      <td>1</td>\n",
              "      <td>1</td>\n",
              "      <td>1</td>\n",
              "      <td>1</td>\n",
              "      <td>1</td>\n",
              "      <td>1</td>\n",
              "      <td>1</td>\n",
              "      <td>1</td>\n",
              "      <td>2</td>\n",
              "      <td>1</td>\n",
              "      <td>1</td>\n",
              "      <td>1</td>\n",
              "      <td>1</td>\n",
              "      <td>1</td>\n",
              "      <td>6</td>\n",
              "      <td>1</td>\n",
              "      <td>2</td>\n",
              "      <td>2</td>\n",
              "      <td>1</td>\n",
              "      <td>2</td>\n",
              "      <td>3</td>\n",
              "      <td>3</td>\n",
              "      <td>2</td>\n",
              "      <td>1</td>\n",
              "      <td>1</td>\n",
              "    </tr>\n",
              "  </tbody>\n",
              "</table>\n",
              "</div>"
            ],
            "text/plain": [
              "venue.categories  Airport  Airport Food Court  ...  Soup Place  Wine Shop\n",
              "frequency               1                   1  ...           1          1\n",
              "\n",
              "[1 rows x 25 columns]"
            ]
          },
          "metadata": {
            "tags": []
          },
          "execution_count": 183
        }
      ]
    },
    {
      "cell_type": "markdown",
      "metadata": {
        "id": "odg7dE_r_sTD",
        "colab_type": "text"
      },
      "source": [
        "Let's create a copy of the original lagos_df so that we can make the LGA its index. this will make our analysis easier"
      ]
    },
    {
      "cell_type": "code",
      "metadata": {
        "id": "xJW3o79-_31G",
        "colab_type": "code",
        "outputId": "2947b75b-bbf7-48c8-fb12-a785c9cd704f",
        "colab": {
          "base_uri": "https://localhost:8080/",
          "height": 225
        }
      },
      "source": [
        "# First let's make a copy of the lagos_df\n",
        "copy_lagos_df = lagos_df.copy(deep=True)  # deep=True means if we make adjustments to this copy, the original won't be affected and vice versa.\n",
        "\n",
        "# Then let's make LGAs the index\n",
        "copy_lagos_df.index = copy_lagos_df.LGA\n",
        "\n",
        "# Let's drop the LGA Column\n",
        "copy_lagos_df = copy_lagos_df.drop('LGA', axis=1)\n",
        "\n",
        "# Lets view the effect\n",
        "copy_lagos_df.head()"
      ],
      "execution_count": 0,
      "outputs": [
        {
          "output_type": "execute_result",
          "data": {
            "text/html": [
              "<div>\n",
              "<style scoped>\n",
              "    .dataframe tbody tr th:only-of-type {\n",
              "        vertical-align: middle;\n",
              "    }\n",
              "\n",
              "    .dataframe tbody tr th {\n",
              "        vertical-align: top;\n",
              "    }\n",
              "\n",
              "    .dataframe thead th {\n",
              "        text-align: right;\n",
              "    }\n",
              "</style>\n",
              "<table border=\"1\" class=\"dataframe\">\n",
              "  <thead>\n",
              "    <tr style=\"text-align: right;\">\n",
              "      <th></th>\n",
              "      <th>POP</th>\n",
              "      <th>latitude</th>\n",
              "      <th>longitude</th>\n",
              "    </tr>\n",
              "    <tr>\n",
              "      <th>LGA</th>\n",
              "      <th></th>\n",
              "      <th></th>\n",
              "      <th></th>\n",
              "    </tr>\n",
              "  </thead>\n",
              "  <tbody>\n",
              "    <tr>\n",
              "      <th>Alimosho</th>\n",
              "      <td>5700714</td>\n",
              "      <td>6.58434</td>\n",
              "      <td>3.257631</td>\n",
              "    </tr>\n",
              "    <tr>\n",
              "      <th>Ajeromi-Ifelodun</th>\n",
              "      <td>1746634</td>\n",
              "      <td>6.45512</td>\n",
              "      <td>3.335946</td>\n",
              "    </tr>\n",
              "    <tr>\n",
              "      <th>Kosofe</th>\n",
              "      <td>665998</td>\n",
              "      <td>6.58197</td>\n",
              "      <td>3.414836</td>\n",
              "    </tr>\n",
              "    <tr>\n",
              "      <th>Mushin, Lagos</th>\n",
              "      <td>633543</td>\n",
              "      <td>6.53263</td>\n",
              "      <td>3.352022</td>\n",
              "    </tr>\n",
              "    <tr>\n",
              "      <th>Oshodi-Isolo</th>\n",
              "      <td>621789</td>\n",
              "      <td>6.54001</td>\n",
              "      <td>3.312415</td>\n",
              "    </tr>\n",
              "  </tbody>\n",
              "</table>\n",
              "</div>"
            ],
            "text/plain": [
              "                      POP latitude  longitude\n",
              "LGA                                          \n",
              "Alimosho          5700714  6.58434   3.257631\n",
              "Ajeromi-Ifelodun  1746634  6.45512   3.335946\n",
              "Kosofe             665998  6.58197   3.414836\n",
              "Mushin, Lagos      633543  6.53263   3.352022\n",
              "Oshodi-Isolo       621789  6.54001   3.312415"
            ]
          },
          "metadata": {
            "tags": []
          },
          "execution_count": 184
        }
      ]
    },
    {
      "cell_type": "markdown",
      "metadata": {
        "id": "HYTrN7C26EBP",
        "colab_type": "text"
      },
      "source": [
        "<h3>Next let's encapsulate all these steps into a single method that we can call</h3>"
      ]
    },
    {
      "cell_type": "markdown",
      "metadata": {
        "id": "ABkhsHFy673f",
        "colab_type": "text"
      },
      "source": [
        "First let's define a method for plotting each map"
      ]
    },
    {
      "cell_type": "code",
      "metadata": {
        "id": "lKUnyNhM6sR4",
        "colab_type": "code",
        "colab": {}
      },
      "source": [
        "def plot_map(lga):\n",
        "    \"\"\" This method takes an LGA name and\n",
        "    returns a plotted map of it based on lat and lon\"\"\"\n",
        "    lat = copy_lagos_df.loc[lga, 'latitude']\n",
        "    lon = copy_lagos_df.loc[lga, 'longitude']\n",
        "    \n",
        "    # create map of lga using latitude and longitude values\n",
        "    map_lga = folium.Map(location=[lat, lon], zoom_start=14)\n",
        "\n",
        "    # add markers to map\n",
        "\n",
        "    label = \"{}\".format(lga)\n",
        "    label = folium.Popup(label, parse_html=True)\n",
        "    folium.CircleMarker(\n",
        "        [lat, lon],\n",
        "        radius=10,\n",
        "        popup=label,\n",
        "        color='blue',\n",
        "        fill=True,\n",
        "        fill_color='#3186cc',\n",
        "        fill_opacity=0.8,\n",
        "        parse_html=False).add_to(map_lga)  \n",
        "    return map_lga"
      ],
      "execution_count": 0,
      "outputs": []
    },
    {
      "cell_type": "markdown",
      "metadata": {
        "id": "RtnXsY6hDS4d",
        "colab_type": "text"
      },
      "source": [
        "Next let's define a method that returns a filtered out version of up to 200 popular venues within 10KM radius of each LGA"
      ]
    },
    {
      "cell_type": "code",
      "metadata": {
        "id": "G1cZ-FIzDdZW",
        "colab_type": "code",
        "colab": {}
      },
      "source": [
        "def return_venues(lga):\n",
        "    \n",
        "    # let's save the latitude and longitude values\n",
        "    lat = copy_lagos_df.loc[lga, 'latitude']\n",
        "    lon = copy_lagos_df.loc[lga, 'longitude']\n",
        "    \n",
        "    # First lets save the foursquare credentials\n",
        "    CLIENT_ID = 'L2XUYCRD44VP2YBDMZ3XY0Z4XKO1JODM5SMG3IIYRZ5330FD' # your Foursquare ID\n",
        "    CLIENT_SECRET = '5KI00FG4RT2VJQTIDPXFY1N4AOKTIXLIZEAO0AHPP3DPD0U1' # your Foursquare Secret\n",
        "    VERSION = '20190902'\n",
        "    \n",
        "    # Now, let's get the top 200 venues that are in the first entry within a radius of 10 Kilometers.\n",
        "    radius = 10000 # 10,000 meters is 10KM\n",
        "    LIMIT=200  # no more than 200 venues\n",
        "    url = 'https://api.foursquare.com/v2/venues/explore?&client_id={}&client_secret={}&v={}&ll={},{}&radius={}&limit={}'.format(\n",
        "        CLIENT_ID, \n",
        "        CLIENT_SECRET, \n",
        "        VERSION, \n",
        "        lat, \n",
        "        lon, \n",
        "        radius, \n",
        "        LIMIT)\n",
        "    \n",
        "    # Let's filter out the result\n",
        "    result = requests.get(url).json()\n",
        "    \n",
        "    # From the result, lets get the venues\n",
        "    venues = result['response']['groups'][0]['items']\n",
        "    \n",
        "    # Lets convert the json files to dataframe\n",
        "    nearby_venues = json_normalize(venues)\n",
        "    \n",
        "    # Let's filter the venues and select only columns needed\n",
        "    filtered_columns = ['venue.name', 'venue.categories', 'venue.location.lat', 'venue.location.lng', 'venue.location.distance', 'venue.id']\n",
        "    nearby_venues = nearby_venues.loc[:, filtered_columns]\n",
        "    \n",
        "    # Next lets use the clean_category method to clean out category column\n",
        "    nearby_venues['venue.categories'] = nearby_venues['venue.categories'].apply(clean_category)\n",
        "\n",
        "    \n",
        "    return nearby_venues"
      ],
      "execution_count": 0,
      "outputs": []
    },
    {
      "cell_type": "markdown",
      "metadata": {
        "id": "lrG-5jbIGgI7",
        "colab_type": "text"
      },
      "source": [
        "Let's see a summary of the total number of venues returned for each LGA, as well as the first 5 venues<br>We shall also extract the lgas with less than i5 venues"
      ]
    },
    {
      "cell_type": "markdown",
      "metadata": {
        "id": "cHhHrcVMFntb",
        "colab_type": "text"
      },
      "source": [
        "Always  be aware that the total venues and types returned will be a function of the day and time the code cell below is run.<br> Normally weekends may return fewer official venues than weekdays and sunday mornings in particular return the least amount of available venues."
      ]
    },
    {
      "cell_type": "code",
      "metadata": {
        "id": "K62WPeptGgxa",
        "colab_type": "code",
        "outputId": "8ab950fa-4f09-4e3c-d283-f4cccd680239",
        "colab": {
          "base_uri": "https://localhost:8080/",
          "height": 1000
        }
      },
      "source": [
        "# first let's create a list of lgas with <= 15 venues to be excluded from our analysis\n",
        "lga_exclusion_list = []\n",
        "\n",
        "for i in range(len(copy_lagos_df)):\n",
        "    x = copy_lagos_df.index[i]\n",
        "    z = x\n",
        "    x+='_lga_venues'\n",
        "    y = return_venues(copy_lagos_df.index[i])\n",
        "\n",
        "    print('Total number of venues returned for {} is {}'.format(x, len(y)))\n",
        "    # if total venues returned per lga is less than 15 add to exclusion list\n",
        "    if len(y) <= 15:\n",
        "        lga_exclusion_list.append(z)\n",
        "\n",
        "    print(y.head())\n",
        "    print()\n",
        "print('LGAs to be possibly excluded due to low venues count are:- ')\n",
        "print(lga_exclusion_list)"
      ],
      "execution_count": 0,
      "outputs": [
        {
          "output_type": "stream",
          "text": [
            "Total number of venues returned for Alimosho_lga_venues is 39\n",
            "               venue.name  ...                  venue.id\n",
            "0           SHAWARMA.COME  ...  4e261fce315161d79d2a8fa5\n",
            "1             Tantalisers  ...  4ecbf689b6346e2d3a4dead5\n",
            "2        Wings Restaurant  ...  4f75a8e7e4b06c81e0e3ba05\n",
            "3      Ipaja market ipaja  ...  51176f6ce4b05931e449abbc\n",
            "4  De Grange suites & bar  ...  4c93872fa25fef3b4c231223\n",
            "\n",
            "[5 rows x 6 columns]\n",
            "\n",
            "Total number of venues returned for Ajeromi-Ifelodun_lga_venues is 59\n",
            "                        venue.name  ...                  venue.id\n",
            "0  Mega Chicken Chinese Restaurant  ...  54ce24ae498e6f49a707f987\n",
            "1                   Rockview Hotel  ...  4e1cbebe7d8b8fe8c30af7b0\n",
            "2                Film House Cinema  ...  50ccbc9ce4b0d07024dd14f4\n",
            "3                Pool Golden Tulip  ...  5139ec67e4b06ad169780e29\n",
            "4            tank and tummy festac  ...  4d4ea5e9ae4e60fce52c02a2\n",
            "\n",
            "[5 rows x 6 columns]\n",
            "\n",
            "Total number of venues returned for Kosofe_lga_venues is 79\n",
            "                       venue.name  ...                  venue.id\n",
            "0           De Prince Supermarket  ...  4fce4c1ae4b0d4988249ad4a\n",
            "1                 Mende Suya Spot  ...  4c5af9572091a593d5b160d0\n",
            "2                   Maryland Mall  ...  57767482498e1b23fc39b866\n",
            "3    Zen Garden Chinese Resturant  ...  4cbb0b289552b60c6994dd8b\n",
            "4  The Londoners Bar & Restaurant  ...  4da4afbcb1c9370496db15a2\n",
            "\n",
            "[5 rows x 6 columns]\n",
            "\n",
            "Total number of venues returned for Mushin, Lagos_lga_venues is 100\n",
            "        venue.name  ...                  venue.id\n",
            "0      KFC Ilupeju  ...  50605618e4b010db7403ba92\n",
            "1        CKDigital  ...  51e4a11c498ed6f7bfaff09f\n",
            "2             Spar  ...  5701078acd102e9eccf3890f\n",
            "3      Bar Enclave  ...  4d3c661405b8721ef3f98b37\n",
            "4  Cakes and Cream  ...  4e903b55d22dccc37eac32c3\n",
            "\n",
            "[5 rows x 6 columns]\n",
            "\n",
            "Total number of venues returned for Oshodi-Isolo_lga_venues is 100\n",
            "                       venue.name  ...                  venue.id\n",
            "0                  Shoprite Ikeja  ...  4ef0a1a502d50bd85776d3f6\n",
            "1                Wings Restaurant  ...  4f75a8e7e4b06c81e0e3ba05\n",
            "2                     KFC Ilupeju  ...  50605618e4b010db7403ba92\n",
            "3  The Londoners Bar & Restaurant  ...  4da4afbcb1c9370496db15a2\n",
            "4                       CKDigital  ...  51e4a11c498ed6f7bfaff09f\n",
            "\n",
            "[5 rows x 6 columns]\n",
            "\n",
            "Total number of venues returned for Ojo_lga_venues is 4\n",
            "             venue.name  ...                  venue.id\n",
            "0               Al Humo  ...  5075bb61e4b0c5298eb9261a\n",
            "1     Hotel Marli Plaza  ...  51dcc711498ef05519f7ef99\n",
            "2  Parque Central Mocoa  ...  503b80a9e4b00145171241b3\n",
            "3         Hotel Rahsmel  ...  58ec16aefebfbd7d11bac12d\n",
            "\n",
            "[4 rows x 6 columns]\n",
            "\n",
            "Total number of venues returned for Ikorodu_lga_venues is 10\n",
            "          venue.name  ...                  venue.id\n",
            "0        Pizza House  ...  5405bb8b498eeb9671ebbe62\n",
            "1  Fatmot Restaurant  ...  50374439e4b05b4c79f8f7da\n",
            "2    Mambillah Hotel  ...  5094707ee4b0f94e040193b3\n",
            "3       Tipsy Lounge  ...  4e3d8ad218a83d5b28459620\n",
            "4            Magidun  ...  4e68b861c65be3a5650f09d6\n",
            "\n",
            "[5 rows x 6 columns]\n",
            "\n",
            "Total number of venues returned for Surulere_lga_venues is 88\n",
            "          venue.name  ...                  venue.id\n",
            "0  Film House Cinema  ...  50ccbc9ce4b0d07024dd14f4\n",
            "1   Filmhouse Cinema  ...  51c46f3d498efee47e5563a5\n",
            "2       Leisure Mall  ...  50ccbb66e4b0373cc146a483\n",
            "3       Olaiya Amala  ...  4f64f3e7e4b03a7ce173376d\n",
            "4        White House  ...  4d344e1098336dcb474236f0\n",
            "\n",
            "[5 rows x 6 columns]\n",
            "\n",
            "Total number of venues returned for Agege_lga_venues is 91\n",
            "             venue.name  ...                  venue.id\n",
            "0           SmartieMart  ...  4e10a71a1495c8d31bbfb4d3\n",
            "1  Tastee Fried Chicken  ...  4fc70e25e4b0d7c765050bf1\n",
            "2     New Afrika Shrine  ...  515eecc5e4b04e50b0bac6eb\n",
            "3  Tastee Fried Chicken  ...  56c0a978cd109d4ce6961b15\n",
            "4   Cold Stone Creamery  ...  51fd1472498ef59d5eeba984\n",
            "\n",
            "[5 rows x 6 columns]\n",
            "\n",
            "Total number of venues returned for Ifako-Ijaiye_lga_venues is 62\n",
            "             venue.name  ...                  venue.id\n",
            "0   justrite superstore  ...  504e05c7e4b04977df63d6ba\n",
            "1           Tantalisers  ...  4ecbf689b6346e2d3a4dead5\n",
            "2  Tastee Fried Chicken  ...  4fc70e25e4b0d7c765050bf1\n",
            "3           SmartieMart  ...  4e10a71a1495c8d31bbfb4d3\n",
            "4         SHAWARMA.COME  ...  4e261fce315161d79d2a8fa5\n",
            "\n",
            "[5 rows x 6 columns]\n",
            "\n",
            "Total number of venues returned for Somolu_lga_venues is 18\n",
            "              venue.name  ...                  venue.id\n",
            "0  De Prince Supermarket  ...  4fce4c1ae4b0d4988249ad4a\n",
            "1            Pizza House  ...  5405bb8b498eeb9671ebbe62\n",
            "2                Magidun  ...  4e68b861c65be3a5650f09d6\n",
            "3         Domino's Pizza  ...  552574af498e9338ad7c4479\n",
            "4               Mr Biggs  ...  4ecbd11249015d98b1a3d15e\n",
            "\n",
            "[5 rows x 6 columns]\n",
            "\n",
            "Total number of venues returned for Amuwo-Odofin_lga_venues is 20\n",
            "                        venue.name  ...                  venue.id\n",
            "0               Trade Fair Complex  ...  4c9b4bc8eaa5a1436967d3e4\n",
            "1                     Ilashe beach  ...  50c36e99e4b0fac7b1e0c5dc\n",
            "2                Pool Golden Tulip  ...  5139ec67e4b06ad169780e29\n",
            "3  Mega Chicken Chinese Restaurant  ...  54ce24ae498e6f49a707f987\n",
            "4                        TFC Place  ...  4e89d4ede5faccee5099e029\n",
            "\n",
            "[5 rows x 6 columns]\n",
            "\n",
            "Total number of venues returned for Lagos Mainland_lga_venues is 100\n",
            "                     venue.name  ...                  venue.id\n",
            "0                   White House  ...  4d344e1098336dcb474236f0\n",
            "1             Film House Cinema  ...  50ccbc9ce4b0d07024dd14f4\n",
            "2  The Banana Island Patisserie  ...  51cabaad498eb06f0fdb0340\n",
            "3                 Ozone Cinemas  ...  4de68e0418389f05587cbc03\n",
            "4                       Banilux  ...  4de00f9a3151d414eb1dcfae\n",
            "\n",
            "[5 rows x 6 columns]\n",
            "\n",
            "Total number of venues returned for Ikeja_lga_venues is 91\n",
            "                            venue.name  ...                  venue.id\n",
            "0                  Cold Stone Creamery  ...  51fd1472498ef59d5eeba984\n",
            "1  Best Western Plus Lagos Ikeja Hotel  ...  50a342c2e4b06729d0c1d95d\n",
            "2                            Mr. Price  ...  504248e9e4b0f7ca2c66f37c\n",
            "3                    New Afrika Shrine  ...  515eecc5e4b04e50b0bac6eb\n",
            "4                   University of Suya  ...  4c72b7d59e706dcbe0904b62\n",
            "\n",
            "[5 rows x 6 columns]\n",
            "\n",
            "Total number of venues returned for Eti-Osa_lga_venues is 54\n",
            "                  venue.name  ...                  venue.id\n",
            "0                V.G.C. Park  ...  4d7234f6f7c38cfa5aa0a23d\n",
            "1        Cold Stone Creamery  ...  53f0897a498eec00f0629628\n",
            "2  Lekki Conservation Centre  ...  4bfc3c78b5cd2d7f994531fb\n",
            "3               xovar lounge  ...  51b2667f498e624e770cfe6a\n",
            "4      Friends Colony Estate  ...  4c9242b457e5b60c1776671c\n",
            "\n",
            "[5 rows x 6 columns]\n",
            "\n",
            "Total number of venues returned for Badagry_lga_venues is 5\n",
            "                                   venue.name  ...                  venue.id\n",
            "0                                   Tuse Café  ...  4f92bcb8e4b0e29f54590580\n",
            "1                             Oxygen (O2) Bar  ...  4e08cbfae4cdefcff6e442e4\n",
            "2  Seriki Williams Abass' Brazilian Barracoon  ...  5236f35f11d24cf7aa0c1670\n",
            "3                        Mobee Badagry Museum  ...  4e08dc53d1640223a4a597bd\n",
            "4                   Seriki Abbas Slave Museum  ...  4f96bfd2e4b0b10b9cb6d939\n",
            "\n",
            "[5 rows x 6 columns]\n",
            "\n",
            "Total number of venues returned for Apapa_lga_venues is 100\n",
            "            venue.name  ...                  venue.id\n",
            "0       Rockview Hotel  ...  4e1cbebe7d8b8fe8c30af7b0\n",
            "1         Freedom Park  ...  4fa3a928e4b01208f9529e8e\n",
            "2  Apapa Shopping Mall  ...  5505878c498eb6579786bfd7\n",
            "3      SpicyInc Studio  ...  4fbd1a457716f968e28e0cf2\n",
            "4         Muson Centre  ...  4c57462a7613b7132e1b91ea\n",
            "\n",
            "[5 rows x 6 columns]\n",
            "\n",
            "Total number of venues returned for Lagos Island_lga_venues is 63\n",
            "         venue.name  ...                  venue.id\n",
            "0     Maple Cottage  ...  4d5834d4de8f6dcbcf0e0991\n",
            "1     Banana Island  ...  4c976e836b35a14310ee35dc\n",
            "2      Domino Pizza  ...  506c8746e4b0916d139092dc\n",
            "3  Wheatbaker Hotel  ...  4ed67bbd8231ee8d68e34649\n",
            "4    Filmhouse Imax  ...  57d1a57e498e02fa25dbe90b\n",
            "\n",
            "[5 rows x 6 columns]\n",
            "\n",
            "Total number of venues returned for Epe_lga_venues is 2\n",
            "           venue.name  ...                  venue.id\n",
            "0  Continental Dishes  ...  4bdd62c1be5120a19c72fe70\n",
            "1     Jubilee Chalets  ...  5b1a7343b3c9610039f825c4\n",
            "\n",
            "[2 rows x 6 columns]\n",
            "\n",
            "Total number of venues returned for Ibeju-Lekki_lga_venues is 4\n",
            "               venue.name  ...                  venue.id\n",
            "0             Eleko Beach  ...  4f2538b9e4b06176451d3848\n",
            "1  lakowe lakes golfcourt  ...  51bde98f498ee13d093d3ae3\n",
            "2              Omu Resort  ...  5690f080498e2fa05ac9c2d1\n",
            "3  Olive Estate Lekki FTZ  ...  4bbb019c7421a593b355c440\n",
            "\n",
            "[4 rows x 6 columns]\n",
            "\n",
            "LGAs to be possibly excluded due to low venues count are:- \n",
            "['Ojo', 'Ikorodu', 'Badagry', 'Epe', 'Ibeju-Lekki']\n"
          ],
          "name": "stdout"
        }
      ]
    },
    {
      "cell_type": "markdown",
      "metadata": {
        "id": "nR-o1QHQIn_f",
        "colab_type": "text"
      },
      "source": [
        "Now let's exclude the LGAs with less than 15 venues from our dataframe and future analysis"
      ]
    },
    {
      "cell_type": "code",
      "metadata": {
        "id": "4yOrRGeSLN9v",
        "colab_type": "code",
        "outputId": "2a79d761-fbbc-4cef-8794-353cb506fdb7",
        "colab": {
          "base_uri": "https://localhost:8080/",
          "height": 34
        }
      },
      "source": [
        "len(copy_lagos_df)"
      ],
      "execution_count": 0,
      "outputs": [
        {
          "output_type": "execute_result",
          "data": {
            "text/plain": [
              "20"
            ]
          },
          "metadata": {
            "tags": []
          },
          "execution_count": 188
        }
      ]
    },
    {
      "cell_type": "code",
      "metadata": {
        "id": "BNktvZB3I11o",
        "colab_type": "code",
        "colab": {}
      },
      "source": [
        "# if we have atleast one lga with less than 15 venues, drop it.\n",
        "if len(lga_exclusion_list) >= 1:\n",
        "    copy_lagos_df.drop(index=lga_exclusion_list, inplace=True)"
      ],
      "execution_count": 0,
      "outputs": []
    },
    {
      "cell_type": "markdown",
      "metadata": {
        "id": "SYwHPVoxNbiH",
        "colab_type": "text"
      },
      "source": [
        "Let's confirm the length"
      ]
    },
    {
      "cell_type": "code",
      "metadata": {
        "id": "FBxjt4ivNgsD",
        "colab_type": "code",
        "outputId": "e8763c05-4735-4330-f490-d5c3fa63b6ba",
        "colab": {
          "base_uri": "https://localhost:8080/",
          "height": 34
        }
      },
      "source": [
        "len(copy_lagos_df)"
      ],
      "execution_count": 0,
      "outputs": [
        {
          "output_type": "execute_result",
          "data": {
            "text/plain": [
              "15"
            ]
          },
          "metadata": {
            "tags": []
          },
          "execution_count": 190
        }
      ]
    },
    {
      "cell_type": "markdown",
      "metadata": {
        "id": "SvxdT2pVN1wk",
        "colab_type": "text"
      },
      "source": [
        "Ok, so we now have only lgas left with atleast 15 venues "
      ]
    },
    {
      "cell_type": "markdown",
      "metadata": {
        "id": "tzLCKiN1IxID",
        "colab_type": "text"
      },
      "source": [
        "Let's see the number of venues returned for the second LGA and the first 5 venues"
      ]
    },
    {
      "cell_type": "code",
      "metadata": {
        "id": "mwEx_ncjJu-o",
        "colab_type": "code",
        "outputId": "4fd9f5b3-7e99-4447-c18c-67fbfd82d6e8",
        "colab": {
          "base_uri": "https://localhost:8080/",
          "height": 34
        }
      },
      "source": [
        "# first let's confirm the name\n",
        "copy_lagos_df.index[1]"
      ],
      "execution_count": 0,
      "outputs": [
        {
          "output_type": "execute_result",
          "data": {
            "text/plain": [
              "'Ajeromi-Ifelodun'"
            ]
          },
          "metadata": {
            "tags": []
          },
          "execution_count": 191
        }
      ]
    },
    {
      "cell_type": "code",
      "metadata": {
        "id": "qu3FGwIOG1gE",
        "colab_type": "code",
        "outputId": "fcc8189a-f5f8-4189-fe7a-7921ff26009c",
        "colab": {
          "base_uri": "https://localhost:8080/",
          "height": 212
        }
      },
      "source": [
        "Ajeromi_lga_venues = return_venues(copy_lagos_df.index[1])\n",
        "\n",
        "print('Total number of venues returned is {}'.format(len(Ajeromi_lga_venues)))\n",
        "\n",
        "Ajeromi_lga_venues.head()"
      ],
      "execution_count": 0,
      "outputs": [
        {
          "output_type": "stream",
          "text": [
            "Total number of venues returned is 59\n"
          ],
          "name": "stdout"
        },
        {
          "output_type": "execute_result",
          "data": {
            "text/html": [
              "<div>\n",
              "<style scoped>\n",
              "    .dataframe tbody tr th:only-of-type {\n",
              "        vertical-align: middle;\n",
              "    }\n",
              "\n",
              "    .dataframe tbody tr th {\n",
              "        vertical-align: top;\n",
              "    }\n",
              "\n",
              "    .dataframe thead th {\n",
              "        text-align: right;\n",
              "    }\n",
              "</style>\n",
              "<table border=\"1\" class=\"dataframe\">\n",
              "  <thead>\n",
              "    <tr style=\"text-align: right;\">\n",
              "      <th></th>\n",
              "      <th>venue.name</th>\n",
              "      <th>venue.categories</th>\n",
              "      <th>venue.location.lat</th>\n",
              "      <th>venue.location.lng</th>\n",
              "      <th>venue.location.distance</th>\n",
              "      <th>venue.id</th>\n",
              "    </tr>\n",
              "  </thead>\n",
              "  <tbody>\n",
              "    <tr>\n",
              "      <th>0</th>\n",
              "      <td>Mega Chicken Chinese Restaurant</td>\n",
              "      <td>Chinese Restaurant</td>\n",
              "      <td>6.471061</td>\n",
              "      <td>3.312721</td>\n",
              "      <td>3122</td>\n",
              "      <td>54ce24ae498e6f49a707f987</td>\n",
              "    </tr>\n",
              "    <tr>\n",
              "      <th>1</th>\n",
              "      <td>Rockview Hotel</td>\n",
              "      <td>Hotel</td>\n",
              "      <td>6.448105</td>\n",
              "      <td>3.360831</td>\n",
              "      <td>2861</td>\n",
              "      <td>4e1cbebe7d8b8fe8c30af7b0</td>\n",
              "    </tr>\n",
              "    <tr>\n",
              "      <th>2</th>\n",
              "      <td>Film House Cinema</td>\n",
              "      <td>Multiplex</td>\n",
              "      <td>6.490242</td>\n",
              "      <td>3.357371</td>\n",
              "      <td>4571</td>\n",
              "      <td>50ccbc9ce4b0d07024dd14f4</td>\n",
              "    </tr>\n",
              "    <tr>\n",
              "      <th>3</th>\n",
              "      <td>Pool Golden Tulip</td>\n",
              "      <td>Pool</td>\n",
              "      <td>6.465255</td>\n",
              "      <td>3.302554</td>\n",
              "      <td>3861</td>\n",
              "      <td>5139ec67e4b06ad169780e29</td>\n",
              "    </tr>\n",
              "    <tr>\n",
              "      <th>4</th>\n",
              "      <td>tank and tummy festac</td>\n",
              "      <td>Fast Food Restaurant</td>\n",
              "      <td>6.477172</td>\n",
              "      <td>3.332893</td>\n",
              "      <td>2477</td>\n",
              "      <td>4d4ea5e9ae4e60fce52c02a2</td>\n",
              "    </tr>\n",
              "  </tbody>\n",
              "</table>\n",
              "</div>"
            ],
            "text/plain": [
              "                        venue.name  ...                  venue.id\n",
              "0  Mega Chicken Chinese Restaurant  ...  54ce24ae498e6f49a707f987\n",
              "1                   Rockview Hotel  ...  4e1cbebe7d8b8fe8c30af7b0\n",
              "2                Film House Cinema  ...  50ccbc9ce4b0d07024dd14f4\n",
              "3                Pool Golden Tulip  ...  5139ec67e4b06ad169780e29\n",
              "4            tank and tummy festac  ...  4d4ea5e9ae4e60fce52c02a2\n",
              "\n",
              "[5 rows x 6 columns]"
            ]
          },
          "metadata": {
            "tags": []
          },
          "execution_count": 192
        }
      ]
    },
    {
      "cell_type": "markdown",
      "metadata": {
        "id": "rMuI2phKS9Ex",
        "colab_type": "text"
      },
      "source": [
        "Let's see the different types of venues present"
      ]
    },
    {
      "cell_type": "code",
      "metadata": {
        "id": "M4ZkDkb4TCbW",
        "colab_type": "code",
        "outputId": "13d17d9c-035f-4432-bc3b-729dd5810333",
        "colab": {
          "base_uri": "https://localhost:8080/",
          "height": 130
        }
      },
      "source": [
        "Ajeromi_cat_count = Ajeromi_lga_venues.groupby('venue.categories').size().to_frame()\n",
        "\n",
        "Ajeromi_cat_count.columns = ['frequency']\n",
        "\n",
        "# Let's see the categories of venues present in the alimosho LGA\n",
        "Ajeromi_cat_count.T"
      ],
      "execution_count": 0,
      "outputs": [
        {
          "output_type": "execute_result",
          "data": {
            "text/html": [
              "<div>\n",
              "<style scoped>\n",
              "    .dataframe tbody tr th:only-of-type {\n",
              "        vertical-align: middle;\n",
              "    }\n",
              "\n",
              "    .dataframe tbody tr th {\n",
              "        vertical-align: top;\n",
              "    }\n",
              "\n",
              "    .dataframe thead th {\n",
              "        text-align: right;\n",
              "    }\n",
              "</style>\n",
              "<table border=\"1\" class=\"dataframe\">\n",
              "  <thead>\n",
              "    <tr style=\"text-align: right;\">\n",
              "      <th>venue.categories</th>\n",
              "      <th>African Restaurant</th>\n",
              "      <th>Art Gallery</th>\n",
              "      <th>Asian Restaurant</th>\n",
              "      <th>Bagel Shop</th>\n",
              "      <th>Bar</th>\n",
              "      <th>Beach</th>\n",
              "      <th>Breakfast Spot</th>\n",
              "      <th>Chinese Restaurant</th>\n",
              "      <th>Cocktail Bar</th>\n",
              "      <th>Convention Center</th>\n",
              "      <th>Cupcake Shop</th>\n",
              "      <th>Department Store</th>\n",
              "      <th>Diner</th>\n",
              "      <th>Fast Food Restaurant</th>\n",
              "      <th>Flea Market</th>\n",
              "      <th>Grocery Store</th>\n",
              "      <th>Gym / Fitness Center</th>\n",
              "      <th>Hotel</th>\n",
              "      <th>Ice Cream Shop</th>\n",
              "      <th>Italian Restaurant</th>\n",
              "      <th>Japanese Restaurant</th>\n",
              "      <th>Lounge</th>\n",
              "      <th>Market</th>\n",
              "      <th>Mediterranean Restaurant</th>\n",
              "      <th>Modern European Restaurant</th>\n",
              "      <th>Movie Theater</th>\n",
              "      <th>Multiplex</th>\n",
              "      <th>Music Venue</th>\n",
              "      <th>Nightclub</th>\n",
              "      <th>Park</th>\n",
              "      <th>Photography Studio</th>\n",
              "      <th>Pizza Place</th>\n",
              "      <th>Pool</th>\n",
              "      <th>Pub</th>\n",
              "      <th>Restaurant</th>\n",
              "      <th>Shopping Mall</th>\n",
              "      <th>Soccer Field</th>\n",
              "      <th>Stables</th>\n",
              "      <th>Supermarket</th>\n",
              "    </tr>\n",
              "  </thead>\n",
              "  <tbody>\n",
              "    <tr>\n",
              "      <th>frequency</th>\n",
              "      <td>5</td>\n",
              "      <td>2</td>\n",
              "      <td>2</td>\n",
              "      <td>1</td>\n",
              "      <td>1</td>\n",
              "      <td>1</td>\n",
              "      <td>1</td>\n",
              "      <td>2</td>\n",
              "      <td>1</td>\n",
              "      <td>1</td>\n",
              "      <td>1</td>\n",
              "      <td>1</td>\n",
              "      <td>1</td>\n",
              "      <td>2</td>\n",
              "      <td>1</td>\n",
              "      <td>1</td>\n",
              "      <td>1</td>\n",
              "      <td>5</td>\n",
              "      <td>1</td>\n",
              "      <td>1</td>\n",
              "      <td>2</td>\n",
              "      <td>3</td>\n",
              "      <td>1</td>\n",
              "      <td>1</td>\n",
              "      <td>1</td>\n",
              "      <td>2</td>\n",
              "      <td>1</td>\n",
              "      <td>1</td>\n",
              "      <td>2</td>\n",
              "      <td>2</td>\n",
              "      <td>1</td>\n",
              "      <td>2</td>\n",
              "      <td>1</td>\n",
              "      <td>1</td>\n",
              "      <td>1</td>\n",
              "      <td>2</td>\n",
              "      <td>1</td>\n",
              "      <td>1</td>\n",
              "      <td>1</td>\n",
              "    </tr>\n",
              "  </tbody>\n",
              "</table>\n",
              "</div>"
            ],
            "text/plain": [
              "venue.categories  African Restaurant  Art Gallery  ...  Stables  Supermarket\n",
              "frequency                          5            2  ...        1            1\n",
              "\n",
              "[1 rows x 39 columns]"
            ]
          },
          "metadata": {
            "tags": []
          },
          "execution_count": 193
        }
      ]
    },
    {
      "cell_type": "markdown",
      "metadata": {
        "id": "a4GBvlH_K4fL",
        "colab_type": "text"
      },
      "source": [
        "Let's plot the map of 'Ajeromi-LgA'"
      ]
    },
    {
      "cell_type": "code",
      "metadata": {
        "id": "zCTGZ8ejLBmc",
        "colab_type": "code",
        "outputId": "ce45b013-46e7-47b6-850b-e2ae0f0519a3",
        "colab": {
          "base_uri": "https://localhost:8080/",
          "height": 858
        }
      },
      "source": [
        "plot_map(copy_lagos_df.index[1])"
      ],
      "execution_count": 0,
      "outputs": [
        {
          "output_type": "execute_result",
          "data": {
            "text/html": [
              "<div style=\"width:100%;\"><div style=\"position:relative;width:100%;height:0;padding-bottom:60%;\"><iframe src=\"data:text/html;charset=utf-8;base64,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\" style=\"position:absolute;width:100%;height:100%;left:0;top:0;border:none !important;\" allowfullscreen webkitallowfullscreen mozallowfullscreen></iframe></div></div>"
            ],
            "text/plain": [
              "<folium.folium.Map at 0x7fb59c784240>"
            ]
          },
          "metadata": {
            "tags": []
          },
          "execution_count": 194
        }
      ]
    },
    {
      "cell_type": "markdown",
      "metadata": {
        "id": "u1PK6dwUJoEo",
        "colab_type": "text"
      },
      "source": [
        "Next let's see the number of venues returned for the third LGA and the first 5 venues"
      ]
    },
    {
      "cell_type": "code",
      "metadata": {
        "id": "viR1nSvXG1d0",
        "colab_type": "code",
        "outputId": "93be0dad-e2e8-4dd2-d39e-e6fdb9abe4b6",
        "colab": {
          "base_uri": "https://localhost:8080/",
          "height": 34
        }
      },
      "source": [
        "# First let's confirm the name\n",
        "copy_lagos_df.index[2]"
      ],
      "execution_count": 0,
      "outputs": [
        {
          "output_type": "execute_result",
          "data": {
            "text/plain": [
              "'Kosofe'"
            ]
          },
          "metadata": {
            "tags": []
          },
          "execution_count": 195
        }
      ]
    },
    {
      "cell_type": "code",
      "metadata": {
        "id": "uxGxE8KkKPMu",
        "colab_type": "code",
        "outputId": "2d6e42a5-dfa5-433d-ff94-513cf41d4be7",
        "colab": {
          "base_uri": "https://localhost:8080/",
          "height": 212
        }
      },
      "source": [
        "Kosofe_lga_venues = return_venues(copy_lagos_df.index[2])\n",
        "\n",
        "print('Total number of venues returned is {}'.format(len(Kosofe_lga_venues)))\n",
        "\n",
        "Kosofe_lga_venues.head()"
      ],
      "execution_count": 0,
      "outputs": [
        {
          "output_type": "stream",
          "text": [
            "Total number of venues returned is 79\n"
          ],
          "name": "stdout"
        },
        {
          "output_type": "execute_result",
          "data": {
            "text/html": [
              "<div>\n",
              "<style scoped>\n",
              "    .dataframe tbody tr th:only-of-type {\n",
              "        vertical-align: middle;\n",
              "    }\n",
              "\n",
              "    .dataframe tbody tr th {\n",
              "        vertical-align: top;\n",
              "    }\n",
              "\n",
              "    .dataframe thead th {\n",
              "        text-align: right;\n",
              "    }\n",
              "</style>\n",
              "<table border=\"1\" class=\"dataframe\">\n",
              "  <thead>\n",
              "    <tr style=\"text-align: right;\">\n",
              "      <th></th>\n",
              "      <th>venue.name</th>\n",
              "      <th>venue.categories</th>\n",
              "      <th>venue.location.lat</th>\n",
              "      <th>venue.location.lng</th>\n",
              "      <th>venue.location.distance</th>\n",
              "      <th>venue.id</th>\n",
              "    </tr>\n",
              "  </thead>\n",
              "  <tbody>\n",
              "    <tr>\n",
              "      <th>0</th>\n",
              "      <td>De Prince Supermarket</td>\n",
              "      <td>Department Store</td>\n",
              "      <td>6.554255</td>\n",
              "      <td>3.388933</td>\n",
              "      <td>4210</td>\n",
              "      <td>4fce4c1ae4b0d4988249ad4a</td>\n",
              "    </tr>\n",
              "    <tr>\n",
              "      <th>1</th>\n",
              "      <td>Mende Suya Spot</td>\n",
              "      <td>BBQ Joint</td>\n",
              "      <td>6.568890</td>\n",
              "      <td>3.371953</td>\n",
              "      <td>4960</td>\n",
              "      <td>4c5af9572091a593d5b160d0</td>\n",
              "    </tr>\n",
              "    <tr>\n",
              "      <th>2</th>\n",
              "      <td>Maryland Mall</td>\n",
              "      <td>Shopping Mall</td>\n",
              "      <td>6.567211</td>\n",
              "      <td>3.367269</td>\n",
              "      <td>5511</td>\n",
              "      <td>57767482498e1b23fc39b866</td>\n",
              "    </tr>\n",
              "    <tr>\n",
              "      <th>3</th>\n",
              "      <td>Zen Garden Chinese Resturant</td>\n",
              "      <td>Chinese Restaurant</td>\n",
              "      <td>6.585504</td>\n",
              "      <td>3.357131</td>\n",
              "      <td>6393</td>\n",
              "      <td>4cbb0b289552b60c6994dd8b</td>\n",
              "    </tr>\n",
              "    <tr>\n",
              "      <th>4</th>\n",
              "      <td>The Londoners Bar &amp; Restaurant</td>\n",
              "      <td>Bar</td>\n",
              "      <td>6.573301</td>\n",
              "      <td>3.357092</td>\n",
              "      <td>6458</td>\n",
              "      <td>4da4afbcb1c9370496db15a2</td>\n",
              "    </tr>\n",
              "  </tbody>\n",
              "</table>\n",
              "</div>"
            ],
            "text/plain": [
              "                       venue.name  ...                  venue.id\n",
              "0           De Prince Supermarket  ...  4fce4c1ae4b0d4988249ad4a\n",
              "1                 Mende Suya Spot  ...  4c5af9572091a593d5b160d0\n",
              "2                   Maryland Mall  ...  57767482498e1b23fc39b866\n",
              "3    Zen Garden Chinese Resturant  ...  4cbb0b289552b60c6994dd8b\n",
              "4  The Londoners Bar & Restaurant  ...  4da4afbcb1c9370496db15a2\n",
              "\n",
              "[5 rows x 6 columns]"
            ]
          },
          "metadata": {
            "tags": []
          },
          "execution_count": 196
        }
      ]
    },
    {
      "cell_type": "markdown",
      "metadata": {
        "id": "81G1eulPUP5q",
        "colab_type": "text"
      },
      "source": [
        "Let's see the different types of venues present"
      ]
    },
    {
      "cell_type": "code",
      "metadata": {
        "id": "m9QuygLRUW5x",
        "colab_type": "code",
        "outputId": "da390d11-8c98-474b-8a4c-ae7abcb37ff5",
        "colab": {
          "base_uri": "https://localhost:8080/",
          "height": 130
        }
      },
      "source": [
        "Kosofe_cat_count = Kosofe_lga_venues.groupby('venue.categories').size().to_frame()\n",
        "\n",
        "Kosofe_cat_count.columns = ['frequency']\n",
        "\n",
        "# Let's see the categories of venues present in the alimosho LGA\n",
        "Kosofe_cat_count.T"
      ],
      "execution_count": 0,
      "outputs": [
        {
          "output_type": "execute_result",
          "data": {
            "text/html": [
              "<div>\n",
              "<style scoped>\n",
              "    .dataframe tbody tr th:only-of-type {\n",
              "        vertical-align: middle;\n",
              "    }\n",
              "\n",
              "    .dataframe tbody tr th {\n",
              "        vertical-align: top;\n",
              "    }\n",
              "\n",
              "    .dataframe thead th {\n",
              "        text-align: right;\n",
              "    }\n",
              "</style>\n",
              "<table border=\"1\" class=\"dataframe\">\n",
              "  <thead>\n",
              "    <tr style=\"text-align: right;\">\n",
              "      <th>venue.categories</th>\n",
              "      <th>African Restaurant</th>\n",
              "      <th>Airport</th>\n",
              "      <th>Airport Food Court</th>\n",
              "      <th>Airport Terminal</th>\n",
              "      <th>American Restaurant</th>\n",
              "      <th>BBQ Joint</th>\n",
              "      <th>Bagel Shop</th>\n",
              "      <th>Bakery</th>\n",
              "      <th>Bar</th>\n",
              "      <th>Beach</th>\n",
              "      <th>Beer Garden</th>\n",
              "      <th>Café</th>\n",
              "      <th>Chinese Restaurant</th>\n",
              "      <th>Clothing Store</th>\n",
              "      <th>Coffee Shop</th>\n",
              "      <th>Convenience Store</th>\n",
              "      <th>Cupcake Shop</th>\n",
              "      <th>Department Store</th>\n",
              "      <th>Electronics Store</th>\n",
              "      <th>Fast Food Restaurant</th>\n",
              "      <th>Flea Market</th>\n",
              "      <th>Heliport</th>\n",
              "      <th>Hotel</th>\n",
              "      <th>IT Services</th>\n",
              "      <th>Ice Cream Shop</th>\n",
              "      <th>Lounge</th>\n",
              "      <th>Luggage Store</th>\n",
              "      <th>Men's Store</th>\n",
              "      <th>Movie Theater</th>\n",
              "      <th>Multiplex</th>\n",
              "      <th>Nightclub</th>\n",
              "      <th>Performing Arts Venue</th>\n",
              "      <th>Pizza Place</th>\n",
              "      <th>Pool</th>\n",
              "      <th>Restaurant</th>\n",
              "      <th>Shopping Mall</th>\n",
              "      <th>Soup Place</th>\n",
              "      <th>Spa</th>\n",
              "      <th>Steakhouse</th>\n",
              "    </tr>\n",
              "  </thead>\n",
              "  <tbody>\n",
              "    <tr>\n",
              "      <th>frequency</th>\n",
              "      <td>4</td>\n",
              "      <td>1</td>\n",
              "      <td>1</td>\n",
              "      <td>1</td>\n",
              "      <td>1</td>\n",
              "      <td>3</td>\n",
              "      <td>1</td>\n",
              "      <td>2</td>\n",
              "      <td>3</td>\n",
              "      <td>1</td>\n",
              "      <td>1</td>\n",
              "      <td>1</td>\n",
              "      <td>3</td>\n",
              "      <td>1</td>\n",
              "      <td>1</td>\n",
              "      <td>4</td>\n",
              "      <td>1</td>\n",
              "      <td>3</td>\n",
              "      <td>1</td>\n",
              "      <td>6</td>\n",
              "      <td>1</td>\n",
              "      <td>1</td>\n",
              "      <td>3</td>\n",
              "      <td>1</td>\n",
              "      <td>3</td>\n",
              "      <td>2</td>\n",
              "      <td>1</td>\n",
              "      <td>1</td>\n",
              "      <td>1</td>\n",
              "      <td>1</td>\n",
              "      <td>5</td>\n",
              "      <td>1</td>\n",
              "      <td>4</td>\n",
              "      <td>1</td>\n",
              "      <td>3</td>\n",
              "      <td>6</td>\n",
              "      <td>1</td>\n",
              "      <td>1</td>\n",
              "      <td>2</td>\n",
              "    </tr>\n",
              "  </tbody>\n",
              "</table>\n",
              "</div>"
            ],
            "text/plain": [
              "venue.categories  African Restaurant  Airport  ...  Spa  Steakhouse\n",
              "frequency                          4        1  ...    1           2\n",
              "\n",
              "[1 rows x 39 columns]"
            ]
          },
          "metadata": {
            "tags": []
          },
          "execution_count": 197
        }
      ]
    },
    {
      "cell_type": "markdown",
      "metadata": {
        "id": "Kgl7Jig7Ld3o",
        "colab_type": "text"
      },
      "source": [
        "Now let's plot the map of Kosofe LGA"
      ]
    },
    {
      "cell_type": "code",
      "metadata": {
        "id": "d0HVjqF8LaMZ",
        "colab_type": "code",
        "outputId": "da6f7a12-3280-44ef-e846-863ea290e49d",
        "colab": {
          "base_uri": "https://localhost:8080/",
          "height": 858
        }
      },
      "source": [
        "plot_map(copy_lagos_df.index[2])"
      ],
      "execution_count": 0,
      "outputs": [
        {
          "output_type": "execute_result",
          "data": {
            "text/html": [
              "<div style=\"width:100%;\"><div style=\"position:relative;width:100%;height:0;padding-bottom:60%;\"><iframe src=\"data:text/html;charset=utf-8;base64,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\" style=\"position:absolute;width:100%;height:100%;left:0;top:0;border:none !important;\" allowfullscreen webkitallowfullscreen mozallowfullscreen></iframe></div></div>"
            ],
            "text/plain": [
              "<folium.folium.Map at 0x7fb59c808d68>"
            ]
          },
          "metadata": {
            "tags": []
          },
          "execution_count": 198
        }
      ]
    },
    {
      "cell_type": "markdown",
      "metadata": {
        "id": "mWnjgHrUs3nS",
        "colab_type": "text"
      },
      "source": [
        "We can repeat the above steps for all the remaining LGAs, but remember our task is to find the ideal LGA location for a Tech start-up.<br>So we need to be smart about it.<br> I believe we need to get the venues returned by each LGA and a total list of venue categories.<br>Then we compare each LGA venues to the categories of venues we care about."
      ]
    },
    {
      "cell_type": "markdown",
      "metadata": {
        "id": "pq2YB1aEdYRW",
        "colab_type": "text"
      },
      "source": [
        "So first, let's define a method that converts the venue categories in each LGA to small case and adds it to a set. So that we can get a set of all available venue categories in our dataframe. "
      ]
    },
    {
      "cell_type": "markdown",
      "metadata": {
        "id": "d2xPtXcxQwJS",
        "colab_type": "text"
      },
      "source": [
        "The essence of converting each category name to all small case is just incase one category exists in upper and lower case some where. So that it won't be added as 2 categories"
      ]
    },
    {
      "cell_type": "code",
      "metadata": {
        "id": "3k0o_QDLdHas",
        "colab_type": "code",
        "colab": {}
      },
      "source": [
        "def store_venue_categories(df):\n",
        "    venue_set = set()\n",
        "    for lga in df.index:\n",
        "        df_lga = return_venues(lga)\n",
        "        # Converting each category name to lower case using a list comprehension\n",
        "        df_lga['venue.categories'] = [x.lower() for x in list(df_lga['venue.categories'])]\n",
        "        # Add each converted name to a set to avoid any possible duplicates\n",
        "        for category in df_lga['venue.categories']:\n",
        "            venue_set.add(category)\n",
        "    # Finally return a list of all venue categories in our DataFrame.\n",
        "    return list(venue_set)"
      ],
      "execution_count": 0,
      "outputs": []
    },
    {
      "cell_type": "code",
      "metadata": {
        "id": "3EI1jfV-HsiH",
        "colab_type": "code",
        "colab": {}
      },
      "source": [
        "all_venue_categories = store_venue_categories(copy_lagos_df)"
      ],
      "execution_count": 0,
      "outputs": []
    },
    {
      "cell_type": "markdown",
      "metadata": {
        "id": "raVFi9wkyKqw",
        "colab_type": "text"
      },
      "source": [
        "Let's see all the categories of venues listed in our data set"
      ]
    },
    {
      "cell_type": "code",
      "metadata": {
        "id": "zx_X1b2pKgGg",
        "colab_type": "code",
        "outputId": "e57f8606-5372-4ab3-d9c6-80ea492433c9",
        "colab": {
          "base_uri": "https://localhost:8080/",
          "height": 1000
        }
      },
      "source": [
        "print('Total venue categories is: {} categories'.format(len(all_venue_categories)))\n",
        "\n",
        "all_venue_categories"
      ],
      "execution_count": 0,
      "outputs": [
        {
          "output_type": "stream",
          "text": [
            "Total venue categories is: 101 categories\n"
          ],
          "name": "stdout"
        },
        {
          "output_type": "execute_result",
          "data": {
            "text/plain": [
              "['bistro',\n",
              " 'airport',\n",
              " 'gas station',\n",
              " 'fried chicken joint',\n",
              " 'wine shop',\n",
              " 'clothing store',\n",
              " 'coffee shop',\n",
              " 'music venue',\n",
              " 'café',\n",
              " 'bus station',\n",
              " 'luggage store',\n",
              " 'food',\n",
              " 'modern european restaurant',\n",
              " 'restaurant',\n",
              " 'food court',\n",
              " 'flea market',\n",
              " 'department store',\n",
              " 'dessert shop',\n",
              " 'playground',\n",
              " \"men's store\",\n",
              " 'park',\n",
              " 'japanese restaurant',\n",
              " 'theater',\n",
              " 'nightclub',\n",
              " 'market',\n",
              " 'ice cream shop',\n",
              " 'plaza',\n",
              " 'beer garden',\n",
              " 'pier',\n",
              " 'food & drink shop',\n",
              " 'beach',\n",
              " 'performing arts venue',\n",
              " 'supermarket',\n",
              " 'comfort food restaurant',\n",
              " 'auto garage',\n",
              " 'pool hall',\n",
              " 'athletics & sports',\n",
              " 'heliport',\n",
              " 'soccer field',\n",
              " 'photography studio',\n",
              " 'breakfast spot',\n",
              " 'italian restaurant',\n",
              " 'electronics store',\n",
              " 'asian restaurant',\n",
              " 'bakery',\n",
              " 'karaoke bar',\n",
              " 'burger joint',\n",
              " 'pizza place',\n",
              " 'snack place',\n",
              " 'comedy club',\n",
              " 'multiplex',\n",
              " 'gym / fitness center',\n",
              " 'sushi restaurant',\n",
              " 'airport lounge',\n",
              " 'diner',\n",
              " 'american restaurant',\n",
              " 'campground',\n",
              " 'cocktail bar',\n",
              " 'resort',\n",
              " 'bar',\n",
              " 'grocery store',\n",
              " 'indian restaurant',\n",
              " 'mobile phone shop',\n",
              " 'cupcake shop',\n",
              " 'hotel',\n",
              " 'art gallery',\n",
              " 'surf spot',\n",
              " 'stables',\n",
              " 'spa',\n",
              " 'convenience store',\n",
              " 'airport terminal',\n",
              " 'movie theater',\n",
              " 'farmers market',\n",
              " 'brazilian restaurant',\n",
              " 'airport food court',\n",
              " 'fast food restaurant',\n",
              " 'boutique',\n",
              " 'bbq joint',\n",
              " 'it services',\n",
              " 'lounge',\n",
              " 'bike rental / bike share',\n",
              " 'mexican restaurant',\n",
              " 'steakhouse',\n",
              " 'furniture / home store',\n",
              " 'theme restaurant',\n",
              " 'airport service',\n",
              " 'pub',\n",
              " 'baseball stadium',\n",
              " 'soup place',\n",
              " 'convention center',\n",
              " 'sports bar',\n",
              " 'neighborhood',\n",
              " 'golf course',\n",
              " 'chinese restaurant',\n",
              " 'african restaurant',\n",
              " 'bagel shop',\n",
              " 'pool',\n",
              " 'seafood restaurant',\n",
              " 'shopping mall',\n",
              " 'arcade',\n",
              " 'mediterranean restaurant']"
            ]
          },
          "metadata": {
            "tags": []
          },
          "execution_count": 201
        }
      ]
    },
    {
      "cell_type": "markdown",
      "metadata": {
        "id": "64eWUrXLSkpA",
        "colab_type": "text"
      },
      "source": [
        "Next, we need to arrange all categories in order of importance to our analysis. This means categories that are more important be moved up the list, while others are down.<br>\n",
        "First let's group similar venue types together such as coffee shop and cupcake shop"
      ]
    },
    {
      "cell_type": "code",
      "metadata": {
        "id": "ZZefUUYLzB1_",
        "colab_type": "code",
        "colab": {}
      },
      "source": [
        "continental_restaurants = ['italian restaurant', 'modern european restaurant','african restaurant','brazilian restaurant','theme restaurant', \n",
        "                           'mexican restaurant',  'seafood restaurant','american restaurant','mediterranean restaurant','fast food restaurant','japanese restaurant',\n",
        "                           'chinese restaurant','comfort food restaurant','asian restaurant','indian restaurant', 'sushi restaurant','restaurant']\n",
        "\n",
        "eateries = ['bbq joint', 'fried chicken joint', 'food','burger joint' ,'pizza place','steakhouse','food court','soup place','airport food court','food & drink shop',\n",
        "            'breakfast spot','diner']\n",
        "\n",
        "coffee_shops = ['bagel shop','dessert shop', 'café','cupcake shop','coffee shop']\n",
        "\n",
        "gas_stations = ['gas station']\n",
        "\n",
        "ice_cream_n_confectionery = ['snack place','bakery','ice cream shop']\n",
        "\n",
        "hotels_resorts_spas = ['resort','hotel','spa']\n",
        "\n",
        "bars_n_lounges = ['lounge','pub','bar','sports bar','beer garden', 'karaoke bar','cocktail bar','airport lounge']\n",
        "\n",
        "airport = ['airport terminal','airport service']\n",
        "\n",
        "bus_stations = ['bus station']\n",
        "\n",
        "heliport = ['bistro','heliport']\n",
        "\n",
        "it_services_n_hubs = ['it services']\n",
        "\n",
        "shopping_malls_n_stores = ['department store', 'plaza','grocery store','convenience store','supermarket','furniture / home store','shopping mall','wine shop',\n",
        "                           \"men's store\"]\n",
        "\n",
        "gym_sports_facilities_games = ['gym / fitness center','playground','soccer field','arcade','golf course','pool hall','surf spot','pool','baseball stadium',\n",
        "                               'athletics & sports']\n",
        "\n",
        "markets = ['farmers market','market','flea market']\n",
        "\n",
        "fashion_n_clothing = ['boutique','clothing store']\n",
        "\n",
        "arts_studios_galleries = ['comedy club','art gallery','theater','performing arts venue']\n",
        "\n",
        "convention_centers = ['multiplex','convention center']\n",
        "\n",
        "halls_events_venues = ['music venue','campground']\n",
        "\n",
        "night_clubs = ['nightclub']\n",
        "\n",
        "beach = ['beach']\n",
        "\n",
        "parks = ['park']\n",
        "\n",
        "cinemas = ['movie theater']\n",
        "\n",
        "auto_services = ['auto garage']\n",
        "\n",
        "electronics_shop = ['mobile phone shop','electronics store']\n",
        "\n",
        "residences = ['neighborhood']\n",
        "\n",
        "other_services = ['stables','photography studio','pier','luggage store','bike rental / bike share']"
      ],
      "execution_count": 0,
      "outputs": []
    },
    {
      "cell_type": "markdown",
      "metadata": {
        "id": "QQx5ljs8s4OE",
        "colab_type": "text"
      },
      "source": [
        "Let's now create a super list that stores each category list above in a list"
      ]
    },
    {
      "cell_type": "code",
      "metadata": {
        "id": "HThMEp5us3jl",
        "colab_type": "code",
        "colab": {}
      },
      "source": [
        "super_list  = [continental_restaurants, eateries, coffee_shops, gas_stations, ice_cream_n_confectionery, hotels_resorts_spas, bars_n_lounges,\n",
        "               airport, bus_stations, heliport, it_services_n_hubs, shopping_malls_n_stores, gym_sports_facilities_games, markets, fashion_n_clothing,\n",
        "               arts_studios_galleries, convention_centers, halls_events_venues, night_clubs, beach, parks, cinemas, auto_services, electronics_shop,\n",
        "               residences, other_services]"
      ],
      "execution_count": 0,
      "outputs": []
    },
    {
      "cell_type": "code",
      "metadata": {
        "id": "oYUlXZ9FziCN",
        "colab_type": "code",
        "outputId": "5b13eda0-860f-4d8a-d692-e6028ac92a08",
        "colab": {
          "base_uri": "https://localhost:8080/",
          "height": 34
        }
      },
      "source": [
        "len(super_list)"
      ],
      "execution_count": 0,
      "outputs": [
        {
          "output_type": "execute_result",
          "data": {
            "text/plain": [
              "26"
            ]
          },
          "metadata": {
            "tags": []
          },
          "execution_count": 204
        }
      ]
    },
    {
      "cell_type": "markdown",
      "metadata": {
        "id": "VmsdMA1NXPmr",
        "colab_type": "text"
      },
      "source": [
        "Let's confirm we have the same number of unique venues as we got using the returned_venues method above"
      ]
    },
    {
      "cell_type": "code",
      "metadata": {
        "id": "vdrcYnUorQBg",
        "colab_type": "code",
        "outputId": "58502635-0acb-4d23-937e-5b2a19911f24",
        "colab": {
          "base_uri": "https://localhost:8080/",
          "height": 34
        }
      },
      "source": [
        "count = 0\n",
        "for i in super_list:\n",
        "    count += len(i)\n",
        "print(count)"
      ],
      "execution_count": 0,
      "outputs": [
        {
          "output_type": "stream",
          "text": [
            "100\n"
          ],
          "name": "stdout"
        }
      ]
    },
    {
      "cell_type": "markdown",
      "metadata": {
        "id": "NlMebOGwv1Bf",
        "colab_type": "text"
      },
      "source": [
        "We had 101 venue categories earlier. So one venue is missing, let's trace it and add it up to the right category, else it will distort our output"
      ]
    },
    {
      "cell_type": "code",
      "metadata": {
        "id": "_SAMvgyIrL1F",
        "colab_type": "code",
        "colab": {}
      },
      "source": [
        "if count < len(all_venue_categories):\n",
        "    test_set = set()\n",
        "\n",
        "    for i in super_list:\n",
        "        for j in i:\n",
        "            test_set.add(j)\n",
        "\n",
        "    len(test_set)"
      ],
      "execution_count": 0,
      "outputs": []
    },
    {
      "cell_type": "markdown",
      "metadata": {
        "id": "LME9kjkvr-dX",
        "colab_type": "text"
      },
      "source": [
        "Now that we have a test_set containing all venue categories in super_list,<br> Let's set it against the all_venue_categories list to identify the missing venue category "
      ]
    },
    {
      "cell_type": "code",
      "metadata": {
        "id": "5UGBXfihswTh",
        "colab_type": "code",
        "colab": {}
      },
      "source": [
        "missing_category = set(all_venue_categories).difference(test_set)"
      ],
      "execution_count": 0,
      "outputs": []
    },
    {
      "cell_type": "code",
      "metadata": {
        "id": "yo1weOhPtW_A",
        "colab_type": "code",
        "outputId": "d66b9aec-2b48-4317-9fc0-ccf10f6d34d5",
        "colab": {
          "base_uri": "https://localhost:8080/",
          "height": 34
        }
      },
      "source": [
        "# Let's see the missing category\n",
        "\n",
        "print(missing_category)"
      ],
      "execution_count": 0,
      "outputs": [
        {
          "output_type": "stream",
          "text": [
            "{'airport'}\n"
          ],
          "name": "stdout"
        }
      ]
    },
    {
      "cell_type": "markdown",
      "metadata": {
        "id": "uiMxW8Ej0BOc",
        "colab_type": "text"
      },
      "source": [
        "So let's add the airport category to the appropriate list. which should be airport list"
      ]
    },
    {
      "cell_type": "code",
      "metadata": {
        "id": "XMSOWEOo0sWD",
        "colab_type": "code",
        "colab": {}
      },
      "source": [
        "airport.append('airport')"
      ],
      "execution_count": 0,
      "outputs": []
    },
    {
      "cell_type": "code",
      "metadata": {
        "id": "SNzPK7u11JJ4",
        "colab_type": "code",
        "outputId": "89ea33ab-eed7-45eb-9700-40bb09fe4994",
        "colab": {
          "base_uri": "https://localhost:8080/",
          "height": 34
        }
      },
      "source": [
        "print(airport)"
      ],
      "execution_count": 0,
      "outputs": [
        {
          "output_type": "stream",
          "text": [
            "['airport terminal', 'airport service', 'airport']\n"
          ],
          "name": "stdout"
        }
      ]
    },
    {
      "cell_type": "markdown",
      "metadata": {
        "id": "MTQJjE0y04s1",
        "colab_type": "text"
      },
      "source": [
        "Let's once again confirm that we now have equal number of venues"
      ]
    },
    {
      "cell_type": "code",
      "metadata": {
        "id": "rCXWz6ha1EKe",
        "colab_type": "code",
        "outputId": "04c5bd52-4ba0-4b77-8031-785971ebb259",
        "colab": {
          "base_uri": "https://localhost:8080/",
          "height": 34
        }
      },
      "source": [
        "count = 0\n",
        "for i in super_list:\n",
        "    count += len(i)\n",
        "print(count)"
      ],
      "execution_count": 0,
      "outputs": [
        {
          "output_type": "stream",
          "text": [
            "101\n"
          ],
          "name": "stdout"
        }
      ]
    },
    {
      "cell_type": "markdown",
      "metadata": {
        "id": "5IMhpVaf11R9",
        "colab_type": "text"
      },
      "source": [
        "Ok, Let's move on to the next step which is creating a DataFrame with categories as index and LGAs as columns.<br>Then each LGA would have a score based on the number of venues in each category.<br>\n",
        "After that we would sort the data frame by categories we care most about."
      ]
    },
    {
      "cell_type": "code",
      "metadata": {
        "id": "7MC7ySM52s7Z",
        "colab_type": "code",
        "colab": {}
      },
      "source": [
        "# Let's make the categories the index of the new DataFrame\n",
        "\n",
        "data_index = ['continental_restaurants', 'eateries', 'coffee_shops', 'gas_stations', 'ice_cream_n_confectionery', 'hotels_resorts_spas', 'bars_n_lounges',\n",
        "               'airport', 'bus_stations', 'heliport', 'it_services_n_hubs', 'shopping_malls_n_stores', 'gym_sports_facilities_games', 'markets', 'fashion_n_clothing',\n",
        "               'arts_studios_galleries', 'convention_centers', 'halls_events_venues', 'night_clubs', 'beach', 'parks', 'cinemas', 'auto_services', 'electronics_shop',\n",
        "               'residences', 'other_services']"
      ],
      "execution_count": 0,
      "outputs": []
    },
    {
      "cell_type": "code",
      "metadata": {
        "id": "9DYep3IO5neV",
        "colab_type": "code",
        "colab": {}
      },
      "source": [
        "# Let's create a list of LGAs to be the columns of our new DataFrame\n",
        "\n",
        "data_columns = list(copy_lagos_df.index)"
      ],
      "execution_count": 0,
      "outputs": []
    },
    {
      "cell_type": "code",
      "metadata": {
        "id": "EJTNcq55855P",
        "colab_type": "code",
        "outputId": "046d7abc-5635-4b8b-e12a-48d097528694",
        "colab": {
          "base_uri": "https://localhost:8080/",
          "height": 212
        }
      },
      "source": [
        "# Let's create a new DataFrame\n",
        "summary_df = pd.DataFrame(index= data_index, columns= data_columns)\n",
        "\n",
        "# Next let's replace any possoble NaN values with 0\n",
        "summary_df.fillna(0, inplace=True)\n",
        "\n",
        "# Let's see the first 5 rows\n",
        "summary_df.head()"
      ],
      "execution_count": 0,
      "outputs": [
        {
          "output_type": "execute_result",
          "data": {
            "text/html": [
              "<div>\n",
              "<style scoped>\n",
              "    .dataframe tbody tr th:only-of-type {\n",
              "        vertical-align: middle;\n",
              "    }\n",
              "\n",
              "    .dataframe tbody tr th {\n",
              "        vertical-align: top;\n",
              "    }\n",
              "\n",
              "    .dataframe thead th {\n",
              "        text-align: right;\n",
              "    }\n",
              "</style>\n",
              "<table border=\"1\" class=\"dataframe\">\n",
              "  <thead>\n",
              "    <tr style=\"text-align: right;\">\n",
              "      <th></th>\n",
              "      <th>Alimosho</th>\n",
              "      <th>Ajeromi-Ifelodun</th>\n",
              "      <th>Kosofe</th>\n",
              "      <th>Mushin, Lagos</th>\n",
              "      <th>Oshodi-Isolo</th>\n",
              "      <th>Surulere</th>\n",
              "      <th>Agege</th>\n",
              "      <th>Ifako-Ijaiye</th>\n",
              "      <th>Somolu</th>\n",
              "      <th>Amuwo-Odofin</th>\n",
              "      <th>Lagos Mainland</th>\n",
              "      <th>Ikeja</th>\n",
              "      <th>Eti-Osa</th>\n",
              "      <th>Apapa</th>\n",
              "      <th>Lagos Island</th>\n",
              "    </tr>\n",
              "  </thead>\n",
              "  <tbody>\n",
              "    <tr>\n",
              "      <th>continental_restaurants</th>\n",
              "      <td>0</td>\n",
              "      <td>0</td>\n",
              "      <td>0</td>\n",
              "      <td>0</td>\n",
              "      <td>0</td>\n",
              "      <td>0</td>\n",
              "      <td>0</td>\n",
              "      <td>0</td>\n",
              "      <td>0</td>\n",
              "      <td>0</td>\n",
              "      <td>0</td>\n",
              "      <td>0</td>\n",
              "      <td>0</td>\n",
              "      <td>0</td>\n",
              "      <td>0</td>\n",
              "    </tr>\n",
              "    <tr>\n",
              "      <th>eateries</th>\n",
              "      <td>0</td>\n",
              "      <td>0</td>\n",
              "      <td>0</td>\n",
              "      <td>0</td>\n",
              "      <td>0</td>\n",
              "      <td>0</td>\n",
              "      <td>0</td>\n",
              "      <td>0</td>\n",
              "      <td>0</td>\n",
              "      <td>0</td>\n",
              "      <td>0</td>\n",
              "      <td>0</td>\n",
              "      <td>0</td>\n",
              "      <td>0</td>\n",
              "      <td>0</td>\n",
              "    </tr>\n",
              "    <tr>\n",
              "      <th>coffee_shops</th>\n",
              "      <td>0</td>\n",
              "      <td>0</td>\n",
              "      <td>0</td>\n",
              "      <td>0</td>\n",
              "      <td>0</td>\n",
              "      <td>0</td>\n",
              "      <td>0</td>\n",
              "      <td>0</td>\n",
              "      <td>0</td>\n",
              "      <td>0</td>\n",
              "      <td>0</td>\n",
              "      <td>0</td>\n",
              "      <td>0</td>\n",
              "      <td>0</td>\n",
              "      <td>0</td>\n",
              "    </tr>\n",
              "    <tr>\n",
              "      <th>gas_stations</th>\n",
              "      <td>0</td>\n",
              "      <td>0</td>\n",
              "      <td>0</td>\n",
              "      <td>0</td>\n",
              "      <td>0</td>\n",
              "      <td>0</td>\n",
              "      <td>0</td>\n",
              "      <td>0</td>\n",
              "      <td>0</td>\n",
              "      <td>0</td>\n",
              "      <td>0</td>\n",
              "      <td>0</td>\n",
              "      <td>0</td>\n",
              "      <td>0</td>\n",
              "      <td>0</td>\n",
              "    </tr>\n",
              "    <tr>\n",
              "      <th>ice_cream_n_confectionery</th>\n",
              "      <td>0</td>\n",
              "      <td>0</td>\n",
              "      <td>0</td>\n",
              "      <td>0</td>\n",
              "      <td>0</td>\n",
              "      <td>0</td>\n",
              "      <td>0</td>\n",
              "      <td>0</td>\n",
              "      <td>0</td>\n",
              "      <td>0</td>\n",
              "      <td>0</td>\n",
              "      <td>0</td>\n",
              "      <td>0</td>\n",
              "      <td>0</td>\n",
              "      <td>0</td>\n",
              "    </tr>\n",
              "  </tbody>\n",
              "</table>\n",
              "</div>"
            ],
            "text/plain": [
              "                           Alimosho  Ajeromi-Ifelodun  ...  Apapa  Lagos Island\n",
              "continental_restaurants           0                 0  ...      0             0\n",
              "eateries                          0                 0  ...      0             0\n",
              "coffee_shops                      0                 0  ...      0             0\n",
              "gas_stations                      0                 0  ...      0             0\n",
              "ice_cream_n_confectionery         0                 0  ...      0             0\n",
              "\n",
              "[5 rows x 15 columns]"
            ]
          },
          "metadata": {
            "tags": []
          },
          "execution_count": 214
        }
      ]
    },
    {
      "cell_type": "markdown",
      "metadata": {
        "id": "IaAnQOOhYc35",
        "colab_type": "text"
      },
      "source": [
        "Now let's create a method that adds the number of venues in each category per LGA to the summary_df DataFrame above"
      ]
    },
    {
      "cell_type": "code",
      "metadata": {
        "id": "o7NkFJqU_wlp",
        "colab_type": "code",
        "colab": {}
      },
      "source": [
        "def update_lga_category_values(df_1, df_2):\n",
        "    \"\"\"df_1 refers to the copy_lagos_df DataFrame and\n",
        "    df_2 refers to the summary_df DataFrame,\n",
        "    This method returns an updated df_2, showing the total number\n",
        "    of each type of venues that exist in each LGA\"\"\"\n",
        "\n",
        "    # let's make a refence to the super_list object\n",
        "    new_list = super_list.copy()\n",
        "    # Let's iterate through the copy_lagos_df DataFrame\n",
        "    for i in df_1.index:\n",
        "        # Lets use the return_venues method defined earlier to get the venues for each LGA\n",
        "        df_lga_venues = return_venues(i)\n",
        "        # convert the venue.categories elements to all lower case for each LGA using list comp.\n",
        "        df_lga_venues['venue.categories'] = [x.lower() for x in list(df_lga_venues['venue.categories'])]\n",
        "        # Let's iterate through each venue category in the given LGA\n",
        "        for x in df_lga_venues['venue.categories']:\n",
        "            # Let's check if the venue is in the first element of the new_list, \n",
        "            # which is a copy of the Super_list we created earlier\n",
        "            for y in range(len(new_list)):\n",
        "                # If it exists add one to the category under which it exists\n",
        "                if x in new_list[y]:\n",
        "                    df_2[i][y] += 1\n",
        "                # if it doesn't exist continue seeking the right category\n",
        "                else:\n",
        "                    continue\n",
        "    # Finally add a Total row that shows the total venues returned per category per LGA\n",
        "    df_2.loc[\"Total_Venues\"] = df_2.sum()\n",
        "    return df_2"
      ],
      "execution_count": 0,
      "outputs": []
    },
    {
      "cell_type": "code",
      "metadata": {
        "id": "U2BhwQvkKlBQ",
        "colab_type": "code",
        "colab": {}
      },
      "source": [
        "summary_df = update_lga_category_values(copy_lagos_df, summary_df)"
      ],
      "execution_count": 0,
      "outputs": []
    },
    {
      "cell_type": "code",
      "metadata": {
        "id": "9vu278mtLRZA",
        "colab_type": "code",
        "outputId": "b9993dd6-1dff-47d7-eb4f-cc183b3fcccf",
        "colab": {
          "base_uri": "https://localhost:8080/",
          "height": 212
        }
      },
      "source": [
        "summary_df.head()"
      ],
      "execution_count": 0,
      "outputs": [
        {
          "output_type": "execute_result",
          "data": {
            "text/html": [
              "<div>\n",
              "<style scoped>\n",
              "    .dataframe tbody tr th:only-of-type {\n",
              "        vertical-align: middle;\n",
              "    }\n",
              "\n",
              "    .dataframe tbody tr th {\n",
              "        vertical-align: top;\n",
              "    }\n",
              "\n",
              "    .dataframe thead th {\n",
              "        text-align: right;\n",
              "    }\n",
              "</style>\n",
              "<table border=\"1\" class=\"dataframe\">\n",
              "  <thead>\n",
              "    <tr style=\"text-align: right;\">\n",
              "      <th></th>\n",
              "      <th>Alimosho</th>\n",
              "      <th>Ajeromi-Ifelodun</th>\n",
              "      <th>Kosofe</th>\n",
              "      <th>Mushin, Lagos</th>\n",
              "      <th>Oshodi-Isolo</th>\n",
              "      <th>Surulere</th>\n",
              "      <th>Agege</th>\n",
              "      <th>Ifako-Ijaiye</th>\n",
              "      <th>Somolu</th>\n",
              "      <th>Amuwo-Odofin</th>\n",
              "      <th>Lagos Mainland</th>\n",
              "      <th>Ikeja</th>\n",
              "      <th>Eti-Osa</th>\n",
              "      <th>Apapa</th>\n",
              "      <th>Lagos Island</th>\n",
              "    </tr>\n",
              "  </thead>\n",
              "  <tbody>\n",
              "    <tr>\n",
              "      <th>continental_restaurants</th>\n",
              "      <td>10</td>\n",
              "      <td>17</td>\n",
              "      <td>17</td>\n",
              "      <td>21</td>\n",
              "      <td>23</td>\n",
              "      <td>18</td>\n",
              "      <td>20</td>\n",
              "      <td>16</td>\n",
              "      <td>3</td>\n",
              "      <td>4</td>\n",
              "      <td>23</td>\n",
              "      <td>21</td>\n",
              "      <td>9</td>\n",
              "      <td>30</td>\n",
              "      <td>7</td>\n",
              "    </tr>\n",
              "    <tr>\n",
              "      <th>eateries</th>\n",
              "      <td>7</td>\n",
              "      <td>4</td>\n",
              "      <td>11</td>\n",
              "      <td>15</td>\n",
              "      <td>16</td>\n",
              "      <td>7</td>\n",
              "      <td>16</td>\n",
              "      <td>11</td>\n",
              "      <td>3</td>\n",
              "      <td>2</td>\n",
              "      <td>7</td>\n",
              "      <td>16</td>\n",
              "      <td>5</td>\n",
              "      <td>7</td>\n",
              "      <td>5</td>\n",
              "    </tr>\n",
              "    <tr>\n",
              "      <th>coffee_shops</th>\n",
              "      <td>0</td>\n",
              "      <td>2</td>\n",
              "      <td>4</td>\n",
              "      <td>5</td>\n",
              "      <td>4</td>\n",
              "      <td>2</td>\n",
              "      <td>2</td>\n",
              "      <td>2</td>\n",
              "      <td>0</td>\n",
              "      <td>0</td>\n",
              "      <td>5</td>\n",
              "      <td>2</td>\n",
              "      <td>0</td>\n",
              "      <td>5</td>\n",
              "      <td>0</td>\n",
              "    </tr>\n",
              "    <tr>\n",
              "      <th>gas_stations</th>\n",
              "      <td>0</td>\n",
              "      <td>0</td>\n",
              "      <td>0</td>\n",
              "      <td>0</td>\n",
              "      <td>0</td>\n",
              "      <td>0</td>\n",
              "      <td>0</td>\n",
              "      <td>0</td>\n",
              "      <td>0</td>\n",
              "      <td>0</td>\n",
              "      <td>0</td>\n",
              "      <td>0</td>\n",
              "      <td>0</td>\n",
              "      <td>0</td>\n",
              "      <td>1</td>\n",
              "    </tr>\n",
              "    <tr>\n",
              "      <th>ice_cream_n_confectionery</th>\n",
              "      <td>0</td>\n",
              "      <td>1</td>\n",
              "      <td>5</td>\n",
              "      <td>6</td>\n",
              "      <td>6</td>\n",
              "      <td>1</td>\n",
              "      <td>4</td>\n",
              "      <td>0</td>\n",
              "      <td>1</td>\n",
              "      <td>1</td>\n",
              "      <td>4</td>\n",
              "      <td>4</td>\n",
              "      <td>3</td>\n",
              "      <td>3</td>\n",
              "      <td>3</td>\n",
              "    </tr>\n",
              "  </tbody>\n",
              "</table>\n",
              "</div>"
            ],
            "text/plain": [
              "                           Alimosho  Ajeromi-Ifelodun  ...  Apapa  Lagos Island\n",
              "continental_restaurants          10                17  ...     30             7\n",
              "eateries                          7                 4  ...      7             5\n",
              "coffee_shops                      0                 2  ...      5             0\n",
              "gas_stations                      0                 0  ...      0             1\n",
              "ice_cream_n_confectionery         0                 1  ...      3             3\n",
              "\n",
              "[5 rows x 15 columns]"
            ]
          },
          "metadata": {
            "tags": []
          },
          "execution_count": 217
        }
      ]
    },
    {
      "cell_type": "markdown",
      "metadata": {
        "id": "1wTDJIXegR03",
        "colab_type": "text"
      },
      "source": [
        "Let's make an effort to select our top 20 categories from the summary_df above and save that to a list"
      ]
    },
    {
      "cell_type": "code",
      "metadata": {
        "id": "cYVDNY49gkxu",
        "colab_type": "code",
        "colab": {}
      },
      "source": [
        "top_criteria = ['hotels_resorts_spas','airport','it_services_n_hubs','gym_sports_facilities_games','shopping_malls_n_stores','coffee_shops','markets',\n",
        "                'bars_n_lounges','arts_studios_galleries','halls_events_venues','continental_restaurants','eateries','gas_stations','cinemas','residences',\n",
        "                'auto_services','convention_centers','parks','electronics_shop','night_clubs']"
      ],
      "execution_count": 0,
      "outputs": []
    },
    {
      "cell_type": "code",
      "metadata": {
        "id": "eKOdCyh6xMaX",
        "colab_type": "code",
        "colab": {}
      },
      "source": [
        "top_criteria_df = summary_df.loc[top_criteria,]\n",
        "\n",
        "top_criteria_df.loc['Total Venues'] = top_criteria_df.sum()"
      ],
      "execution_count": 0,
      "outputs": []
    },
    {
      "cell_type": "code",
      "metadata": {
        "id": "cF6yYzZ_xbJt",
        "colab_type": "code",
        "outputId": "33d36b8d-ebc1-40be-c884-11b2fc8c96f0",
        "colab": {
          "base_uri": "https://localhost:8080/",
          "height": 212
        }
      },
      "source": [
        "top_criteria_df.head()"
      ],
      "execution_count": 0,
      "outputs": [
        {
          "output_type": "execute_result",
          "data": {
            "text/html": [
              "<div>\n",
              "<style scoped>\n",
              "    .dataframe tbody tr th:only-of-type {\n",
              "        vertical-align: middle;\n",
              "    }\n",
              "\n",
              "    .dataframe tbody tr th {\n",
              "        vertical-align: top;\n",
              "    }\n",
              "\n",
              "    .dataframe thead th {\n",
              "        text-align: right;\n",
              "    }\n",
              "</style>\n",
              "<table border=\"1\" class=\"dataframe\">\n",
              "  <thead>\n",
              "    <tr style=\"text-align: right;\">\n",
              "      <th></th>\n",
              "      <th>Alimosho</th>\n",
              "      <th>Ajeromi-Ifelodun</th>\n",
              "      <th>Kosofe</th>\n",
              "      <th>Mushin, Lagos</th>\n",
              "      <th>Oshodi-Isolo</th>\n",
              "      <th>Surulere</th>\n",
              "      <th>Agege</th>\n",
              "      <th>Ifako-Ijaiye</th>\n",
              "      <th>Somolu</th>\n",
              "      <th>Amuwo-Odofin</th>\n",
              "      <th>Lagos Mainland</th>\n",
              "      <th>Ikeja</th>\n",
              "      <th>Eti-Osa</th>\n",
              "      <th>Apapa</th>\n",
              "      <th>Lagos Island</th>\n",
              "    </tr>\n",
              "  </thead>\n",
              "  <tbody>\n",
              "    <tr>\n",
              "      <th>hotels_resorts_spas</th>\n",
              "      <td>2</td>\n",
              "      <td>5</td>\n",
              "      <td>4</td>\n",
              "      <td>5</td>\n",
              "      <td>7</td>\n",
              "      <td>10</td>\n",
              "      <td>5</td>\n",
              "      <td>3</td>\n",
              "      <td>1</td>\n",
              "      <td>4</td>\n",
              "      <td>9</td>\n",
              "      <td>5</td>\n",
              "      <td>6</td>\n",
              "      <td>11</td>\n",
              "      <td>9</td>\n",
              "    </tr>\n",
              "    <tr>\n",
              "      <th>airport</th>\n",
              "      <td>2</td>\n",
              "      <td>0</td>\n",
              "      <td>2</td>\n",
              "      <td>0</td>\n",
              "      <td>0</td>\n",
              "      <td>0</td>\n",
              "      <td>3</td>\n",
              "      <td>0</td>\n",
              "      <td>0</td>\n",
              "      <td>0</td>\n",
              "      <td>0</td>\n",
              "      <td>3</td>\n",
              "      <td>0</td>\n",
              "      <td>0</td>\n",
              "      <td>0</td>\n",
              "    </tr>\n",
              "    <tr>\n",
              "      <th>it_services_n_hubs</th>\n",
              "      <td>0</td>\n",
              "      <td>0</td>\n",
              "      <td>1</td>\n",
              "      <td>1</td>\n",
              "      <td>1</td>\n",
              "      <td>1</td>\n",
              "      <td>0</td>\n",
              "      <td>0</td>\n",
              "      <td>0</td>\n",
              "      <td>0</td>\n",
              "      <td>1</td>\n",
              "      <td>1</td>\n",
              "      <td>0</td>\n",
              "      <td>0</td>\n",
              "      <td>0</td>\n",
              "    </tr>\n",
              "    <tr>\n",
              "      <th>gym_sports_facilities_games</th>\n",
              "      <td>1</td>\n",
              "      <td>3</td>\n",
              "      <td>1</td>\n",
              "      <td>5</td>\n",
              "      <td>4</td>\n",
              "      <td>8</td>\n",
              "      <td>3</td>\n",
              "      <td>2</td>\n",
              "      <td>0</td>\n",
              "      <td>1</td>\n",
              "      <td>8</td>\n",
              "      <td>3</td>\n",
              "      <td>4</td>\n",
              "      <td>8</td>\n",
              "      <td>5</td>\n",
              "    </tr>\n",
              "    <tr>\n",
              "      <th>shopping_malls_n_stores</th>\n",
              "      <td>5</td>\n",
              "      <td>5</td>\n",
              "      <td>14</td>\n",
              "      <td>18</td>\n",
              "      <td>14</td>\n",
              "      <td>12</td>\n",
              "      <td>15</td>\n",
              "      <td>7</td>\n",
              "      <td>4</td>\n",
              "      <td>1</td>\n",
              "      <td>11</td>\n",
              "      <td>13</td>\n",
              "      <td>8</td>\n",
              "      <td>6</td>\n",
              "      <td>8</td>\n",
              "    </tr>\n",
              "  </tbody>\n",
              "</table>\n",
              "</div>"
            ],
            "text/plain": [
              "                             Alimosho  Ajeromi-Ifelodun  ...  Apapa  Lagos Island\n",
              "hotels_resorts_spas                 2                 5  ...     11             9\n",
              "airport                             2                 0  ...      0             0\n",
              "it_services_n_hubs                  0                 0  ...      0             0\n",
              "gym_sports_facilities_games         1                 3  ...      8             5\n",
              "shopping_malls_n_stores             5                 5  ...      6             8\n",
              "\n",
              "[5 rows x 15 columns]"
            ]
          },
          "metadata": {
            "tags": []
          },
          "execution_count": 220
        }
      ]
    },
    {
      "cell_type": "markdown",
      "metadata": {
        "id": "aPA07dnOyz2j",
        "colab_type": "text"
      },
      "source": [
        "let's check for the LGA that has the fewest number of 0's. This means the LGA that has the most wide spread categories of venues.<br>\n",
        "Because ideally, we want a location that lacks the least, on the categories of venues we deem important."
      ]
    },
    {
      "cell_type": "code",
      "metadata": {
        "id": "hcRy9-xKxpgN",
        "colab_type": "code",
        "outputId": "296b4b24-a208-4ee1-b31b-db151f2defbe",
        "colab": {
          "base_uri": "https://localhost:8080/",
          "height": 70
        }
      },
      "source": [
        "# First let's save the columns to a variable\n",
        "column_list = list(top_criteria_df.columns)\n",
        "\n",
        "# Let's iterate through each LGA in the top_criteria_df and count the number of missing categories\n",
        "# Then append each LGA and its missing categories score to the first dictionary\n",
        "\n",
        "lga_dict = {}  # first dict\n",
        "min_dict = {}  # second dict\n",
        "\n",
        "for i in column_list:\n",
        "    zero_count = 0\n",
        "    for j in top_criteria_df[i]:\n",
        "        if j == 0:\n",
        "            zero_count  += 1\n",
        "            lga_dict[i] = zero_count\n",
        "print(lga_dict)\n",
        "\n",
        "# Let's iterate through the first dictionary and append the keys and values \n",
        "# corresponding to the LGAs with the least missing categories to the second dictionary.\n",
        "\n",
        "for i, j in lga_dict.items():\n",
        "    if j == min(lga_dict.values()):\n",
        "        min_dict[i] = j\n",
        "\n",
        "# show the LGAs with the corresponding lowest missing categories \n",
        "print(min_dict)"
      ],
      "execution_count": 0,
      "outputs": [
        {
          "output_type": "stream",
          "text": [
            "{'Alimosho': 9, 'Ajeromi-Ifelodun': 6, 'Kosofe': 5, 'Mushin, Lagos': 6, 'Oshodi-Isolo': 5, 'Surulere': 5, 'Agege': 5, 'Ifako-Ijaiye': 7, 'Somolu': 14, 'Amuwo-Odofin': 12, 'Lagos Mainland': 4, 'Ikeja': 4, 'Eti-Osa': 8, 'Apapa': 5, 'Lagos Island': 6}\n",
            "{'Lagos Mainland': 4, 'Ikeja': 4}\n"
          ],
          "name": "stdout"
        }
      ]
    },
    {
      "cell_type": "markdown",
      "metadata": {
        "id": "Qsv4o9yl3Qbh",
        "colab_type": "text"
      },
      "source": [
        "With both Lagos Mainland LGA and Ikeja LGA having the least absent category of 4 venues each.<br>\n",
        "Plus Lagos Mainland having 95 active venues in 16 top categories and,<br>\n",
        "Ikeja having 83 active venues in 16 top categories.<br>\n",
        "It is safe to say Lagos Mainland LGA is the most ideal location in Lagos state to cite an office.<br>\n",
        "Although a closer look indicates that Ikeja LGA has three airports and that should count for a lot of consideration.<br>\n",
        "By and Large, Lagos Mainland LGA and Ikeja LGA are the two most ideal locations to cite an office in Lagos State."
      ]
    },
    {
      "cell_type": "markdown",
      "metadata": {
        "id": "C6Y0wzjmVp36",
        "colab_type": "text"
      },
      "source": [
        "The next set of good locations with only 5 missing categories are:<br>\n",
        "Apapa:- With 96 available venues<br>\n",
        "Oshodi-Isolo:- with 92 available venues<br>\n",
        "Surulere:- With 84 available venues<br>"
      ]
    },
    {
      "cell_type": "markdown",
      "metadata": {
        "id": "Q0F0gMRvhc2S",
        "colab_type": "text"
      },
      "source": [
        "<h3>Now let's analyse the Lagos Mainland LGA</h3>"
      ]
    },
    {
      "cell_type": "code",
      "metadata": {
        "id": "rXabRJhH1hPF",
        "colab_type": "code",
        "outputId": "4906aa6d-c7d9-47fa-ffea-e6411339a133",
        "colab": {
          "base_uri": "https://localhost:8080/",
          "height": 858
        }
      },
      "source": [
        "# Let's see a map of Lagos Mainland LGA\n",
        "\n",
        "plot_map('Lagos Mainland')\n",
        "\n",
        "# feel free to zoom in the map"
      ],
      "execution_count": 0,
      "outputs": [
        {
          "output_type": "execute_result",
          "data": {
            "text/html": [
              "<div style=\"width:100%;\"><div style=\"position:relative;width:100%;height:0;padding-bottom:60%;\"><iframe src=\"data:text/html;charset=utf-8;base64,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\" style=\"position:absolute;width:100%;height:100%;left:0;top:0;border:none !important;\" allowfullscreen webkitallowfullscreen mozallowfullscreen></iframe></div></div>"
            ],
            "text/plain": [
              "<folium.folium.Map at 0x7fb59c762828>"
            ]
          },
          "metadata": {
            "tags": []
          },
          "execution_count": 222
        }
      ]
    },
    {
      "cell_type": "markdown",
      "metadata": {
        "id": "L4AKlO18tYvs",
        "colab_type": "text"
      },
      "source": [
        "Background<br>\n",
        "Lagos Mainland was founded by Chief Olofin and is peopled by the same group as found in Lagos especially the Egbas and Aworis. <br>\n",
        "Lagos Mainland developed from settlements such as Ebute-Metta, Ido-Otto and Ijora.\n",
        "<br>\n",
        "<br>\n",
        "Communities<br>\n",
        "The communities of Lagos Mainland incude >>\n",
        "<br>Yaba, <br>Ebute-Metta, <br>Iddo-Otto, <br>Iwaya, <br>Akoka, <br>Makoko, <br>Abule-nla.<br>\n",
        "See [link](https://web.archive.org/web/20070929061412/http://www.mainlandlg.com/)"
      ]
    },
    {
      "cell_type": "code",
      "metadata": {
        "id": "wkkzsbXwisLM",
        "colab_type": "code",
        "outputId": "5b6344ce-ea72-4bd7-fbca-8292bb939f13",
        "colab": {
          "base_uri": "https://localhost:8080/",
          "height": 195
        }
      },
      "source": [
        "# Let's inspect the Lagos Mainland Data frame\n",
        "\n",
        "lagos_mainland_df = return_venues('Lagos Mainland')\n",
        "\n",
        "lagos_mainland_df.head()"
      ],
      "execution_count": 0,
      "outputs": [
        {
          "output_type": "execute_result",
          "data": {
            "text/html": [
              "<div>\n",
              "<style scoped>\n",
              "    .dataframe tbody tr th:only-of-type {\n",
              "        vertical-align: middle;\n",
              "    }\n",
              "\n",
              "    .dataframe tbody tr th {\n",
              "        vertical-align: top;\n",
              "    }\n",
              "\n",
              "    .dataframe thead th {\n",
              "        text-align: right;\n",
              "    }\n",
              "</style>\n",
              "<table border=\"1\" class=\"dataframe\">\n",
              "  <thead>\n",
              "    <tr style=\"text-align: right;\">\n",
              "      <th></th>\n",
              "      <th>venue.name</th>\n",
              "      <th>venue.categories</th>\n",
              "      <th>venue.location.lat</th>\n",
              "      <th>venue.location.lng</th>\n",
              "      <th>venue.location.distance</th>\n",
              "      <th>venue.id</th>\n",
              "    </tr>\n",
              "  </thead>\n",
              "  <tbody>\n",
              "    <tr>\n",
              "      <th>0</th>\n",
              "      <td>White House</td>\n",
              "      <td>African Restaurant</td>\n",
              "      <td>6.506143</td>\n",
              "      <td>3.375522</td>\n",
              "      <td>2025</td>\n",
              "      <td>4d344e1098336dcb474236f0</td>\n",
              "    </tr>\n",
              "    <tr>\n",
              "      <th>1</th>\n",
              "      <td>Film House Cinema</td>\n",
              "      <td>Multiplex</td>\n",
              "      <td>6.490242</td>\n",
              "      <td>3.357371</td>\n",
              "      <td>3429</td>\n",
              "      <td>50ccbc9ce4b0d07024dd14f4</td>\n",
              "    </tr>\n",
              "    <tr>\n",
              "      <th>2</th>\n",
              "      <td>The Banana Island Patisserie</td>\n",
              "      <td>Bagel Shop</td>\n",
              "      <td>6.509970</td>\n",
              "      <td>3.391848</td>\n",
              "      <td>1923</td>\n",
              "      <td>51cabaad498eb06f0fdb0340</td>\n",
              "    </tr>\n",
              "    <tr>\n",
              "      <th>3</th>\n",
              "      <td>Ozone Cinemas</td>\n",
              "      <td>Movie Theater</td>\n",
              "      <td>6.506480</td>\n",
              "      <td>3.374521</td>\n",
              "      <td>2130</td>\n",
              "      <td>4de68e0418389f05587cbc03</td>\n",
              "    </tr>\n",
              "    <tr>\n",
              "      <th>4</th>\n",
              "      <td>Banilux</td>\n",
              "      <td>Nightclub</td>\n",
              "      <td>6.505259</td>\n",
              "      <td>3.375517</td>\n",
              "      <td>1956</td>\n",
              "      <td>4de00f9a3151d414eb1dcfae</td>\n",
              "    </tr>\n",
              "  </tbody>\n",
              "</table>\n",
              "</div>"
            ],
            "text/plain": [
              "                     venue.name  ...                  venue.id\n",
              "0                   White House  ...  4d344e1098336dcb474236f0\n",
              "1             Film House Cinema  ...  50ccbc9ce4b0d07024dd14f4\n",
              "2  The Banana Island Patisserie  ...  51cabaad498eb06f0fdb0340\n",
              "3                 Ozone Cinemas  ...  4de68e0418389f05587cbc03\n",
              "4                       Banilux  ...  4de00f9a3151d414eb1dcfae\n",
              "\n",
              "[5 rows x 6 columns]"
            ]
          },
          "metadata": {
            "tags": []
          },
          "execution_count": 223
        }
      ]
    },
    {
      "cell_type": "code",
      "metadata": {
        "id": "ODcc9kf6i_kS",
        "colab_type": "code",
        "outputId": "ca41ef53-aa92-437d-b036-d8ad02018d62",
        "colab": {
          "base_uri": "https://localhost:8080/",
          "height": 34
        }
      },
      "source": [
        "lagos_mainland_df.shape"
      ],
      "execution_count": 0,
      "outputs": [
        {
          "output_type": "execute_result",
          "data": {
            "text/plain": [
              "(100, 6)"
            ]
          },
          "metadata": {
            "tags": []
          },
          "execution_count": 224
        }
      ]
    },
    {
      "cell_type": "markdown",
      "metadata": {
        "id": "c8Og69f10Aj7",
        "colab_type": "text"
      },
      "source": [
        "#### Create a map of Lagos Mainland with Venues superimposed on top."
      ]
    },
    {
      "cell_type": "code",
      "metadata": {
        "id": "xfz9OZmezc0s",
        "colab_type": "code",
        "outputId": "9c331ebb-b1a3-49c6-d203-cc663e25b8d2",
        "colab": {
          "base_uri": "https://localhost:8080/",
          "height": 34
        }
      },
      "source": [
        "address = 'Lagos Mainland'\n",
        "\n",
        "geolocator = Nominatim(user_agent=\"NG_explorer\")\n",
        "location = geolocator.geocode(address)\n",
        "latitude = location.latitude\n",
        "longitude = location.longitude\n",
        "print('The geograpical coordinate of Lagos Mainland are {}, {}.'.format(latitude, longitude))\n"
      ],
      "execution_count": 0,
      "outputs": [
        {
          "output_type": "stream",
          "text": [
            "The geograpical coordinate of Lagos Mainland are 6.49306105, 3.38824963720956.\n"
          ],
          "name": "stdout"
        }
      ]
    },
    {
      "cell_type": "code",
      "metadata": {
        "id": "5YGaN8siw9_h",
        "colab_type": "code",
        "outputId": "815284c4-3a57-4c97-d766-51a249992ad9",
        "colab": {
          "base_uri": "https://localhost:8080/",
          "height": 858
        }
      },
      "source": [
        "map_lagos_mainland_venues = folium.Map(location=[latitude, longitude], zoom_start=12)\n",
        "\n",
        "# add markers to map\n",
        "for lat, lng, venue_category, venue_name in zip(lagos_mainland_df['venue.location.lat'], lagos_mainland_df['venue.location.lng'], lagos_mainland_df['venue.categories'], lagos_mainland_df['venue.name']):\n",
        "    label = '{}, {}'.format(venue_name, venue_category)\n",
        "    label = folium.Popup(label, parse_html=True)\n",
        "    folium.CircleMarker(\n",
        "        [lat, lng],\n",
        "        radius=5,\n",
        "        popup=label,\n",
        "        color='blue',\n",
        "        fill=True,\n",
        "        fill_color='#3186cc',\n",
        "        fill_opacity=0.7,\n",
        "        parse_html=False).add_to(map_lagos_mainland_venues)  \n",
        "    \n",
        "map_lagos_mainland_venues"
      ],
      "execution_count": 0,
      "outputs": [
        {
          "output_type": "execute_result",
          "data": {
            "text/html": [
              "<div style=\"width:100%;\"><div style=\"position:relative;width:100%;height:0;padding-bottom:60%;\"><iframe src=\"data:text/html;charset=utf-8;base64,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\" style=\"position:absolute;width:100%;height:100%;left:0;top:0;border:none !important;\" allowfullscreen webkitallowfullscreen mozallowfullscreen></iframe></div></div>"
            ],
            "text/plain": [
              "<folium.folium.Map at 0x7fb59c7e40b8>"
            ]
          },
          "metadata": {
            "tags": []
          },
          "execution_count": 226
        }
      ]
    },
    {
      "cell_type": "markdown",
      "metadata": {
        "id": "RbW7eRx3k-jA",
        "colab_type": "text"
      },
      "source": [
        "Let's write code to show the top 10 most frequent venue categories in Lagos Mainland"
      ]
    },
    {
      "cell_type": "code",
      "metadata": {
        "id": "GQYJWwzx92OC",
        "colab_type": "code",
        "outputId": "df686f10-b1bf-45ca-d4ce-4d4cb1499567",
        "colab": {
          "base_uri": "https://localhost:8080/",
          "height": 202
        }
      },
      "source": [
        "lagos_mainland_df['venue.categories'].value_counts().head(10)"
      ],
      "execution_count": 0,
      "outputs": [
        {
          "output_type": "execute_result",
          "data": {
            "text/plain": [
              "Hotel                   9\n",
              "Lounge                  7\n",
              "Shopping Mall           6\n",
              "African Restaurant      5\n",
              "Nightclub               4\n",
              "Bar                     4\n",
              "Ice Cream Shop          3\n",
              "Pizza Place             3\n",
              "Department Store        3\n",
              "Fast Food Restaurant    3\n",
              "Name: venue.categories, dtype: int64"
            ]
          },
          "metadata": {
            "tags": []
          },
          "execution_count": 227
        }
      ]
    },
    {
      "cell_type": "markdown",
      "metadata": {
        "id": "QRD38P0fOXAU",
        "colab_type": "text"
      },
      "source": [
        "### Exploring Lagos State LGAs and Venues"
      ]
    },
    {
      "cell_type": "code",
      "metadata": {
        "id": "i6DqYAe2A7UZ",
        "colab_type": "code",
        "outputId": "d85a4313-a5ee-4f5b-abff-baca36dc1f87",
        "colab": {
          "base_uri": "https://localhost:8080/",
          "height": 195
        }
      },
      "source": [
        "lagos_df.head()"
      ],
      "execution_count": 0,
      "outputs": [
        {
          "output_type": "execute_result",
          "data": {
            "text/html": [
              "<div>\n",
              "<style scoped>\n",
              "    .dataframe tbody tr th:only-of-type {\n",
              "        vertical-align: middle;\n",
              "    }\n",
              "\n",
              "    .dataframe tbody tr th {\n",
              "        vertical-align: top;\n",
              "    }\n",
              "\n",
              "    .dataframe thead th {\n",
              "        text-align: right;\n",
              "    }\n",
              "</style>\n",
              "<table border=\"1\" class=\"dataframe\">\n",
              "  <thead>\n",
              "    <tr style=\"text-align: right;\">\n",
              "      <th></th>\n",
              "      <th>LGA</th>\n",
              "      <th>POP</th>\n",
              "      <th>latitude</th>\n",
              "      <th>longitude</th>\n",
              "    </tr>\n",
              "  </thead>\n",
              "  <tbody>\n",
              "    <tr>\n",
              "      <th>0</th>\n",
              "      <td>Alimosho</td>\n",
              "      <td>5700714</td>\n",
              "      <td>6.58434</td>\n",
              "      <td>3.257631</td>\n",
              "    </tr>\n",
              "    <tr>\n",
              "      <th>1</th>\n",
              "      <td>Ajeromi-Ifelodun</td>\n",
              "      <td>1746634</td>\n",
              "      <td>6.45512</td>\n",
              "      <td>3.335946</td>\n",
              "    </tr>\n",
              "    <tr>\n",
              "      <th>2</th>\n",
              "      <td>Kosofe</td>\n",
              "      <td>665998</td>\n",
              "      <td>6.58197</td>\n",
              "      <td>3.414836</td>\n",
              "    </tr>\n",
              "    <tr>\n",
              "      <th>3</th>\n",
              "      <td>Mushin, Lagos</td>\n",
              "      <td>633543</td>\n",
              "      <td>6.53263</td>\n",
              "      <td>3.352022</td>\n",
              "    </tr>\n",
              "    <tr>\n",
              "      <th>4</th>\n",
              "      <td>Oshodi-Isolo</td>\n",
              "      <td>621789</td>\n",
              "      <td>6.54001</td>\n",
              "      <td>3.312415</td>\n",
              "    </tr>\n",
              "  </tbody>\n",
              "</table>\n",
              "</div>"
            ],
            "text/plain": [
              "                LGA      POP latitude  longitude\n",
              "0          Alimosho  5700714  6.58434   3.257631\n",
              "1  Ajeromi-Ifelodun  1746634  6.45512   3.335946\n",
              "2            Kosofe   665998  6.58197   3.414836\n",
              "3     Mushin, Lagos   633543  6.53263   3.352022\n",
              "4      Oshodi-Isolo   621789  6.54001   3.312415"
            ]
          },
          "metadata": {
            "tags": []
          },
          "execution_count": 228
        }
      ]
    },
    {
      "cell_type": "markdown",
      "metadata": {
        "id": "T0xVOE2NCnAm",
        "colab_type": "text"
      },
      "source": [
        "##### Let's Create a map of Lagos State with LGAs superimposed on top."
      ]
    },
    {
      "cell_type": "code",
      "metadata": {
        "id": "jCJ0CX8RDBJY",
        "colab_type": "code",
        "outputId": "1c2169c2-3e34-4d32-d741-1fddd4834a7c",
        "colab": {
          "base_uri": "https://localhost:8080/",
          "height": 34
        }
      },
      "source": [
        "address = 'Lagos'\n",
        "\n",
        "geolocator = Nominatim(user_agent=\"NG_explorer\")\n",
        "location = geolocator.geocode(address)\n",
        "latitude = location.latitude\n",
        "longitude = location.longitude\n",
        "print('The geograpical coordinate of Lagos State are {}, {}.'.format(latitude, longitude))\n"
      ],
      "execution_count": 0,
      "outputs": [
        {
          "output_type": "stream",
          "text": [
            "The geograpical coordinate of Lagos State are 6.4550575, 3.3941795.\n"
          ],
          "name": "stdout"
        }
      ]
    },
    {
      "cell_type": "code",
      "metadata": {
        "id": "mRPWeNjGDcFs",
        "colab_type": "code",
        "outputId": "5330d845-819c-491c-dc73-f1f8991e3482",
        "colab": {
          "base_uri": "https://localhost:8080/",
          "height": 858
        }
      },
      "source": [
        "map_lagos_state = folium.Map(location=[latitude, longitude], zoom_start=10)\n",
        "\n",
        "# add markers to map\n",
        "for lat, lng, LGA  in zip(lagos_df['latitude'], lagos_df['longitude'], lagos_df['LGA']):\n",
        "    label = '{}'.format(LGA)\n",
        "    label = folium.Popup(label, parse_html=True)\n",
        "    folium.CircleMarker(\n",
        "        [lat, lng],\n",
        "        radius=6,\n",
        "        popup=label,\n",
        "        color='blue',\n",
        "        fill=True,\n",
        "        fill_color='red',\n",
        "        fill_opacity=0.7,\n",
        "        parse_html=False).add_to(map_lagos_state)  \n",
        "    \n",
        "map_lagos_state"
      ],
      "execution_count": 0,
      "outputs": [
        {
          "output_type": "execute_result",
          "data": {
            "text/html": [
              "<div style=\"width:100%;\"><div style=\"position:relative;width:100%;height:0;padding-bottom:60%;\"><iframe src=\"data:text/html;charset=utf-8;base64,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\" style=\"position:absolute;width:100%;height:100%;left:0;top:0;border:none !important;\" allowfullscreen webkitallowfullscreen mozallowfullscreen></iframe></div></div>"
            ],
            "text/plain": [
              "<folium.folium.Map at 0x7fb59c6ce7b8>"
            ]
          },
          "metadata": {
            "tags": []
          },
          "execution_count": 230
        }
      ]
    },
    {
      "cell_type": "markdown",
      "metadata": {
        "id": "bkPieyW1Oj7z",
        "colab_type": "text"
      },
      "source": [
        "#### Let's create a method to return a DataFrame of the venues in lagos state in each LGA "
      ]
    },
    {
      "cell_type": "code",
      "metadata": {
        "id": "k4Ymj-JiFnOR",
        "colab_type": "code",
        "colab": {}
      },
      "source": [
        "def getNearbyVenues(names, latitudes, longitudes, radius=10000):\n",
        "    \n",
        "    venues_list=[]\n",
        "    for name, lat, lng in zip(names, latitudes, longitudes):\n",
        "        print(name)\n",
        "            \n",
        "        # create the API request URL\n",
        "        url = 'https://api.foursquare.com/v2/venues/explore?&client_id={}&client_secret={}&v={}&ll={},{}&radius={}&limit={}'.format(\n",
        "            CLIENT_ID, \n",
        "            CLIENT_SECRET, \n",
        "            VERSION, \n",
        "            lat, \n",
        "            lng, \n",
        "            radius, \n",
        "            LIMIT)\n",
        "            \n",
        "        # make the GET request\n",
        "        results = requests.get(url).json()[\"response\"]['groups'][0]['items']\n",
        "        \n",
        "        # return only relevant information for each nearby venue\n",
        "        venues_list.append([(\n",
        "            name, \n",
        "            lat, \n",
        "            lng, \n",
        "            v['venue']['name'], \n",
        "            v['venue']['location']['lat'], \n",
        "            v['venue']['location']['lng'],  \n",
        "            v['venue']['categories'][0]['name']) for v in results])\n",
        "\n",
        "    nearby_venues = pd.DataFrame([item for venue_list in venues_list for item in venue_list])\n",
        "    nearby_venues.columns = ['LGA', \n",
        "                  'LGA_Latitude', \n",
        "                  'LGA_Longitude', \n",
        "                  'Venue', \n",
        "                  'Venue_Latitude', \n",
        "                  'Venue_Longitude', \n",
        "                  'Venue_Category']\n",
        "    \n",
        "    return(nearby_venues)"
      ],
      "execution_count": 0,
      "outputs": []
    },
    {
      "cell_type": "code",
      "metadata": {
        "id": "iyZQZzVjJLDk",
        "colab_type": "code",
        "outputId": "b3409349-f771-4008-819a-6bc882704884",
        "colab": {
          "base_uri": "https://localhost:8080/",
          "height": 353
        }
      },
      "source": [
        "lagos_state_venues = getNearbyVenues(names= lagos_df['LGA'],\n",
        "                                     latitudes= lagos_df['latitude'],\n",
        "                                     longitudes= lagos_df['longitude'])"
      ],
      "execution_count": 0,
      "outputs": [
        {
          "output_type": "stream",
          "text": [
            "Alimosho\n",
            "Ajeromi-Ifelodun\n",
            "Kosofe\n",
            "Mushin, Lagos\n",
            "Oshodi-Isolo\n",
            "Ojo\n",
            "Ikorodu\n",
            "Surulere\n",
            "Agege\n",
            "Ifako-Ijaiye\n",
            "Somolu\n",
            "Amuwo-Odofin\n",
            "Lagos Mainland\n",
            "Ikeja\n",
            "Eti-Osa\n",
            "Badagry\n",
            "Apapa\n",
            "Lagos Island\n",
            "Epe\n",
            "Ibeju-Lekki\n"
          ],
          "name": "stdout"
        }
      ]
    },
    {
      "cell_type": "markdown",
      "metadata": {
        "id": "KDLlrZ9QKnwj",
        "colab_type": "text"
      },
      "source": [
        "#### Let's check the size of the resulting dataframe and the first 5 rows."
      ]
    },
    {
      "cell_type": "code",
      "metadata": {
        "id": "m3MqRV9UKrlb",
        "colab_type": "code",
        "outputId": "3fee8fb1-3327-423c-f9b8-5765e7e639b1",
        "colab": {
          "base_uri": "https://localhost:8080/",
          "height": 418
        }
      },
      "source": [
        "print(lagos_state_venues.shape)\n",
        "\n",
        "lagos_state_venues"
      ],
      "execution_count": 0,
      "outputs": [
        {
          "output_type": "stream",
          "text": [
            "(1089, 7)\n"
          ],
          "name": "stdout"
        },
        {
          "output_type": "execute_result",
          "data": {
            "text/html": [
              "<div>\n",
              "<style scoped>\n",
              "    .dataframe tbody tr th:only-of-type {\n",
              "        vertical-align: middle;\n",
              "    }\n",
              "\n",
              "    .dataframe tbody tr th {\n",
              "        vertical-align: top;\n",
              "    }\n",
              "\n",
              "    .dataframe thead th {\n",
              "        text-align: right;\n",
              "    }\n",
              "</style>\n",
              "<table border=\"1\" class=\"dataframe\">\n",
              "  <thead>\n",
              "    <tr style=\"text-align: right;\">\n",
              "      <th></th>\n",
              "      <th>LGA</th>\n",
              "      <th>LGA_Latitude</th>\n",
              "      <th>LGA_Longitude</th>\n",
              "      <th>Venue</th>\n",
              "      <th>Venue_Latitude</th>\n",
              "      <th>Venue_Longitude</th>\n",
              "      <th>Venue_Category</th>\n",
              "    </tr>\n",
              "  </thead>\n",
              "  <tbody>\n",
              "    <tr>\n",
              "      <th>0</th>\n",
              "      <td>Alimosho</td>\n",
              "      <td>6.584343</td>\n",
              "      <td>3.257631</td>\n",
              "      <td>SHAWARMA.COME</td>\n",
              "      <td>6.604609</td>\n",
              "      <td>3.277413</td>\n",
              "      <td>Pizza Place</td>\n",
              "    </tr>\n",
              "    <tr>\n",
              "      <th>1</th>\n",
              "      <td>Alimosho</td>\n",
              "      <td>6.584343</td>\n",
              "      <td>3.257631</td>\n",
              "      <td>Tantalisers</td>\n",
              "      <td>6.649299</td>\n",
              "      <td>3.265609</td>\n",
              "      <td>Burger Joint</td>\n",
              "    </tr>\n",
              "    <tr>\n",
              "      <th>2</th>\n",
              "      <td>Alimosho</td>\n",
              "      <td>6.584343</td>\n",
              "      <td>3.257631</td>\n",
              "      <td>Wings Restaurant</td>\n",
              "      <td>6.576023</td>\n",
              "      <td>3.325612</td>\n",
              "      <td>Restaurant</td>\n",
              "    </tr>\n",
              "    <tr>\n",
              "      <th>3</th>\n",
              "      <td>Alimosho</td>\n",
              "      <td>6.584343</td>\n",
              "      <td>3.257631</td>\n",
              "      <td>Ipaja market ipaja</td>\n",
              "      <td>6.602248</td>\n",
              "      <td>3.255585</td>\n",
              "      <td>Market</td>\n",
              "    </tr>\n",
              "    <tr>\n",
              "      <th>4</th>\n",
              "      <td>Alimosho</td>\n",
              "      <td>6.584343</td>\n",
              "      <td>3.257631</td>\n",
              "      <td>De Grange suites &amp; bar</td>\n",
              "      <td>6.602309</td>\n",
              "      <td>3.267038</td>\n",
              "      <td>Bar</td>\n",
              "    </tr>\n",
              "    <tr>\n",
              "      <th>...</th>\n",
              "      <td>...</td>\n",
              "      <td>...</td>\n",
              "      <td>...</td>\n",
              "      <td>...</td>\n",
              "      <td>...</td>\n",
              "      <td>...</td>\n",
              "      <td>...</td>\n",
              "    </tr>\n",
              "    <tr>\n",
              "      <th>1084</th>\n",
              "      <td>Epe</td>\n",
              "      <td>6.524750</td>\n",
              "      <td>4.057246</td>\n",
              "      <td>Jubilee Chalets</td>\n",
              "      <td>6.582906</td>\n",
              "      <td>3.989036</td>\n",
              "      <td>Hotel</td>\n",
              "    </tr>\n",
              "    <tr>\n",
              "      <th>1085</th>\n",
              "      <td>Ibeju-Lekki</td>\n",
              "      <td>6.471125</td>\n",
              "      <td>3.814750</td>\n",
              "      <td>Eleko Beach</td>\n",
              "      <td>6.441165</td>\n",
              "      <td>3.854528</td>\n",
              "      <td>Beach</td>\n",
              "    </tr>\n",
              "    <tr>\n",
              "      <th>1086</th>\n",
              "      <td>Ibeju-Lekki</td>\n",
              "      <td>6.471125</td>\n",
              "      <td>3.814750</td>\n",
              "      <td>lakowe lakes golfcourt</td>\n",
              "      <td>6.459769</td>\n",
              "      <td>3.743862</td>\n",
              "      <td>Golf Course</td>\n",
              "    </tr>\n",
              "    <tr>\n",
              "      <th>1087</th>\n",
              "      <td>Ibeju-Lekki</td>\n",
              "      <td>6.471125</td>\n",
              "      <td>3.814750</td>\n",
              "      <td>Omu Resort</td>\n",
              "      <td>6.489678</td>\n",
              "      <td>3.753977</td>\n",
              "      <td>Resort</td>\n",
              "    </tr>\n",
              "    <tr>\n",
              "      <th>1088</th>\n",
              "      <td>Ibeju-Lekki</td>\n",
              "      <td>6.471125</td>\n",
              "      <td>3.814750</td>\n",
              "      <td>Olive Estate Lekki FTZ</td>\n",
              "      <td>6.472714</td>\n",
              "      <td>3.730803</td>\n",
              "      <td>Arcade</td>\n",
              "    </tr>\n",
              "  </tbody>\n",
              "</table>\n",
              "<p>1089 rows × 7 columns</p>\n",
              "</div>"
            ],
            "text/plain": [
              "              LGA  LGA_Latitude  ...  Venue_Longitude Venue_Category\n",
              "0        Alimosho      6.584343  ...         3.277413    Pizza Place\n",
              "1        Alimosho      6.584343  ...         3.265609   Burger Joint\n",
              "2        Alimosho      6.584343  ...         3.325612     Restaurant\n",
              "3        Alimosho      6.584343  ...         3.255585         Market\n",
              "4        Alimosho      6.584343  ...         3.267038            Bar\n",
              "...           ...           ...  ...              ...            ...\n",
              "1084          Epe      6.524750  ...         3.989036          Hotel\n",
              "1085  Ibeju-Lekki      6.471125  ...         3.854528          Beach\n",
              "1086  Ibeju-Lekki      6.471125  ...         3.743862    Golf Course\n",
              "1087  Ibeju-Lekki      6.471125  ...         3.753977         Resort\n",
              "1088  Ibeju-Lekki      6.471125  ...         3.730803         Arcade\n",
              "\n",
              "[1089 rows x 7 columns]"
            ]
          },
          "metadata": {
            "tags": []
          },
          "execution_count": 233
        }
      ]
    },
    {
      "cell_type": "markdown",
      "metadata": {
        "id": "y6EmxfouL6PK",
        "colab_type": "text"
      },
      "source": [
        "#### Let's check how many venues were returned for each neighborhood"
      ]
    },
    {
      "cell_type": "code",
      "metadata": {
        "id": "BaNCPbxOL5RJ",
        "colab_type": "code",
        "outputId": "7413016f-3da9-475d-c722-f502945fa86d",
        "colab": {
          "base_uri": "https://localhost:8080/",
          "height": 669
        }
      },
      "source": [
        "lagos_state_venues.groupby('LGA').count()"
      ],
      "execution_count": 0,
      "outputs": [
        {
          "output_type": "execute_result",
          "data": {
            "text/html": [
              "<div>\n",
              "<style scoped>\n",
              "    .dataframe tbody tr th:only-of-type {\n",
              "        vertical-align: middle;\n",
              "    }\n",
              "\n",
              "    .dataframe tbody tr th {\n",
              "        vertical-align: top;\n",
              "    }\n",
              "\n",
              "    .dataframe thead th {\n",
              "        text-align: right;\n",
              "    }\n",
              "</style>\n",
              "<table border=\"1\" class=\"dataframe\">\n",
              "  <thead>\n",
              "    <tr style=\"text-align: right;\">\n",
              "      <th></th>\n",
              "      <th>LGA_Latitude</th>\n",
              "      <th>LGA_Longitude</th>\n",
              "      <th>Venue</th>\n",
              "      <th>Venue_Latitude</th>\n",
              "      <th>Venue_Longitude</th>\n",
              "      <th>Venue_Category</th>\n",
              "    </tr>\n",
              "    <tr>\n",
              "      <th>LGA</th>\n",
              "      <th></th>\n",
              "      <th></th>\n",
              "      <th></th>\n",
              "      <th></th>\n",
              "      <th></th>\n",
              "      <th></th>\n",
              "    </tr>\n",
              "  </thead>\n",
              "  <tbody>\n",
              "    <tr>\n",
              "      <th>Agege</th>\n",
              "      <td>91</td>\n",
              "      <td>91</td>\n",
              "      <td>91</td>\n",
              "      <td>91</td>\n",
              "      <td>91</td>\n",
              "      <td>91</td>\n",
              "    </tr>\n",
              "    <tr>\n",
              "      <th>Ajeromi-Ifelodun</th>\n",
              "      <td>59</td>\n",
              "      <td>59</td>\n",
              "      <td>59</td>\n",
              "      <td>59</td>\n",
              "      <td>59</td>\n",
              "      <td>59</td>\n",
              "    </tr>\n",
              "    <tr>\n",
              "      <th>Alimosho</th>\n",
              "      <td>39</td>\n",
              "      <td>39</td>\n",
              "      <td>39</td>\n",
              "      <td>39</td>\n",
              "      <td>39</td>\n",
              "      <td>39</td>\n",
              "    </tr>\n",
              "    <tr>\n",
              "      <th>Amuwo-Odofin</th>\n",
              "      <td>20</td>\n",
              "      <td>20</td>\n",
              "      <td>20</td>\n",
              "      <td>20</td>\n",
              "      <td>20</td>\n",
              "      <td>20</td>\n",
              "    </tr>\n",
              "    <tr>\n",
              "      <th>Apapa</th>\n",
              "      <td>100</td>\n",
              "      <td>100</td>\n",
              "      <td>100</td>\n",
              "      <td>100</td>\n",
              "      <td>100</td>\n",
              "      <td>100</td>\n",
              "    </tr>\n",
              "    <tr>\n",
              "      <th>Badagry</th>\n",
              "      <td>5</td>\n",
              "      <td>5</td>\n",
              "      <td>5</td>\n",
              "      <td>5</td>\n",
              "      <td>5</td>\n",
              "      <td>5</td>\n",
              "    </tr>\n",
              "    <tr>\n",
              "      <th>Epe</th>\n",
              "      <td>2</td>\n",
              "      <td>2</td>\n",
              "      <td>2</td>\n",
              "      <td>2</td>\n",
              "      <td>2</td>\n",
              "      <td>2</td>\n",
              "    </tr>\n",
              "    <tr>\n",
              "      <th>Eti-Osa</th>\n",
              "      <td>54</td>\n",
              "      <td>54</td>\n",
              "      <td>54</td>\n",
              "      <td>54</td>\n",
              "      <td>54</td>\n",
              "      <td>54</td>\n",
              "    </tr>\n",
              "    <tr>\n",
              "      <th>Ibeju-Lekki</th>\n",
              "      <td>4</td>\n",
              "      <td>4</td>\n",
              "      <td>4</td>\n",
              "      <td>4</td>\n",
              "      <td>4</td>\n",
              "      <td>4</td>\n",
              "    </tr>\n",
              "    <tr>\n",
              "      <th>Ifako-Ijaiye</th>\n",
              "      <td>62</td>\n",
              "      <td>62</td>\n",
              "      <td>62</td>\n",
              "      <td>62</td>\n",
              "      <td>62</td>\n",
              "      <td>62</td>\n",
              "    </tr>\n",
              "    <tr>\n",
              "      <th>Ikeja</th>\n",
              "      <td>91</td>\n",
              "      <td>91</td>\n",
              "      <td>91</td>\n",
              "      <td>91</td>\n",
              "      <td>91</td>\n",
              "      <td>91</td>\n",
              "    </tr>\n",
              "    <tr>\n",
              "      <th>Ikorodu</th>\n",
              "      <td>10</td>\n",
              "      <td>10</td>\n",
              "      <td>10</td>\n",
              "      <td>10</td>\n",
              "      <td>10</td>\n",
              "      <td>10</td>\n",
              "    </tr>\n",
              "    <tr>\n",
              "      <th>Kosofe</th>\n",
              "      <td>79</td>\n",
              "      <td>79</td>\n",
              "      <td>79</td>\n",
              "      <td>79</td>\n",
              "      <td>79</td>\n",
              "      <td>79</td>\n",
              "    </tr>\n",
              "    <tr>\n",
              "      <th>Lagos Island</th>\n",
              "      <td>63</td>\n",
              "      <td>63</td>\n",
              "      <td>63</td>\n",
              "      <td>63</td>\n",
              "      <td>63</td>\n",
              "      <td>63</td>\n",
              "    </tr>\n",
              "    <tr>\n",
              "      <th>Lagos Mainland</th>\n",
              "      <td>100</td>\n",
              "      <td>100</td>\n",
              "      <td>100</td>\n",
              "      <td>100</td>\n",
              "      <td>100</td>\n",
              "      <td>100</td>\n",
              "    </tr>\n",
              "    <tr>\n",
              "      <th>Mushin, Lagos</th>\n",
              "      <td>100</td>\n",
              "      <td>100</td>\n",
              "      <td>100</td>\n",
              "      <td>100</td>\n",
              "      <td>100</td>\n",
              "      <td>100</td>\n",
              "    </tr>\n",
              "    <tr>\n",
              "      <th>Ojo</th>\n",
              "      <td>4</td>\n",
              "      <td>4</td>\n",
              "      <td>4</td>\n",
              "      <td>4</td>\n",
              "      <td>4</td>\n",
              "      <td>4</td>\n",
              "    </tr>\n",
              "    <tr>\n",
              "      <th>Oshodi-Isolo</th>\n",
              "      <td>100</td>\n",
              "      <td>100</td>\n",
              "      <td>100</td>\n",
              "      <td>100</td>\n",
              "      <td>100</td>\n",
              "      <td>100</td>\n",
              "    </tr>\n",
              "    <tr>\n",
              "      <th>Somolu</th>\n",
              "      <td>18</td>\n",
              "      <td>18</td>\n",
              "      <td>18</td>\n",
              "      <td>18</td>\n",
              "      <td>18</td>\n",
              "      <td>18</td>\n",
              "    </tr>\n",
              "    <tr>\n",
              "      <th>Surulere</th>\n",
              "      <td>88</td>\n",
              "      <td>88</td>\n",
              "      <td>88</td>\n",
              "      <td>88</td>\n",
              "      <td>88</td>\n",
              "      <td>88</td>\n",
              "    </tr>\n",
              "  </tbody>\n",
              "</table>\n",
              "</div>"
            ],
            "text/plain": [
              "                  LGA_Latitude  LGA_Longitude  ...  Venue_Longitude  Venue_Category\n",
              "LGA                                            ...                                 \n",
              "Agege                       91             91  ...               91              91\n",
              "Ajeromi-Ifelodun            59             59  ...               59              59\n",
              "Alimosho                    39             39  ...               39              39\n",
              "Amuwo-Odofin                20             20  ...               20              20\n",
              "Apapa                      100            100  ...              100             100\n",
              "Badagry                      5              5  ...                5               5\n",
              "Epe                          2              2  ...                2               2\n",
              "Eti-Osa                     54             54  ...               54              54\n",
              "Ibeju-Lekki                  4              4  ...                4               4\n",
              "Ifako-Ijaiye                62             62  ...               62              62\n",
              "Ikeja                       91             91  ...               91              91\n",
              "Ikorodu                     10             10  ...               10              10\n",
              "Kosofe                      79             79  ...               79              79\n",
              "Lagos Island                63             63  ...               63              63\n",
              "Lagos Mainland             100            100  ...              100             100\n",
              "Mushin, Lagos              100            100  ...              100             100\n",
              "Ojo                          4              4  ...                4               4\n",
              "Oshodi-Isolo               100            100  ...              100             100\n",
              "Somolu                      18             18  ...               18              18\n",
              "Surulere                    88             88  ...               88              88\n",
              "\n",
              "[20 rows x 6 columns]"
            ]
          },
          "metadata": {
            "tags": []
          },
          "execution_count": 234
        }
      ]
    },
    {
      "cell_type": "markdown",
      "metadata": {
        "id": "3O2Xpxy3Ms75",
        "colab_type": "text"
      },
      "source": [
        "#### Let's find out how many unique categories can be curated from all the returned venues"
      ]
    },
    {
      "cell_type": "code",
      "metadata": {
        "id": "0bF9jnZiMxhI",
        "colab_type": "code",
        "outputId": "b443bc4e-a763-4a30-a75f-0e45291fddd2",
        "colab": {
          "base_uri": "https://localhost:8080/",
          "height": 34
        }
      },
      "source": [
        "print('There are {} unique categories of venues returned for Lagos State.'.format(lagos_state_venues['Venue_Category'].nunique()))"
      ],
      "execution_count": 0,
      "outputs": [
        {
          "output_type": "stream",
          "text": [
            "There are 105 unique categories of venues returned for Lagos State.\n"
          ],
          "name": "stdout"
        }
      ]
    },
    {
      "cell_type": "markdown",
      "metadata": {
        "id": "yWeeKedVN8x3",
        "colab_type": "text"
      },
      "source": [
        "#### Let's return the top 10 most frequent venues for each LGA"
      ]
    },
    {
      "cell_type": "markdown",
      "metadata": {
        "id": "WTGlNWTfQ-r8",
        "colab_type": "text"
      },
      "source": [
        "First let's onehot encode the DataFrame"
      ]
    },
    {
      "cell_type": "code",
      "metadata": {
        "id": "lGqxvGdSP3Lh",
        "colab_type": "code",
        "outputId": "f0b8d6d0-7e2f-4420-e994-457e8b063e81",
        "colab": {
          "base_uri": "https://localhost:8080/",
          "height": 294
        }
      },
      "source": [
        "# one hot encoding\n",
        "lagos_onehot = pd.get_dummies(lagos_state_venues[['Venue_Category']], prefix=\"\", prefix_sep=\"\")\n",
        "\n",
        "# add LGA column back to dataframe\n",
        "lagos_onehot['LGA'] = lagos_state_venues['LGA'] \n",
        "\n",
        "# move LGA column to the first column\n",
        "fixed_columns = [lagos_onehot.columns[-1]] + list(lagos_onehot.columns[:-1])\n",
        "lagos_onehot = lagos_onehot[fixed_columns]\n",
        "\n",
        "lagos_onehot.head()"
      ],
      "execution_count": 0,
      "outputs": [
        {
          "output_type": "execute_result",
          "data": {
            "text/html": [
              "<div>\n",
              "<style scoped>\n",
              "    .dataframe tbody tr th:only-of-type {\n",
              "        vertical-align: middle;\n",
              "    }\n",
              "\n",
              "    .dataframe tbody tr th {\n",
              "        vertical-align: top;\n",
              "    }\n",
              "\n",
              "    .dataframe thead th {\n",
              "        text-align: right;\n",
              "    }\n",
              "</style>\n",
              "<table border=\"1\" class=\"dataframe\">\n",
              "  <thead>\n",
              "    <tr style=\"text-align: right;\">\n",
              "      <th></th>\n",
              "      <th>LGA</th>\n",
              "      <th>African Restaurant</th>\n",
              "      <th>Airport</th>\n",
              "      <th>Airport Food Court</th>\n",
              "      <th>Airport Lounge</th>\n",
              "      <th>Airport Service</th>\n",
              "      <th>Airport Terminal</th>\n",
              "      <th>American Restaurant</th>\n",
              "      <th>Arcade</th>\n",
              "      <th>Art Gallery</th>\n",
              "      <th>Asian Restaurant</th>\n",
              "      <th>Athletics &amp; Sports</th>\n",
              "      <th>Auto Garage</th>\n",
              "      <th>BBQ Joint</th>\n",
              "      <th>Bagel Shop</th>\n",
              "      <th>Bakery</th>\n",
              "      <th>Bar</th>\n",
              "      <th>Baseball Stadium</th>\n",
              "      <th>Beach</th>\n",
              "      <th>Beer Garden</th>\n",
              "      <th>Bike Rental / Bike Share</th>\n",
              "      <th>Bistro</th>\n",
              "      <th>Boutique</th>\n",
              "      <th>Brazilian Restaurant</th>\n",
              "      <th>Breakfast Spot</th>\n",
              "      <th>Burger Joint</th>\n",
              "      <th>Bus Station</th>\n",
              "      <th>Café</th>\n",
              "      <th>Campground</th>\n",
              "      <th>Chinese Restaurant</th>\n",
              "      <th>Clothing Store</th>\n",
              "      <th>Cocktail Bar</th>\n",
              "      <th>Coffee Shop</th>\n",
              "      <th>Comedy Club</th>\n",
              "      <th>Comfort Food Restaurant</th>\n",
              "      <th>Convenience Store</th>\n",
              "      <th>Convention Center</th>\n",
              "      <th>Cupcake Shop</th>\n",
              "      <th>Department Store</th>\n",
              "      <th>Dessert Shop</th>\n",
              "      <th>...</th>\n",
              "      <th>Market</th>\n",
              "      <th>Mediterranean Restaurant</th>\n",
              "      <th>Men's Store</th>\n",
              "      <th>Mexican Restaurant</th>\n",
              "      <th>Mobile Phone Shop</th>\n",
              "      <th>Modern European Restaurant</th>\n",
              "      <th>Movie Theater</th>\n",
              "      <th>Multiplex</th>\n",
              "      <th>Museum</th>\n",
              "      <th>Music Venue</th>\n",
              "      <th>Neighborhood</th>\n",
              "      <th>Nightclub</th>\n",
              "      <th>Other Great Outdoors</th>\n",
              "      <th>Park</th>\n",
              "      <th>Performing Arts Venue</th>\n",
              "      <th>Photography Studio</th>\n",
              "      <th>Pier</th>\n",
              "      <th>Pizza Place</th>\n",
              "      <th>Playground</th>\n",
              "      <th>Plaza</th>\n",
              "      <th>Pool</th>\n",
              "      <th>Pool Hall</th>\n",
              "      <th>Pub</th>\n",
              "      <th>Resort</th>\n",
              "      <th>Restaurant</th>\n",
              "      <th>Seafood Restaurant</th>\n",
              "      <th>Shopping Mall</th>\n",
              "      <th>Snack Place</th>\n",
              "      <th>Soccer Field</th>\n",
              "      <th>Soup Place</th>\n",
              "      <th>Spa</th>\n",
              "      <th>Sports Bar</th>\n",
              "      <th>Stables</th>\n",
              "      <th>Steakhouse</th>\n",
              "      <th>Supermarket</th>\n",
              "      <th>Surf Spot</th>\n",
              "      <th>Sushi Restaurant</th>\n",
              "      <th>Theater</th>\n",
              "      <th>Theme Restaurant</th>\n",
              "      <th>Wine Shop</th>\n",
              "    </tr>\n",
              "  </thead>\n",
              "  <tbody>\n",
              "    <tr>\n",
              "      <th>0</th>\n",
              "      <td>Alimosho</td>\n",
              "      <td>0</td>\n",
              "      <td>0</td>\n",
              "      <td>0</td>\n",
              "      <td>0</td>\n",
              "      <td>0</td>\n",
              "      <td>0</td>\n",
              "      <td>0</td>\n",
              "      <td>0</td>\n",
              "      <td>0</td>\n",
              "      <td>0</td>\n",
              "      <td>0</td>\n",
              "      <td>0</td>\n",
              "      <td>0</td>\n",
              "      <td>0</td>\n",
              "      <td>0</td>\n",
              "      <td>0</td>\n",
              "      <td>0</td>\n",
              "      <td>0</td>\n",
              "      <td>0</td>\n",
              "      <td>0</td>\n",
              "      <td>0</td>\n",
              "      <td>0</td>\n",
              "      <td>0</td>\n",
              "      <td>0</td>\n",
              "      <td>0</td>\n",
              "      <td>0</td>\n",
              "      <td>0</td>\n",
              "      <td>0</td>\n",
              "      <td>0</td>\n",
              "      <td>0</td>\n",
              "      <td>0</td>\n",
              "      <td>0</td>\n",
              "      <td>0</td>\n",
              "      <td>0</td>\n",
              "      <td>0</td>\n",
              "      <td>0</td>\n",
              "      <td>0</td>\n",
              "      <td>0</td>\n",
              "      <td>0</td>\n",
              "      <td>...</td>\n",
              "      <td>0</td>\n",
              "      <td>0</td>\n",
              "      <td>0</td>\n",
              "      <td>0</td>\n",
              "      <td>0</td>\n",
              "      <td>0</td>\n",
              "      <td>0</td>\n",
              "      <td>0</td>\n",
              "      <td>0</td>\n",
              "      <td>0</td>\n",
              "      <td>0</td>\n",
              "      <td>0</td>\n",
              "      <td>0</td>\n",
              "      <td>0</td>\n",
              "      <td>0</td>\n",
              "      <td>0</td>\n",
              "      <td>0</td>\n",
              "      <td>1</td>\n",
              "      <td>0</td>\n",
              "      <td>0</td>\n",
              "      <td>0</td>\n",
              "      <td>0</td>\n",
              "      <td>0</td>\n",
              "      <td>0</td>\n",
              "      <td>0</td>\n",
              "      <td>0</td>\n",
              "      <td>0</td>\n",
              "      <td>0</td>\n",
              "      <td>0</td>\n",
              "      <td>0</td>\n",
              "      <td>0</td>\n",
              "      <td>0</td>\n",
              "      <td>0</td>\n",
              "      <td>0</td>\n",
              "      <td>0</td>\n",
              "      <td>0</td>\n",
              "      <td>0</td>\n",
              "      <td>0</td>\n",
              "      <td>0</td>\n",
              "      <td>0</td>\n",
              "    </tr>\n",
              "    <tr>\n",
              "      <th>1</th>\n",
              "      <td>Alimosho</td>\n",
              "      <td>0</td>\n",
              "      <td>0</td>\n",
              "      <td>0</td>\n",
              "      <td>0</td>\n",
              "      <td>0</td>\n",
              "      <td>0</td>\n",
              "      <td>0</td>\n",
              "      <td>0</td>\n",
              "      <td>0</td>\n",
              "      <td>0</td>\n",
              "      <td>0</td>\n",
              "      <td>0</td>\n",
              "      <td>0</td>\n",
              "      <td>0</td>\n",
              "      <td>0</td>\n",
              "      <td>0</td>\n",
              "      <td>0</td>\n",
              "      <td>0</td>\n",
              "      <td>0</td>\n",
              "      <td>0</td>\n",
              "      <td>0</td>\n",
              "      <td>0</td>\n",
              "      <td>0</td>\n",
              "      <td>0</td>\n",
              "      <td>1</td>\n",
              "      <td>0</td>\n",
              "      <td>0</td>\n",
              "      <td>0</td>\n",
              "      <td>0</td>\n",
              "      <td>0</td>\n",
              "      <td>0</td>\n",
              "      <td>0</td>\n",
              "      <td>0</td>\n",
              "      <td>0</td>\n",
              "      <td>0</td>\n",
              "      <td>0</td>\n",
              "      <td>0</td>\n",
              "      <td>0</td>\n",
              "      <td>0</td>\n",
              "      <td>...</td>\n",
              "      <td>0</td>\n",
              "      <td>0</td>\n",
              "      <td>0</td>\n",
              "      <td>0</td>\n",
              "      <td>0</td>\n",
              "      <td>0</td>\n",
              "      <td>0</td>\n",
              "      <td>0</td>\n",
              "      <td>0</td>\n",
              "      <td>0</td>\n",
              "      <td>0</td>\n",
              "      <td>0</td>\n",
              "      <td>0</td>\n",
              "      <td>0</td>\n",
              "      <td>0</td>\n",
              "      <td>0</td>\n",
              "      <td>0</td>\n",
              "      <td>0</td>\n",
              "      <td>0</td>\n",
              "      <td>0</td>\n",
              "      <td>0</td>\n",
              "      <td>0</td>\n",
              "      <td>0</td>\n",
              "      <td>0</td>\n",
              "      <td>0</td>\n",
              "      <td>0</td>\n",
              "      <td>0</td>\n",
              "      <td>0</td>\n",
              "      <td>0</td>\n",
              "      <td>0</td>\n",
              "      <td>0</td>\n",
              "      <td>0</td>\n",
              "      <td>0</td>\n",
              "      <td>0</td>\n",
              "      <td>0</td>\n",
              "      <td>0</td>\n",
              "      <td>0</td>\n",
              "      <td>0</td>\n",
              "      <td>0</td>\n",
              "      <td>0</td>\n",
              "    </tr>\n",
              "    <tr>\n",
              "      <th>2</th>\n",
              "      <td>Alimosho</td>\n",
              "      <td>0</td>\n",
              "      <td>0</td>\n",
              "      <td>0</td>\n",
              "      <td>0</td>\n",
              "      <td>0</td>\n",
              "      <td>0</td>\n",
              "      <td>0</td>\n",
              "      <td>0</td>\n",
              "      <td>0</td>\n",
              "      <td>0</td>\n",
              "      <td>0</td>\n",
              "      <td>0</td>\n",
              "      <td>0</td>\n",
              "      <td>0</td>\n",
              "      <td>0</td>\n",
              "      <td>0</td>\n",
              "      <td>0</td>\n",
              "      <td>0</td>\n",
              "      <td>0</td>\n",
              "      <td>0</td>\n",
              "      <td>0</td>\n",
              "      <td>0</td>\n",
              "      <td>0</td>\n",
              "      <td>0</td>\n",
              "      <td>0</td>\n",
              "      <td>0</td>\n",
              "      <td>0</td>\n",
              "      <td>0</td>\n",
              "      <td>0</td>\n",
              "      <td>0</td>\n",
              "      <td>0</td>\n",
              "      <td>0</td>\n",
              "      <td>0</td>\n",
              "      <td>0</td>\n",
              "      <td>0</td>\n",
              "      <td>0</td>\n",
              "      <td>0</td>\n",
              "      <td>0</td>\n",
              "      <td>0</td>\n",
              "      <td>...</td>\n",
              "      <td>0</td>\n",
              "      <td>0</td>\n",
              "      <td>0</td>\n",
              "      <td>0</td>\n",
              "      <td>0</td>\n",
              "      <td>0</td>\n",
              "      <td>0</td>\n",
              "      <td>0</td>\n",
              "      <td>0</td>\n",
              "      <td>0</td>\n",
              "      <td>0</td>\n",
              "      <td>0</td>\n",
              "      <td>0</td>\n",
              "      <td>0</td>\n",
              "      <td>0</td>\n",
              "      <td>0</td>\n",
              "      <td>0</td>\n",
              "      <td>0</td>\n",
              "      <td>0</td>\n",
              "      <td>0</td>\n",
              "      <td>0</td>\n",
              "      <td>0</td>\n",
              "      <td>0</td>\n",
              "      <td>0</td>\n",
              "      <td>1</td>\n",
              "      <td>0</td>\n",
              "      <td>0</td>\n",
              "      <td>0</td>\n",
              "      <td>0</td>\n",
              "      <td>0</td>\n",
              "      <td>0</td>\n",
              "      <td>0</td>\n",
              "      <td>0</td>\n",
              "      <td>0</td>\n",
              "      <td>0</td>\n",
              "      <td>0</td>\n",
              "      <td>0</td>\n",
              "      <td>0</td>\n",
              "      <td>0</td>\n",
              "      <td>0</td>\n",
              "    </tr>\n",
              "    <tr>\n",
              "      <th>3</th>\n",
              "      <td>Alimosho</td>\n",
              "      <td>0</td>\n",
              "      <td>0</td>\n",
              "      <td>0</td>\n",
              "      <td>0</td>\n",
              "      <td>0</td>\n",
              "      <td>0</td>\n",
              "      <td>0</td>\n",
              "      <td>0</td>\n",
              "      <td>0</td>\n",
              "      <td>0</td>\n",
              "      <td>0</td>\n",
              "      <td>0</td>\n",
              "      <td>0</td>\n",
              "      <td>0</td>\n",
              "      <td>0</td>\n",
              "      <td>0</td>\n",
              "      <td>0</td>\n",
              "      <td>0</td>\n",
              "      <td>0</td>\n",
              "      <td>0</td>\n",
              "      <td>0</td>\n",
              "      <td>0</td>\n",
              "      <td>0</td>\n",
              "      <td>0</td>\n",
              "      <td>0</td>\n",
              "      <td>0</td>\n",
              "      <td>0</td>\n",
              "      <td>0</td>\n",
              "      <td>0</td>\n",
              "      <td>0</td>\n",
              "      <td>0</td>\n",
              "      <td>0</td>\n",
              "      <td>0</td>\n",
              "      <td>0</td>\n",
              "      <td>0</td>\n",
              "      <td>0</td>\n",
              "      <td>0</td>\n",
              "      <td>0</td>\n",
              "      <td>0</td>\n",
              "      <td>...</td>\n",
              "      <td>1</td>\n",
              "      <td>0</td>\n",
              "      <td>0</td>\n",
              "      <td>0</td>\n",
              "      <td>0</td>\n",
              "      <td>0</td>\n",
              "      <td>0</td>\n",
              "      <td>0</td>\n",
              "      <td>0</td>\n",
              "      <td>0</td>\n",
              "      <td>0</td>\n",
              "      <td>0</td>\n",
              "      <td>0</td>\n",
              "      <td>0</td>\n",
              "      <td>0</td>\n",
              "      <td>0</td>\n",
              "      <td>0</td>\n",
              "      <td>0</td>\n",
              "      <td>0</td>\n",
              "      <td>0</td>\n",
              "      <td>0</td>\n",
              "      <td>0</td>\n",
              "      <td>0</td>\n",
              "      <td>0</td>\n",
              "      <td>0</td>\n",
              "      <td>0</td>\n",
              "      <td>0</td>\n",
              "      <td>0</td>\n",
              "      <td>0</td>\n",
              "      <td>0</td>\n",
              "      <td>0</td>\n",
              "      <td>0</td>\n",
              "      <td>0</td>\n",
              "      <td>0</td>\n",
              "      <td>0</td>\n",
              "      <td>0</td>\n",
              "      <td>0</td>\n",
              "      <td>0</td>\n",
              "      <td>0</td>\n",
              "      <td>0</td>\n",
              "    </tr>\n",
              "    <tr>\n",
              "      <th>4</th>\n",
              "      <td>Alimosho</td>\n",
              "      <td>0</td>\n",
              "      <td>0</td>\n",
              "      <td>0</td>\n",
              "      <td>0</td>\n",
              "      <td>0</td>\n",
              "      <td>0</td>\n",
              "      <td>0</td>\n",
              "      <td>0</td>\n",
              "      <td>0</td>\n",
              "      <td>0</td>\n",
              "      <td>0</td>\n",
              "      <td>0</td>\n",
              "      <td>0</td>\n",
              "      <td>0</td>\n",
              "      <td>0</td>\n",
              "      <td>1</td>\n",
              "      <td>0</td>\n",
              "      <td>0</td>\n",
              "      <td>0</td>\n",
              "      <td>0</td>\n",
              "      <td>0</td>\n",
              "      <td>0</td>\n",
              "      <td>0</td>\n",
              "      <td>0</td>\n",
              "      <td>0</td>\n",
              "      <td>0</td>\n",
              "      <td>0</td>\n",
              "      <td>0</td>\n",
              "      <td>0</td>\n",
              "      <td>0</td>\n",
              "      <td>0</td>\n",
              "      <td>0</td>\n",
              "      <td>0</td>\n",
              "      <td>0</td>\n",
              "      <td>0</td>\n",
              "      <td>0</td>\n",
              "      <td>0</td>\n",
              "      <td>0</td>\n",
              "      <td>0</td>\n",
              "      <td>...</td>\n",
              "      <td>0</td>\n",
              "      <td>0</td>\n",
              "      <td>0</td>\n",
              "      <td>0</td>\n",
              "      <td>0</td>\n",
              "      <td>0</td>\n",
              "      <td>0</td>\n",
              "      <td>0</td>\n",
              "      <td>0</td>\n",
              "      <td>0</td>\n",
              "      <td>0</td>\n",
              "      <td>0</td>\n",
              "      <td>0</td>\n",
              "      <td>0</td>\n",
              "      <td>0</td>\n",
              "      <td>0</td>\n",
              "      <td>0</td>\n",
              "      <td>0</td>\n",
              "      <td>0</td>\n",
              "      <td>0</td>\n",
              "      <td>0</td>\n",
              "      <td>0</td>\n",
              "      <td>0</td>\n",
              "      <td>0</td>\n",
              "      <td>0</td>\n",
              "      <td>0</td>\n",
              "      <td>0</td>\n",
              "      <td>0</td>\n",
              "      <td>0</td>\n",
              "      <td>0</td>\n",
              "      <td>0</td>\n",
              "      <td>0</td>\n",
              "      <td>0</td>\n",
              "      <td>0</td>\n",
              "      <td>0</td>\n",
              "      <td>0</td>\n",
              "      <td>0</td>\n",
              "      <td>0</td>\n",
              "      <td>0</td>\n",
              "      <td>0</td>\n",
              "    </tr>\n",
              "  </tbody>\n",
              "</table>\n",
              "<p>5 rows × 106 columns</p>\n",
              "</div>"
            ],
            "text/plain": [
              "        LGA  African Restaurant  Airport  ...  Theater  Theme Restaurant  Wine Shop\n",
              "0  Alimosho                   0        0  ...        0                 0          0\n",
              "1  Alimosho                   0        0  ...        0                 0          0\n",
              "2  Alimosho                   0        0  ...        0                 0          0\n",
              "3  Alimosho                   0        0  ...        0                 0          0\n",
              "4  Alimosho                   0        0  ...        0                 0          0\n",
              "\n",
              "[5 rows x 106 columns]"
            ]
          },
          "metadata": {
            "tags": []
          },
          "execution_count": 236
        }
      ]
    },
    {
      "cell_type": "markdown",
      "metadata": {
        "id": "KbpLHsyERJMm",
        "colab_type": "text"
      },
      "source": [
        "And let's examine the new dataframe size."
      ]
    },
    {
      "cell_type": "code",
      "metadata": {
        "id": "4iPXiaQZRM7z",
        "colab_type": "code",
        "outputId": "9e35bb2b-1256-4444-843c-1418275692ff",
        "colab": {
          "base_uri": "https://localhost:8080/",
          "height": 34
        }
      },
      "source": [
        "lagos_onehot.shape"
      ],
      "execution_count": 0,
      "outputs": [
        {
          "output_type": "execute_result",
          "data": {
            "text/plain": [
              "(1089, 106)"
            ]
          },
          "metadata": {
            "tags": []
          },
          "execution_count": 237
        }
      ]
    },
    {
      "cell_type": "markdown",
      "metadata": {
        "id": "MSXPAJlxR1y7",
        "colab_type": "text"
      },
      "source": [
        "Next, let's group rows by LGA and by taking the mean of the frequency of occurrence of each category"
      ]
    },
    {
      "cell_type": "code",
      "metadata": {
        "id": "aT_OjMZqR5Zi",
        "colab_type": "code",
        "outputId": "cf909d09-820f-41f9-fdce-03d8a51e312b",
        "colab": {
          "base_uri": "https://localhost:8080/",
          "height": 873
        }
      },
      "source": [
        "lagos_grouped = lagos_onehot.groupby('LGA').mean().reset_index()\n",
        "\n",
        "lagos_grouped"
      ],
      "execution_count": 0,
      "outputs": [
        {
          "output_type": "execute_result",
          "data": {
            "text/html": [
              "<div>\n",
              "<style scoped>\n",
              "    .dataframe tbody tr th:only-of-type {\n",
              "        vertical-align: middle;\n",
              "    }\n",
              "\n",
              "    .dataframe tbody tr th {\n",
              "        vertical-align: top;\n",
              "    }\n",
              "\n",
              "    .dataframe thead th {\n",
              "        text-align: right;\n",
              "    }\n",
              "</style>\n",
              "<table border=\"1\" class=\"dataframe\">\n",
              "  <thead>\n",
              "    <tr style=\"text-align: right;\">\n",
              "      <th></th>\n",
              "      <th>LGA</th>\n",
              "      <th>African Restaurant</th>\n",
              "      <th>Airport</th>\n",
              "      <th>Airport Food Court</th>\n",
              "      <th>Airport Lounge</th>\n",
              "      <th>Airport Service</th>\n",
              "      <th>Airport Terminal</th>\n",
              "      <th>American Restaurant</th>\n",
              "      <th>Arcade</th>\n",
              "      <th>Art Gallery</th>\n",
              "      <th>Asian Restaurant</th>\n",
              "      <th>Athletics &amp; Sports</th>\n",
              "      <th>Auto Garage</th>\n",
              "      <th>BBQ Joint</th>\n",
              "      <th>Bagel Shop</th>\n",
              "      <th>Bakery</th>\n",
              "      <th>Bar</th>\n",
              "      <th>Baseball Stadium</th>\n",
              "      <th>Beach</th>\n",
              "      <th>Beer Garden</th>\n",
              "      <th>Bike Rental / Bike Share</th>\n",
              "      <th>Bistro</th>\n",
              "      <th>Boutique</th>\n",
              "      <th>Brazilian Restaurant</th>\n",
              "      <th>Breakfast Spot</th>\n",
              "      <th>Burger Joint</th>\n",
              "      <th>Bus Station</th>\n",
              "      <th>Café</th>\n",
              "      <th>Campground</th>\n",
              "      <th>Chinese Restaurant</th>\n",
              "      <th>Clothing Store</th>\n",
              "      <th>Cocktail Bar</th>\n",
              "      <th>Coffee Shop</th>\n",
              "      <th>Comedy Club</th>\n",
              "      <th>Comfort Food Restaurant</th>\n",
              "      <th>Convenience Store</th>\n",
              "      <th>Convention Center</th>\n",
              "      <th>Cupcake Shop</th>\n",
              "      <th>Department Store</th>\n",
              "      <th>Dessert Shop</th>\n",
              "      <th>...</th>\n",
              "      <th>Market</th>\n",
              "      <th>Mediterranean Restaurant</th>\n",
              "      <th>Men's Store</th>\n",
              "      <th>Mexican Restaurant</th>\n",
              "      <th>Mobile Phone Shop</th>\n",
              "      <th>Modern European Restaurant</th>\n",
              "      <th>Movie Theater</th>\n",
              "      <th>Multiplex</th>\n",
              "      <th>Museum</th>\n",
              "      <th>Music Venue</th>\n",
              "      <th>Neighborhood</th>\n",
              "      <th>Nightclub</th>\n",
              "      <th>Other Great Outdoors</th>\n",
              "      <th>Park</th>\n",
              "      <th>Performing Arts Venue</th>\n",
              "      <th>Photography Studio</th>\n",
              "      <th>Pier</th>\n",
              "      <th>Pizza Place</th>\n",
              "      <th>Playground</th>\n",
              "      <th>Plaza</th>\n",
              "      <th>Pool</th>\n",
              "      <th>Pool Hall</th>\n",
              "      <th>Pub</th>\n",
              "      <th>Resort</th>\n",
              "      <th>Restaurant</th>\n",
              "      <th>Seafood Restaurant</th>\n",
              "      <th>Shopping Mall</th>\n",
              "      <th>Snack Place</th>\n",
              "      <th>Soccer Field</th>\n",
              "      <th>Soup Place</th>\n",
              "      <th>Spa</th>\n",
              "      <th>Sports Bar</th>\n",
              "      <th>Stables</th>\n",
              "      <th>Steakhouse</th>\n",
              "      <th>Supermarket</th>\n",
              "      <th>Surf Spot</th>\n",
              "      <th>Sushi Restaurant</th>\n",
              "      <th>Theater</th>\n",
              "      <th>Theme Restaurant</th>\n",
              "      <th>Wine Shop</th>\n",
              "    </tr>\n",
              "  </thead>\n",
              "  <tbody>\n",
              "    <tr>\n",
              "      <th>0</th>\n",
              "      <td>Agege</td>\n",
              "      <td>0.032967</td>\n",
              "      <td>0.021978</td>\n",
              "      <td>0.010989</td>\n",
              "      <td>0.010989</td>\n",
              "      <td>0.010989</td>\n",
              "      <td>0.000000</td>\n",
              "      <td>0.010989</td>\n",
              "      <td>0.000000</td>\n",
              "      <td>0.000000</td>\n",
              "      <td>0.000000</td>\n",
              "      <td>0.010989</td>\n",
              "      <td>0.00</td>\n",
              "      <td>0.032967</td>\n",
              "      <td>0.000000</td>\n",
              "      <td>0.010989</td>\n",
              "      <td>0.032967</td>\n",
              "      <td>0.00</td>\n",
              "      <td>0.000000</td>\n",
              "      <td>0.010989</td>\n",
              "      <td>0.00</td>\n",
              "      <td>0.000000</td>\n",
              "      <td>0.010989</td>\n",
              "      <td>0.00</td>\n",
              "      <td>0.000000</td>\n",
              "      <td>0.032967</td>\n",
              "      <td>0.010989</td>\n",
              "      <td>0.010989</td>\n",
              "      <td>0.010989</td>\n",
              "      <td>0.032967</td>\n",
              "      <td>0.010989</td>\n",
              "      <td>0.000000</td>\n",
              "      <td>0.010989</td>\n",
              "      <td>0.000000</td>\n",
              "      <td>0.000000</td>\n",
              "      <td>0.043956</td>\n",
              "      <td>0.000000</td>\n",
              "      <td>0.000000</td>\n",
              "      <td>0.010989</td>\n",
              "      <td>0.00</td>\n",
              "      <td>...</td>\n",
              "      <td>0.010989</td>\n",
              "      <td>0.000000</td>\n",
              "      <td>0.000000</td>\n",
              "      <td>0.00</td>\n",
              "      <td>0.00</td>\n",
              "      <td>0.000000</td>\n",
              "      <td>0.000000</td>\n",
              "      <td>0.010989</td>\n",
              "      <td>0.0</td>\n",
              "      <td>0.000000</td>\n",
              "      <td>0.000000</td>\n",
              "      <td>0.021978</td>\n",
              "      <td>0.0</td>\n",
              "      <td>0.021978</td>\n",
              "      <td>0.010989</td>\n",
              "      <td>0.000000</td>\n",
              "      <td>0.000000</td>\n",
              "      <td>0.054945</td>\n",
              "      <td>0.000000</td>\n",
              "      <td>0.00</td>\n",
              "      <td>0.021978</td>\n",
              "      <td>0.000000</td>\n",
              "      <td>0.000000</td>\n",
              "      <td>0.00</td>\n",
              "      <td>0.043956</td>\n",
              "      <td>0.000000</td>\n",
              "      <td>0.109890</td>\n",
              "      <td>0.000000</td>\n",
              "      <td>0.000000</td>\n",
              "      <td>0.010989</td>\n",
              "      <td>0.010989</td>\n",
              "      <td>0.000000</td>\n",
              "      <td>0.000000</td>\n",
              "      <td>0.021978</td>\n",
              "      <td>0.000000</td>\n",
              "      <td>0.000000</td>\n",
              "      <td>0.000000</td>\n",
              "      <td>0.000000</td>\n",
              "      <td>0.00</td>\n",
              "      <td>0.000000</td>\n",
              "    </tr>\n",
              "    <tr>\n",
              "      <th>1</th>\n",
              "      <td>Ajeromi-Ifelodun</td>\n",
              "      <td>0.084746</td>\n",
              "      <td>0.000000</td>\n",
              "      <td>0.000000</td>\n",
              "      <td>0.000000</td>\n",
              "      <td>0.000000</td>\n",
              "      <td>0.000000</td>\n",
              "      <td>0.000000</td>\n",
              "      <td>0.000000</td>\n",
              "      <td>0.033898</td>\n",
              "      <td>0.033898</td>\n",
              "      <td>0.000000</td>\n",
              "      <td>0.00</td>\n",
              "      <td>0.000000</td>\n",
              "      <td>0.016949</td>\n",
              "      <td>0.000000</td>\n",
              "      <td>0.016949</td>\n",
              "      <td>0.00</td>\n",
              "      <td>0.016949</td>\n",
              "      <td>0.000000</td>\n",
              "      <td>0.00</td>\n",
              "      <td>0.000000</td>\n",
              "      <td>0.000000</td>\n",
              "      <td>0.00</td>\n",
              "      <td>0.016949</td>\n",
              "      <td>0.000000</td>\n",
              "      <td>0.000000</td>\n",
              "      <td>0.000000</td>\n",
              "      <td>0.000000</td>\n",
              "      <td>0.033898</td>\n",
              "      <td>0.000000</td>\n",
              "      <td>0.016949</td>\n",
              "      <td>0.000000</td>\n",
              "      <td>0.000000</td>\n",
              "      <td>0.000000</td>\n",
              "      <td>0.000000</td>\n",
              "      <td>0.016949</td>\n",
              "      <td>0.016949</td>\n",
              "      <td>0.016949</td>\n",
              "      <td>0.00</td>\n",
              "      <td>...</td>\n",
              "      <td>0.016949</td>\n",
              "      <td>0.016949</td>\n",
              "      <td>0.000000</td>\n",
              "      <td>0.00</td>\n",
              "      <td>0.00</td>\n",
              "      <td>0.016949</td>\n",
              "      <td>0.033898</td>\n",
              "      <td>0.016949</td>\n",
              "      <td>0.0</td>\n",
              "      <td>0.016949</td>\n",
              "      <td>0.000000</td>\n",
              "      <td>0.033898</td>\n",
              "      <td>0.0</td>\n",
              "      <td>0.033898</td>\n",
              "      <td>0.000000</td>\n",
              "      <td>0.016949</td>\n",
              "      <td>0.000000</td>\n",
              "      <td>0.033898</td>\n",
              "      <td>0.000000</td>\n",
              "      <td>0.00</td>\n",
              "      <td>0.016949</td>\n",
              "      <td>0.000000</td>\n",
              "      <td>0.016949</td>\n",
              "      <td>0.00</td>\n",
              "      <td>0.016949</td>\n",
              "      <td>0.000000</td>\n",
              "      <td>0.033898</td>\n",
              "      <td>0.000000</td>\n",
              "      <td>0.016949</td>\n",
              "      <td>0.000000</td>\n",
              "      <td>0.000000</td>\n",
              "      <td>0.000000</td>\n",
              "      <td>0.016949</td>\n",
              "      <td>0.000000</td>\n",
              "      <td>0.016949</td>\n",
              "      <td>0.000000</td>\n",
              "      <td>0.000000</td>\n",
              "      <td>0.000000</td>\n",
              "      <td>0.00</td>\n",
              "      <td>0.000000</td>\n",
              "    </tr>\n",
              "    <tr>\n",
              "      <th>2</th>\n",
              "      <td>Alimosho</td>\n",
              "      <td>0.000000</td>\n",
              "      <td>0.025641</td>\n",
              "      <td>0.025641</td>\n",
              "      <td>0.025641</td>\n",
              "      <td>0.025641</td>\n",
              "      <td>0.000000</td>\n",
              "      <td>0.025641</td>\n",
              "      <td>0.000000</td>\n",
              "      <td>0.000000</td>\n",
              "      <td>0.000000</td>\n",
              "      <td>0.025641</td>\n",
              "      <td>0.00</td>\n",
              "      <td>0.000000</td>\n",
              "      <td>0.000000</td>\n",
              "      <td>0.000000</td>\n",
              "      <td>0.025641</td>\n",
              "      <td>0.00</td>\n",
              "      <td>0.000000</td>\n",
              "      <td>0.000000</td>\n",
              "      <td>0.00</td>\n",
              "      <td>0.000000</td>\n",
              "      <td>0.025641</td>\n",
              "      <td>0.00</td>\n",
              "      <td>0.000000</td>\n",
              "      <td>0.051282</td>\n",
              "      <td>0.000000</td>\n",
              "      <td>0.000000</td>\n",
              "      <td>0.025641</td>\n",
              "      <td>0.000000</td>\n",
              "      <td>0.000000</td>\n",
              "      <td>0.000000</td>\n",
              "      <td>0.000000</td>\n",
              "      <td>0.000000</td>\n",
              "      <td>0.000000</td>\n",
              "      <td>0.025641</td>\n",
              "      <td>0.000000</td>\n",
              "      <td>0.000000</td>\n",
              "      <td>0.025641</td>\n",
              "      <td>0.00</td>\n",
              "      <td>...</td>\n",
              "      <td>0.025641</td>\n",
              "      <td>0.000000</td>\n",
              "      <td>0.000000</td>\n",
              "      <td>0.00</td>\n",
              "      <td>0.00</td>\n",
              "      <td>0.000000</td>\n",
              "      <td>0.000000</td>\n",
              "      <td>0.000000</td>\n",
              "      <td>0.0</td>\n",
              "      <td>0.000000</td>\n",
              "      <td>0.000000</td>\n",
              "      <td>0.000000</td>\n",
              "      <td>0.0</td>\n",
              "      <td>0.051282</td>\n",
              "      <td>0.000000</td>\n",
              "      <td>0.000000</td>\n",
              "      <td>0.000000</td>\n",
              "      <td>0.076923</td>\n",
              "      <td>0.000000</td>\n",
              "      <td>0.00</td>\n",
              "      <td>0.000000</td>\n",
              "      <td>0.000000</td>\n",
              "      <td>0.000000</td>\n",
              "      <td>0.00</td>\n",
              "      <td>0.076923</td>\n",
              "      <td>0.000000</td>\n",
              "      <td>0.051282</td>\n",
              "      <td>0.000000</td>\n",
              "      <td>0.000000</td>\n",
              "      <td>0.025641</td>\n",
              "      <td>0.000000</td>\n",
              "      <td>0.000000</td>\n",
              "      <td>0.000000</td>\n",
              "      <td>0.000000</td>\n",
              "      <td>0.000000</td>\n",
              "      <td>0.000000</td>\n",
              "      <td>0.000000</td>\n",
              "      <td>0.000000</td>\n",
              "      <td>0.00</td>\n",
              "      <td>0.025641</td>\n",
              "    </tr>\n",
              "    <tr>\n",
              "      <th>3</th>\n",
              "      <td>Amuwo-Odofin</td>\n",
              "      <td>0.050000</td>\n",
              "      <td>0.000000</td>\n",
              "      <td>0.000000</td>\n",
              "      <td>0.000000</td>\n",
              "      <td>0.000000</td>\n",
              "      <td>0.000000</td>\n",
              "      <td>0.000000</td>\n",
              "      <td>0.000000</td>\n",
              "      <td>0.000000</td>\n",
              "      <td>0.000000</td>\n",
              "      <td>0.000000</td>\n",
              "      <td>0.00</td>\n",
              "      <td>0.000000</td>\n",
              "      <td>0.000000</td>\n",
              "      <td>0.050000</td>\n",
              "      <td>0.000000</td>\n",
              "      <td>0.00</td>\n",
              "      <td>0.050000</td>\n",
              "      <td>0.000000</td>\n",
              "      <td>0.05</td>\n",
              "      <td>0.000000</td>\n",
              "      <td>0.000000</td>\n",
              "      <td>0.00</td>\n",
              "      <td>0.000000</td>\n",
              "      <td>0.000000</td>\n",
              "      <td>0.050000</td>\n",
              "      <td>0.000000</td>\n",
              "      <td>0.000000</td>\n",
              "      <td>0.050000</td>\n",
              "      <td>0.000000</td>\n",
              "      <td>0.000000</td>\n",
              "      <td>0.000000</td>\n",
              "      <td>0.000000</td>\n",
              "      <td>0.000000</td>\n",
              "      <td>0.000000</td>\n",
              "      <td>0.000000</td>\n",
              "      <td>0.000000</td>\n",
              "      <td>0.000000</td>\n",
              "      <td>0.00</td>\n",
              "      <td>...</td>\n",
              "      <td>0.000000</td>\n",
              "      <td>0.000000</td>\n",
              "      <td>0.000000</td>\n",
              "      <td>0.00</td>\n",
              "      <td>0.05</td>\n",
              "      <td>0.000000</td>\n",
              "      <td>0.000000</td>\n",
              "      <td>0.000000</td>\n",
              "      <td>0.0</td>\n",
              "      <td>0.000000</td>\n",
              "      <td>0.000000</td>\n",
              "      <td>0.000000</td>\n",
              "      <td>0.0</td>\n",
              "      <td>0.100000</td>\n",
              "      <td>0.000000</td>\n",
              "      <td>0.000000</td>\n",
              "      <td>0.000000</td>\n",
              "      <td>0.000000</td>\n",
              "      <td>0.000000</td>\n",
              "      <td>0.00</td>\n",
              "      <td>0.050000</td>\n",
              "      <td>0.000000</td>\n",
              "      <td>0.000000</td>\n",
              "      <td>0.05</td>\n",
              "      <td>0.000000</td>\n",
              "      <td>0.000000</td>\n",
              "      <td>0.050000</td>\n",
              "      <td>0.000000</td>\n",
              "      <td>0.000000</td>\n",
              "      <td>0.000000</td>\n",
              "      <td>0.000000</td>\n",
              "      <td>0.000000</td>\n",
              "      <td>0.000000</td>\n",
              "      <td>0.000000</td>\n",
              "      <td>0.000000</td>\n",
              "      <td>0.000000</td>\n",
              "      <td>0.000000</td>\n",
              "      <td>0.000000</td>\n",
              "      <td>0.00</td>\n",
              "      <td>0.000000</td>\n",
              "    </tr>\n",
              "    <tr>\n",
              "      <th>4</th>\n",
              "      <td>Apapa</td>\n",
              "      <td>0.090000</td>\n",
              "      <td>0.000000</td>\n",
              "      <td>0.000000</td>\n",
              "      <td>0.000000</td>\n",
              "      <td>0.000000</td>\n",
              "      <td>0.000000</td>\n",
              "      <td>0.010000</td>\n",
              "      <td>0.000000</td>\n",
              "      <td>0.030000</td>\n",
              "      <td>0.010000</td>\n",
              "      <td>0.010000</td>\n",
              "      <td>0.00</td>\n",
              "      <td>0.000000</td>\n",
              "      <td>0.010000</td>\n",
              "      <td>0.000000</td>\n",
              "      <td>0.010000</td>\n",
              "      <td>0.01</td>\n",
              "      <td>0.000000</td>\n",
              "      <td>0.000000</td>\n",
              "      <td>0.00</td>\n",
              "      <td>0.000000</td>\n",
              "      <td>0.000000</td>\n",
              "      <td>0.01</td>\n",
              "      <td>0.010000</td>\n",
              "      <td>0.010000</td>\n",
              "      <td>0.000000</td>\n",
              "      <td>0.020000</td>\n",
              "      <td>0.000000</td>\n",
              "      <td>0.020000</td>\n",
              "      <td>0.000000</td>\n",
              "      <td>0.010000</td>\n",
              "      <td>0.000000</td>\n",
              "      <td>0.000000</td>\n",
              "      <td>0.000000</td>\n",
              "      <td>0.000000</td>\n",
              "      <td>0.010000</td>\n",
              "      <td>0.010000</td>\n",
              "      <td>0.020000</td>\n",
              "      <td>0.01</td>\n",
              "      <td>...</td>\n",
              "      <td>0.010000</td>\n",
              "      <td>0.010000</td>\n",
              "      <td>0.000000</td>\n",
              "      <td>0.02</td>\n",
              "      <td>0.00</td>\n",
              "      <td>0.010000</td>\n",
              "      <td>0.020000</td>\n",
              "      <td>0.010000</td>\n",
              "      <td>0.0</td>\n",
              "      <td>0.010000</td>\n",
              "      <td>0.010000</td>\n",
              "      <td>0.030000</td>\n",
              "      <td>0.0</td>\n",
              "      <td>0.020000</td>\n",
              "      <td>0.000000</td>\n",
              "      <td>0.010000</td>\n",
              "      <td>0.000000</td>\n",
              "      <td>0.030000</td>\n",
              "      <td>0.010000</td>\n",
              "      <td>0.01</td>\n",
              "      <td>0.010000</td>\n",
              "      <td>0.000000</td>\n",
              "      <td>0.020000</td>\n",
              "      <td>0.01</td>\n",
              "      <td>0.040000</td>\n",
              "      <td>0.010000</td>\n",
              "      <td>0.020000</td>\n",
              "      <td>0.000000</td>\n",
              "      <td>0.010000</td>\n",
              "      <td>0.000000</td>\n",
              "      <td>0.000000</td>\n",
              "      <td>0.010000</td>\n",
              "      <td>0.000000</td>\n",
              "      <td>0.000000</td>\n",
              "      <td>0.000000</td>\n",
              "      <td>0.000000</td>\n",
              "      <td>0.000000</td>\n",
              "      <td>0.010000</td>\n",
              "      <td>0.01</td>\n",
              "      <td>0.000000</td>\n",
              "    </tr>\n",
              "    <tr>\n",
              "      <th>5</th>\n",
              "      <td>Badagry</td>\n",
              "      <td>0.000000</td>\n",
              "      <td>0.000000</td>\n",
              "      <td>0.000000</td>\n",
              "      <td>0.000000</td>\n",
              "      <td>0.000000</td>\n",
              "      <td>0.000000</td>\n",
              "      <td>0.000000</td>\n",
              "      <td>0.000000</td>\n",
              "      <td>0.000000</td>\n",
              "      <td>0.000000</td>\n",
              "      <td>0.000000</td>\n",
              "      <td>0.00</td>\n",
              "      <td>0.000000</td>\n",
              "      <td>0.000000</td>\n",
              "      <td>0.000000</td>\n",
              "      <td>0.000000</td>\n",
              "      <td>0.00</td>\n",
              "      <td>0.000000</td>\n",
              "      <td>0.200000</td>\n",
              "      <td>0.00</td>\n",
              "      <td>0.000000</td>\n",
              "      <td>0.000000</td>\n",
              "      <td>0.00</td>\n",
              "      <td>0.000000</td>\n",
              "      <td>0.000000</td>\n",
              "      <td>0.000000</td>\n",
              "      <td>0.000000</td>\n",
              "      <td>0.000000</td>\n",
              "      <td>0.000000</td>\n",
              "      <td>0.000000</td>\n",
              "      <td>0.000000</td>\n",
              "      <td>0.000000</td>\n",
              "      <td>0.000000</td>\n",
              "      <td>0.000000</td>\n",
              "      <td>0.000000</td>\n",
              "      <td>0.000000</td>\n",
              "      <td>0.000000</td>\n",
              "      <td>0.000000</td>\n",
              "      <td>0.00</td>\n",
              "      <td>...</td>\n",
              "      <td>0.000000</td>\n",
              "      <td>0.000000</td>\n",
              "      <td>0.000000</td>\n",
              "      <td>0.00</td>\n",
              "      <td>0.00</td>\n",
              "      <td>0.000000</td>\n",
              "      <td>0.000000</td>\n",
              "      <td>0.000000</td>\n",
              "      <td>0.2</td>\n",
              "      <td>0.000000</td>\n",
              "      <td>0.000000</td>\n",
              "      <td>0.000000</td>\n",
              "      <td>0.0</td>\n",
              "      <td>0.000000</td>\n",
              "      <td>0.000000</td>\n",
              "      <td>0.000000</td>\n",
              "      <td>0.000000</td>\n",
              "      <td>0.000000</td>\n",
              "      <td>0.000000</td>\n",
              "      <td>0.00</td>\n",
              "      <td>0.000000</td>\n",
              "      <td>0.000000</td>\n",
              "      <td>0.000000</td>\n",
              "      <td>0.00</td>\n",
              "      <td>0.000000</td>\n",
              "      <td>0.000000</td>\n",
              "      <td>0.000000</td>\n",
              "      <td>0.000000</td>\n",
              "      <td>0.000000</td>\n",
              "      <td>0.000000</td>\n",
              "      <td>0.000000</td>\n",
              "      <td>0.000000</td>\n",
              "      <td>0.000000</td>\n",
              "      <td>0.000000</td>\n",
              "      <td>0.000000</td>\n",
              "      <td>0.000000</td>\n",
              "      <td>0.000000</td>\n",
              "      <td>0.000000</td>\n",
              "      <td>0.00</td>\n",
              "      <td>0.000000</td>\n",
              "    </tr>\n",
              "    <tr>\n",
              "      <th>6</th>\n",
              "      <td>Epe</td>\n",
              "      <td>0.000000</td>\n",
              "      <td>0.000000</td>\n",
              "      <td>0.000000</td>\n",
              "      <td>0.000000</td>\n",
              "      <td>0.000000</td>\n",
              "      <td>0.000000</td>\n",
              "      <td>0.000000</td>\n",
              "      <td>0.000000</td>\n",
              "      <td>0.000000</td>\n",
              "      <td>0.000000</td>\n",
              "      <td>0.000000</td>\n",
              "      <td>0.00</td>\n",
              "      <td>0.000000</td>\n",
              "      <td>0.000000</td>\n",
              "      <td>0.000000</td>\n",
              "      <td>0.000000</td>\n",
              "      <td>0.00</td>\n",
              "      <td>0.000000</td>\n",
              "      <td>0.000000</td>\n",
              "      <td>0.00</td>\n",
              "      <td>0.000000</td>\n",
              "      <td>0.000000</td>\n",
              "      <td>0.00</td>\n",
              "      <td>0.000000</td>\n",
              "      <td>0.000000</td>\n",
              "      <td>0.000000</td>\n",
              "      <td>0.000000</td>\n",
              "      <td>0.000000</td>\n",
              "      <td>0.000000</td>\n",
              "      <td>0.000000</td>\n",
              "      <td>0.000000</td>\n",
              "      <td>0.000000</td>\n",
              "      <td>0.000000</td>\n",
              "      <td>0.000000</td>\n",
              "      <td>0.000000</td>\n",
              "      <td>0.000000</td>\n",
              "      <td>0.000000</td>\n",
              "      <td>0.000000</td>\n",
              "      <td>0.00</td>\n",
              "      <td>...</td>\n",
              "      <td>0.000000</td>\n",
              "      <td>0.000000</td>\n",
              "      <td>0.000000</td>\n",
              "      <td>0.00</td>\n",
              "      <td>0.00</td>\n",
              "      <td>0.000000</td>\n",
              "      <td>0.000000</td>\n",
              "      <td>0.000000</td>\n",
              "      <td>0.0</td>\n",
              "      <td>0.000000</td>\n",
              "      <td>0.000000</td>\n",
              "      <td>0.000000</td>\n",
              "      <td>0.5</td>\n",
              "      <td>0.000000</td>\n",
              "      <td>0.000000</td>\n",
              "      <td>0.000000</td>\n",
              "      <td>0.000000</td>\n",
              "      <td>0.000000</td>\n",
              "      <td>0.000000</td>\n",
              "      <td>0.00</td>\n",
              "      <td>0.000000</td>\n",
              "      <td>0.000000</td>\n",
              "      <td>0.000000</td>\n",
              "      <td>0.00</td>\n",
              "      <td>0.000000</td>\n",
              "      <td>0.000000</td>\n",
              "      <td>0.000000</td>\n",
              "      <td>0.000000</td>\n",
              "      <td>0.000000</td>\n",
              "      <td>0.000000</td>\n",
              "      <td>0.000000</td>\n",
              "      <td>0.000000</td>\n",
              "      <td>0.000000</td>\n",
              "      <td>0.000000</td>\n",
              "      <td>0.000000</td>\n",
              "      <td>0.000000</td>\n",
              "      <td>0.000000</td>\n",
              "      <td>0.000000</td>\n",
              "      <td>0.00</td>\n",
              "      <td>0.000000</td>\n",
              "    </tr>\n",
              "    <tr>\n",
              "      <th>7</th>\n",
              "      <td>Eti-Osa</td>\n",
              "      <td>0.018519</td>\n",
              "      <td>0.000000</td>\n",
              "      <td>0.000000</td>\n",
              "      <td>0.000000</td>\n",
              "      <td>0.000000</td>\n",
              "      <td>0.000000</td>\n",
              "      <td>0.000000</td>\n",
              "      <td>0.000000</td>\n",
              "      <td>0.018519</td>\n",
              "      <td>0.018519</td>\n",
              "      <td>0.000000</td>\n",
              "      <td>0.00</td>\n",
              "      <td>0.000000</td>\n",
              "      <td>0.000000</td>\n",
              "      <td>0.000000</td>\n",
              "      <td>0.055556</td>\n",
              "      <td>0.00</td>\n",
              "      <td>0.055556</td>\n",
              "      <td>0.000000</td>\n",
              "      <td>0.00</td>\n",
              "      <td>0.000000</td>\n",
              "      <td>0.000000</td>\n",
              "      <td>0.00</td>\n",
              "      <td>0.000000</td>\n",
              "      <td>0.018519</td>\n",
              "      <td>0.000000</td>\n",
              "      <td>0.000000</td>\n",
              "      <td>0.000000</td>\n",
              "      <td>0.000000</td>\n",
              "      <td>0.018519</td>\n",
              "      <td>0.000000</td>\n",
              "      <td>0.000000</td>\n",
              "      <td>0.000000</td>\n",
              "      <td>0.018519</td>\n",
              "      <td>0.037037</td>\n",
              "      <td>0.000000</td>\n",
              "      <td>0.000000</td>\n",
              "      <td>0.037037</td>\n",
              "      <td>0.00</td>\n",
              "      <td>...</td>\n",
              "      <td>0.000000</td>\n",
              "      <td>0.000000</td>\n",
              "      <td>0.000000</td>\n",
              "      <td>0.00</td>\n",
              "      <td>0.00</td>\n",
              "      <td>0.000000</td>\n",
              "      <td>0.018519</td>\n",
              "      <td>0.018519</td>\n",
              "      <td>0.0</td>\n",
              "      <td>0.000000</td>\n",
              "      <td>0.018519</td>\n",
              "      <td>0.000000</td>\n",
              "      <td>0.0</td>\n",
              "      <td>0.018519</td>\n",
              "      <td>0.000000</td>\n",
              "      <td>0.000000</td>\n",
              "      <td>0.000000</td>\n",
              "      <td>0.037037</td>\n",
              "      <td>0.018519</td>\n",
              "      <td>0.00</td>\n",
              "      <td>0.000000</td>\n",
              "      <td>0.000000</td>\n",
              "      <td>0.000000</td>\n",
              "      <td>0.00</td>\n",
              "      <td>0.037037</td>\n",
              "      <td>0.000000</td>\n",
              "      <td>0.037037</td>\n",
              "      <td>0.000000</td>\n",
              "      <td>0.000000</td>\n",
              "      <td>0.000000</td>\n",
              "      <td>0.000000</td>\n",
              "      <td>0.000000</td>\n",
              "      <td>0.000000</td>\n",
              "      <td>0.000000</td>\n",
              "      <td>0.018519</td>\n",
              "      <td>0.018519</td>\n",
              "      <td>0.018519</td>\n",
              "      <td>0.000000</td>\n",
              "      <td>0.00</td>\n",
              "      <td>0.000000</td>\n",
              "    </tr>\n",
              "    <tr>\n",
              "      <th>8</th>\n",
              "      <td>Ibeju-Lekki</td>\n",
              "      <td>0.000000</td>\n",
              "      <td>0.000000</td>\n",
              "      <td>0.000000</td>\n",
              "      <td>0.000000</td>\n",
              "      <td>0.000000</td>\n",
              "      <td>0.000000</td>\n",
              "      <td>0.000000</td>\n",
              "      <td>0.250000</td>\n",
              "      <td>0.000000</td>\n",
              "      <td>0.000000</td>\n",
              "      <td>0.000000</td>\n",
              "      <td>0.00</td>\n",
              "      <td>0.000000</td>\n",
              "      <td>0.000000</td>\n",
              "      <td>0.000000</td>\n",
              "      <td>0.000000</td>\n",
              "      <td>0.00</td>\n",
              "      <td>0.250000</td>\n",
              "      <td>0.000000</td>\n",
              "      <td>0.00</td>\n",
              "      <td>0.000000</td>\n",
              "      <td>0.000000</td>\n",
              "      <td>0.00</td>\n",
              "      <td>0.000000</td>\n",
              "      <td>0.000000</td>\n",
              "      <td>0.000000</td>\n",
              "      <td>0.000000</td>\n",
              "      <td>0.000000</td>\n",
              "      <td>0.000000</td>\n",
              "      <td>0.000000</td>\n",
              "      <td>0.000000</td>\n",
              "      <td>0.000000</td>\n",
              "      <td>0.000000</td>\n",
              "      <td>0.000000</td>\n",
              "      <td>0.000000</td>\n",
              "      <td>0.000000</td>\n",
              "      <td>0.000000</td>\n",
              "      <td>0.000000</td>\n",
              "      <td>0.00</td>\n",
              "      <td>...</td>\n",
              "      <td>0.000000</td>\n",
              "      <td>0.000000</td>\n",
              "      <td>0.000000</td>\n",
              "      <td>0.00</td>\n",
              "      <td>0.00</td>\n",
              "      <td>0.000000</td>\n",
              "      <td>0.000000</td>\n",
              "      <td>0.000000</td>\n",
              "      <td>0.0</td>\n",
              "      <td>0.000000</td>\n",
              "      <td>0.000000</td>\n",
              "      <td>0.000000</td>\n",
              "      <td>0.0</td>\n",
              "      <td>0.000000</td>\n",
              "      <td>0.000000</td>\n",
              "      <td>0.000000</td>\n",
              "      <td>0.000000</td>\n",
              "      <td>0.000000</td>\n",
              "      <td>0.000000</td>\n",
              "      <td>0.00</td>\n",
              "      <td>0.000000</td>\n",
              "      <td>0.000000</td>\n",
              "      <td>0.000000</td>\n",
              "      <td>0.25</td>\n",
              "      <td>0.000000</td>\n",
              "      <td>0.000000</td>\n",
              "      <td>0.000000</td>\n",
              "      <td>0.000000</td>\n",
              "      <td>0.000000</td>\n",
              "      <td>0.000000</td>\n",
              "      <td>0.000000</td>\n",
              "      <td>0.000000</td>\n",
              "      <td>0.000000</td>\n",
              "      <td>0.000000</td>\n",
              "      <td>0.000000</td>\n",
              "      <td>0.000000</td>\n",
              "      <td>0.000000</td>\n",
              "      <td>0.000000</td>\n",
              "      <td>0.00</td>\n",
              "      <td>0.000000</td>\n",
              "    </tr>\n",
              "    <tr>\n",
              "      <th>9</th>\n",
              "      <td>Ifako-Ijaiye</td>\n",
              "      <td>0.000000</td>\n",
              "      <td>0.000000</td>\n",
              "      <td>0.000000</td>\n",
              "      <td>0.000000</td>\n",
              "      <td>0.000000</td>\n",
              "      <td>0.000000</td>\n",
              "      <td>0.016129</td>\n",
              "      <td>0.000000</td>\n",
              "      <td>0.000000</td>\n",
              "      <td>0.000000</td>\n",
              "      <td>0.016129</td>\n",
              "      <td>0.00</td>\n",
              "      <td>0.032258</td>\n",
              "      <td>0.000000</td>\n",
              "      <td>0.000000</td>\n",
              "      <td>0.032258</td>\n",
              "      <td>0.00</td>\n",
              "      <td>0.000000</td>\n",
              "      <td>0.016129</td>\n",
              "      <td>0.00</td>\n",
              "      <td>0.000000</td>\n",
              "      <td>0.016129</td>\n",
              "      <td>0.00</td>\n",
              "      <td>0.000000</td>\n",
              "      <td>0.032258</td>\n",
              "      <td>0.032258</td>\n",
              "      <td>0.016129</td>\n",
              "      <td>0.016129</td>\n",
              "      <td>0.032258</td>\n",
              "      <td>0.016129</td>\n",
              "      <td>0.000000</td>\n",
              "      <td>0.016129</td>\n",
              "      <td>0.016129</td>\n",
              "      <td>0.000000</td>\n",
              "      <td>0.032258</td>\n",
              "      <td>0.000000</td>\n",
              "      <td>0.000000</td>\n",
              "      <td>0.000000</td>\n",
              "      <td>0.00</td>\n",
              "      <td>...</td>\n",
              "      <td>0.016129</td>\n",
              "      <td>0.000000</td>\n",
              "      <td>0.000000</td>\n",
              "      <td>0.00</td>\n",
              "      <td>0.00</td>\n",
              "      <td>0.000000</td>\n",
              "      <td>0.000000</td>\n",
              "      <td>0.016129</td>\n",
              "      <td>0.0</td>\n",
              "      <td>0.016129</td>\n",
              "      <td>0.000000</td>\n",
              "      <td>0.000000</td>\n",
              "      <td>0.0</td>\n",
              "      <td>0.032258</td>\n",
              "      <td>0.032258</td>\n",
              "      <td>0.000000</td>\n",
              "      <td>0.000000</td>\n",
              "      <td>0.048387</td>\n",
              "      <td>0.000000</td>\n",
              "      <td>0.00</td>\n",
              "      <td>0.016129</td>\n",
              "      <td>0.000000</td>\n",
              "      <td>0.000000</td>\n",
              "      <td>0.00</td>\n",
              "      <td>0.032258</td>\n",
              "      <td>0.016129</td>\n",
              "      <td>0.080645</td>\n",
              "      <td>0.000000</td>\n",
              "      <td>0.000000</td>\n",
              "      <td>0.016129</td>\n",
              "      <td>0.000000</td>\n",
              "      <td>0.000000</td>\n",
              "      <td>0.000000</td>\n",
              "      <td>0.016129</td>\n",
              "      <td>0.000000</td>\n",
              "      <td>0.000000</td>\n",
              "      <td>0.000000</td>\n",
              "      <td>0.016129</td>\n",
              "      <td>0.00</td>\n",
              "      <td>0.000000</td>\n",
              "    </tr>\n",
              "    <tr>\n",
              "      <th>10</th>\n",
              "      <td>Ikeja</td>\n",
              "      <td>0.032967</td>\n",
              "      <td>0.021978</td>\n",
              "      <td>0.010989</td>\n",
              "      <td>0.010989</td>\n",
              "      <td>0.010989</td>\n",
              "      <td>0.000000</td>\n",
              "      <td>0.010989</td>\n",
              "      <td>0.000000</td>\n",
              "      <td>0.000000</td>\n",
              "      <td>0.000000</td>\n",
              "      <td>0.010989</td>\n",
              "      <td>0.00</td>\n",
              "      <td>0.032967</td>\n",
              "      <td>0.000000</td>\n",
              "      <td>0.010989</td>\n",
              "      <td>0.043956</td>\n",
              "      <td>0.00</td>\n",
              "      <td>0.000000</td>\n",
              "      <td>0.010989</td>\n",
              "      <td>0.00</td>\n",
              "      <td>0.000000</td>\n",
              "      <td>0.010989</td>\n",
              "      <td>0.00</td>\n",
              "      <td>0.000000</td>\n",
              "      <td>0.021978</td>\n",
              "      <td>0.000000</td>\n",
              "      <td>0.010989</td>\n",
              "      <td>0.010989</td>\n",
              "      <td>0.032967</td>\n",
              "      <td>0.010989</td>\n",
              "      <td>0.000000</td>\n",
              "      <td>0.010989</td>\n",
              "      <td>0.000000</td>\n",
              "      <td>0.000000</td>\n",
              "      <td>0.043956</td>\n",
              "      <td>0.000000</td>\n",
              "      <td>0.000000</td>\n",
              "      <td>0.032967</td>\n",
              "      <td>0.00</td>\n",
              "      <td>...</td>\n",
              "      <td>0.000000</td>\n",
              "      <td>0.000000</td>\n",
              "      <td>0.000000</td>\n",
              "      <td>0.00</td>\n",
              "      <td>0.00</td>\n",
              "      <td>0.000000</td>\n",
              "      <td>0.000000</td>\n",
              "      <td>0.010989</td>\n",
              "      <td>0.0</td>\n",
              "      <td>0.000000</td>\n",
              "      <td>0.000000</td>\n",
              "      <td>0.021978</td>\n",
              "      <td>0.0</td>\n",
              "      <td>0.010989</td>\n",
              "      <td>0.010989</td>\n",
              "      <td>0.000000</td>\n",
              "      <td>0.000000</td>\n",
              "      <td>0.065934</td>\n",
              "      <td>0.000000</td>\n",
              "      <td>0.00</td>\n",
              "      <td>0.021978</td>\n",
              "      <td>0.000000</td>\n",
              "      <td>0.000000</td>\n",
              "      <td>0.00</td>\n",
              "      <td>0.043956</td>\n",
              "      <td>0.000000</td>\n",
              "      <td>0.054945</td>\n",
              "      <td>0.000000</td>\n",
              "      <td>0.000000</td>\n",
              "      <td>0.010989</td>\n",
              "      <td>0.010989</td>\n",
              "      <td>0.000000</td>\n",
              "      <td>0.000000</td>\n",
              "      <td>0.021978</td>\n",
              "      <td>0.000000</td>\n",
              "      <td>0.000000</td>\n",
              "      <td>0.000000</td>\n",
              "      <td>0.000000</td>\n",
              "      <td>0.00</td>\n",
              "      <td>0.010989</td>\n",
              "    </tr>\n",
              "    <tr>\n",
              "      <th>11</th>\n",
              "      <td>Ikorodu</td>\n",
              "      <td>0.100000</td>\n",
              "      <td>0.000000</td>\n",
              "      <td>0.000000</td>\n",
              "      <td>0.000000</td>\n",
              "      <td>0.000000</td>\n",
              "      <td>0.000000</td>\n",
              "      <td>0.000000</td>\n",
              "      <td>0.000000</td>\n",
              "      <td>0.000000</td>\n",
              "      <td>0.000000</td>\n",
              "      <td>0.000000</td>\n",
              "      <td>0.00</td>\n",
              "      <td>0.000000</td>\n",
              "      <td>0.000000</td>\n",
              "      <td>0.000000</td>\n",
              "      <td>0.100000</td>\n",
              "      <td>0.00</td>\n",
              "      <td>0.100000</td>\n",
              "      <td>0.000000</td>\n",
              "      <td>0.00</td>\n",
              "      <td>0.000000</td>\n",
              "      <td>0.000000</td>\n",
              "      <td>0.00</td>\n",
              "      <td>0.000000</td>\n",
              "      <td>0.000000</td>\n",
              "      <td>0.100000</td>\n",
              "      <td>0.100000</td>\n",
              "      <td>0.000000</td>\n",
              "      <td>0.000000</td>\n",
              "      <td>0.000000</td>\n",
              "      <td>0.000000</td>\n",
              "      <td>0.000000</td>\n",
              "      <td>0.100000</td>\n",
              "      <td>0.000000</td>\n",
              "      <td>0.000000</td>\n",
              "      <td>0.000000</td>\n",
              "      <td>0.000000</td>\n",
              "      <td>0.000000</td>\n",
              "      <td>0.00</td>\n",
              "      <td>...</td>\n",
              "      <td>0.000000</td>\n",
              "      <td>0.000000</td>\n",
              "      <td>0.000000</td>\n",
              "      <td>0.00</td>\n",
              "      <td>0.10</td>\n",
              "      <td>0.000000</td>\n",
              "      <td>0.000000</td>\n",
              "      <td>0.000000</td>\n",
              "      <td>0.0</td>\n",
              "      <td>0.000000</td>\n",
              "      <td>0.000000</td>\n",
              "      <td>0.000000</td>\n",
              "      <td>0.0</td>\n",
              "      <td>0.000000</td>\n",
              "      <td>0.000000</td>\n",
              "      <td>0.000000</td>\n",
              "      <td>0.000000</td>\n",
              "      <td>0.100000</td>\n",
              "      <td>0.000000</td>\n",
              "      <td>0.00</td>\n",
              "      <td>0.000000</td>\n",
              "      <td>0.000000</td>\n",
              "      <td>0.000000</td>\n",
              "      <td>0.00</td>\n",
              "      <td>0.000000</td>\n",
              "      <td>0.000000</td>\n",
              "      <td>0.000000</td>\n",
              "      <td>0.000000</td>\n",
              "      <td>0.000000</td>\n",
              "      <td>0.000000</td>\n",
              "      <td>0.000000</td>\n",
              "      <td>0.000000</td>\n",
              "      <td>0.000000</td>\n",
              "      <td>0.000000</td>\n",
              "      <td>0.000000</td>\n",
              "      <td>0.000000</td>\n",
              "      <td>0.000000</td>\n",
              "      <td>0.000000</td>\n",
              "      <td>0.00</td>\n",
              "      <td>0.000000</td>\n",
              "    </tr>\n",
              "    <tr>\n",
              "      <th>12</th>\n",
              "      <td>Kosofe</td>\n",
              "      <td>0.050633</td>\n",
              "      <td>0.012658</td>\n",
              "      <td>0.012658</td>\n",
              "      <td>0.000000</td>\n",
              "      <td>0.000000</td>\n",
              "      <td>0.012658</td>\n",
              "      <td>0.012658</td>\n",
              "      <td>0.000000</td>\n",
              "      <td>0.000000</td>\n",
              "      <td>0.000000</td>\n",
              "      <td>0.000000</td>\n",
              "      <td>0.00</td>\n",
              "      <td>0.037975</td>\n",
              "      <td>0.012658</td>\n",
              "      <td>0.025316</td>\n",
              "      <td>0.037975</td>\n",
              "      <td>0.00</td>\n",
              "      <td>0.012658</td>\n",
              "      <td>0.012658</td>\n",
              "      <td>0.00</td>\n",
              "      <td>0.000000</td>\n",
              "      <td>0.000000</td>\n",
              "      <td>0.00</td>\n",
              "      <td>0.000000</td>\n",
              "      <td>0.000000</td>\n",
              "      <td>0.000000</td>\n",
              "      <td>0.012658</td>\n",
              "      <td>0.000000</td>\n",
              "      <td>0.037975</td>\n",
              "      <td>0.012658</td>\n",
              "      <td>0.000000</td>\n",
              "      <td>0.012658</td>\n",
              "      <td>0.000000</td>\n",
              "      <td>0.000000</td>\n",
              "      <td>0.050633</td>\n",
              "      <td>0.000000</td>\n",
              "      <td>0.012658</td>\n",
              "      <td>0.037975</td>\n",
              "      <td>0.00</td>\n",
              "      <td>...</td>\n",
              "      <td>0.000000</td>\n",
              "      <td>0.000000</td>\n",
              "      <td>0.012658</td>\n",
              "      <td>0.00</td>\n",
              "      <td>0.00</td>\n",
              "      <td>0.000000</td>\n",
              "      <td>0.012658</td>\n",
              "      <td>0.012658</td>\n",
              "      <td>0.0</td>\n",
              "      <td>0.000000</td>\n",
              "      <td>0.000000</td>\n",
              "      <td>0.063291</td>\n",
              "      <td>0.0</td>\n",
              "      <td>0.000000</td>\n",
              "      <td>0.012658</td>\n",
              "      <td>0.000000</td>\n",
              "      <td>0.000000</td>\n",
              "      <td>0.050633</td>\n",
              "      <td>0.000000</td>\n",
              "      <td>0.00</td>\n",
              "      <td>0.012658</td>\n",
              "      <td>0.000000</td>\n",
              "      <td>0.000000</td>\n",
              "      <td>0.00</td>\n",
              "      <td>0.037975</td>\n",
              "      <td>0.000000</td>\n",
              "      <td>0.075949</td>\n",
              "      <td>0.000000</td>\n",
              "      <td>0.000000</td>\n",
              "      <td>0.012658</td>\n",
              "      <td>0.012658</td>\n",
              "      <td>0.000000</td>\n",
              "      <td>0.000000</td>\n",
              "      <td>0.025316</td>\n",
              "      <td>0.000000</td>\n",
              "      <td>0.000000</td>\n",
              "      <td>0.000000</td>\n",
              "      <td>0.000000</td>\n",
              "      <td>0.00</td>\n",
              "      <td>0.000000</td>\n",
              "    </tr>\n",
              "    <tr>\n",
              "      <th>13</th>\n",
              "      <td>Lagos Island</td>\n",
              "      <td>0.015873</td>\n",
              "      <td>0.000000</td>\n",
              "      <td>0.000000</td>\n",
              "      <td>0.000000</td>\n",
              "      <td>0.000000</td>\n",
              "      <td>0.000000</td>\n",
              "      <td>0.015873</td>\n",
              "      <td>0.000000</td>\n",
              "      <td>0.015873</td>\n",
              "      <td>0.015873</td>\n",
              "      <td>0.015873</td>\n",
              "      <td>0.00</td>\n",
              "      <td>0.000000</td>\n",
              "      <td>0.000000</td>\n",
              "      <td>0.000000</td>\n",
              "      <td>0.047619</td>\n",
              "      <td>0.00</td>\n",
              "      <td>0.031746</td>\n",
              "      <td>0.000000</td>\n",
              "      <td>0.00</td>\n",
              "      <td>0.000000</td>\n",
              "      <td>0.000000</td>\n",
              "      <td>0.00</td>\n",
              "      <td>0.000000</td>\n",
              "      <td>0.015873</td>\n",
              "      <td>0.031746</td>\n",
              "      <td>0.000000</td>\n",
              "      <td>0.000000</td>\n",
              "      <td>0.000000</td>\n",
              "      <td>0.015873</td>\n",
              "      <td>0.000000</td>\n",
              "      <td>0.000000</td>\n",
              "      <td>0.000000</td>\n",
              "      <td>0.015873</td>\n",
              "      <td>0.031746</td>\n",
              "      <td>0.000000</td>\n",
              "      <td>0.000000</td>\n",
              "      <td>0.015873</td>\n",
              "      <td>0.00</td>\n",
              "      <td>...</td>\n",
              "      <td>0.015873</td>\n",
              "      <td>0.000000</td>\n",
              "      <td>0.000000</td>\n",
              "      <td>0.00</td>\n",
              "      <td>0.00</td>\n",
              "      <td>0.000000</td>\n",
              "      <td>0.015873</td>\n",
              "      <td>0.015873</td>\n",
              "      <td>0.0</td>\n",
              "      <td>0.000000</td>\n",
              "      <td>0.015873</td>\n",
              "      <td>0.000000</td>\n",
              "      <td>0.0</td>\n",
              "      <td>0.015873</td>\n",
              "      <td>0.000000</td>\n",
              "      <td>0.000000</td>\n",
              "      <td>0.015873</td>\n",
              "      <td>0.015873</td>\n",
              "      <td>0.015873</td>\n",
              "      <td>0.00</td>\n",
              "      <td>0.000000</td>\n",
              "      <td>0.000000</td>\n",
              "      <td>0.000000</td>\n",
              "      <td>0.00</td>\n",
              "      <td>0.015873</td>\n",
              "      <td>0.000000</td>\n",
              "      <td>0.031746</td>\n",
              "      <td>0.000000</td>\n",
              "      <td>0.000000</td>\n",
              "      <td>0.000000</td>\n",
              "      <td>0.031746</td>\n",
              "      <td>0.015873</td>\n",
              "      <td>0.000000</td>\n",
              "      <td>0.000000</td>\n",
              "      <td>0.015873</td>\n",
              "      <td>0.015873</td>\n",
              "      <td>0.015873</td>\n",
              "      <td>0.000000</td>\n",
              "      <td>0.00</td>\n",
              "      <td>0.000000</td>\n",
              "    </tr>\n",
              "    <tr>\n",
              "      <th>14</th>\n",
              "      <td>Lagos Mainland</td>\n",
              "      <td>0.050000</td>\n",
              "      <td>0.000000</td>\n",
              "      <td>0.000000</td>\n",
              "      <td>0.000000</td>\n",
              "      <td>0.000000</td>\n",
              "      <td>0.000000</td>\n",
              "      <td>0.010000</td>\n",
              "      <td>0.000000</td>\n",
              "      <td>0.030000</td>\n",
              "      <td>0.010000</td>\n",
              "      <td>0.010000</td>\n",
              "      <td>0.00</td>\n",
              "      <td>0.010000</td>\n",
              "      <td>0.010000</td>\n",
              "      <td>0.010000</td>\n",
              "      <td>0.040000</td>\n",
              "      <td>0.01</td>\n",
              "      <td>0.000000</td>\n",
              "      <td>0.000000</td>\n",
              "      <td>0.00</td>\n",
              "      <td>0.000000</td>\n",
              "      <td>0.000000</td>\n",
              "      <td>0.01</td>\n",
              "      <td>0.010000</td>\n",
              "      <td>0.010000</td>\n",
              "      <td>0.000000</td>\n",
              "      <td>0.020000</td>\n",
              "      <td>0.000000</td>\n",
              "      <td>0.010000</td>\n",
              "      <td>0.000000</td>\n",
              "      <td>0.010000</td>\n",
              "      <td>0.000000</td>\n",
              "      <td>0.000000</td>\n",
              "      <td>0.000000</td>\n",
              "      <td>0.010000</td>\n",
              "      <td>0.010000</td>\n",
              "      <td>0.020000</td>\n",
              "      <td>0.030000</td>\n",
              "      <td>0.00</td>\n",
              "      <td>...</td>\n",
              "      <td>0.010000</td>\n",
              "      <td>0.010000</td>\n",
              "      <td>0.000000</td>\n",
              "      <td>0.02</td>\n",
              "      <td>0.00</td>\n",
              "      <td>0.010000</td>\n",
              "      <td>0.020000</td>\n",
              "      <td>0.010000</td>\n",
              "      <td>0.0</td>\n",
              "      <td>0.010000</td>\n",
              "      <td>0.010000</td>\n",
              "      <td>0.040000</td>\n",
              "      <td>0.0</td>\n",
              "      <td>0.020000</td>\n",
              "      <td>0.000000</td>\n",
              "      <td>0.010000</td>\n",
              "      <td>0.000000</td>\n",
              "      <td>0.030000</td>\n",
              "      <td>0.000000</td>\n",
              "      <td>0.00</td>\n",
              "      <td>0.010000</td>\n",
              "      <td>0.000000</td>\n",
              "      <td>0.010000</td>\n",
              "      <td>0.00</td>\n",
              "      <td>0.030000</td>\n",
              "      <td>0.000000</td>\n",
              "      <td>0.060000</td>\n",
              "      <td>0.000000</td>\n",
              "      <td>0.020000</td>\n",
              "      <td>0.000000</td>\n",
              "      <td>0.000000</td>\n",
              "      <td>0.010000</td>\n",
              "      <td>0.000000</td>\n",
              "      <td>0.000000</td>\n",
              "      <td>0.000000</td>\n",
              "      <td>0.000000</td>\n",
              "      <td>0.000000</td>\n",
              "      <td>0.000000</td>\n",
              "      <td>0.01</td>\n",
              "      <td>0.000000</td>\n",
              "    </tr>\n",
              "    <tr>\n",
              "      <th>15</th>\n",
              "      <td>Mushin, Lagos</td>\n",
              "      <td>0.050000</td>\n",
              "      <td>0.000000</td>\n",
              "      <td>0.010000</td>\n",
              "      <td>0.010000</td>\n",
              "      <td>0.000000</td>\n",
              "      <td>0.000000</td>\n",
              "      <td>0.010000</td>\n",
              "      <td>0.000000</td>\n",
              "      <td>0.010000</td>\n",
              "      <td>0.000000</td>\n",
              "      <td>0.010000</td>\n",
              "      <td>0.00</td>\n",
              "      <td>0.020000</td>\n",
              "      <td>0.010000</td>\n",
              "      <td>0.030000</td>\n",
              "      <td>0.030000</td>\n",
              "      <td>0.00</td>\n",
              "      <td>0.000000</td>\n",
              "      <td>0.010000</td>\n",
              "      <td>0.00</td>\n",
              "      <td>0.000000</td>\n",
              "      <td>0.010000</td>\n",
              "      <td>0.00</td>\n",
              "      <td>0.000000</td>\n",
              "      <td>0.000000</td>\n",
              "      <td>0.000000</td>\n",
              "      <td>0.010000</td>\n",
              "      <td>0.000000</td>\n",
              "      <td>0.030000</td>\n",
              "      <td>0.010000</td>\n",
              "      <td>0.000000</td>\n",
              "      <td>0.010000</td>\n",
              "      <td>0.000000</td>\n",
              "      <td>0.000000</td>\n",
              "      <td>0.030000</td>\n",
              "      <td>0.000000</td>\n",
              "      <td>0.020000</td>\n",
              "      <td>0.040000</td>\n",
              "      <td>0.00</td>\n",
              "      <td>...</td>\n",
              "      <td>0.000000</td>\n",
              "      <td>0.000000</td>\n",
              "      <td>0.000000</td>\n",
              "      <td>0.00</td>\n",
              "      <td>0.00</td>\n",
              "      <td>0.000000</td>\n",
              "      <td>0.020000</td>\n",
              "      <td>0.020000</td>\n",
              "      <td>0.0</td>\n",
              "      <td>0.000000</td>\n",
              "      <td>0.000000</td>\n",
              "      <td>0.050000</td>\n",
              "      <td>0.0</td>\n",
              "      <td>0.000000</td>\n",
              "      <td>0.000000</td>\n",
              "      <td>0.000000</td>\n",
              "      <td>0.000000</td>\n",
              "      <td>0.060000</td>\n",
              "      <td>0.010000</td>\n",
              "      <td>0.00</td>\n",
              "      <td>0.020000</td>\n",
              "      <td>0.000000</td>\n",
              "      <td>0.000000</td>\n",
              "      <td>0.01</td>\n",
              "      <td>0.030000</td>\n",
              "      <td>0.000000</td>\n",
              "      <td>0.100000</td>\n",
              "      <td>0.000000</td>\n",
              "      <td>0.010000</td>\n",
              "      <td>0.010000</td>\n",
              "      <td>0.010000</td>\n",
              "      <td>0.000000</td>\n",
              "      <td>0.000000</td>\n",
              "      <td>0.020000</td>\n",
              "      <td>0.000000</td>\n",
              "      <td>0.000000</td>\n",
              "      <td>0.000000</td>\n",
              "      <td>0.000000</td>\n",
              "      <td>0.00</td>\n",
              "      <td>0.010000</td>\n",
              "    </tr>\n",
              "    <tr>\n",
              "      <th>16</th>\n",
              "      <td>Ojo</td>\n",
              "      <td>0.000000</td>\n",
              "      <td>0.000000</td>\n",
              "      <td>0.000000</td>\n",
              "      <td>0.000000</td>\n",
              "      <td>0.000000</td>\n",
              "      <td>0.000000</td>\n",
              "      <td>0.000000</td>\n",
              "      <td>0.000000</td>\n",
              "      <td>0.000000</td>\n",
              "      <td>0.000000</td>\n",
              "      <td>0.000000</td>\n",
              "      <td>0.00</td>\n",
              "      <td>0.000000</td>\n",
              "      <td>0.000000</td>\n",
              "      <td>0.000000</td>\n",
              "      <td>0.000000</td>\n",
              "      <td>0.00</td>\n",
              "      <td>0.000000</td>\n",
              "      <td>0.000000</td>\n",
              "      <td>0.00</td>\n",
              "      <td>0.000000</td>\n",
              "      <td>0.000000</td>\n",
              "      <td>0.00</td>\n",
              "      <td>0.000000</td>\n",
              "      <td>0.000000</td>\n",
              "      <td>0.000000</td>\n",
              "      <td>0.000000</td>\n",
              "      <td>0.000000</td>\n",
              "      <td>0.000000</td>\n",
              "      <td>0.000000</td>\n",
              "      <td>0.000000</td>\n",
              "      <td>0.000000</td>\n",
              "      <td>0.000000</td>\n",
              "      <td>0.000000</td>\n",
              "      <td>0.000000</td>\n",
              "      <td>0.000000</td>\n",
              "      <td>0.000000</td>\n",
              "      <td>0.000000</td>\n",
              "      <td>0.00</td>\n",
              "      <td>...</td>\n",
              "      <td>0.000000</td>\n",
              "      <td>0.000000</td>\n",
              "      <td>0.000000</td>\n",
              "      <td>0.00</td>\n",
              "      <td>0.00</td>\n",
              "      <td>0.000000</td>\n",
              "      <td>0.000000</td>\n",
              "      <td>0.000000</td>\n",
              "      <td>0.0</td>\n",
              "      <td>0.000000</td>\n",
              "      <td>0.000000</td>\n",
              "      <td>0.000000</td>\n",
              "      <td>0.0</td>\n",
              "      <td>0.250000</td>\n",
              "      <td>0.000000</td>\n",
              "      <td>0.000000</td>\n",
              "      <td>0.000000</td>\n",
              "      <td>0.000000</td>\n",
              "      <td>0.000000</td>\n",
              "      <td>0.00</td>\n",
              "      <td>0.000000</td>\n",
              "      <td>0.000000</td>\n",
              "      <td>0.000000</td>\n",
              "      <td>0.00</td>\n",
              "      <td>0.250000</td>\n",
              "      <td>0.000000</td>\n",
              "      <td>0.000000</td>\n",
              "      <td>0.000000</td>\n",
              "      <td>0.000000</td>\n",
              "      <td>0.000000</td>\n",
              "      <td>0.000000</td>\n",
              "      <td>0.000000</td>\n",
              "      <td>0.000000</td>\n",
              "      <td>0.000000</td>\n",
              "      <td>0.000000</td>\n",
              "      <td>0.000000</td>\n",
              "      <td>0.000000</td>\n",
              "      <td>0.000000</td>\n",
              "      <td>0.00</td>\n",
              "      <td>0.000000</td>\n",
              "    </tr>\n",
              "    <tr>\n",
              "      <th>17</th>\n",
              "      <td>Oshodi-Isolo</td>\n",
              "      <td>0.060000</td>\n",
              "      <td>0.000000</td>\n",
              "      <td>0.010000</td>\n",
              "      <td>0.010000</td>\n",
              "      <td>0.000000</td>\n",
              "      <td>0.000000</td>\n",
              "      <td>0.010000</td>\n",
              "      <td>0.000000</td>\n",
              "      <td>0.010000</td>\n",
              "      <td>0.000000</td>\n",
              "      <td>0.010000</td>\n",
              "      <td>0.01</td>\n",
              "      <td>0.020000</td>\n",
              "      <td>0.010000</td>\n",
              "      <td>0.030000</td>\n",
              "      <td>0.050000</td>\n",
              "      <td>0.00</td>\n",
              "      <td>0.000000</td>\n",
              "      <td>0.000000</td>\n",
              "      <td>0.00</td>\n",
              "      <td>0.000000</td>\n",
              "      <td>0.010000</td>\n",
              "      <td>0.00</td>\n",
              "      <td>0.010000</td>\n",
              "      <td>0.010000</td>\n",
              "      <td>0.000000</td>\n",
              "      <td>0.010000</td>\n",
              "      <td>0.000000</td>\n",
              "      <td>0.030000</td>\n",
              "      <td>0.010000</td>\n",
              "      <td>0.000000</td>\n",
              "      <td>0.010000</td>\n",
              "      <td>0.000000</td>\n",
              "      <td>0.000000</td>\n",
              "      <td>0.020000</td>\n",
              "      <td>0.000000</td>\n",
              "      <td>0.010000</td>\n",
              "      <td>0.040000</td>\n",
              "      <td>0.00</td>\n",
              "      <td>...</td>\n",
              "      <td>0.010000</td>\n",
              "      <td>0.000000</td>\n",
              "      <td>0.000000</td>\n",
              "      <td>0.00</td>\n",
              "      <td>0.00</td>\n",
              "      <td>0.000000</td>\n",
              "      <td>0.020000</td>\n",
              "      <td>0.020000</td>\n",
              "      <td>0.0</td>\n",
              "      <td>0.000000</td>\n",
              "      <td>0.000000</td>\n",
              "      <td>0.040000</td>\n",
              "      <td>0.0</td>\n",
              "      <td>0.000000</td>\n",
              "      <td>0.000000</td>\n",
              "      <td>0.000000</td>\n",
              "      <td>0.000000</td>\n",
              "      <td>0.060000</td>\n",
              "      <td>0.000000</td>\n",
              "      <td>0.00</td>\n",
              "      <td>0.020000</td>\n",
              "      <td>0.000000</td>\n",
              "      <td>0.000000</td>\n",
              "      <td>0.00</td>\n",
              "      <td>0.030000</td>\n",
              "      <td>0.010000</td>\n",
              "      <td>0.070000</td>\n",
              "      <td>0.000000</td>\n",
              "      <td>0.000000</td>\n",
              "      <td>0.010000</td>\n",
              "      <td>0.010000</td>\n",
              "      <td>0.000000</td>\n",
              "      <td>0.000000</td>\n",
              "      <td>0.020000</td>\n",
              "      <td>0.000000</td>\n",
              "      <td>0.000000</td>\n",
              "      <td>0.000000</td>\n",
              "      <td>0.000000</td>\n",
              "      <td>0.00</td>\n",
              "      <td>0.010000</td>\n",
              "    </tr>\n",
              "    <tr>\n",
              "      <th>18</th>\n",
              "      <td>Somolu</td>\n",
              "      <td>0.000000</td>\n",
              "      <td>0.000000</td>\n",
              "      <td>0.000000</td>\n",
              "      <td>0.000000</td>\n",
              "      <td>0.000000</td>\n",
              "      <td>0.000000</td>\n",
              "      <td>0.000000</td>\n",
              "      <td>0.000000</td>\n",
              "      <td>0.000000</td>\n",
              "      <td>0.000000</td>\n",
              "      <td>0.000000</td>\n",
              "      <td>0.00</td>\n",
              "      <td>0.000000</td>\n",
              "      <td>0.000000</td>\n",
              "      <td>0.000000</td>\n",
              "      <td>0.055556</td>\n",
              "      <td>0.00</td>\n",
              "      <td>0.055556</td>\n",
              "      <td>0.000000</td>\n",
              "      <td>0.00</td>\n",
              "      <td>0.000000</td>\n",
              "      <td>0.000000</td>\n",
              "      <td>0.00</td>\n",
              "      <td>0.000000</td>\n",
              "      <td>0.000000</td>\n",
              "      <td>0.166667</td>\n",
              "      <td>0.000000</td>\n",
              "      <td>0.000000</td>\n",
              "      <td>0.000000</td>\n",
              "      <td>0.000000</td>\n",
              "      <td>0.000000</td>\n",
              "      <td>0.000000</td>\n",
              "      <td>0.000000</td>\n",
              "      <td>0.000000</td>\n",
              "      <td>0.111111</td>\n",
              "      <td>0.000000</td>\n",
              "      <td>0.000000</td>\n",
              "      <td>0.111111</td>\n",
              "      <td>0.00</td>\n",
              "      <td>...</td>\n",
              "      <td>0.055556</td>\n",
              "      <td>0.000000</td>\n",
              "      <td>0.000000</td>\n",
              "      <td>0.00</td>\n",
              "      <td>0.00</td>\n",
              "      <td>0.000000</td>\n",
              "      <td>0.000000</td>\n",
              "      <td>0.000000</td>\n",
              "      <td>0.0</td>\n",
              "      <td>0.000000</td>\n",
              "      <td>0.000000</td>\n",
              "      <td>0.000000</td>\n",
              "      <td>0.0</td>\n",
              "      <td>0.000000</td>\n",
              "      <td>0.000000</td>\n",
              "      <td>0.000000</td>\n",
              "      <td>0.000000</td>\n",
              "      <td>0.111111</td>\n",
              "      <td>0.000000</td>\n",
              "      <td>0.00</td>\n",
              "      <td>0.000000</td>\n",
              "      <td>0.000000</td>\n",
              "      <td>0.000000</td>\n",
              "      <td>0.00</td>\n",
              "      <td>0.055556</td>\n",
              "      <td>0.000000</td>\n",
              "      <td>0.000000</td>\n",
              "      <td>0.055556</td>\n",
              "      <td>0.000000</td>\n",
              "      <td>0.000000</td>\n",
              "      <td>0.000000</td>\n",
              "      <td>0.000000</td>\n",
              "      <td>0.000000</td>\n",
              "      <td>0.000000</td>\n",
              "      <td>0.000000</td>\n",
              "      <td>0.000000</td>\n",
              "      <td>0.000000</td>\n",
              "      <td>0.000000</td>\n",
              "      <td>0.00</td>\n",
              "      <td>0.000000</td>\n",
              "    </tr>\n",
              "    <tr>\n",
              "      <th>19</th>\n",
              "      <td>Surulere</td>\n",
              "      <td>0.056818</td>\n",
              "      <td>0.000000</td>\n",
              "      <td>0.000000</td>\n",
              "      <td>0.000000</td>\n",
              "      <td>0.000000</td>\n",
              "      <td>0.000000</td>\n",
              "      <td>0.000000</td>\n",
              "      <td>0.011364</td>\n",
              "      <td>0.022727</td>\n",
              "      <td>0.022727</td>\n",
              "      <td>0.011364</td>\n",
              "      <td>0.00</td>\n",
              "      <td>0.011364</td>\n",
              "      <td>0.011364</td>\n",
              "      <td>0.000000</td>\n",
              "      <td>0.045455</td>\n",
              "      <td>0.00</td>\n",
              "      <td>0.000000</td>\n",
              "      <td>0.000000</td>\n",
              "      <td>0.00</td>\n",
              "      <td>0.011364</td>\n",
              "      <td>0.000000</td>\n",
              "      <td>0.00</td>\n",
              "      <td>0.011364</td>\n",
              "      <td>0.000000</td>\n",
              "      <td>0.000000</td>\n",
              "      <td>0.000000</td>\n",
              "      <td>0.000000</td>\n",
              "      <td>0.022727</td>\n",
              "      <td>0.000000</td>\n",
              "      <td>0.011364</td>\n",
              "      <td>0.000000</td>\n",
              "      <td>0.000000</td>\n",
              "      <td>0.000000</td>\n",
              "      <td>0.011364</td>\n",
              "      <td>0.011364</td>\n",
              "      <td>0.011364</td>\n",
              "      <td>0.045455</td>\n",
              "      <td>0.00</td>\n",
              "      <td>...</td>\n",
              "      <td>0.011364</td>\n",
              "      <td>0.011364</td>\n",
              "      <td>0.000000</td>\n",
              "      <td>0.00</td>\n",
              "      <td>0.00</td>\n",
              "      <td>0.011364</td>\n",
              "      <td>0.022727</td>\n",
              "      <td>0.011364</td>\n",
              "      <td>0.0</td>\n",
              "      <td>0.011364</td>\n",
              "      <td>0.000000</td>\n",
              "      <td>0.045455</td>\n",
              "      <td>0.0</td>\n",
              "      <td>0.022727</td>\n",
              "      <td>0.000000</td>\n",
              "      <td>0.011364</td>\n",
              "      <td>0.000000</td>\n",
              "      <td>0.034091</td>\n",
              "      <td>0.000000</td>\n",
              "      <td>0.00</td>\n",
              "      <td>0.011364</td>\n",
              "      <td>0.011364</td>\n",
              "      <td>0.011364</td>\n",
              "      <td>0.00</td>\n",
              "      <td>0.000000</td>\n",
              "      <td>0.000000</td>\n",
              "      <td>0.056818</td>\n",
              "      <td>0.000000</td>\n",
              "      <td>0.011364</td>\n",
              "      <td>0.000000</td>\n",
              "      <td>0.011364</td>\n",
              "      <td>0.011364</td>\n",
              "      <td>0.011364</td>\n",
              "      <td>0.000000</td>\n",
              "      <td>0.011364</td>\n",
              "      <td>0.000000</td>\n",
              "      <td>0.000000</td>\n",
              "      <td>0.000000</td>\n",
              "      <td>0.00</td>\n",
              "      <td>0.000000</td>\n",
              "    </tr>\n",
              "  </tbody>\n",
              "</table>\n",
              "<p>20 rows × 106 columns</p>\n",
              "</div>"
            ],
            "text/plain": [
              "                 LGA  African Restaurant  ...  Theme Restaurant  Wine Shop\n",
              "0              Agege            0.032967  ...              0.00   0.000000\n",
              "1   Ajeromi-Ifelodun            0.084746  ...              0.00   0.000000\n",
              "2           Alimosho            0.000000  ...              0.00   0.025641\n",
              "3       Amuwo-Odofin            0.050000  ...              0.00   0.000000\n",
              "4              Apapa            0.090000  ...              0.01   0.000000\n",
              "5            Badagry            0.000000  ...              0.00   0.000000\n",
              "6                Epe            0.000000  ...              0.00   0.000000\n",
              "7            Eti-Osa            0.018519  ...              0.00   0.000000\n",
              "8        Ibeju-Lekki            0.000000  ...              0.00   0.000000\n",
              "9       Ifako-Ijaiye            0.000000  ...              0.00   0.000000\n",
              "10             Ikeja            0.032967  ...              0.00   0.010989\n",
              "11           Ikorodu            0.100000  ...              0.00   0.000000\n",
              "12            Kosofe            0.050633  ...              0.00   0.000000\n",
              "13      Lagos Island            0.015873  ...              0.00   0.000000\n",
              "14    Lagos Mainland            0.050000  ...              0.01   0.000000\n",
              "15     Mushin, Lagos            0.050000  ...              0.00   0.010000\n",
              "16               Ojo            0.000000  ...              0.00   0.000000\n",
              "17      Oshodi-Isolo            0.060000  ...              0.00   0.010000\n",
              "18            Somolu            0.000000  ...              0.00   0.000000\n",
              "19          Surulere            0.056818  ...              0.00   0.000000\n",
              "\n",
              "[20 rows x 106 columns]"
            ]
          },
          "metadata": {
            "tags": []
          },
          "execution_count": 238
        }
      ]
    },
    {
      "cell_type": "markdown",
      "metadata": {
        "id": "CZg6RoCjSjkO",
        "colab_type": "text"
      },
      "source": [
        "Let's confirm the new shape"
      ]
    },
    {
      "cell_type": "code",
      "metadata": {
        "id": "5MuolwLHSmb9",
        "colab_type": "code",
        "outputId": "006522ab-0ac4-4b4f-cd38-b99b1bdf33e4",
        "colab": {
          "base_uri": "https://localhost:8080/",
          "height": 34
        }
      },
      "source": [
        "lagos_grouped.shape"
      ],
      "execution_count": 0,
      "outputs": [
        {
          "output_type": "execute_result",
          "data": {
            "text/plain": [
              "(20, 106)"
            ]
          },
          "metadata": {
            "tags": []
          },
          "execution_count": 239
        }
      ]
    },
    {
      "cell_type": "markdown",
      "metadata": {
        "id": "yCscN0BeaHth",
        "colab_type": "text"
      },
      "source": [
        "Let's write a function to sort the venues in descending order."
      ]
    },
    {
      "cell_type": "code",
      "metadata": {
        "id": "T54IdLU9bJYy",
        "colab_type": "code",
        "colab": {}
      },
      "source": [
        "def return_most_common_venues(row, num_top_venues):\n",
        "    row_categories = row.iloc[1:]\n",
        "    row_categories_sorted = row_categories.sort_values(ascending=False)\n",
        "    \n",
        "    return row_categories_sorted.index.values[0:num_top_venues]"
      ],
      "execution_count": 0,
      "outputs": []
    },
    {
      "cell_type": "markdown",
      "metadata": {
        "id": "Ji18JlDcbYDN",
        "colab_type": "text"
      },
      "source": [
        "Now let's create the new dataframe and display the top 10 venues for each LGA in Lagos"
      ]
    },
    {
      "cell_type": "code",
      "metadata": {
        "id": "Py6JechzbWSf",
        "colab_type": "code",
        "outputId": "15cdf850-8cdf-478c-e18c-e9e4375efe3e",
        "colab": {
          "base_uri": "https://localhost:8080/",
          "height": 528
        }
      },
      "source": [
        "num_top_venues = 10\n",
        "\n",
        "indicators = ['st', 'nd', 'rd']\n",
        "\n",
        "# create columns according to number of top venues\n",
        "columns = ['LGA']\n",
        "for ind in np.arange(num_top_venues):\n",
        "    try:\n",
        "        columns.append('{}{} Most Common Venue'.format(ind+1, indicators[ind]))\n",
        "    except:\n",
        "        columns.append('{}th Most Common Venue'.format(ind+1))\n",
        "\n",
        "# create a new dataframe\n",
        "lga_venues_sorted = pd.DataFrame(columns=columns)\n",
        "lga_venues_sorted['LGA'] = lagos_grouped['LGA']\n",
        "\n",
        "for ind in np.arange(lagos_grouped.shape[0]):\n",
        "    lga_venues_sorted.iloc[ind, 1:] = return_most_common_venues(lagos_grouped.iloc[ind, :], num_top_venues)\n",
        "\n",
        "lga_venues_sorted.head(10)"
      ],
      "execution_count": 0,
      "outputs": [
        {
          "output_type": "execute_result",
          "data": {
            "text/html": [
              "<div>\n",
              "<style scoped>\n",
              "    .dataframe tbody tr th:only-of-type {\n",
              "        vertical-align: middle;\n",
              "    }\n",
              "\n",
              "    .dataframe tbody tr th {\n",
              "        vertical-align: top;\n",
              "    }\n",
              "\n",
              "    .dataframe thead th {\n",
              "        text-align: right;\n",
              "    }\n",
              "</style>\n",
              "<table border=\"1\" class=\"dataframe\">\n",
              "  <thead>\n",
              "    <tr style=\"text-align: right;\">\n",
              "      <th></th>\n",
              "      <th>LGA</th>\n",
              "      <th>1st Most Common Venue</th>\n",
              "      <th>2nd Most Common Venue</th>\n",
              "      <th>3rd Most Common Venue</th>\n",
              "      <th>4th Most Common Venue</th>\n",
              "      <th>5th Most Common Venue</th>\n",
              "      <th>6th Most Common Venue</th>\n",
              "      <th>7th Most Common Venue</th>\n",
              "      <th>8th Most Common Venue</th>\n",
              "      <th>9th Most Common Venue</th>\n",
              "      <th>10th Most Common Venue</th>\n",
              "    </tr>\n",
              "  </thead>\n",
              "  <tbody>\n",
              "    <tr>\n",
              "      <th>0</th>\n",
              "      <td>Agege</td>\n",
              "      <td>Shopping Mall</td>\n",
              "      <td>Fast Food Restaurant</td>\n",
              "      <td>Pizza Place</td>\n",
              "      <td>Convenience Store</td>\n",
              "      <td>Hotel</td>\n",
              "      <td>Lounge</td>\n",
              "      <td>Restaurant</td>\n",
              "      <td>Ice Cream Shop</td>\n",
              "      <td>Chinese Restaurant</td>\n",
              "      <td>Burger Joint</td>\n",
              "    </tr>\n",
              "    <tr>\n",
              "      <th>1</th>\n",
              "      <td>Ajeromi-Ifelodun</td>\n",
              "      <td>African Restaurant</td>\n",
              "      <td>Hotel</td>\n",
              "      <td>Lounge</td>\n",
              "      <td>Shopping Mall</td>\n",
              "      <td>Nightclub</td>\n",
              "      <td>Park</td>\n",
              "      <td>Pizza Place</td>\n",
              "      <td>Japanese Restaurant</td>\n",
              "      <td>Fast Food Restaurant</td>\n",
              "      <td>Movie Theater</td>\n",
              "    </tr>\n",
              "    <tr>\n",
              "      <th>2</th>\n",
              "      <td>Alimosho</td>\n",
              "      <td>Fast Food Restaurant</td>\n",
              "      <td>Pizza Place</td>\n",
              "      <td>Restaurant</td>\n",
              "      <td>Burger Joint</td>\n",
              "      <td>Lounge</td>\n",
              "      <td>Park</td>\n",
              "      <td>Shopping Mall</td>\n",
              "      <td>Hotel</td>\n",
              "      <td>Wine Shop</td>\n",
              "      <td>Farmers Market</td>\n",
              "    </tr>\n",
              "    <tr>\n",
              "      <th>3</th>\n",
              "      <td>Amuwo-Odofin</td>\n",
              "      <td>Hotel</td>\n",
              "      <td>Park</td>\n",
              "      <td>Fast Food Restaurant</td>\n",
              "      <td>African Restaurant</td>\n",
              "      <td>Shopping Mall</td>\n",
              "      <td>Chinese Restaurant</td>\n",
              "      <td>Mobile Phone Shop</td>\n",
              "      <td>Bike Rental / Bike Share</td>\n",
              "      <td>Beach</td>\n",
              "      <td>Pool</td>\n",
              "    </tr>\n",
              "    <tr>\n",
              "      <th>4</th>\n",
              "      <td>Apapa</td>\n",
              "      <td>Hotel</td>\n",
              "      <td>African Restaurant</td>\n",
              "      <td>Lounge</td>\n",
              "      <td>Restaurant</td>\n",
              "      <td>Nightclub</td>\n",
              "      <td>Japanese Restaurant</td>\n",
              "      <td>Ice Cream Shop</td>\n",
              "      <td>Art Gallery</td>\n",
              "      <td>Pizza Place</td>\n",
              "      <td>Diner</td>\n",
              "    </tr>\n",
              "    <tr>\n",
              "      <th>5</th>\n",
              "      <td>Badagry</td>\n",
              "      <td>History Museum</td>\n",
              "      <td>Museum</td>\n",
              "      <td>Fast Food Restaurant</td>\n",
              "      <td>Beer Garden</td>\n",
              "      <td>Wine Shop</td>\n",
              "      <td>Cupcake Shop</td>\n",
              "      <td>Chinese Restaurant</td>\n",
              "      <td>Clothing Store</td>\n",
              "      <td>Cocktail Bar</td>\n",
              "      <td>Coffee Shop</td>\n",
              "    </tr>\n",
              "    <tr>\n",
              "      <th>6</th>\n",
              "      <td>Epe</td>\n",
              "      <td>Hotel</td>\n",
              "      <td>Other Great Outdoors</td>\n",
              "      <td>Wine Shop</td>\n",
              "      <td>Department Store</td>\n",
              "      <td>Campground</td>\n",
              "      <td>Chinese Restaurant</td>\n",
              "      <td>Clothing Store</td>\n",
              "      <td>Cocktail Bar</td>\n",
              "      <td>Coffee Shop</td>\n",
              "      <td>Comedy Club</td>\n",
              "    </tr>\n",
              "    <tr>\n",
              "      <th>7</th>\n",
              "      <td>Eti-Osa</td>\n",
              "      <td>Lounge</td>\n",
              "      <td>Hotel</td>\n",
              "      <td>Bar</td>\n",
              "      <td>Beach</td>\n",
              "      <td>Ice Cream Shop</td>\n",
              "      <td>Fast Food Restaurant</td>\n",
              "      <td>Gym / Fitness Center</td>\n",
              "      <td>Pizza Place</td>\n",
              "      <td>Convenience Store</td>\n",
              "      <td>Department Store</td>\n",
              "    </tr>\n",
              "    <tr>\n",
              "      <th>8</th>\n",
              "      <td>Ibeju-Lekki</td>\n",
              "      <td>Golf Course</td>\n",
              "      <td>Arcade</td>\n",
              "      <td>Beach</td>\n",
              "      <td>Resort</td>\n",
              "      <td>Department Store</td>\n",
              "      <td>Chinese Restaurant</td>\n",
              "      <td>Clothing Store</td>\n",
              "      <td>Cocktail Bar</td>\n",
              "      <td>Coffee Shop</td>\n",
              "      <td>Comedy Club</td>\n",
              "    </tr>\n",
              "    <tr>\n",
              "      <th>9</th>\n",
              "      <td>Ifako-Ijaiye</td>\n",
              "      <td>Fast Food Restaurant</td>\n",
              "      <td>Shopping Mall</td>\n",
              "      <td>Pizza Place</td>\n",
              "      <td>Hotel</td>\n",
              "      <td>Restaurant</td>\n",
              "      <td>Burger Joint</td>\n",
              "      <td>BBQ Joint</td>\n",
              "      <td>Chinese Restaurant</td>\n",
              "      <td>Bus Station</td>\n",
              "      <td>Bar</td>\n",
              "    </tr>\n",
              "  </tbody>\n",
              "</table>\n",
              "</div>"
            ],
            "text/plain": [
              "                LGA  ... 10th Most Common Venue\n",
              "0             Agege  ...           Burger Joint\n",
              "1  Ajeromi-Ifelodun  ...          Movie Theater\n",
              "2          Alimosho  ...         Farmers Market\n",
              "3      Amuwo-Odofin  ...                   Pool\n",
              "4             Apapa  ...                  Diner\n",
              "5           Badagry  ...            Coffee Shop\n",
              "6               Epe  ...            Comedy Club\n",
              "7           Eti-Osa  ...       Department Store\n",
              "8       Ibeju-Lekki  ...            Comedy Club\n",
              "9      Ifako-Ijaiye  ...                    Bar\n",
              "\n",
              "[10 rows x 11 columns]"
            ]
          },
          "metadata": {
            "tags": []
          },
          "execution_count": 267
        }
      ]
    },
    {
      "cell_type": "markdown",
      "metadata": {
        "id": "fGUuAjN7dJyV",
        "colab_type": "text"
      },
      "source": [
        "We can clearly see that hotels are the most common venues in majority of LGA areas in Lagos State.<br>Other common venues are fast food restaurants and shopping malls"
      ]
    },
    {
      "cell_type": "markdown",
      "metadata": {
        "id": "xhuIgc4sed6I",
        "colab_type": "text"
      },
      "source": [
        "#### Let's Cluster Neighborhoods in Lagos State by LGAs"
      ]
    },
    {
      "cell_type": "markdown",
      "metadata": {
        "id": "XVWtM6mhevEU",
        "colab_type": "text"
      },
      "source": [
        "Run k-means to cluster the State into 5 clusters."
      ]
    },
    {
      "cell_type": "code",
      "metadata": {
        "id": "069ljTVbec4M",
        "colab_type": "code",
        "outputId": "552d44d9-4121-4a4b-fa08-645e7c1e24ea",
        "colab": {
          "base_uri": "https://localhost:8080/",
          "height": 50
        }
      },
      "source": [
        "# set number of clusters\n",
        "kclusters = 5\n",
        "\n",
        "lagos_grouped_clustering = lagos_grouped.drop('LGA', 1)\n",
        "\n",
        "# run k-means clustering\n",
        "kmeans = KMeans(n_clusters=kclusters, random_state=0).fit(lagos_grouped_clustering)\n",
        "\n",
        "# check cluster labels generated for each row in the dataframe\n",
        "kmeans.labels_"
      ],
      "execution_count": 0,
      "outputs": [
        {
          "output_type": "execute_result",
          "data": {
            "text/plain": [
              "array([0, 0, 0, 0, 0, 3, 2, 0, 4, 0, 0, 0, 0, 0, 0, 0, 1, 0, 0, 0],\n",
              "      dtype=int32)"
            ]
          },
          "metadata": {
            "tags": []
          },
          "execution_count": 242
        }
      ]
    },
    {
      "cell_type": "markdown",
      "metadata": {
        "id": "rOrGV-nhg1Tv",
        "colab_type": "text"
      },
      "source": [
        "Let's update the lga_venues_sorted DataFrame to include the cluster labels, as well as lat and long data per LGA"
      ]
    },
    {
      "cell_type": "code",
      "metadata": {
        "id": "sxEnwbYekOda",
        "colab_type": "code",
        "outputId": "5df3b907-d0cc-4f85-f3a3-7ed546ebd517",
        "colab": {
          "base_uri": "https://localhost:8080/",
          "height": 195
        }
      },
      "source": [
        "lagos_df.tail()"
      ],
      "execution_count": 0,
      "outputs": [
        {
          "output_type": "execute_result",
          "data": {
            "text/html": [
              "<div>\n",
              "<style scoped>\n",
              "    .dataframe tbody tr th:only-of-type {\n",
              "        vertical-align: middle;\n",
              "    }\n",
              "\n",
              "    .dataframe tbody tr th {\n",
              "        vertical-align: top;\n",
              "    }\n",
              "\n",
              "    .dataframe thead th {\n",
              "        text-align: right;\n",
              "    }\n",
              "</style>\n",
              "<table border=\"1\" class=\"dataframe\">\n",
              "  <thead>\n",
              "    <tr style=\"text-align: right;\">\n",
              "      <th></th>\n",
              "      <th>LGA</th>\n",
              "      <th>POP</th>\n",
              "      <th>latitude</th>\n",
              "      <th>longitude</th>\n",
              "    </tr>\n",
              "  </thead>\n",
              "  <tbody>\n",
              "    <tr>\n",
              "      <th>15</th>\n",
              "      <td>Badagry</td>\n",
              "      <td>241437</td>\n",
              "      <td>6.43873</td>\n",
              "      <td>2.907486</td>\n",
              "    </tr>\n",
              "    <tr>\n",
              "      <th>16</th>\n",
              "      <td>Apapa</td>\n",
              "      <td>217661</td>\n",
              "      <td>6.44519</td>\n",
              "      <td>3.368373</td>\n",
              "    </tr>\n",
              "    <tr>\n",
              "      <th>17</th>\n",
              "      <td>Lagos Island</td>\n",
              "      <td>209665</td>\n",
              "      <td>6.51486</td>\n",
              "      <td>3.490866</td>\n",
              "    </tr>\n",
              "    <tr>\n",
              "      <th>18</th>\n",
              "      <td>Epe</td>\n",
              "      <td>181715</td>\n",
              "      <td>6.52475</td>\n",
              "      <td>4.057246</td>\n",
              "    </tr>\n",
              "    <tr>\n",
              "      <th>19</th>\n",
              "      <td>Ibeju-Lekki</td>\n",
              "      <td>117542</td>\n",
              "      <td>6.47113</td>\n",
              "      <td>3.814750</td>\n",
              "    </tr>\n",
              "  </tbody>\n",
              "</table>\n",
              "</div>"
            ],
            "text/plain": [
              "             LGA     POP latitude  longitude\n",
              "15       Badagry  241437  6.43873   2.907486\n",
              "16         Apapa  217661  6.44519   3.368373\n",
              "17  Lagos Island  209665  6.51486   3.490866\n",
              "18           Epe  181715  6.52475   4.057246\n",
              "19   Ibeju-Lekki  117542  6.47113   3.814750"
            ]
          },
          "metadata": {
            "tags": []
          },
          "execution_count": 243
        }
      ]
    },
    {
      "cell_type": "code",
      "metadata": {
        "id": "P37EYX3PhGf7",
        "colab_type": "code",
        "colab": {}
      },
      "source": [
        "# insert clustering labels\n",
        "lga_venues_sorted.insert(0, 'Cluster Labels', kmeans.labels_)\n",
        "\n",
        "# Let's select LGA, latitude and longitude data columns from lagos_df\n",
        "lagos_merged = lagos_df[['LGA', 'latitude', 'longitude']]\n",
        "\n",
        "# merge lagos_merged with lga_venues_sorted to add latitude/longitude for each neighborhood\n",
        "lagos_merged = lagos_merged.join(lga_venues_sorted.set_index('LGA'), on='LGA')"
      ],
      "execution_count": 0,
      "outputs": []
    },
    {
      "cell_type": "code",
      "metadata": {
        "id": "s7kSmfdsmdII",
        "colab_type": "code",
        "outputId": "cd61b356-1ea1-4064-9dd8-4a2a334f578a",
        "colab": {
          "base_uri": "https://localhost:8080/",
          "height": 1000
        }
      },
      "source": [
        "lagos_merged"
      ],
      "execution_count": 0,
      "outputs": [
        {
          "output_type": "execute_result",
          "data": {
            "text/html": [
              "<div>\n",
              "<style scoped>\n",
              "    .dataframe tbody tr th:only-of-type {\n",
              "        vertical-align: middle;\n",
              "    }\n",
              "\n",
              "    .dataframe tbody tr th {\n",
              "        vertical-align: top;\n",
              "    }\n",
              "\n",
              "    .dataframe thead th {\n",
              "        text-align: right;\n",
              "    }\n",
              "</style>\n",
              "<table border=\"1\" class=\"dataframe\">\n",
              "  <thead>\n",
              "    <tr style=\"text-align: right;\">\n",
              "      <th></th>\n",
              "      <th>LGA</th>\n",
              "      <th>latitude</th>\n",
              "      <th>longitude</th>\n",
              "      <th>Cluster Labels</th>\n",
              "      <th>1st Most Common Venue</th>\n",
              "      <th>2nd Most Common Venue</th>\n",
              "      <th>3rd Most Common Venue</th>\n",
              "      <th>4th Most Common Venue</th>\n",
              "      <th>5th Most Common Venue</th>\n",
              "      <th>6th Most Common Venue</th>\n",
              "      <th>7th Most Common Venue</th>\n",
              "      <th>8th Most Common Venue</th>\n",
              "      <th>9th Most Common Venue</th>\n",
              "      <th>10th Most Common Venue</th>\n",
              "    </tr>\n",
              "  </thead>\n",
              "  <tbody>\n",
              "    <tr>\n",
              "      <th>0</th>\n",
              "      <td>Alimosho</td>\n",
              "      <td>6.58434</td>\n",
              "      <td>3.257631</td>\n",
              "      <td>0</td>\n",
              "      <td>Fast Food Restaurant</td>\n",
              "      <td>Pizza Place</td>\n",
              "      <td>Restaurant</td>\n",
              "      <td>Burger Joint</td>\n",
              "      <td>Lounge</td>\n",
              "      <td>Park</td>\n",
              "      <td>Shopping Mall</td>\n",
              "      <td>Hotel</td>\n",
              "      <td>Wine Shop</td>\n",
              "      <td>Farmers Market</td>\n",
              "    </tr>\n",
              "    <tr>\n",
              "      <th>1</th>\n",
              "      <td>Ajeromi-Ifelodun</td>\n",
              "      <td>6.45512</td>\n",
              "      <td>3.335946</td>\n",
              "      <td>0</td>\n",
              "      <td>African Restaurant</td>\n",
              "      <td>Hotel</td>\n",
              "      <td>Lounge</td>\n",
              "      <td>Shopping Mall</td>\n",
              "      <td>Nightclub</td>\n",
              "      <td>Park</td>\n",
              "      <td>Pizza Place</td>\n",
              "      <td>Japanese Restaurant</td>\n",
              "      <td>Fast Food Restaurant</td>\n",
              "      <td>Movie Theater</td>\n",
              "    </tr>\n",
              "    <tr>\n",
              "      <th>2</th>\n",
              "      <td>Kosofe</td>\n",
              "      <td>6.58197</td>\n",
              "      <td>3.414836</td>\n",
              "      <td>0</td>\n",
              "      <td>Shopping Mall</td>\n",
              "      <td>Fast Food Restaurant</td>\n",
              "      <td>Nightclub</td>\n",
              "      <td>African Restaurant</td>\n",
              "      <td>Convenience Store</td>\n",
              "      <td>Pizza Place</td>\n",
              "      <td>Ice Cream Shop</td>\n",
              "      <td>Bar</td>\n",
              "      <td>BBQ Joint</td>\n",
              "      <td>Restaurant</td>\n",
              "    </tr>\n",
              "    <tr>\n",
              "      <th>3</th>\n",
              "      <td>Mushin, Lagos</td>\n",
              "      <td>6.53263</td>\n",
              "      <td>3.352022</td>\n",
              "      <td>0</td>\n",
              "      <td>Shopping Mall</td>\n",
              "      <td>Fast Food Restaurant</td>\n",
              "      <td>Pizza Place</td>\n",
              "      <td>African Restaurant</td>\n",
              "      <td>Nightclub</td>\n",
              "      <td>Department Store</td>\n",
              "      <td>Lounge</td>\n",
              "      <td>Hotel</td>\n",
              "      <td>Convenience Store</td>\n",
              "      <td>Chinese Restaurant</td>\n",
              "    </tr>\n",
              "    <tr>\n",
              "      <th>4</th>\n",
              "      <td>Oshodi-Isolo</td>\n",
              "      <td>6.54001</td>\n",
              "      <td>3.312415</td>\n",
              "      <td>0</td>\n",
              "      <td>Fast Food Restaurant</td>\n",
              "      <td>Shopping Mall</td>\n",
              "      <td>African Restaurant</td>\n",
              "      <td>Hotel</td>\n",
              "      <td>Pizza Place</td>\n",
              "      <td>Bar</td>\n",
              "      <td>Nightclub</td>\n",
              "      <td>Department Store</td>\n",
              "      <td>Lounge</td>\n",
              "      <td>Chinese Restaurant</td>\n",
              "    </tr>\n",
              "    <tr>\n",
              "      <th>5</th>\n",
              "      <td>Ojo</td>\n",
              "      <td>1.09584</td>\n",
              "      <td>-76.611069</td>\n",
              "      <td>1</td>\n",
              "      <td>Hotel</td>\n",
              "      <td>Restaurant</td>\n",
              "      <td>Park</td>\n",
              "      <td>Wine Shop</td>\n",
              "      <td>Campground</td>\n",
              "      <td>Chinese Restaurant</td>\n",
              "      <td>Clothing Store</td>\n",
              "      <td>Cocktail Bar</td>\n",
              "      <td>Coffee Shop</td>\n",
              "      <td>Comedy Club</td>\n",
              "    </tr>\n",
              "    <tr>\n",
              "      <th>6</th>\n",
              "      <td>Ikorodu</td>\n",
              "      <td>6.61912</td>\n",
              "      <td>3.504127</td>\n",
              "      <td>0</td>\n",
              "      <td>Hotel Bar</td>\n",
              "      <td>African Restaurant</td>\n",
              "      <td>Bar</td>\n",
              "      <td>Mobile Phone Shop</td>\n",
              "      <td>Comedy Club</td>\n",
              "      <td>Café</td>\n",
              "      <td>Pizza Place</td>\n",
              "      <td>Beach</td>\n",
              "      <td>Bus Station</td>\n",
              "      <td>Art Gallery</td>\n",
              "    </tr>\n",
              "    <tr>\n",
              "      <th>7</th>\n",
              "      <td>Surulere</td>\n",
              "      <td>6.4872</td>\n",
              "      <td>3.353259</td>\n",
              "      <td>0</td>\n",
              "      <td>Hotel</td>\n",
              "      <td>African Restaurant</td>\n",
              "      <td>Lounge</td>\n",
              "      <td>Shopping Mall</td>\n",
              "      <td>Bar</td>\n",
              "      <td>Department Store</td>\n",
              "      <td>Nightclub</td>\n",
              "      <td>Pizza Place</td>\n",
              "      <td>Fast Food Restaurant</td>\n",
              "      <td>Art Gallery</td>\n",
              "    </tr>\n",
              "    <tr>\n",
              "      <th>8</th>\n",
              "      <td>Agege</td>\n",
              "      <td>6.62526</td>\n",
              "      <td>3.311209</td>\n",
              "      <td>0</td>\n",
              "      <td>Shopping Mall</td>\n",
              "      <td>Fast Food Restaurant</td>\n",
              "      <td>Pizza Place</td>\n",
              "      <td>Convenience Store</td>\n",
              "      <td>Hotel</td>\n",
              "      <td>Lounge</td>\n",
              "      <td>Restaurant</td>\n",
              "      <td>Ice Cream Shop</td>\n",
              "      <td>Chinese Restaurant</td>\n",
              "      <td>Burger Joint</td>\n",
              "    </tr>\n",
              "    <tr>\n",
              "      <th>9</th>\n",
              "      <td>Ifako-Ijaiye</td>\n",
              "      <td>6.6636</td>\n",
              "      <td>3.289491</td>\n",
              "      <td>0</td>\n",
              "      <td>Fast Food Restaurant</td>\n",
              "      <td>Shopping Mall</td>\n",
              "      <td>Pizza Place</td>\n",
              "      <td>Hotel</td>\n",
              "      <td>Restaurant</td>\n",
              "      <td>Burger Joint</td>\n",
              "      <td>BBQ Joint</td>\n",
              "      <td>Chinese Restaurant</td>\n",
              "      <td>Bus Station</td>\n",
              "      <td>Bar</td>\n",
              "    </tr>\n",
              "    <tr>\n",
              "      <th>10</th>\n",
              "      <td>Somolu</td>\n",
              "      <td>6.58333</td>\n",
              "      <td>3.466667</td>\n",
              "      <td>0</td>\n",
              "      <td>Bus Station</td>\n",
              "      <td>Pizza Place</td>\n",
              "      <td>Convenience Store</td>\n",
              "      <td>Department Store</td>\n",
              "      <td>Fast Food Restaurant</td>\n",
              "      <td>Snack Place</td>\n",
              "      <td>Beach</td>\n",
              "      <td>Market</td>\n",
              "      <td>Bar</td>\n",
              "      <td>Restaurant</td>\n",
              "    </tr>\n",
              "    <tr>\n",
              "      <th>11</th>\n",
              "      <td>Amuwo-Odofin</td>\n",
              "      <td>6.44702</td>\n",
              "      <td>3.266280</td>\n",
              "      <td>0</td>\n",
              "      <td>Hotel</td>\n",
              "      <td>Park</td>\n",
              "      <td>Fast Food Restaurant</td>\n",
              "      <td>African Restaurant</td>\n",
              "      <td>Shopping Mall</td>\n",
              "      <td>Chinese Restaurant</td>\n",
              "      <td>Mobile Phone Shop</td>\n",
              "      <td>Bike Rental / Bike Share</td>\n",
              "      <td>Beach</td>\n",
              "      <td>Pool</td>\n",
              "    </tr>\n",
              "    <tr>\n",
              "      <th>12</th>\n",
              "      <td>Lagos Mainland</td>\n",
              "      <td>6.49306</td>\n",
              "      <td>3.388250</td>\n",
              "      <td>0</td>\n",
              "      <td>Hotel</td>\n",
              "      <td>Lounge</td>\n",
              "      <td>Shopping Mall</td>\n",
              "      <td>African Restaurant</td>\n",
              "      <td>Nightclub</td>\n",
              "      <td>Bar</td>\n",
              "      <td>Restaurant</td>\n",
              "      <td>Pizza Place</td>\n",
              "      <td>Ice Cream Shop</td>\n",
              "      <td>Fast Food Restaurant</td>\n",
              "    </tr>\n",
              "    <tr>\n",
              "      <th>13</th>\n",
              "      <td>Ikeja</td>\n",
              "      <td>6.60486</td>\n",
              "      <td>3.353204</td>\n",
              "      <td>0</td>\n",
              "      <td>Fast Food Restaurant</td>\n",
              "      <td>Pizza Place</td>\n",
              "      <td>Shopping Mall</td>\n",
              "      <td>Lounge</td>\n",
              "      <td>Bar</td>\n",
              "      <td>Hotel</td>\n",
              "      <td>Convenience Store</td>\n",
              "      <td>Restaurant</td>\n",
              "      <td>Ice Cream Shop</td>\n",
              "      <td>Department Store</td>\n",
              "    </tr>\n",
              "    <tr>\n",
              "      <th>14</th>\n",
              "      <td>Eti-Osa</td>\n",
              "      <td>6.46023</td>\n",
              "      <td>3.532181</td>\n",
              "      <td>0</td>\n",
              "      <td>Lounge</td>\n",
              "      <td>Hotel</td>\n",
              "      <td>Bar</td>\n",
              "      <td>Beach</td>\n",
              "      <td>Ice Cream Shop</td>\n",
              "      <td>Fast Food Restaurant</td>\n",
              "      <td>Gym / Fitness Center</td>\n",
              "      <td>Pizza Place</td>\n",
              "      <td>Convenience Store</td>\n",
              "      <td>Department Store</td>\n",
              "    </tr>\n",
              "    <tr>\n",
              "      <th>15</th>\n",
              "      <td>Badagry</td>\n",
              "      <td>6.43873</td>\n",
              "      <td>2.907486</td>\n",
              "      <td>3</td>\n",
              "      <td>History Museum</td>\n",
              "      <td>Museum</td>\n",
              "      <td>Fast Food Restaurant</td>\n",
              "      <td>Beer Garden</td>\n",
              "      <td>Wine Shop</td>\n",
              "      <td>Cupcake Shop</td>\n",
              "      <td>Chinese Restaurant</td>\n",
              "      <td>Clothing Store</td>\n",
              "      <td>Cocktail Bar</td>\n",
              "      <td>Coffee Shop</td>\n",
              "    </tr>\n",
              "    <tr>\n",
              "      <th>16</th>\n",
              "      <td>Apapa</td>\n",
              "      <td>6.44519</td>\n",
              "      <td>3.368373</td>\n",
              "      <td>0</td>\n",
              "      <td>Hotel</td>\n",
              "      <td>African Restaurant</td>\n",
              "      <td>Lounge</td>\n",
              "      <td>Restaurant</td>\n",
              "      <td>Nightclub</td>\n",
              "      <td>Japanese Restaurant</td>\n",
              "      <td>Ice Cream Shop</td>\n",
              "      <td>Art Gallery</td>\n",
              "      <td>Pizza Place</td>\n",
              "      <td>Diner</td>\n",
              "    </tr>\n",
              "    <tr>\n",
              "      <th>17</th>\n",
              "      <td>Lagos Island</td>\n",
              "      <td>6.51486</td>\n",
              "      <td>3.490866</td>\n",
              "      <td>0</td>\n",
              "      <td>Lounge</td>\n",
              "      <td>Hotel</td>\n",
              "      <td>Ice Cream Shop</td>\n",
              "      <td>Bar</td>\n",
              "      <td>Spa</td>\n",
              "      <td>Beach</td>\n",
              "      <td>Convenience Store</td>\n",
              "      <td>Bus Station</td>\n",
              "      <td>Shopping Mall</td>\n",
              "      <td>Gas Station</td>\n",
              "    </tr>\n",
              "    <tr>\n",
              "      <th>18</th>\n",
              "      <td>Epe</td>\n",
              "      <td>6.52475</td>\n",
              "      <td>4.057246</td>\n",
              "      <td>2</td>\n",
              "      <td>Hotel</td>\n",
              "      <td>Other Great Outdoors</td>\n",
              "      <td>Wine Shop</td>\n",
              "      <td>Department Store</td>\n",
              "      <td>Campground</td>\n",
              "      <td>Chinese Restaurant</td>\n",
              "      <td>Clothing Store</td>\n",
              "      <td>Cocktail Bar</td>\n",
              "      <td>Coffee Shop</td>\n",
              "      <td>Comedy Club</td>\n",
              "    </tr>\n",
              "    <tr>\n",
              "      <th>19</th>\n",
              "      <td>Ibeju-Lekki</td>\n",
              "      <td>6.47113</td>\n",
              "      <td>3.814750</td>\n",
              "      <td>4</td>\n",
              "      <td>Golf Course</td>\n",
              "      <td>Arcade</td>\n",
              "      <td>Beach</td>\n",
              "      <td>Resort</td>\n",
              "      <td>Department Store</td>\n",
              "      <td>Chinese Restaurant</td>\n",
              "      <td>Clothing Store</td>\n",
              "      <td>Cocktail Bar</td>\n",
              "      <td>Coffee Shop</td>\n",
              "      <td>Comedy Club</td>\n",
              "    </tr>\n",
              "  </tbody>\n",
              "</table>\n",
              "</div>"
            ],
            "text/plain": [
              "                 LGA latitude  ...  9th Most Common Venue  10th Most Common Venue\n",
              "0           Alimosho  6.58434  ...              Wine Shop          Farmers Market\n",
              "1   Ajeromi-Ifelodun  6.45512  ...   Fast Food Restaurant           Movie Theater\n",
              "2             Kosofe  6.58197  ...              BBQ Joint              Restaurant\n",
              "3      Mushin, Lagos  6.53263  ...      Convenience Store      Chinese Restaurant\n",
              "4       Oshodi-Isolo  6.54001  ...                 Lounge      Chinese Restaurant\n",
              "5                Ojo  1.09584  ...            Coffee Shop             Comedy Club\n",
              "6            Ikorodu  6.61912  ...            Bus Station             Art Gallery\n",
              "7           Surulere   6.4872  ...   Fast Food Restaurant             Art Gallery\n",
              "8              Agege  6.62526  ...     Chinese Restaurant            Burger Joint\n",
              "9       Ifako-Ijaiye   6.6636  ...            Bus Station                     Bar\n",
              "10            Somolu  6.58333  ...                    Bar              Restaurant\n",
              "11      Amuwo-Odofin  6.44702  ...                  Beach                    Pool\n",
              "12    Lagos Mainland  6.49306  ...         Ice Cream Shop    Fast Food Restaurant\n",
              "13             Ikeja  6.60486  ...         Ice Cream Shop        Department Store\n",
              "14           Eti-Osa  6.46023  ...      Convenience Store        Department Store\n",
              "15           Badagry  6.43873  ...           Cocktail Bar             Coffee Shop\n",
              "16             Apapa  6.44519  ...            Pizza Place                   Diner\n",
              "17      Lagos Island  6.51486  ...          Shopping Mall             Gas Station\n",
              "18               Epe  6.52475  ...            Coffee Shop             Comedy Club\n",
              "19       Ibeju-Lekki  6.47113  ...            Coffee Shop             Comedy Club\n",
              "\n",
              "[20 rows x 14 columns]"
            ]
          },
          "metadata": {
            "tags": []
          },
          "execution_count": 245
        }
      ]
    },
    {
      "cell_type": "markdown",
      "metadata": {
        "id": "FNQ0QWmuntpt",
        "colab_type": "text"
      },
      "source": [
        "####  let's visualize the resulting clusters\n"
      ]
    },
    {
      "cell_type": "code",
      "metadata": {
        "id": "BVMZeNACnr0n",
        "colab_type": "code",
        "outputId": "a828cedf-719d-47c6-8f07-a8bbf100604c",
        "colab": {
          "base_uri": "https://localhost:8080/",
          "height": 858
        }
      },
      "source": [
        "# create map\n",
        "map_clusters = folium.Map(location=[latitude, longitude], zoom_start=10)\n",
        "\n",
        "# set color scheme for the clusters\n",
        "x = np.arange(kclusters)\n",
        "ys = [i + x + (i*x)**2 for i in range(kclusters)]\n",
        "colors_array = cm.rainbow(np.linspace(0, 1, len(ys)))\n",
        "rainbow = [colors.rgb2hex(i) for i in colors_array]\n",
        "\n",
        "# add markers to the map\n",
        "markers_colors = []\n",
        "for lat, lon, poi, cluster in zip(lagos_merged['latitude'], lagos_merged['longitude'], lagos_merged['LGA'], lagos_merged['Cluster Labels']):\n",
        "    label = folium.Popup(str(poi) + ' Cluster ' + str(cluster), parse_html=True)\n",
        "    folium.CircleMarker(\n",
        "        [lat, lon],\n",
        "        radius=5,\n",
        "        popup=label,\n",
        "        color=rainbow[cluster-1],\n",
        "        fill=True,\n",
        "        fill_color= rainbow[cluster-1],\n",
        "        fill_opacity=0.7).add_to(map_clusters)\n",
        "       \n",
        "map_clusters"
      ],
      "execution_count": 0,
      "outputs": [
        {
          "output_type": "execute_result",
          "data": {
            "text/html": [
              "<div style=\"width:100%;\"><div style=\"position:relative;width:100%;height:0;padding-bottom:60%;\"><iframe src=\"data:text/html;charset=utf-8;base64,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\" style=\"position:absolute;width:100%;height:100%;left:0;top:0;border:none !important;\" allowfullscreen webkitallowfullscreen mozallowfullscreen></iframe></div></div>"
            ],
            "text/plain": [
              "<folium.folium.Map at 0x7fb59c5b20b8>"
            ]
          },
          "metadata": {
            "tags": []
          },
          "execution_count": 246
        }
      ]
    },
    {
      "cell_type": "markdown",
      "metadata": {
        "id": "vGq1z2uYqctm",
        "colab_type": "text"
      },
      "source": [
        "#### Inspecting The Clusters"
      ]
    },
    {
      "cell_type": "markdown",
      "metadata": {
        "id": "cBUXrfNSqnlO",
        "colab_type": "text"
      },
      "source": [
        "Now, we can examine each cluster and determine the discriminating venue categories that distinguish each cluster. Based on the defining categories, we can then assign a name to each cluster."
      ]
    },
    {
      "cell_type": "code",
      "metadata": {
        "id": "5shMGbmCppGE",
        "colab_type": "code",
        "outputId": "4f05103d-74d8-4b1f-ab77-f547ff3f5a9e",
        "colab": {
          "base_uri": "https://localhost:8080/",
          "height": 101
        }
      },
      "source": [
        "cluster1 = lagos_merged[lagos_merged['Cluster Labels'] == 0]\n",
        "cluster2 = lagos_merged[lagos_merged['Cluster Labels'] == 1]\n",
        "cluster3 = lagos_merged[lagos_merged['Cluster Labels'] == 2]\n",
        "cluster4 = lagos_merged[lagos_merged['Cluster Labels'] == 3]\n",
        "cluster5 = lagos_merged[lagos_merged['Cluster Labels'] == 4]\n",
        "\n",
        "for i in range(5):\n",
        "    x = lagos_merged[lagos_merged['Cluster Labels'] == i]\n",
        "    print('cluster'+str(i+1) + ' shape is {}'.format(x.shape))"
      ],
      "execution_count": 0,
      "outputs": [
        {
          "output_type": "stream",
          "text": [
            "cluster1 shape is (16, 14)\n",
            "cluster2 shape is (1, 14)\n",
            "cluster3 shape is (1, 14)\n",
            "cluster4 shape is (1, 14)\n",
            "cluster5 shape is (1, 14)\n"
          ],
          "name": "stdout"
        }
      ]
    },
    {
      "cell_type": "markdown",
      "metadata": {
        "id": "RB6ekaahqSAk",
        "colab_type": "text"
      },
      "source": [
        "We can inspect Cluster One closely"
      ]
    },
    {
      "cell_type": "code",
      "metadata": {
        "id": "o-FD2g_Vpu16",
        "colab_type": "code",
        "outputId": "53697e26-aeb5-408d-9177-70cc75e87141",
        "colab": {
          "base_uri": "https://localhost:8080/",
          "height": 823
        }
      },
      "source": [
        "cluster_one = lagos_merged[lagos_merged['Cluster Labels'] == 0]\n",
        "cluster_one"
      ],
      "execution_count": 0,
      "outputs": [
        {
          "output_type": "execute_result",
          "data": {
            "text/html": [
              "<div>\n",
              "<style scoped>\n",
              "    .dataframe tbody tr th:only-of-type {\n",
              "        vertical-align: middle;\n",
              "    }\n",
              "\n",
              "    .dataframe tbody tr th {\n",
              "        vertical-align: top;\n",
              "    }\n",
              "\n",
              "    .dataframe thead th {\n",
              "        text-align: right;\n",
              "    }\n",
              "</style>\n",
              "<table border=\"1\" class=\"dataframe\">\n",
              "  <thead>\n",
              "    <tr style=\"text-align: right;\">\n",
              "      <th></th>\n",
              "      <th>LGA</th>\n",
              "      <th>latitude</th>\n",
              "      <th>longitude</th>\n",
              "      <th>Cluster Labels</th>\n",
              "      <th>1st Most Common Venue</th>\n",
              "      <th>2nd Most Common Venue</th>\n",
              "      <th>3rd Most Common Venue</th>\n",
              "      <th>4th Most Common Venue</th>\n",
              "      <th>5th Most Common Venue</th>\n",
              "      <th>6th Most Common Venue</th>\n",
              "      <th>7th Most Common Venue</th>\n",
              "      <th>8th Most Common Venue</th>\n",
              "      <th>9th Most Common Venue</th>\n",
              "      <th>10th Most Common Venue</th>\n",
              "    </tr>\n",
              "  </thead>\n",
              "  <tbody>\n",
              "    <tr>\n",
              "      <th>0</th>\n",
              "      <td>Alimosho</td>\n",
              "      <td>6.58434</td>\n",
              "      <td>3.257631</td>\n",
              "      <td>0</td>\n",
              "      <td>Fast Food Restaurant</td>\n",
              "      <td>Pizza Place</td>\n",
              "      <td>Restaurant</td>\n",
              "      <td>Burger Joint</td>\n",
              "      <td>Lounge</td>\n",
              "      <td>Park</td>\n",
              "      <td>Shopping Mall</td>\n",
              "      <td>Hotel</td>\n",
              "      <td>Wine Shop</td>\n",
              "      <td>Farmers Market</td>\n",
              "    </tr>\n",
              "    <tr>\n",
              "      <th>1</th>\n",
              "      <td>Ajeromi-Ifelodun</td>\n",
              "      <td>6.45512</td>\n",
              "      <td>3.335946</td>\n",
              "      <td>0</td>\n",
              "      <td>African Restaurant</td>\n",
              "      <td>Hotel</td>\n",
              "      <td>Lounge</td>\n",
              "      <td>Shopping Mall</td>\n",
              "      <td>Nightclub</td>\n",
              "      <td>Park</td>\n",
              "      <td>Pizza Place</td>\n",
              "      <td>Japanese Restaurant</td>\n",
              "      <td>Fast Food Restaurant</td>\n",
              "      <td>Movie Theater</td>\n",
              "    </tr>\n",
              "    <tr>\n",
              "      <th>2</th>\n",
              "      <td>Kosofe</td>\n",
              "      <td>6.58197</td>\n",
              "      <td>3.414836</td>\n",
              "      <td>0</td>\n",
              "      <td>Shopping Mall</td>\n",
              "      <td>Fast Food Restaurant</td>\n",
              "      <td>Nightclub</td>\n",
              "      <td>African Restaurant</td>\n",
              "      <td>Convenience Store</td>\n",
              "      <td>Pizza Place</td>\n",
              "      <td>Ice Cream Shop</td>\n",
              "      <td>Bar</td>\n",
              "      <td>BBQ Joint</td>\n",
              "      <td>Restaurant</td>\n",
              "    </tr>\n",
              "    <tr>\n",
              "      <th>3</th>\n",
              "      <td>Mushin, Lagos</td>\n",
              "      <td>6.53263</td>\n",
              "      <td>3.352022</td>\n",
              "      <td>0</td>\n",
              "      <td>Shopping Mall</td>\n",
              "      <td>Fast Food Restaurant</td>\n",
              "      <td>Pizza Place</td>\n",
              "      <td>African Restaurant</td>\n",
              "      <td>Nightclub</td>\n",
              "      <td>Department Store</td>\n",
              "      <td>Lounge</td>\n",
              "      <td>Hotel</td>\n",
              "      <td>Convenience Store</td>\n",
              "      <td>Chinese Restaurant</td>\n",
              "    </tr>\n",
              "    <tr>\n",
              "      <th>4</th>\n",
              "      <td>Oshodi-Isolo</td>\n",
              "      <td>6.54001</td>\n",
              "      <td>3.312415</td>\n",
              "      <td>0</td>\n",
              "      <td>Fast Food Restaurant</td>\n",
              "      <td>Shopping Mall</td>\n",
              "      <td>African Restaurant</td>\n",
              "      <td>Hotel</td>\n",
              "      <td>Pizza Place</td>\n",
              "      <td>Bar</td>\n",
              "      <td>Nightclub</td>\n",
              "      <td>Department Store</td>\n",
              "      <td>Lounge</td>\n",
              "      <td>Chinese Restaurant</td>\n",
              "    </tr>\n",
              "    <tr>\n",
              "      <th>6</th>\n",
              "      <td>Ikorodu</td>\n",
              "      <td>6.61912</td>\n",
              "      <td>3.504127</td>\n",
              "      <td>0</td>\n",
              "      <td>Hotel Bar</td>\n",
              "      <td>African Restaurant</td>\n",
              "      <td>Bar</td>\n",
              "      <td>Mobile Phone Shop</td>\n",
              "      <td>Comedy Club</td>\n",
              "      <td>Café</td>\n",
              "      <td>Pizza Place</td>\n",
              "      <td>Beach</td>\n",
              "      <td>Bus Station</td>\n",
              "      <td>Art Gallery</td>\n",
              "    </tr>\n",
              "    <tr>\n",
              "      <th>7</th>\n",
              "      <td>Surulere</td>\n",
              "      <td>6.4872</td>\n",
              "      <td>3.353259</td>\n",
              "      <td>0</td>\n",
              "      <td>Hotel</td>\n",
              "      <td>African Restaurant</td>\n",
              "      <td>Lounge</td>\n",
              "      <td>Shopping Mall</td>\n",
              "      <td>Bar</td>\n",
              "      <td>Department Store</td>\n",
              "      <td>Nightclub</td>\n",
              "      <td>Pizza Place</td>\n",
              "      <td>Fast Food Restaurant</td>\n",
              "      <td>Art Gallery</td>\n",
              "    </tr>\n",
              "    <tr>\n",
              "      <th>8</th>\n",
              "      <td>Agege</td>\n",
              "      <td>6.62526</td>\n",
              "      <td>3.311209</td>\n",
              "      <td>0</td>\n",
              "      <td>Shopping Mall</td>\n",
              "      <td>Fast Food Restaurant</td>\n",
              "      <td>Pizza Place</td>\n",
              "      <td>Convenience Store</td>\n",
              "      <td>Hotel</td>\n",
              "      <td>Lounge</td>\n",
              "      <td>Restaurant</td>\n",
              "      <td>Ice Cream Shop</td>\n",
              "      <td>Chinese Restaurant</td>\n",
              "      <td>Burger Joint</td>\n",
              "    </tr>\n",
              "    <tr>\n",
              "      <th>9</th>\n",
              "      <td>Ifako-Ijaiye</td>\n",
              "      <td>6.6636</td>\n",
              "      <td>3.289491</td>\n",
              "      <td>0</td>\n",
              "      <td>Fast Food Restaurant</td>\n",
              "      <td>Shopping Mall</td>\n",
              "      <td>Pizza Place</td>\n",
              "      <td>Hotel</td>\n",
              "      <td>Restaurant</td>\n",
              "      <td>Burger Joint</td>\n",
              "      <td>BBQ Joint</td>\n",
              "      <td>Chinese Restaurant</td>\n",
              "      <td>Bus Station</td>\n",
              "      <td>Bar</td>\n",
              "    </tr>\n",
              "    <tr>\n",
              "      <th>10</th>\n",
              "      <td>Somolu</td>\n",
              "      <td>6.58333</td>\n",
              "      <td>3.466667</td>\n",
              "      <td>0</td>\n",
              "      <td>Bus Station</td>\n",
              "      <td>Pizza Place</td>\n",
              "      <td>Convenience Store</td>\n",
              "      <td>Department Store</td>\n",
              "      <td>Fast Food Restaurant</td>\n",
              "      <td>Snack Place</td>\n",
              "      <td>Beach</td>\n",
              "      <td>Market</td>\n",
              "      <td>Bar</td>\n",
              "      <td>Restaurant</td>\n",
              "    </tr>\n",
              "    <tr>\n",
              "      <th>11</th>\n",
              "      <td>Amuwo-Odofin</td>\n",
              "      <td>6.44702</td>\n",
              "      <td>3.266280</td>\n",
              "      <td>0</td>\n",
              "      <td>Hotel</td>\n",
              "      <td>Park</td>\n",
              "      <td>Fast Food Restaurant</td>\n",
              "      <td>African Restaurant</td>\n",
              "      <td>Shopping Mall</td>\n",
              "      <td>Chinese Restaurant</td>\n",
              "      <td>Mobile Phone Shop</td>\n",
              "      <td>Bike Rental / Bike Share</td>\n",
              "      <td>Beach</td>\n",
              "      <td>Pool</td>\n",
              "    </tr>\n",
              "    <tr>\n",
              "      <th>12</th>\n",
              "      <td>Lagos Mainland</td>\n",
              "      <td>6.49306</td>\n",
              "      <td>3.388250</td>\n",
              "      <td>0</td>\n",
              "      <td>Hotel</td>\n",
              "      <td>Lounge</td>\n",
              "      <td>Shopping Mall</td>\n",
              "      <td>African Restaurant</td>\n",
              "      <td>Nightclub</td>\n",
              "      <td>Bar</td>\n",
              "      <td>Restaurant</td>\n",
              "      <td>Pizza Place</td>\n",
              "      <td>Ice Cream Shop</td>\n",
              "      <td>Fast Food Restaurant</td>\n",
              "    </tr>\n",
              "    <tr>\n",
              "      <th>13</th>\n",
              "      <td>Ikeja</td>\n",
              "      <td>6.60486</td>\n",
              "      <td>3.353204</td>\n",
              "      <td>0</td>\n",
              "      <td>Fast Food Restaurant</td>\n",
              "      <td>Pizza Place</td>\n",
              "      <td>Shopping Mall</td>\n",
              "      <td>Lounge</td>\n",
              "      <td>Bar</td>\n",
              "      <td>Hotel</td>\n",
              "      <td>Convenience Store</td>\n",
              "      <td>Restaurant</td>\n",
              "      <td>Ice Cream Shop</td>\n",
              "      <td>Department Store</td>\n",
              "    </tr>\n",
              "    <tr>\n",
              "      <th>14</th>\n",
              "      <td>Eti-Osa</td>\n",
              "      <td>6.46023</td>\n",
              "      <td>3.532181</td>\n",
              "      <td>0</td>\n",
              "      <td>Lounge</td>\n",
              "      <td>Hotel</td>\n",
              "      <td>Bar</td>\n",
              "      <td>Beach</td>\n",
              "      <td>Ice Cream Shop</td>\n",
              "      <td>Fast Food Restaurant</td>\n",
              "      <td>Gym / Fitness Center</td>\n",
              "      <td>Pizza Place</td>\n",
              "      <td>Convenience Store</td>\n",
              "      <td>Department Store</td>\n",
              "    </tr>\n",
              "    <tr>\n",
              "      <th>16</th>\n",
              "      <td>Apapa</td>\n",
              "      <td>6.44519</td>\n",
              "      <td>3.368373</td>\n",
              "      <td>0</td>\n",
              "      <td>Hotel</td>\n",
              "      <td>African Restaurant</td>\n",
              "      <td>Lounge</td>\n",
              "      <td>Restaurant</td>\n",
              "      <td>Nightclub</td>\n",
              "      <td>Japanese Restaurant</td>\n",
              "      <td>Ice Cream Shop</td>\n",
              "      <td>Art Gallery</td>\n",
              "      <td>Pizza Place</td>\n",
              "      <td>Diner</td>\n",
              "    </tr>\n",
              "    <tr>\n",
              "      <th>17</th>\n",
              "      <td>Lagos Island</td>\n",
              "      <td>6.51486</td>\n",
              "      <td>3.490866</td>\n",
              "      <td>0</td>\n",
              "      <td>Lounge</td>\n",
              "      <td>Hotel</td>\n",
              "      <td>Ice Cream Shop</td>\n",
              "      <td>Bar</td>\n",
              "      <td>Spa</td>\n",
              "      <td>Beach</td>\n",
              "      <td>Convenience Store</td>\n",
              "      <td>Bus Station</td>\n",
              "      <td>Shopping Mall</td>\n",
              "      <td>Gas Station</td>\n",
              "    </tr>\n",
              "  </tbody>\n",
              "</table>\n",
              "</div>"
            ],
            "text/plain": [
              "                 LGA latitude  ...  9th Most Common Venue  10th Most Common Venue\n",
              "0           Alimosho  6.58434  ...              Wine Shop          Farmers Market\n",
              "1   Ajeromi-Ifelodun  6.45512  ...   Fast Food Restaurant           Movie Theater\n",
              "2             Kosofe  6.58197  ...              BBQ Joint              Restaurant\n",
              "3      Mushin, Lagos  6.53263  ...      Convenience Store      Chinese Restaurant\n",
              "4       Oshodi-Isolo  6.54001  ...                 Lounge      Chinese Restaurant\n",
              "6            Ikorodu  6.61912  ...            Bus Station             Art Gallery\n",
              "7           Surulere   6.4872  ...   Fast Food Restaurant             Art Gallery\n",
              "8              Agege  6.62526  ...     Chinese Restaurant            Burger Joint\n",
              "9       Ifako-Ijaiye   6.6636  ...            Bus Station                     Bar\n",
              "10            Somolu  6.58333  ...                    Bar              Restaurant\n",
              "11      Amuwo-Odofin  6.44702  ...                  Beach                    Pool\n",
              "12    Lagos Mainland  6.49306  ...         Ice Cream Shop    Fast Food Restaurant\n",
              "13             Ikeja  6.60486  ...         Ice Cream Shop        Department Store\n",
              "14           Eti-Osa  6.46023  ...      Convenience Store        Department Store\n",
              "16             Apapa  6.44519  ...            Pizza Place                   Diner\n",
              "17      Lagos Island  6.51486  ...          Shopping Mall             Gas Station\n",
              "\n",
              "[16 rows x 14 columns]"
            ]
          },
          "metadata": {
            "tags": []
          },
          "execution_count": 248
        }
      ]
    },
    {
      "cell_type": "code",
      "metadata": {
        "id": "yBtHf9P21wsm",
        "colab_type": "code",
        "outputId": "b6787ade-fc93-429f-c9b9-3db44e0d7a13",
        "colab": {
          "base_uri": "https://localhost:8080/",
          "height": 286
        }
      },
      "source": [
        "cluster1_lgas = list(cluster1['LGA'])\n",
        "cluster1_lgas"
      ],
      "execution_count": 0,
      "outputs": [
        {
          "output_type": "execute_result",
          "data": {
            "text/plain": [
              "['Alimosho',\n",
              " 'Ajeromi-Ifelodun',\n",
              " 'Kosofe',\n",
              " 'Mushin, Lagos',\n",
              " 'Oshodi-Isolo',\n",
              " 'Ikorodu',\n",
              " 'Surulere',\n",
              " 'Agege',\n",
              " 'Ifako-Ijaiye',\n",
              " 'Somolu',\n",
              " 'Amuwo-Odofin',\n",
              " 'Lagos Mainland',\n",
              " 'Ikeja',\n",
              " 'Eti-Osa',\n",
              " 'Apapa',\n",
              " 'Lagos Island']"
            ]
          },
          "metadata": {
            "tags": []
          },
          "execution_count": 249
        }
      ]
    },
    {
      "cell_type": "markdown",
      "metadata": {
        "id": "yi-hisBkq4NV",
        "colab_type": "text"
      },
      "source": [
        "We can inspect Cluster Two closely"
      ]
    },
    {
      "cell_type": "code",
      "metadata": {
        "id": "NsdQ2Oraq7x3",
        "colab_type": "code",
        "outputId": "166ad580-099e-4d4e-c7fd-12f970b49bc2",
        "colab": {
          "base_uri": "https://localhost:8080/",
          "height": 110
        }
      },
      "source": [
        "cluster_two = lagos_merged[lagos_merged['Cluster Labels'] == 1]\n",
        "cluster_two"
      ],
      "execution_count": 0,
      "outputs": [
        {
          "output_type": "execute_result",
          "data": {
            "text/html": [
              "<div>\n",
              "<style scoped>\n",
              "    .dataframe tbody tr th:only-of-type {\n",
              "        vertical-align: middle;\n",
              "    }\n",
              "\n",
              "    .dataframe tbody tr th {\n",
              "        vertical-align: top;\n",
              "    }\n",
              "\n",
              "    .dataframe thead th {\n",
              "        text-align: right;\n",
              "    }\n",
              "</style>\n",
              "<table border=\"1\" class=\"dataframe\">\n",
              "  <thead>\n",
              "    <tr style=\"text-align: right;\">\n",
              "      <th></th>\n",
              "      <th>LGA</th>\n",
              "      <th>latitude</th>\n",
              "      <th>longitude</th>\n",
              "      <th>Cluster Labels</th>\n",
              "      <th>1st Most Common Venue</th>\n",
              "      <th>2nd Most Common Venue</th>\n",
              "      <th>3rd Most Common Venue</th>\n",
              "      <th>4th Most Common Venue</th>\n",
              "      <th>5th Most Common Venue</th>\n",
              "      <th>6th Most Common Venue</th>\n",
              "      <th>7th Most Common Venue</th>\n",
              "      <th>8th Most Common Venue</th>\n",
              "      <th>9th Most Common Venue</th>\n",
              "      <th>10th Most Common Venue</th>\n",
              "    </tr>\n",
              "  </thead>\n",
              "  <tbody>\n",
              "    <tr>\n",
              "      <th>5</th>\n",
              "      <td>Ojo</td>\n",
              "      <td>1.09584</td>\n",
              "      <td>-76.611069</td>\n",
              "      <td>1</td>\n",
              "      <td>Hotel</td>\n",
              "      <td>Restaurant</td>\n",
              "      <td>Park</td>\n",
              "      <td>Wine Shop</td>\n",
              "      <td>Campground</td>\n",
              "      <td>Chinese Restaurant</td>\n",
              "      <td>Clothing Store</td>\n",
              "      <td>Cocktail Bar</td>\n",
              "      <td>Coffee Shop</td>\n",
              "      <td>Comedy Club</td>\n",
              "    </tr>\n",
              "  </tbody>\n",
              "</table>\n",
              "</div>"
            ],
            "text/plain": [
              "   LGA latitude  ...  9th Most Common Venue  10th Most Common Venue\n",
              "5  Ojo  1.09584  ...            Coffee Shop             Comedy Club\n",
              "\n",
              "[1 rows x 14 columns]"
            ]
          },
          "metadata": {
            "tags": []
          },
          "execution_count": 250
        }
      ]
    },
    {
      "cell_type": "markdown",
      "metadata": {
        "id": "AmhYWNyGrbsQ",
        "colab_type": "text"
      },
      "source": [
        "We can inspect Cluster Three closely"
      ]
    },
    {
      "cell_type": "code",
      "metadata": {
        "id": "RlLDaTPWrd0f",
        "colab_type": "code",
        "outputId": "18a3f22e-9f03-4654-8594-e83eeef41f3d",
        "colab": {
          "base_uri": "https://localhost:8080/",
          "height": 110
        }
      },
      "source": [
        "cluster_three = lagos_merged[lagos_merged['Cluster Labels'] == 2]\n",
        "cluster_three"
      ],
      "execution_count": 0,
      "outputs": [
        {
          "output_type": "execute_result",
          "data": {
            "text/html": [
              "<div>\n",
              "<style scoped>\n",
              "    .dataframe tbody tr th:only-of-type {\n",
              "        vertical-align: middle;\n",
              "    }\n",
              "\n",
              "    .dataframe tbody tr th {\n",
              "        vertical-align: top;\n",
              "    }\n",
              "\n",
              "    .dataframe thead th {\n",
              "        text-align: right;\n",
              "    }\n",
              "</style>\n",
              "<table border=\"1\" class=\"dataframe\">\n",
              "  <thead>\n",
              "    <tr style=\"text-align: right;\">\n",
              "      <th></th>\n",
              "      <th>LGA</th>\n",
              "      <th>latitude</th>\n",
              "      <th>longitude</th>\n",
              "      <th>Cluster Labels</th>\n",
              "      <th>1st Most Common Venue</th>\n",
              "      <th>2nd Most Common Venue</th>\n",
              "      <th>3rd Most Common Venue</th>\n",
              "      <th>4th Most Common Venue</th>\n",
              "      <th>5th Most Common Venue</th>\n",
              "      <th>6th Most Common Venue</th>\n",
              "      <th>7th Most Common Venue</th>\n",
              "      <th>8th Most Common Venue</th>\n",
              "      <th>9th Most Common Venue</th>\n",
              "      <th>10th Most Common Venue</th>\n",
              "    </tr>\n",
              "  </thead>\n",
              "  <tbody>\n",
              "    <tr>\n",
              "      <th>18</th>\n",
              "      <td>Epe</td>\n",
              "      <td>6.52475</td>\n",
              "      <td>4.057246</td>\n",
              "      <td>2</td>\n",
              "      <td>Hotel</td>\n",
              "      <td>Other Great Outdoors</td>\n",
              "      <td>Wine Shop</td>\n",
              "      <td>Department Store</td>\n",
              "      <td>Campground</td>\n",
              "      <td>Chinese Restaurant</td>\n",
              "      <td>Clothing Store</td>\n",
              "      <td>Cocktail Bar</td>\n",
              "      <td>Coffee Shop</td>\n",
              "      <td>Comedy Club</td>\n",
              "    </tr>\n",
              "  </tbody>\n",
              "</table>\n",
              "</div>"
            ],
            "text/plain": [
              "    LGA latitude  ...  9th Most Common Venue  10th Most Common Venue\n",
              "18  Epe  6.52475  ...            Coffee Shop             Comedy Club\n",
              "\n",
              "[1 rows x 14 columns]"
            ]
          },
          "metadata": {
            "tags": []
          },
          "execution_count": 251
        }
      ]
    },
    {
      "cell_type": "markdown",
      "metadata": {
        "id": "ZAjvvCz0rn38",
        "colab_type": "text"
      },
      "source": [
        "We can inspect Cluster Four closely"
      ]
    },
    {
      "cell_type": "code",
      "metadata": {
        "id": "iBCE8gNlro-5",
        "colab_type": "code",
        "outputId": "c731837a-063d-4f28-ebe3-db0125f79ebb",
        "colab": {
          "base_uri": "https://localhost:8080/",
          "height": 110
        }
      },
      "source": [
        "cluster_four = lagos_merged[lagos_merged['Cluster Labels'] == 3]\n",
        "cluster_four"
      ],
      "execution_count": 0,
      "outputs": [
        {
          "output_type": "execute_result",
          "data": {
            "text/html": [
              "<div>\n",
              "<style scoped>\n",
              "    .dataframe tbody tr th:only-of-type {\n",
              "        vertical-align: middle;\n",
              "    }\n",
              "\n",
              "    .dataframe tbody tr th {\n",
              "        vertical-align: top;\n",
              "    }\n",
              "\n",
              "    .dataframe thead th {\n",
              "        text-align: right;\n",
              "    }\n",
              "</style>\n",
              "<table border=\"1\" class=\"dataframe\">\n",
              "  <thead>\n",
              "    <tr style=\"text-align: right;\">\n",
              "      <th></th>\n",
              "      <th>LGA</th>\n",
              "      <th>latitude</th>\n",
              "      <th>longitude</th>\n",
              "      <th>Cluster Labels</th>\n",
              "      <th>1st Most Common Venue</th>\n",
              "      <th>2nd Most Common Venue</th>\n",
              "      <th>3rd Most Common Venue</th>\n",
              "      <th>4th Most Common Venue</th>\n",
              "      <th>5th Most Common Venue</th>\n",
              "      <th>6th Most Common Venue</th>\n",
              "      <th>7th Most Common Venue</th>\n",
              "      <th>8th Most Common Venue</th>\n",
              "      <th>9th Most Common Venue</th>\n",
              "      <th>10th Most Common Venue</th>\n",
              "    </tr>\n",
              "  </thead>\n",
              "  <tbody>\n",
              "    <tr>\n",
              "      <th>15</th>\n",
              "      <td>Badagry</td>\n",
              "      <td>6.43873</td>\n",
              "      <td>2.907486</td>\n",
              "      <td>3</td>\n",
              "      <td>History Museum</td>\n",
              "      <td>Museum</td>\n",
              "      <td>Fast Food Restaurant</td>\n",
              "      <td>Beer Garden</td>\n",
              "      <td>Wine Shop</td>\n",
              "      <td>Cupcake Shop</td>\n",
              "      <td>Chinese Restaurant</td>\n",
              "      <td>Clothing Store</td>\n",
              "      <td>Cocktail Bar</td>\n",
              "      <td>Coffee Shop</td>\n",
              "    </tr>\n",
              "  </tbody>\n",
              "</table>\n",
              "</div>"
            ],
            "text/plain": [
              "        LGA latitude  ...  9th Most Common Venue  10th Most Common Venue\n",
              "15  Badagry  6.43873  ...           Cocktail Bar             Coffee Shop\n",
              "\n",
              "[1 rows x 14 columns]"
            ]
          },
          "metadata": {
            "tags": []
          },
          "execution_count": 252
        }
      ]
    },
    {
      "cell_type": "markdown",
      "metadata": {
        "id": "jSnoZNAzrxVE",
        "colab_type": "text"
      },
      "source": [
        "We can inspect Cluster Five closely"
      ]
    },
    {
      "cell_type": "code",
      "metadata": {
        "id": "aG7PJ-Larycm",
        "colab_type": "code",
        "outputId": "c839b167-dffd-4495-840d-3264056024be",
        "colab": {
          "base_uri": "https://localhost:8080/",
          "height": 110
        }
      },
      "source": [
        "cluster_five = lagos_merged[lagos_merged['Cluster Labels'] == 4]\n",
        "cluster_five"
      ],
      "execution_count": 0,
      "outputs": [
        {
          "output_type": "execute_result",
          "data": {
            "text/html": [
              "<div>\n",
              "<style scoped>\n",
              "    .dataframe tbody tr th:only-of-type {\n",
              "        vertical-align: middle;\n",
              "    }\n",
              "\n",
              "    .dataframe tbody tr th {\n",
              "        vertical-align: top;\n",
              "    }\n",
              "\n",
              "    .dataframe thead th {\n",
              "        text-align: right;\n",
              "    }\n",
              "</style>\n",
              "<table border=\"1\" class=\"dataframe\">\n",
              "  <thead>\n",
              "    <tr style=\"text-align: right;\">\n",
              "      <th></th>\n",
              "      <th>LGA</th>\n",
              "      <th>latitude</th>\n",
              "      <th>longitude</th>\n",
              "      <th>Cluster Labels</th>\n",
              "      <th>1st Most Common Venue</th>\n",
              "      <th>2nd Most Common Venue</th>\n",
              "      <th>3rd Most Common Venue</th>\n",
              "      <th>4th Most Common Venue</th>\n",
              "      <th>5th Most Common Venue</th>\n",
              "      <th>6th Most Common Venue</th>\n",
              "      <th>7th Most Common Venue</th>\n",
              "      <th>8th Most Common Venue</th>\n",
              "      <th>9th Most Common Venue</th>\n",
              "      <th>10th Most Common Venue</th>\n",
              "    </tr>\n",
              "  </thead>\n",
              "  <tbody>\n",
              "    <tr>\n",
              "      <th>19</th>\n",
              "      <td>Ibeju-Lekki</td>\n",
              "      <td>6.47113</td>\n",
              "      <td>3.81475</td>\n",
              "      <td>4</td>\n",
              "      <td>Golf Course</td>\n",
              "      <td>Arcade</td>\n",
              "      <td>Beach</td>\n",
              "      <td>Resort</td>\n",
              "      <td>Department Store</td>\n",
              "      <td>Chinese Restaurant</td>\n",
              "      <td>Clothing Store</td>\n",
              "      <td>Cocktail Bar</td>\n",
              "      <td>Coffee Shop</td>\n",
              "      <td>Comedy Club</td>\n",
              "    </tr>\n",
              "  </tbody>\n",
              "</table>\n",
              "</div>"
            ],
            "text/plain": [
              "            LGA latitude  ...  9th Most Common Venue  10th Most Common Venue\n",
              "19  Ibeju-Lekki  6.47113  ...            Coffee Shop             Comedy Club\n",
              "\n",
              "[1 rows x 14 columns]"
            ]
          },
          "metadata": {
            "tags": []
          },
          "execution_count": 253
        }
      ]
    },
    {
      "cell_type": "markdown",
      "metadata": {
        "id": "7XOaHfMSuow4",
        "colab_type": "text"
      },
      "source": [
        "#### Next let's display the names of the Top 10 venues from each LGA in Lagos State, using the word cloud application."
      ]
    },
    {
      "cell_type": "markdown",
      "metadata": {
        "id": "qbx4QQevcIYF",
        "colab_type": "text"
      },
      "source": [
        "The word cloud object emphasizes the most frequent words in a document or string, by making them bigger than others. In other words, the more frequent a word is in the word cloud object, the bigger the word becomes in comparison to other words."
      ]
    },
    {
      "cell_type": "code",
      "metadata": {
        "id": "OY3h-wUDNhRJ",
        "colab_type": "code",
        "outputId": "31a27593-3e3a-4951-a5f3-dee8d92c3e5e",
        "colab": {
          "base_uri": "https://localhost:8080/",
          "height": 34
        }
      },
      "source": [
        "from PIL import Image # Used for converting images into arrays\n",
        "\n",
        "# import wordcloud package and its set of stopwords\n",
        "from wordcloud import WordCloud, STOPWORDS\n",
        "\n",
        "print ('Wordcloud is installed and imported!')"
      ],
      "execution_count": 0,
      "outputs": [
        {
          "output_type": "stream",
          "text": [
            "Wordcloud is installed and imported!\n"
          ],
          "name": "stdout"
        }
      ]
    },
    {
      "cell_type": "markdown",
      "metadata": {
        "id": "dqLpXeUSOAXP",
        "colab_type": "text"
      },
      "source": [
        "Next, let's use the stopwords that we imported from word_cloud. We use the function set to remove any redundant stopwords.\n",
        "\n"
      ]
    },
    {
      "cell_type": "code",
      "metadata": {
        "id": "AO2srIc6OCO8",
        "colab_type": "code",
        "colab": {}
      },
      "source": [
        "stopwords = set(STOPWORDS)"
      ],
      "execution_count": 0,
      "outputs": []
    },
    {
      "cell_type": "markdown",
      "metadata": {
        "id": "NNzE6Q5Tbp81",
        "colab_type": "text"
      },
      "source": [
        "Next, let's select only needed columns from the DataFrame for our wordCloud object"
      ]
    },
    {
      "cell_type": "code",
      "metadata": {
        "id": "ERlc465eQDKQ",
        "colab_type": "code",
        "outputId": "f255f6ee-673e-48e3-8637-1e1d8315665a",
        "colab": {
          "base_uri": "https://localhost:8080/",
          "height": 296
        }
      },
      "source": [
        "# Let's select only the columns in lagos_merged DataFrame that we need\n",
        "selection = lagos_merged.iloc[:, 4:]\n",
        "\n",
        "# Let's view the first 5 rows of our selection\n",
        "selection.head()"
      ],
      "execution_count": 0,
      "outputs": [
        {
          "output_type": "execute_result",
          "data": {
            "text/html": [
              "<div>\n",
              "<style scoped>\n",
              "    .dataframe tbody tr th:only-of-type {\n",
              "        vertical-align: middle;\n",
              "    }\n",
              "\n",
              "    .dataframe tbody tr th {\n",
              "        vertical-align: top;\n",
              "    }\n",
              "\n",
              "    .dataframe thead th {\n",
              "        text-align: right;\n",
              "    }\n",
              "</style>\n",
              "<table border=\"1\" class=\"dataframe\">\n",
              "  <thead>\n",
              "    <tr style=\"text-align: right;\">\n",
              "      <th></th>\n",
              "      <th>1st Most Common Venue</th>\n",
              "      <th>2nd Most Common Venue</th>\n",
              "      <th>3rd Most Common Venue</th>\n",
              "      <th>4th Most Common Venue</th>\n",
              "      <th>5th Most Common Venue</th>\n",
              "      <th>6th Most Common Venue</th>\n",
              "      <th>7th Most Common Venue</th>\n",
              "      <th>8th Most Common Venue</th>\n",
              "      <th>9th Most Common Venue</th>\n",
              "      <th>10th Most Common Venue</th>\n",
              "    </tr>\n",
              "  </thead>\n",
              "  <tbody>\n",
              "    <tr>\n",
              "      <th>0</th>\n",
              "      <td>Fast Food Restaurant</td>\n",
              "      <td>Pizza Place</td>\n",
              "      <td>Restaurant</td>\n",
              "      <td>Burger Joint</td>\n",
              "      <td>Lounge</td>\n",
              "      <td>Park</td>\n",
              "      <td>Shopping Mall</td>\n",
              "      <td>Hotel</td>\n",
              "      <td>Wine Shop</td>\n",
              "      <td>Farmers Market</td>\n",
              "    </tr>\n",
              "    <tr>\n",
              "      <th>1</th>\n",
              "      <td>African Restaurant</td>\n",
              "      <td>Hotel</td>\n",
              "      <td>Lounge</td>\n",
              "      <td>Shopping Mall</td>\n",
              "      <td>Nightclub</td>\n",
              "      <td>Park</td>\n",
              "      <td>Pizza Place</td>\n",
              "      <td>Japanese Restaurant</td>\n",
              "      <td>Fast Food Restaurant</td>\n",
              "      <td>Movie Theater</td>\n",
              "    </tr>\n",
              "    <tr>\n",
              "      <th>2</th>\n",
              "      <td>Shopping Mall</td>\n",
              "      <td>Fast Food Restaurant</td>\n",
              "      <td>Nightclub</td>\n",
              "      <td>African Restaurant</td>\n",
              "      <td>Convenience Store</td>\n",
              "      <td>Pizza Place</td>\n",
              "      <td>Ice Cream Shop</td>\n",
              "      <td>Bar</td>\n",
              "      <td>BBQ Joint</td>\n",
              "      <td>Restaurant</td>\n",
              "    </tr>\n",
              "    <tr>\n",
              "      <th>3</th>\n",
              "      <td>Shopping Mall</td>\n",
              "      <td>Fast Food Restaurant</td>\n",
              "      <td>Pizza Place</td>\n",
              "      <td>African Restaurant</td>\n",
              "      <td>Nightclub</td>\n",
              "      <td>Department Store</td>\n",
              "      <td>Lounge</td>\n",
              "      <td>Hotel</td>\n",
              "      <td>Convenience Store</td>\n",
              "      <td>Chinese Restaurant</td>\n",
              "    </tr>\n",
              "    <tr>\n",
              "      <th>4</th>\n",
              "      <td>Fast Food Restaurant</td>\n",
              "      <td>Shopping Mall</td>\n",
              "      <td>African Restaurant</td>\n",
              "      <td>Hotel</td>\n",
              "      <td>Pizza Place</td>\n",
              "      <td>Bar</td>\n",
              "      <td>Nightclub</td>\n",
              "      <td>Department Store</td>\n",
              "      <td>Lounge</td>\n",
              "      <td>Chinese Restaurant</td>\n",
              "    </tr>\n",
              "  </tbody>\n",
              "</table>\n",
              "</div>"
            ],
            "text/plain": [
              "  1st Most Common Venue  ... 10th Most Common Venue\n",
              "0  Fast Food Restaurant  ...         Farmers Market\n",
              "1    African Restaurant  ...          Movie Theater\n",
              "2         Shopping Mall  ...             Restaurant\n",
              "3         Shopping Mall  ...     Chinese Restaurant\n",
              "4  Fast Food Restaurant  ...     Chinese Restaurant\n",
              "\n",
              "[5 rows x 10 columns]"
            ]
          },
          "metadata": {
            "tags": []
          },
          "execution_count": 256
        }
      ]
    },
    {
      "cell_type": "markdown",
      "metadata": {
        "id": "W89RmyUDOPkO",
        "colab_type": "text"
      },
      "source": [
        "Next, let's create a string object with all the venue category words from the DataFrame showing the first 10 Top categories per LGA (lagos_merged)."
      ]
    },
    {
      "cell_type": "code",
      "metadata": {
        "id": "qzBDiMesRDYb",
        "colab_type": "code",
        "outputId": "5cf4a543-1f96-42c4-8cf0-ae1b692f8a68",
        "colab": {
          "base_uri": "https://localhost:8080/",
          "height": 70
        }
      },
      "source": [
        "# Next lets write code to iterate through each column of our selection DataFrame and append each category word to a string object\n",
        "\n",
        "col_list = list(selection.columns)\n",
        "\n",
        "words = ''\n",
        "\n",
        "for i in col_list:\n",
        "    for j in list(selection[i]):\n",
        "        words += j\n",
        "        words += ', '\n",
        "\n",
        "print(len(words))\n",
        "words"
      ],
      "execution_count": 0,
      "outputs": [
        {
          "output_type": "stream",
          "text": [
            "2690\n"
          ],
          "name": "stdout"
        },
        {
          "output_type": "execute_result",
          "data": {
            "text/plain": [
              "'Fast Food Restaurant, African Restaurant, Shopping Mall, Shopping Mall, Fast Food Restaurant, Hotel, Hotel Bar, Hotel, Shopping Mall, Fast Food Restaurant, Bus Station, Hotel, Hotel, Fast Food Restaurant, Lounge, History Museum, Hotel, Lounge, Hotel, Golf Course, Pizza Place, Hotel, Fast Food Restaurant, Fast Food Restaurant, Shopping Mall, Restaurant, African Restaurant, African Restaurant, Fast Food Restaurant, Shopping Mall, Pizza Place, Park, Lounge, Pizza Place, Hotel, Museum, African Restaurant, Hotel, Other Great Outdoors, Arcade, Restaurant, Lounge, Nightclub, Pizza Place, African Restaurant, Park, Bar, Lounge, Pizza Place, Pizza Place, Convenience Store, Fast Food Restaurant, Shopping Mall, Shopping Mall, Bar, Fast Food Restaurant, Lounge, Ice Cream Shop, Wine Shop, Beach, Burger Joint, Shopping Mall, African Restaurant, African Restaurant, Hotel, Wine Shop, Mobile Phone Shop, Shopping Mall, Convenience Store, Hotel, Department Store, African Restaurant, African Restaurant, Lounge, Beach, Beer Garden, Restaurant, Bar, Department Store, Resort, Lounge, Nightclub, Convenience Store, Nightclub, Pizza Place, Campground, Comedy Club, Bar, Hotel, Restaurant, Fast Food Restaurant, Shopping Mall, Nightclub, Bar, Ice Cream Shop, Wine Shop, Nightclub, Spa, Campground, Department Store, Park, Park, Pizza Place, Department Store, Bar, Chinese Restaurant, Café, Department Store, Lounge, Burger Joint, Snack Place, Chinese Restaurant, Bar, Hotel, Fast Food Restaurant, Cupcake Shop, Japanese Restaurant, Beach, Chinese Restaurant, Chinese Restaurant, Shopping Mall, Pizza Place, Ice Cream Shop, Lounge, Nightclub, Clothing Store, Pizza Place, Nightclub, Restaurant, BBQ Joint, Beach, Mobile Phone Shop, Restaurant, Convenience Store, Gym / Fitness Center, Chinese Restaurant, Ice Cream Shop, Convenience Store, Clothing Store, Clothing Store, Hotel, Japanese Restaurant, Bar, Hotel, Department Store, Cocktail Bar, Beach, Pizza Place, Ice Cream Shop, Chinese Restaurant, Market, Bike Rental / Bike Share, Pizza Place, Restaurant, Pizza Place, Clothing Store, Art Gallery, Bus Station, Cocktail Bar, Cocktail Bar, Wine Shop, Fast Food Restaurant, BBQ Joint, Convenience Store, Lounge, Coffee Shop, Bus Station, Fast Food Restaurant, Chinese Restaurant, Bus Station, Bar, Beach, Ice Cream Shop, Ice Cream Shop, Convenience Store, Cocktail Bar, Pizza Place, Shopping Mall, Coffee Shop, Coffee Shop, Farmers Market, Movie Theater, Restaurant, Chinese Restaurant, Chinese Restaurant, Comedy Club, Art Gallery, Art Gallery, Burger Joint, Bar, Restaurant, Pool, Fast Food Restaurant, Department Store, Department Store, Coffee Shop, Diner, Gas Station, Comedy Club, Comedy Club, '"
            ]
          },
          "metadata": {
            "tags": []
          },
          "execution_count": 257
        }
      ]
    },
    {
      "cell_type": "markdown",
      "metadata": {
        "id": "L9azUJHeXHG4",
        "colab_type": "text"
      },
      "source": [
        "We have about 2690 words for our wordCloud application. let's go on."
      ]
    },
    {
      "cell_type": "markdown",
      "metadata": {
        "id": "ffnU3OpUXXY-",
        "colab_type": "text"
      },
      "source": [
        "Create a word cloud object and generate a word cloud."
      ]
    },
    {
      "cell_type": "code",
      "metadata": {
        "id": "-_OKTNgFXjOt",
        "colab_type": "code",
        "outputId": "5b6fc390-592a-4bb0-f2d1-88a23e3a8251",
        "colab": {
          "base_uri": "https://localhost:8080/",
          "height": 34
        }
      },
      "source": [
        "# Instantiate a WordCloud object\n",
        "top_venues_wc = WordCloud(\n",
        "          background_color='white',\n",
        "          max_words= len(words),\n",
        "          stopwords=stopwords)\n",
        "\n",
        "# Generate the WordCloud\n",
        "top_venues_wc.generate(words)"
      ],
      "execution_count": 0,
      "outputs": [
        {
          "output_type": "execute_result",
          "data": {
            "text/plain": [
              "<wordcloud.wordcloud.WordCloud at 0x7fb59c5be6d8>"
            ]
          },
          "metadata": {
            "tags": []
          },
          "execution_count": 258
        }
      ]
    },
    {
      "cell_type": "markdown",
      "metadata": {
        "id": "_hc8cGhnYVOb",
        "colab_type": "text"
      },
      "source": [
        "Awesome! Now that the word cloud is created, let's visualize it."
      ]
    },
    {
      "cell_type": "code",
      "metadata": {
        "id": "Q3FbIBt-aW7L",
        "colab_type": "code",
        "outputId": "8069f617-cbe7-4a9a-8798-7d425bfb6cec",
        "colab": {
          "base_uri": "https://localhost:8080/",
          "height": 533
        }
      },
      "source": [
        "# Generate the WordCloud\n",
        "top_venues_wc.generate(words)\n",
        "\n",
        "# Set the Size\n",
        "plt.figure(figsize=(18, 22))\n",
        "\n",
        "# Display the WC\n",
        "plt.imshow(top_venues_wc, interpolation='bilinear')\n",
        "plt.axis('off')\n",
        "plt.show()"
      ],
      "execution_count": 0,
      "outputs": [
        {
          "output_type": "display_data",
          "data": {
            "image/png": "[encoded data removed]",
            "text/plain": [
              "<Figure size 1296x1584 with 1 Axes>"
            ]
          },
          "metadata": {
            "tags": []
          }
        }
      ]
    },
    {
      "cell_type": "markdown",
      "metadata": {
        "id": "0goTbxFxcrOE",
        "colab_type": "text"
      },
      "source": [
        "Interesting! So the most common or freqent venues in all of Lagos State are:-\n",
        "<br>**Hotel**,\n",
        "<br>**Bar**,\n",
        "<br>**Fast Food**,\n",
        "<br>**Food Restaurant**,\n",
        "<br>**Lounge**,\n",
        "<br>**Restaurant**,\n",
        "<br>**Shop**\n",
        "<br>Others include Pizza Place, Shopping Mall, African restaurant, Chinese Restaurant, Cream Shop, Bus Station, E.t.c."
      ]
    },
    {
      "cell_type": "markdown",
      "metadata": {
        "id": "Cl951UPqefBv",
        "colab_type": "text"
      },
      "source": [
        "### To Recap:"
      ]
    },
    {
      "cell_type": "markdown",
      "metadata": {
        "id": "3mKTloasei4c",
        "colab_type": "text"
      },
      "source": [
        "In this notebook we explored Lagos State using it's [wikipedia page](https://en.wikipedia.org/wiki/List_of_Lagos_State_local_government_areas_by_population). We scraped the page using Beautiful soup and acquired its data using the request library and eventually we converted same from JSON format to a DataFrame using the json_normalize module.<br>\n",
        "Then we explored each LGA of Lagos State, visualizing their maps through the folium module and exploring the categories of venues present in each LGA, in order to find the most ideal LGA or Top LGAs for a Start-up to cite an office in Lagos State.<br>\n",
        "We used the foursquare API to get the details of venues for each location, using the geopy library to convert addresses to latitude and longitude.<br>\n",
        "Then we explored the Lagos Mainland LGA, plotting it's venues on the map, and we explored Lagos state data to get the top 10 venues for each LGA.\n",
        "<br> Then we clustered Lagos state into 5 clusters using the Kmeans algorithm, and finally we displayed the Top venue categories in Lagos state using a word cloud object.\n",
        "<br> Kindly see table below showing the details of the Top 5 LGAs to cite an office in Lagos State from this exercise."
      ]
    },
    {
      "cell_type": "code",
      "metadata": {
        "id": "jt-ajmdeihA6",
        "colab_type": "code",
        "outputId": "2bae56c8-e9dc-4d7e-a5ac-ced5a152a286",
        "colab": {
          "base_uri": "https://localhost:8080/",
          "height": 195
        }
      },
      "source": [
        "top_5_list = ['Lagos Mainland', 'Ikeja', 'Apapa', 'Oshodi-Isolo', 'Surulere']\n",
        "\n",
        "# Slice the Top Five LGAs data from copy_lagos_df DataFrame\n",
        "top_5_lga = copy_lagos_df.reindex(top_5_list).reset_index()\n",
        "\n",
        "# Set index to a list beginning from 1 to 5\n",
        "top_5_lga.index = [1, 2, 3, 4, 5]\n",
        "\n",
        "# Add a column of total venues present\n",
        "total_venues_present = list(top_criteria_df.loc['Total Venues', top_5_list])\n",
        "top_5_lga['total_venues_present'] = total_venues_present\n",
        "\n",
        "# Add a column of total absent categories\n",
        "total_absent_categories = list(pd.Series(lga_dict).reindex(top_5_list))\n",
        "top_5_lga['total_absent_categories'] = total_absent_categories\n",
        "\n",
        "# Display the Top Five LGAs in Lagos State\n",
        "top_5_lga"
      ],
      "execution_count": 0,
      "outputs": [
        {
          "output_type": "execute_result",
          "data": {
            "text/html": [
              "<div>\n",
              "<style scoped>\n",
              "    .dataframe tbody tr th:only-of-type {\n",
              "        vertical-align: middle;\n",
              "    }\n",
              "\n",
              "    .dataframe tbody tr th {\n",
              "        vertical-align: top;\n",
              "    }\n",
              "\n",
              "    .dataframe thead th {\n",
              "        text-align: right;\n",
              "    }\n",
              "</style>\n",
              "<table border=\"1\" class=\"dataframe\">\n",
              "  <thead>\n",
              "    <tr style=\"text-align: right;\">\n",
              "      <th></th>\n",
              "      <th>LGA</th>\n",
              "      <th>POP</th>\n",
              "      <th>latitude</th>\n",
              "      <th>longitude</th>\n",
              "      <th>total_venues_present</th>\n",
              "      <th>total_absent_categories</th>\n",
              "    </tr>\n",
              "  </thead>\n",
              "  <tbody>\n",
              "    <tr>\n",
              "      <th>1</th>\n",
              "      <td>Lagos Mainland</td>\n",
              "      <td>317980</td>\n",
              "      <td>6.49306</td>\n",
              "      <td>3.388250</td>\n",
              "      <td>95</td>\n",
              "      <td>4</td>\n",
              "    </tr>\n",
              "    <tr>\n",
              "      <th>2</th>\n",
              "      <td>Ikeja</td>\n",
              "      <td>313333</td>\n",
              "      <td>6.60486</td>\n",
              "      <td>3.353204</td>\n",
              "      <td>83</td>\n",
              "      <td>4</td>\n",
              "    </tr>\n",
              "    <tr>\n",
              "      <th>3</th>\n",
              "      <td>Apapa</td>\n",
              "      <td>217661</td>\n",
              "      <td>6.44519</td>\n",
              "      <td>3.368373</td>\n",
              "      <td>96</td>\n",
              "      <td>5</td>\n",
              "    </tr>\n",
              "    <tr>\n",
              "      <th>4</th>\n",
              "      <td>Oshodi-Isolo</td>\n",
              "      <td>621789</td>\n",
              "      <td>6.54001</td>\n",
              "      <td>3.312415</td>\n",
              "      <td>92</td>\n",
              "      <td>5</td>\n",
              "    </tr>\n",
              "    <tr>\n",
              "      <th>5</th>\n",
              "      <td>Surulere</td>\n",
              "      <td>504409</td>\n",
              "      <td>6.4872</td>\n",
              "      <td>3.353259</td>\n",
              "      <td>84</td>\n",
              "      <td>5</td>\n",
              "    </tr>\n",
              "  </tbody>\n",
              "</table>\n",
              "</div>"
            ],
            "text/plain": [
              "              LGA     POP  ... total_venues_present  total_absent_categories\n",
              "1  Lagos Mainland  317980  ...                   95                        4\n",
              "2           Ikeja  313333  ...                   83                        4\n",
              "3           Apapa  217661  ...                   96                        5\n",
              "4    Oshodi-Isolo  621789  ...                   92                        5\n",
              "5        Surulere  504409  ...                   84                        5\n",
              "\n",
              "[5 rows x 6 columns]"
            ]
          },
          "metadata": {
            "tags": []
          },
          "execution_count": 260
        }
      ]
    },
    {
      "cell_type": "code",
      "metadata": {
        "id": "WTvVqbwz9vbc",
        "colab_type": "code",
        "outputId": "f39a0090-49c3-4c52-b2da-fca08f44eb54",
        "colab": {
          "base_uri": "https://localhost:8080/",
          "height": 34
        }
      },
      "source": [
        "lga_list = list(pd.Series(lga_dict).reindex(top_5_list))\n",
        "lga_list"
      ],
      "execution_count": 0,
      "outputs": [
        {
          "output_type": "execute_result",
          "data": {
            "text/plain": [
              "[4, 4, 5, 5, 5]"
            ]
          },
          "metadata": {
            "tags": []
          },
          "execution_count": 261
        }
      ]
    },
    {
      "cell_type": "code",
      "metadata": {
        "id": "D4k0L7QaEWrv",
        "colab_type": "code",
        "outputId": "59cccc4d-2b2c-4baf-ab9e-3ee544851851",
        "colab": {
          "base_uri": "https://localhost:8080/",
          "height": 118
        }
      },
      "source": [
        "lga_slice = lga_df.reindex(top_5_list)\n",
        "lga_slice"
      ],
      "execution_count": 0,
      "outputs": [
        {
          "output_type": "execute_result",
          "data": {
            "text/plain": [
              "Lagos Mainland    4\n",
              "Ikeja             4\n",
              "Apapa             5\n",
              "Oshodi-Isolo      5\n",
              "Surulere          5\n",
              "dtype: int64"
            ]
          },
          "metadata": {
            "tags": []
          },
          "execution_count": 262
        }
      ]
    },
    {
      "cell_type": "code",
      "metadata": {
        "id": "4tW-vfo7C8eM",
        "colab_type": "code",
        "outputId": "03828d6c-4153-4767-894c-8dfce9105548",
        "colab": {
          "base_uri": "https://localhost:8080/",
          "height": 34
        }
      },
      "source": [
        "min_dict"
      ],
      "execution_count": 0,
      "outputs": [
        {
          "output_type": "execute_result",
          "data": {
            "text/plain": [
              "{'Ikeja': 4, 'Lagos Mainland': 4}"
            ]
          },
          "metadata": {
            "tags": []
          },
          "execution_count": 263
        }
      ]
    },
    {
      "cell_type": "code",
      "metadata": {
        "id": "ZUKMvqK3-0ns",
        "colab_type": "code",
        "outputId": "7bca955c-95c8-4619-b178-aacd5f605490",
        "colab": {
          "base_uri": "https://localhost:8080/",
          "height": 34
        }
      },
      "source": [
        "print(list(test))"
      ],
      "execution_count": 0,
      "outputs": [
        {
          "output_type": "stream",
          "text": [
            "[95, 83, 96, 92, 84]\n"
          ],
          "name": "stdout"
        }
      ]
    },
    {
      "cell_type": "markdown",
      "metadata": {
        "id": "-RcV2Zl55t5l",
        "colab_type": "text"
      },
      "source": [
        "### A possible shortfall of this exercise.<br>\n",
        "\n",
        "You may have noticed that for some reason no educational institution or religious institution was returned by foursquare API. This is a flaw as Lagos has over 50 institutions of learning spread across the state.<br>\n",
        "Another flaw is on the data for Tech Hubs cited generally around Yaba, which is still under Lagos Mainland LGA.<br>\n",
        "This adds credence to the fact yet again, that Lagos Mainland LGA is perhaps the most ideal location to cite an office in Lagos State.<br>\n",
        "Thank you"
      ]
    },
    {
      "cell_type": "code",
      "metadata": {
        "id": "RTyX6WZJeNro",
        "colab_type": "code",
        "colab": {}
      },
      "source": [
        "# uncomment and run code below to kill the notebook and free up space\n",
        "\n",
        "# import os, signal\n",
        "# os.kill(os.getpid(),signal.SIGKILL)"
      ],
      "execution_count": 0,
      "outputs": []
    }
  ]
}