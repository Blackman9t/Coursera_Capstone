{
  "nbformat": 4,
  "nbformat_minor": 0,
  "metadata": {
    "colab": {
      "name": "applied_data_science_capstone_project.ipynb",
      "version": "0.3.2",
      "provenance": [],
      "collapsed_sections": [],
      "include_colab_link": true
    },
    "kernelspec": {
      "name": "python3",
      "display_name": "Python 3"
    }
  },
  "cells": [
    {
      "cell_type": "markdown",
      "metadata": {
        "id": "view-in-github",
        "colab_type": "text"
      },
      "source": [
        "<a href=\"https://colab.research.google.com/github/Blackman9t/Coursera_Capstone/blob/master/applied_data_science_capstone_project.ipynb\" target=\"_parent\"><img src=\"https://colab.research.google.com/assets/colab-badge.svg\" alt=\"Open In Colab\"/></a>"
      ]
    },
    {
      "cell_type": "markdown",
      "metadata": {
        "id": "1NN8a1111_RT",
        "colab_type": "text"
      },
      "source": [
        "## Applied Data Science Capstone-Project\n",
        "\n",
        "\n",
        "### This Capsone-Project is the final course in a series of nine(9) Data Science Specialization courses taught by IBM via Coursera. <br>\n",
        "###The courses include the following:-\n",
        "1. [What is Data Science?](https://www.coursera.org/learn/what-is-datascience/home/welcome)\n",
        "2. [Open Source tools for Data Science](https://www.coursera.org/learn/open-source-tools-for-data-science/home/welcome)\n",
        "3. [Python for Data Science](https://www.coursera.org/learn/python-for-applied-data-science/home/welcome)\n",
        "4. [Data Science Methodology](https://www.coursera.org/learn/data-science-methodology/home/welcome)\n",
        "5. [Databases and SQL for Data Science](https://www.coursera.org/learn/sql-data-science/home/welcome)\n",
        "6. [Data Visualization with Python](https://www.coursera.org/learn/python-for-data-visualization/home/welcome)\n",
        "7. [Data Analysis with Python](https://www.coursera.org/learn/data-analysis-with-python/home/welcome)\n",
        "8. [Machine Learning with Python](https://www.coursera.org/learn/machine-learning-with-python/home/welcome)\n",
        "9. [Applied Data Science Capstone](https://www.coursera.org/learn/applied-data-science-capstone/home/welcome)\n",
        "\n",
        "#### It is mandatory that all courses from 1 to 8 are passed with acceptable grades before attempting this Capsone-Project."
      ]
    },
    {
      "cell_type": "markdown",
      "metadata": {
        "id": "wFnhvYeq3h4W",
        "colab_type": "text"
      },
      "source": [
        "Importing requred libraries"
      ]
    },
    {
      "cell_type": "code",
      "metadata": {
        "id": "o3gaNkio3lNs",
        "colab_type": "code",
        "colab": {}
      },
      "source": [
        "import pandas as pd\n",
        "import numpy as np"
      ],
      "execution_count": 0,
      "outputs": []
    },
    {
      "cell_type": "code",
      "metadata": {
        "id": "GdpbL_of3uqe",
        "colab_type": "code",
        "outputId": "44cf3997-b143-43a0-f991-acaf0b55800b",
        "colab": {
          "base_uri": "https://localhost:8080/",
          "height": 34
        }
      },
      "source": [
        "print('Hello Capstone Project Course!')"
      ],
      "execution_count": 0,
      "outputs": [
        {
          "output_type": "stream",
          "text": [
            "Hello Capstone Project Course!\n"
          ],
          "name": "stdout"
        }
      ]
    },
    {
      "cell_type": "markdown",
      "metadata": {
        "id": "9F1N8UDWLxuk",
        "colab_type": "text"
      },
      "source": [
        "#<u>Overview:</u>#\n",
        "\n",
        "**In this Capstone Project, I will  compare two of Africa's most populous cities:- Lagos, Nigeria and Johannesburg, South Africa. <br>\n",
        "I have had the pleasure of visiting both cities and I currently live in Lagos. My visit to Joburg last year was awesome I got to spend 3 nights in Sun City and it was an amazing experience So I want to compare Hotels, Restaurants and Eateries in both Lagos and Johannesburg. <br>\n",
        "I want to know which are the top-rated hotels and restaurants in Lagos and Joburg using only geo-location data from Foresquare.com\n",
        "<br>\n",
        "<br>\n",
        "The data I shall use for my analysis will come from the foursquare API calls. I will fetch these data using the requests library and convert them from JSON to Pandas data frame using the json_normalize attribute and proceed with my analysis. <br>\n",
        "I shall use the Folium library to visualize locations and use Matplotlib for plotting. Then I shall deploy a few clustering algorithms to cluster these cities for a more thorough analysis. Then I shall draw my conclusion and print out the names of the top-rated hotels, restaurants and eateries in both cities, using the word cloud library.\n",
        "<br>\n",
        "<br>\n",
        "This analysis will be helpful to anyone thinking of holidaying in Lagos or Joburg as it will give you details of top fun places and the distances from the city center along with the ratings of top hotels, eateries and restaurants in these cities.**"
      ]
    },
    {
      "cell_type": "markdown",
      "metadata": {
        "id": "rXvgbEkIOLpy",
        "colab_type": "text"
      },
      "source": [
        "**So please sit back, relax and enjoy the journey to Lagos and Johannesburg**"
      ]
    },
    {
      "cell_type": "code",
      "metadata": {
        "id": "Yxg7Cp0nNaI-",
        "colab_type": "code",
        "colab": {}
      },
      "source": [
        ""
      ],
      "execution_count": 0,
      "outputs": []
    }
  ]
}