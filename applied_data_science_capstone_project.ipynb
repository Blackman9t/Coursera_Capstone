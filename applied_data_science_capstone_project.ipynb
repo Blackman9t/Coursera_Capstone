{
  "nbformat": 4,
  "nbformat_minor": 0,
  "metadata": {
    "colab": {
      "name": "applied_data_science_capstone_project.ipynb",
      "version": "0.3.2",
      "provenance": [],
      "collapsed_sections": [],
      "include_colab_link": true
    },
    "kernelspec": {
      "name": "python3",
      "display_name": "Python 3"
    }
  },
  "cells": [
    {
      "cell_type": "markdown",
      "metadata": {
        "id": "view-in-github",
        "colab_type": "text"
      },
      "source": [
        "<a href=\"https://colab.research.google.com/github/Blackman9t/Coursera_Capstone/blob/master/applied_data_science_capstone_project.ipynb\" target=\"_parent\"><img src=\"https://colab.research.google.com/assets/colab-badge.svg\" alt=\"Open In Colab\"/></a>"
      ]
    },
    {
      "cell_type": "markdown",
      "metadata": {
        "id": "1NN8a1111_RT",
        "colab_type": "text"
      },
      "source": [
        "## Applied Data Science Capstone-Project\n",
        "\n",
        "\n",
        "### This Capsone-Project is the final course in a series of nine(9) Data Science Specialization courses taught by IBM via Coursera. <br>\n",
        "###The courses include the following:-\n",
        "1. [What is Data Science?](https://www.coursera.org/learn/what-is-datascience/home/welcome)\n",
        "2. [Open Source tools for Data Science](https://www.coursera.org/learn/open-source-tools-for-data-science/home/welcome)\n",
        "3. [Python for Data Science](https://www.coursera.org/learn/python-for-applied-data-science/home/welcome)\n",
        "4. [Data Science Methodology](https://www.coursera.org/learn/data-science-methodology/home/welcome)\n",
        "5. [Databases and SQL for Data Science](https://www.coursera.org/learn/sql-data-science/home/welcome)\n",
        "6. [Data Visualization with Python](https://www.coursera.org/learn/python-for-data-visualization/home/welcome)\n",
        "7. [Data Analysis with Python](https://www.coursera.org/learn/data-analysis-with-python/home/welcome)\n",
        "8. [Machine Learning with Python](https://www.coursera.org/learn/machine-learning-with-python/home/welcome)\n",
        "9. [Applied Data Science Capstone](https://www.coursera.org/learn/applied-data-science-capstone/home/welcome)\n",
        "\n",
        "#### It is mandatory that all courses from 1 to 8 are passed with acceptable grades before attempting this Capsone-Project."
      ]
    },
    {
      "cell_type": "markdown",
      "metadata": {
        "id": "wFnhvYeq3h4W",
        "colab_type": "text"
      },
      "source": [
        "Importing requred libraries"
      ]
    },
    {
      "cell_type": "code",
      "metadata": {
        "id": "o3gaNkio3lNs",
        "colab_type": "code",
        "colab": {}
      },
      "source": [
        "import pandas as pd\n",
        "import numpy as np"
      ],
      "execution_count": 0,
      "outputs": []
    },
    {
      "cell_type": "code",
      "metadata": {
        "id": "GdpbL_of3uqe",
        "colab_type": "code",
        "outputId": "cbd45ffb-4e42-4bcb-c03a-64887cc431e4",
        "colab": {
          "base_uri": "https://localhost:8080/",
          "height": 34
        }
      },
      "source": [
        "print('Hello Capstone Project Course!')"
      ],
      "execution_count": 160,
      "outputs": [
        {
          "output_type": "stream",
          "text": [
            "Hello Capstone Project Course!\n"
          ],
          "name": "stdout"
        }
      ]
    },
    {
      "cell_type": "markdown",
      "metadata": {
        "id": "gSwz2Tl9QeNY",
        "colab_type": "text"
      },
      "source": [
        "<h2>Problem Description</h2>"
      ]
    },
    {
      "cell_type": "markdown",
      "metadata": {
        "id": "ydbJ0Q1TQfgQ",
        "colab_type": "text"
      },
      "source": [
        "<h3>The problem I want to solve using Geo-location Data is helping a new Tech-StartUp find the ideal location for its Head-office in The City of Lagos Nigeria.\n",
        "This Head-office should be situated in a good location that has the following:-</h3><br>\n",
        "\n",
        "central location.<br>\n",
        "Close proximity to Tech-Hubs and talent.<br>\n",
        "High feet traffic area for easy interaction with potential customers.<br>\n",
        "Nearness to Educational institutions for research and interactions with academics.<br>\n",
        "Nearness to cafes and restaurants for business meetings or lunch-meets.<br>\n",
        "Nearness to bus-stops, seaports and airports.<br>\n",
        "Security and safety.<br>\n",
        "Cluster of economic activities and similar or complementing businesses.\n"
      ]
    },
    {
      "cell_type": "markdown",
      "metadata": {
        "id": "q16Xmdy5QkuO",
        "colab_type": "text"
      },
      "source": [
        "<h2>Background to Problem</h2>"
      ]
    },
    {
      "cell_type": "markdown",
      "metadata": {
        "id": "Ot2fDGwXQqcf",
        "colab_type": "text"
      },
      "source": [
        "I have lived in Lagos for some time off and on, longest has been 3 years stretch from 2006 to 2009. <br>\n",
        "I have also done a lot of travelling to other Countries such as Russia, South-Africa, Ghana, Dubai, Mauritius and a few others.<br>\n",
        "By the way, Mauritius is The wealthiest country in Africa with average wealth per person increasing from $(21000 - 25000) within one year recently ([link](https://www.graphic.com.gh/business/business-news/accra-ranked-10th-wealthiest-city-in-africa.html)).<br>\n",
        "My analysis today is on Lagos state, which is the 4th wealthiest city in Africa, fourth place behind Johannesburg, Cairo and Cape Town ([link](https://www.graphic.com.gh/business/business-news/accra-ranked-10th-wealthiest-city-in-africa.html)).<br>\n",
        "Lagos city is home to over 6,800 millionaires, 370 multi-millionaires and 4 billionaires.<br>\n",
        "Lagos is also the commercial capital of Nigeria (The Most populous black nation), and the commercial hub of West Africa.<br>\n",
        "I have just only recently returned to Lagos city, got enrolled in The Founder Institute and currently building my new Startup in The Fintech industry ([link](http://bit.ly/escrowallet)).<br>\n",
        "Therefore I want to use this opportunity to help future Startups find the most ideal location in Lagos city, for a Head-office."
      ]
    },
    {
      "cell_type": "markdown",
      "metadata": {
        "id": "OeJz-T3-Qv0K",
        "colab_type": "text"
      },
      "source": [
        "<h2>Data Requirements and Overview</h2>"
      ]
    },
    {
      "cell_type": "markdown",
      "metadata": {
        "id": "rHYrw2Hm0L1H",
        "colab_type": "text"
      },
      "source": [
        "**The Dataset is the wikipedia page of Lagos state** see [link](https://en.wikipedia.org/wiki/List_of_Lagos_State_local_government_areas_by_population)"
      ]
    },
    {
      "cell_type": "markdown",
      "metadata": {
        "id": "ZDfmwP_cQ1k7",
        "colab_type": "text"
      },
      "source": [
        "We shall explore Lagos city through its respective Local Government Areas or Boroughs via this [link](https://en.wikipedia.org/wiki/List_of_Lagos_State_local_government_areas_by_population).<br>\n",
        "The above link is a web page that shows the respective Local Government Areas in Lagos State and each population figure. It's a public wikipedia data page<br>\n",
        "This data will be analysed through the following steps:-<br>\n",
        "1. We shall scrape the web page using the beautiful soup library<br>\n",
        "2. We shall use The Foresquare API calls to retrieve geo-location data<br>\n",
        "3. We shall fetch the text data using the requests library<br>\n",
        "4. We shall convert it from JSON to Pandas dataframe using the josn_normalize module<br>\n",
        "5. We shall use The folium library to view the maps and plot these via matplotlib library.<br>\n",
        "Then we shall cluster Lagos City into its respective Postcodes and Local Government Areas and analyse each area for its appeal as a location for a Tech-Statrup based on the aforementioned parameters.<br>\n",
        "After this we shall select our Top-Location.<br>\n",
        "5. Finally to add some fun, we shall use the Word-cloud library to display the names of the top hubs, restaurants, offices and education institutes in our Top-Location."
      ]
    },
    {
      "cell_type": "markdown",
      "metadata": {
        "id": "rXvgbEkIOLpy",
        "colab_type": "text"
      },
      "source": [
        "**So please sit back, relax and enjoy the ride as we explore Lagos City**"
      ]
    },
    {
      "cell_type": "markdown",
      "metadata": {
        "id": "2Opd6xcCz44c",
        "colab_type": "text"
      },
      "source": [
        "First let's import required libraries"
      ]
    },
    {
      "cell_type": "code",
      "metadata": {
        "id": "Yxg7Cp0nNaI-",
        "colab_type": "code",
        "outputId": "003112f6-e514-4d88-f0c0-a714d222371e",
        "colab": {
          "base_uri": "https://localhost:8080/",
          "height": 34
        }
      },
      "source": [
        "from bs4 import BeautifulSoup\n",
        "import requests  # library to handle requests\n",
        "import pandas as pd\n",
        "import json  # library to handle JSON files\n",
        "from pandas.io.json import json_normalize  # transform json files to pandas dataframes\n",
        "from geopy.geocoders import Nominatim  # convert an address into latitude and longitude values\n",
        "\n",
        "# Matplotlib and associated plotting modules\n",
        "import matplotlib.cm as cm\n",
        "import matplotlib.colors as colors\n",
        "\n",
        "# import k-means from clustering stage\n",
        "from sklearn.cluster import KMeans\n",
        "\n",
        "#!conda install -c conda-forge folium=0.5.0 --yes # uncomment this line if you haven't completed the Foursquare API lab\n",
        "import folium # map rendering library\n",
        "\n",
        "import numpy as np\n",
        "import csv\n",
        "\n",
        "print('All modules imported')"
      ],
      "execution_count": 161,
      "outputs": [
        {
          "output_type": "stream",
          "text": [
            "All modules imported\n"
          ],
          "name": "stdout"
        }
      ]
    },
    {
      "cell_type": "code",
      "metadata": {
        "id": "hyHRivq_2hom",
        "colab_type": "code",
        "colab": {}
      },
      "source": [
        "# Lets save the weblink for The Lagos Data\n",
        "\n",
        "lagos_link = 'https://en.wikipedia.org/wiki/List_of_Lagos_State_local_government_areas_by_population'"
      ],
      "execution_count": 0,
      "outputs": []
    },
    {
      "cell_type": "markdown",
      "metadata": {
        "id": "HmkJLYfhyKtp",
        "colab_type": "text"
      },
      "source": [
        "Get the source code html data from the website"
      ]
    },
    {
      "cell_type": "code",
      "metadata": {
        "id": "VC5GhczSyMU4",
        "colab_type": "code",
        "colab": {}
      },
      "source": [
        "source = requests.get(lagos_link).text"
      ],
      "execution_count": 0,
      "outputs": []
    },
    {
      "cell_type": "markdown",
      "metadata": {
        "id": "AexSEq_Wu84U",
        "colab_type": "text"
      },
      "source": [
        "Lets Use BeautifulSoup to parse it"
      ]
    },
    {
      "cell_type": "code",
      "metadata": {
        "id": "8-rdg0tGyqGz",
        "colab_type": "code",
        "colab": {}
      },
      "source": [
        "soup = BeautifulSoup(source,'lxml')\n",
        "\n",
        "# Let's pretty print it in its right shape\n",
        "\n",
        "#print(soup.prettify())"
      ],
      "execution_count": 0,
      "outputs": []
    },
    {
      "cell_type": "markdown",
      "metadata": {
        "id": "bK1kWLx-0l1F",
        "colab_type": "text"
      },
      "source": [
        "Next let's get the table that contains the data we want to scrape"
      ]
    },
    {
      "cell_type": "code",
      "metadata": {
        "id": "jrtBgrow0moy",
        "colab_type": "code",
        "colab": {}
      },
      "source": [
        "my_table = soup.find_all('td')\n",
        "#mw-content-text\n",
        "# Let's view the table\n",
        "\n",
        "# my_table"
      ],
      "execution_count": 0,
      "outputs": []
    },
    {
      "cell_type": "markdown",
      "metadata": {
        "id": "S1qFFQr6-vJy",
        "colab_type": "text"
      },
      "source": [
        "Next let's iterate through each link and append the text parts"
      ]
    },
    {
      "cell_type": "code",
      "metadata": {
        "id": "YVhuX3QO-2O0",
        "colab_type": "code",
        "colab": {}
      },
      "source": [
        "table_text = []\n",
        "\n",
        "for data in my_table:\n",
        "    table_text.append(data.text)"
      ],
      "execution_count": 0,
      "outputs": []
    },
    {
      "cell_type": "code",
      "metadata": {
        "id": "B-twK_2Ulugg",
        "colab_type": "code",
        "outputId": "9dce3718-b211-4793-f170-c4da8bd61621",
        "colab": {
          "base_uri": "https://localhost:8080/",
          "height": 1000
        }
      },
      "source": [
        "# Let's see the text\n",
        "\n",
        "table_text"
      ],
      "execution_count": 167,
      "outputs": [
        {
          "output_type": "execute_result",
          "data": {
            "text/plain": [
              "['',\n",
              " 'This article needs to be updated. Please update this article to reflect recent events or newly available information. (March 2015)',\n",
              " '',\n",
              " 'This article does not cite any sources. Please help improve this article by adding citations to reliable sources. Unsourced material may be challenged and removed. (June 2015) (Learn how and when to remove this template message)',\n",
              " '1\\n',\n",
              " 'Alimosho\\n',\n",
              " '5,700,714\\n',\n",
              " '2\\n',\n",
              " 'Ajeromi-Ifelodun\\n',\n",
              " '1,746,634\\n',\n",
              " '3\\n',\n",
              " 'Kosofe\\n',\n",
              " '665,998\\n',\n",
              " '4\\n',\n",
              " 'Mushin, Lagos\\n',\n",
              " '633,543\\n',\n",
              " '5\\n',\n",
              " 'Oshodi-Isolo\\n',\n",
              " '621,789\\n',\n",
              " '6\\n',\n",
              " 'Ojo\\n',\n",
              " '598,332\\n',\n",
              " '7\\n',\n",
              " 'Ikorodu\\n',\n",
              " '535,811\\n',\n",
              " '8\\n',\n",
              " 'Surulere\\n',\n",
              " '504,409\\n',\n",
              " '9\\n',\n",
              " 'Agege\\n',\n",
              " '461,123\\n',\n",
              " '10\\n',\n",
              " 'Ifako-Ijaiye\\n',\n",
              " '428,812\\n',\n",
              " '11\\n',\n",
              " 'Somolu\\n',\n",
              " '402,992\\n',\n",
              " '12\\n',\n",
              " 'Amuwo-Odofin\\n',\n",
              " '318,576\\n',\n",
              " '13\\n',\n",
              " 'Lagos Mainland\\n',\n",
              " '317,980\\n',\n",
              " '14\\n',\n",
              " 'Ikeja\\n',\n",
              " '313,333\\n',\n",
              " '15\\n',\n",
              " 'Eti-Osa\\n',\n",
              " '287,958\\n',\n",
              " '16\\n',\n",
              " 'Badagry\\n',\n",
              " '241,437\\n',\n",
              " '17\\n',\n",
              " 'Apapa\\n',\n",
              " '217,661\\n',\n",
              " '18\\n',\n",
              " 'Lagos Island\\n',\n",
              " '209,665\\n',\n",
              " '19\\n',\n",
              " 'Epe\\n',\n",
              " '181,715\\n',\n",
              " '20\\n',\n",
              " 'Ibeju-Lekki\\n',\n",
              " '117,542\\n',\n",
              " '\\n',\n",
              " 'Lagos State\\n',\n",
              " '16,506,023\\n']"
            ]
          },
          "metadata": {
            "tags": []
          },
          "execution_count": 167
        }
      ]
    },
    {
      "cell_type": "markdown",
      "metadata": {
        "id": "6EsoADW0mkrR",
        "colab_type": "text"
      },
      "source": [
        "First let's attract only the relevent data from the table"
      ]
    },
    {
      "cell_type": "code",
      "metadata": {
        "id": "WET_B_y0mwdN",
        "colab_type": "code",
        "outputId": "c50c6815-7662-47ac-d732-0c251dcd6ae5",
        "colab": {
          "base_uri": "https://localhost:8080/",
          "height": 34
        }
      },
      "source": [
        "relevant_table_data = table_text[4:-3]\n",
        "\n",
        "# Next let's see the first 3 elements\n",
        "relevant_table_data[:3]"
      ],
      "execution_count": 168,
      "outputs": [
        {
          "output_type": "execute_result",
          "data": {
            "text/plain": [
              "['1\\n', 'Alimosho\\n', '5,700,714\\n']"
            ]
          },
          "metadata": {
            "tags": []
          },
          "execution_count": 168
        }
      ]
    },
    {
      "cell_type": "markdown",
      "metadata": {
        "id": "_jJzom_Hw2yS",
        "colab_type": "text"
      },
      "source": [
        "Next lets create a dictionary and append the LGA and corresponding Population data to it"
      ]
    },
    {
      "cell_type": "code",
      "metadata": {
        "id": "AGRNCXgInsJh",
        "colab_type": "code",
        "colab": {}
      },
      "source": [
        "table_dict={'LGA':[], 'POP':[]}\n",
        "count = 0\n",
        "\n",
        "for item in relevant_table_data:\n",
        "    # First let's strip off the \\n at the end\n",
        "    item = item.strip('\\n')\n",
        "    try:\n",
        "        item = int(item)\n",
        "    except:\n",
        "        # if second item after the int, append to POP\n",
        "        if count > 0:\n",
        "            # First let's remove the commas\n",
        "            item = item.replace(',','')\n",
        "            # Next let's convert to an integer so we can use it for calculations\n",
        "            item = int(item)\n",
        "            # Finally, let's append it to the Population list of the dictionary\n",
        "            table_dict['POP'].append(item)\n",
        "            count = 0\n",
        "        else:\n",
        "         # if first item after the int, append to LGA\n",
        "            table_dict['LGA'].append(item)\n",
        "            count +=1\n",
        "            "
      ],
      "execution_count": 0,
      "outputs": []
    },
    {
      "cell_type": "markdown",
      "metadata": {
        "id": "BpsyT11FxCze",
        "colab_type": "text"
      },
      "source": [
        "Next let's create a Dataframe of each LGA and its respective Population"
      ]
    },
    {
      "cell_type": "code",
      "metadata": {
        "id": "4_Zgf7jVtmTu",
        "colab_type": "code",
        "outputId": "3e795c50-cbec-4495-85ee-096fb58c9c3e",
        "colab": {
          "base_uri": "https://localhost:8080/",
          "height": 195
        }
      },
      "source": [
        "lagos_df = pd.DataFrame(table_dict)\n",
        "\n",
        "# Let's see the first five rows\n",
        "lagos_df.head()"
      ],
      "execution_count": 170,
      "outputs": [
        {
          "output_type": "execute_result",
          "data": {
            "text/html": [
              "<div>\n",
              "<style scoped>\n",
              "    .dataframe tbody tr th:only-of-type {\n",
              "        vertical-align: middle;\n",
              "    }\n",
              "\n",
              "    .dataframe tbody tr th {\n",
              "        vertical-align: top;\n",
              "    }\n",
              "\n",
              "    .dataframe thead th {\n",
              "        text-align: right;\n",
              "    }\n",
              "</style>\n",
              "<table border=\"1\" class=\"dataframe\">\n",
              "  <thead>\n",
              "    <tr style=\"text-align: right;\">\n",
              "      <th></th>\n",
              "      <th>LGA</th>\n",
              "      <th>POP</th>\n",
              "    </tr>\n",
              "  </thead>\n",
              "  <tbody>\n",
              "    <tr>\n",
              "      <th>0</th>\n",
              "      <td>Alimosho</td>\n",
              "      <td>5700714</td>\n",
              "    </tr>\n",
              "    <tr>\n",
              "      <th>1</th>\n",
              "      <td>Ajeromi-Ifelodun</td>\n",
              "      <td>1746634</td>\n",
              "    </tr>\n",
              "    <tr>\n",
              "      <th>2</th>\n",
              "      <td>Kosofe</td>\n",
              "      <td>665998</td>\n",
              "    </tr>\n",
              "    <tr>\n",
              "      <th>3</th>\n",
              "      <td>Mushin, Lagos</td>\n",
              "      <td>633543</td>\n",
              "    </tr>\n",
              "    <tr>\n",
              "      <th>4</th>\n",
              "      <td>Oshodi-Isolo</td>\n",
              "      <td>621789</td>\n",
              "    </tr>\n",
              "  </tbody>\n",
              "</table>\n",
              "</div>"
            ],
            "text/plain": [
              "                LGA      POP\n",
              "0          Alimosho  5700714\n",
              "1  Ajeromi-Ifelodun  1746634\n",
              "2            Kosofe   665998\n",
              "3     Mushin, Lagos   633543\n",
              "4      Oshodi-Isolo   621789"
            ]
          },
          "metadata": {
            "tags": []
          },
          "execution_count": 170
        }
      ]
    },
    {
      "cell_type": "markdown",
      "metadata": {
        "id": "eNGYERJUS83m",
        "colab_type": "text"
      },
      "source": [
        "Appending the Latitude and Longitude Values:<br>\n",
        "First let's define a simple method to extract each LGA or Borough Lats and Longs data"
      ]
    },
    {
      "cell_type": "code",
      "metadata": {
        "id": "1UNfx6OVRlOS",
        "colab_type": "code",
        "colab": {}
      },
      "source": [
        "def latitude_longitude(Borough):\n",
        "    \"\"\" Method takes a Series object and returns\n",
        "    a list of Latitude and corresponding Longitude data,\n",
        "    using the geopy library.\n",
        "    This method also prints out the coordinate data\"\"\"\n",
        "    \n",
        "    address = Borough\n",
        "    \n",
        "    geolocator = Nominatim(user_agent=\"NG_explorer\")\n",
        "    location = geolocator.geocode(address)\n",
        "    latitude = location.latitude\n",
        "    longitude = location.longitude\n",
        "    print('The geograpical coordinates of {} are {}, {}.'.format(address, latitude, longitude))\n",
        "    return [latitude, longitude]\n"
      ],
      "execution_count": 0,
      "outputs": []
    },
    {
      "cell_type": "code",
      "metadata": {
        "id": "34bdCijURtXE",
        "colab_type": "code",
        "outputId": "bc4ba317-e628-472f-d429-2b12bde5fffd",
        "colab": {
          "base_uri": "https://localhost:8080/",
          "height": 353
        }
      },
      "source": [
        "lagos_df['latitude'] = lagos_df['LGA'].apply(latitude_longitude)"
      ],
      "execution_count": 172,
      "outputs": [
        {
          "output_type": "stream",
          "text": [
            "The geograpical coordinates of Alimosho are 6.6113371, 3.2952634.\n",
            "The geograpical coordinates of Ajeromi-Ifelodun are 6.4551217, 3.33594625182987.\n",
            "The geograpical coordinates of Kosofe are 6.581974, 3.41483594161784.\n",
            "The geograpical coordinates of Mushin, Lagos are 6.53263245, 3.35202197179877.\n",
            "The geograpical coordinates of Oshodi-Isolo are 6.54001, 3.31241461318394.\n",
            "The geograpical coordinates of Ojo are 6.46249745, 3.16570641436411.\n",
            "The geograpical coordinates of Ikorodu are 6.6191233, 3.5041271.\n",
            "The geograpical coordinates of Surulere are 8.09558835, 4.41296180365728.\n",
            "The geograpical coordinates of Agege are 6.6229165, 3.3203386.\n",
            "The geograpical coordinates of Ifako-Ijaiye are 6.632608, 3.3407753.\n",
            "The geograpical coordinates of Somolu are 6.583333, 3.466667.\n",
            "The geograpical coordinates of Amuwo-Odofin are 6.4470234, 3.26627971168259.\n",
            "The geograpical coordinates of Lagos Mainland are 6.49306105, 3.38824963720956.\n",
            "The geograpical coordinates of Ikeja are 6.5960605, 3.340787.\n",
            "The geograpical coordinates of Eti-Osa are 6.4602312, 3.53218066773601.\n",
            "The geograpical coordinates of Badagry are 6.4167339, 2.8846128.\n",
            "The geograpical coordinates of Apapa are 6.445187, 3.36837316794241.\n",
            "The geograpical coordinates of Lagos Island are 6.5148613, 3.49086616139006.\n",
            "The geograpical coordinates of Epe are 52.3467225, 5.9836704.\n",
            "The geograpical coordinates of Ibeju-Lekki are 6.4711251, 3.81475020068694.\n"
          ],
          "name": "stdout"
        }
      ]
    },
    {
      "cell_type": "markdown",
      "metadata": {
        "id": "FQ-5GsxfqFCv",
        "colab_type": "text"
      },
      "source": [
        "Let's see the data frame again"
      ]
    },
    {
      "cell_type": "code",
      "metadata": {
        "id": "1jRsohp3qIB7",
        "colab_type": "code",
        "outputId": "a4fb67c6-d46e-47a5-c1cc-58f6ffeaf60d",
        "colab": {
          "base_uri": "https://localhost:8080/",
          "height": 195
        }
      },
      "source": [
        "lagos_df.head()"
      ],
      "execution_count": 173,
      "outputs": [
        {
          "output_type": "execute_result",
          "data": {
            "text/html": [
              "<div>\n",
              "<style scoped>\n",
              "    .dataframe tbody tr th:only-of-type {\n",
              "        vertical-align: middle;\n",
              "    }\n",
              "\n",
              "    .dataframe tbody tr th {\n",
              "        vertical-align: top;\n",
              "    }\n",
              "\n",
              "    .dataframe thead th {\n",
              "        text-align: right;\n",
              "    }\n",
              "</style>\n",
              "<table border=\"1\" class=\"dataframe\">\n",
              "  <thead>\n",
              "    <tr style=\"text-align: right;\">\n",
              "      <th></th>\n",
              "      <th>LGA</th>\n",
              "      <th>POP</th>\n",
              "      <th>latitude</th>\n",
              "    </tr>\n",
              "  </thead>\n",
              "  <tbody>\n",
              "    <tr>\n",
              "      <th>0</th>\n",
              "      <td>Alimosho</td>\n",
              "      <td>5700714</td>\n",
              "      <td>[6.6113371, 3.2952634]</td>\n",
              "    </tr>\n",
              "    <tr>\n",
              "      <th>1</th>\n",
              "      <td>Ajeromi-Ifelodun</td>\n",
              "      <td>1746634</td>\n",
              "      <td>[6.4551217, 3.33594625182987]</td>\n",
              "    </tr>\n",
              "    <tr>\n",
              "      <th>2</th>\n",
              "      <td>Kosofe</td>\n",
              "      <td>665998</td>\n",
              "      <td>[6.581974, 3.41483594161784]</td>\n",
              "    </tr>\n",
              "    <tr>\n",
              "      <th>3</th>\n",
              "      <td>Mushin, Lagos</td>\n",
              "      <td>633543</td>\n",
              "      <td>[6.53263245, 3.35202197179877]</td>\n",
              "    </tr>\n",
              "    <tr>\n",
              "      <th>4</th>\n",
              "      <td>Oshodi-Isolo</td>\n",
              "      <td>621789</td>\n",
              "      <td>[6.54001, 3.31241461318394]</td>\n",
              "    </tr>\n",
              "  </tbody>\n",
              "</table>\n",
              "</div>"
            ],
            "text/plain": [
              "                LGA      POP                        latitude\n",
              "0          Alimosho  5700714          [6.6113371, 3.2952634]\n",
              "1  Ajeromi-Ifelodun  1746634   [6.4551217, 3.33594625182987]\n",
              "2            Kosofe   665998    [6.581974, 3.41483594161784]\n",
              "3     Mushin, Lagos   633543  [6.53263245, 3.35202197179877]\n",
              "4      Oshodi-Isolo   621789     [6.54001, 3.31241461318394]"
            ]
          },
          "metadata": {
            "tags": []
          },
          "execution_count": 173
        }
      ]
    },
    {
      "cell_type": "markdown",
      "metadata": {
        "id": "urZ6BlyRqRKZ",
        "colab_type": "text"
      },
      "source": [
        "Next let's loop through the data frame and separate Latitude from Longitude and make lat and lons just numbers not lists\n"
      ]
    },
    {
      "cell_type": "code",
      "metadata": {
        "id": "D-242baCqbms",
        "colab_type": "code",
        "colab": {}
      },
      "source": [
        "lon_list = []\n",
        "for i, j in lagos_df.iterrows():\n",
        "    lon_list.append(j.latitude[1])\n",
        "    lagos_df.iat[i,2] = j.latitude[0]\n",
        "      \n",
        "# next let's assign the lon_list as the value of the Longitude Column\n",
        "\n",
        "lagos_df['longitude'] = lon_list"
      ],
      "execution_count": 0,
      "outputs": []
    },
    {
      "cell_type": "markdown",
      "metadata": {
        "id": "zq_eqtUctlO7",
        "colab_type": "text"
      },
      "source": [
        "Let's see our table with the separated latitude and longitude values"
      ]
    },
    {
      "cell_type": "code",
      "metadata": {
        "id": "b0lMEy5Btl4b",
        "colab_type": "code",
        "outputId": "89fd6059-7534-4486-c35d-dba28de0c03c",
        "colab": {
          "base_uri": "https://localhost:8080/",
          "height": 195
        }
      },
      "source": [
        "lagos_df.head()"
      ],
      "execution_count": 175,
      "outputs": [
        {
          "output_type": "execute_result",
          "data": {
            "text/html": [
              "<div>\n",
              "<style scoped>\n",
              "    .dataframe tbody tr th:only-of-type {\n",
              "        vertical-align: middle;\n",
              "    }\n",
              "\n",
              "    .dataframe tbody tr th {\n",
              "        vertical-align: top;\n",
              "    }\n",
              "\n",
              "    .dataframe thead th {\n",
              "        text-align: right;\n",
              "    }\n",
              "</style>\n",
              "<table border=\"1\" class=\"dataframe\">\n",
              "  <thead>\n",
              "    <tr style=\"text-align: right;\">\n",
              "      <th></th>\n",
              "      <th>LGA</th>\n",
              "      <th>POP</th>\n",
              "      <th>latitude</th>\n",
              "      <th>longitude</th>\n",
              "    </tr>\n",
              "  </thead>\n",
              "  <tbody>\n",
              "    <tr>\n",
              "      <th>0</th>\n",
              "      <td>Alimosho</td>\n",
              "      <td>5700714</td>\n",
              "      <td>6.61134</td>\n",
              "      <td>3.295263</td>\n",
              "    </tr>\n",
              "    <tr>\n",
              "      <th>1</th>\n",
              "      <td>Ajeromi-Ifelodun</td>\n",
              "      <td>1746634</td>\n",
              "      <td>6.45512</td>\n",
              "      <td>3.335946</td>\n",
              "    </tr>\n",
              "    <tr>\n",
              "      <th>2</th>\n",
              "      <td>Kosofe</td>\n",
              "      <td>665998</td>\n",
              "      <td>6.58197</td>\n",
              "      <td>3.414836</td>\n",
              "    </tr>\n",
              "    <tr>\n",
              "      <th>3</th>\n",
              "      <td>Mushin, Lagos</td>\n",
              "      <td>633543</td>\n",
              "      <td>6.53263</td>\n",
              "      <td>3.352022</td>\n",
              "    </tr>\n",
              "    <tr>\n",
              "      <th>4</th>\n",
              "      <td>Oshodi-Isolo</td>\n",
              "      <td>621789</td>\n",
              "      <td>6.54001</td>\n",
              "      <td>3.312415</td>\n",
              "    </tr>\n",
              "  </tbody>\n",
              "</table>\n",
              "</div>"
            ],
            "text/plain": [
              "                LGA      POP latitude  longitude\n",
              "0          Alimosho  5700714  6.61134   3.295263\n",
              "1  Ajeromi-Ifelodun  1746634  6.45512   3.335946\n",
              "2            Kosofe   665998  6.58197   3.414836\n",
              "3     Mushin, Lagos   633543  6.53263   3.352022\n",
              "4      Oshodi-Isolo   621789  6.54001   3.312415"
            ]
          },
          "metadata": {
            "tags": []
          },
          "execution_count": 175
        }
      ]
    },
    {
      "cell_type": "markdown",
      "metadata": {
        "id": "UWj17IRi5BAg",
        "colab_type": "text"
      },
      "source": [
        "Okay so at this point let's look at each Borough or L.G.A closer. Let's start with the first one and visualize it via Folium library"
      ]
    },
    {
      "cell_type": "markdown",
      "metadata": {
        "id": "2QWtdI_x56jO",
        "colab_type": "text"
      },
      "source": [
        "Let's get the geographic coordinates of Alimosho, the first L.G.A"
      ]
    },
    {
      "cell_type": "code",
      "metadata": {
        "id": "Gdx8ufxPAnHg",
        "colab_type": "code",
        "outputId": "3cc77b21-6f0f-4aec-8155-2963bc73953f",
        "colab": {
          "base_uri": "https://localhost:8080/",
          "height": 77
        }
      },
      "source": [
        "alimosho_data = lagos_df.loc[0,].to_frame().T\n",
        "alimosho_data"
      ],
      "execution_count": 176,
      "outputs": [
        {
          "output_type": "execute_result",
          "data": {
            "text/html": [
              "<div>\n",
              "<style scoped>\n",
              "    .dataframe tbody tr th:only-of-type {\n",
              "        vertical-align: middle;\n",
              "    }\n",
              "\n",
              "    .dataframe tbody tr th {\n",
              "        vertical-align: top;\n",
              "    }\n",
              "\n",
              "    .dataframe thead th {\n",
              "        text-align: right;\n",
              "    }\n",
              "</style>\n",
              "<table border=\"1\" class=\"dataframe\">\n",
              "  <thead>\n",
              "    <tr style=\"text-align: right;\">\n",
              "      <th></th>\n",
              "      <th>LGA</th>\n",
              "      <th>POP</th>\n",
              "      <th>latitude</th>\n",
              "      <th>longitude</th>\n",
              "    </tr>\n",
              "  </thead>\n",
              "  <tbody>\n",
              "    <tr>\n",
              "      <th>0</th>\n",
              "      <td>Alimosho</td>\n",
              "      <td>5700714</td>\n",
              "      <td>6.61134</td>\n",
              "      <td>3.29526</td>\n",
              "    </tr>\n",
              "  </tbody>\n",
              "</table>\n",
              "</div>"
            ],
            "text/plain": [
              "        LGA      POP latitude longitude\n",
              "0  Alimosho  5700714  6.61134   3.29526"
            ]
          },
          "metadata": {
            "tags": []
          },
          "execution_count": 176
        }
      ]
    },
    {
      "cell_type": "code",
      "metadata": {
        "id": "o9yjb12t7LwQ",
        "colab_type": "code",
        "outputId": "86919033-9072-4f2c-bece-7cbc1475be5a",
        "colab": {
          "base_uri": "https://localhost:8080/",
          "height": 50
        }
      },
      "source": [
        "lat, lon = latitude_longitude(alimosho_data.iloc[0,0])\n",
        "\n",
        "print('lat: {}, lon: {}'.format(lat,lon))"
      ],
      "execution_count": 177,
      "outputs": [
        {
          "output_type": "stream",
          "text": [
            "The geograpical coordinates of Alimosho are 6.6113371, 3.2952634.\n",
            "lat: 6.6113371, lon: 3.2952634\n"
          ],
          "name": "stdout"
        }
      ]
    },
    {
      "cell_type": "code",
      "metadata": {
        "id": "BZb395Lm5RsE",
        "colab_type": "code",
        "outputId": "be16bf2e-2c09-42b3-d472-3112794d1804",
        "colab": {
          "base_uri": "https://localhost:8080/",
          "height": 858
        }
      },
      "source": [
        "# create map of Alimosho using latitude and longitude values\n",
        "map_alimosho = folium.Map(location=[lat, lon], zoom_start=14)\n",
        "\n",
        "# add markers to map\n",
        "\n",
        "label = \"{}\".format('Alimosho')\n",
        "label = folium.Popup(label, parse_html=True)\n",
        "folium.CircleMarker(\n",
        "    [lat, lon],\n",
        "    radius=10,\n",
        "    popup=label,\n",
        "    color='blue',\n",
        "    fill=True,\n",
        "    fill_color='#3186cc',\n",
        "    fill_opacity=0.8,\n",
        "    parse_html=False).add_to(map_alimosho)  \n",
        "\n",
        "map_alimosho  # Feel free to zoom in to see more"
      ],
      "execution_count": 178,
      "outputs": [
        {
          "output_type": "execute_result",
          "data": {
            "text/html": [
              "<div style=\"width:100%;\"><div style=\"position:relative;width:100%;height:0;padding-bottom:60%;\"><iframe src=\"data:text/html;charset=utf-8;base64,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\" style=\"position:absolute;width:100%;height:100%;left:0;top:0;border:none !important;\" allowfullscreen webkitallowfullscreen mozallowfullscreen></iframe></div></div>"
            ],
            "text/plain": [
              "<folium.folium.Map at 0x7f67d2c6f860>"
            ]
          },
          "metadata": {
            "tags": []
          },
          "execution_count": 178
        }
      ]
    },
    {
      "cell_type": "markdown",
      "metadata": {
        "id": "awqo0glw9y9z",
        "colab_type": "text"
      },
      "source": [
        "Now Let's explore the data using foursquare API"
      ]
    },
    {
      "cell_type": "code",
      "metadata": {
        "id": "IcLLLBoT9yAX",
        "colab_type": "code",
        "outputId": "d7a76174-cf9c-462c-c14d-4bad6c0a63d1",
        "colab": {
          "base_uri": "https://localhost:8080/",
          "height": 67
        }
      },
      "source": [
        "CLIENT_ID = 'L2XUYCRD44VP2YBDMZ3XY0Z4XKO1JODM5SMG3IIYRZ5330FD' # your Foursquare ID\n",
        "CLIENT_SECRET = '5KI00FG4RT2VJQTIDPXFY1N4AOKTIXLIZEAO0AHPP3DPD0U1' # your Foursquare Secret\n",
        "VERSION = '20190902'\n",
        "LIMIT = 50\n",
        "print('Your credentials:')\n",
        "print('CLIENT_ID: ' + CLIENT_ID)\n",
        "print('CLIENT_SECRET:' + CLIENT_SECRET)"
      ],
      "execution_count": 179,
      "outputs": [
        {
          "output_type": "stream",
          "text": [
            "Your credentials:\n",
            "CLIENT_ID: L2XUYCRD44VP2YBDMZ3XY0Z4XKO1JODM5SMG3IIYRZ5330FD\n",
            "CLIENT_SECRET:5KI00FG4RT2VJQTIDPXFY1N4AOKTIXLIZEAO0AHPP3DPD0U1\n"
          ],
          "name": "stdout"
        }
      ]
    },
    {
      "cell_type": "markdown",
      "metadata": {
        "id": "XOq8VAcKE6jV",
        "colab_type": "text"
      },
      "source": [
        "Let's get the full data for Alimosho LGA"
      ]
    },
    {
      "cell_type": "markdown",
      "metadata": {
        "id": "lSkhPURzQake",
        "colab_type": "text"
      },
      "source": [
        "Now, let's get the top 200 venues that are in the first entry within a radius of 15 Kilometers."
      ]
    },
    {
      "cell_type": "code",
      "metadata": {
        "id": "BzlnZyBeQfKb",
        "colab_type": "code",
        "colab": {}
      },
      "source": [
        "radius = 10000 # 10,000 meters is 10KM\n",
        "LIMIT=200\n",
        "\n",
        "url = 'https://api.foursquare.com/v2/venues/explore?&client_id={}&client_secret={}&v={}&ll={},{}&radius={}&limit={}'.format(\n",
        "    CLIENT_ID, \n",
        "    CLIENT_SECRET, \n",
        "    VERSION, \n",
        "    alimosho_data.latitude[0], \n",
        "    alimosho_data.longitude[0], \n",
        "    radius, \n",
        "    LIMIT)"
      ],
      "execution_count": 0,
      "outputs": []
    },
    {
      "cell_type": "markdown",
      "metadata": {
        "id": "U8a-qiJFRE8I",
        "colab_type": "text"
      },
      "source": [
        "let's Send the GET request and examine the resutls"
      ]
    },
    {
      "cell_type": "code",
      "metadata": {
        "id": "pHOQ6r9JRHPs",
        "colab_type": "code",
        "outputId": "d4530609-7ef2-4f6a-b4fc-d53b3c3aec53",
        "colab": {
          "base_uri": "https://localhost:8080/",
          "height": 34
        }
      },
      "source": [
        "result = requests.get(url).json()\n",
        "\n",
        "result.keys()"
      ],
      "execution_count": 181,
      "outputs": [
        {
          "output_type": "execute_result",
          "data": {
            "text/plain": [
              "dict_keys(['meta', 'response'])"
            ]
          },
          "metadata": {
            "tags": []
          },
          "execution_count": 181
        }
      ]
    },
    {
      "cell_type": "code",
      "metadata": {
        "id": "fy95KtXvRSh1",
        "colab_type": "code",
        "colab": {}
      },
      "source": [
        "# show the result\n",
        "# result"
      ],
      "execution_count": 0,
      "outputs": []
    },
    {
      "cell_type": "markdown",
      "metadata": {
        "id": "Ivyyc6dTR0ty",
        "colab_type": "text"
      },
      "source": [
        "Let's define a function that extracts the category of the venue"
      ]
    },
    {
      "cell_type": "markdown",
      "metadata": {
        "id": "ldqGNQujCT3T",
        "colab_type": "text"
      },
      "source": [
        "Let's save only the venues from result in a variable called venues"
      ]
    },
    {
      "cell_type": "code",
      "metadata": {
        "id": "w2fsDpmiSUG7",
        "colab_type": "code",
        "outputId": "719f353d-9fa0-42b9-f839-a6a727c085a6",
        "colab": {
          "base_uri": "https://localhost:8080/",
          "height": 34
        }
      },
      "source": [
        "venues = result['response']['groups'][0]['items']\n",
        "len(venues)\n",
        "\n",
        "# This tells us 88 venues are returned in a 10 Kilometer radius of Alimosho LGA"
      ],
      "execution_count": 183,
      "outputs": [
        {
          "output_type": "execute_result",
          "data": {
            "text/plain": [
              "86"
            ]
          },
          "metadata": {
            "tags": []
          },
          "execution_count": 183
        }
      ]
    },
    {
      "cell_type": "markdown",
      "metadata": {
        "id": "kWRrHXn9ByJ6",
        "colab_type": "text"
      },
      "source": [
        "Next, lets convert the result of nearby venues returned into a DataFrame"
      ]
    },
    {
      "cell_type": "code",
      "metadata": {
        "id": "_CxoOEbMB6S3",
        "colab_type": "code",
        "outputId": "c5f6385d-8c12-4784-d947-d587020c2118",
        "colab": {
          "base_uri": "https://localhost:8080/",
          "height": 467
        }
      },
      "source": [
        "nearby_venues = json_normalize(venues)\n",
        "nearby_venues.head()"
      ],
      "execution_count": 184,
      "outputs": [
        {
          "output_type": "execute_result",
          "data": {
            "text/html": [
              "<div>\n",
              "<style scoped>\n",
              "    .dataframe tbody tr th:only-of-type {\n",
              "        vertical-align: middle;\n",
              "    }\n",
              "\n",
              "    .dataframe tbody tr th {\n",
              "        vertical-align: top;\n",
              "    }\n",
              "\n",
              "    .dataframe thead th {\n",
              "        text-align: right;\n",
              "    }\n",
              "</style>\n",
              "<table border=\"1\" class=\"dataframe\">\n",
              "  <thead>\n",
              "    <tr style=\"text-align: right;\">\n",
              "      <th></th>\n",
              "      <th>reasons.count</th>\n",
              "      <th>reasons.items</th>\n",
              "      <th>referralId</th>\n",
              "      <th>venue.categories</th>\n",
              "      <th>venue.id</th>\n",
              "      <th>venue.location.address</th>\n",
              "      <th>venue.location.cc</th>\n",
              "      <th>venue.location.city</th>\n",
              "      <th>venue.location.country</th>\n",
              "      <th>venue.location.crossStreet</th>\n",
              "      <th>venue.location.distance</th>\n",
              "      <th>venue.location.formattedAddress</th>\n",
              "      <th>venue.location.labeledLatLngs</th>\n",
              "      <th>venue.location.lat</th>\n",
              "      <th>venue.location.lng</th>\n",
              "      <th>venue.location.neighborhood</th>\n",
              "      <th>venue.location.postalCode</th>\n",
              "      <th>venue.location.state</th>\n",
              "      <th>venue.name</th>\n",
              "      <th>venue.photos.count</th>\n",
              "      <th>venue.photos.groups</th>\n",
              "      <th>venue.venuePage.id</th>\n",
              "    </tr>\n",
              "  </thead>\n",
              "  <tbody>\n",
              "    <tr>\n",
              "      <th>0</th>\n",
              "      <td>0</td>\n",
              "      <td>[{'summary': 'This spot is popular', 'type': '...</td>\n",
              "      <td>e-0-4e261fce315161d79d2a8fa5-0</td>\n",
              "      <td>[{'id': '4bf58dd8d48988d1ca941735', 'name': 'P...</td>\n",
              "      <td>4e261fce315161d79d2a8fa5</td>\n",
              "      <td>federal junction beside mr biggs gowon estate ...</td>\n",
              "      <td>NG</td>\n",
              "      <td>Lagos</td>\n",
              "      <td>Nigeria</td>\n",
              "      <td>NaN</td>\n",
              "      <td>2111</td>\n",
              "      <td>[federal junction beside mr biggs gowon estate...</td>\n",
              "      <td>[{'label': 'display', 'lat': 6.604608729562348...</td>\n",
              "      <td>6.604609</td>\n",
              "      <td>3.277413</td>\n",
              "      <td>NaN</td>\n",
              "      <td>+234</td>\n",
              "      <td>Lagos</td>\n",
              "      <td>SHAWARMA.COME</td>\n",
              "      <td>0</td>\n",
              "      <td>[]</td>\n",
              "      <td>NaN</td>\n",
              "    </tr>\n",
              "    <tr>\n",
              "      <th>1</th>\n",
              "      <td>0</td>\n",
              "      <td>[{'summary': 'This spot is popular', 'type': '...</td>\n",
              "      <td>e-0-4f75a8e7e4b06c81e0e3ba05-1</td>\n",
              "      <td>[{'id': '4bf58dd8d48988d1c4941735', 'name': 'R...</td>\n",
              "      <td>4f75a8e7e4b06c81e0e3ba05</td>\n",
              "      <td>NaN</td>\n",
              "      <td>NG</td>\n",
              "      <td>Lagos</td>\n",
              "      <td>Nigeria</td>\n",
              "      <td>NaN</td>\n",
              "      <td>5168</td>\n",
              "      <td>[Lagos, Lagos, Nigeria]</td>\n",
              "      <td>[{'label': 'display', 'lat': 6.576022675981682...</td>\n",
              "      <td>6.576023</td>\n",
              "      <td>3.325612</td>\n",
              "      <td>NaN</td>\n",
              "      <td>NaN</td>\n",
              "      <td>Lagos</td>\n",
              "      <td>Wings Restaurant</td>\n",
              "      <td>0</td>\n",
              "      <td>[]</td>\n",
              "      <td>NaN</td>\n",
              "    </tr>\n",
              "    <tr>\n",
              "      <th>2</th>\n",
              "      <td>0</td>\n",
              "      <td>[{'summary': 'This spot is popular', 'type': '...</td>\n",
              "      <td>e-0-4ecbf689b6346e2d3a4dead5-2</td>\n",
              "      <td>[{'id': '4bf58dd8d48988d16c941735', 'name': 'B...</td>\n",
              "      <td>4ecbf689b6346e2d3a4dead5</td>\n",
              "      <td>Abule Egba</td>\n",
              "      <td>NG</td>\n",
              "      <td>Lagos</td>\n",
              "      <td>Nigeria</td>\n",
              "      <td>NaN</td>\n",
              "      <td>5348</td>\n",
              "      <td>[Abule Egba, Lagos, Lagos, Nigeria]</td>\n",
              "      <td>[{'label': 'display', 'lat': 6.649299147190656...</td>\n",
              "      <td>6.649299</td>\n",
              "      <td>3.265609</td>\n",
              "      <td>NaN</td>\n",
              "      <td>NaN</td>\n",
              "      <td>Lagos</td>\n",
              "      <td>Tantalisers</td>\n",
              "      <td>0</td>\n",
              "      <td>[]</td>\n",
              "      <td>NaN</td>\n",
              "    </tr>\n",
              "    <tr>\n",
              "      <th>3</th>\n",
              "      <td>0</td>\n",
              "      <td>[{'summary': 'This spot is popular', 'type': '...</td>\n",
              "      <td>e-0-4e8f081c77c843122cdaa1ad-3</td>\n",
              "      <td>[{'id': '4bf58dd8d48988d104951735', 'name': 'B...</td>\n",
              "      <td>4e8f081c77c843122cdaa1ad</td>\n",
              "      <td>117, Akowonjo Road</td>\n",
              "      <td>NG</td>\n",
              "      <td>Egbeda-Akowonjo</td>\n",
              "      <td>Nigeria</td>\n",
              "      <td>Jimoh Bus Stop</td>\n",
              "      <td>1289</td>\n",
              "      <td>[117, Akowonjo Road (Jimoh Bus Stop), Egbeda-A...</td>\n",
              "      <td>[{'label': 'display', 'lat': 6.601810454245876...</td>\n",
              "      <td>6.601810</td>\n",
              "      <td>3.301896</td>\n",
              "      <td>NaN</td>\n",
              "      <td>NaN</td>\n",
              "      <td>Lagos</td>\n",
              "      <td>Pink Ice Boutique</td>\n",
              "      <td>0</td>\n",
              "      <td>[]</td>\n",
              "      <td>NaN</td>\n",
              "    </tr>\n",
              "    <tr>\n",
              "      <th>4</th>\n",
              "      <td>0</td>\n",
              "      <td>[{'summary': 'This spot is popular', 'type': '...</td>\n",
              "      <td>e-0-5205f22911d2055531e5599b-4</td>\n",
              "      <td>[{'id': '4f4528bc4b90abdf24c9de85', 'name': 'A...</td>\n",
              "      <td>5205f22911d2055531e5599b</td>\n",
              "      <td>NaN</td>\n",
              "      <td>NG</td>\n",
              "      <td>Lagos</td>\n",
              "      <td>Nigeria</td>\n",
              "      <td>NaN</td>\n",
              "      <td>2216</td>\n",
              "      <td>[Lagos, Lagos, Nigeria]</td>\n",
              "      <td>[{'label': 'display', 'lat': 6.59356167915684,...</td>\n",
              "      <td>6.593562</td>\n",
              "      <td>3.304300</td>\n",
              "      <td>NaN</td>\n",
              "      <td>NaN</td>\n",
              "      <td>Lagos</td>\n",
              "      <td>National Stadium, Surulere</td>\n",
              "      <td>0</td>\n",
              "      <td>[]</td>\n",
              "      <td>NaN</td>\n",
              "    </tr>\n",
              "  </tbody>\n",
              "</table>\n",
              "</div>"
            ],
            "text/plain": [
              "   reasons.count  ... venue.venuePage.id\n",
              "0              0  ...                NaN\n",
              "1              0  ...                NaN\n",
              "2              0  ...                NaN\n",
              "3              0  ...                NaN\n",
              "4              0  ...                NaN\n",
              "\n",
              "[5 rows x 22 columns]"
            ]
          },
          "metadata": {
            "tags": []
          },
          "execution_count": 184
        }
      ]
    },
    {
      "cell_type": "markdown",
      "metadata": {
        "id": "Wdoii5b7ms17",
        "colab_type": "text"
      },
      "source": [
        "Okay let's now filter the venue DataFrame and select only the volumns needed "
      ]
    },
    {
      "cell_type": "code",
      "metadata": {
        "id": "RXVe8mW0mImM",
        "colab_type": "code",
        "outputId": "be3865f9-f237-49ab-b63c-8bad7118d464",
        "colab": {
          "base_uri": "https://localhost:8080/",
          "height": 195
        }
      },
      "source": [
        "# filter columns\n",
        "filtered_columns = ['venue.name', 'venue.categories', 'venue.location.lat', 'venue.location.lng', 'venue.location.distance', 'venue.id']\n",
        "nearby_venues =nearby_venues.loc[:, filtered_columns]\n",
        "\n",
        "nearby_venues.head()"
      ],
      "execution_count": 185,
      "outputs": [
        {
          "output_type": "execute_result",
          "data": {
            "text/html": [
              "<div>\n",
              "<style scoped>\n",
              "    .dataframe tbody tr th:only-of-type {\n",
              "        vertical-align: middle;\n",
              "    }\n",
              "\n",
              "    .dataframe tbody tr th {\n",
              "        vertical-align: top;\n",
              "    }\n",
              "\n",
              "    .dataframe thead th {\n",
              "        text-align: right;\n",
              "    }\n",
              "</style>\n",
              "<table border=\"1\" class=\"dataframe\">\n",
              "  <thead>\n",
              "    <tr style=\"text-align: right;\">\n",
              "      <th></th>\n",
              "      <th>venue.name</th>\n",
              "      <th>venue.categories</th>\n",
              "      <th>venue.location.lat</th>\n",
              "      <th>venue.location.lng</th>\n",
              "      <th>venue.location.distance</th>\n",
              "      <th>venue.id</th>\n",
              "    </tr>\n",
              "  </thead>\n",
              "  <tbody>\n",
              "    <tr>\n",
              "      <th>0</th>\n",
              "      <td>SHAWARMA.COME</td>\n",
              "      <td>[{'id': '4bf58dd8d48988d1ca941735', 'name': 'P...</td>\n",
              "      <td>6.604609</td>\n",
              "      <td>3.277413</td>\n",
              "      <td>2111</td>\n",
              "      <td>4e261fce315161d79d2a8fa5</td>\n",
              "    </tr>\n",
              "    <tr>\n",
              "      <th>1</th>\n",
              "      <td>Wings Restaurant</td>\n",
              "      <td>[{'id': '4bf58dd8d48988d1c4941735', 'name': 'R...</td>\n",
              "      <td>6.576023</td>\n",
              "      <td>3.325612</td>\n",
              "      <td>5168</td>\n",
              "      <td>4f75a8e7e4b06c81e0e3ba05</td>\n",
              "    </tr>\n",
              "    <tr>\n",
              "      <th>2</th>\n",
              "      <td>Tantalisers</td>\n",
              "      <td>[{'id': '4bf58dd8d48988d16c941735', 'name': 'B...</td>\n",
              "      <td>6.649299</td>\n",
              "      <td>3.265609</td>\n",
              "      <td>5348</td>\n",
              "      <td>4ecbf689b6346e2d3a4dead5</td>\n",
              "    </tr>\n",
              "    <tr>\n",
              "      <th>3</th>\n",
              "      <td>Pink Ice Boutique</td>\n",
              "      <td>[{'id': '4bf58dd8d48988d104951735', 'name': 'B...</td>\n",
              "      <td>6.601810</td>\n",
              "      <td>3.301896</td>\n",
              "      <td>1289</td>\n",
              "      <td>4e8f081c77c843122cdaa1ad</td>\n",
              "    </tr>\n",
              "    <tr>\n",
              "      <th>4</th>\n",
              "      <td>National Stadium, Surulere</td>\n",
              "      <td>[{'id': '4f4528bc4b90abdf24c9de85', 'name': 'A...</td>\n",
              "      <td>6.593562</td>\n",
              "      <td>3.304300</td>\n",
              "      <td>2216</td>\n",
              "      <td>5205f22911d2055531e5599b</td>\n",
              "    </tr>\n",
              "  </tbody>\n",
              "</table>\n",
              "</div>"
            ],
            "text/plain": [
              "                   venue.name  ...                  venue.id\n",
              "0               SHAWARMA.COME  ...  4e261fce315161d79d2a8fa5\n",
              "1            Wings Restaurant  ...  4f75a8e7e4b06c81e0e3ba05\n",
              "2                 Tantalisers  ...  4ecbf689b6346e2d3a4dead5\n",
              "3           Pink Ice Boutique  ...  4e8f081c77c843122cdaa1ad\n",
              "4  National Stadium, Surulere  ...  5205f22911d2055531e5599b\n",
              "\n",
              "[5 rows x 6 columns]"
            ]
          },
          "metadata": {
            "tags": []
          },
          "execution_count": 185
        }
      ]
    },
    {
      "cell_type": "markdown",
      "metadata": {
        "id": "QQMuqBLlpr8D",
        "colab_type": "text"
      },
      "source": [
        "We can see that the categories column is not well formatted. Let's clean it out.<br>\n",
        "First let's inspect it closer"
      ]
    },
    {
      "cell_type": "code",
      "metadata": {
        "id": "UrAZ9DBUp3ZC",
        "colab_type": "code",
        "outputId": "d02ffbf0-8287-40cb-dff5-1ad3ea16ab15",
        "colab": {
          "base_uri": "https://localhost:8080/",
          "height": 134
        }
      },
      "source": [
        "nearby_venues['venue.categories'][0]"
      ],
      "execution_count": 186,
      "outputs": [
        {
          "output_type": "execute_result",
          "data": {
            "text/plain": [
              "[{'icon': {'prefix': 'https://ss3.4sqi.net/img/categories_v2/food/pizza_',\n",
              "   'suffix': '.png'},\n",
              "  'id': '4bf58dd8d48988d1ca941735',\n",
              "  'name': 'Pizza Place',\n",
              "  'pluralName': 'Pizza Places',\n",
              "  'primary': True,\n",
              "  'shortName': 'Pizza'}]"
            ]
          },
          "metadata": {
            "tags": []
          },
          "execution_count": 186
        }
      ]
    },
    {
      "cell_type": "markdown",
      "metadata": {
        "id": "cZj8jlwOqJ_n",
        "colab_type": "text"
      },
      "source": [
        "Ok so let;s now define a simple method that returns only the name for each category.<br>\n",
        "Then use the apply method to apply it on each category item in the dataframe\n",
        "                                                            "
      ]
    },
    {
      "cell_type": "code",
      "metadata": {
        "id": "wEp6r3CdoXIu",
        "colab_type": "code",
        "colab": {}
      },
      "source": [
        "def clean_category(x):\n",
        "    x = x[0]['name']\n",
        "    return x"
      ],
      "execution_count": 0,
      "outputs": []
    },
    {
      "cell_type": "markdown",
      "metadata": {
        "id": "N2Nb3oSNqepT",
        "colab_type": "text"
      },
      "source": [
        "Now let's apply it"
      ]
    },
    {
      "cell_type": "code",
      "metadata": {
        "id": "o7qzO6zmpRF2",
        "colab_type": "code",
        "colab": {}
      },
      "source": [
        "nearby_venues['venue.categories'] = nearby_venues['venue.categories'].apply(clean_category)"
      ],
      "execution_count": 0,
      "outputs": []
    },
    {
      "cell_type": "markdown",
      "metadata": {
        "id": "I_DCPW7wqihT",
        "colab_type": "text"
      },
      "source": [
        "Finally let's view the cleaned category column"
      ]
    },
    {
      "cell_type": "code",
      "metadata": {
        "id": "PJVhOY495zFE",
        "colab_type": "code",
        "colab": {
          "base_uri": "https://localhost:8080/",
          "height": 195
        },
        "outputId": "4079cf63-37fd-4207-aef5-aa718ce74ba2"
      },
      "source": [
        "alimosho_venues = nearby_venues\n",
        "\n",
        "alimosho_venues.head()"
      ],
      "execution_count": 189,
      "outputs": [
        {
          "output_type": "execute_result",
          "data": {
            "text/html": [
              "<div>\n",
              "<style scoped>\n",
              "    .dataframe tbody tr th:only-of-type {\n",
              "        vertical-align: middle;\n",
              "    }\n",
              "\n",
              "    .dataframe tbody tr th {\n",
              "        vertical-align: top;\n",
              "    }\n",
              "\n",
              "    .dataframe thead th {\n",
              "        text-align: right;\n",
              "    }\n",
              "</style>\n",
              "<table border=\"1\" class=\"dataframe\">\n",
              "  <thead>\n",
              "    <tr style=\"text-align: right;\">\n",
              "      <th></th>\n",
              "      <th>venue.name</th>\n",
              "      <th>venue.categories</th>\n",
              "      <th>venue.location.lat</th>\n",
              "      <th>venue.location.lng</th>\n",
              "      <th>venue.location.distance</th>\n",
              "      <th>venue.id</th>\n",
              "    </tr>\n",
              "  </thead>\n",
              "  <tbody>\n",
              "    <tr>\n",
              "      <th>0</th>\n",
              "      <td>SHAWARMA.COME</td>\n",
              "      <td>Pizza Place</td>\n",
              "      <td>6.604609</td>\n",
              "      <td>3.277413</td>\n",
              "      <td>2111</td>\n",
              "      <td>4e261fce315161d79d2a8fa5</td>\n",
              "    </tr>\n",
              "    <tr>\n",
              "      <th>1</th>\n",
              "      <td>Wings Restaurant</td>\n",
              "      <td>Restaurant</td>\n",
              "      <td>6.576023</td>\n",
              "      <td>3.325612</td>\n",
              "      <td>5168</td>\n",
              "      <td>4f75a8e7e4b06c81e0e3ba05</td>\n",
              "    </tr>\n",
              "    <tr>\n",
              "      <th>2</th>\n",
              "      <td>Tantalisers</td>\n",
              "      <td>Burger Joint</td>\n",
              "      <td>6.649299</td>\n",
              "      <td>3.265609</td>\n",
              "      <td>5348</td>\n",
              "      <td>4ecbf689b6346e2d3a4dead5</td>\n",
              "    </tr>\n",
              "    <tr>\n",
              "      <th>3</th>\n",
              "      <td>Pink Ice Boutique</td>\n",
              "      <td>Boutique</td>\n",
              "      <td>6.601810</td>\n",
              "      <td>3.301896</td>\n",
              "      <td>1289</td>\n",
              "      <td>4e8f081c77c843122cdaa1ad</td>\n",
              "    </tr>\n",
              "    <tr>\n",
              "      <th>4</th>\n",
              "      <td>National Stadium, Surulere</td>\n",
              "      <td>Athletics &amp; Sports</td>\n",
              "      <td>6.593562</td>\n",
              "      <td>3.304300</td>\n",
              "      <td>2216</td>\n",
              "      <td>5205f22911d2055531e5599b</td>\n",
              "    </tr>\n",
              "  </tbody>\n",
              "</table>\n",
              "</div>"
            ],
            "text/plain": [
              "                   venue.name  ...                  venue.id\n",
              "0               SHAWARMA.COME  ...  4e261fce315161d79d2a8fa5\n",
              "1            Wings Restaurant  ...  4f75a8e7e4b06c81e0e3ba05\n",
              "2                 Tantalisers  ...  4ecbf689b6346e2d3a4dead5\n",
              "3           Pink Ice Boutique  ...  4e8f081c77c843122cdaa1ad\n",
              "4  National Stadium, Surulere  ...  5205f22911d2055531e5599b\n",
              "\n",
              "[5 rows x 6 columns]"
            ]
          },
          "metadata": {
            "tags": []
          },
          "execution_count": 189
        }
      ]
    },
    {
      "cell_type": "markdown",
      "metadata": {
        "id": "fYtIW4-_pBAo",
        "colab_type": "text"
      },
      "source": [
        "Lets see the different types of venues present"
      ]
    },
    {
      "cell_type": "code",
      "metadata": {
        "id": "uxrHYnrJpHkj",
        "colab_type": "code",
        "outputId": "650d4d70-53c0-4d80-b2f4-177e959ad01e",
        "colab": {
          "base_uri": "https://localhost:8080/",
          "height": 202
        }
      },
      "source": [
        "alimosho_cat_count = alimosho_venues.groupby('venue.categories').size().to_frame()\n",
        "\n",
        "# Let's see the categories of venues present in the alimosho LGA\n",
        "alimosho_cat_count.index"
      ],
      "execution_count": 190,
      "outputs": [
        {
          "output_type": "execute_result",
          "data": {
            "text/plain": [
              "Index(['African Restaurant', 'Airport', 'Airport Lounge',\n",
              "       'American Restaurant', 'Athletics & Sports', 'BBQ Joint', 'Bakery',\n",
              "       'Bar', 'Beer Garden', 'Boutique', 'Burger Joint', 'Café', 'Campground',\n",
              "       'Chinese Restaurant', 'Clothing Store', 'Coffee Shop',\n",
              "       'Convenience Store', 'Department Store', 'Electronics Store',\n",
              "       'Farmers Market', 'Fast Food Restaurant', 'Fried Chicken Joint',\n",
              "       'Heliport', 'Hotel', 'Ice Cream Shop', 'Lounge', 'Market', 'Multiplex',\n",
              "       'Nightclub', 'Park', 'Performing Arts Venue', 'Pizza Place', 'Pool',\n",
              "       'Restaurant', 'Seafood Restaurant', 'Shopping Mall', 'Soup Place',\n",
              "       'Spa', 'Steakhouse', 'Wine Shop'],\n",
              "      dtype='object', name='venue.categories')"
            ]
          },
          "metadata": {
            "tags": []
          },
          "execution_count": 190
        }
      ]
    },
    {
      "cell_type": "markdown",
      "metadata": {
        "id": "HYTrN7C26EBP",
        "colab_type": "text"
      },
      "source": [
        "<h3>Next let's encapsulate all these steps into a single method that we can call</h3>"
      ]
    },
    {
      "cell_type": "markdown",
      "metadata": {
        "id": "ABkhsHFy673f",
        "colab_type": "text"
      },
      "source": [
        "First let's define a method for plotting each map"
      ]
    },
    {
      "cell_type": "markdown",
      "metadata": {
        "id": "odg7dE_r_sTD",
        "colab_type": "text"
      },
      "source": [
        "Let's create a copy of the original lagos_df so that we can make the LGA its index"
      ]
    },
    {
      "cell_type": "code",
      "metadata": {
        "id": "xJW3o79-_31G",
        "colab_type": "code",
        "colab": {
          "base_uri": "https://localhost:8080/",
          "height": 225
        },
        "outputId": "c438b5f1-998c-4881-b2e9-c75269286ff3"
      },
      "source": [
        "# First let's make a copy of the lagos_df\n",
        "copy_lagos_df = lagos_df.copy(deep=True)\n",
        "\n",
        "# Then let's make LGAs the indes\n",
        "copy_lagos_df.index = copy_lagos_df.LGA\n",
        "\n",
        "# Let's drop the LGA Column\n",
        "copy_lagos_df = copy_lagos_df.drop('LGA', axis=1)\n",
        "\n",
        "# Lets view the effect\n",
        "copy_lagos_df.head()"
      ],
      "execution_count": 191,
      "outputs": [
        {
          "output_type": "execute_result",
          "data": {
            "text/html": [
              "<div>\n",
              "<style scoped>\n",
              "    .dataframe tbody tr th:only-of-type {\n",
              "        vertical-align: middle;\n",
              "    }\n",
              "\n",
              "    .dataframe tbody tr th {\n",
              "        vertical-align: top;\n",
              "    }\n",
              "\n",
              "    .dataframe thead th {\n",
              "        text-align: right;\n",
              "    }\n",
              "</style>\n",
              "<table border=\"1\" class=\"dataframe\">\n",
              "  <thead>\n",
              "    <tr style=\"text-align: right;\">\n",
              "      <th></th>\n",
              "      <th>POP</th>\n",
              "      <th>latitude</th>\n",
              "      <th>longitude</th>\n",
              "    </tr>\n",
              "    <tr>\n",
              "      <th>LGA</th>\n",
              "      <th></th>\n",
              "      <th></th>\n",
              "      <th></th>\n",
              "    </tr>\n",
              "  </thead>\n",
              "  <tbody>\n",
              "    <tr>\n",
              "      <th>Alimosho</th>\n",
              "      <td>5700714</td>\n",
              "      <td>6.61134</td>\n",
              "      <td>3.295263</td>\n",
              "    </tr>\n",
              "    <tr>\n",
              "      <th>Ajeromi-Ifelodun</th>\n",
              "      <td>1746634</td>\n",
              "      <td>6.45512</td>\n",
              "      <td>3.335946</td>\n",
              "    </tr>\n",
              "    <tr>\n",
              "      <th>Kosofe</th>\n",
              "      <td>665998</td>\n",
              "      <td>6.58197</td>\n",
              "      <td>3.414836</td>\n",
              "    </tr>\n",
              "    <tr>\n",
              "      <th>Mushin, Lagos</th>\n",
              "      <td>633543</td>\n",
              "      <td>6.53263</td>\n",
              "      <td>3.352022</td>\n",
              "    </tr>\n",
              "    <tr>\n",
              "      <th>Oshodi-Isolo</th>\n",
              "      <td>621789</td>\n",
              "      <td>6.54001</td>\n",
              "      <td>3.312415</td>\n",
              "    </tr>\n",
              "  </tbody>\n",
              "</table>\n",
              "</div>"
            ],
            "text/plain": [
              "                      POP latitude  longitude\n",
              "LGA                                          \n",
              "Alimosho          5700714  6.61134   3.295263\n",
              "Ajeromi-Ifelodun  1746634  6.45512   3.335946\n",
              "Kosofe             665998  6.58197   3.414836\n",
              "Mushin, Lagos      633543  6.53263   3.352022\n",
              "Oshodi-Isolo       621789  6.54001   3.312415"
            ]
          },
          "metadata": {
            "tags": []
          },
          "execution_count": 191
        }
      ]
    },
    {
      "cell_type": "code",
      "metadata": {
        "id": "lKUnyNhM6sR4",
        "colab_type": "code",
        "colab": {}
      },
      "source": [
        "def plot_map(lga):\n",
        "    \"\"\" This method takes an LGA name and\n",
        "    returns a plotted map of it based on lat and lon\"\"\"\n",
        "    lat = copy_lagos_df.loc[lga, 'latitude']\n",
        "    lon = copy_lagos_df.loc[lga, 'longitude']\n",
        "    \n",
        "    # create map of Alimosho using latitude and longitude values\n",
        "    map_lga = folium.Map(location=[lat, lon], zoom_start=14)\n",
        "\n",
        "    # add markers to map\n",
        "\n",
        "    label = \"{}\".format(lga)\n",
        "    label = folium.Popup(label, parse_html=True)\n",
        "    folium.CircleMarker(\n",
        "        [lat, lon],\n",
        "        radius=10,\n",
        "        popup=label,\n",
        "        color='blue',\n",
        "        fill=True,\n",
        "        fill_color='#3186cc',\n",
        "        fill_opacity=0.8,\n",
        "        parse_html=False).add_to(map_lga)  \n",
        "    return map_lga"
      ],
      "execution_count": 0,
      "outputs": []
    },
    {
      "cell_type": "markdown",
      "metadata": {
        "id": "RtnXsY6hDS4d",
        "colab_type": "text"
      },
      "source": [
        "Next let's define a method that returns a filtered out version of 200 popular venues within 10KM radius of the LGA"
      ]
    },
    {
      "cell_type": "code",
      "metadata": {
        "id": "G1cZ-FIzDdZW",
        "colab_type": "code",
        "colab": {}
      },
      "source": [
        "def return_venues(lga):\n",
        "    \n",
        "    # let's save the latitude and longitude values\n",
        "    lat = copy_lagos_df.loc[lga, 'latitude']\n",
        "    lon = copy_lagos_df.loc[lga, 'longitude']\n",
        "    \n",
        "    # First lets save the foursquare credentials\n",
        "    CLIENT_ID = 'L2XUYCRD44VP2YBDMZ3XY0Z4XKO1JODM5SMG3IIYRZ5330FD' # your Foursquare ID\n",
        "    CLIENT_SECRET = '5KI00FG4RT2VJQTIDPXFY1N4AOKTIXLIZEAO0AHPP3DPD0U1' # your Foursquare Secret\n",
        "    VERSION = '20190902'\n",
        "    LIMIT = 50\n",
        "#     print('Your credentials:')\n",
        "#     print('CLIENT_ID: ' + CLIENT_ID)\n",
        "#     print('CLIENT_SECRET:' + CLIENT_SECRET)\n",
        "    \n",
        "    # Now, let's get the top 200 venues that are in the first entry within a radius of 15 Kilometers.\n",
        "    radius = 10000 # 10,000 meters is 10KM\n",
        "    LIMIT=200  # no mire than 200 venues\n",
        "    url = 'https://api.foursquare.com/v2/venues/explore?&client_id={}&client_secret={}&v={}&ll={},{}&radius={}&limit={}'.format(\n",
        "        CLIENT_ID, \n",
        "        CLIENT_SECRET, \n",
        "        VERSION, \n",
        "        lat, \n",
        "        lon, \n",
        "        radius, \n",
        "        LIMIT)\n",
        "    \n",
        "    # Let's filter out the result\n",
        "    result = requests.get(url).json()\n",
        "    \n",
        "    # From the result, lets get the venues\n",
        "    venues = result['response']['groups'][0]['items']\n",
        "    \n",
        "    # Lets convert the json files to dataframe\n",
        "    nearby_venues = json_normalize(venues)\n",
        "    \n",
        "    # Let's filter the venues and select only columns needed\n",
        "    filtered_columns = ['venue.name', 'venue.categories', 'venue.location.lat', 'venue.location.lng', 'venue.location.distance', 'venue.id']\n",
        "    nearby_venues = nearby_venues.loc[:, filtered_columns]\n",
        "    \n",
        "    # Next lets use the clean_category method to clean out category column\n",
        "    nearby_venues['venue.categories'] = nearby_venues['venue.categories'].apply(clean_category)\n",
        "\n",
        "    \n",
        "    return nearby_venues\n",
        "\n",
        "    \n"
      ],
      "execution_count": 0,
      "outputs": []
    },
    {
      "cell_type": "markdown",
      "metadata": {
        "id": "tzLCKiN1IxID",
        "colab_type": "text"
      },
      "source": [
        "Let's see the number of venues returned for the second LGA and the first 5 venues"
      ]
    },
    {
      "cell_type": "code",
      "metadata": {
        "id": "mwEx_ncjJu-o",
        "colab_type": "code",
        "colab": {
          "base_uri": "https://localhost:8080/",
          "height": 34
        },
        "outputId": "600d1bd5-7e81-447e-8d44-340ab856627c"
      },
      "source": [
        "# first let's confirm the name\n",
        "copy_lagos_df.index[1]"
      ],
      "execution_count": 194,
      "outputs": [
        {
          "output_type": "execute_result",
          "data": {
            "text/plain": [
              "'Ajeromi-Ifelodun'"
            ]
          },
          "metadata": {
            "tags": []
          },
          "execution_count": 194
        }
      ]
    },
    {
      "cell_type": "code",
      "metadata": {
        "id": "qu3FGwIOG1gE",
        "colab_type": "code",
        "colab": {
          "base_uri": "https://localhost:8080/",
          "height": 212
        },
        "outputId": "8f6fd1a2-bd2e-4864-aa66-467bdc2bee7f"
      },
      "source": [
        "Ajeromi_lga_venues = return_venues(copy_lagos_df.index[1])\n",
        "\n",
        "print('Total number of venues returned is {}'.format(len(Ajeromi_lga_venues)))\n",
        "\n",
        "Ajeromi_lga_venues.head()\n"
      ],
      "execution_count": 195,
      "outputs": [
        {
          "output_type": "stream",
          "text": [
            "Total number of venues returned is 61\n"
          ],
          "name": "stdout"
        },
        {
          "output_type": "execute_result",
          "data": {
            "text/html": [
              "<div>\n",
              "<style scoped>\n",
              "    .dataframe tbody tr th:only-of-type {\n",
              "        vertical-align: middle;\n",
              "    }\n",
              "\n",
              "    .dataframe tbody tr th {\n",
              "        vertical-align: top;\n",
              "    }\n",
              "\n",
              "    .dataframe thead th {\n",
              "        text-align: right;\n",
              "    }\n",
              "</style>\n",
              "<table border=\"1\" class=\"dataframe\">\n",
              "  <thead>\n",
              "    <tr style=\"text-align: right;\">\n",
              "      <th></th>\n",
              "      <th>venue.name</th>\n",
              "      <th>venue.categories</th>\n",
              "      <th>venue.location.lat</th>\n",
              "      <th>venue.location.lng</th>\n",
              "      <th>venue.location.distance</th>\n",
              "      <th>venue.id</th>\n",
              "    </tr>\n",
              "  </thead>\n",
              "  <tbody>\n",
              "    <tr>\n",
              "      <th>0</th>\n",
              "      <td>Rockview Hotel</td>\n",
              "      <td>Hotel</td>\n",
              "      <td>6.448105</td>\n",
              "      <td>3.360831</td>\n",
              "      <td>2861</td>\n",
              "      <td>4e1cbebe7d8b8fe8c30af7b0</td>\n",
              "    </tr>\n",
              "    <tr>\n",
              "      <th>1</th>\n",
              "      <td>Film House Cinema</td>\n",
              "      <td>Multiplex</td>\n",
              "      <td>6.490242</td>\n",
              "      <td>3.357371</td>\n",
              "      <td>4571</td>\n",
              "      <td>50ccbc9ce4b0d07024dd14f4</td>\n",
              "    </tr>\n",
              "    <tr>\n",
              "      <th>2</th>\n",
              "      <td>tank and tummy festac</td>\n",
              "      <td>Fast Food Restaurant</td>\n",
              "      <td>6.477172</td>\n",
              "      <td>3.332893</td>\n",
              "      <td>2477</td>\n",
              "      <td>4d4ea5e9ae4e60fce52c02a2</td>\n",
              "    </tr>\n",
              "    <tr>\n",
              "      <th>3</th>\n",
              "      <td>Mega Chicken Chinese Restaurant</td>\n",
              "      <td>Chinese Restaurant</td>\n",
              "      <td>6.471061</td>\n",
              "      <td>3.312721</td>\n",
              "      <td>3122</td>\n",
              "      <td>54ce24ae498e6f49a707f987</td>\n",
              "    </tr>\n",
              "    <tr>\n",
              "      <th>4</th>\n",
              "      <td>Apapa Shopping Mall</td>\n",
              "      <td>Shopping Mall</td>\n",
              "      <td>6.447551</td>\n",
              "      <td>3.365189</td>\n",
              "      <td>3342</td>\n",
              "      <td>5505878c498eb6579786bfd7</td>\n",
              "    </tr>\n",
              "  </tbody>\n",
              "</table>\n",
              "</div>"
            ],
            "text/plain": [
              "                        venue.name  ...                  venue.id\n",
              "0                   Rockview Hotel  ...  4e1cbebe7d8b8fe8c30af7b0\n",
              "1                Film House Cinema  ...  50ccbc9ce4b0d07024dd14f4\n",
              "2            tank and tummy festac  ...  4d4ea5e9ae4e60fce52c02a2\n",
              "3  Mega Chicken Chinese Restaurant  ...  54ce24ae498e6f49a707f987\n",
              "4              Apapa Shopping Mall  ...  5505878c498eb6579786bfd7\n",
              "\n",
              "[5 rows x 6 columns]"
            ]
          },
          "metadata": {
            "tags": []
          },
          "execution_count": 195
        }
      ]
    },
    {
      "cell_type": "markdown",
      "metadata": {
        "id": "a4GBvlH_K4fL",
        "colab_type": "text"
      },
      "source": [
        "Let's plot the map of 'Ajeromi-LgA'"
      ]
    },
    {
      "cell_type": "code",
      "metadata": {
        "id": "zCTGZ8ejLBmc",
        "colab_type": "code",
        "colab": {
          "base_uri": "https://localhost:8080/",
          "height": 858
        },
        "outputId": "8cf4d7eb-477f-49a9-cc8f-916b3f3f2a0f"
      },
      "source": [
        "plot_map('Ajeromi-Ifelodun')"
      ],
      "execution_count": 196,
      "outputs": [
        {
          "output_type": "execute_result",
          "data": {
            "text/html": [
              "<div style=\"width:100%;\"><div style=\"position:relative;width:100%;height:0;padding-bottom:60%;\"><iframe src=\"data:text/html;charset=utf-8;base64,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\" style=\"position:absolute;width:100%;height:100%;left:0;top:0;border:none !important;\" allowfullscreen webkitallowfullscreen mozallowfullscreen></iframe></div></div>"
            ],
            "text/plain": [
              "<folium.folium.Map at 0x7f67d2b95358>"
            ]
          },
          "metadata": {
            "tags": []
          },
          "execution_count": 196
        }
      ]
    },
    {
      "cell_type": "markdown",
      "metadata": {
        "id": "u1PK6dwUJoEo",
        "colab_type": "text"
      },
      "source": [
        "Next let's see the number of venues returned for the third LGA and the first 5 venues"
      ]
    },
    {
      "cell_type": "code",
      "metadata": {
        "id": "viR1nSvXG1d0",
        "colab_type": "code",
        "colab": {
          "base_uri": "https://localhost:8080/",
          "height": 34
        },
        "outputId": "74ca526c-f210-42da-9f96-04548d4e7eec"
      },
      "source": [
        "# First let's confirm the name\n",
        "copy_lagos_df.index[2]"
      ],
      "execution_count": 197,
      "outputs": [
        {
          "output_type": "execute_result",
          "data": {
            "text/plain": [
              "'Kosofe'"
            ]
          },
          "metadata": {
            "tags": []
          },
          "execution_count": 197
        }
      ]
    },
    {
      "cell_type": "code",
      "metadata": {
        "id": "uxGxE8KkKPMu",
        "colab_type": "code",
        "colab": {
          "base_uri": "https://localhost:8080/",
          "height": 212
        },
        "outputId": "212b45ad-eb12-49a7-a758-444907af1555"
      },
      "source": [
        "Kosofe_lga_venues = return_venues(copy_lagos_df.index[2])\n",
        "\n",
        "print('Total number of venues returned is {}'.format(len(Kosofe_lga_venues)))\n",
        "\n",
        "Kosofe_lga_venues.head()"
      ],
      "execution_count": 198,
      "outputs": [
        {
          "output_type": "stream",
          "text": [
            "Total number of venues returned is 78\n"
          ],
          "name": "stdout"
        },
        {
          "output_type": "execute_result",
          "data": {
            "text/html": [
              "<div>\n",
              "<style scoped>\n",
              "    .dataframe tbody tr th:only-of-type {\n",
              "        vertical-align: middle;\n",
              "    }\n",
              "\n",
              "    .dataframe tbody tr th {\n",
              "        vertical-align: top;\n",
              "    }\n",
              "\n",
              "    .dataframe thead th {\n",
              "        text-align: right;\n",
              "    }\n",
              "</style>\n",
              "<table border=\"1\" class=\"dataframe\">\n",
              "  <thead>\n",
              "    <tr style=\"text-align: right;\">\n",
              "      <th></th>\n",
              "      <th>venue.name</th>\n",
              "      <th>venue.categories</th>\n",
              "      <th>venue.location.lat</th>\n",
              "      <th>venue.location.lng</th>\n",
              "      <th>venue.location.distance</th>\n",
              "      <th>venue.id</th>\n",
              "    </tr>\n",
              "  </thead>\n",
              "  <tbody>\n",
              "    <tr>\n",
              "      <th>0</th>\n",
              "      <td>De Prince Supermarket</td>\n",
              "      <td>Department Store</td>\n",
              "      <td>6.554255</td>\n",
              "      <td>3.388933</td>\n",
              "      <td>4210</td>\n",
              "      <td>4fce4c1ae4b0d4988249ad4a</td>\n",
              "    </tr>\n",
              "    <tr>\n",
              "      <th>1</th>\n",
              "      <td>Mende Suya Spot</td>\n",
              "      <td>BBQ Joint</td>\n",
              "      <td>6.568890</td>\n",
              "      <td>3.371953</td>\n",
              "      <td>4960</td>\n",
              "      <td>4c5af9572091a593d5b160d0</td>\n",
              "    </tr>\n",
              "    <tr>\n",
              "      <th>2</th>\n",
              "      <td>Domino's Pizza</td>\n",
              "      <td>Pizza Place</td>\n",
              "      <td>6.548545</td>\n",
              "      <td>3.388281</td>\n",
              "      <td>4740</td>\n",
              "      <td>552574af498e9338ad7c4479</td>\n",
              "    </tr>\n",
              "    <tr>\n",
              "      <th>3</th>\n",
              "      <td>Village Lounge</td>\n",
              "      <td>Bar</td>\n",
              "      <td>6.565680</td>\n",
              "      <td>3.371683</td>\n",
              "      <td>5105</td>\n",
              "      <td>4e7de58dd3e3294a67c5b155</td>\n",
              "    </tr>\n",
              "    <tr>\n",
              "      <th>4</th>\n",
              "      <td>Zen Garden Chinese Resturant</td>\n",
              "      <td>Chinese Restaurant</td>\n",
              "      <td>6.585504</td>\n",
              "      <td>3.357131</td>\n",
              "      <td>6393</td>\n",
              "      <td>4cbb0b289552b60c6994dd8b</td>\n",
              "    </tr>\n",
              "  </tbody>\n",
              "</table>\n",
              "</div>"
            ],
            "text/plain": [
              "                     venue.name  ...                  venue.id\n",
              "0         De Prince Supermarket  ...  4fce4c1ae4b0d4988249ad4a\n",
              "1               Mende Suya Spot  ...  4c5af9572091a593d5b160d0\n",
              "2                Domino's Pizza  ...  552574af498e9338ad7c4479\n",
              "3                Village Lounge  ...  4e7de58dd3e3294a67c5b155\n",
              "4  Zen Garden Chinese Resturant  ...  4cbb0b289552b60c6994dd8b\n",
              "\n",
              "[5 rows x 6 columns]"
            ]
          },
          "metadata": {
            "tags": []
          },
          "execution_count": 198
        }
      ]
    },
    {
      "cell_type": "markdown",
      "metadata": {
        "id": "Kgl7Jig7Ld3o",
        "colab_type": "text"
      },
      "source": [
        "Now let's plot the map of Kosofe LGA"
      ]
    },
    {
      "cell_type": "code",
      "metadata": {
        "id": "d0HVjqF8LaMZ",
        "colab_type": "code",
        "colab": {
          "base_uri": "https://localhost:8080/",
          "height": 858
        },
        "outputId": "5710964a-d118-4256-cb17-71a1e432c0a0"
      },
      "source": [
        "plot_map('Kosofe')"
      ],
      "execution_count": 199,
      "outputs": [
        {
          "output_type": "execute_result",
          "data": {
            "text/html": [
              "<div style=\"width:100%;\"><div style=\"position:relative;width:100%;height:0;padding-bottom:60%;\"><iframe src=\"data:text/html;charset=utf-8;base64,PCFET0NUWVBFIGh0bWw+CjxoZWFkPiAgICAKICAgIDxtZXRhIGh0dHAtZXF1aXY9ImNvbnRlbnQtdHlwZSIgY29udGVudD0idGV4dC9odG1sOyBjaGFyc2V0PVVURi04IiAvPgogICAgPHNjcmlwdD5MX1BSRUZFUl9DQU5WQVM9ZmFsc2U7IExfTk9fVE9VQ0g9ZmFsc2U7IExfRElTQUJMRV8zRD1mYWxzZTs8L3NjcmlwdD4KICAgIDxzY3JpcHQgc3JjPSJodHRwczovL2Nkbi5qc2RlbGl2ci5uZXQvbnBtL2xlYWZsZXRAMS40LjAvZGlzdC9sZWFmbGV0LmpzIj48L3NjcmlwdD4KICAgIDxzY3JpcHQgc3JjPSJodHRwczovL2NvZGUuanF1ZXJ5LmNvbS9qcXVlcnktMS4xMi40Lm1pbi5qcyI+PC9zY3JpcHQ+CiAgICA8c2NyaXB0IHNyYz0iaHR0cHM6Ly9tYXhjZG4uYm9vdHN0cmFwY2RuLmNvbS9ib290c3RyYXAvMy4yLjAvanMvYm9vdHN0cmFwLm1pbi5qcyI+PC9zY3JpcHQ+CiAgICA8c2NyaXB0IHNyYz0iaHR0cHM6Ly9jZG5qcy5jbG91ZGZsYXJlLmNvbS9hamF4L2xpYnMvTGVhZmxldC5hd2Vzb21lLW1hcmtlcnMvMi4wLjIvbGVhZmxldC5hd2Vzb21lLW1hcmtlcnMuanMiPjwvc2NyaXB0PgogICAgPGxpbmsgcmVsPSJzdHlsZXNoZWV0IiBocmVmPSJodHRwczovL2Nkbi5qc2RlbGl2ci5uZXQvbnBtL2xlYWZsZXRAMS40LjAvZGlzdC9sZWFmbGV0LmNzcyIvPgogICAgPGxpbmsgcmVsPSJzdHlsZXNoZWV0IiBocmVmPSJodHRwczovL21heGNkbi5ib290c3RyYXBjZG4uY29tL2Jvb3RzdHJhcC8zLjIuMC9jc3MvYm9vdHN0cmFwLm1pbi5jc3MiLz4KICAgIDxsaW5rIHJlbD0ic3R5bGVzaGVldCIgaHJlZj0iaHR0cHM6Ly9tYXhjZG4uYm9vdHN0cmFwY2RuLmNvbS9ib290c3RyYXAvMy4yLjAvY3NzL2Jvb3RzdHJhcC10aGVtZS5taW4uY3NzIi8+CiAgICA8bGluayByZWw9InN0eWxlc2hlZXQiIGhyZWY9Imh0dHBzOi8vbWF4Y2RuLmJvb3RzdHJhcGNkbi5jb20vZm9udC1hd2Vzb21lLzQuNi4zL2Nzcy9mb250LWF3ZXNvbWUubWluLmNzcyIvPgogICAgPGxpbmsgcmVsPSJzdHlsZXNoZWV0IiBocmVmPSJodHRwczovL2NkbmpzLmNsb3VkZmxhcmUuY29tL2FqYXgvbGlicy9MZWFmbGV0LmF3ZXNvbWUtbWFya2Vycy8yLjAuMi9sZWFmbGV0LmF3ZXNvbWUtbWFya2Vycy5jc3MiLz4KICAgIDxsaW5rIHJlbD0ic3R5bGVzaGVldCIgaHJlZj0iaHR0cHM6Ly9yYXdjZG4uZ2l0aGFjay5jb20vcHl0aG9uLXZpc3VhbGl6YXRpb24vZm9saXVtL21hc3Rlci9mb2xpdW0vdGVtcGxhdGVzL2xlYWZsZXQuYXdlc29tZS5yb3RhdGUuY3NzIi8+CiAgICA8c3R5bGU+aHRtbCwgYm9keSB7d2lkdGg6IDEwMCU7aGVpZ2h0OiAxMDAlO21hcmdpbjogMDtwYWRkaW5nOiAwO308L3N0eWxlPgogICAgPHN0eWxlPiNtYXAge3Bvc2l0aW9uOmFic29sdXRlO3RvcDowO2JvdHRvbTowO3JpZ2h0OjA7bGVmdDowO308L3N0eWxlPgogICAgCiAgICA8bWV0YSBuYW1lPSJ2aWV3cG9ydCIgY29udGVudD0id2lkdGg9ZGV2aWNlLXdpZHRoLAogICAgICAgIGluaXRpYWwtc2NhbGU9MS4wLCBtYXhpbXVtLXNjYWxlPTEuMCwgdXNlci1zY2FsYWJsZT1ubyIgLz4KICAgIDxzdHlsZT4jbWFwXzBiNzEwZDdmNzNhNjRmMTQ4YWUzYmE5MmMwOGMwMDkwIHsKICAgICAgICBwb3NpdGlvbjogcmVsYXRpdmU7CiAgICAgICAgd2lkdGg6IDEwMC4wJTsKICAgICAgICBoZWlnaHQ6IDEwMC4wJTsKICAgICAgICBsZWZ0OiAwLjAlOwogICAgICAgIHRvcDogMC4wJTsKICAgICAgICB9CiAgICA8L3N0eWxlPgo8L2hlYWQ+Cjxib2R5PiAgICAKICAgIAogICAgPGRpdiBjbGFzcz0iZm9saXVtLW1hcCIgaWQ9Im1hcF8wYjcxMGQ3ZjczYTY0ZjE0OGFlM2JhOTJjMDhjMDA5MCIgPjwvZGl2Pgo8L2JvZHk+CjxzY3JpcHQ+ICAgIAogICAgCiAgICAKICAgICAgICB2YXIgYm91bmRzID0gbnVsbDsKICAgIAoKICAgIHZhciBtYXBfMGI3MTBkN2Y3M2E2NGYxNDhhZTNiYTkyYzA4YzAwOTAgPSBMLm1hcCgKICAgICAgICAnbWFwXzBiNzEwZDdmNzNhNjRmMTQ4YWUzYmE5MmMwOGMwMDkwJywgewogICAgICAgIGNlbnRlcjogWzYuNTgxOTc0LCAzLjQxNDgzNTk0MTYxNzg0XSwKICAgICAgICB6b29tOiAxNCwKICAgICAgICBtYXhCb3VuZHM6IGJvdW5kcywKICAgICAgICBsYXllcnM6IFtdLAogICAgICAgIHdvcmxkQ29weUp1bXA6IGZhbHNlLAogICAgICAgIGNyczogTC5DUlMuRVBTRzM4NTcsCiAgICAgICAgem9vbUNvbnRyb2w6IHRydWUsCiAgICAgICAgfSk7CgoKICAgIAogICAgdmFyIHRpbGVfbGF5ZXJfODdmM2FlMTlhYTNmNGRkOGE5YWQ2ZDBhZTdkYjNjYTEgPSBMLnRpbGVMYXllcigKICAgICAgICAnaHR0cHM6Ly97c30udGlsZS5vcGVuc3RyZWV0bWFwLm9yZy97en0ve3h9L3t5fS5wbmcnLAogICAgICAgIHsKICAgICAgICAiYXR0cmlidXRpb24iOiBudWxsLAogICAgICAgICJkZXRlY3RSZXRpbmEiOiBmYWxzZSwKICAgICAgICAibWF4TmF0aXZlWm9vbSI6IDE4LAogICAgICAgICJtYXhab29tIjogMTgsCiAgICAgICAgIm1pblpvb20iOiAwLAogICAgICAgICJub1dyYXAiOiBmYWxzZSwKICAgICAgICAib3BhY2l0eSI6IDEsCiAgICAgICAgInN1YmRvbWFpbnMiOiAiYWJjIiwKICAgICAgICAidG1zIjogZmFsc2UKfSkuYWRkVG8obWFwXzBiNzEwZDdmNzNhNjRmMTQ4YWUzYmE5MmMwOGMwMDkwKTsKICAgIAogICAgICAgICAgICB2YXIgY2lyY2xlX21hcmtlcl83OTA3ZTljNzEzMjk0ZjNhYmQzNzExMTYwZmRkMDEwMiA9IEwuY2lyY2xlTWFya2VyKAogICAgICAgICAgICAgICAgWzYuNTgxOTc0LCAzLjQxNDgzNTk0MTYxNzg0XSwKICAgICAgICAgICAgICAgIHsKICAiYnViYmxpbmdNb3VzZUV2ZW50cyI6IHRydWUsCiAgImNvbG9yIjogImJsdWUiLAogICJkYXNoQXJyYXkiOiBudWxsLAogICJkYXNoT2Zmc2V0IjogbnVsbCwKICAiZmlsbCI6IHRydWUsCiAgImZpbGxDb2xvciI6ICIjMzE4NmNjIiwKICAiZmlsbE9wYWNpdHkiOiAwLjgsCiAgImZpbGxSdWxlIjogImV2ZW5vZGQiLAogICJsaW5lQ2FwIjogInJvdW5kIiwKICAibGluZUpvaW4iOiAicm91bmQiLAogICJvcGFjaXR5IjogMS4wLAogICJyYWRpdXMiOiAxMCwKICAic3Ryb2tlIjogdHJ1ZSwKICAid2VpZ2h0IjogMwp9CiAgICAgICAgICAgICAgICApCiAgICAgICAgICAgICAgICAuYWRkVG8obWFwXzBiNzEwZDdmNzNhNjRmMTQ4YWUzYmE5MmMwOGMwMDkwKTsKICAgICAgICAgICAgCiAgICAKICAgICAgICAgICAgdmFyIHBvcHVwXzBjNjFiODM0MTdhZDRiMWJiZDM3MzYxMGI2MzY3OTM3ID0gTC5wb3B1cCh7bWF4V2lkdGg6ICcxMDAlJwogICAgICAgICAgICAKICAgICAgICAgICAgfSk7CgogICAgICAgICAgICAKICAgICAgICAgICAgICAgIHZhciBodG1sX2M4ODQ2NTExYzRmMzRiZTU5NmIxNDRkYTA3NDM3YzFkID0gJChgPGRpdiBpZD0iaHRtbF9jODg0NjUxMWM0ZjM0YmU1OTZiMTQ0ZGEwNzQzN2MxZCIgc3R5bGU9IndpZHRoOiAxMDAuMCU7IGhlaWdodDogMTAwLjAlOyI+S29zb2ZlPC9kaXY+YClbMF07CiAgICAgICAgICAgICAgICBwb3B1cF8wYzYxYjgzNDE3YWQ0YjFiYmQzNzM2MTBiNjM2NzkzNy5zZXRDb250ZW50KGh0bWxfYzg4NDY1MTFjNGYzNGJlNTk2YjE0NGRhMDc0MzdjMWQpOwogICAgICAgICAgICAKCiAgICAgICAgICAgIGNpcmNsZV9tYXJrZXJfNzkwN2U5YzcxMzI5NGYzYWJkMzcxMTE2MGZkZDAxMDIuYmluZFBvcHVwKHBvcHVwXzBjNjFiODM0MTdhZDRiMWJiZDM3MzYxMGI2MzY3OTM3KQogICAgICAgICAgICA7CgogICAgICAgICAgICAKICAgICAgICAKPC9zY3JpcHQ+\" style=\"position:absolute;width:100%;height:100%;left:0;top:0;border:none !important;\" allowfullscreen webkitallowfullscreen mozallowfullscreen></iframe></div></div>"
            ],
            "text/plain": [
              "<folium.folium.Map at 0x7f67d2ba3358>"
            ]
          },
          "metadata": {
            "tags": []
          },
          "execution_count": 199
        }
      ]
    },
    {
      "cell_type": "code",
      "metadata": {
        "id": "7xkeM7EeLmWJ",
        "colab_type": "code",
        "colab": {}
      },
      "source": [
        ""
      ],
      "execution_count": 0,
      "outputs": []
    }
  ]
}