{
  "nbformat": 4,
  "nbformat_minor": 0,
  "metadata": {
    "colab": {
      "name": "applied_data_science_capstone_project.ipynb",
      "provenance": [],
      "collapsed_sections": [],
      "include_colab_link": true
    },
    "kernelspec": {
      "name": "python3",
      "display_name": "Python 3"
    },
    "accelerator": "GPU"
  },
  "cells": [
    {
      "cell_type": "markdown",
      "metadata": {
        "id": "view-in-github",
        "colab_type": "text"
      },
      "source": [
        "<a href=\"https://colab.research.google.com/github/Blackman9t/Coursera_Capstone/blob/master/applied_data_science_capstone_project.ipynb\" target=\"_parent\"><img src=\"https://colab.research.google.com/assets/colab-badge.svg\" alt=\"Open In Colab\"/></a>"
      ]
    },
    {
      "cell_type": "markdown",
      "metadata": {
        "id": "1NN8a1111_RT",
        "colab_type": "text"
      },
      "source": [
        "## Applied Data Science Capstone-Project\n",
        "\n",
        "\n",
        "### This Capsone-Project is the final course in a series of nine(9) Data Science Specialization courses taught by IBM via Coursera. <br>\n",
        "###The courses include the following:-\n",
        "1. [What is Data Science?](https://www.coursera.org/learn/what-is-datascience/home/welcome)\n",
        "2. [Open Source tools for Data Science](https://www.coursera.org/learn/open-source-tools-for-data-science/home/welcome)\n",
        "3. [Python for Data Science](https://www.coursera.org/learn/python-for-applied-data-science/home/welcome)\n",
        "4. [Data Science Methodology](https://www.coursera.org/learn/data-science-methodology/home/welcome)\n",
        "5. [Databases and SQL for Data Science](https://www.coursera.org/learn/sql-data-science/home/welcome)\n",
        "6. [Data Visualization with Python](https://www.coursera.org/learn/python-for-data-visualization/home/welcome)\n",
        "7. [Data Analysis with Python](https://www.coursera.org/learn/data-analysis-with-python/home/welcome)\n",
        "8. [Machine Learning with Python](https://www.coursera.org/learn/machine-learning-with-python/home/welcome)\n",
        "9. [Applied Data Science Capstone](https://www.coursera.org/learn/applied-data-science-capstone/home/welcome)\n",
        "\n",
        "#### It is mandatory that all courses from 1 to 8 are passed with acceptable grades before attempting this Capsone-Project."
      ]
    },
    {
      "cell_type": "markdown",
      "metadata": {
        "id": "wFnhvYeq3h4W",
        "colab_type": "text"
      },
      "source": [
        "Importing requred libraries"
      ]
    },
    {
      "cell_type": "code",
      "metadata": {
        "id": "o3gaNkio3lNs",
        "colab_type": "code",
        "colab": {}
      },
      "source": [
        "import pandas as pd\n",
        "import numpy as np"
      ],
      "execution_count": 0,
      "outputs": []
    },
    {
      "cell_type": "code",
      "metadata": {
        "id": "GdpbL_of3uqe",
        "colab_type": "code",
        "outputId": "beefbd6a-f178-459e-c851-13ef5c39c93a",
        "colab": {
          "base_uri": "https://localhost:8080/",
          "height": 34
        }
      },
      "source": [
        "print('Hello Capstone Project Course!')"
      ],
      "execution_count": 2,
      "outputs": [
        {
          "output_type": "stream",
          "text": [
            "Hello Capstone Project Course!\n"
          ],
          "name": "stdout"
        }
      ]
    },
    {
      "cell_type": "markdown",
      "metadata": {
        "id": "gSwz2Tl9QeNY",
        "colab_type": "text"
      },
      "source": [
        "<h2>Problem Description</h2>"
      ]
    },
    {
      "cell_type": "markdown",
      "metadata": {
        "id": "ydbJ0Q1TQfgQ",
        "colab_type": "text"
      },
      "source": [
        "<h3>The problem I want to solve using Geo-location Data is helping a new Tech-StartUp find the ideal location for its office in The City of Lagos Nigeria.\n",
        "This office should be situated in a good location that has the following:-</h3><br>\n",
        "\n",
        "Central location.<br>\n",
        "Close proximity to Tech-Hubs and talent.<br>\n",
        "High feet traffic area for easy interaction with potential customers.<br>\n",
        "Nearness to Educational institutions for research and interactions with academics.<br>\n",
        "Nearness to cafes and restaurants for business meetings or lunch-meets.<br>\n",
        "Nearness to bus-stops, seaports and airports.<br>\n",
        "Security and safety.<br>\n",
        "Cluster of economic activities and similar or complementing businesses.\n"
      ]
    },
    {
      "cell_type": "markdown",
      "metadata": {
        "id": "q16Xmdy5QkuO",
        "colab_type": "text"
      },
      "source": [
        "<h2>Background to Problem</h2>"
      ]
    },
    {
      "cell_type": "markdown",
      "metadata": {
        "id": "Ot2fDGwXQqcf",
        "colab_type": "text"
      },
      "source": [
        "I have lived in Lagos for some time off and on, longest has been 3 years stretch from 2006 to 2009. <br>\n",
        "I have also done some travelling to other countries such as Russia, which by the way is the largest country in The World by land mass, South-Africa, Ghana, Dubai, Mauritius and a few others.<br>\n",
        "By the way, Mauritius is The wealthiest country in Africa with average wealth per person increasing from $(21700 - 25700) within one year recently ([link](https://www.graphic.com.gh/business/business-news/accra-ranked-10th-wealthiest-city-in-africa.html)).<br>\n",
        "My analysis today is on Lagos state, which is the 4th wealthiest city in Africa, fourth place behind Johannesburg, Cairo and Cape Town ([link](https://www.graphic.com.gh/business/business-news/accra-ranked-10th-wealthiest-city-in-africa.html)).<br>\n",
        "Lagos city is home to over $$(6,800 millionaires, 370 multi-millionaires and 4 billionaires).<br>\n",
        "Lagos is also the commercial capital of Nigeria (The Most populous black nation), and the commercial hub of West Africa.<br>\n",
        "I have only recently returned to Lagos city, got enrolled and completed The [Founder Institute](https://fi.co/) programme and currently building a Startup in The Insuretech industry ([link](http://bit.ly/escrowallet)).<br>\n",
        "Therefore I want to use this opportunity to help future Startups find the most ideal location in Lagos city, for an office."
      ]
    },
    {
      "cell_type": "markdown",
      "metadata": {
        "id": "OeJz-T3-Qv0K",
        "colab_type": "text"
      },
      "source": [
        "<h2>Data Requirements and Overview</h2>"
      ]
    },
    {
      "cell_type": "markdown",
      "metadata": {
        "id": "rHYrw2Hm0L1H",
        "colab_type": "text"
      },
      "source": [
        "**The Dataset is the wikipedia page of Lagos state** see [link](https://en.wikipedia.org/wiki/List_of_Lagos_State_local_government_areas_by_population)"
      ]
    },
    {
      "cell_type": "markdown",
      "metadata": {
        "id": "ZDfmwP_cQ1k7",
        "colab_type": "text"
      },
      "source": [
        "We shall explore Lagos city through its respective Local Government Areas or Boroughs. The above link is a web page that shows the respective boroughs in Lagos State and each population figure. It's a public Wikipedia data page.\n",
        "<br>This data will be analysed through the following steps:-\n",
        "<br>We shall scrape the web page using the beautiful soup library\n",
        "<br>We shall use The Foursquare API calls to retrieve geolocation data\n",
        "<br>We shall fetch the text data using the requests library\n",
        "<br>We shall convert it from JSON to Pandas data frame using the json_normalize module\n",
        "<br>We shall use The folium library to render the maps and plot these via The Matplotlib library. Then we shall explore respective boroughs and analyse each area as a location for a Tech-Startup based on the aforementioned parameters.\n",
        "<br>After this, we shall select our top location.\n",
        "<br>Finally, to add some fun, we shall use the word-cloud library to display the names of the top categories of venues per borough."
      ]
    },
    {
      "cell_type": "markdown",
      "metadata": {
        "id": "rXvgbEkIOLpy",
        "colab_type": "text"
      },
      "source": [
        "**So please sit back, relax and enjoy the ride as we explore Lagos City**"
      ]
    },
    {
      "cell_type": "markdown",
      "metadata": {
        "id": "2Opd6xcCz44c",
        "colab_type": "text"
      },
      "source": [
        "First let's import required libraries"
      ]
    },
    {
      "cell_type": "code",
      "metadata": {
        "id": "Yxg7Cp0nNaI-",
        "colab_type": "code",
        "outputId": "4c6fd14b-f8de-4060-9a22-a1f93f49a683",
        "colab": {
          "base_uri": "https://localhost:8080/",
          "height": 34
        }
      },
      "source": [
        "from bs4 import BeautifulSoup\n",
        "import requests  # library to handle requests\n",
        "import pandas as pd\n",
        "import json  # library to handle JSON files\n",
        "from pandas.io.json import json_normalize  # transform json files to pandas dataframes\n",
        "from geopy.geocoders import Nominatim  # convert an address into latitude and longitude values\n",
        "\n",
        "# Matplotlib and associated plotting modules\n",
        "import matplotlib.pyplot as plt\n",
        "import matplotlib.cm as cm\n",
        "import matplotlib.colors as colors\n",
        "\n",
        "# import k-means from clustering stage\n",
        "from sklearn.cluster import KMeans\n",
        "\n",
        "#!conda install -c conda-forge folium=0.5.0 --yes\n",
        "import folium # map rendering library\n",
        "\n",
        "import numpy as np\n",
        "import csv\n",
        "\n",
        "print('All modules imported')"
      ],
      "execution_count": 3,
      "outputs": [
        {
          "output_type": "stream",
          "text": [
            "All modules imported\n"
          ],
          "name": "stdout"
        }
      ]
    },
    {
      "cell_type": "code",
      "metadata": {
        "id": "hyHRivq_2hom",
        "colab_type": "code",
        "colab": {}
      },
      "source": [
        "# Lets save the weblink for The Lagos Data\n",
        "\n",
        "lagos_link = 'https://en.wikipedia.org/wiki/List_of_Lagos_State_local_government_areas_by_population'"
      ],
      "execution_count": 0,
      "outputs": []
    },
    {
      "cell_type": "markdown",
      "metadata": {
        "id": "HmkJLYfhyKtp",
        "colab_type": "text"
      },
      "source": [
        "Get the source code HTML data from the website"
      ]
    },
    {
      "cell_type": "code",
      "metadata": {
        "id": "VC5GhczSyMU4",
        "colab_type": "code",
        "colab": {}
      },
      "source": [
        "source = requests.get(lagos_link).text"
      ],
      "execution_count": 0,
      "outputs": []
    },
    {
      "cell_type": "markdown",
      "metadata": {
        "id": "AexSEq_Wu84U",
        "colab_type": "text"
      },
      "source": [
        "Lets Use BeautifulSoup to parse it"
      ]
    },
    {
      "cell_type": "code",
      "metadata": {
        "id": "8-rdg0tGyqGz",
        "colab_type": "code",
        "colab": {}
      },
      "source": [
        "soup = BeautifulSoup(source,'lxml')\n",
        "\n",
        "# Let's pretty print it in its right shape\n",
        "\n",
        "#print(soup.prettify())"
      ],
      "execution_count": 0,
      "outputs": []
    },
    {
      "cell_type": "markdown",
      "metadata": {
        "id": "bK1kWLx-0l1F",
        "colab_type": "text"
      },
      "source": [
        "Next let's get the table that contains the data we want to scrape"
      ]
    },
    {
      "cell_type": "code",
      "metadata": {
        "id": "jrtBgrow0moy",
        "colab_type": "code",
        "outputId": "5a95cd7c-58fa-49e2-bcca-6da8e56ebd4a",
        "colab": {
          "base_uri": "https://localhost:8080/",
          "height": 306
        }
      },
      "source": [
        "my_table = soup.find_all('td')\n",
        "#mw-content-text\n",
        "# Let's view the table\n",
        "\n",
        "my_table[:10]"
      ],
      "execution_count": 7,
      "outputs": [
        {
          "output_type": "execute_result",
          "data": {
            "text/plain": [
              "[<td class=\"mbox-image\"><div style=\"width:52px\"><img alt=\"Ambox current red.svg\" data-file-height=\"290\" data-file-width=\"360\" decoding=\"async\" height=\"34\" src=\"//upload.wikimedia.org/wikipedia/commons/thumb/9/98/Ambox_current_red.svg/42px-Ambox_current_red.svg.png\" srcset=\"//upload.wikimedia.org/wikipedia/commons/thumb/9/98/Ambox_current_red.svg/63px-Ambox_current_red.svg.png 1.5x, //upload.wikimedia.org/wikipedia/commons/thumb/9/98/Ambox_current_red.svg/84px-Ambox_current_red.svg.png 2x\" width=\"42\"/></div></td>,\n",
              " <td class=\"mbox-text\"><div class=\"mbox-text-span\">This article needs to be <b>updated</b>.<span class=\"hide-when-compact\"> Please update this article to reflect recent events or newly available information.</span> <small class=\"date-container\"><i>(<span class=\"date\">March 2015</span>)</i></small></div></td>,\n",
              " <td class=\"mbox-image\"><div style=\"width:52px\"><a class=\"image\" href=\"/wiki/File:Question_book-new.svg\"><img alt=\"\" data-file-height=\"399\" data-file-width=\"512\" decoding=\"async\" height=\"39\" src=\"//upload.wikimedia.org/wikipedia/en/thumb/9/99/Question_book-new.svg/50px-Question_book-new.svg.png\" srcset=\"//upload.wikimedia.org/wikipedia/en/thumb/9/99/Question_book-new.svg/75px-Question_book-new.svg.png 1.5x, //upload.wikimedia.org/wikipedia/en/thumb/9/99/Question_book-new.svg/100px-Question_book-new.svg.png 2x\" width=\"50\"/></a></div></td>,\n",
              " <td class=\"mbox-text\"><div class=\"mbox-text-span\">This article <b>does not <a href=\"/wiki/Wikipedia:Citing_sources\" title=\"Wikipedia:Citing sources\">cite</a> any <a href=\"/wiki/Wikipedia:Verifiability\" title=\"Wikipedia:Verifiability\">sources</a></b>.<span class=\"hide-when-compact\"> Please help <a class=\"external text\" href=\"https://en.wikipedia.org/w/index.php?title=List_of_Lagos_State_local_government_areas_by_population&amp;action=edit\">improve this article</a> by <a href=\"/wiki/Help:Introduction_to_referencing_with_Wiki_Markup/1\" title=\"Help:Introduction to referencing with Wiki Markup/1\">adding citations to reliable sources</a>. Unsourced material may be challenged and <a href=\"/wiki/Wikipedia:Verifiability#Burden_of_evidence\" title=\"Wikipedia:Verifiability\">removed</a>.<br/><small><span class=\"plainlinks\"><i>Find sources:</i> <a class=\"external text\" href=\"//www.google.com/search?as_eq=wikipedia&amp;q=%22List+of+Lagos+State+local+government+areas+by+population%22\" rel=\"nofollow\">\"List of Lagos State local government areas by population\"</a> – <a class=\"external text\" href=\"//www.google.com/search?tbm=nws&amp;q=%22List+of+Lagos+State+local+government+areas+by+population%22+-wikipedia\" rel=\"nofollow\">news</a> <b>·</b> <a class=\"external text\" href=\"//www.google.com/search?&amp;q=%22List+of+Lagos+State+local+government+areas+by+population%22+site:news.google.com/newspapers&amp;source=newspapers\" rel=\"nofollow\">newspapers</a> <b>·</b> <a class=\"external text\" href=\"//www.google.com/search?tbs=bks:1&amp;q=%22List+of+Lagos+State+local+government+areas+by+population%22+-wikipedia\" rel=\"nofollow\">books</a> <b>·</b> <a class=\"external text\" href=\"//scholar.google.com/scholar?q=%22List+of+Lagos+State+local+government+areas+by+population%22\" rel=\"nofollow\">scholar</a> <b>·</b> <a class=\"external text\" href=\"https://www.jstor.org/action/doBasicSearch?Query=%22List+of+Lagos+State+local+government+areas+by+population%22&amp;acc=on&amp;wc=on\" rel=\"nofollow\">JSTOR</a></span></small></span> <small class=\"date-container\"><i>(<span class=\"date\">June 2015</span>)</i></small><small class=\"hide-when-compact\"><i> (<a href=\"/wiki/Help:Maintenance_template_removal\" title=\"Help:Maintenance template removal\">Learn how and when to remove this template message</a>)</i></small></div></td>,\n",
              " <td align=\"left\">1\n",
              " </td>,\n",
              " <td align=\"left\"><a href=\"/wiki/Alimosho\" title=\"Alimosho\">Alimosho</a>\n",
              " </td>,\n",
              " <td align=\"center\">5,700,714\n",
              " </td>,\n",
              " <td align=\"left\">2\n",
              " </td>,\n",
              " <td align=\"left\"><a href=\"/wiki/Ajeromi-Ifelodun\" title=\"Ajeromi-Ifelodun\">Ajeromi-Ifelodun</a>\n",
              " </td>,\n",
              " <td align=\"center\">1,746,634\n",
              " </td>]"
            ]
          },
          "metadata": {
            "tags": []
          },
          "execution_count": 7
        }
      ]
    },
    {
      "cell_type": "markdown",
      "metadata": {
        "id": "S1qFFQr6-vJy",
        "colab_type": "text"
      },
      "source": [
        "Next let's iterate through each link and append the text parts"
      ]
    },
    {
      "cell_type": "code",
      "metadata": {
        "id": "BkZ0CU3bgHn-",
        "colab_type": "code",
        "outputId": "0cb05716-fa1e-4238-d944-c1fb6b74cc1a",
        "colab": {
          "base_uri": "https://localhost:8080/",
          "height": 34
        }
      },
      "source": [
        "type(my_table)"
      ],
      "execution_count": 8,
      "outputs": [
        {
          "output_type": "execute_result",
          "data": {
            "text/plain": [
              "bs4.element.ResultSet"
            ]
          },
          "metadata": {
            "tags": []
          },
          "execution_count": 8
        }
      ]
    },
    {
      "cell_type": "code",
      "metadata": {
        "id": "YVhuX3QO-2O0",
        "colab_type": "code",
        "colab": {}
      },
      "source": [
        "table_text = []\n",
        "\n",
        "for data in my_table:\n",
        "    table_text.append(data.text)"
      ],
      "execution_count": 0,
      "outputs": []
    },
    {
      "cell_type": "code",
      "metadata": {
        "id": "B-twK_2Ulugg",
        "colab_type": "code",
        "colab": {}
      },
      "source": [
        "# Let's see the text\n",
        "\n",
        "# table_text"
      ],
      "execution_count": 0,
      "outputs": []
    },
    {
      "cell_type": "markdown",
      "metadata": {
        "id": "6EsoADW0mkrR",
        "colab_type": "text"
      },
      "source": [
        "First let's extract only the relevent data from the table"
      ]
    },
    {
      "cell_type": "code",
      "metadata": {
        "id": "WET_B_y0mwdN",
        "colab_type": "code",
        "outputId": "7f21f1c1-3b6d-4ed4-c50a-335b88ea0d70",
        "colab": {
          "base_uri": "https://localhost:8080/",
          "height": 34
        }
      },
      "source": [
        "relevant_table_data = table_text[4:-3]\n",
        "\n",
        "# Next let's see the first 3 elements\n",
        "relevant_table_data[:3]"
      ],
      "execution_count": 11,
      "outputs": [
        {
          "output_type": "execute_result",
          "data": {
            "text/plain": [
              "['1\\n', 'Alimosho\\n', '5,700,714\\n']"
            ]
          },
          "metadata": {
            "tags": []
          },
          "execution_count": 11
        }
      ]
    },
    {
      "cell_type": "markdown",
      "metadata": {
        "id": "_jJzom_Hw2yS",
        "colab_type": "text"
      },
      "source": [
        "Next lets create a dictionary and append the LGA and corresponding Population data to it"
      ]
    },
    {
      "cell_type": "code",
      "metadata": {
        "id": "AGRNCXgInsJh",
        "colab_type": "code",
        "colab": {}
      },
      "source": [
        "table_dict={'LGA':[], 'POP':[]}\n",
        "count = 0\n",
        "\n",
        "for item in relevant_table_data:\n",
        "    # First let's strip off the \\n at the end\n",
        "    item = item.strip('\\n')\n",
        "    try:\n",
        "        item = int(item)\n",
        "    except:\n",
        "        # if second item after the int, append to POP\n",
        "        if count > 0:\n",
        "            # First let's remove the commas\n",
        "            item = item.replace(',','')\n",
        "            # Next let's convert to an integer so we can use it for calculations\n",
        "            item = int(item)\n",
        "            # Finally, let's append it to the Population list of the dictionary\n",
        "            table_dict['POP'].append(item)\n",
        "            count = 0\n",
        "        else:\n",
        "         # if first item after the int, append to LGA\n",
        "            table_dict['LGA'].append(item)\n",
        "            count +=1\n",
        "            "
      ],
      "execution_count": 0,
      "outputs": []
    },
    {
      "cell_type": "markdown",
      "metadata": {
        "id": "BpsyT11FxCze",
        "colab_type": "text"
      },
      "source": [
        "Next let's create a Dataframe of each LGA and its respective Population"
      ]
    },
    {
      "cell_type": "code",
      "metadata": {
        "id": "4_Zgf7jVtmTu",
        "colab_type": "code",
        "outputId": "4c7a32af-ff6e-49b5-d345-66d20b93fdea",
        "colab": {
          "base_uri": "https://localhost:8080/",
          "height": 195
        }
      },
      "source": [
        "lagos_df = pd.DataFrame(table_dict)\n",
        "\n",
        "# Let's see the first five rows\n",
        "lagos_df.head()"
      ],
      "execution_count": 13,
      "outputs": [
        {
          "output_type": "execute_result",
          "data": {
            "text/html": [
              "<div>\n",
              "<style scoped>\n",
              "    .dataframe tbody tr th:only-of-type {\n",
              "        vertical-align: middle;\n",
              "    }\n",
              "\n",
              "    .dataframe tbody tr th {\n",
              "        vertical-align: top;\n",
              "    }\n",
              "\n",
              "    .dataframe thead th {\n",
              "        text-align: right;\n",
              "    }\n",
              "</style>\n",
              "<table border=\"1\" class=\"dataframe\">\n",
              "  <thead>\n",
              "    <tr style=\"text-align: right;\">\n",
              "      <th></th>\n",
              "      <th>LGA</th>\n",
              "      <th>POP</th>\n",
              "    </tr>\n",
              "  </thead>\n",
              "  <tbody>\n",
              "    <tr>\n",
              "      <th>0</th>\n",
              "      <td>Alimosho</td>\n",
              "      <td>5700714</td>\n",
              "    </tr>\n",
              "    <tr>\n",
              "      <th>1</th>\n",
              "      <td>Ajeromi-Ifelodun</td>\n",
              "      <td>1746634</td>\n",
              "    </tr>\n",
              "    <tr>\n",
              "      <th>2</th>\n",
              "      <td>Kosofe</td>\n",
              "      <td>665998</td>\n",
              "    </tr>\n",
              "    <tr>\n",
              "      <th>3</th>\n",
              "      <td>Mushin, Lagos</td>\n",
              "      <td>633543</td>\n",
              "    </tr>\n",
              "    <tr>\n",
              "      <th>4</th>\n",
              "      <td>Oshodi-Isolo</td>\n",
              "      <td>621789</td>\n",
              "    </tr>\n",
              "  </tbody>\n",
              "</table>\n",
              "</div>"
            ],
            "text/plain": [
              "                LGA      POP\n",
              "0          Alimosho  5700714\n",
              "1  Ajeromi-Ifelodun  1746634\n",
              "2            Kosofe   665998\n",
              "3     Mushin, Lagos   633543\n",
              "4      Oshodi-Isolo   621789"
            ]
          },
          "metadata": {
            "tags": []
          },
          "execution_count": 13
        }
      ]
    },
    {
      "cell_type": "markdown",
      "metadata": {
        "id": "eNGYERJUS83m",
        "colab_type": "text"
      },
      "source": [
        "Appending the Latitude and Longitude Values:<br>\n",
        "First let's define a simple method to extract each LGA or Borough Lats and Longs data"
      ]
    },
    {
      "cell_type": "code",
      "metadata": {
        "id": "1UNfx6OVRlOS",
        "colab_type": "code",
        "colab": {}
      },
      "source": [
        "def latitude_longitude(Borough):\n",
        "    import time\n",
        "    \"\"\" Method takes a Series object and returns\n",
        "    a list of Latitude and corresponding Longitude data,\n",
        "    using the geopy library.\n",
        "    This method also prints out the coordinate data\"\"\"\n",
        "    \n",
        "    address = str(Borough)\n",
        "    \n",
        "    # We must define a geolocator user agent\n",
        "    geolocator = Nominatim(user_agent=\"NG_explorer\")\n",
        "    location = geolocator.geocode(address)\n",
        "    latitude = location.latitude\n",
        "    longitude = location.longitude\n",
        "    print('The geograpical coordinates of {} are lat {} and long {}.'.format(address, latitude, longitude))\n",
        "    # WARNING: we let 2 secs pass after calling each location lat/lon so that the geocode function may not crash as it crashes quite often\n",
        "    # Feel free to wait a few seconds and re-run this cell if it crashes or displays an Error message.\n",
        "    time.sleep(2)  \n",
        "    return [latitude, longitude]\n"
      ],
      "execution_count": 0,
      "outputs": []
    },
    {
      "cell_type": "code",
      "metadata": {
        "id": "34bdCijURtXE",
        "colab_type": "code",
        "outputId": "83185f4e-6f03-4eeb-ac00-22c0951bd409",
        "colab": {
          "base_uri": "https://localhost:8080/",
          "height": 353
        }
      },
      "source": [
        "lagos_df['latitude'] = lagos_df['LGA'].apply(latitude_longitude)"
      ],
      "execution_count": 15,
      "outputs": [
        {
          "output_type": "stream",
          "text": [
            "The geograpical coordinates of Alimosho are lat 6.58434295 and long 3.25763109723237.\n",
            "The geograpical coordinates of Ajeromi-Ifelodun are lat 6.4551217 and long 3.33594625182987.\n",
            "The geograpical coordinates of Kosofe are lat 6.581974 and long 3.41483594161784.\n",
            "The geograpical coordinates of Mushin, Lagos are lat 6.53263245 and long 3.35202197179877.\n",
            "The geograpical coordinates of Oshodi-Isolo are lat 6.54001 and long 3.31241461318394.\n",
            "The geograpical coordinates of Ojo are lat 1.0958392 and long -76.6110685.\n",
            "The geograpical coordinates of Ikorodu are lat 6.6191233 and long 3.5041271.\n",
            "The geograpical coordinates of Surulere are lat 6.48720145 and long 3.35325872672398.\n",
            "The geograpical coordinates of Agege are lat 6.6252564 and long 3.31120926770265.\n",
            "The geograpical coordinates of Ifako-Ijaiye are lat 6.6636025 and long 3.289491.\n",
            "The geograpical coordinates of Somolu are lat 6.583333 and long 3.466667.\n",
            "The geograpical coordinates of Amuwo-Odofin are lat 6.4470234 and long 3.26627971168259.\n",
            "The geograpical coordinates of Lagos Mainland are lat 6.49306105 and long 3.38824963720956.\n",
            "The geograpical coordinates of Ikeja are lat 6.6048591 and long 3.35320407409498.\n",
            "The geograpical coordinates of Eti-Osa are lat 6.4602312 and long 3.53218066773601.\n",
            "The geograpical coordinates of Badagry are lat 6.4387296 and long 2.90748574931917.\n",
            "The geograpical coordinates of Apapa are lat 6.445187 and long 3.36837316794241.\n",
            "The geograpical coordinates of Lagos Island are lat 6.5148613 and long 3.49086616139006.\n",
            "The geograpical coordinates of Epe are lat 6.52474955 and long 4.05724579513234.\n",
            "The geograpical coordinates of Ibeju-Lekki are lat 6.4711251 and long 3.81475020068694.\n"
          ],
          "name": "stdout"
        }
      ]
    },
    {
      "cell_type": "markdown",
      "metadata": {
        "id": "FQ-5GsxfqFCv",
        "colab_type": "text"
      },
      "source": [
        "Let's see the data frame again"
      ]
    },
    {
      "cell_type": "code",
      "metadata": {
        "id": "1jRsohp3qIB7",
        "colab_type": "code",
        "outputId": "c5b76812-948c-4a45-cd68-bb4956098eb6",
        "colab": {
          "base_uri": "https://localhost:8080/",
          "height": 195
        }
      },
      "source": [
        "lagos_df.head()"
      ],
      "execution_count": 16,
      "outputs": [
        {
          "output_type": "execute_result",
          "data": {
            "text/html": [
              "<div>\n",
              "<style scoped>\n",
              "    .dataframe tbody tr th:only-of-type {\n",
              "        vertical-align: middle;\n",
              "    }\n",
              "\n",
              "    .dataframe tbody tr th {\n",
              "        vertical-align: top;\n",
              "    }\n",
              "\n",
              "    .dataframe thead th {\n",
              "        text-align: right;\n",
              "    }\n",
              "</style>\n",
              "<table border=\"1\" class=\"dataframe\">\n",
              "  <thead>\n",
              "    <tr style=\"text-align: right;\">\n",
              "      <th></th>\n",
              "      <th>LGA</th>\n",
              "      <th>POP</th>\n",
              "      <th>latitude</th>\n",
              "    </tr>\n",
              "  </thead>\n",
              "  <tbody>\n",
              "    <tr>\n",
              "      <th>0</th>\n",
              "      <td>Alimosho</td>\n",
              "      <td>5700714</td>\n",
              "      <td>[6.58434295, 3.25763109723237]</td>\n",
              "    </tr>\n",
              "    <tr>\n",
              "      <th>1</th>\n",
              "      <td>Ajeromi-Ifelodun</td>\n",
              "      <td>1746634</td>\n",
              "      <td>[6.4551217, 3.33594625182987]</td>\n",
              "    </tr>\n",
              "    <tr>\n",
              "      <th>2</th>\n",
              "      <td>Kosofe</td>\n",
              "      <td>665998</td>\n",
              "      <td>[6.581974, 3.41483594161784]</td>\n",
              "    </tr>\n",
              "    <tr>\n",
              "      <th>3</th>\n",
              "      <td>Mushin, Lagos</td>\n",
              "      <td>633543</td>\n",
              "      <td>[6.53263245, 3.35202197179877]</td>\n",
              "    </tr>\n",
              "    <tr>\n",
              "      <th>4</th>\n",
              "      <td>Oshodi-Isolo</td>\n",
              "      <td>621789</td>\n",
              "      <td>[6.54001, 3.31241461318394]</td>\n",
              "    </tr>\n",
              "  </tbody>\n",
              "</table>\n",
              "</div>"
            ],
            "text/plain": [
              "                LGA      POP                        latitude\n",
              "0          Alimosho  5700714  [6.58434295, 3.25763109723237]\n",
              "1  Ajeromi-Ifelodun  1746634   [6.4551217, 3.33594625182987]\n",
              "2            Kosofe   665998    [6.581974, 3.41483594161784]\n",
              "3     Mushin, Lagos   633543  [6.53263245, 3.35202197179877]\n",
              "4      Oshodi-Isolo   621789     [6.54001, 3.31241461318394]"
            ]
          },
          "metadata": {
            "tags": []
          },
          "execution_count": 16
        }
      ]
    },
    {
      "cell_type": "markdown",
      "metadata": {
        "id": "urZ6BlyRqRKZ",
        "colab_type": "text"
      },
      "source": [
        "Next let's loop through the data frame and separate Latitude from Longitude and make lat and lons just numbers not lists\n"
      ]
    },
    {
      "cell_type": "code",
      "metadata": {
        "id": "D-242baCqbms",
        "colab_type": "code",
        "colab": {}
      },
      "source": [
        "lon_list = []\n",
        "for i, j in lagos_df.iterrows():\n",
        "    lon_list.append(j.latitude[1])\n",
        "    lagos_df.iat[i,2] = j.latitude[0]\n",
        "      \n",
        "# next let's assign the lon_list as the value of the Longitude Column\n",
        "\n",
        "lagos_df['longitude'] = lon_list"
      ],
      "execution_count": 0,
      "outputs": []
    },
    {
      "cell_type": "markdown",
      "metadata": {
        "id": "zq_eqtUctlO7",
        "colab_type": "text"
      },
      "source": [
        "Let's see our table with the separated latitude and longitude values"
      ]
    },
    {
      "cell_type": "code",
      "metadata": {
        "id": "b0lMEy5Btl4b",
        "colab_type": "code",
        "outputId": "59af2d09-c08f-4bf2-96ae-457ff877ad43",
        "colab": {
          "base_uri": "https://localhost:8080/",
          "height": 195
        }
      },
      "source": [
        "lagos_df.head()"
      ],
      "execution_count": 18,
      "outputs": [
        {
          "output_type": "execute_result",
          "data": {
            "text/html": [
              "<div>\n",
              "<style scoped>\n",
              "    .dataframe tbody tr th:only-of-type {\n",
              "        vertical-align: middle;\n",
              "    }\n",
              "\n",
              "    .dataframe tbody tr th {\n",
              "        vertical-align: top;\n",
              "    }\n",
              "\n",
              "    .dataframe thead th {\n",
              "        text-align: right;\n",
              "    }\n",
              "</style>\n",
              "<table border=\"1\" class=\"dataframe\">\n",
              "  <thead>\n",
              "    <tr style=\"text-align: right;\">\n",
              "      <th></th>\n",
              "      <th>LGA</th>\n",
              "      <th>POP</th>\n",
              "      <th>latitude</th>\n",
              "      <th>longitude</th>\n",
              "    </tr>\n",
              "  </thead>\n",
              "  <tbody>\n",
              "    <tr>\n",
              "      <th>0</th>\n",
              "      <td>Alimosho</td>\n",
              "      <td>5700714</td>\n",
              "      <td>6.58434</td>\n",
              "      <td>3.257631</td>\n",
              "    </tr>\n",
              "    <tr>\n",
              "      <th>1</th>\n",
              "      <td>Ajeromi-Ifelodun</td>\n",
              "      <td>1746634</td>\n",
              "      <td>6.45512</td>\n",
              "      <td>3.335946</td>\n",
              "    </tr>\n",
              "    <tr>\n",
              "      <th>2</th>\n",
              "      <td>Kosofe</td>\n",
              "      <td>665998</td>\n",
              "      <td>6.58197</td>\n",
              "      <td>3.414836</td>\n",
              "    </tr>\n",
              "    <tr>\n",
              "      <th>3</th>\n",
              "      <td>Mushin, Lagos</td>\n",
              "      <td>633543</td>\n",
              "      <td>6.53263</td>\n",
              "      <td>3.352022</td>\n",
              "    </tr>\n",
              "    <tr>\n",
              "      <th>4</th>\n",
              "      <td>Oshodi-Isolo</td>\n",
              "      <td>621789</td>\n",
              "      <td>6.54001</td>\n",
              "      <td>3.312415</td>\n",
              "    </tr>\n",
              "  </tbody>\n",
              "</table>\n",
              "</div>"
            ],
            "text/plain": [
              "                LGA      POP latitude  longitude\n",
              "0          Alimosho  5700714  6.58434   3.257631\n",
              "1  Ajeromi-Ifelodun  1746634  6.45512   3.335946\n",
              "2            Kosofe   665998  6.58197   3.414836\n",
              "3     Mushin, Lagos   633543  6.53263   3.352022\n",
              "4      Oshodi-Isolo   621789  6.54001   3.312415"
            ]
          },
          "metadata": {
            "tags": []
          },
          "execution_count": 18
        }
      ]
    },
    {
      "cell_type": "markdown",
      "metadata": {
        "id": "UWj17IRi5BAg",
        "colab_type": "text"
      },
      "source": [
        "Okay so at this point let's look at each Borough or L.G.A closer. Let's start with the first one and visualize it via Folium library"
      ]
    },
    {
      "cell_type": "markdown",
      "metadata": {
        "id": "2QWtdI_x56jO",
        "colab_type": "text"
      },
      "source": [
        "Let's get the geographic coordinates of Alimosho, the first L.G.A"
      ]
    },
    {
      "cell_type": "code",
      "metadata": {
        "id": "Gdx8ufxPAnHg",
        "colab_type": "code",
        "outputId": "09ba2eed-722a-4776-f29e-b5f2fdf81eb6",
        "colab": {
          "base_uri": "https://localhost:8080/",
          "height": 77
        }
      },
      "source": [
        "alimosho_data = lagos_df.loc[0,].to_frame().T\n",
        "alimosho_data"
      ],
      "execution_count": 19,
      "outputs": [
        {
          "output_type": "execute_result",
          "data": {
            "text/html": [
              "<div>\n",
              "<style scoped>\n",
              "    .dataframe tbody tr th:only-of-type {\n",
              "        vertical-align: middle;\n",
              "    }\n",
              "\n",
              "    .dataframe tbody tr th {\n",
              "        vertical-align: top;\n",
              "    }\n",
              "\n",
              "    .dataframe thead th {\n",
              "        text-align: right;\n",
              "    }\n",
              "</style>\n",
              "<table border=\"1\" class=\"dataframe\">\n",
              "  <thead>\n",
              "    <tr style=\"text-align: right;\">\n",
              "      <th></th>\n",
              "      <th>LGA</th>\n",
              "      <th>POP</th>\n",
              "      <th>latitude</th>\n",
              "      <th>longitude</th>\n",
              "    </tr>\n",
              "  </thead>\n",
              "  <tbody>\n",
              "    <tr>\n",
              "      <th>0</th>\n",
              "      <td>Alimosho</td>\n",
              "      <td>5700714</td>\n",
              "      <td>6.58434</td>\n",
              "      <td>3.25763</td>\n",
              "    </tr>\n",
              "  </tbody>\n",
              "</table>\n",
              "</div>"
            ],
            "text/plain": [
              "        LGA      POP latitude longitude\n",
              "0  Alimosho  5700714  6.58434   3.25763"
            ]
          },
          "metadata": {
            "tags": []
          },
          "execution_count": 19
        }
      ]
    },
    {
      "cell_type": "code",
      "metadata": {
        "id": "o9yjb12t7LwQ",
        "colab_type": "code",
        "outputId": "cfedf11e-c8e6-4c56-a0f3-dbb92e1b6a0f",
        "colab": {
          "base_uri": "https://localhost:8080/",
          "height": 50
        }
      },
      "source": [
        "lat, lon = latitude_longitude(alimosho_data.iloc[0,0])\n",
        "\n",
        "print('lat: {}, lon: {}'.format(lat,lon))"
      ],
      "execution_count": 20,
      "outputs": [
        {
          "output_type": "stream",
          "text": [
            "The geograpical coordinates of Alimosho are lat 6.58434295 and long 3.25763109723237.\n",
            "lat: 6.58434295, lon: 3.25763109723237\n"
          ],
          "name": "stdout"
        }
      ]
    },
    {
      "cell_type": "code",
      "metadata": {
        "id": "BZb395Lm5RsE",
        "colab_type": "code",
        "outputId": "d6c111de-d878-46eb-da99-0184c0db6889",
        "colab": {
          "base_uri": "https://localhost:8080/",
          "height": 858
        }
      },
      "source": [
        "# create map of Alimosho using latitude and longitude values\n",
        "map_alimosho = folium.Map(location=[lat, lon], zoom_start=14)\n",
        "\n",
        "# add markers to map\n",
        "\n",
        "label = \"{}\".format('Alimosho')\n",
        "label = folium.Popup(label, parse_html=True)\n",
        "folium.CircleMarker(\n",
        "    [lat, lon],\n",
        "    radius=10,\n",
        "    popup=label,\n",
        "    color='blue',\n",
        "    fill=True,\n",
        "    fill_color='#3186cc',\n",
        "    fill_opacity=0.8,\n",
        "    parse_html=False).add_to(map_alimosho)  \n",
        "\n",
        "map_alimosho  # Feel free to zoom in to see more"
      ],
      "execution_count": 21,
      "outputs": [
        {
          "output_type": "execute_result",
          "data": {
            "text/html": [
              "<div style=\"width:100%;\"><div style=\"position:relative;width:100%;height:0;padding-bottom:60%;\"><iframe src=\"data:text/html;charset=utf-8;base64,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\" style=\"position:absolute;width:100%;height:100%;left:0;top:0;border:none !important;\" allowfullscreen webkitallowfullscreen mozallowfullscreen></iframe></div></div>"
            ],
            "text/plain": [
              "<folium.folium.Map at 0x7f6f80e6b780>"
            ]
          },
          "metadata": {
            "tags": []
          },
          "execution_count": 21
        }
      ]
    },
    {
      "cell_type": "markdown",
      "metadata": {
        "id": "awqo0glw9y9z",
        "colab_type": "text"
      },
      "source": [
        "Now Let's explore the data using foursquare API"
      ]
    },
    {
      "cell_type": "code",
      "metadata": {
        "id": "IcLLLBoT9yAX",
        "colab_type": "code",
        "outputId": "db6b9fe4-b0ea-422a-b778-4f81f211261d",
        "colab": {
          "base_uri": "https://localhost:8080/",
          "height": 67
        }
      },
      "source": [
        "CLIENT_ID = 'L2XUYCRD44VP2YBDMZ3XY0Z4XKO1JODM5SMG3IIYRZ5330FD' # your Foursquare ID\n",
        "CLIENT_SECRET = '5KI00FG4RT2VJQTIDPXFY1N4AOKTIXLIZEAO0AHPP3DPD0U1' # your Foursquare Secret\n",
        "VERSION = '20191212'\n",
        "LIMIT = 50\n",
        "print('Your credentials:')\n",
        "print('CLIENT_ID: ' + CLIENT_ID)\n",
        "print('CLIENT_SECRET:' + CLIENT_SECRET)"
      ],
      "execution_count": 22,
      "outputs": [
        {
          "output_type": "stream",
          "text": [
            "Your credentials:\n",
            "CLIENT_ID: L2XUYCRD44VP2YBDMZ3XY0Z4XKO1JODM5SMG3IIYRZ5330FD\n",
            "CLIENT_SECRET:5KI00FG4RT2VJQTIDPXFY1N4AOKTIXLIZEAO0AHPP3DPD0U1\n"
          ],
          "name": "stdout"
        }
      ]
    },
    {
      "cell_type": "markdown",
      "metadata": {
        "id": "XOq8VAcKE6jV",
        "colab_type": "text"
      },
      "source": [
        "Let's get the full data for Alimosho LGA"
      ]
    },
    {
      "cell_type": "markdown",
      "metadata": {
        "id": "lSkhPURzQake",
        "colab_type": "text"
      },
      "source": [
        "Now, let's get the top 200 venues that are in the first entry within a radius of 10 Kilometers."
      ]
    },
    {
      "cell_type": "code",
      "metadata": {
        "id": "BzlnZyBeQfKb",
        "colab_type": "code",
        "colab": {}
      },
      "source": [
        "radius = 10000 # 10,000 meters is 10KM\n",
        "LIMIT=200\n",
        "\n",
        "url = 'https://api.foursquare.com/v2/venues/explore?&client_id={}&client_secret={}&v={}&ll={},{}&radius={}&limit={}'.format(\n",
        "    CLIENT_ID, \n",
        "    CLIENT_SECRET, \n",
        "    VERSION, \n",
        "    alimosho_data.latitude[0], \n",
        "    alimosho_data.longitude[0], \n",
        "    radius, \n",
        "    LIMIT)"
      ],
      "execution_count": 0,
      "outputs": []
    },
    {
      "cell_type": "markdown",
      "metadata": {
        "id": "U8a-qiJFRE8I",
        "colab_type": "text"
      },
      "source": [
        "let's Send the GET request and examine the resutls"
      ]
    },
    {
      "cell_type": "code",
      "metadata": {
        "id": "pHOQ6r9JRHPs",
        "colab_type": "code",
        "outputId": "6bbbf3d6-f72a-4f42-f94b-ab227bbf94dd",
        "colab": {
          "base_uri": "https://localhost:8080/",
          "height": 34
        }
      },
      "source": [
        "result = requests.get(url).json()\n",
        "\n",
        "result.keys()"
      ],
      "execution_count": 24,
      "outputs": [
        {
          "output_type": "execute_result",
          "data": {
            "text/plain": [
              "dict_keys(['meta', 'response'])"
            ]
          },
          "metadata": {
            "tags": []
          },
          "execution_count": 24
        }
      ]
    },
    {
      "cell_type": "code",
      "metadata": {
        "id": "fy95KtXvRSh1",
        "colab_type": "code",
        "colab": {}
      },
      "source": [
        "# show the result\n",
        "# result"
      ],
      "execution_count": 0,
      "outputs": []
    },
    {
      "cell_type": "markdown",
      "metadata": {
        "id": "Ivyyc6dTR0ty",
        "colab_type": "text"
      },
      "source": [
        "Let's define a function that extracts the category of the venue"
      ]
    },
    {
      "cell_type": "markdown",
      "metadata": {
        "id": "ldqGNQujCT3T",
        "colab_type": "text"
      },
      "source": [
        "Let's save only the venues from result in a variable called venues"
      ]
    },
    {
      "cell_type": "code",
      "metadata": {
        "id": "w2fsDpmiSUG7",
        "colab_type": "code",
        "outputId": "9944f98e-a6d5-4030-8c20-e40f4eeb19f3",
        "colab": {
          "base_uri": "https://localhost:8080/",
          "height": 34
        }
      },
      "source": [
        "venues = result['response']['groups'][0]['items']\n",
        "len(venues)\n",
        "\n",
        "# This tells us about 40 venues are returned in a 10 Kilometer radius of Alimosho LGA"
      ],
      "execution_count": 26,
      "outputs": [
        {
          "output_type": "execute_result",
          "data": {
            "text/plain": [
              "39"
            ]
          },
          "metadata": {
            "tags": []
          },
          "execution_count": 26
        }
      ]
    },
    {
      "cell_type": "code",
      "metadata": {
        "id": "HTJCqk02o0Z3",
        "colab_type": "code",
        "colab": {}
      },
      "source": [
        "# See the venues json data\n",
        "\n",
        "# venues"
      ],
      "execution_count": 0,
      "outputs": []
    },
    {
      "cell_type": "markdown",
      "metadata": {
        "id": "kWRrHXn9ByJ6",
        "colab_type": "text"
      },
      "source": [
        "Next, lets convert the result of nearby alimosho borough venues returned into a DataFrame"
      ]
    },
    {
      "cell_type": "code",
      "metadata": {
        "id": "_CxoOEbMB6S3",
        "colab_type": "code",
        "outputId": "b7a98751-ab85-462a-b34f-8e27d46978c3",
        "colab": {
          "base_uri": "https://localhost:8080/",
          "height": 467
        }
      },
      "source": [
        "nearby_venues = json_normalize(venues)\n",
        "nearby_venues.head()"
      ],
      "execution_count": 28,
      "outputs": [
        {
          "output_type": "execute_result",
          "data": {
            "text/html": [
              "<div>\n",
              "<style scoped>\n",
              "    .dataframe tbody tr th:only-of-type {\n",
              "        vertical-align: middle;\n",
              "    }\n",
              "\n",
              "    .dataframe tbody tr th {\n",
              "        vertical-align: top;\n",
              "    }\n",
              "\n",
              "    .dataframe thead th {\n",
              "        text-align: right;\n",
              "    }\n",
              "</style>\n",
              "<table border=\"1\" class=\"dataframe\">\n",
              "  <thead>\n",
              "    <tr style=\"text-align: right;\">\n",
              "      <th></th>\n",
              "      <th>referralId</th>\n",
              "      <th>reasons.count</th>\n",
              "      <th>reasons.items</th>\n",
              "      <th>venue.id</th>\n",
              "      <th>venue.name</th>\n",
              "      <th>venue.location.address</th>\n",
              "      <th>venue.location.lat</th>\n",
              "      <th>venue.location.lng</th>\n",
              "      <th>venue.location.labeledLatLngs</th>\n",
              "      <th>venue.location.distance</th>\n",
              "      <th>venue.location.postalCode</th>\n",
              "      <th>venue.location.cc</th>\n",
              "      <th>venue.location.city</th>\n",
              "      <th>venue.location.state</th>\n",
              "      <th>venue.location.country</th>\n",
              "      <th>venue.location.formattedAddress</th>\n",
              "      <th>venue.categories</th>\n",
              "      <th>venue.photos.count</th>\n",
              "      <th>venue.photos.groups</th>\n",
              "      <th>venue.location.crossStreet</th>\n",
              "      <th>venue.location.neighborhood</th>\n",
              "      <th>venue.venuePage.id</th>\n",
              "    </tr>\n",
              "  </thead>\n",
              "  <tbody>\n",
              "    <tr>\n",
              "      <th>0</th>\n",
              "      <td>e-0-4e261fce315161d79d2a8fa5-0</td>\n",
              "      <td>0</td>\n",
              "      <td>[{'summary': 'This spot is popular', 'type': '...</td>\n",
              "      <td>4e261fce315161d79d2a8fa5</td>\n",
              "      <td>SHAWARMA.COME</td>\n",
              "      <td>federal junction beside mr biggs gowon estate ...</td>\n",
              "      <td>6.604609</td>\n",
              "      <td>3.277413</td>\n",
              "      <td>[{'label': 'display', 'lat': 6.604608729562348...</td>\n",
              "      <td>3142</td>\n",
              "      <td>+234</td>\n",
              "      <td>NG</td>\n",
              "      <td>Lagos</td>\n",
              "      <td>Lagos</td>\n",
              "      <td>Nigeria</td>\n",
              "      <td>[federal junction beside mr biggs gowon estate...</td>\n",
              "      <td>[{'id': '4bf58dd8d48988d1ca941735', 'name': 'P...</td>\n",
              "      <td>0</td>\n",
              "      <td>[]</td>\n",
              "      <td>NaN</td>\n",
              "      <td>NaN</td>\n",
              "      <td>NaN</td>\n",
              "    </tr>\n",
              "    <tr>\n",
              "      <th>1</th>\n",
              "      <td>e-0-4ecbf689b6346e2d3a4dead5-1</td>\n",
              "      <td>0</td>\n",
              "      <td>[{'summary': 'This spot is popular', 'type': '...</td>\n",
              "      <td>4ecbf689b6346e2d3a4dead5</td>\n",
              "      <td>Tantalisers</td>\n",
              "      <td>Abule Egba</td>\n",
              "      <td>6.649299</td>\n",
              "      <td>3.265609</td>\n",
              "      <td>[{'label': 'display', 'lat': 6.649299147190656...</td>\n",
              "      <td>7284</td>\n",
              "      <td>NaN</td>\n",
              "      <td>NG</td>\n",
              "      <td>Lagos</td>\n",
              "      <td>Lagos</td>\n",
              "      <td>Nigeria</td>\n",
              "      <td>[Abule Egba, Lagos, Lagos, Nigeria]</td>\n",
              "      <td>[{'id': '4bf58dd8d48988d16c941735', 'name': 'B...</td>\n",
              "      <td>0</td>\n",
              "      <td>[]</td>\n",
              "      <td>NaN</td>\n",
              "      <td>NaN</td>\n",
              "      <td>NaN</td>\n",
              "    </tr>\n",
              "    <tr>\n",
              "      <th>2</th>\n",
              "      <td>e-0-4f75a8e7e4b06c81e0e3ba05-2</td>\n",
              "      <td>0</td>\n",
              "      <td>[{'summary': 'This spot is popular', 'type': '...</td>\n",
              "      <td>4f75a8e7e4b06c81e0e3ba05</td>\n",
              "      <td>Wings Restaurant</td>\n",
              "      <td>NaN</td>\n",
              "      <td>6.576023</td>\n",
              "      <td>3.325612</td>\n",
              "      <td>[{'label': 'display', 'lat': 6.576022675981682...</td>\n",
              "      <td>7574</td>\n",
              "      <td>NaN</td>\n",
              "      <td>NG</td>\n",
              "      <td>Lagos</td>\n",
              "      <td>Lagos</td>\n",
              "      <td>Nigeria</td>\n",
              "      <td>[Lagos, Lagos, Nigeria]</td>\n",
              "      <td>[{'id': '4bf58dd8d48988d1c4941735', 'name': 'R...</td>\n",
              "      <td>0</td>\n",
              "      <td>[]</td>\n",
              "      <td>NaN</td>\n",
              "      <td>NaN</td>\n",
              "      <td>NaN</td>\n",
              "    </tr>\n",
              "    <tr>\n",
              "      <th>3</th>\n",
              "      <td>e-0-51176f6ce4b05931e449abbc-3</td>\n",
              "      <td>0</td>\n",
              "      <td>[{'summary': 'This spot is popular', 'type': '...</td>\n",
              "      <td>51176f6ce4b05931e449abbc</td>\n",
              "      <td>Ipaja market ipaja</td>\n",
              "      <td>Ipaja Last bus stop</td>\n",
              "      <td>6.602248</td>\n",
              "      <td>3.255585</td>\n",
              "      <td>[{'label': 'display', 'lat': 6.602248491329565...</td>\n",
              "      <td>2006</td>\n",
              "      <td>NaN</td>\n",
              "      <td>NG</td>\n",
              "      <td>Lagos</td>\n",
              "      <td>Lagos</td>\n",
              "      <td>Nigeria</td>\n",
              "      <td>[Ipaja Last bus stop (Ipaja), Lagos, Lagos, Ni...</td>\n",
              "      <td>[{'id': '50be8ee891d4fa8dcc7199a7', 'name': 'M...</td>\n",
              "      <td>0</td>\n",
              "      <td>[]</td>\n",
              "      <td>Ipaja</td>\n",
              "      <td>NaN</td>\n",
              "      <td>NaN</td>\n",
              "    </tr>\n",
              "    <tr>\n",
              "      <th>4</th>\n",
              "      <td>e-0-4c93872fa25fef3b4c231223-4</td>\n",
              "      <td>0</td>\n",
              "      <td>[{'summary': 'This spot is popular', 'type': '...</td>\n",
              "      <td>4c93872fa25fef3b4c231223</td>\n",
              "      <td>De Grange suites &amp; bar</td>\n",
              "      <td>4, association rd, boys town Ipaja</td>\n",
              "      <td>6.602309</td>\n",
              "      <td>3.267038</td>\n",
              "      <td>[{'label': 'display', 'lat': 6.602309210296299...</td>\n",
              "      <td>2254</td>\n",
              "      <td>NaN</td>\n",
              "      <td>NG</td>\n",
              "      <td>Lagos</td>\n",
              "      <td>Lagos</td>\n",
              "      <td>Nigeria</td>\n",
              "      <td>[4, association rd, boys town Ipaja (btw ipaja...</td>\n",
              "      <td>[{'id': '4bf58dd8d48988d116941735', 'name': 'B...</td>\n",
              "      <td>0</td>\n",
              "      <td>[]</td>\n",
              "      <td>btw ipaja road and ayobo</td>\n",
              "      <td>NaN</td>\n",
              "      <td>NaN</td>\n",
              "    </tr>\n",
              "  </tbody>\n",
              "</table>\n",
              "</div>"
            ],
            "text/plain": [
              "                       referralId  ...  venue.venuePage.id\n",
              "0  e-0-4e261fce315161d79d2a8fa5-0  ...                 NaN\n",
              "1  e-0-4ecbf689b6346e2d3a4dead5-1  ...                 NaN\n",
              "2  e-0-4f75a8e7e4b06c81e0e3ba05-2  ...                 NaN\n",
              "3  e-0-51176f6ce4b05931e449abbc-3  ...                 NaN\n",
              "4  e-0-4c93872fa25fef3b4c231223-4  ...                 NaN\n",
              "\n",
              "[5 rows x 22 columns]"
            ]
          },
          "metadata": {
            "tags": []
          },
          "execution_count": 28
        }
      ]
    },
    {
      "cell_type": "markdown",
      "metadata": {
        "id": "Wdoii5b7ms17",
        "colab_type": "text"
      },
      "source": [
        "Okay let's now filter the venue DataFrame and select only the volumns needed "
      ]
    },
    {
      "cell_type": "code",
      "metadata": {
        "id": "RXVe8mW0mImM",
        "colab_type": "code",
        "outputId": "a5405158-5f67-44ff-b9bb-c8dd13d08c93",
        "colab": {
          "base_uri": "https://localhost:8080/",
          "height": 195
        }
      },
      "source": [
        "# filter columns\n",
        "filtered_columns = ['venue.name', 'venue.categories', 'venue.location.lat', 'venue.location.lng', 'venue.location.distance', 'venue.id']\n",
        "nearby_venues = nearby_venues.loc[:, filtered_columns]\n",
        "\n",
        "nearby_venues.head()"
      ],
      "execution_count": 29,
      "outputs": [
        {
          "output_type": "execute_result",
          "data": {
            "text/html": [
              "<div>\n",
              "<style scoped>\n",
              "    .dataframe tbody tr th:only-of-type {\n",
              "        vertical-align: middle;\n",
              "    }\n",
              "\n",
              "    .dataframe tbody tr th {\n",
              "        vertical-align: top;\n",
              "    }\n",
              "\n",
              "    .dataframe thead th {\n",
              "        text-align: right;\n",
              "    }\n",
              "</style>\n",
              "<table border=\"1\" class=\"dataframe\">\n",
              "  <thead>\n",
              "    <tr style=\"text-align: right;\">\n",
              "      <th></th>\n",
              "      <th>venue.name</th>\n",
              "      <th>venue.categories</th>\n",
              "      <th>venue.location.lat</th>\n",
              "      <th>venue.location.lng</th>\n",
              "      <th>venue.location.distance</th>\n",
              "      <th>venue.id</th>\n",
              "    </tr>\n",
              "  </thead>\n",
              "  <tbody>\n",
              "    <tr>\n",
              "      <th>0</th>\n",
              "      <td>SHAWARMA.COME</td>\n",
              "      <td>[{'id': '4bf58dd8d48988d1ca941735', 'name': 'P...</td>\n",
              "      <td>6.604609</td>\n",
              "      <td>3.277413</td>\n",
              "      <td>3142</td>\n",
              "      <td>4e261fce315161d79d2a8fa5</td>\n",
              "    </tr>\n",
              "    <tr>\n",
              "      <th>1</th>\n",
              "      <td>Tantalisers</td>\n",
              "      <td>[{'id': '4bf58dd8d48988d16c941735', 'name': 'B...</td>\n",
              "      <td>6.649299</td>\n",
              "      <td>3.265609</td>\n",
              "      <td>7284</td>\n",
              "      <td>4ecbf689b6346e2d3a4dead5</td>\n",
              "    </tr>\n",
              "    <tr>\n",
              "      <th>2</th>\n",
              "      <td>Wings Restaurant</td>\n",
              "      <td>[{'id': '4bf58dd8d48988d1c4941735', 'name': 'R...</td>\n",
              "      <td>6.576023</td>\n",
              "      <td>3.325612</td>\n",
              "      <td>7574</td>\n",
              "      <td>4f75a8e7e4b06c81e0e3ba05</td>\n",
              "    </tr>\n",
              "    <tr>\n",
              "      <th>3</th>\n",
              "      <td>Ipaja market ipaja</td>\n",
              "      <td>[{'id': '50be8ee891d4fa8dcc7199a7', 'name': 'M...</td>\n",
              "      <td>6.602248</td>\n",
              "      <td>3.255585</td>\n",
              "      <td>2006</td>\n",
              "      <td>51176f6ce4b05931e449abbc</td>\n",
              "    </tr>\n",
              "    <tr>\n",
              "      <th>4</th>\n",
              "      <td>De Grange suites &amp; bar</td>\n",
              "      <td>[{'id': '4bf58dd8d48988d116941735', 'name': 'B...</td>\n",
              "      <td>6.602309</td>\n",
              "      <td>3.267038</td>\n",
              "      <td>2254</td>\n",
              "      <td>4c93872fa25fef3b4c231223</td>\n",
              "    </tr>\n",
              "  </tbody>\n",
              "</table>\n",
              "</div>"
            ],
            "text/plain": [
              "               venue.name  ...                  venue.id\n",
              "0           SHAWARMA.COME  ...  4e261fce315161d79d2a8fa5\n",
              "1             Tantalisers  ...  4ecbf689b6346e2d3a4dead5\n",
              "2        Wings Restaurant  ...  4f75a8e7e4b06c81e0e3ba05\n",
              "3      Ipaja market ipaja  ...  51176f6ce4b05931e449abbc\n",
              "4  De Grange suites & bar  ...  4c93872fa25fef3b4c231223\n",
              "\n",
              "[5 rows x 6 columns]"
            ]
          },
          "metadata": {
            "tags": []
          },
          "execution_count": 29
        }
      ]
    },
    {
      "cell_type": "markdown",
      "metadata": {
        "id": "QQMuqBLlpr8D",
        "colab_type": "text"
      },
      "source": [
        "We can see that the categories column is not well formatted. Let's clean it out.<br>\n",
        "First let's inspect it closer"
      ]
    },
    {
      "cell_type": "code",
      "metadata": {
        "id": "UrAZ9DBUp3ZC",
        "colab_type": "code",
        "outputId": "1aa8b2bb-9b89-4741-b75c-b6256479b9ba",
        "colab": {
          "base_uri": "https://localhost:8080/",
          "height": 134
        }
      },
      "source": [
        "nearby_venues['venue.categories'][0]"
      ],
      "execution_count": 30,
      "outputs": [
        {
          "output_type": "execute_result",
          "data": {
            "text/plain": [
              "[{'icon': {'prefix': 'https://ss3.4sqi.net/img/categories_v2/food/pizza_',\n",
              "   'suffix': '.png'},\n",
              "  'id': '4bf58dd8d48988d1ca941735',\n",
              "  'name': 'Pizza Place',\n",
              "  'pluralName': 'Pizza Places',\n",
              "  'primary': True,\n",
              "  'shortName': 'Pizza'}]"
            ]
          },
          "metadata": {
            "tags": []
          },
          "execution_count": 30
        }
      ]
    },
    {
      "cell_type": "markdown",
      "metadata": {
        "id": "cZj8jlwOqJ_n",
        "colab_type": "text"
      },
      "source": [
        "Ok so let's now define a simple method that returns only the name for each category.<br>\n",
        "Then use the apply method to apply it on each category item in the dataframe\n",
        "                                                            "
      ]
    },
    {
      "cell_type": "code",
      "metadata": {
        "id": "wEp6r3CdoXIu",
        "colab_type": "code",
        "colab": {}
      },
      "source": [
        "def clean_category(x):\n",
        "    x = x[0]['name']\n",
        "    return x"
      ],
      "execution_count": 0,
      "outputs": []
    },
    {
      "cell_type": "markdown",
      "metadata": {
        "id": "N2Nb3oSNqepT",
        "colab_type": "text"
      },
      "source": [
        "Now let's apply it"
      ]
    },
    {
      "cell_type": "code",
      "metadata": {
        "id": "o7qzO6zmpRF2",
        "colab_type": "code",
        "colab": {}
      },
      "source": [
        "nearby_venues['venue.categories'] = nearby_venues['venue.categories'].apply(clean_category)"
      ],
      "execution_count": 0,
      "outputs": []
    },
    {
      "cell_type": "markdown",
      "metadata": {
        "id": "I_DCPW7wqihT",
        "colab_type": "text"
      },
      "source": [
        "Finally let's view the cleaned category column"
      ]
    },
    {
      "cell_type": "code",
      "metadata": {
        "id": "PJVhOY495zFE",
        "colab_type": "code",
        "outputId": "2be2b633-4775-4383-b4ff-7d9164380962",
        "colab": {
          "base_uri": "https://localhost:8080/",
          "height": 195
        }
      },
      "source": [
        "alimosho_venues = nearby_venues\n",
        "\n",
        "alimosho_venues.head()"
      ],
      "execution_count": 33,
      "outputs": [
        {
          "output_type": "execute_result",
          "data": {
            "text/html": [
              "<div>\n",
              "<style scoped>\n",
              "    .dataframe tbody tr th:only-of-type {\n",
              "        vertical-align: middle;\n",
              "    }\n",
              "\n",
              "    .dataframe tbody tr th {\n",
              "        vertical-align: top;\n",
              "    }\n",
              "\n",
              "    .dataframe thead th {\n",
              "        text-align: right;\n",
              "    }\n",
              "</style>\n",
              "<table border=\"1\" class=\"dataframe\">\n",
              "  <thead>\n",
              "    <tr style=\"text-align: right;\">\n",
              "      <th></th>\n",
              "      <th>venue.name</th>\n",
              "      <th>venue.categories</th>\n",
              "      <th>venue.location.lat</th>\n",
              "      <th>venue.location.lng</th>\n",
              "      <th>venue.location.distance</th>\n",
              "      <th>venue.id</th>\n",
              "    </tr>\n",
              "  </thead>\n",
              "  <tbody>\n",
              "    <tr>\n",
              "      <th>0</th>\n",
              "      <td>SHAWARMA.COME</td>\n",
              "      <td>Pizza Place</td>\n",
              "      <td>6.604609</td>\n",
              "      <td>3.277413</td>\n",
              "      <td>3142</td>\n",
              "      <td>4e261fce315161d79d2a8fa5</td>\n",
              "    </tr>\n",
              "    <tr>\n",
              "      <th>1</th>\n",
              "      <td>Tantalisers</td>\n",
              "      <td>Burger Joint</td>\n",
              "      <td>6.649299</td>\n",
              "      <td>3.265609</td>\n",
              "      <td>7284</td>\n",
              "      <td>4ecbf689b6346e2d3a4dead5</td>\n",
              "    </tr>\n",
              "    <tr>\n",
              "      <th>2</th>\n",
              "      <td>Wings Restaurant</td>\n",
              "      <td>Restaurant</td>\n",
              "      <td>6.576023</td>\n",
              "      <td>3.325612</td>\n",
              "      <td>7574</td>\n",
              "      <td>4f75a8e7e4b06c81e0e3ba05</td>\n",
              "    </tr>\n",
              "    <tr>\n",
              "      <th>3</th>\n",
              "      <td>Ipaja market ipaja</td>\n",
              "      <td>Market</td>\n",
              "      <td>6.602248</td>\n",
              "      <td>3.255585</td>\n",
              "      <td>2006</td>\n",
              "      <td>51176f6ce4b05931e449abbc</td>\n",
              "    </tr>\n",
              "    <tr>\n",
              "      <th>4</th>\n",
              "      <td>De Grange suites &amp; bar</td>\n",
              "      <td>Bar</td>\n",
              "      <td>6.602309</td>\n",
              "      <td>3.267038</td>\n",
              "      <td>2254</td>\n",
              "      <td>4c93872fa25fef3b4c231223</td>\n",
              "    </tr>\n",
              "  </tbody>\n",
              "</table>\n",
              "</div>"
            ],
            "text/plain": [
              "               venue.name  ...                  venue.id\n",
              "0           SHAWARMA.COME  ...  4e261fce315161d79d2a8fa5\n",
              "1             Tantalisers  ...  4ecbf689b6346e2d3a4dead5\n",
              "2        Wings Restaurant  ...  4f75a8e7e4b06c81e0e3ba05\n",
              "3      Ipaja market ipaja  ...  51176f6ce4b05931e449abbc\n",
              "4  De Grange suites & bar  ...  4c93872fa25fef3b4c231223\n",
              "\n",
              "[5 rows x 6 columns]"
            ]
          },
          "metadata": {
            "tags": []
          },
          "execution_count": 33
        }
      ]
    },
    {
      "cell_type": "markdown",
      "metadata": {
        "id": "fYtIW4-_pBAo",
        "colab_type": "text"
      },
      "source": [
        "Lets see the different types of venues present"
      ]
    },
    {
      "cell_type": "code",
      "metadata": {
        "id": "uxrHYnrJpHkj",
        "colab_type": "code",
        "outputId": "e340ac99-ebe6-4263-ea57-243c48dda2f4",
        "colab": {
          "base_uri": "https://localhost:8080/",
          "height": 130
        }
      },
      "source": [
        "alimosho_cat_count = alimosho_venues.groupby('venue.categories').size().to_frame()\n",
        "\n",
        "alimosho_cat_count.columns = ['frequency']\n",
        "\n",
        "# Let's see the categories of venues present in the alimosho LGA\n",
        "alimosho_cat_count.T"
      ],
      "execution_count": 34,
      "outputs": [
        {
          "output_type": "execute_result",
          "data": {
            "text/html": [
              "<div>\n",
              "<style scoped>\n",
              "    .dataframe tbody tr th:only-of-type {\n",
              "        vertical-align: middle;\n",
              "    }\n",
              "\n",
              "    .dataframe tbody tr th {\n",
              "        vertical-align: top;\n",
              "    }\n",
              "\n",
              "    .dataframe thead th {\n",
              "        text-align: right;\n",
              "    }\n",
              "</style>\n",
              "<table border=\"1\" class=\"dataframe\">\n",
              "  <thead>\n",
              "    <tr style=\"text-align: right;\">\n",
              "      <th>venue.categories</th>\n",
              "      <th>Airport</th>\n",
              "      <th>Airport Food Court</th>\n",
              "      <th>Airport Lounge</th>\n",
              "      <th>Airport Service</th>\n",
              "      <th>American Restaurant</th>\n",
              "      <th>Athletics &amp; Sports</th>\n",
              "      <th>Bar</th>\n",
              "      <th>Boutique</th>\n",
              "      <th>Burger Joint</th>\n",
              "      <th>Campground</th>\n",
              "      <th>Convenience Store</th>\n",
              "      <th>Department Store</th>\n",
              "      <th>Electronics Store</th>\n",
              "      <th>Farmers Market</th>\n",
              "      <th>Fast Food Restaurant</th>\n",
              "      <th>Heliport</th>\n",
              "      <th>Hotel</th>\n",
              "      <th>Lounge</th>\n",
              "      <th>Market</th>\n",
              "      <th>Park</th>\n",
              "      <th>Pizza Place</th>\n",
              "      <th>Restaurant</th>\n",
              "      <th>Shopping Mall</th>\n",
              "      <th>Soup Place</th>\n",
              "      <th>Wine Shop</th>\n",
              "    </tr>\n",
              "  </thead>\n",
              "  <tbody>\n",
              "    <tr>\n",
              "      <th>frequency</th>\n",
              "      <td>1</td>\n",
              "      <td>1</td>\n",
              "      <td>1</td>\n",
              "      <td>1</td>\n",
              "      <td>1</td>\n",
              "      <td>1</td>\n",
              "      <td>1</td>\n",
              "      <td>1</td>\n",
              "      <td>2</td>\n",
              "      <td>1</td>\n",
              "      <td>1</td>\n",
              "      <td>1</td>\n",
              "      <td>1</td>\n",
              "      <td>1</td>\n",
              "      <td>6</td>\n",
              "      <td>1</td>\n",
              "      <td>2</td>\n",
              "      <td>2</td>\n",
              "      <td>1</td>\n",
              "      <td>2</td>\n",
              "      <td>3</td>\n",
              "      <td>3</td>\n",
              "      <td>2</td>\n",
              "      <td>1</td>\n",
              "      <td>1</td>\n",
              "    </tr>\n",
              "  </tbody>\n",
              "</table>\n",
              "</div>"
            ],
            "text/plain": [
              "venue.categories  Airport  Airport Food Court  ...  Soup Place  Wine Shop\n",
              "frequency               1                   1  ...           1          1\n",
              "\n",
              "[1 rows x 25 columns]"
            ]
          },
          "metadata": {
            "tags": []
          },
          "execution_count": 34
        }
      ]
    },
    {
      "cell_type": "markdown",
      "metadata": {
        "id": "odg7dE_r_sTD",
        "colab_type": "text"
      },
      "source": [
        "Let's create a copy of the original lagos_df so that we can make the LGA its index. this will make our analysis easier"
      ]
    },
    {
      "cell_type": "code",
      "metadata": {
        "id": "xJW3o79-_31G",
        "colab_type": "code",
        "outputId": "da569b29-fac8-48dd-a936-013dc18f0e02",
        "colab": {
          "base_uri": "https://localhost:8080/",
          "height": 225
        }
      },
      "source": [
        "# First let's make a copy of the lagos_df\n",
        "copy_lagos_df = lagos_df.copy(deep=True)  # deep=True means if we make adjustments to this copy, the original won't be affected and vice versa.\n",
        "\n",
        "# Then let's make LGAs the index\n",
        "copy_lagos_df.index = copy_lagos_df.LGA\n",
        "\n",
        "# Let's drop the LGA Column\n",
        "copy_lagos_df = copy_lagos_df.drop('LGA', axis=1)\n",
        "\n",
        "# Lets view the effect\n",
        "copy_lagos_df.head()"
      ],
      "execution_count": 35,
      "outputs": [
        {
          "output_type": "execute_result",
          "data": {
            "text/html": [
              "<div>\n",
              "<style scoped>\n",
              "    .dataframe tbody tr th:only-of-type {\n",
              "        vertical-align: middle;\n",
              "    }\n",
              "\n",
              "    .dataframe tbody tr th {\n",
              "        vertical-align: top;\n",
              "    }\n",
              "\n",
              "    .dataframe thead th {\n",
              "        text-align: right;\n",
              "    }\n",
              "</style>\n",
              "<table border=\"1\" class=\"dataframe\">\n",
              "  <thead>\n",
              "    <tr style=\"text-align: right;\">\n",
              "      <th></th>\n",
              "      <th>POP</th>\n",
              "      <th>latitude</th>\n",
              "      <th>longitude</th>\n",
              "    </tr>\n",
              "    <tr>\n",
              "      <th>LGA</th>\n",
              "      <th></th>\n",
              "      <th></th>\n",
              "      <th></th>\n",
              "    </tr>\n",
              "  </thead>\n",
              "  <tbody>\n",
              "    <tr>\n",
              "      <th>Alimosho</th>\n",
              "      <td>5700714</td>\n",
              "      <td>6.58434</td>\n",
              "      <td>3.257631</td>\n",
              "    </tr>\n",
              "    <tr>\n",
              "      <th>Ajeromi-Ifelodun</th>\n",
              "      <td>1746634</td>\n",
              "      <td>6.45512</td>\n",
              "      <td>3.335946</td>\n",
              "    </tr>\n",
              "    <tr>\n",
              "      <th>Kosofe</th>\n",
              "      <td>665998</td>\n",
              "      <td>6.58197</td>\n",
              "      <td>3.414836</td>\n",
              "    </tr>\n",
              "    <tr>\n",
              "      <th>Mushin, Lagos</th>\n",
              "      <td>633543</td>\n",
              "      <td>6.53263</td>\n",
              "      <td>3.352022</td>\n",
              "    </tr>\n",
              "    <tr>\n",
              "      <th>Oshodi-Isolo</th>\n",
              "      <td>621789</td>\n",
              "      <td>6.54001</td>\n",
              "      <td>3.312415</td>\n",
              "    </tr>\n",
              "  </tbody>\n",
              "</table>\n",
              "</div>"
            ],
            "text/plain": [
              "                      POP latitude  longitude\n",
              "LGA                                          \n",
              "Alimosho          5700714  6.58434   3.257631\n",
              "Ajeromi-Ifelodun  1746634  6.45512   3.335946\n",
              "Kosofe             665998  6.58197   3.414836\n",
              "Mushin, Lagos      633543  6.53263   3.352022\n",
              "Oshodi-Isolo       621789  6.54001   3.312415"
            ]
          },
          "metadata": {
            "tags": []
          },
          "execution_count": 35
        }
      ]
    },
    {
      "cell_type": "markdown",
      "metadata": {
        "id": "HYTrN7C26EBP",
        "colab_type": "text"
      },
      "source": [
        "<h3>Next let's encapsulate all these steps into a single method that we can call</h3>"
      ]
    },
    {
      "cell_type": "markdown",
      "metadata": {
        "id": "ABkhsHFy673f",
        "colab_type": "text"
      },
      "source": [
        "First let's define a method for plotting each map"
      ]
    },
    {
      "cell_type": "code",
      "metadata": {
        "id": "lKUnyNhM6sR4",
        "colab_type": "code",
        "colab": {}
      },
      "source": [
        "def plot_map(lga):\n",
        "    \"\"\" This method takes an LGA name and\n",
        "    returns a plotted map of it based on lat and lon\"\"\"\n",
        "    lat = copy_lagos_df.loc[lga, 'latitude']\n",
        "    lon = copy_lagos_df.loc[lga, 'longitude']\n",
        "    \n",
        "    # create map of lga using latitude and longitude values\n",
        "    map_lga = folium.Map(location=[lat, lon], zoom_start=14)\n",
        "\n",
        "    # add markers to map\n",
        "\n",
        "    label = \"{}\".format(lga)\n",
        "    label = folium.Popup(label, parse_html=True)\n",
        "    folium.CircleMarker(\n",
        "        [lat, lon],\n",
        "        radius=10,\n",
        "        popup=label,\n",
        "        color='blue',\n",
        "        fill=True,\n",
        "        fill_color='#3186cc',\n",
        "        fill_opacity=0.8,\n",
        "        parse_html=False).add_to(map_lga)  \n",
        "    return map_lga"
      ],
      "execution_count": 0,
      "outputs": []
    },
    {
      "cell_type": "markdown",
      "metadata": {
        "id": "RtnXsY6hDS4d",
        "colab_type": "text"
      },
      "source": [
        "Next let's define a method that returns a filtered out version of up to 200 popular venues within 10KM radius of each LGA"
      ]
    },
    {
      "cell_type": "code",
      "metadata": {
        "id": "G1cZ-FIzDdZW",
        "colab_type": "code",
        "colab": {}
      },
      "source": [
        "def return_venues(lga):\n",
        "    \n",
        "    # let's save the latitude and longitude values\n",
        "    lat = copy_lagos_df.loc[lga, 'latitude']\n",
        "    lon = copy_lagos_df.loc[lga, 'longitude']\n",
        "    \n",
        "    # First lets save the foursquare credentials\n",
        "    CLIENT_ID = 'L2XUYCRD44VP2YBDMZ3XY0Z4XKO1JODM5SMG3IIYRZ5330FD' # your Foursquare ID\n",
        "    CLIENT_SECRET = '5KI00FG4RT2VJQTIDPXFY1N4AOKTIXLIZEAO0AHPP3DPD0U1' # your Foursquare Secret\n",
        "    VERSION = '20190902'\n",
        "    \n",
        "    # Now, let's get the top 200 venues that are in the first entry within a radius of 10 Kilometers.\n",
        "    radius = 10000 # 10,000 meters is 10KM\n",
        "    LIMIT=200  # no more than 200 venues\n",
        "    url = 'https://api.foursquare.com/v2/venues/explore?&client_id={}&client_secret={}&v={}&ll={},{}&radius={}&limit={}'.format(\n",
        "        CLIENT_ID, \n",
        "        CLIENT_SECRET, \n",
        "        VERSION, \n",
        "        lat, \n",
        "        lon, \n",
        "        radius, \n",
        "        LIMIT)\n",
        "    \n",
        "    # Let's filter out the result\n",
        "    result = requests.get(url).json()\n",
        "    \n",
        "    # From the result, lets get the venues\n",
        "    venues = result['response']['groups'][0]['items']\n",
        "    \n",
        "    # Lets convert the json files to dataframe\n",
        "    nearby_venues = json_normalize(venues)\n",
        "    \n",
        "    # Let's filter the venues and select only columns needed\n",
        "    filtered_columns = ['venue.name', 'venue.categories', 'venue.location.lat', 'venue.location.lng', 'venue.location.distance', 'venue.id']\n",
        "    nearby_venues = nearby_venues.loc[:, filtered_columns]\n",
        "    \n",
        "    # Next lets use the clean_category method to clean out category column\n",
        "    nearby_venues['venue.categories'] = nearby_venues['venue.categories'].apply(clean_category)\n",
        "\n",
        "    \n",
        "    return nearby_venues"
      ],
      "execution_count": 0,
      "outputs": []
    },
    {
      "cell_type": "markdown",
      "metadata": {
        "id": "lrG-5jbIGgI7",
        "colab_type": "text"
      },
      "source": [
        "Let's see a summary of the total number of venues returned for each LGA, as well as the first 5 venues<br>We shall also extract the lgas with less than i5 venues"
      ]
    },
    {
      "cell_type": "markdown",
      "metadata": {
        "id": "cHhHrcVMFntb",
        "colab_type": "text"
      },
      "source": [
        "Always  be aware that the total venues and types returned will be a function of the day and time the code cell below is run.<br> Normally weekends may return fewer official venues than weekdays and sunday mornings in particular return the least amount of available venues."
      ]
    },
    {
      "cell_type": "code",
      "metadata": {
        "id": "K62WPeptGgxa",
        "colab_type": "code",
        "outputId": "5b3ca889-bde1-4bed-85e6-fa955ba646c7",
        "colab": {
          "base_uri": "https://localhost:8080/",
          "height": 1000
        }
      },
      "source": [
        "# first let's create a list of lgas with <= 15 venues to be excluded from our analysis\n",
        "lga_exclusion_list = []\n",
        "\n",
        "for i in range(len(copy_lagos_df)):\n",
        "    x = copy_lagos_df.index[i]\n",
        "    z = x\n",
        "    x+='_lga_venues'\n",
        "    y = return_venues(copy_lagos_df.index[i])\n",
        "\n",
        "    print('Total number of venues returned for {} is {}'.format(x, len(y)))\n",
        "    # if total venues returned per lga is less than 15 add to exclusion list\n",
        "    if len(y) <= 15:\n",
        "        lga_exclusion_list.append(z)\n",
        "\n",
        "    print(y.head())\n",
        "    print()\n",
        "print('LGAs to be possibly excluded due to low venues count are:- ')\n",
        "print(lga_exclusion_list)"
      ],
      "execution_count": 38,
      "outputs": [
        {
          "output_type": "stream",
          "text": [
            "Total number of venues returned for Alimosho_lga_venues is 39\n",
            "               venue.name  ...                  venue.id\n",
            "0           SHAWARMA.COME  ...  4e261fce315161d79d2a8fa5\n",
            "1             Tantalisers  ...  4ecbf689b6346e2d3a4dead5\n",
            "2        Wings Restaurant  ...  4f75a8e7e4b06c81e0e3ba05\n",
            "3      Ipaja market ipaja  ...  51176f6ce4b05931e449abbc\n",
            "4  De Grange suites & bar  ...  4c93872fa25fef3b4c231223\n",
            "\n",
            "[5 rows x 6 columns]\n",
            "\n",
            "Total number of venues returned for Ajeromi-Ifelodun_lga_venues is 59\n",
            "                        venue.name  ...                  venue.id\n",
            "0  Mega Chicken Chinese Restaurant  ...  54ce24ae498e6f49a707f987\n",
            "1                   Rockview Hotel  ...  4e1cbebe7d8b8fe8c30af7b0\n",
            "2                Film House Cinema  ...  50ccbc9ce4b0d07024dd14f4\n",
            "3                Pool Golden Tulip  ...  5139ec67e4b06ad169780e29\n",
            "4            tank and tummy festac  ...  4d4ea5e9ae4e60fce52c02a2\n",
            "\n",
            "[5 rows x 6 columns]\n",
            "\n",
            "Total number of venues returned for Kosofe_lga_venues is 79\n",
            "                       venue.name  ...                  venue.id\n",
            "0           De Prince Supermarket  ...  4fce4c1ae4b0d4988249ad4a\n",
            "1                 Mende Suya Spot  ...  4c5af9572091a593d5b160d0\n",
            "2                   Maryland Mall  ...  57767482498e1b23fc39b866\n",
            "3    Zen Garden Chinese Resturant  ...  4cbb0b289552b60c6994dd8b\n",
            "4  The Londoners Bar & Restaurant  ...  4da4afbcb1c9370496db15a2\n",
            "\n",
            "[5 rows x 6 columns]\n",
            "\n",
            "Total number of venues returned for Mushin, Lagos_lga_venues is 100\n",
            "        venue.name  ...                  venue.id\n",
            "0      KFC Ilupeju  ...  50605618e4b010db7403ba92\n",
            "1        CKDigital  ...  51e4a11c498ed6f7bfaff09f\n",
            "2             Spar  ...  5701078acd102e9eccf3890f\n",
            "3      Bar Enclave  ...  4d3c661405b8721ef3f98b37\n",
            "4  Cakes and Cream  ...  4e903b55d22dccc37eac32c3\n",
            "\n",
            "[5 rows x 6 columns]\n",
            "\n",
            "Total number of venues returned for Oshodi-Isolo_lga_venues is 100\n",
            "                       venue.name  ...                  venue.id\n",
            "0                  Shoprite Ikeja  ...  4ef0a1a502d50bd85776d3f6\n",
            "1                Wings Restaurant  ...  4f75a8e7e4b06c81e0e3ba05\n",
            "2                     KFC Ilupeju  ...  50605618e4b010db7403ba92\n",
            "3  The Londoners Bar & Restaurant  ...  4da4afbcb1c9370496db15a2\n",
            "4                       CKDigital  ...  51e4a11c498ed6f7bfaff09f\n",
            "\n",
            "[5 rows x 6 columns]\n",
            "\n",
            "Total number of venues returned for Ojo_lga_venues is 4\n",
            "             venue.name  ...                  venue.id\n",
            "0               Al Humo  ...  5075bb61e4b0c5298eb9261a\n",
            "1     Hotel Marli Plaza  ...  51dcc711498ef05519f7ef99\n",
            "2  Parque Central Mocoa  ...  503b80a9e4b00145171241b3\n",
            "3         Hotel Rahsmel  ...  58ec16aefebfbd7d11bac12d\n",
            "\n",
            "[4 rows x 6 columns]\n",
            "\n",
            "Total number of venues returned for Ikorodu_lga_venues is 10\n",
            "          venue.name  ...                  venue.id\n",
            "0        Pizza House  ...  5405bb8b498eeb9671ebbe62\n",
            "1  Fatmot Restaurant  ...  50374439e4b05b4c79f8f7da\n",
            "2    Mambillah Hotel  ...  5094707ee4b0f94e040193b3\n",
            "3       Tipsy Lounge  ...  4e3d8ad218a83d5b28459620\n",
            "4            Magidun  ...  4e68b861c65be3a5650f09d6\n",
            "\n",
            "[5 rows x 6 columns]\n",
            "\n",
            "Total number of venues returned for Surulere_lga_venues is 88\n",
            "          venue.name  ...                  venue.id\n",
            "0  Film House Cinema  ...  50ccbc9ce4b0d07024dd14f4\n",
            "1   Filmhouse Cinema  ...  51c46f3d498efee47e5563a5\n",
            "2       Leisure Mall  ...  50ccbb66e4b0373cc146a483\n",
            "3       Olaiya Amala  ...  4f64f3e7e4b03a7ce173376d\n",
            "4        White House  ...  4d344e1098336dcb474236f0\n",
            "\n",
            "[5 rows x 6 columns]\n",
            "\n",
            "Total number of venues returned for Agege_lga_venues is 91\n",
            "             venue.name  ...                  venue.id\n",
            "0           SmartieMart  ...  4e10a71a1495c8d31bbfb4d3\n",
            "1  Tastee Fried Chicken  ...  4fc70e25e4b0d7c765050bf1\n",
            "2     New Afrika Shrine  ...  515eecc5e4b04e50b0bac6eb\n",
            "3  Tastee Fried Chicken  ...  56c0a978cd109d4ce6961b15\n",
            "4   Cold Stone Creamery  ...  51fd1472498ef59d5eeba984\n",
            "\n",
            "[5 rows x 6 columns]\n",
            "\n",
            "Total number of venues returned for Ifako-Ijaiye_lga_venues is 62\n",
            "             venue.name  ...                  venue.id\n",
            "0   justrite superstore  ...  504e05c7e4b04977df63d6ba\n",
            "1           Tantalisers  ...  4ecbf689b6346e2d3a4dead5\n",
            "2  Tastee Fried Chicken  ...  4fc70e25e4b0d7c765050bf1\n",
            "3           SmartieMart  ...  4e10a71a1495c8d31bbfb4d3\n",
            "4         SHAWARMA.COME  ...  4e261fce315161d79d2a8fa5\n",
            "\n",
            "[5 rows x 6 columns]\n",
            "\n",
            "Total number of venues returned for Somolu_lga_venues is 18\n",
            "              venue.name  ...                  venue.id\n",
            "0  De Prince Supermarket  ...  4fce4c1ae4b0d4988249ad4a\n",
            "1            Pizza House  ...  5405bb8b498eeb9671ebbe62\n",
            "2                Magidun  ...  4e68b861c65be3a5650f09d6\n",
            "3         Domino's Pizza  ...  552574af498e9338ad7c4479\n",
            "4               Mr Biggs  ...  4ecbd11249015d98b1a3d15e\n",
            "\n",
            "[5 rows x 6 columns]\n",
            "\n",
            "Total number of venues returned for Amuwo-Odofin_lga_venues is 20\n",
            "                        venue.name  ...                  venue.id\n",
            "0               Trade Fair Complex  ...  4c9b4bc8eaa5a1436967d3e4\n",
            "1                     Ilashe beach  ...  50c36e99e4b0fac7b1e0c5dc\n",
            "2                Pool Golden Tulip  ...  5139ec67e4b06ad169780e29\n",
            "3  Mega Chicken Chinese Restaurant  ...  54ce24ae498e6f49a707f987\n",
            "4                        TFC Place  ...  4e89d4ede5faccee5099e029\n",
            "\n",
            "[5 rows x 6 columns]\n",
            "\n",
            "Total number of venues returned for Lagos Mainland_lga_venues is 100\n",
            "                     venue.name  ...                  venue.id\n",
            "0                   White House  ...  4d344e1098336dcb474236f0\n",
            "1             Film House Cinema  ...  50ccbc9ce4b0d07024dd14f4\n",
            "2  The Banana Island Patisserie  ...  51cabaad498eb06f0fdb0340\n",
            "3                 Ozone Cinemas  ...  4de68e0418389f05587cbc03\n",
            "4                       Banilux  ...  4de00f9a3151d414eb1dcfae\n",
            "\n",
            "[5 rows x 6 columns]\n",
            "\n",
            "Total number of venues returned for Ikeja_lga_venues is 91\n",
            "                            venue.name  ...                  venue.id\n",
            "0                  Cold Stone Creamery  ...  51fd1472498ef59d5eeba984\n",
            "1  Best Western Plus Lagos Ikeja Hotel  ...  50a342c2e4b06729d0c1d95d\n",
            "2                            Mr. Price  ...  504248e9e4b0f7ca2c66f37c\n",
            "3                    New Afrika Shrine  ...  515eecc5e4b04e50b0bac6eb\n",
            "4                   University of Suya  ...  4c72b7d59e706dcbe0904b62\n",
            "\n",
            "[5 rows x 6 columns]\n",
            "\n",
            "Total number of venues returned for Eti-Osa_lga_venues is 54\n",
            "                  venue.name  ...                  venue.id\n",
            "0                V.G.C. Park  ...  4d7234f6f7c38cfa5aa0a23d\n",
            "1        Cold Stone Creamery  ...  53f0897a498eec00f0629628\n",
            "2  Lekki Conservation Centre  ...  4bfc3c78b5cd2d7f994531fb\n",
            "3               xovar lounge  ...  51b2667f498e624e770cfe6a\n",
            "4      Friends Colony Estate  ...  4c9242b457e5b60c1776671c\n",
            "\n",
            "[5 rows x 6 columns]\n",
            "\n",
            "Total number of venues returned for Badagry_lga_venues is 5\n",
            "                                   venue.name  ...                  venue.id\n",
            "0                                   Tuse Café  ...  4f92bcb8e4b0e29f54590580\n",
            "1                             Oxygen (O2) Bar  ...  4e08cbfae4cdefcff6e442e4\n",
            "2  Seriki Williams Abass' Brazilian Barracoon  ...  5236f35f11d24cf7aa0c1670\n",
            "3                        Mobee Badagry Museum  ...  4e08dc53d1640223a4a597bd\n",
            "4                   Seriki Abbas Slave Museum  ...  4f96bfd2e4b0b10b9cb6d939\n",
            "\n",
            "[5 rows x 6 columns]\n",
            "\n",
            "Total number of venues returned for Apapa_lga_venues is 100\n",
            "            venue.name  ...                  venue.id\n",
            "0       Rockview Hotel  ...  4e1cbebe7d8b8fe8c30af7b0\n",
            "1         Freedom Park  ...  4fa3a928e4b01208f9529e8e\n",
            "2  Apapa Shopping Mall  ...  5505878c498eb6579786bfd7\n",
            "3      SpicyInc Studio  ...  4fbd1a457716f968e28e0cf2\n",
            "4         Muson Centre  ...  4c57462a7613b7132e1b91ea\n",
            "\n",
            "[5 rows x 6 columns]\n",
            "\n",
            "Total number of venues returned for Lagos Island_lga_venues is 63\n",
            "         venue.name  ...                  venue.id\n",
            "0     Maple Cottage  ...  4d5834d4de8f6dcbcf0e0991\n",
            "1     Banana Island  ...  4c976e836b35a14310ee35dc\n",
            "2      Domino Pizza  ...  506c8746e4b0916d139092dc\n",
            "3  Wheatbaker Hotel  ...  4ed67bbd8231ee8d68e34649\n",
            "4    Filmhouse Imax  ...  57d1a57e498e02fa25dbe90b\n",
            "\n",
            "[5 rows x 6 columns]\n",
            "\n",
            "Total number of venues returned for Epe_lga_venues is 2\n",
            "           venue.name  ...                  venue.id\n",
            "0  Continental Dishes  ...  4bdd62c1be5120a19c72fe70\n",
            "1     Jubilee Chalets  ...  5b1a7343b3c9610039f825c4\n",
            "\n",
            "[2 rows x 6 columns]\n",
            "\n",
            "Total number of venues returned for Ibeju-Lekki_lga_venues is 4\n",
            "               venue.name  ...                  venue.id\n",
            "0             Eleko Beach  ...  4f2538b9e4b06176451d3848\n",
            "1  lakowe lakes golfcourt  ...  51bde98f498ee13d093d3ae3\n",
            "2              Omu Resort  ...  5690f080498e2fa05ac9c2d1\n",
            "3  Olive Estate Lekki FTZ  ...  4bbb019c7421a593b355c440\n",
            "\n",
            "[4 rows x 6 columns]\n",
            "\n",
            "LGAs to be possibly excluded due to low venues count are:- \n",
            "['Ojo', 'Ikorodu', 'Badagry', 'Epe', 'Ibeju-Lekki']\n"
          ],
          "name": "stdout"
        }
      ]
    },
    {
      "cell_type": "markdown",
      "metadata": {
        "id": "nR-o1QHQIn_f",
        "colab_type": "text"
      },
      "source": [
        "Now let's exclude the LGAs with less than 15 venues from our dataframe and future analysis"
      ]
    },
    {
      "cell_type": "code",
      "metadata": {
        "id": "4yOrRGeSLN9v",
        "colab_type": "code",
        "outputId": "15874e80-bf42-4851-eb92-f78d448befc9",
        "colab": {
          "base_uri": "https://localhost:8080/",
          "height": 34
        }
      },
      "source": [
        "len(copy_lagos_df)"
      ],
      "execution_count": 39,
      "outputs": [
        {
          "output_type": "execute_result",
          "data": {
            "text/plain": [
              "20"
            ]
          },
          "metadata": {
            "tags": []
          },
          "execution_count": 39
        }
      ]
    },
    {
      "cell_type": "code",
      "metadata": {
        "id": "BNktvZB3I11o",
        "colab_type": "code",
        "colab": {}
      },
      "source": [
        "# if we have atleast one lga with less than 15 venues, drop it.\n",
        "if len(lga_exclusion_list) >= 1:\n",
        "    copy_lagos_df.drop(index=lga_exclusion_list, inplace=True)"
      ],
      "execution_count": 0,
      "outputs": []
    },
    {
      "cell_type": "markdown",
      "metadata": {
        "id": "SYwHPVoxNbiH",
        "colab_type": "text"
      },
      "source": [
        "Let's confirm the length"
      ]
    },
    {
      "cell_type": "code",
      "metadata": {
        "id": "FBxjt4ivNgsD",
        "colab_type": "code",
        "outputId": "211bdafe-2317-4e6c-e9d9-9d25fae917c3",
        "colab": {
          "base_uri": "https://localhost:8080/",
          "height": 34
        }
      },
      "source": [
        "len(copy_lagos_df)"
      ],
      "execution_count": 41,
      "outputs": [
        {
          "output_type": "execute_result",
          "data": {
            "text/plain": [
              "15"
            ]
          },
          "metadata": {
            "tags": []
          },
          "execution_count": 41
        }
      ]
    },
    {
      "cell_type": "markdown",
      "metadata": {
        "id": "SvxdT2pVN1wk",
        "colab_type": "text"
      },
      "source": [
        "Ok, so we now have only lgas left with atleast 15 venues "
      ]
    },
    {
      "cell_type": "markdown",
      "metadata": {
        "id": "tzLCKiN1IxID",
        "colab_type": "text"
      },
      "source": [
        "Let's see the number of venues returned for the second LGA and the first 5 venues"
      ]
    },
    {
      "cell_type": "code",
      "metadata": {
        "id": "mwEx_ncjJu-o",
        "colab_type": "code",
        "outputId": "1eed6f7b-18f7-4eea-c9da-9a4a79a58d6b",
        "colab": {
          "base_uri": "https://localhost:8080/",
          "height": 34
        }
      },
      "source": [
        "# first let's confirm the name\n",
        "copy_lagos_df.index[1]"
      ],
      "execution_count": 42,
      "outputs": [
        {
          "output_type": "execute_result",
          "data": {
            "text/plain": [
              "'Ajeromi-Ifelodun'"
            ]
          },
          "metadata": {
            "tags": []
          },
          "execution_count": 42
        }
      ]
    },
    {
      "cell_type": "code",
      "metadata": {
        "id": "qu3FGwIOG1gE",
        "colab_type": "code",
        "outputId": "c54ea9f2-c042-42f4-fd8f-74d25d2330a8",
        "colab": {
          "base_uri": "https://localhost:8080/",
          "height": 212
        }
      },
      "source": [
        "Ajeromi_lga_venues = return_venues(copy_lagos_df.index[1])\n",
        "\n",
        "print('Total number of venues returned is {}'.format(len(Ajeromi_lga_venues)))\n",
        "\n",
        "Ajeromi_lga_venues.head()"
      ],
      "execution_count": 43,
      "outputs": [
        {
          "output_type": "stream",
          "text": [
            "Total number of venues returned is 59\n"
          ],
          "name": "stdout"
        },
        {
          "output_type": "execute_result",
          "data": {
            "text/html": [
              "<div>\n",
              "<style scoped>\n",
              "    .dataframe tbody tr th:only-of-type {\n",
              "        vertical-align: middle;\n",
              "    }\n",
              "\n",
              "    .dataframe tbody tr th {\n",
              "        vertical-align: top;\n",
              "    }\n",
              "\n",
              "    .dataframe thead th {\n",
              "        text-align: right;\n",
              "    }\n",
              "</style>\n",
              "<table border=\"1\" class=\"dataframe\">\n",
              "  <thead>\n",
              "    <tr style=\"text-align: right;\">\n",
              "      <th></th>\n",
              "      <th>venue.name</th>\n",
              "      <th>venue.categories</th>\n",
              "      <th>venue.location.lat</th>\n",
              "      <th>venue.location.lng</th>\n",
              "      <th>venue.location.distance</th>\n",
              "      <th>venue.id</th>\n",
              "    </tr>\n",
              "  </thead>\n",
              "  <tbody>\n",
              "    <tr>\n",
              "      <th>0</th>\n",
              "      <td>Mega Chicken Chinese Restaurant</td>\n",
              "      <td>Chinese Restaurant</td>\n",
              "      <td>6.471061</td>\n",
              "      <td>3.312721</td>\n",
              "      <td>3122</td>\n",
              "      <td>54ce24ae498e6f49a707f987</td>\n",
              "    </tr>\n",
              "    <tr>\n",
              "      <th>1</th>\n",
              "      <td>Rockview Hotel</td>\n",
              "      <td>Hotel</td>\n",
              "      <td>6.448105</td>\n",
              "      <td>3.360831</td>\n",
              "      <td>2861</td>\n",
              "      <td>4e1cbebe7d8b8fe8c30af7b0</td>\n",
              "    </tr>\n",
              "    <tr>\n",
              "      <th>2</th>\n",
              "      <td>Film House Cinema</td>\n",
              "      <td>Multiplex</td>\n",
              "      <td>6.490242</td>\n",
              "      <td>3.357371</td>\n",
              "      <td>4571</td>\n",
              "      <td>50ccbc9ce4b0d07024dd14f4</td>\n",
              "    </tr>\n",
              "    <tr>\n",
              "      <th>3</th>\n",
              "      <td>Pool Golden Tulip</td>\n",
              "      <td>Pool</td>\n",
              "      <td>6.465255</td>\n",
              "      <td>3.302554</td>\n",
              "      <td>3861</td>\n",
              "      <td>5139ec67e4b06ad169780e29</td>\n",
              "    </tr>\n",
              "    <tr>\n",
              "      <th>4</th>\n",
              "      <td>tank and tummy festac</td>\n",
              "      <td>Fast Food Restaurant</td>\n",
              "      <td>6.477172</td>\n",
              "      <td>3.332893</td>\n",
              "      <td>2477</td>\n",
              "      <td>4d4ea5e9ae4e60fce52c02a2</td>\n",
              "    </tr>\n",
              "  </tbody>\n",
              "</table>\n",
              "</div>"
            ],
            "text/plain": [
              "                        venue.name  ...                  venue.id\n",
              "0  Mega Chicken Chinese Restaurant  ...  54ce24ae498e6f49a707f987\n",
              "1                   Rockview Hotel  ...  4e1cbebe7d8b8fe8c30af7b0\n",
              "2                Film House Cinema  ...  50ccbc9ce4b0d07024dd14f4\n",
              "3                Pool Golden Tulip  ...  5139ec67e4b06ad169780e29\n",
              "4            tank and tummy festac  ...  4d4ea5e9ae4e60fce52c02a2\n",
              "\n",
              "[5 rows x 6 columns]"
            ]
          },
          "metadata": {
            "tags": []
          },
          "execution_count": 43
        }
      ]
    },
    {
      "cell_type": "markdown",
      "metadata": {
        "id": "rMuI2phKS9Ex",
        "colab_type": "text"
      },
      "source": [
        "Let's see the different types of venues present"
      ]
    },
    {
      "cell_type": "code",
      "metadata": {
        "id": "M4ZkDkb4TCbW",
        "colab_type": "code",
        "outputId": "d65811a8-e47c-453e-de94-bb297631c809",
        "colab": {
          "base_uri": "https://localhost:8080/",
          "height": 130
        }
      },
      "source": [
        "Ajeromi_cat_count = Ajeromi_lga_venues.groupby('venue.categories').size().to_frame()\n",
        "\n",
        "Ajeromi_cat_count.columns = ['frequency']\n",
        "\n",
        "# Let's see the categories of venues present in the alimosho LGA\n",
        "Ajeromi_cat_count.T"
      ],
      "execution_count": 44,
      "outputs": [
        {
          "output_type": "execute_result",
          "data": {
            "text/html": [
              "<div>\n",
              "<style scoped>\n",
              "    .dataframe tbody tr th:only-of-type {\n",
              "        vertical-align: middle;\n",
              "    }\n",
              "\n",
              "    .dataframe tbody tr th {\n",
              "        vertical-align: top;\n",
              "    }\n",
              "\n",
              "    .dataframe thead th {\n",
              "        text-align: right;\n",
              "    }\n",
              "</style>\n",
              "<table border=\"1\" class=\"dataframe\">\n",
              "  <thead>\n",
              "    <tr style=\"text-align: right;\">\n",
              "      <th>venue.categories</th>\n",
              "      <th>African Restaurant</th>\n",
              "      <th>Art Gallery</th>\n",
              "      <th>Asian Restaurant</th>\n",
              "      <th>Bagel Shop</th>\n",
              "      <th>Bar</th>\n",
              "      <th>Beach</th>\n",
              "      <th>Breakfast Spot</th>\n",
              "      <th>Chinese Restaurant</th>\n",
              "      <th>Cocktail Bar</th>\n",
              "      <th>Convention Center</th>\n",
              "      <th>Cupcake Shop</th>\n",
              "      <th>Department Store</th>\n",
              "      <th>Diner</th>\n",
              "      <th>Fast Food Restaurant</th>\n",
              "      <th>Flea Market</th>\n",
              "      <th>Grocery Store</th>\n",
              "      <th>Gym / Fitness Center</th>\n",
              "      <th>Hotel</th>\n",
              "      <th>Ice Cream Shop</th>\n",
              "      <th>Italian Restaurant</th>\n",
              "      <th>Japanese Restaurant</th>\n",
              "      <th>Lounge</th>\n",
              "      <th>Market</th>\n",
              "      <th>Mediterranean Restaurant</th>\n",
              "      <th>Modern European Restaurant</th>\n",
              "      <th>Movie Theater</th>\n",
              "      <th>Multiplex</th>\n",
              "      <th>Music Venue</th>\n",
              "      <th>Nightclub</th>\n",
              "      <th>Park</th>\n",
              "      <th>Photography Studio</th>\n",
              "      <th>Pizza Place</th>\n",
              "      <th>Pool</th>\n",
              "      <th>Pub</th>\n",
              "      <th>Restaurant</th>\n",
              "      <th>Shopping Mall</th>\n",
              "      <th>Soccer Field</th>\n",
              "      <th>Stables</th>\n",
              "      <th>Supermarket</th>\n",
              "    </tr>\n",
              "  </thead>\n",
              "  <tbody>\n",
              "    <tr>\n",
              "      <th>frequency</th>\n",
              "      <td>5</td>\n",
              "      <td>2</td>\n",
              "      <td>2</td>\n",
              "      <td>1</td>\n",
              "      <td>1</td>\n",
              "      <td>1</td>\n",
              "      <td>1</td>\n",
              "      <td>2</td>\n",
              "      <td>1</td>\n",
              "      <td>1</td>\n",
              "      <td>1</td>\n",
              "      <td>1</td>\n",
              "      <td>1</td>\n",
              "      <td>2</td>\n",
              "      <td>1</td>\n",
              "      <td>1</td>\n",
              "      <td>1</td>\n",
              "      <td>5</td>\n",
              "      <td>1</td>\n",
              "      <td>1</td>\n",
              "      <td>2</td>\n",
              "      <td>3</td>\n",
              "      <td>1</td>\n",
              "      <td>1</td>\n",
              "      <td>1</td>\n",
              "      <td>2</td>\n",
              "      <td>1</td>\n",
              "      <td>1</td>\n",
              "      <td>2</td>\n",
              "      <td>2</td>\n",
              "      <td>1</td>\n",
              "      <td>2</td>\n",
              "      <td>1</td>\n",
              "      <td>1</td>\n",
              "      <td>1</td>\n",
              "      <td>2</td>\n",
              "      <td>1</td>\n",
              "      <td>1</td>\n",
              "      <td>1</td>\n",
              "    </tr>\n",
              "  </tbody>\n",
              "</table>\n",
              "</div>"
            ],
            "text/plain": [
              "venue.categories  African Restaurant  Art Gallery  ...  Stables  Supermarket\n",
              "frequency                          5            2  ...        1            1\n",
              "\n",
              "[1 rows x 39 columns]"
            ]
          },
          "metadata": {
            "tags": []
          },
          "execution_count": 44
        }
      ]
    },
    {
      "cell_type": "markdown",
      "metadata": {
        "id": "a4GBvlH_K4fL",
        "colab_type": "text"
      },
      "source": [
        "Let's plot the map of 'Ajeromi-LgA'"
      ]
    },
    {
      "cell_type": "code",
      "metadata": {
        "id": "zCTGZ8ejLBmc",
        "colab_type": "code",
        "outputId": "365c3d86-13d0-40bb-d7cb-a7e5dda38af8",
        "colab": {
          "base_uri": "https://localhost:8080/",
          "height": 858
        }
      },
      "source": [
        "plot_map(copy_lagos_df.index[1])"
      ],
      "execution_count": 45,
      "outputs": [
        {
          "output_type": "execute_result",
          "data": {
            "text/html": [
              "<div style=\"width:100%;\"><div style=\"position:relative;width:100%;height:0;padding-bottom:60%;\"><iframe src=\"data:text/html;charset=utf-8;base64,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\" style=\"position:absolute;width:100%;height:100%;left:0;top:0;border:none !important;\" allowfullscreen webkitallowfullscreen mozallowfullscreen></iframe></div></div>"
            ],
            "text/plain": [
              "<folium.folium.Map at 0x7f6f80d7e4e0>"
            ]
          },
          "metadata": {
            "tags": []
          },
          "execution_count": 45
        }
      ]
    },
    {
      "cell_type": "markdown",
      "metadata": {
        "id": "u1PK6dwUJoEo",
        "colab_type": "text"
      },
      "source": [
        "Next let's see the number of venues returned for the third LGA and the first 5 venues"
      ]
    },
    {
      "cell_type": "code",
      "metadata": {
        "id": "viR1nSvXG1d0",
        "colab_type": "code",
        "outputId": "c836842c-9217-4c49-c43b-f7bedbe25225",
        "colab": {
          "base_uri": "https://localhost:8080/",
          "height": 34
        }
      },
      "source": [
        "# First let's confirm the name\n",
        "copy_lagos_df.index[2]"
      ],
      "execution_count": 46,
      "outputs": [
        {
          "output_type": "execute_result",
          "data": {
            "text/plain": [
              "'Kosofe'"
            ]
          },
          "metadata": {
            "tags": []
          },
          "execution_count": 46
        }
      ]
    },
    {
      "cell_type": "code",
      "metadata": {
        "id": "uxGxE8KkKPMu",
        "colab_type": "code",
        "outputId": "5a6fa3f9-d902-476c-b0f6-af6c45cc4839",
        "colab": {
          "base_uri": "https://localhost:8080/",
          "height": 212
        }
      },
      "source": [
        "Kosofe_lga_venues = return_venues(copy_lagos_df.index[2])\n",
        "\n",
        "print('Total number of venues returned is {}'.format(len(Kosofe_lga_venues)))\n",
        "\n",
        "Kosofe_lga_venues.head()"
      ],
      "execution_count": 47,
      "outputs": [
        {
          "output_type": "stream",
          "text": [
            "Total number of venues returned is 79\n"
          ],
          "name": "stdout"
        },
        {
          "output_type": "execute_result",
          "data": {
            "text/html": [
              "<div>\n",
              "<style scoped>\n",
              "    .dataframe tbody tr th:only-of-type {\n",
              "        vertical-align: middle;\n",
              "    }\n",
              "\n",
              "    .dataframe tbody tr th {\n",
              "        vertical-align: top;\n",
              "    }\n",
              "\n",
              "    .dataframe thead th {\n",
              "        text-align: right;\n",
              "    }\n",
              "</style>\n",
              "<table border=\"1\" class=\"dataframe\">\n",
              "  <thead>\n",
              "    <tr style=\"text-align: right;\">\n",
              "      <th></th>\n",
              "      <th>venue.name</th>\n",
              "      <th>venue.categories</th>\n",
              "      <th>venue.location.lat</th>\n",
              "      <th>venue.location.lng</th>\n",
              "      <th>venue.location.distance</th>\n",
              "      <th>venue.id</th>\n",
              "    </tr>\n",
              "  </thead>\n",
              "  <tbody>\n",
              "    <tr>\n",
              "      <th>0</th>\n",
              "      <td>De Prince Supermarket</td>\n",
              "      <td>Department Store</td>\n",
              "      <td>6.554255</td>\n",
              "      <td>3.388933</td>\n",
              "      <td>4210</td>\n",
              "      <td>4fce4c1ae4b0d4988249ad4a</td>\n",
              "    </tr>\n",
              "    <tr>\n",
              "      <th>1</th>\n",
              "      <td>Mende Suya Spot</td>\n",
              "      <td>BBQ Joint</td>\n",
              "      <td>6.568890</td>\n",
              "      <td>3.371953</td>\n",
              "      <td>4960</td>\n",
              "      <td>4c5af9572091a593d5b160d0</td>\n",
              "    </tr>\n",
              "    <tr>\n",
              "      <th>2</th>\n",
              "      <td>Maryland Mall</td>\n",
              "      <td>Shopping Mall</td>\n",
              "      <td>6.567211</td>\n",
              "      <td>3.367269</td>\n",
              "      <td>5511</td>\n",
              "      <td>57767482498e1b23fc39b866</td>\n",
              "    </tr>\n",
              "    <tr>\n",
              "      <th>3</th>\n",
              "      <td>Zen Garden Chinese Resturant</td>\n",
              "      <td>Chinese Restaurant</td>\n",
              "      <td>6.585504</td>\n",
              "      <td>3.357131</td>\n",
              "      <td>6393</td>\n",
              "      <td>4cbb0b289552b60c6994dd8b</td>\n",
              "    </tr>\n",
              "    <tr>\n",
              "      <th>4</th>\n",
              "      <td>The Londoners Bar &amp; Restaurant</td>\n",
              "      <td>Bar</td>\n",
              "      <td>6.573301</td>\n",
              "      <td>3.357092</td>\n",
              "      <td>6458</td>\n",
              "      <td>4da4afbcb1c9370496db15a2</td>\n",
              "    </tr>\n",
              "  </tbody>\n",
              "</table>\n",
              "</div>"
            ],
            "text/plain": [
              "                       venue.name  ...                  venue.id\n",
              "0           De Prince Supermarket  ...  4fce4c1ae4b0d4988249ad4a\n",
              "1                 Mende Suya Spot  ...  4c5af9572091a593d5b160d0\n",
              "2                   Maryland Mall  ...  57767482498e1b23fc39b866\n",
              "3    Zen Garden Chinese Resturant  ...  4cbb0b289552b60c6994dd8b\n",
              "4  The Londoners Bar & Restaurant  ...  4da4afbcb1c9370496db15a2\n",
              "\n",
              "[5 rows x 6 columns]"
            ]
          },
          "metadata": {
            "tags": []
          },
          "execution_count": 47
        }
      ]
    },
    {
      "cell_type": "markdown",
      "metadata": {
        "id": "81G1eulPUP5q",
        "colab_type": "text"
      },
      "source": [
        "Let's see the different types of venues present"
      ]
    },
    {
      "cell_type": "code",
      "metadata": {
        "id": "m9QuygLRUW5x",
        "colab_type": "code",
        "outputId": "bf027eb9-33e0-4793-a390-ff08470abee9",
        "colab": {
          "base_uri": "https://localhost:8080/",
          "height": 130
        }
      },
      "source": [
        "Kosofe_cat_count = Kosofe_lga_venues.groupby('venue.categories').size().to_frame()\n",
        "\n",
        "Kosofe_cat_count.columns = ['frequency']\n",
        "\n",
        "# Let's see the categories of venues present in the alimosho LGA\n",
        "Kosofe_cat_count.T"
      ],
      "execution_count": 48,
      "outputs": [
        {
          "output_type": "execute_result",
          "data": {
            "text/html": [
              "<div>\n",
              "<style scoped>\n",
              "    .dataframe tbody tr th:only-of-type {\n",
              "        vertical-align: middle;\n",
              "    }\n",
              "\n",
              "    .dataframe tbody tr th {\n",
              "        vertical-align: top;\n",
              "    }\n",
              "\n",
              "    .dataframe thead th {\n",
              "        text-align: right;\n",
              "    }\n",
              "</style>\n",
              "<table border=\"1\" class=\"dataframe\">\n",
              "  <thead>\n",
              "    <tr style=\"text-align: right;\">\n",
              "      <th>venue.categories</th>\n",
              "      <th>African Restaurant</th>\n",
              "      <th>Airport</th>\n",
              "      <th>Airport Food Court</th>\n",
              "      <th>Airport Terminal</th>\n",
              "      <th>American Restaurant</th>\n",
              "      <th>BBQ Joint</th>\n",
              "      <th>Bagel Shop</th>\n",
              "      <th>Bakery</th>\n",
              "      <th>Bar</th>\n",
              "      <th>Beach</th>\n",
              "      <th>Beer Garden</th>\n",
              "      <th>Café</th>\n",
              "      <th>Chinese Restaurant</th>\n",
              "      <th>Clothing Store</th>\n",
              "      <th>Coffee Shop</th>\n",
              "      <th>Convenience Store</th>\n",
              "      <th>Cupcake Shop</th>\n",
              "      <th>Department Store</th>\n",
              "      <th>Electronics Store</th>\n",
              "      <th>Fast Food Restaurant</th>\n",
              "      <th>Flea Market</th>\n",
              "      <th>Heliport</th>\n",
              "      <th>Hotel</th>\n",
              "      <th>IT Services</th>\n",
              "      <th>Ice Cream Shop</th>\n",
              "      <th>Lounge</th>\n",
              "      <th>Luggage Store</th>\n",
              "      <th>Men's Store</th>\n",
              "      <th>Movie Theater</th>\n",
              "      <th>Multiplex</th>\n",
              "      <th>Nightclub</th>\n",
              "      <th>Performing Arts Venue</th>\n",
              "      <th>Pizza Place</th>\n",
              "      <th>Pool</th>\n",
              "      <th>Restaurant</th>\n",
              "      <th>Shopping Mall</th>\n",
              "      <th>Soup Place</th>\n",
              "      <th>Spa</th>\n",
              "      <th>Steakhouse</th>\n",
              "    </tr>\n",
              "  </thead>\n",
              "  <tbody>\n",
              "    <tr>\n",
              "      <th>frequency</th>\n",
              "      <td>4</td>\n",
              "      <td>1</td>\n",
              "      <td>1</td>\n",
              "      <td>1</td>\n",
              "      <td>1</td>\n",
              "      <td>3</td>\n",
              "      <td>1</td>\n",
              "      <td>2</td>\n",
              "      <td>3</td>\n",
              "      <td>1</td>\n",
              "      <td>1</td>\n",
              "      <td>1</td>\n",
              "      <td>3</td>\n",
              "      <td>1</td>\n",
              "      <td>1</td>\n",
              "      <td>4</td>\n",
              "      <td>1</td>\n",
              "      <td>3</td>\n",
              "      <td>1</td>\n",
              "      <td>6</td>\n",
              "      <td>1</td>\n",
              "      <td>1</td>\n",
              "      <td>3</td>\n",
              "      <td>1</td>\n",
              "      <td>3</td>\n",
              "      <td>2</td>\n",
              "      <td>1</td>\n",
              "      <td>1</td>\n",
              "      <td>1</td>\n",
              "      <td>1</td>\n",
              "      <td>5</td>\n",
              "      <td>1</td>\n",
              "      <td>4</td>\n",
              "      <td>1</td>\n",
              "      <td>3</td>\n",
              "      <td>6</td>\n",
              "      <td>1</td>\n",
              "      <td>1</td>\n",
              "      <td>2</td>\n",
              "    </tr>\n",
              "  </tbody>\n",
              "</table>\n",
              "</div>"
            ],
            "text/plain": [
              "venue.categories  African Restaurant  Airport  ...  Spa  Steakhouse\n",
              "frequency                          4        1  ...    1           2\n",
              "\n",
              "[1 rows x 39 columns]"
            ]
          },
          "metadata": {
            "tags": []
          },
          "execution_count": 48
        }
      ]
    },
    {
      "cell_type": "markdown",
      "metadata": {
        "id": "Kgl7Jig7Ld3o",
        "colab_type": "text"
      },
      "source": [
        "Now let's plot the map of Kosofe LGA"
      ]
    },
    {
      "cell_type": "code",
      "metadata": {
        "id": "d0HVjqF8LaMZ",
        "colab_type": "code",
        "outputId": "9c6a9f0f-8874-45c9-b1e3-0aacb5c87008",
        "colab": {
          "base_uri": "https://localhost:8080/",
          "height": 858
        }
      },
      "source": [
        "plot_map(copy_lagos_df.index[2])"
      ],
      "execution_count": 49,
      "outputs": [
        {
          "output_type": "execute_result",
          "data": {
            "text/html": [
              "<div style=\"width:100%;\"><div style=\"position:relative;width:100%;height:0;padding-bottom:60%;\"><iframe src=\"data:text/html;charset=utf-8;base64,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\" style=\"position:absolute;width:100%;height:100%;left:0;top:0;border:none !important;\" allowfullscreen webkitallowfullscreen mozallowfullscreen></iframe></div></div>"
            ],
            "text/plain": [
              "<folium.folium.Map at 0x7f6f80dc7b00>"
            ]
          },
          "metadata": {
            "tags": []
          },
          "execution_count": 49
        }
      ]
    },
    {
      "cell_type": "markdown",
      "metadata": {
        "id": "mWnjgHrUs3nS",
        "colab_type": "text"
      },
      "source": [
        "We can repeat the above steps for all the remaining LGAs, but remember our task is to find the ideal LGA location for a Tech start-up.<br>So we need to be smart about it.<br> I believe we need to get the venues returned by each LGA and a total list of venue categories.<br>Then we compare each LGA venues to the categories of venues we care about."
      ]
    },
    {
      "cell_type": "markdown",
      "metadata": {
        "id": "pq2YB1aEdYRW",
        "colab_type": "text"
      },
      "source": [
        "So first, let's define a method that converts the venue categories in each LGA to small case and adds it to a set. So that we can get a set of all available venue categories in our dataframe. "
      ]
    },
    {
      "cell_type": "markdown",
      "metadata": {
        "id": "d2xPtXcxQwJS",
        "colab_type": "text"
      },
      "source": [
        "The essence of converting each category name to all small case is just incase one category exists in upper and lower case some where. So that it won't be added as 2 categories"
      ]
    },
    {
      "cell_type": "code",
      "metadata": {
        "id": "3k0o_QDLdHas",
        "colab_type": "code",
        "colab": {}
      },
      "source": [
        "def store_venue_categories(df):\n",
        "    venue_set = set()\n",
        "    for lga in df.index:\n",
        "        df_lga = return_venues(lga)\n",
        "        # Converting each category name to lower case using a list comprehension\n",
        "        df_lga['venue.categories'] = [x.lower() for x in list(df_lga['venue.categories'])]\n",
        "        # Add each converted name to a set to avoid any possible duplicates\n",
        "        for category in df_lga['venue.categories']:\n",
        "            venue_set.add(category)\n",
        "    # Finally return a list of all venue categories in our DataFrame.\n",
        "    return list(venue_set)"
      ],
      "execution_count": 0,
      "outputs": []
    },
    {
      "cell_type": "code",
      "metadata": {
        "id": "3EI1jfV-HsiH",
        "colab_type": "code",
        "colab": {}
      },
      "source": [
        "all_venue_categories = store_venue_categories(copy_lagos_df)"
      ],
      "execution_count": 0,
      "outputs": []
    },
    {
      "cell_type": "markdown",
      "metadata": {
        "id": "raVFi9wkyKqw",
        "colab_type": "text"
      },
      "source": [
        "Let's see all the categories of venues listed in our data set"
      ]
    },
    {
      "cell_type": "code",
      "metadata": {
        "id": "zx_X1b2pKgGg",
        "colab_type": "code",
        "outputId": "1a4824dc-c59d-4e93-87e5-d88bf8f0d069",
        "colab": {
          "base_uri": "https://localhost:8080/",
          "height": 1000
        }
      },
      "source": [
        "print('Total venue categories is: {} categories'.format(len(all_venue_categories)))\n",
        "\n",
        "all_venue_categories"
      ],
      "execution_count": 52,
      "outputs": [
        {
          "output_type": "stream",
          "text": [
            "Total venue categories is: 101 categories\n"
          ],
          "name": "stdout"
        },
        {
          "output_type": "execute_result",
          "data": {
            "text/plain": [
              "['comedy club',\n",
              " 'theater',\n",
              " 'resort',\n",
              " 'bagel shop',\n",
              " 'campground',\n",
              " 'department store',\n",
              " 'supermarket',\n",
              " 'bistro',\n",
              " 'electronics store',\n",
              " 'pizza place',\n",
              " 'clothing store',\n",
              " 'airport',\n",
              " 'ice cream shop',\n",
              " 'airport service',\n",
              " \"men's store\",\n",
              " 'food',\n",
              " 'luggage store',\n",
              " 'beer garden',\n",
              " 'it services',\n",
              " 'surf spot',\n",
              " 'nightclub',\n",
              " 'fast food restaurant',\n",
              " 'seafood restaurant',\n",
              " 'flea market',\n",
              " 'cupcake shop',\n",
              " 'music venue',\n",
              " 'snack place',\n",
              " 'art gallery',\n",
              " 'pool hall',\n",
              " 'soup place',\n",
              " 'boutique',\n",
              " 'convention center',\n",
              " 'athletics & sports',\n",
              " 'playground',\n",
              " 'soccer field',\n",
              " 'multiplex',\n",
              " 'mexican restaurant',\n",
              " 'neighborhood',\n",
              " 'indian restaurant',\n",
              " 'pool',\n",
              " 'mobile phone shop',\n",
              " 'market',\n",
              " 'airport food court',\n",
              " 'airport lounge',\n",
              " 'comfort food restaurant',\n",
              " 'steakhouse',\n",
              " 'hotel',\n",
              " 'theme restaurant',\n",
              " 'airport terminal',\n",
              " 'golf course',\n",
              " 'wine shop',\n",
              " 'bar',\n",
              " 'japanese restaurant',\n",
              " 'heliport',\n",
              " 'bus station',\n",
              " 'convenience store',\n",
              " 'food & drink shop',\n",
              " 'american restaurant',\n",
              " 'coffee shop',\n",
              " 'italian restaurant',\n",
              " 'performing arts venue',\n",
              " 'gas station',\n",
              " 'sushi restaurant',\n",
              " 'cocktail bar',\n",
              " 'mediterranean restaurant',\n",
              " 'plaza',\n",
              " 'park',\n",
              " 'diner',\n",
              " 'café',\n",
              " 'pub',\n",
              " 'dessert shop',\n",
              " 'african restaurant',\n",
              " 'spa',\n",
              " 'bakery',\n",
              " 'shopping mall',\n",
              " 'furniture / home store',\n",
              " 'photography studio',\n",
              " 'breakfast spot',\n",
              " 'stables',\n",
              " 'modern european restaurant',\n",
              " 'karaoke bar',\n",
              " 'food court',\n",
              " 'asian restaurant',\n",
              " 'restaurant',\n",
              " 'arcade',\n",
              " 'bbq joint',\n",
              " 'chinese restaurant',\n",
              " 'baseball stadium',\n",
              " 'pier',\n",
              " 'bike rental / bike share',\n",
              " 'movie theater',\n",
              " 'fried chicken joint',\n",
              " 'beach',\n",
              " 'farmers market',\n",
              " 'lounge',\n",
              " 'grocery store',\n",
              " 'sports bar',\n",
              " 'auto garage',\n",
              " 'brazilian restaurant',\n",
              " 'burger joint',\n",
              " 'gym / fitness center']"
            ]
          },
          "metadata": {
            "tags": []
          },
          "execution_count": 52
        }
      ]
    },
    {
      "cell_type": "markdown",
      "metadata": {
        "id": "64eWUrXLSkpA",
        "colab_type": "text"
      },
      "source": [
        "Next, we need to arrange all categories in order of importance to our analysis. This means categories that are more important be moved up the list, while others are down.<br>\n",
        "First let's group similar venue types together such as coffee shop and cupcake shop"
      ]
    },
    {
      "cell_type": "code",
      "metadata": {
        "id": "ZZefUUYLzB1_",
        "colab_type": "code",
        "colab": {}
      },
      "source": [
        "continental_restaurants = ['italian restaurant', 'modern european restaurant','african restaurant','brazilian restaurant','theme restaurant', \n",
        "                           'mexican restaurant',  'seafood restaurant','american restaurant','mediterranean restaurant','fast food restaurant','japanese restaurant',\n",
        "                           'chinese restaurant','comfort food restaurant','asian restaurant','indian restaurant', 'sushi restaurant','restaurant']\n",
        "\n",
        "eateries = ['bbq joint', 'fried chicken joint', 'food','burger joint' ,'pizza place','steakhouse','food court','soup place','airport food court','food & drink shop',\n",
        "            'breakfast spot','diner']\n",
        "\n",
        "coffee_shops = ['bagel shop','dessert shop', 'café','cupcake shop','coffee shop']\n",
        "\n",
        "gas_stations = ['gas station']\n",
        "\n",
        "ice_cream_n_confectionery = ['snack place','bakery','ice cream shop']\n",
        "\n",
        "hotels_resorts_spas = ['resort','hotel','spa']\n",
        "\n",
        "bars_n_lounges = ['lounge','pub','bar','sports bar','beer garden', 'karaoke bar','cocktail bar','airport lounge']\n",
        "\n",
        "airport = ['airport terminal','airport service']\n",
        "\n",
        "bus_stations = ['bus station']\n",
        "\n",
        "heliport = ['bistro','heliport']\n",
        "\n",
        "it_services_n_hubs = ['it services']\n",
        "\n",
        "shopping_malls_n_stores = ['department store', 'plaza','grocery store','convenience store','supermarket','furniture / home store','shopping mall','wine shop',\n",
        "                           \"men's store\"]\n",
        "\n",
        "gym_sports_facilities_games = ['gym / fitness center','playground','soccer field','arcade','golf course','pool hall','surf spot','pool','baseball stadium',\n",
        "                               'athletics & sports']\n",
        "\n",
        "markets = ['farmers market','market','flea market']\n",
        "\n",
        "fashion_n_clothing = ['boutique','clothing store']\n",
        "\n",
        "arts_studios_galleries = ['comedy club','art gallery','theater','performing arts venue']\n",
        "\n",
        "convention_centers = ['multiplex','convention center']\n",
        "\n",
        "halls_events_venues = ['music venue','campground']\n",
        "\n",
        "night_clubs = ['nightclub']\n",
        "\n",
        "beach = ['beach']\n",
        "\n",
        "parks = ['park']\n",
        "\n",
        "cinemas = ['movie theater']\n",
        "\n",
        "auto_services = ['auto garage']\n",
        "\n",
        "electronics_shop = ['mobile phone shop','electronics store']\n",
        "\n",
        "residences = ['neighborhood']\n",
        "\n",
        "other_services = ['stables','photography studio','pier','luggage store','bike rental / bike share']"
      ],
      "execution_count": 0,
      "outputs": []
    },
    {
      "cell_type": "markdown",
      "metadata": {
        "id": "QQx5ljs8s4OE",
        "colab_type": "text"
      },
      "source": [
        "Let's now create a super list that stores each category list above in a list"
      ]
    },
    {
      "cell_type": "code",
      "metadata": {
        "id": "HThMEp5us3jl",
        "colab_type": "code",
        "colab": {}
      },
      "source": [
        "super_list  = [continental_restaurants, eateries, coffee_shops, gas_stations, ice_cream_n_confectionery, hotels_resorts_spas, bars_n_lounges,\n",
        "               airport, bus_stations, heliport, it_services_n_hubs, shopping_malls_n_stores, gym_sports_facilities_games, markets, fashion_n_clothing,\n",
        "               arts_studios_galleries, convention_centers, halls_events_venues, night_clubs, beach, parks, cinemas, auto_services, electronics_shop,\n",
        "               residences, other_services]"
      ],
      "execution_count": 0,
      "outputs": []
    },
    {
      "cell_type": "code",
      "metadata": {
        "id": "oYUlXZ9FziCN",
        "colab_type": "code",
        "outputId": "5df3770f-fa97-4720-9767-d406570575b8",
        "colab": {
          "base_uri": "https://localhost:8080/",
          "height": 34
        }
      },
      "source": [
        "len(super_list)"
      ],
      "execution_count": 55,
      "outputs": [
        {
          "output_type": "execute_result",
          "data": {
            "text/plain": [
              "26"
            ]
          },
          "metadata": {
            "tags": []
          },
          "execution_count": 55
        }
      ]
    },
    {
      "cell_type": "markdown",
      "metadata": {
        "id": "VmsdMA1NXPmr",
        "colab_type": "text"
      },
      "source": [
        "Let's confirm we have the same number of unique venues as we got using the returned_venues method above"
      ]
    },
    {
      "cell_type": "code",
      "metadata": {
        "id": "vdrcYnUorQBg",
        "colab_type": "code",
        "outputId": "f0e08ca9-6ccb-4183-c55d-03eed741bb04",
        "colab": {
          "base_uri": "https://localhost:8080/",
          "height": 34
        }
      },
      "source": [
        "count = 0\n",
        "for i in super_list:\n",
        "    count += len(i)\n",
        "print(count)"
      ],
      "execution_count": 56,
      "outputs": [
        {
          "output_type": "stream",
          "text": [
            "100\n"
          ],
          "name": "stdout"
        }
      ]
    },
    {
      "cell_type": "markdown",
      "metadata": {
        "id": "NlMebOGwv1Bf",
        "colab_type": "text"
      },
      "source": [
        "We had 101 venue categories earlier. So one venue is missing, let's trace it and add it up to the right category, else it will distort our output"
      ]
    },
    {
      "cell_type": "code",
      "metadata": {
        "id": "_SAMvgyIrL1F",
        "colab_type": "code",
        "colab": {}
      },
      "source": [
        "if count < len(all_venue_categories):\n",
        "    test_set = set()\n",
        "\n",
        "    for i in super_list:\n",
        "        for j in i:\n",
        "            test_set.add(j)\n",
        "\n",
        "    len(test_set)"
      ],
      "execution_count": 0,
      "outputs": []
    },
    {
      "cell_type": "markdown",
      "metadata": {
        "id": "LME9kjkvr-dX",
        "colab_type": "text"
      },
      "source": [
        "Now that we have a test_set containing all venue categories in super_list,<br> Let's set it against the all_venue_categories list to identify the missing venue category "
      ]
    },
    {
      "cell_type": "code",
      "metadata": {
        "id": "5UGBXfihswTh",
        "colab_type": "code",
        "colab": {}
      },
      "source": [
        "missing_category = set(all_venue_categories).difference(test_set)"
      ],
      "execution_count": 0,
      "outputs": []
    },
    {
      "cell_type": "code",
      "metadata": {
        "id": "yo1weOhPtW_A",
        "colab_type": "code",
        "outputId": "86be788d-3c50-4e4b-a90a-957274f10152",
        "colab": {
          "base_uri": "https://localhost:8080/",
          "height": 34
        }
      },
      "source": [
        "# Let's see the missing category\n",
        "\n",
        "print(missing_category)"
      ],
      "execution_count": 59,
      "outputs": [
        {
          "output_type": "stream",
          "text": [
            "{'airport'}\n"
          ],
          "name": "stdout"
        }
      ]
    },
    {
      "cell_type": "markdown",
      "metadata": {
        "id": "uiMxW8Ej0BOc",
        "colab_type": "text"
      },
      "source": [
        "So let's add the airport category to the appropriate list. which should be airport list"
      ]
    },
    {
      "cell_type": "code",
      "metadata": {
        "id": "XMSOWEOo0sWD",
        "colab_type": "code",
        "colab": {}
      },
      "source": [
        "airport.append('airport')"
      ],
      "execution_count": 0,
      "outputs": []
    },
    {
      "cell_type": "code",
      "metadata": {
        "id": "SNzPK7u11JJ4",
        "colab_type": "code",
        "outputId": "10732844-e319-4a86-cc65-ed44c3ad0608",
        "colab": {
          "base_uri": "https://localhost:8080/",
          "height": 34
        }
      },
      "source": [
        "print(airport)"
      ],
      "execution_count": 61,
      "outputs": [
        {
          "output_type": "stream",
          "text": [
            "['airport terminal', 'airport service', 'airport']\n"
          ],
          "name": "stdout"
        }
      ]
    },
    {
      "cell_type": "markdown",
      "metadata": {
        "id": "MTQJjE0y04s1",
        "colab_type": "text"
      },
      "source": [
        "Let's once again confirm that we now have equal number of venues"
      ]
    },
    {
      "cell_type": "code",
      "metadata": {
        "id": "rCXWz6ha1EKe",
        "colab_type": "code",
        "outputId": "2c2e6dfa-3ad0-40b8-e590-117408d0cf05",
        "colab": {
          "base_uri": "https://localhost:8080/",
          "height": 34
        }
      },
      "source": [
        "count = 0\n",
        "for i in super_list:\n",
        "    count += len(i)\n",
        "print(count)"
      ],
      "execution_count": 62,
      "outputs": [
        {
          "output_type": "stream",
          "text": [
            "101\n"
          ],
          "name": "stdout"
        }
      ]
    },
    {
      "cell_type": "markdown",
      "metadata": {
        "id": "5IMhpVaf11R9",
        "colab_type": "text"
      },
      "source": [
        "Ok, Let's move on to the next step which is creating a DataFrame with categories as index and LGAs as columns.<br>Then each LGA would have a score based on the number of venues in each category.<br>\n",
        "After that we would sort the data frame by categories we care most about."
      ]
    },
    {
      "cell_type": "code",
      "metadata": {
        "id": "7MC7ySM52s7Z",
        "colab_type": "code",
        "colab": {}
      },
      "source": [
        "# Let's make the categories the index of the new DataFrame\n",
        "\n",
        "data_index = ['continental_restaurants', 'eateries', 'coffee_shops', 'gas_stations', 'ice_cream_n_confectionery', 'hotels_resorts_spas', 'bars_n_lounges',\n",
        "               'airport', 'bus_stations', 'heliport', 'it_services_n_hubs', 'shopping_malls_n_stores', 'gym_sports_facilities_games', 'markets', 'fashion_n_clothing',\n",
        "               'arts_studios_galleries', 'convention_centers', 'halls_events_venues', 'night_clubs', 'beach', 'parks', 'cinemas', 'auto_services', 'electronics_shop',\n",
        "               'residences', 'other_services']"
      ],
      "execution_count": 0,
      "outputs": []
    },
    {
      "cell_type": "code",
      "metadata": {
        "id": "9DYep3IO5neV",
        "colab_type": "code",
        "colab": {}
      },
      "source": [
        "# Let's create a list of LGAs to be the columns of our new DataFrame\n",
        "\n",
        "data_columns = list(copy_lagos_df.index)"
      ],
      "execution_count": 0,
      "outputs": []
    },
    {
      "cell_type": "code",
      "metadata": {
        "id": "EJTNcq55855P",
        "colab_type": "code",
        "outputId": "949fc23b-af2c-4659-9e5b-31c4c4a75960",
        "colab": {
          "base_uri": "https://localhost:8080/",
          "height": 212
        }
      },
      "source": [
        "# Let's create a new DataFrame\n",
        "summary_df = pd.DataFrame(index= data_index, columns= data_columns)\n",
        "\n",
        "# Next let's replace any possoble NaN values with 0\n",
        "summary_df.fillna(0, inplace=True)\n",
        "\n",
        "# Let's see the first 5 rows\n",
        "summary_df.head()"
      ],
      "execution_count": 65,
      "outputs": [
        {
          "output_type": "execute_result",
          "data": {
            "text/html": [
              "<div>\n",
              "<style scoped>\n",
              "    .dataframe tbody tr th:only-of-type {\n",
              "        vertical-align: middle;\n",
              "    }\n",
              "\n",
              "    .dataframe tbody tr th {\n",
              "        vertical-align: top;\n",
              "    }\n",
              "\n",
              "    .dataframe thead th {\n",
              "        text-align: right;\n",
              "    }\n",
              "</style>\n",
              "<table border=\"1\" class=\"dataframe\">\n",
              "  <thead>\n",
              "    <tr style=\"text-align: right;\">\n",
              "      <th></th>\n",
              "      <th>Alimosho</th>\n",
              "      <th>Ajeromi-Ifelodun</th>\n",
              "      <th>Kosofe</th>\n",
              "      <th>Mushin, Lagos</th>\n",
              "      <th>Oshodi-Isolo</th>\n",
              "      <th>Surulere</th>\n",
              "      <th>Agege</th>\n",
              "      <th>Ifako-Ijaiye</th>\n",
              "      <th>Somolu</th>\n",
              "      <th>Amuwo-Odofin</th>\n",
              "      <th>Lagos Mainland</th>\n",
              "      <th>Ikeja</th>\n",
              "      <th>Eti-Osa</th>\n",
              "      <th>Apapa</th>\n",
              "      <th>Lagos Island</th>\n",
              "    </tr>\n",
              "  </thead>\n",
              "  <tbody>\n",
              "    <tr>\n",
              "      <th>continental_restaurants</th>\n",
              "      <td>0</td>\n",
              "      <td>0</td>\n",
              "      <td>0</td>\n",
              "      <td>0</td>\n",
              "      <td>0</td>\n",
              "      <td>0</td>\n",
              "      <td>0</td>\n",
              "      <td>0</td>\n",
              "      <td>0</td>\n",
              "      <td>0</td>\n",
              "      <td>0</td>\n",
              "      <td>0</td>\n",
              "      <td>0</td>\n",
              "      <td>0</td>\n",
              "      <td>0</td>\n",
              "    </tr>\n",
              "    <tr>\n",
              "      <th>eateries</th>\n",
              "      <td>0</td>\n",
              "      <td>0</td>\n",
              "      <td>0</td>\n",
              "      <td>0</td>\n",
              "      <td>0</td>\n",
              "      <td>0</td>\n",
              "      <td>0</td>\n",
              "      <td>0</td>\n",
              "      <td>0</td>\n",
              "      <td>0</td>\n",
              "      <td>0</td>\n",
              "      <td>0</td>\n",
              "      <td>0</td>\n",
              "      <td>0</td>\n",
              "      <td>0</td>\n",
              "    </tr>\n",
              "    <tr>\n",
              "      <th>coffee_shops</th>\n",
              "      <td>0</td>\n",
              "      <td>0</td>\n",
              "      <td>0</td>\n",
              "      <td>0</td>\n",
              "      <td>0</td>\n",
              "      <td>0</td>\n",
              "      <td>0</td>\n",
              "      <td>0</td>\n",
              "      <td>0</td>\n",
              "      <td>0</td>\n",
              "      <td>0</td>\n",
              "      <td>0</td>\n",
              "      <td>0</td>\n",
              "      <td>0</td>\n",
              "      <td>0</td>\n",
              "    </tr>\n",
              "    <tr>\n",
              "      <th>gas_stations</th>\n",
              "      <td>0</td>\n",
              "      <td>0</td>\n",
              "      <td>0</td>\n",
              "      <td>0</td>\n",
              "      <td>0</td>\n",
              "      <td>0</td>\n",
              "      <td>0</td>\n",
              "      <td>0</td>\n",
              "      <td>0</td>\n",
              "      <td>0</td>\n",
              "      <td>0</td>\n",
              "      <td>0</td>\n",
              "      <td>0</td>\n",
              "      <td>0</td>\n",
              "      <td>0</td>\n",
              "    </tr>\n",
              "    <tr>\n",
              "      <th>ice_cream_n_confectionery</th>\n",
              "      <td>0</td>\n",
              "      <td>0</td>\n",
              "      <td>0</td>\n",
              "      <td>0</td>\n",
              "      <td>0</td>\n",
              "      <td>0</td>\n",
              "      <td>0</td>\n",
              "      <td>0</td>\n",
              "      <td>0</td>\n",
              "      <td>0</td>\n",
              "      <td>0</td>\n",
              "      <td>0</td>\n",
              "      <td>0</td>\n",
              "      <td>0</td>\n",
              "      <td>0</td>\n",
              "    </tr>\n",
              "  </tbody>\n",
              "</table>\n",
              "</div>"
            ],
            "text/plain": [
              "                           Alimosho  Ajeromi-Ifelodun  ...  Apapa  Lagos Island\n",
              "continental_restaurants           0                 0  ...      0             0\n",
              "eateries                          0                 0  ...      0             0\n",
              "coffee_shops                      0                 0  ...      0             0\n",
              "gas_stations                      0                 0  ...      0             0\n",
              "ice_cream_n_confectionery         0                 0  ...      0             0\n",
              "\n",
              "[5 rows x 15 columns]"
            ]
          },
          "metadata": {
            "tags": []
          },
          "execution_count": 65
        }
      ]
    },
    {
      "cell_type": "markdown",
      "metadata": {
        "id": "IaAnQOOhYc35",
        "colab_type": "text"
      },
      "source": [
        "Now let's create a method that adds the number of venues in each category per LGA to the summary_df DataFrame above"
      ]
    },
    {
      "cell_type": "code",
      "metadata": {
        "id": "o7NkFJqU_wlp",
        "colab_type": "code",
        "colab": {}
      },
      "source": [
        "def update_lga_category_values(df_1, df_2):\n",
        "    \"\"\"df_1 refers to the copy_lagos_df DataFrame and\n",
        "    df_2 refers to the summary_df DataFrame,\n",
        "    This method returns an updated df_2, showing the total number\n",
        "    of each type of venues that exist in each LGA\"\"\"\n",
        "\n",
        "    # let's make a refence to the super_list object\n",
        "    new_list = super_list.copy()\n",
        "    # Let's iterate through the copy_lagos_df DataFrame\n",
        "    for i in df_1.index:\n",
        "        # Lets use the return_venues method defined earlier to get the venues for each LGA\n",
        "        df_lga_venues = return_venues(i)\n",
        "        # convert the venue.categories elements to all lower case for each LGA using list comp.\n",
        "        df_lga_venues['venue.categories'] = [x.lower() for x in list(df_lga_venues['venue.categories'])]\n",
        "        # Let's iterate through each venue category in the given LGA\n",
        "        for x in df_lga_venues['venue.categories']:\n",
        "            # Let's check if the venue is in the first element of the new_list, \n",
        "            # which is a copy of the Super_list we created earlier\n",
        "            for y in range(len(new_list)):\n",
        "                # If it exists add one to the category under which it exists\n",
        "                if x in new_list[y]:\n",
        "                    df_2[i][y] += 1\n",
        "                # if it doesn't exist continue seeking the right category\n",
        "                else:\n",
        "                    continue\n",
        "    # Finally add a Total row that shows the total venues returned per category per LGA\n",
        "    df_2.loc[\"Total_Venues\"] = df_2.sum()\n",
        "    return df_2"
      ],
      "execution_count": 0,
      "outputs": []
    },
    {
      "cell_type": "code",
      "metadata": {
        "id": "U2BhwQvkKlBQ",
        "colab_type": "code",
        "colab": {}
      },
      "source": [
        "summary_df = update_lga_category_values(copy_lagos_df, summary_df)"
      ],
      "execution_count": 0,
      "outputs": []
    },
    {
      "cell_type": "code",
      "metadata": {
        "id": "9vu278mtLRZA",
        "colab_type": "code",
        "outputId": "9c165525-9488-4b6e-ca87-d0cf1eaf6c95",
        "colab": {
          "base_uri": "https://localhost:8080/",
          "height": 212
        }
      },
      "source": [
        "summary_df.head()"
      ],
      "execution_count": 68,
      "outputs": [
        {
          "output_type": "execute_result",
          "data": {
            "text/html": [
              "<div>\n",
              "<style scoped>\n",
              "    .dataframe tbody tr th:only-of-type {\n",
              "        vertical-align: middle;\n",
              "    }\n",
              "\n",
              "    .dataframe tbody tr th {\n",
              "        vertical-align: top;\n",
              "    }\n",
              "\n",
              "    .dataframe thead th {\n",
              "        text-align: right;\n",
              "    }\n",
              "</style>\n",
              "<table border=\"1\" class=\"dataframe\">\n",
              "  <thead>\n",
              "    <tr style=\"text-align: right;\">\n",
              "      <th></th>\n",
              "      <th>Alimosho</th>\n",
              "      <th>Ajeromi-Ifelodun</th>\n",
              "      <th>Kosofe</th>\n",
              "      <th>Mushin, Lagos</th>\n",
              "      <th>Oshodi-Isolo</th>\n",
              "      <th>Surulere</th>\n",
              "      <th>Agege</th>\n",
              "      <th>Ifako-Ijaiye</th>\n",
              "      <th>Somolu</th>\n",
              "      <th>Amuwo-Odofin</th>\n",
              "      <th>Lagos Mainland</th>\n",
              "      <th>Ikeja</th>\n",
              "      <th>Eti-Osa</th>\n",
              "      <th>Apapa</th>\n",
              "      <th>Lagos Island</th>\n",
              "    </tr>\n",
              "  </thead>\n",
              "  <tbody>\n",
              "    <tr>\n",
              "      <th>continental_restaurants</th>\n",
              "      <td>10</td>\n",
              "      <td>17</td>\n",
              "      <td>17</td>\n",
              "      <td>21</td>\n",
              "      <td>23</td>\n",
              "      <td>18</td>\n",
              "      <td>20</td>\n",
              "      <td>16</td>\n",
              "      <td>3</td>\n",
              "      <td>4</td>\n",
              "      <td>23</td>\n",
              "      <td>21</td>\n",
              "      <td>9</td>\n",
              "      <td>30</td>\n",
              "      <td>7</td>\n",
              "    </tr>\n",
              "    <tr>\n",
              "      <th>eateries</th>\n",
              "      <td>7</td>\n",
              "      <td>4</td>\n",
              "      <td>11</td>\n",
              "      <td>15</td>\n",
              "      <td>16</td>\n",
              "      <td>7</td>\n",
              "      <td>16</td>\n",
              "      <td>11</td>\n",
              "      <td>3</td>\n",
              "      <td>2</td>\n",
              "      <td>7</td>\n",
              "      <td>16</td>\n",
              "      <td>5</td>\n",
              "      <td>7</td>\n",
              "      <td>5</td>\n",
              "    </tr>\n",
              "    <tr>\n",
              "      <th>coffee_shops</th>\n",
              "      <td>0</td>\n",
              "      <td>2</td>\n",
              "      <td>4</td>\n",
              "      <td>5</td>\n",
              "      <td>4</td>\n",
              "      <td>2</td>\n",
              "      <td>2</td>\n",
              "      <td>2</td>\n",
              "      <td>0</td>\n",
              "      <td>0</td>\n",
              "      <td>5</td>\n",
              "      <td>2</td>\n",
              "      <td>0</td>\n",
              "      <td>5</td>\n",
              "      <td>0</td>\n",
              "    </tr>\n",
              "    <tr>\n",
              "      <th>gas_stations</th>\n",
              "      <td>0</td>\n",
              "      <td>0</td>\n",
              "      <td>0</td>\n",
              "      <td>0</td>\n",
              "      <td>0</td>\n",
              "      <td>0</td>\n",
              "      <td>0</td>\n",
              "      <td>0</td>\n",
              "      <td>0</td>\n",
              "      <td>0</td>\n",
              "      <td>0</td>\n",
              "      <td>0</td>\n",
              "      <td>0</td>\n",
              "      <td>0</td>\n",
              "      <td>1</td>\n",
              "    </tr>\n",
              "    <tr>\n",
              "      <th>ice_cream_n_confectionery</th>\n",
              "      <td>0</td>\n",
              "      <td>1</td>\n",
              "      <td>5</td>\n",
              "      <td>6</td>\n",
              "      <td>6</td>\n",
              "      <td>1</td>\n",
              "      <td>4</td>\n",
              "      <td>0</td>\n",
              "      <td>1</td>\n",
              "      <td>1</td>\n",
              "      <td>4</td>\n",
              "      <td>4</td>\n",
              "      <td>3</td>\n",
              "      <td>3</td>\n",
              "      <td>3</td>\n",
              "    </tr>\n",
              "  </tbody>\n",
              "</table>\n",
              "</div>"
            ],
            "text/plain": [
              "                           Alimosho  Ajeromi-Ifelodun  ...  Apapa  Lagos Island\n",
              "continental_restaurants          10                17  ...     30             7\n",
              "eateries                          7                 4  ...      7             5\n",
              "coffee_shops                      0                 2  ...      5             0\n",
              "gas_stations                      0                 0  ...      0             1\n",
              "ice_cream_n_confectionery         0                 1  ...      3             3\n",
              "\n",
              "[5 rows x 15 columns]"
            ]
          },
          "metadata": {
            "tags": []
          },
          "execution_count": 68
        }
      ]
    },
    {
      "cell_type": "markdown",
      "metadata": {
        "id": "1wTDJIXegR03",
        "colab_type": "text"
      },
      "source": [
        "Let's make an effort to select our top 20 categories from the summary_df above and save that to a list"
      ]
    },
    {
      "cell_type": "code",
      "metadata": {
        "id": "cYVDNY49gkxu",
        "colab_type": "code",
        "colab": {}
      },
      "source": [
        "top_criteria = ['hotels_resorts_spas','airport','it_services_n_hubs','gym_sports_facilities_games','shopping_malls_n_stores','coffee_shops','markets',\n",
        "                'bars_n_lounges','arts_studios_galleries','halls_events_venues','continental_restaurants','eateries','gas_stations','cinemas','residences',\n",
        "                'auto_services','convention_centers','parks','electronics_shop','night_clubs']"
      ],
      "execution_count": 0,
      "outputs": []
    },
    {
      "cell_type": "code",
      "metadata": {
        "id": "eKOdCyh6xMaX",
        "colab_type": "code",
        "colab": {}
      },
      "source": [
        "top_criteria_df = summary_df.loc[top_criteria,]\n",
        "\n",
        "top_criteria_df.loc['Total Venues'] = top_criteria_df.sum()"
      ],
      "execution_count": 0,
      "outputs": []
    },
    {
      "cell_type": "code",
      "metadata": {
        "id": "cF6yYzZ_xbJt",
        "colab_type": "code",
        "outputId": "4eed2e81-7a17-42d0-80b3-41246737d6d4",
        "colab": {
          "base_uri": "https://localhost:8080/",
          "height": 212
        }
      },
      "source": [
        "top_criteria_df.head()"
      ],
      "execution_count": 71,
      "outputs": [
        {
          "output_type": "execute_result",
          "data": {
            "text/html": [
              "<div>\n",
              "<style scoped>\n",
              "    .dataframe tbody tr th:only-of-type {\n",
              "        vertical-align: middle;\n",
              "    }\n",
              "\n",
              "    .dataframe tbody tr th {\n",
              "        vertical-align: top;\n",
              "    }\n",
              "\n",
              "    .dataframe thead th {\n",
              "        text-align: right;\n",
              "    }\n",
              "</style>\n",
              "<table border=\"1\" class=\"dataframe\">\n",
              "  <thead>\n",
              "    <tr style=\"text-align: right;\">\n",
              "      <th></th>\n",
              "      <th>Alimosho</th>\n",
              "      <th>Ajeromi-Ifelodun</th>\n",
              "      <th>Kosofe</th>\n",
              "      <th>Mushin, Lagos</th>\n",
              "      <th>Oshodi-Isolo</th>\n",
              "      <th>Surulere</th>\n",
              "      <th>Agege</th>\n",
              "      <th>Ifako-Ijaiye</th>\n",
              "      <th>Somolu</th>\n",
              "      <th>Amuwo-Odofin</th>\n",
              "      <th>Lagos Mainland</th>\n",
              "      <th>Ikeja</th>\n",
              "      <th>Eti-Osa</th>\n",
              "      <th>Apapa</th>\n",
              "      <th>Lagos Island</th>\n",
              "    </tr>\n",
              "  </thead>\n",
              "  <tbody>\n",
              "    <tr>\n",
              "      <th>hotels_resorts_spas</th>\n",
              "      <td>2</td>\n",
              "      <td>5</td>\n",
              "      <td>4</td>\n",
              "      <td>5</td>\n",
              "      <td>7</td>\n",
              "      <td>10</td>\n",
              "      <td>5</td>\n",
              "      <td>3</td>\n",
              "      <td>1</td>\n",
              "      <td>4</td>\n",
              "      <td>9</td>\n",
              "      <td>5</td>\n",
              "      <td>6</td>\n",
              "      <td>11</td>\n",
              "      <td>9</td>\n",
              "    </tr>\n",
              "    <tr>\n",
              "      <th>airport</th>\n",
              "      <td>2</td>\n",
              "      <td>0</td>\n",
              "      <td>2</td>\n",
              "      <td>0</td>\n",
              "      <td>0</td>\n",
              "      <td>0</td>\n",
              "      <td>3</td>\n",
              "      <td>0</td>\n",
              "      <td>0</td>\n",
              "      <td>0</td>\n",
              "      <td>0</td>\n",
              "      <td>3</td>\n",
              "      <td>0</td>\n",
              "      <td>0</td>\n",
              "      <td>0</td>\n",
              "    </tr>\n",
              "    <tr>\n",
              "      <th>it_services_n_hubs</th>\n",
              "      <td>0</td>\n",
              "      <td>0</td>\n",
              "      <td>1</td>\n",
              "      <td>1</td>\n",
              "      <td>1</td>\n",
              "      <td>1</td>\n",
              "      <td>0</td>\n",
              "      <td>0</td>\n",
              "      <td>0</td>\n",
              "      <td>0</td>\n",
              "      <td>1</td>\n",
              "      <td>1</td>\n",
              "      <td>0</td>\n",
              "      <td>0</td>\n",
              "      <td>0</td>\n",
              "    </tr>\n",
              "    <tr>\n",
              "      <th>gym_sports_facilities_games</th>\n",
              "      <td>1</td>\n",
              "      <td>3</td>\n",
              "      <td>1</td>\n",
              "      <td>5</td>\n",
              "      <td>4</td>\n",
              "      <td>8</td>\n",
              "      <td>3</td>\n",
              "      <td>2</td>\n",
              "      <td>0</td>\n",
              "      <td>1</td>\n",
              "      <td>8</td>\n",
              "      <td>3</td>\n",
              "      <td>4</td>\n",
              "      <td>8</td>\n",
              "      <td>5</td>\n",
              "    </tr>\n",
              "    <tr>\n",
              "      <th>shopping_malls_n_stores</th>\n",
              "      <td>5</td>\n",
              "      <td>5</td>\n",
              "      <td>14</td>\n",
              "      <td>18</td>\n",
              "      <td>14</td>\n",
              "      <td>12</td>\n",
              "      <td>15</td>\n",
              "      <td>7</td>\n",
              "      <td>4</td>\n",
              "      <td>1</td>\n",
              "      <td>11</td>\n",
              "      <td>13</td>\n",
              "      <td>8</td>\n",
              "      <td>6</td>\n",
              "      <td>8</td>\n",
              "    </tr>\n",
              "  </tbody>\n",
              "</table>\n",
              "</div>"
            ],
            "text/plain": [
              "                             Alimosho  Ajeromi-Ifelodun  ...  Apapa  Lagos Island\n",
              "hotels_resorts_spas                 2                 5  ...     11             9\n",
              "airport                             2                 0  ...      0             0\n",
              "it_services_n_hubs                  0                 0  ...      0             0\n",
              "gym_sports_facilities_games         1                 3  ...      8             5\n",
              "shopping_malls_n_stores             5                 5  ...      6             8\n",
              "\n",
              "[5 rows x 15 columns]"
            ]
          },
          "metadata": {
            "tags": []
          },
          "execution_count": 71
        }
      ]
    },
    {
      "cell_type": "markdown",
      "metadata": {
        "id": "aPA07dnOyz2j",
        "colab_type": "text"
      },
      "source": [
        "let's check for the LGA that has the fewest number of 0's. This means the LGA that has the most wide spread categories of venues.<br>\n",
        "Because ideally, we want a location that lacks the least, on the categories of venues we deem important."
      ]
    },
    {
      "cell_type": "code",
      "metadata": {
        "id": "hcRy9-xKxpgN",
        "colab_type": "code",
        "outputId": "64983f02-6c26-48b4-8b59-413737b0de04",
        "colab": {
          "base_uri": "https://localhost:8080/",
          "height": 70
        }
      },
      "source": [
        "# First let's save the columns to a variable\n",
        "column_list = list(top_criteria_df.columns)\n",
        "\n",
        "# Let's iterate through each LGA in the top_criteria_df and count the number of missing categories\n",
        "# Then append each LGA and its missing categories score to the first dictionary\n",
        "\n",
        "lga_dict = {}  # first dict\n",
        "min_dict = {}  # second dict\n",
        "\n",
        "for i in column_list:\n",
        "    zero_count = 0\n",
        "    for j in top_criteria_df[i]:\n",
        "        if j == 0:\n",
        "            zero_count  += 1\n",
        "            lga_dict[i] = zero_count\n",
        "print(lga_dict)\n",
        "\n",
        "# Let's iterate through the first dictionary and append the keys and values \n",
        "# corresponding to the LGAs with the least missing categories to the second dictionary.\n",
        "\n",
        "for i, j in lga_dict.items():\n",
        "    if j == min(lga_dict.values()):\n",
        "        min_dict[i] = j\n",
        "\n",
        "# show the LGAs with the corresponding lowest missing categories \n",
        "print(min_dict)"
      ],
      "execution_count": 72,
      "outputs": [
        {
          "output_type": "stream",
          "text": [
            "{'Alimosho': 9, 'Ajeromi-Ifelodun': 6, 'Kosofe': 5, 'Mushin, Lagos': 6, 'Oshodi-Isolo': 5, 'Surulere': 5, 'Agege': 5, 'Ifako-Ijaiye': 7, 'Somolu': 14, 'Amuwo-Odofin': 12, 'Lagos Mainland': 4, 'Ikeja': 4, 'Eti-Osa': 8, 'Apapa': 5, 'Lagos Island': 6}\n",
            "{'Lagos Mainland': 4, 'Ikeja': 4}\n"
          ],
          "name": "stdout"
        }
      ]
    },
    {
      "cell_type": "markdown",
      "metadata": {
        "id": "Qsv4o9yl3Qbh",
        "colab_type": "text"
      },
      "source": [
        "With both Lagos Mainland LGA and Ikeja LGA having the least absent category of 4 venues each.<br>\n",
        "Plus Lagos Mainland having 95 active venues in 16 top categories and,<br>\n",
        "Ikeja having 83 active venues in 16 top categories.<br>\n",
        "It is safe to say Lagos Mainland LGA is the most ideal location in Lagos state to cite an office.<br>\n",
        "Although a closer look indicates that Ikeja LGA has three airports and that should count for a lot of consideration.<br>\n",
        "By and Large, Lagos Mainland LGA and Ikeja LGA are the two most ideal locations to cite an office in Lagos State."
      ]
    },
    {
      "cell_type": "markdown",
      "metadata": {
        "id": "C6Y0wzjmVp36",
        "colab_type": "text"
      },
      "source": [
        "The next set of good locations with only 5 missing categories are:<br>\n",
        "Apapa:- With 96 available venues<br>\n",
        "Oshodi-Isolo:- with 92 available venues<br>\n",
        "Surulere:- With 84 available venues<br>"
      ]
    },
    {
      "cell_type": "markdown",
      "metadata": {
        "id": "Q0F0gMRvhc2S",
        "colab_type": "text"
      },
      "source": [
        "<h3>Now let's analyse the Lagos Mainland LGA</h3>"
      ]
    },
    {
      "cell_type": "code",
      "metadata": {
        "id": "rXabRJhH1hPF",
        "colab_type": "code",
        "outputId": "430a2e9a-ece6-42b1-a530-9fcd4cd23534",
        "colab": {
          "base_uri": "https://localhost:8080/",
          "height": 858
        }
      },
      "source": [
        "# Let's see a map of Lagos Mainland LGA\n",
        "\n",
        "plot_map('Lagos Mainland')\n",
        "\n",
        "# feel free to zoom in the map"
      ],
      "execution_count": 73,
      "outputs": [
        {
          "output_type": "execute_result",
          "data": {
            "text/html": [
              "<div style=\"width:100%;\"><div style=\"position:relative;width:100%;height:0;padding-bottom:60%;\"><iframe src=\"data:text/html;charset=utf-8;base64,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\" style=\"position:absolute;width:100%;height:100%;left:0;top:0;border:none !important;\" allowfullscreen webkitallowfullscreen mozallowfullscreen></iframe></div></div>"
            ],
            "text/plain": [
              "<folium.folium.Map at 0x7f6f80dd6550>"
            ]
          },
          "metadata": {
            "tags": []
          },
          "execution_count": 73
        }
      ]
    },
    {
      "cell_type": "markdown",
      "metadata": {
        "id": "L4AKlO18tYvs",
        "colab_type": "text"
      },
      "source": [
        "Background<br>\n",
        "Lagos Mainland was founded by Chief Olofin and is peopled by the same group as found in Lagos especially the Egbas and Aworis. <br>\n",
        "Lagos Mainland developed from settlements such as Ebute-Metta, Ido-Otto and Ijora.\n",
        "<br>\n",
        "<br>\n",
        "Communities<br>\n",
        "The communities of Lagos Mainland incude >>\n",
        "<br>Yaba, <br>Ebute-Metta, <br>Iddo-Otto, <br>Iwaya, <br>Akoka, <br>Makoko, <br>Abule-nla.<br>\n",
        "See [link](https://web.archive.org/web/20070929061412/http://www.mainlandlg.com/)"
      ]
    },
    {
      "cell_type": "code",
      "metadata": {
        "id": "wkkzsbXwisLM",
        "colab_type": "code",
        "outputId": "ec3a8cb0-1739-47b5-cfcb-059cc92c3a1f",
        "colab": {
          "base_uri": "https://localhost:8080/",
          "height": 195
        }
      },
      "source": [
        "# Let's inspect the Lagos Mainland Data frame\n",
        "\n",
        "lagos_mainland_df = return_venues('Lagos Mainland')\n",
        "\n",
        "lagos_mainland_df.head()"
      ],
      "execution_count": 74,
      "outputs": [
        {
          "output_type": "execute_result",
          "data": {
            "text/html": [
              "<div>\n",
              "<style scoped>\n",
              "    .dataframe tbody tr th:only-of-type {\n",
              "        vertical-align: middle;\n",
              "    }\n",
              "\n",
              "    .dataframe tbody tr th {\n",
              "        vertical-align: top;\n",
              "    }\n",
              "\n",
              "    .dataframe thead th {\n",
              "        text-align: right;\n",
              "    }\n",
              "</style>\n",
              "<table border=\"1\" class=\"dataframe\">\n",
              "  <thead>\n",
              "    <tr style=\"text-align: right;\">\n",
              "      <th></th>\n",
              "      <th>venue.name</th>\n",
              "      <th>venue.categories</th>\n",
              "      <th>venue.location.lat</th>\n",
              "      <th>venue.location.lng</th>\n",
              "      <th>venue.location.distance</th>\n",
              "      <th>venue.id</th>\n",
              "    </tr>\n",
              "  </thead>\n",
              "  <tbody>\n",
              "    <tr>\n",
              "      <th>0</th>\n",
              "      <td>White House</td>\n",
              "      <td>African Restaurant</td>\n",
              "      <td>6.506143</td>\n",
              "      <td>3.375522</td>\n",
              "      <td>2025</td>\n",
              "      <td>4d344e1098336dcb474236f0</td>\n",
              "    </tr>\n",
              "    <tr>\n",
              "      <th>1</th>\n",
              "      <td>Film House Cinema</td>\n",
              "      <td>Multiplex</td>\n",
              "      <td>6.490242</td>\n",
              "      <td>3.357371</td>\n",
              "      <td>3429</td>\n",
              "      <td>50ccbc9ce4b0d07024dd14f4</td>\n",
              "    </tr>\n",
              "    <tr>\n",
              "      <th>2</th>\n",
              "      <td>The Banana Island Patisserie</td>\n",
              "      <td>Bagel Shop</td>\n",
              "      <td>6.509970</td>\n",
              "      <td>3.391848</td>\n",
              "      <td>1923</td>\n",
              "      <td>51cabaad498eb06f0fdb0340</td>\n",
              "    </tr>\n",
              "    <tr>\n",
              "      <th>3</th>\n",
              "      <td>Ozone Cinemas</td>\n",
              "      <td>Movie Theater</td>\n",
              "      <td>6.506480</td>\n",
              "      <td>3.374521</td>\n",
              "      <td>2130</td>\n",
              "      <td>4de68e0418389f05587cbc03</td>\n",
              "    </tr>\n",
              "    <tr>\n",
              "      <th>4</th>\n",
              "      <td>Banilux</td>\n",
              "      <td>Nightclub</td>\n",
              "      <td>6.505259</td>\n",
              "      <td>3.375517</td>\n",
              "      <td>1956</td>\n",
              "      <td>4de00f9a3151d414eb1dcfae</td>\n",
              "    </tr>\n",
              "  </tbody>\n",
              "</table>\n",
              "</div>"
            ],
            "text/plain": [
              "                     venue.name  ...                  venue.id\n",
              "0                   White House  ...  4d344e1098336dcb474236f0\n",
              "1             Film House Cinema  ...  50ccbc9ce4b0d07024dd14f4\n",
              "2  The Banana Island Patisserie  ...  51cabaad498eb06f0fdb0340\n",
              "3                 Ozone Cinemas  ...  4de68e0418389f05587cbc03\n",
              "4                       Banilux  ...  4de00f9a3151d414eb1dcfae\n",
              "\n",
              "[5 rows x 6 columns]"
            ]
          },
          "metadata": {
            "tags": []
          },
          "execution_count": 74
        }
      ]
    },
    {
      "cell_type": "code",
      "metadata": {
        "id": "ODcc9kf6i_kS",
        "colab_type": "code",
        "outputId": "dc46f847-a18b-42f3-cd3f-b5a41bfa247c",
        "colab": {
          "base_uri": "https://localhost:8080/",
          "height": 34
        }
      },
      "source": [
        "lagos_mainland_df.shape"
      ],
      "execution_count": 75,
      "outputs": [
        {
          "output_type": "execute_result",
          "data": {
            "text/plain": [
              "(100, 6)"
            ]
          },
          "metadata": {
            "tags": []
          },
          "execution_count": 75
        }
      ]
    },
    {
      "cell_type": "markdown",
      "metadata": {
        "id": "c8Og69f10Aj7",
        "colab_type": "text"
      },
      "source": [
        "#### Create a map of Lagos Mainland with Venues superimposed on top."
      ]
    },
    {
      "cell_type": "code",
      "metadata": {
        "id": "xfz9OZmezc0s",
        "colab_type": "code",
        "outputId": "def3e117-d3a6-4dd2-d787-8f6f47a73010",
        "colab": {
          "base_uri": "https://localhost:8080/",
          "height": 34
        }
      },
      "source": [
        "address = 'Lagos Mainland'\n",
        "\n",
        "geolocator = Nominatim(user_agent=\"NG_explorer\")\n",
        "location = geolocator.geocode(address)\n",
        "latitude = location.latitude\n",
        "longitude = location.longitude\n",
        "print('The geograpical coordinate of Lagos Mainland are {}, {}.'.format(latitude, longitude))\n"
      ],
      "execution_count": 76,
      "outputs": [
        {
          "output_type": "stream",
          "text": [
            "The geograpical coordinate of Lagos Mainland are 6.49306105, 3.38824963720956.\n"
          ],
          "name": "stdout"
        }
      ]
    },
    {
      "cell_type": "code",
      "metadata": {
        "id": "5YGaN8siw9_h",
        "colab_type": "code",
        "outputId": "15c9d5f5-72fa-4188-ddd7-4adc96e6099a",
        "colab": {
          "base_uri": "https://localhost:8080/",
          "height": 858
        }
      },
      "source": [
        "map_lagos_mainland_venues = folium.Map(location=[latitude, longitude], zoom_start=12)\n",
        "\n",
        "# add markers to map\n",
        "for lat, lng, venue_category, venue_name in zip(lagos_mainland_df['venue.location.lat'], lagos_mainland_df['venue.location.lng'], lagos_mainland_df['venue.categories'], lagos_mainland_df['venue.name']):\n",
        "    label = '{}, {}'.format(venue_name, venue_category)\n",
        "    label = folium.Popup(label, parse_html=True)\n",
        "    folium.CircleMarker(\n",
        "        [lat, lng],\n",
        "        radius=5,\n",
        "        popup=label,\n",
        "        color='blue',\n",
        "        fill=True,\n",
        "        fill_color='#3186cc',\n",
        "        fill_opacity=0.7,\n",
        "        parse_html=False).add_to(map_lagos_mainland_venues)  \n",
        "    \n",
        "map_lagos_mainland_venues"
      ],
      "execution_count": 77,
      "outputs": [
        {
          "output_type": "execute_result",
          "data": {
            "text/html": [
              "<div style=\"width:100%;\"><div style=\"position:relative;width:100%;height:0;padding-bottom:60%;\"><iframe src=\"data:text/html;charset=utf-8;base64,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\" style=\"position:absolute;width:100%;height:100%;left:0;top:0;border:none !important;\" allowfullscreen webkitallowfullscreen mozallowfullscreen></iframe></div></div>"
            ],
            "text/plain": [
              "<folium.folium.Map at 0x7f6f80d72978>"
            ]
          },
          "metadata": {
            "tags": []
          },
          "execution_count": 77
        }
      ]
    },
    {
      "cell_type": "markdown",
      "metadata": {
        "id": "RbW7eRx3k-jA",
        "colab_type": "text"
      },
      "source": [
        "Let's write code to show the top 10 most frequent venue categories in Lagos Mainland"
      ]
    },
    {
      "cell_type": "code",
      "metadata": {
        "id": "GQYJWwzx92OC",
        "colab_type": "code",
        "outputId": "e1d848c2-34d4-459e-d8ed-ee90089527ff",
        "colab": {
          "base_uri": "https://localhost:8080/",
          "height": 202
        }
      },
      "source": [
        "lagos_mainland_df['venue.categories'].value_counts().head(10)"
      ],
      "execution_count": 78,
      "outputs": [
        {
          "output_type": "execute_result",
          "data": {
            "text/plain": [
              "Hotel                   9\n",
              "Lounge                  7\n",
              "Shopping Mall           6\n",
              "African Restaurant      5\n",
              "Bar                     4\n",
              "Nightclub               4\n",
              "Restaurant              3\n",
              "Pizza Place             3\n",
              "Art Gallery             3\n",
              "Fast Food Restaurant    3\n",
              "Name: venue.categories, dtype: int64"
            ]
          },
          "metadata": {
            "tags": []
          },
          "execution_count": 78
        }
      ]
    },
    {
      "cell_type": "markdown",
      "metadata": {
        "id": "QRD38P0fOXAU",
        "colab_type": "text"
      },
      "source": [
        "### Exploring Lagos State LGAs and Venues"
      ]
    },
    {
      "cell_type": "code",
      "metadata": {
        "id": "i6DqYAe2A7UZ",
        "colab_type": "code",
        "outputId": "2c913205-79f0-4b99-f0ae-8bbdb36c44d8",
        "colab": {
          "base_uri": "https://localhost:8080/",
          "height": 195
        }
      },
      "source": [
        "lagos_df.head()"
      ],
      "execution_count": 79,
      "outputs": [
        {
          "output_type": "execute_result",
          "data": {
            "text/html": [
              "<div>\n",
              "<style scoped>\n",
              "    .dataframe tbody tr th:only-of-type {\n",
              "        vertical-align: middle;\n",
              "    }\n",
              "\n",
              "    .dataframe tbody tr th {\n",
              "        vertical-align: top;\n",
              "    }\n",
              "\n",
              "    .dataframe thead th {\n",
              "        text-align: right;\n",
              "    }\n",
              "</style>\n",
              "<table border=\"1\" class=\"dataframe\">\n",
              "  <thead>\n",
              "    <tr style=\"text-align: right;\">\n",
              "      <th></th>\n",
              "      <th>LGA</th>\n",
              "      <th>POP</th>\n",
              "      <th>latitude</th>\n",
              "      <th>longitude</th>\n",
              "    </tr>\n",
              "  </thead>\n",
              "  <tbody>\n",
              "    <tr>\n",
              "      <th>0</th>\n",
              "      <td>Alimosho</td>\n",
              "      <td>5700714</td>\n",
              "      <td>6.58434</td>\n",
              "      <td>3.257631</td>\n",
              "    </tr>\n",
              "    <tr>\n",
              "      <th>1</th>\n",
              "      <td>Ajeromi-Ifelodun</td>\n",
              "      <td>1746634</td>\n",
              "      <td>6.45512</td>\n",
              "      <td>3.335946</td>\n",
              "    </tr>\n",
              "    <tr>\n",
              "      <th>2</th>\n",
              "      <td>Kosofe</td>\n",
              "      <td>665998</td>\n",
              "      <td>6.58197</td>\n",
              "      <td>3.414836</td>\n",
              "    </tr>\n",
              "    <tr>\n",
              "      <th>3</th>\n",
              "      <td>Mushin, Lagos</td>\n",
              "      <td>633543</td>\n",
              "      <td>6.53263</td>\n",
              "      <td>3.352022</td>\n",
              "    </tr>\n",
              "    <tr>\n",
              "      <th>4</th>\n",
              "      <td>Oshodi-Isolo</td>\n",
              "      <td>621789</td>\n",
              "      <td>6.54001</td>\n",
              "      <td>3.312415</td>\n",
              "    </tr>\n",
              "  </tbody>\n",
              "</table>\n",
              "</div>"
            ],
            "text/plain": [
              "                LGA      POP latitude  longitude\n",
              "0          Alimosho  5700714  6.58434   3.257631\n",
              "1  Ajeromi-Ifelodun  1746634  6.45512   3.335946\n",
              "2            Kosofe   665998  6.58197   3.414836\n",
              "3     Mushin, Lagos   633543  6.53263   3.352022\n",
              "4      Oshodi-Isolo   621789  6.54001   3.312415"
            ]
          },
          "metadata": {
            "tags": []
          },
          "execution_count": 79
        }
      ]
    },
    {
      "cell_type": "markdown",
      "metadata": {
        "id": "T0xVOE2NCnAm",
        "colab_type": "text"
      },
      "source": [
        "##### Let's Create a map of Lagos State with LGAs superimposed on top."
      ]
    },
    {
      "cell_type": "code",
      "metadata": {
        "id": "jCJ0CX8RDBJY",
        "colab_type": "code",
        "outputId": "1998fbaa-16bc-47dc-aa9c-68c85c5cc5bd",
        "colab": {
          "base_uri": "https://localhost:8080/",
          "height": 34
        }
      },
      "source": [
        "address = 'Lagos'\n",
        "\n",
        "geolocator = Nominatim(user_agent=\"NG_explorer\")\n",
        "location = geolocator.geocode(address)\n",
        "latitude = location.latitude\n",
        "longitude = location.longitude\n",
        "print('The geograpical coordinate of Lagos State are {}, {}.'.format(latitude, longitude))\n"
      ],
      "execution_count": 80,
      "outputs": [
        {
          "output_type": "stream",
          "text": [
            "The geograpical coordinate of Lagos State are 6.4550575, 3.3941795.\n"
          ],
          "name": "stdout"
        }
      ]
    },
    {
      "cell_type": "code",
      "metadata": {
        "id": "mRPWeNjGDcFs",
        "colab_type": "code",
        "outputId": "8d9102fc-b595-497b-dbfb-7d64a6227939",
        "colab": {
          "base_uri": "https://localhost:8080/",
          "height": 858
        }
      },
      "source": [
        "map_lagos_state = folium.Map(location=[latitude, longitude], zoom_start=10)\n",
        "\n",
        "# add markers to map\n",
        "for lat, lng, LGA  in zip(lagos_df['latitude'], lagos_df['longitude'], lagos_df['LGA']):\n",
        "    label = '{}'.format(LGA)\n",
        "    label = folium.Popup(label, parse_html=True)\n",
        "    folium.CircleMarker(\n",
        "        [lat, lng],\n",
        "        radius=6,\n",
        "        popup=label,\n",
        "        color='blue',\n",
        "        fill=True,\n",
        "        fill_color='red',\n",
        "        fill_opacity=0.7,\n",
        "        parse_html=False).add_to(map_lagos_state)  \n",
        "    \n",
        "map_lagos_state"
      ],
      "execution_count": 81,
      "outputs": [
        {
          "output_type": "execute_result",
          "data": {
            "text/html": [
              "<div style=\"width:100%;\"><div style=\"position:relative;width:100%;height:0;padding-bottom:60%;\"><iframe src=\"data:text/html;charset=utf-8;base64,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\" style=\"position:absolute;width:100%;height:100%;left:0;top:0;border:none !important;\" allowfullscreen webkitallowfullscreen mozallowfullscreen></iframe></div></div>"
            ],
            "text/plain": [
              "<folium.folium.Map at 0x7f6f80bf8780>"
            ]
          },
          "metadata": {
            "tags": []
          },
          "execution_count": 81
        }
      ]
    },
    {
      "cell_type": "markdown",
      "metadata": {
        "id": "bkPieyW1Oj7z",
        "colab_type": "text"
      },
      "source": [
        "#### Let's create a method to return a DataFrame of the venues in lagos state in each LGA "
      ]
    },
    {
      "cell_type": "code",
      "metadata": {
        "id": "k4Ymj-JiFnOR",
        "colab_type": "code",
        "colab": {}
      },
      "source": [
        "def getNearbyVenues(names, latitudes, longitudes, radius=10000):\n",
        "    \n",
        "    venues_list=[]\n",
        "    for name, lat, lng in zip(names, latitudes, longitudes):\n",
        "        print(name)\n",
        "            \n",
        "        # create the API request URL\n",
        "        url = 'https://api.foursquare.com/v2/venues/explore?&client_id={}&client_secret={}&v={}&ll={},{}&radius={}&limit={}'.format(\n",
        "            CLIENT_ID, \n",
        "            CLIENT_SECRET, \n",
        "            VERSION, \n",
        "            lat, \n",
        "            lng, \n",
        "            radius, \n",
        "            LIMIT)\n",
        "            \n",
        "        # make the GET request\n",
        "        results = requests.get(url).json()[\"response\"]['groups'][0]['items']\n",
        "        \n",
        "        # return only relevant information for each nearby venue\n",
        "        venues_list.append([(\n",
        "            name, \n",
        "            lat, \n",
        "            lng, \n",
        "            v['venue']['name'], \n",
        "            v['venue']['location']['lat'], \n",
        "            v['venue']['location']['lng'],  \n",
        "            v['venue']['categories'][0]['name']) for v in results])\n",
        "\n",
        "    nearby_venues = pd.DataFrame([item for venue_list in venues_list for item in venue_list])\n",
        "    nearby_venues.columns = ['LGA', \n",
        "                  'LGA_Latitude', \n",
        "                  'LGA_Longitude', \n",
        "                  'Venue', \n",
        "                  'Venue_Latitude', \n",
        "                  'Venue_Longitude', \n",
        "                  'Venue_Category']\n",
        "    \n",
        "    return(nearby_venues)"
      ],
      "execution_count": 0,
      "outputs": []
    },
    {
      "cell_type": "code",
      "metadata": {
        "id": "iyZQZzVjJLDk",
        "colab_type": "code",
        "outputId": "43669104-3d0e-4336-9493-0809789b58cd",
        "colab": {
          "base_uri": "https://localhost:8080/",
          "height": 353
        }
      },
      "source": [
        "lagos_state_venues = getNearbyVenues(names= lagos_df['LGA'],\n",
        "                                     latitudes= lagos_df['latitude'],\n",
        "                                     longitudes= lagos_df['longitude'])"
      ],
      "execution_count": 83,
      "outputs": [
        {
          "output_type": "stream",
          "text": [
            "Alimosho\n",
            "Ajeromi-Ifelodun\n",
            "Kosofe\n",
            "Mushin, Lagos\n",
            "Oshodi-Isolo\n",
            "Ojo\n",
            "Ikorodu\n",
            "Surulere\n",
            "Agege\n",
            "Ifako-Ijaiye\n",
            "Somolu\n",
            "Amuwo-Odofin\n",
            "Lagos Mainland\n",
            "Ikeja\n",
            "Eti-Osa\n",
            "Badagry\n",
            "Apapa\n",
            "Lagos Island\n",
            "Epe\n",
            "Ibeju-Lekki\n"
          ],
          "name": "stdout"
        }
      ]
    },
    {
      "cell_type": "markdown",
      "metadata": {
        "id": "KDLlrZ9QKnwj",
        "colab_type": "text"
      },
      "source": [
        "#### Let's check the size of the resulting dataframe and the first 5 rows."
      ]
    },
    {
      "cell_type": "code",
      "metadata": {
        "id": "m3MqRV9UKrlb",
        "colab_type": "code",
        "outputId": "8cb1f15e-c0b2-42ae-c92b-5bc446f55df9",
        "colab": {
          "base_uri": "https://localhost:8080/",
          "height": 418
        }
      },
      "source": [
        "print(lagos_state_venues.shape)\n",
        "\n",
        "lagos_state_venues"
      ],
      "execution_count": 84,
      "outputs": [
        {
          "output_type": "stream",
          "text": [
            "(1089, 7)\n"
          ],
          "name": "stdout"
        },
        {
          "output_type": "execute_result",
          "data": {
            "text/html": [
              "<div>\n",
              "<style scoped>\n",
              "    .dataframe tbody tr th:only-of-type {\n",
              "        vertical-align: middle;\n",
              "    }\n",
              "\n",
              "    .dataframe tbody tr th {\n",
              "        vertical-align: top;\n",
              "    }\n",
              "\n",
              "    .dataframe thead th {\n",
              "        text-align: right;\n",
              "    }\n",
              "</style>\n",
              "<table border=\"1\" class=\"dataframe\">\n",
              "  <thead>\n",
              "    <tr style=\"text-align: right;\">\n",
              "      <th></th>\n",
              "      <th>LGA</th>\n",
              "      <th>LGA_Latitude</th>\n",
              "      <th>LGA_Longitude</th>\n",
              "      <th>Venue</th>\n",
              "      <th>Venue_Latitude</th>\n",
              "      <th>Venue_Longitude</th>\n",
              "      <th>Venue_Category</th>\n",
              "    </tr>\n",
              "  </thead>\n",
              "  <tbody>\n",
              "    <tr>\n",
              "      <th>0</th>\n",
              "      <td>Alimosho</td>\n",
              "      <td>6.584343</td>\n",
              "      <td>3.257631</td>\n",
              "      <td>SHAWARMA.COME</td>\n",
              "      <td>6.604609</td>\n",
              "      <td>3.277413</td>\n",
              "      <td>Pizza Place</td>\n",
              "    </tr>\n",
              "    <tr>\n",
              "      <th>1</th>\n",
              "      <td>Alimosho</td>\n",
              "      <td>6.584343</td>\n",
              "      <td>3.257631</td>\n",
              "      <td>Tantalisers</td>\n",
              "      <td>6.649299</td>\n",
              "      <td>3.265609</td>\n",
              "      <td>Burger Joint</td>\n",
              "    </tr>\n",
              "    <tr>\n",
              "      <th>2</th>\n",
              "      <td>Alimosho</td>\n",
              "      <td>6.584343</td>\n",
              "      <td>3.257631</td>\n",
              "      <td>Wings Restaurant</td>\n",
              "      <td>6.576023</td>\n",
              "      <td>3.325612</td>\n",
              "      <td>Restaurant</td>\n",
              "    </tr>\n",
              "    <tr>\n",
              "      <th>3</th>\n",
              "      <td>Alimosho</td>\n",
              "      <td>6.584343</td>\n",
              "      <td>3.257631</td>\n",
              "      <td>Ipaja market ipaja</td>\n",
              "      <td>6.602248</td>\n",
              "      <td>3.255585</td>\n",
              "      <td>Market</td>\n",
              "    </tr>\n",
              "    <tr>\n",
              "      <th>4</th>\n",
              "      <td>Alimosho</td>\n",
              "      <td>6.584343</td>\n",
              "      <td>3.257631</td>\n",
              "      <td>De Grange suites &amp; bar</td>\n",
              "      <td>6.602309</td>\n",
              "      <td>3.267038</td>\n",
              "      <td>Bar</td>\n",
              "    </tr>\n",
              "    <tr>\n",
              "      <th>...</th>\n",
              "      <td>...</td>\n",
              "      <td>...</td>\n",
              "      <td>...</td>\n",
              "      <td>...</td>\n",
              "      <td>...</td>\n",
              "      <td>...</td>\n",
              "      <td>...</td>\n",
              "    </tr>\n",
              "    <tr>\n",
              "      <th>1084</th>\n",
              "      <td>Epe</td>\n",
              "      <td>6.524750</td>\n",
              "      <td>4.057246</td>\n",
              "      <td>Jubilee Chalets</td>\n",
              "      <td>6.582906</td>\n",
              "      <td>3.989036</td>\n",
              "      <td>Hotel</td>\n",
              "    </tr>\n",
              "    <tr>\n",
              "      <th>1085</th>\n",
              "      <td>Ibeju-Lekki</td>\n",
              "      <td>6.471125</td>\n",
              "      <td>3.814750</td>\n",
              "      <td>Eleko Beach</td>\n",
              "      <td>6.441165</td>\n",
              "      <td>3.854528</td>\n",
              "      <td>Beach</td>\n",
              "    </tr>\n",
              "    <tr>\n",
              "      <th>1086</th>\n",
              "      <td>Ibeju-Lekki</td>\n",
              "      <td>6.471125</td>\n",
              "      <td>3.814750</td>\n",
              "      <td>lakowe lakes golfcourt</td>\n",
              "      <td>6.459769</td>\n",
              "      <td>3.743862</td>\n",
              "      <td>Golf Course</td>\n",
              "    </tr>\n",
              "    <tr>\n",
              "      <th>1087</th>\n",
              "      <td>Ibeju-Lekki</td>\n",
              "      <td>6.471125</td>\n",
              "      <td>3.814750</td>\n",
              "      <td>Omu Resort</td>\n",
              "      <td>6.489678</td>\n",
              "      <td>3.753977</td>\n",
              "      <td>Resort</td>\n",
              "    </tr>\n",
              "    <tr>\n",
              "      <th>1088</th>\n",
              "      <td>Ibeju-Lekki</td>\n",
              "      <td>6.471125</td>\n",
              "      <td>3.814750</td>\n",
              "      <td>Olive Estate Lekki FTZ</td>\n",
              "      <td>6.472714</td>\n",
              "      <td>3.730803</td>\n",
              "      <td>Arcade</td>\n",
              "    </tr>\n",
              "  </tbody>\n",
              "</table>\n",
              "<p>1089 rows × 7 columns</p>\n",
              "</div>"
            ],
            "text/plain": [
              "              LGA  LGA_Latitude  ...  Venue_Longitude Venue_Category\n",
              "0        Alimosho      6.584343  ...         3.277413    Pizza Place\n",
              "1        Alimosho      6.584343  ...         3.265609   Burger Joint\n",
              "2        Alimosho      6.584343  ...         3.325612     Restaurant\n",
              "3        Alimosho      6.584343  ...         3.255585         Market\n",
              "4        Alimosho      6.584343  ...         3.267038            Bar\n",
              "...           ...           ...  ...              ...            ...\n",
              "1084          Epe      6.524750  ...         3.989036          Hotel\n",
              "1085  Ibeju-Lekki      6.471125  ...         3.854528          Beach\n",
              "1086  Ibeju-Lekki      6.471125  ...         3.743862    Golf Course\n",
              "1087  Ibeju-Lekki      6.471125  ...         3.753977         Resort\n",
              "1088  Ibeju-Lekki      6.471125  ...         3.730803         Arcade\n",
              "\n",
              "[1089 rows x 7 columns]"
            ]
          },
          "metadata": {
            "tags": []
          },
          "execution_count": 84
        }
      ]
    },
    {
      "cell_type": "markdown",
      "metadata": {
        "id": "y6EmxfouL6PK",
        "colab_type": "text"
      },
      "source": [
        "#### Let's check how many venues were returned for each neighborhood"
      ]
    },
    {
      "cell_type": "code",
      "metadata": {
        "id": "BaNCPbxOL5RJ",
        "colab_type": "code",
        "outputId": "7f896e40-64eb-439d-bc1b-f7276d67915f",
        "colab": {
          "base_uri": "https://localhost:8080/",
          "height": 669
        }
      },
      "source": [
        "lagos_state_venues.groupby('LGA').count()"
      ],
      "execution_count": 85,
      "outputs": [
        {
          "output_type": "execute_result",
          "data": {
            "text/html": [
              "<div>\n",
              "<style scoped>\n",
              "    .dataframe tbody tr th:only-of-type {\n",
              "        vertical-align: middle;\n",
              "    }\n",
              "\n",
              "    .dataframe tbody tr th {\n",
              "        vertical-align: top;\n",
              "    }\n",
              "\n",
              "    .dataframe thead th {\n",
              "        text-align: right;\n",
              "    }\n",
              "</style>\n",
              "<table border=\"1\" class=\"dataframe\">\n",
              "  <thead>\n",
              "    <tr style=\"text-align: right;\">\n",
              "      <th></th>\n",
              "      <th>LGA_Latitude</th>\n",
              "      <th>LGA_Longitude</th>\n",
              "      <th>Venue</th>\n",
              "      <th>Venue_Latitude</th>\n",
              "      <th>Venue_Longitude</th>\n",
              "      <th>Venue_Category</th>\n",
              "    </tr>\n",
              "    <tr>\n",
              "      <th>LGA</th>\n",
              "      <th></th>\n",
              "      <th></th>\n",
              "      <th></th>\n",
              "      <th></th>\n",
              "      <th></th>\n",
              "      <th></th>\n",
              "    </tr>\n",
              "  </thead>\n",
              "  <tbody>\n",
              "    <tr>\n",
              "      <th>Agege</th>\n",
              "      <td>91</td>\n",
              "      <td>91</td>\n",
              "      <td>91</td>\n",
              "      <td>91</td>\n",
              "      <td>91</td>\n",
              "      <td>91</td>\n",
              "    </tr>\n",
              "    <tr>\n",
              "      <th>Ajeromi-Ifelodun</th>\n",
              "      <td>59</td>\n",
              "      <td>59</td>\n",
              "      <td>59</td>\n",
              "      <td>59</td>\n",
              "      <td>59</td>\n",
              "      <td>59</td>\n",
              "    </tr>\n",
              "    <tr>\n",
              "      <th>Alimosho</th>\n",
              "      <td>39</td>\n",
              "      <td>39</td>\n",
              "      <td>39</td>\n",
              "      <td>39</td>\n",
              "      <td>39</td>\n",
              "      <td>39</td>\n",
              "    </tr>\n",
              "    <tr>\n",
              "      <th>Amuwo-Odofin</th>\n",
              "      <td>20</td>\n",
              "      <td>20</td>\n",
              "      <td>20</td>\n",
              "      <td>20</td>\n",
              "      <td>20</td>\n",
              "      <td>20</td>\n",
              "    </tr>\n",
              "    <tr>\n",
              "      <th>Apapa</th>\n",
              "      <td>100</td>\n",
              "      <td>100</td>\n",
              "      <td>100</td>\n",
              "      <td>100</td>\n",
              "      <td>100</td>\n",
              "      <td>100</td>\n",
              "    </tr>\n",
              "    <tr>\n",
              "      <th>Badagry</th>\n",
              "      <td>5</td>\n",
              "      <td>5</td>\n",
              "      <td>5</td>\n",
              "      <td>5</td>\n",
              "      <td>5</td>\n",
              "      <td>5</td>\n",
              "    </tr>\n",
              "    <tr>\n",
              "      <th>Epe</th>\n",
              "      <td>2</td>\n",
              "      <td>2</td>\n",
              "      <td>2</td>\n",
              "      <td>2</td>\n",
              "      <td>2</td>\n",
              "      <td>2</td>\n",
              "    </tr>\n",
              "    <tr>\n",
              "      <th>Eti-Osa</th>\n",
              "      <td>54</td>\n",
              "      <td>54</td>\n",
              "      <td>54</td>\n",
              "      <td>54</td>\n",
              "      <td>54</td>\n",
              "      <td>54</td>\n",
              "    </tr>\n",
              "    <tr>\n",
              "      <th>Ibeju-Lekki</th>\n",
              "      <td>4</td>\n",
              "      <td>4</td>\n",
              "      <td>4</td>\n",
              "      <td>4</td>\n",
              "      <td>4</td>\n",
              "      <td>4</td>\n",
              "    </tr>\n",
              "    <tr>\n",
              "      <th>Ifako-Ijaiye</th>\n",
              "      <td>62</td>\n",
              "      <td>62</td>\n",
              "      <td>62</td>\n",
              "      <td>62</td>\n",
              "      <td>62</td>\n",
              "      <td>62</td>\n",
              "    </tr>\n",
              "    <tr>\n",
              "      <th>Ikeja</th>\n",
              "      <td>91</td>\n",
              "      <td>91</td>\n",
              "      <td>91</td>\n",
              "      <td>91</td>\n",
              "      <td>91</td>\n",
              "      <td>91</td>\n",
              "    </tr>\n",
              "    <tr>\n",
              "      <th>Ikorodu</th>\n",
              "      <td>10</td>\n",
              "      <td>10</td>\n",
              "      <td>10</td>\n",
              "      <td>10</td>\n",
              "      <td>10</td>\n",
              "      <td>10</td>\n",
              "    </tr>\n",
              "    <tr>\n",
              "      <th>Kosofe</th>\n",
              "      <td>79</td>\n",
              "      <td>79</td>\n",
              "      <td>79</td>\n",
              "      <td>79</td>\n",
              "      <td>79</td>\n",
              "      <td>79</td>\n",
              "    </tr>\n",
              "    <tr>\n",
              "      <th>Lagos Island</th>\n",
              "      <td>63</td>\n",
              "      <td>63</td>\n",
              "      <td>63</td>\n",
              "      <td>63</td>\n",
              "      <td>63</td>\n",
              "      <td>63</td>\n",
              "    </tr>\n",
              "    <tr>\n",
              "      <th>Lagos Mainland</th>\n",
              "      <td>100</td>\n",
              "      <td>100</td>\n",
              "      <td>100</td>\n",
              "      <td>100</td>\n",
              "      <td>100</td>\n",
              "      <td>100</td>\n",
              "    </tr>\n",
              "    <tr>\n",
              "      <th>Mushin, Lagos</th>\n",
              "      <td>100</td>\n",
              "      <td>100</td>\n",
              "      <td>100</td>\n",
              "      <td>100</td>\n",
              "      <td>100</td>\n",
              "      <td>100</td>\n",
              "    </tr>\n",
              "    <tr>\n",
              "      <th>Ojo</th>\n",
              "      <td>4</td>\n",
              "      <td>4</td>\n",
              "      <td>4</td>\n",
              "      <td>4</td>\n",
              "      <td>4</td>\n",
              "      <td>4</td>\n",
              "    </tr>\n",
              "    <tr>\n",
              "      <th>Oshodi-Isolo</th>\n",
              "      <td>100</td>\n",
              "      <td>100</td>\n",
              "      <td>100</td>\n",
              "      <td>100</td>\n",
              "      <td>100</td>\n",
              "      <td>100</td>\n",
              "    </tr>\n",
              "    <tr>\n",
              "      <th>Somolu</th>\n",
              "      <td>18</td>\n",
              "      <td>18</td>\n",
              "      <td>18</td>\n",
              "      <td>18</td>\n",
              "      <td>18</td>\n",
              "      <td>18</td>\n",
              "    </tr>\n",
              "    <tr>\n",
              "      <th>Surulere</th>\n",
              "      <td>88</td>\n",
              "      <td>88</td>\n",
              "      <td>88</td>\n",
              "      <td>88</td>\n",
              "      <td>88</td>\n",
              "      <td>88</td>\n",
              "    </tr>\n",
              "  </tbody>\n",
              "</table>\n",
              "</div>"
            ],
            "text/plain": [
              "                  LGA_Latitude  LGA_Longitude  ...  Venue_Longitude  Venue_Category\n",
              "LGA                                            ...                                 \n",
              "Agege                       91             91  ...               91              91\n",
              "Ajeromi-Ifelodun            59             59  ...               59              59\n",
              "Alimosho                    39             39  ...               39              39\n",
              "Amuwo-Odofin                20             20  ...               20              20\n",
              "Apapa                      100            100  ...              100             100\n",
              "Badagry                      5              5  ...                5               5\n",
              "Epe                          2              2  ...                2               2\n",
              "Eti-Osa                     54             54  ...               54              54\n",
              "Ibeju-Lekki                  4              4  ...                4               4\n",
              "Ifako-Ijaiye                62             62  ...               62              62\n",
              "Ikeja                       91             91  ...               91              91\n",
              "Ikorodu                     10             10  ...               10              10\n",
              "Kosofe                      79             79  ...               79              79\n",
              "Lagos Island                63             63  ...               63              63\n",
              "Lagos Mainland             100            100  ...              100             100\n",
              "Mushin, Lagos              100            100  ...              100             100\n",
              "Ojo                          4              4  ...                4               4\n",
              "Oshodi-Isolo               100            100  ...              100             100\n",
              "Somolu                      18             18  ...               18              18\n",
              "Surulere                    88             88  ...               88              88\n",
              "\n",
              "[20 rows x 6 columns]"
            ]
          },
          "metadata": {
            "tags": []
          },
          "execution_count": 85
        }
      ]
    },
    {
      "cell_type": "markdown",
      "metadata": {
        "id": "3O2Xpxy3Ms75",
        "colab_type": "text"
      },
      "source": [
        "#### Let's find out how many unique categories can be curated from all the returned venues"
      ]
    },
    {
      "cell_type": "code",
      "metadata": {
        "id": "0bF9jnZiMxhI",
        "colab_type": "code",
        "outputId": "c32a9be4-3022-46db-a1bd-aeb23f766fd8",
        "colab": {
          "base_uri": "https://localhost:8080/",
          "height": 34
        }
      },
      "source": [
        "print('There are {} unique categories of venues returned for Lagos State.'.format(lagos_state_venues['Venue_Category'].nunique()))"
      ],
      "execution_count": 86,
      "outputs": [
        {
          "output_type": "stream",
          "text": [
            "There are 105 unique categories of venues returned for Lagos State.\n"
          ],
          "name": "stdout"
        }
      ]
    },
    {
      "cell_type": "markdown",
      "metadata": {
        "id": "yWeeKedVN8x3",
        "colab_type": "text"
      },
      "source": [
        "#### Let's return the top 10 most frequent venues for each LGA"
      ]
    },
    {
      "cell_type": "markdown",
      "metadata": {
        "id": "WTGlNWTfQ-r8",
        "colab_type": "text"
      },
      "source": [
        "First let's onehot encode the DataFrame"
      ]
    },
    {
      "cell_type": "code",
      "metadata": {
        "id": "lGqxvGdSP3Lh",
        "colab_type": "code",
        "outputId": "db6d86a2-1dbc-43dc-94e1-a63eae0cd686",
        "colab": {
          "base_uri": "https://localhost:8080/",
          "height": 294
        }
      },
      "source": [
        "# one hot encoding\n",
        "lagos_onehot = pd.get_dummies(lagos_state_venues[['Venue_Category']], prefix=\"\", prefix_sep=\"\")\n",
        "\n",
        "# add LGA column back to dataframe\n",
        "lagos_onehot['LGA'] = lagos_state_venues['LGA'] \n",
        "\n",
        "# move LGA column to the first column\n",
        "fixed_columns = [lagos_onehot.columns[-1]] + list(lagos_onehot.columns[:-1])\n",
        "lagos_onehot = lagos_onehot[fixed_columns]\n",
        "\n",
        "lagos_onehot.head()"
      ],
      "execution_count": 87,
      "outputs": [
        {
          "output_type": "execute_result",
          "data": {
            "text/html": [
              "<div>\n",
              "<style scoped>\n",
              "    .dataframe tbody tr th:only-of-type {\n",
              "        vertical-align: middle;\n",
              "    }\n",
              "\n",
              "    .dataframe tbody tr th {\n",
              "        vertical-align: top;\n",
              "    }\n",
              "\n",
              "    .dataframe thead th {\n",
              "        text-align: right;\n",
              "    }\n",
              "</style>\n",
              "<table border=\"1\" class=\"dataframe\">\n",
              "  <thead>\n",
              "    <tr style=\"text-align: right;\">\n",
              "      <th></th>\n",
              "      <th>LGA</th>\n",
              "      <th>African Restaurant</th>\n",
              "      <th>Airport</th>\n",
              "      <th>Airport Food Court</th>\n",
              "      <th>Airport Lounge</th>\n",
              "      <th>Airport Service</th>\n",
              "      <th>Airport Terminal</th>\n",
              "      <th>American Restaurant</th>\n",
              "      <th>Arcade</th>\n",
              "      <th>Art Gallery</th>\n",
              "      <th>Asian Restaurant</th>\n",
              "      <th>Athletics &amp; Sports</th>\n",
              "      <th>Auto Garage</th>\n",
              "      <th>BBQ Joint</th>\n",
              "      <th>Bagel Shop</th>\n",
              "      <th>Bakery</th>\n",
              "      <th>Bar</th>\n",
              "      <th>Baseball Stadium</th>\n",
              "      <th>Beach</th>\n",
              "      <th>Beer Garden</th>\n",
              "      <th>Bike Rental / Bike Share</th>\n",
              "      <th>Bistro</th>\n",
              "      <th>Boutique</th>\n",
              "      <th>Brazilian Restaurant</th>\n",
              "      <th>Breakfast Spot</th>\n",
              "      <th>Burger Joint</th>\n",
              "      <th>Bus Station</th>\n",
              "      <th>Café</th>\n",
              "      <th>Campground</th>\n",
              "      <th>Chinese Restaurant</th>\n",
              "      <th>Clothing Store</th>\n",
              "      <th>Cocktail Bar</th>\n",
              "      <th>Coffee Shop</th>\n",
              "      <th>Comedy Club</th>\n",
              "      <th>Comfort Food Restaurant</th>\n",
              "      <th>Convenience Store</th>\n",
              "      <th>Convention Center</th>\n",
              "      <th>Cupcake Shop</th>\n",
              "      <th>Department Store</th>\n",
              "      <th>Dessert Shop</th>\n",
              "      <th>...</th>\n",
              "      <th>Market</th>\n",
              "      <th>Mediterranean Restaurant</th>\n",
              "      <th>Men's Store</th>\n",
              "      <th>Mexican Restaurant</th>\n",
              "      <th>Mobile Phone Shop</th>\n",
              "      <th>Modern European Restaurant</th>\n",
              "      <th>Movie Theater</th>\n",
              "      <th>Multiplex</th>\n",
              "      <th>Museum</th>\n",
              "      <th>Music Venue</th>\n",
              "      <th>Neighborhood</th>\n",
              "      <th>Nightclub</th>\n",
              "      <th>Other Great Outdoors</th>\n",
              "      <th>Park</th>\n",
              "      <th>Performing Arts Venue</th>\n",
              "      <th>Photography Studio</th>\n",
              "      <th>Pier</th>\n",
              "      <th>Pizza Place</th>\n",
              "      <th>Playground</th>\n",
              "      <th>Plaza</th>\n",
              "      <th>Pool</th>\n",
              "      <th>Pool Hall</th>\n",
              "      <th>Pub</th>\n",
              "      <th>Resort</th>\n",
              "      <th>Restaurant</th>\n",
              "      <th>Seafood Restaurant</th>\n",
              "      <th>Shopping Mall</th>\n",
              "      <th>Snack Place</th>\n",
              "      <th>Soccer Field</th>\n",
              "      <th>Soup Place</th>\n",
              "      <th>Spa</th>\n",
              "      <th>Sports Bar</th>\n",
              "      <th>Stables</th>\n",
              "      <th>Steakhouse</th>\n",
              "      <th>Supermarket</th>\n",
              "      <th>Surf Spot</th>\n",
              "      <th>Sushi Restaurant</th>\n",
              "      <th>Theater</th>\n",
              "      <th>Theme Restaurant</th>\n",
              "      <th>Wine Shop</th>\n",
              "    </tr>\n",
              "  </thead>\n",
              "  <tbody>\n",
              "    <tr>\n",
              "      <th>0</th>\n",
              "      <td>Alimosho</td>\n",
              "      <td>0</td>\n",
              "      <td>0</td>\n",
              "      <td>0</td>\n",
              "      <td>0</td>\n",
              "      <td>0</td>\n",
              "      <td>0</td>\n",
              "      <td>0</td>\n",
              "      <td>0</td>\n",
              "      <td>0</td>\n",
              "      <td>0</td>\n",
              "      <td>0</td>\n",
              "      <td>0</td>\n",
              "      <td>0</td>\n",
              "      <td>0</td>\n",
              "      <td>0</td>\n",
              "      <td>0</td>\n",
              "      <td>0</td>\n",
              "      <td>0</td>\n",
              "      <td>0</td>\n",
              "      <td>0</td>\n",
              "      <td>0</td>\n",
              "      <td>0</td>\n",
              "      <td>0</td>\n",
              "      <td>0</td>\n",
              "      <td>0</td>\n",
              "      <td>0</td>\n",
              "      <td>0</td>\n",
              "      <td>0</td>\n",
              "      <td>0</td>\n",
              "      <td>0</td>\n",
              "      <td>0</td>\n",
              "      <td>0</td>\n",
              "      <td>0</td>\n",
              "      <td>0</td>\n",
              "      <td>0</td>\n",
              "      <td>0</td>\n",
              "      <td>0</td>\n",
              "      <td>0</td>\n",
              "      <td>0</td>\n",
              "      <td>...</td>\n",
              "      <td>0</td>\n",
              "      <td>0</td>\n",
              "      <td>0</td>\n",
              "      <td>0</td>\n",
              "      <td>0</td>\n",
              "      <td>0</td>\n",
              "      <td>0</td>\n",
              "      <td>0</td>\n",
              "      <td>0</td>\n",
              "      <td>0</td>\n",
              "      <td>0</td>\n",
              "      <td>0</td>\n",
              "      <td>0</td>\n",
              "      <td>0</td>\n",
              "      <td>0</td>\n",
              "      <td>0</td>\n",
              "      <td>0</td>\n",
              "      <td>1</td>\n",
              "      <td>0</td>\n",
              "      <td>0</td>\n",
              "      <td>0</td>\n",
              "      <td>0</td>\n",
              "      <td>0</td>\n",
              "      <td>0</td>\n",
              "      <td>0</td>\n",
              "      <td>0</td>\n",
              "      <td>0</td>\n",
              "      <td>0</td>\n",
              "      <td>0</td>\n",
              "      <td>0</td>\n",
              "      <td>0</td>\n",
              "      <td>0</td>\n",
              "      <td>0</td>\n",
              "      <td>0</td>\n",
              "      <td>0</td>\n",
              "      <td>0</td>\n",
              "      <td>0</td>\n",
              "      <td>0</td>\n",
              "      <td>0</td>\n",
              "      <td>0</td>\n",
              "    </tr>\n",
              "    <tr>\n",
              "      <th>1</th>\n",
              "      <td>Alimosho</td>\n",
              "      <td>0</td>\n",
              "      <td>0</td>\n",
              "      <td>0</td>\n",
              "      <td>0</td>\n",
              "      <td>0</td>\n",
              "      <td>0</td>\n",
              "      <td>0</td>\n",
              "      <td>0</td>\n",
              "      <td>0</td>\n",
              "      <td>0</td>\n",
              "      <td>0</td>\n",
              "      <td>0</td>\n",
              "      <td>0</td>\n",
              "      <td>0</td>\n",
              "      <td>0</td>\n",
              "      <td>0</td>\n",
              "      <td>0</td>\n",
              "      <td>0</td>\n",
              "      <td>0</td>\n",
              "      <td>0</td>\n",
              "      <td>0</td>\n",
              "      <td>0</td>\n",
              "      <td>0</td>\n",
              "      <td>0</td>\n",
              "      <td>1</td>\n",
              "      <td>0</td>\n",
              "      <td>0</td>\n",
              "      <td>0</td>\n",
              "      <td>0</td>\n",
              "      <td>0</td>\n",
              "      <td>0</td>\n",
              "      <td>0</td>\n",
              "      <td>0</td>\n",
              "      <td>0</td>\n",
              "      <td>0</td>\n",
              "      <td>0</td>\n",
              "      <td>0</td>\n",
              "      <td>0</td>\n",
              "      <td>0</td>\n",
              "      <td>...</td>\n",
              "      <td>0</td>\n",
              "      <td>0</td>\n",
              "      <td>0</td>\n",
              "      <td>0</td>\n",
              "      <td>0</td>\n",
              "      <td>0</td>\n",
              "      <td>0</td>\n",
              "      <td>0</td>\n",
              "      <td>0</td>\n",
              "      <td>0</td>\n",
              "      <td>0</td>\n",
              "      <td>0</td>\n",
              "      <td>0</td>\n",
              "      <td>0</td>\n",
              "      <td>0</td>\n",
              "      <td>0</td>\n",
              "      <td>0</td>\n",
              "      <td>0</td>\n",
              "      <td>0</td>\n",
              "      <td>0</td>\n",
              "      <td>0</td>\n",
              "      <td>0</td>\n",
              "      <td>0</td>\n",
              "      <td>0</td>\n",
              "      <td>0</td>\n",
              "      <td>0</td>\n",
              "      <td>0</td>\n",
              "      <td>0</td>\n",
              "      <td>0</td>\n",
              "      <td>0</td>\n",
              "      <td>0</td>\n",
              "      <td>0</td>\n",
              "      <td>0</td>\n",
              "      <td>0</td>\n",
              "      <td>0</td>\n",
              "      <td>0</td>\n",
              "      <td>0</td>\n",
              "      <td>0</td>\n",
              "      <td>0</td>\n",
              "      <td>0</td>\n",
              "    </tr>\n",
              "    <tr>\n",
              "      <th>2</th>\n",
              "      <td>Alimosho</td>\n",
              "      <td>0</td>\n",
              "      <td>0</td>\n",
              "      <td>0</td>\n",
              "      <td>0</td>\n",
              "      <td>0</td>\n",
              "      <td>0</td>\n",
              "      <td>0</td>\n",
              "      <td>0</td>\n",
              "      <td>0</td>\n",
              "      <td>0</td>\n",
              "      <td>0</td>\n",
              "      <td>0</td>\n",
              "      <td>0</td>\n",
              "      <td>0</td>\n",
              "      <td>0</td>\n",
              "      <td>0</td>\n",
              "      <td>0</td>\n",
              "      <td>0</td>\n",
              "      <td>0</td>\n",
              "      <td>0</td>\n",
              "      <td>0</td>\n",
              "      <td>0</td>\n",
              "      <td>0</td>\n",
              "      <td>0</td>\n",
              "      <td>0</td>\n",
              "      <td>0</td>\n",
              "      <td>0</td>\n",
              "      <td>0</td>\n",
              "      <td>0</td>\n",
              "      <td>0</td>\n",
              "      <td>0</td>\n",
              "      <td>0</td>\n",
              "      <td>0</td>\n",
              "      <td>0</td>\n",
              "      <td>0</td>\n",
              "      <td>0</td>\n",
              "      <td>0</td>\n",
              "      <td>0</td>\n",
              "      <td>0</td>\n",
              "      <td>...</td>\n",
              "      <td>0</td>\n",
              "      <td>0</td>\n",
              "      <td>0</td>\n",
              "      <td>0</td>\n",
              "      <td>0</td>\n",
              "      <td>0</td>\n",
              "      <td>0</td>\n",
              "      <td>0</td>\n",
              "      <td>0</td>\n",
              "      <td>0</td>\n",
              "      <td>0</td>\n",
              "      <td>0</td>\n",
              "      <td>0</td>\n",
              "      <td>0</td>\n",
              "      <td>0</td>\n",
              "      <td>0</td>\n",
              "      <td>0</td>\n",
              "      <td>0</td>\n",
              "      <td>0</td>\n",
              "      <td>0</td>\n",
              "      <td>0</td>\n",
              "      <td>0</td>\n",
              "      <td>0</td>\n",
              "      <td>0</td>\n",
              "      <td>1</td>\n",
              "      <td>0</td>\n",
              "      <td>0</td>\n",
              "      <td>0</td>\n",
              "      <td>0</td>\n",
              "      <td>0</td>\n",
              "      <td>0</td>\n",
              "      <td>0</td>\n",
              "      <td>0</td>\n",
              "      <td>0</td>\n",
              "      <td>0</td>\n",
              "      <td>0</td>\n",
              "      <td>0</td>\n",
              "      <td>0</td>\n",
              "      <td>0</td>\n",
              "      <td>0</td>\n",
              "    </tr>\n",
              "    <tr>\n",
              "      <th>3</th>\n",
              "      <td>Alimosho</td>\n",
              "      <td>0</td>\n",
              "      <td>0</td>\n",
              "      <td>0</td>\n",
              "      <td>0</td>\n",
              "      <td>0</td>\n",
              "      <td>0</td>\n",
              "      <td>0</td>\n",
              "      <td>0</td>\n",
              "      <td>0</td>\n",
              "      <td>0</td>\n",
              "      <td>0</td>\n",
              "      <td>0</td>\n",
              "      <td>0</td>\n",
              "      <td>0</td>\n",
              "      <td>0</td>\n",
              "      <td>0</td>\n",
              "      <td>0</td>\n",
              "      <td>0</td>\n",
              "      <td>0</td>\n",
              "      <td>0</td>\n",
              "      <td>0</td>\n",
              "      <td>0</td>\n",
              "      <td>0</td>\n",
              "      <td>0</td>\n",
              "      <td>0</td>\n",
              "      <td>0</td>\n",
              "      <td>0</td>\n",
              "      <td>0</td>\n",
              "      <td>0</td>\n",
              "      <td>0</td>\n",
              "      <td>0</td>\n",
              "      <td>0</td>\n",
              "      <td>0</td>\n",
              "      <td>0</td>\n",
              "      <td>0</td>\n",
              "      <td>0</td>\n",
              "      <td>0</td>\n",
              "      <td>0</td>\n",
              "      <td>0</td>\n",
              "      <td>...</td>\n",
              "      <td>1</td>\n",
              "      <td>0</td>\n",
              "      <td>0</td>\n",
              "      <td>0</td>\n",
              "      <td>0</td>\n",
              "      <td>0</td>\n",
              "      <td>0</td>\n",
              "      <td>0</td>\n",
              "      <td>0</td>\n",
              "      <td>0</td>\n",
              "      <td>0</td>\n",
              "      <td>0</td>\n",
              "      <td>0</td>\n",
              "      <td>0</td>\n",
              "      <td>0</td>\n",
              "      <td>0</td>\n",
              "      <td>0</td>\n",
              "      <td>0</td>\n",
              "      <td>0</td>\n",
              "      <td>0</td>\n",
              "      <td>0</td>\n",
              "      <td>0</td>\n",
              "      <td>0</td>\n",
              "      <td>0</td>\n",
              "      <td>0</td>\n",
              "      <td>0</td>\n",
              "      <td>0</td>\n",
              "      <td>0</td>\n",
              "      <td>0</td>\n",
              "      <td>0</td>\n",
              "      <td>0</td>\n",
              "      <td>0</td>\n",
              "      <td>0</td>\n",
              "      <td>0</td>\n",
              "      <td>0</td>\n",
              "      <td>0</td>\n",
              "      <td>0</td>\n",
              "      <td>0</td>\n",
              "      <td>0</td>\n",
              "      <td>0</td>\n",
              "    </tr>\n",
              "    <tr>\n",
              "      <th>4</th>\n",
              "      <td>Alimosho</td>\n",
              "      <td>0</td>\n",
              "      <td>0</td>\n",
              "      <td>0</td>\n",
              "      <td>0</td>\n",
              "      <td>0</td>\n",
              "      <td>0</td>\n",
              "      <td>0</td>\n",
              "      <td>0</td>\n",
              "      <td>0</td>\n",
              "      <td>0</td>\n",
              "      <td>0</td>\n",
              "      <td>0</td>\n",
              "      <td>0</td>\n",
              "      <td>0</td>\n",
              "      <td>0</td>\n",
              "      <td>1</td>\n",
              "      <td>0</td>\n",
              "      <td>0</td>\n",
              "      <td>0</td>\n",
              "      <td>0</td>\n",
              "      <td>0</td>\n",
              "      <td>0</td>\n",
              "      <td>0</td>\n",
              "      <td>0</td>\n",
              "      <td>0</td>\n",
              "      <td>0</td>\n",
              "      <td>0</td>\n",
              "      <td>0</td>\n",
              "      <td>0</td>\n",
              "      <td>0</td>\n",
              "      <td>0</td>\n",
              "      <td>0</td>\n",
              "      <td>0</td>\n",
              "      <td>0</td>\n",
              "      <td>0</td>\n",
              "      <td>0</td>\n",
              "      <td>0</td>\n",
              "      <td>0</td>\n",
              "      <td>0</td>\n",
              "      <td>...</td>\n",
              "      <td>0</td>\n",
              "      <td>0</td>\n",
              "      <td>0</td>\n",
              "      <td>0</td>\n",
              "      <td>0</td>\n",
              "      <td>0</td>\n",
              "      <td>0</td>\n",
              "      <td>0</td>\n",
              "      <td>0</td>\n",
              "      <td>0</td>\n",
              "      <td>0</td>\n",
              "      <td>0</td>\n",
              "      <td>0</td>\n",
              "      <td>0</td>\n",
              "      <td>0</td>\n",
              "      <td>0</td>\n",
              "      <td>0</td>\n",
              "      <td>0</td>\n",
              "      <td>0</td>\n",
              "      <td>0</td>\n",
              "      <td>0</td>\n",
              "      <td>0</td>\n",
              "      <td>0</td>\n",
              "      <td>0</td>\n",
              "      <td>0</td>\n",
              "      <td>0</td>\n",
              "      <td>0</td>\n",
              "      <td>0</td>\n",
              "      <td>0</td>\n",
              "      <td>0</td>\n",
              "      <td>0</td>\n",
              "      <td>0</td>\n",
              "      <td>0</td>\n",
              "      <td>0</td>\n",
              "      <td>0</td>\n",
              "      <td>0</td>\n",
              "      <td>0</td>\n",
              "      <td>0</td>\n",
              "      <td>0</td>\n",
              "      <td>0</td>\n",
              "    </tr>\n",
              "  </tbody>\n",
              "</table>\n",
              "<p>5 rows × 106 columns</p>\n",
              "</div>"
            ],
            "text/plain": [
              "        LGA  African Restaurant  Airport  ...  Theater  Theme Restaurant  Wine Shop\n",
              "0  Alimosho                   0        0  ...        0                 0          0\n",
              "1  Alimosho                   0        0  ...        0                 0          0\n",
              "2  Alimosho                   0        0  ...        0                 0          0\n",
              "3  Alimosho                   0        0  ...        0                 0          0\n",
              "4  Alimosho                   0        0  ...        0                 0          0\n",
              "\n",
              "[5 rows x 106 columns]"
            ]
          },
          "metadata": {
            "tags": []
          },
          "execution_count": 87
        }
      ]
    },
    {
      "cell_type": "markdown",
      "metadata": {
        "id": "KbpLHsyERJMm",
        "colab_type": "text"
      },
      "source": [
        "And let's examine the new dataframe size."
      ]
    },
    {
      "cell_type": "code",
      "metadata": {
        "id": "4iPXiaQZRM7z",
        "colab_type": "code",
        "outputId": "2bdc1df1-59b8-40c9-dabc-b46298c9040c",
        "colab": {
          "base_uri": "https://localhost:8080/",
          "height": 34
        }
      },
      "source": [
        "lagos_onehot.shape"
      ],
      "execution_count": 88,
      "outputs": [
        {
          "output_type": "execute_result",
          "data": {
            "text/plain": [
              "(1089, 106)"
            ]
          },
          "metadata": {
            "tags": []
          },
          "execution_count": 88
        }
      ]
    },
    {
      "cell_type": "markdown",
      "metadata": {
        "id": "MSXPAJlxR1y7",
        "colab_type": "text"
      },
      "source": [
        "Next, let's group rows by LGA and by taking the mean of the frequency of occurrence of each category"
      ]
    },
    {
      "cell_type": "code",
      "metadata": {
        "id": "aT_OjMZqR5Zi",
        "colab_type": "code",
        "outputId": "4c563d96-6b8a-442c-b47e-6110e1c7496c",
        "colab": {
          "base_uri": "https://localhost:8080/",
          "height": 873
        }
      },
      "source": [
        "lagos_grouped = lagos_onehot.groupby('LGA').mean().reset_index()\n",
        "\n",
        "lagos_grouped"
      ],
      "execution_count": 89,
      "outputs": [
        {
          "output_type": "execute_result",
          "data": {
            "text/html": [
              "<div>\n",
              "<style scoped>\n",
              "    .dataframe tbody tr th:only-of-type {\n",
              "        vertical-align: middle;\n",
              "    }\n",
              "\n",
              "    .dataframe tbody tr th {\n",
              "        vertical-align: top;\n",
              "    }\n",
              "\n",
              "    .dataframe thead th {\n",
              "        text-align: right;\n",
              "    }\n",
              "</style>\n",
              "<table border=\"1\" class=\"dataframe\">\n",
              "  <thead>\n",
              "    <tr style=\"text-align: right;\">\n",
              "      <th></th>\n",
              "      <th>LGA</th>\n",
              "      <th>African Restaurant</th>\n",
              "      <th>Airport</th>\n",
              "      <th>Airport Food Court</th>\n",
              "      <th>Airport Lounge</th>\n",
              "      <th>Airport Service</th>\n",
              "      <th>Airport Terminal</th>\n",
              "      <th>American Restaurant</th>\n",
              "      <th>Arcade</th>\n",
              "      <th>Art Gallery</th>\n",
              "      <th>Asian Restaurant</th>\n",
              "      <th>Athletics &amp; Sports</th>\n",
              "      <th>Auto Garage</th>\n",
              "      <th>BBQ Joint</th>\n",
              "      <th>Bagel Shop</th>\n",
              "      <th>Bakery</th>\n",
              "      <th>Bar</th>\n",
              "      <th>Baseball Stadium</th>\n",
              "      <th>Beach</th>\n",
              "      <th>Beer Garden</th>\n",
              "      <th>Bike Rental / Bike Share</th>\n",
              "      <th>Bistro</th>\n",
              "      <th>Boutique</th>\n",
              "      <th>Brazilian Restaurant</th>\n",
              "      <th>Breakfast Spot</th>\n",
              "      <th>Burger Joint</th>\n",
              "      <th>Bus Station</th>\n",
              "      <th>Café</th>\n",
              "      <th>Campground</th>\n",
              "      <th>Chinese Restaurant</th>\n",
              "      <th>Clothing Store</th>\n",
              "      <th>Cocktail Bar</th>\n",
              "      <th>Coffee Shop</th>\n",
              "      <th>Comedy Club</th>\n",
              "      <th>Comfort Food Restaurant</th>\n",
              "      <th>Convenience Store</th>\n",
              "      <th>Convention Center</th>\n",
              "      <th>Cupcake Shop</th>\n",
              "      <th>Department Store</th>\n",
              "      <th>Dessert Shop</th>\n",
              "      <th>...</th>\n",
              "      <th>Market</th>\n",
              "      <th>Mediterranean Restaurant</th>\n",
              "      <th>Men's Store</th>\n",
              "      <th>Mexican Restaurant</th>\n",
              "      <th>Mobile Phone Shop</th>\n",
              "      <th>Modern European Restaurant</th>\n",
              "      <th>Movie Theater</th>\n",
              "      <th>Multiplex</th>\n",
              "      <th>Museum</th>\n",
              "      <th>Music Venue</th>\n",
              "      <th>Neighborhood</th>\n",
              "      <th>Nightclub</th>\n",
              "      <th>Other Great Outdoors</th>\n",
              "      <th>Park</th>\n",
              "      <th>Performing Arts Venue</th>\n",
              "      <th>Photography Studio</th>\n",
              "      <th>Pier</th>\n",
              "      <th>Pizza Place</th>\n",
              "      <th>Playground</th>\n",
              "      <th>Plaza</th>\n",
              "      <th>Pool</th>\n",
              "      <th>Pool Hall</th>\n",
              "      <th>Pub</th>\n",
              "      <th>Resort</th>\n",
              "      <th>Restaurant</th>\n",
              "      <th>Seafood Restaurant</th>\n",
              "      <th>Shopping Mall</th>\n",
              "      <th>Snack Place</th>\n",
              "      <th>Soccer Field</th>\n",
              "      <th>Soup Place</th>\n",
              "      <th>Spa</th>\n",
              "      <th>Sports Bar</th>\n",
              "      <th>Stables</th>\n",
              "      <th>Steakhouse</th>\n",
              "      <th>Supermarket</th>\n",
              "      <th>Surf Spot</th>\n",
              "      <th>Sushi Restaurant</th>\n",
              "      <th>Theater</th>\n",
              "      <th>Theme Restaurant</th>\n",
              "      <th>Wine Shop</th>\n",
              "    </tr>\n",
              "  </thead>\n",
              "  <tbody>\n",
              "    <tr>\n",
              "      <th>0</th>\n",
              "      <td>Agege</td>\n",
              "      <td>0.032967</td>\n",
              "      <td>0.021978</td>\n",
              "      <td>0.010989</td>\n",
              "      <td>0.010989</td>\n",
              "      <td>0.010989</td>\n",
              "      <td>0.000000</td>\n",
              "      <td>0.010989</td>\n",
              "      <td>0.000000</td>\n",
              "      <td>0.000000</td>\n",
              "      <td>0.000000</td>\n",
              "      <td>0.010989</td>\n",
              "      <td>0.00</td>\n",
              "      <td>0.032967</td>\n",
              "      <td>0.000000</td>\n",
              "      <td>0.010989</td>\n",
              "      <td>0.032967</td>\n",
              "      <td>0.00</td>\n",
              "      <td>0.000000</td>\n",
              "      <td>0.010989</td>\n",
              "      <td>0.00</td>\n",
              "      <td>0.000000</td>\n",
              "      <td>0.010989</td>\n",
              "      <td>0.00</td>\n",
              "      <td>0.000000</td>\n",
              "      <td>0.032967</td>\n",
              "      <td>0.010989</td>\n",
              "      <td>0.010989</td>\n",
              "      <td>0.010989</td>\n",
              "      <td>0.032967</td>\n",
              "      <td>0.010989</td>\n",
              "      <td>0.000000</td>\n",
              "      <td>0.010989</td>\n",
              "      <td>0.000000</td>\n",
              "      <td>0.000000</td>\n",
              "      <td>0.043956</td>\n",
              "      <td>0.000000</td>\n",
              "      <td>0.000000</td>\n",
              "      <td>0.010989</td>\n",
              "      <td>0.00</td>\n",
              "      <td>...</td>\n",
              "      <td>0.010989</td>\n",
              "      <td>0.000000</td>\n",
              "      <td>0.000000</td>\n",
              "      <td>0.00</td>\n",
              "      <td>0.00</td>\n",
              "      <td>0.000000</td>\n",
              "      <td>0.000000</td>\n",
              "      <td>0.010989</td>\n",
              "      <td>0.0</td>\n",
              "      <td>0.000000</td>\n",
              "      <td>0.000000</td>\n",
              "      <td>0.021978</td>\n",
              "      <td>0.0</td>\n",
              "      <td>0.021978</td>\n",
              "      <td>0.010989</td>\n",
              "      <td>0.000000</td>\n",
              "      <td>0.000000</td>\n",
              "      <td>0.054945</td>\n",
              "      <td>0.000000</td>\n",
              "      <td>0.00</td>\n",
              "      <td>0.021978</td>\n",
              "      <td>0.000000</td>\n",
              "      <td>0.000000</td>\n",
              "      <td>0.00</td>\n",
              "      <td>0.043956</td>\n",
              "      <td>0.000000</td>\n",
              "      <td>0.109890</td>\n",
              "      <td>0.000000</td>\n",
              "      <td>0.000000</td>\n",
              "      <td>0.010989</td>\n",
              "      <td>0.010989</td>\n",
              "      <td>0.000000</td>\n",
              "      <td>0.000000</td>\n",
              "      <td>0.021978</td>\n",
              "      <td>0.000000</td>\n",
              "      <td>0.000000</td>\n",
              "      <td>0.000000</td>\n",
              "      <td>0.000000</td>\n",
              "      <td>0.00</td>\n",
              "      <td>0.000000</td>\n",
              "    </tr>\n",
              "    <tr>\n",
              "      <th>1</th>\n",
              "      <td>Ajeromi-Ifelodun</td>\n",
              "      <td>0.084746</td>\n",
              "      <td>0.000000</td>\n",
              "      <td>0.000000</td>\n",
              "      <td>0.000000</td>\n",
              "      <td>0.000000</td>\n",
              "      <td>0.000000</td>\n",
              "      <td>0.000000</td>\n",
              "      <td>0.000000</td>\n",
              "      <td>0.033898</td>\n",
              "      <td>0.033898</td>\n",
              "      <td>0.000000</td>\n",
              "      <td>0.00</td>\n",
              "      <td>0.000000</td>\n",
              "      <td>0.016949</td>\n",
              "      <td>0.000000</td>\n",
              "      <td>0.016949</td>\n",
              "      <td>0.00</td>\n",
              "      <td>0.016949</td>\n",
              "      <td>0.000000</td>\n",
              "      <td>0.00</td>\n",
              "      <td>0.000000</td>\n",
              "      <td>0.000000</td>\n",
              "      <td>0.00</td>\n",
              "      <td>0.016949</td>\n",
              "      <td>0.000000</td>\n",
              "      <td>0.000000</td>\n",
              "      <td>0.000000</td>\n",
              "      <td>0.000000</td>\n",
              "      <td>0.033898</td>\n",
              "      <td>0.000000</td>\n",
              "      <td>0.016949</td>\n",
              "      <td>0.000000</td>\n",
              "      <td>0.000000</td>\n",
              "      <td>0.000000</td>\n",
              "      <td>0.000000</td>\n",
              "      <td>0.016949</td>\n",
              "      <td>0.016949</td>\n",
              "      <td>0.016949</td>\n",
              "      <td>0.00</td>\n",
              "      <td>...</td>\n",
              "      <td>0.016949</td>\n",
              "      <td>0.016949</td>\n",
              "      <td>0.000000</td>\n",
              "      <td>0.00</td>\n",
              "      <td>0.00</td>\n",
              "      <td>0.016949</td>\n",
              "      <td>0.033898</td>\n",
              "      <td>0.016949</td>\n",
              "      <td>0.0</td>\n",
              "      <td>0.016949</td>\n",
              "      <td>0.000000</td>\n",
              "      <td>0.033898</td>\n",
              "      <td>0.0</td>\n",
              "      <td>0.033898</td>\n",
              "      <td>0.000000</td>\n",
              "      <td>0.016949</td>\n",
              "      <td>0.000000</td>\n",
              "      <td>0.033898</td>\n",
              "      <td>0.000000</td>\n",
              "      <td>0.00</td>\n",
              "      <td>0.016949</td>\n",
              "      <td>0.000000</td>\n",
              "      <td>0.016949</td>\n",
              "      <td>0.00</td>\n",
              "      <td>0.016949</td>\n",
              "      <td>0.000000</td>\n",
              "      <td>0.033898</td>\n",
              "      <td>0.000000</td>\n",
              "      <td>0.016949</td>\n",
              "      <td>0.000000</td>\n",
              "      <td>0.000000</td>\n",
              "      <td>0.000000</td>\n",
              "      <td>0.016949</td>\n",
              "      <td>0.000000</td>\n",
              "      <td>0.016949</td>\n",
              "      <td>0.000000</td>\n",
              "      <td>0.000000</td>\n",
              "      <td>0.000000</td>\n",
              "      <td>0.00</td>\n",
              "      <td>0.000000</td>\n",
              "    </tr>\n",
              "    <tr>\n",
              "      <th>2</th>\n",
              "      <td>Alimosho</td>\n",
              "      <td>0.000000</td>\n",
              "      <td>0.025641</td>\n",
              "      <td>0.025641</td>\n",
              "      <td>0.025641</td>\n",
              "      <td>0.025641</td>\n",
              "      <td>0.000000</td>\n",
              "      <td>0.025641</td>\n",
              "      <td>0.000000</td>\n",
              "      <td>0.000000</td>\n",
              "      <td>0.000000</td>\n",
              "      <td>0.025641</td>\n",
              "      <td>0.00</td>\n",
              "      <td>0.000000</td>\n",
              "      <td>0.000000</td>\n",
              "      <td>0.000000</td>\n",
              "      <td>0.025641</td>\n",
              "      <td>0.00</td>\n",
              "      <td>0.000000</td>\n",
              "      <td>0.000000</td>\n",
              "      <td>0.00</td>\n",
              "      <td>0.000000</td>\n",
              "      <td>0.025641</td>\n",
              "      <td>0.00</td>\n",
              "      <td>0.000000</td>\n",
              "      <td>0.051282</td>\n",
              "      <td>0.000000</td>\n",
              "      <td>0.000000</td>\n",
              "      <td>0.025641</td>\n",
              "      <td>0.000000</td>\n",
              "      <td>0.000000</td>\n",
              "      <td>0.000000</td>\n",
              "      <td>0.000000</td>\n",
              "      <td>0.000000</td>\n",
              "      <td>0.000000</td>\n",
              "      <td>0.025641</td>\n",
              "      <td>0.000000</td>\n",
              "      <td>0.000000</td>\n",
              "      <td>0.025641</td>\n",
              "      <td>0.00</td>\n",
              "      <td>...</td>\n",
              "      <td>0.025641</td>\n",
              "      <td>0.000000</td>\n",
              "      <td>0.000000</td>\n",
              "      <td>0.00</td>\n",
              "      <td>0.00</td>\n",
              "      <td>0.000000</td>\n",
              "      <td>0.000000</td>\n",
              "      <td>0.000000</td>\n",
              "      <td>0.0</td>\n",
              "      <td>0.000000</td>\n",
              "      <td>0.000000</td>\n",
              "      <td>0.000000</td>\n",
              "      <td>0.0</td>\n",
              "      <td>0.051282</td>\n",
              "      <td>0.000000</td>\n",
              "      <td>0.000000</td>\n",
              "      <td>0.000000</td>\n",
              "      <td>0.076923</td>\n",
              "      <td>0.000000</td>\n",
              "      <td>0.00</td>\n",
              "      <td>0.000000</td>\n",
              "      <td>0.000000</td>\n",
              "      <td>0.000000</td>\n",
              "      <td>0.00</td>\n",
              "      <td>0.076923</td>\n",
              "      <td>0.000000</td>\n",
              "      <td>0.051282</td>\n",
              "      <td>0.000000</td>\n",
              "      <td>0.000000</td>\n",
              "      <td>0.025641</td>\n",
              "      <td>0.000000</td>\n",
              "      <td>0.000000</td>\n",
              "      <td>0.000000</td>\n",
              "      <td>0.000000</td>\n",
              "      <td>0.000000</td>\n",
              "      <td>0.000000</td>\n",
              "      <td>0.000000</td>\n",
              "      <td>0.000000</td>\n",
              "      <td>0.00</td>\n",
              "      <td>0.025641</td>\n",
              "    </tr>\n",
              "    <tr>\n",
              "      <th>3</th>\n",
              "      <td>Amuwo-Odofin</td>\n",
              "      <td>0.050000</td>\n",
              "      <td>0.000000</td>\n",
              "      <td>0.000000</td>\n",
              "      <td>0.000000</td>\n",
              "      <td>0.000000</td>\n",
              "      <td>0.000000</td>\n",
              "      <td>0.000000</td>\n",
              "      <td>0.000000</td>\n",
              "      <td>0.000000</td>\n",
              "      <td>0.000000</td>\n",
              "      <td>0.000000</td>\n",
              "      <td>0.00</td>\n",
              "      <td>0.000000</td>\n",
              "      <td>0.000000</td>\n",
              "      <td>0.050000</td>\n",
              "      <td>0.000000</td>\n",
              "      <td>0.00</td>\n",
              "      <td>0.050000</td>\n",
              "      <td>0.000000</td>\n",
              "      <td>0.05</td>\n",
              "      <td>0.000000</td>\n",
              "      <td>0.000000</td>\n",
              "      <td>0.00</td>\n",
              "      <td>0.000000</td>\n",
              "      <td>0.000000</td>\n",
              "      <td>0.050000</td>\n",
              "      <td>0.000000</td>\n",
              "      <td>0.000000</td>\n",
              "      <td>0.050000</td>\n",
              "      <td>0.000000</td>\n",
              "      <td>0.000000</td>\n",
              "      <td>0.000000</td>\n",
              "      <td>0.000000</td>\n",
              "      <td>0.000000</td>\n",
              "      <td>0.000000</td>\n",
              "      <td>0.000000</td>\n",
              "      <td>0.000000</td>\n",
              "      <td>0.000000</td>\n",
              "      <td>0.00</td>\n",
              "      <td>...</td>\n",
              "      <td>0.000000</td>\n",
              "      <td>0.000000</td>\n",
              "      <td>0.000000</td>\n",
              "      <td>0.00</td>\n",
              "      <td>0.05</td>\n",
              "      <td>0.000000</td>\n",
              "      <td>0.000000</td>\n",
              "      <td>0.000000</td>\n",
              "      <td>0.0</td>\n",
              "      <td>0.000000</td>\n",
              "      <td>0.000000</td>\n",
              "      <td>0.000000</td>\n",
              "      <td>0.0</td>\n",
              "      <td>0.100000</td>\n",
              "      <td>0.000000</td>\n",
              "      <td>0.000000</td>\n",
              "      <td>0.000000</td>\n",
              "      <td>0.000000</td>\n",
              "      <td>0.000000</td>\n",
              "      <td>0.00</td>\n",
              "      <td>0.050000</td>\n",
              "      <td>0.000000</td>\n",
              "      <td>0.000000</td>\n",
              "      <td>0.05</td>\n",
              "      <td>0.000000</td>\n",
              "      <td>0.000000</td>\n",
              "      <td>0.050000</td>\n",
              "      <td>0.000000</td>\n",
              "      <td>0.000000</td>\n",
              "      <td>0.000000</td>\n",
              "      <td>0.000000</td>\n",
              "      <td>0.000000</td>\n",
              "      <td>0.000000</td>\n",
              "      <td>0.000000</td>\n",
              "      <td>0.000000</td>\n",
              "      <td>0.000000</td>\n",
              "      <td>0.000000</td>\n",
              "      <td>0.000000</td>\n",
              "      <td>0.00</td>\n",
              "      <td>0.000000</td>\n",
              "    </tr>\n",
              "    <tr>\n",
              "      <th>4</th>\n",
              "      <td>Apapa</td>\n",
              "      <td>0.090000</td>\n",
              "      <td>0.000000</td>\n",
              "      <td>0.000000</td>\n",
              "      <td>0.000000</td>\n",
              "      <td>0.000000</td>\n",
              "      <td>0.000000</td>\n",
              "      <td>0.010000</td>\n",
              "      <td>0.000000</td>\n",
              "      <td>0.030000</td>\n",
              "      <td>0.010000</td>\n",
              "      <td>0.010000</td>\n",
              "      <td>0.00</td>\n",
              "      <td>0.000000</td>\n",
              "      <td>0.010000</td>\n",
              "      <td>0.000000</td>\n",
              "      <td>0.010000</td>\n",
              "      <td>0.01</td>\n",
              "      <td>0.000000</td>\n",
              "      <td>0.000000</td>\n",
              "      <td>0.00</td>\n",
              "      <td>0.000000</td>\n",
              "      <td>0.000000</td>\n",
              "      <td>0.01</td>\n",
              "      <td>0.010000</td>\n",
              "      <td>0.010000</td>\n",
              "      <td>0.000000</td>\n",
              "      <td>0.020000</td>\n",
              "      <td>0.000000</td>\n",
              "      <td>0.020000</td>\n",
              "      <td>0.000000</td>\n",
              "      <td>0.010000</td>\n",
              "      <td>0.000000</td>\n",
              "      <td>0.000000</td>\n",
              "      <td>0.000000</td>\n",
              "      <td>0.000000</td>\n",
              "      <td>0.010000</td>\n",
              "      <td>0.010000</td>\n",
              "      <td>0.020000</td>\n",
              "      <td>0.01</td>\n",
              "      <td>...</td>\n",
              "      <td>0.010000</td>\n",
              "      <td>0.010000</td>\n",
              "      <td>0.000000</td>\n",
              "      <td>0.02</td>\n",
              "      <td>0.00</td>\n",
              "      <td>0.010000</td>\n",
              "      <td>0.020000</td>\n",
              "      <td>0.010000</td>\n",
              "      <td>0.0</td>\n",
              "      <td>0.010000</td>\n",
              "      <td>0.010000</td>\n",
              "      <td>0.030000</td>\n",
              "      <td>0.0</td>\n",
              "      <td>0.020000</td>\n",
              "      <td>0.000000</td>\n",
              "      <td>0.010000</td>\n",
              "      <td>0.000000</td>\n",
              "      <td>0.030000</td>\n",
              "      <td>0.010000</td>\n",
              "      <td>0.01</td>\n",
              "      <td>0.010000</td>\n",
              "      <td>0.000000</td>\n",
              "      <td>0.020000</td>\n",
              "      <td>0.01</td>\n",
              "      <td>0.040000</td>\n",
              "      <td>0.010000</td>\n",
              "      <td>0.020000</td>\n",
              "      <td>0.000000</td>\n",
              "      <td>0.010000</td>\n",
              "      <td>0.000000</td>\n",
              "      <td>0.000000</td>\n",
              "      <td>0.010000</td>\n",
              "      <td>0.000000</td>\n",
              "      <td>0.000000</td>\n",
              "      <td>0.000000</td>\n",
              "      <td>0.000000</td>\n",
              "      <td>0.000000</td>\n",
              "      <td>0.010000</td>\n",
              "      <td>0.01</td>\n",
              "      <td>0.000000</td>\n",
              "    </tr>\n",
              "    <tr>\n",
              "      <th>5</th>\n",
              "      <td>Badagry</td>\n",
              "      <td>0.000000</td>\n",
              "      <td>0.000000</td>\n",
              "      <td>0.000000</td>\n",
              "      <td>0.000000</td>\n",
              "      <td>0.000000</td>\n",
              "      <td>0.000000</td>\n",
              "      <td>0.000000</td>\n",
              "      <td>0.000000</td>\n",
              "      <td>0.000000</td>\n",
              "      <td>0.000000</td>\n",
              "      <td>0.000000</td>\n",
              "      <td>0.00</td>\n",
              "      <td>0.000000</td>\n",
              "      <td>0.000000</td>\n",
              "      <td>0.000000</td>\n",
              "      <td>0.000000</td>\n",
              "      <td>0.00</td>\n",
              "      <td>0.000000</td>\n",
              "      <td>0.200000</td>\n",
              "      <td>0.00</td>\n",
              "      <td>0.000000</td>\n",
              "      <td>0.000000</td>\n",
              "      <td>0.00</td>\n",
              "      <td>0.000000</td>\n",
              "      <td>0.000000</td>\n",
              "      <td>0.000000</td>\n",
              "      <td>0.000000</td>\n",
              "      <td>0.000000</td>\n",
              "      <td>0.000000</td>\n",
              "      <td>0.000000</td>\n",
              "      <td>0.000000</td>\n",
              "      <td>0.000000</td>\n",
              "      <td>0.000000</td>\n",
              "      <td>0.000000</td>\n",
              "      <td>0.000000</td>\n",
              "      <td>0.000000</td>\n",
              "      <td>0.000000</td>\n",
              "      <td>0.000000</td>\n",
              "      <td>0.00</td>\n",
              "      <td>...</td>\n",
              "      <td>0.000000</td>\n",
              "      <td>0.000000</td>\n",
              "      <td>0.000000</td>\n",
              "      <td>0.00</td>\n",
              "      <td>0.00</td>\n",
              "      <td>0.000000</td>\n",
              "      <td>0.000000</td>\n",
              "      <td>0.000000</td>\n",
              "      <td>0.2</td>\n",
              "      <td>0.000000</td>\n",
              "      <td>0.000000</td>\n",
              "      <td>0.000000</td>\n",
              "      <td>0.0</td>\n",
              "      <td>0.000000</td>\n",
              "      <td>0.000000</td>\n",
              "      <td>0.000000</td>\n",
              "      <td>0.000000</td>\n",
              "      <td>0.000000</td>\n",
              "      <td>0.000000</td>\n",
              "      <td>0.00</td>\n",
              "      <td>0.000000</td>\n",
              "      <td>0.000000</td>\n",
              "      <td>0.000000</td>\n",
              "      <td>0.00</td>\n",
              "      <td>0.000000</td>\n",
              "      <td>0.000000</td>\n",
              "      <td>0.000000</td>\n",
              "      <td>0.000000</td>\n",
              "      <td>0.000000</td>\n",
              "      <td>0.000000</td>\n",
              "      <td>0.000000</td>\n",
              "      <td>0.000000</td>\n",
              "      <td>0.000000</td>\n",
              "      <td>0.000000</td>\n",
              "      <td>0.000000</td>\n",
              "      <td>0.000000</td>\n",
              "      <td>0.000000</td>\n",
              "      <td>0.000000</td>\n",
              "      <td>0.00</td>\n",
              "      <td>0.000000</td>\n",
              "    </tr>\n",
              "    <tr>\n",
              "      <th>6</th>\n",
              "      <td>Epe</td>\n",
              "      <td>0.000000</td>\n",
              "      <td>0.000000</td>\n",
              "      <td>0.000000</td>\n",
              "      <td>0.000000</td>\n",
              "      <td>0.000000</td>\n",
              "      <td>0.000000</td>\n",
              "      <td>0.000000</td>\n",
              "      <td>0.000000</td>\n",
              "      <td>0.000000</td>\n",
              "      <td>0.000000</td>\n",
              "      <td>0.000000</td>\n",
              "      <td>0.00</td>\n",
              "      <td>0.000000</td>\n",
              "      <td>0.000000</td>\n",
              "      <td>0.000000</td>\n",
              "      <td>0.000000</td>\n",
              "      <td>0.00</td>\n",
              "      <td>0.000000</td>\n",
              "      <td>0.000000</td>\n",
              "      <td>0.00</td>\n",
              "      <td>0.000000</td>\n",
              "      <td>0.000000</td>\n",
              "      <td>0.00</td>\n",
              "      <td>0.000000</td>\n",
              "      <td>0.000000</td>\n",
              "      <td>0.000000</td>\n",
              "      <td>0.000000</td>\n",
              "      <td>0.000000</td>\n",
              "      <td>0.000000</td>\n",
              "      <td>0.000000</td>\n",
              "      <td>0.000000</td>\n",
              "      <td>0.000000</td>\n",
              "      <td>0.000000</td>\n",
              "      <td>0.000000</td>\n",
              "      <td>0.000000</td>\n",
              "      <td>0.000000</td>\n",
              "      <td>0.000000</td>\n",
              "      <td>0.000000</td>\n",
              "      <td>0.00</td>\n",
              "      <td>...</td>\n",
              "      <td>0.000000</td>\n",
              "      <td>0.000000</td>\n",
              "      <td>0.000000</td>\n",
              "      <td>0.00</td>\n",
              "      <td>0.00</td>\n",
              "      <td>0.000000</td>\n",
              "      <td>0.000000</td>\n",
              "      <td>0.000000</td>\n",
              "      <td>0.0</td>\n",
              "      <td>0.000000</td>\n",
              "      <td>0.000000</td>\n",
              "      <td>0.000000</td>\n",
              "      <td>0.5</td>\n",
              "      <td>0.000000</td>\n",
              "      <td>0.000000</td>\n",
              "      <td>0.000000</td>\n",
              "      <td>0.000000</td>\n",
              "      <td>0.000000</td>\n",
              "      <td>0.000000</td>\n",
              "      <td>0.00</td>\n",
              "      <td>0.000000</td>\n",
              "      <td>0.000000</td>\n",
              "      <td>0.000000</td>\n",
              "      <td>0.00</td>\n",
              "      <td>0.000000</td>\n",
              "      <td>0.000000</td>\n",
              "      <td>0.000000</td>\n",
              "      <td>0.000000</td>\n",
              "      <td>0.000000</td>\n",
              "      <td>0.000000</td>\n",
              "      <td>0.000000</td>\n",
              "      <td>0.000000</td>\n",
              "      <td>0.000000</td>\n",
              "      <td>0.000000</td>\n",
              "      <td>0.000000</td>\n",
              "      <td>0.000000</td>\n",
              "      <td>0.000000</td>\n",
              "      <td>0.000000</td>\n",
              "      <td>0.00</td>\n",
              "      <td>0.000000</td>\n",
              "    </tr>\n",
              "    <tr>\n",
              "      <th>7</th>\n",
              "      <td>Eti-Osa</td>\n",
              "      <td>0.018519</td>\n",
              "      <td>0.000000</td>\n",
              "      <td>0.000000</td>\n",
              "      <td>0.000000</td>\n",
              "      <td>0.000000</td>\n",
              "      <td>0.000000</td>\n",
              "      <td>0.000000</td>\n",
              "      <td>0.000000</td>\n",
              "      <td>0.018519</td>\n",
              "      <td>0.018519</td>\n",
              "      <td>0.000000</td>\n",
              "      <td>0.00</td>\n",
              "      <td>0.000000</td>\n",
              "      <td>0.000000</td>\n",
              "      <td>0.000000</td>\n",
              "      <td>0.055556</td>\n",
              "      <td>0.00</td>\n",
              "      <td>0.055556</td>\n",
              "      <td>0.000000</td>\n",
              "      <td>0.00</td>\n",
              "      <td>0.000000</td>\n",
              "      <td>0.000000</td>\n",
              "      <td>0.00</td>\n",
              "      <td>0.000000</td>\n",
              "      <td>0.018519</td>\n",
              "      <td>0.000000</td>\n",
              "      <td>0.000000</td>\n",
              "      <td>0.000000</td>\n",
              "      <td>0.000000</td>\n",
              "      <td>0.018519</td>\n",
              "      <td>0.000000</td>\n",
              "      <td>0.000000</td>\n",
              "      <td>0.000000</td>\n",
              "      <td>0.018519</td>\n",
              "      <td>0.037037</td>\n",
              "      <td>0.000000</td>\n",
              "      <td>0.000000</td>\n",
              "      <td>0.037037</td>\n",
              "      <td>0.00</td>\n",
              "      <td>...</td>\n",
              "      <td>0.000000</td>\n",
              "      <td>0.000000</td>\n",
              "      <td>0.000000</td>\n",
              "      <td>0.00</td>\n",
              "      <td>0.00</td>\n",
              "      <td>0.000000</td>\n",
              "      <td>0.018519</td>\n",
              "      <td>0.018519</td>\n",
              "      <td>0.0</td>\n",
              "      <td>0.000000</td>\n",
              "      <td>0.018519</td>\n",
              "      <td>0.000000</td>\n",
              "      <td>0.0</td>\n",
              "      <td>0.018519</td>\n",
              "      <td>0.000000</td>\n",
              "      <td>0.000000</td>\n",
              "      <td>0.000000</td>\n",
              "      <td>0.037037</td>\n",
              "      <td>0.018519</td>\n",
              "      <td>0.00</td>\n",
              "      <td>0.000000</td>\n",
              "      <td>0.000000</td>\n",
              "      <td>0.000000</td>\n",
              "      <td>0.00</td>\n",
              "      <td>0.037037</td>\n",
              "      <td>0.000000</td>\n",
              "      <td>0.037037</td>\n",
              "      <td>0.000000</td>\n",
              "      <td>0.000000</td>\n",
              "      <td>0.000000</td>\n",
              "      <td>0.000000</td>\n",
              "      <td>0.000000</td>\n",
              "      <td>0.000000</td>\n",
              "      <td>0.000000</td>\n",
              "      <td>0.018519</td>\n",
              "      <td>0.018519</td>\n",
              "      <td>0.018519</td>\n",
              "      <td>0.000000</td>\n",
              "      <td>0.00</td>\n",
              "      <td>0.000000</td>\n",
              "    </tr>\n",
              "    <tr>\n",
              "      <th>8</th>\n",
              "      <td>Ibeju-Lekki</td>\n",
              "      <td>0.000000</td>\n",
              "      <td>0.000000</td>\n",
              "      <td>0.000000</td>\n",
              "      <td>0.000000</td>\n",
              "      <td>0.000000</td>\n",
              "      <td>0.000000</td>\n",
              "      <td>0.000000</td>\n",
              "      <td>0.250000</td>\n",
              "      <td>0.000000</td>\n",
              "      <td>0.000000</td>\n",
              "      <td>0.000000</td>\n",
              "      <td>0.00</td>\n",
              "      <td>0.000000</td>\n",
              "      <td>0.000000</td>\n",
              "      <td>0.000000</td>\n",
              "      <td>0.000000</td>\n",
              "      <td>0.00</td>\n",
              "      <td>0.250000</td>\n",
              "      <td>0.000000</td>\n",
              "      <td>0.00</td>\n",
              "      <td>0.000000</td>\n",
              "      <td>0.000000</td>\n",
              "      <td>0.00</td>\n",
              "      <td>0.000000</td>\n",
              "      <td>0.000000</td>\n",
              "      <td>0.000000</td>\n",
              "      <td>0.000000</td>\n",
              "      <td>0.000000</td>\n",
              "      <td>0.000000</td>\n",
              "      <td>0.000000</td>\n",
              "      <td>0.000000</td>\n",
              "      <td>0.000000</td>\n",
              "      <td>0.000000</td>\n",
              "      <td>0.000000</td>\n",
              "      <td>0.000000</td>\n",
              "      <td>0.000000</td>\n",
              "      <td>0.000000</td>\n",
              "      <td>0.000000</td>\n",
              "      <td>0.00</td>\n",
              "      <td>...</td>\n",
              "      <td>0.000000</td>\n",
              "      <td>0.000000</td>\n",
              "      <td>0.000000</td>\n",
              "      <td>0.00</td>\n",
              "      <td>0.00</td>\n",
              "      <td>0.000000</td>\n",
              "      <td>0.000000</td>\n",
              "      <td>0.000000</td>\n",
              "      <td>0.0</td>\n",
              "      <td>0.000000</td>\n",
              "      <td>0.000000</td>\n",
              "      <td>0.000000</td>\n",
              "      <td>0.0</td>\n",
              "      <td>0.000000</td>\n",
              "      <td>0.000000</td>\n",
              "      <td>0.000000</td>\n",
              "      <td>0.000000</td>\n",
              "      <td>0.000000</td>\n",
              "      <td>0.000000</td>\n",
              "      <td>0.00</td>\n",
              "      <td>0.000000</td>\n",
              "      <td>0.000000</td>\n",
              "      <td>0.000000</td>\n",
              "      <td>0.25</td>\n",
              "      <td>0.000000</td>\n",
              "      <td>0.000000</td>\n",
              "      <td>0.000000</td>\n",
              "      <td>0.000000</td>\n",
              "      <td>0.000000</td>\n",
              "      <td>0.000000</td>\n",
              "      <td>0.000000</td>\n",
              "      <td>0.000000</td>\n",
              "      <td>0.000000</td>\n",
              "      <td>0.000000</td>\n",
              "      <td>0.000000</td>\n",
              "      <td>0.000000</td>\n",
              "      <td>0.000000</td>\n",
              "      <td>0.000000</td>\n",
              "      <td>0.00</td>\n",
              "      <td>0.000000</td>\n",
              "    </tr>\n",
              "    <tr>\n",
              "      <th>9</th>\n",
              "      <td>Ifako-Ijaiye</td>\n",
              "      <td>0.000000</td>\n",
              "      <td>0.000000</td>\n",
              "      <td>0.000000</td>\n",
              "      <td>0.000000</td>\n",
              "      <td>0.000000</td>\n",
              "      <td>0.000000</td>\n",
              "      <td>0.016129</td>\n",
              "      <td>0.000000</td>\n",
              "      <td>0.000000</td>\n",
              "      <td>0.000000</td>\n",
              "      <td>0.016129</td>\n",
              "      <td>0.00</td>\n",
              "      <td>0.032258</td>\n",
              "      <td>0.000000</td>\n",
              "      <td>0.000000</td>\n",
              "      <td>0.032258</td>\n",
              "      <td>0.00</td>\n",
              "      <td>0.000000</td>\n",
              "      <td>0.016129</td>\n",
              "      <td>0.00</td>\n",
              "      <td>0.000000</td>\n",
              "      <td>0.016129</td>\n",
              "      <td>0.00</td>\n",
              "      <td>0.000000</td>\n",
              "      <td>0.032258</td>\n",
              "      <td>0.032258</td>\n",
              "      <td>0.016129</td>\n",
              "      <td>0.016129</td>\n",
              "      <td>0.032258</td>\n",
              "      <td>0.016129</td>\n",
              "      <td>0.000000</td>\n",
              "      <td>0.016129</td>\n",
              "      <td>0.016129</td>\n",
              "      <td>0.000000</td>\n",
              "      <td>0.032258</td>\n",
              "      <td>0.000000</td>\n",
              "      <td>0.000000</td>\n",
              "      <td>0.000000</td>\n",
              "      <td>0.00</td>\n",
              "      <td>...</td>\n",
              "      <td>0.016129</td>\n",
              "      <td>0.000000</td>\n",
              "      <td>0.000000</td>\n",
              "      <td>0.00</td>\n",
              "      <td>0.00</td>\n",
              "      <td>0.000000</td>\n",
              "      <td>0.000000</td>\n",
              "      <td>0.016129</td>\n",
              "      <td>0.0</td>\n",
              "      <td>0.016129</td>\n",
              "      <td>0.000000</td>\n",
              "      <td>0.000000</td>\n",
              "      <td>0.0</td>\n",
              "      <td>0.032258</td>\n",
              "      <td>0.032258</td>\n",
              "      <td>0.000000</td>\n",
              "      <td>0.000000</td>\n",
              "      <td>0.048387</td>\n",
              "      <td>0.000000</td>\n",
              "      <td>0.00</td>\n",
              "      <td>0.016129</td>\n",
              "      <td>0.000000</td>\n",
              "      <td>0.000000</td>\n",
              "      <td>0.00</td>\n",
              "      <td>0.032258</td>\n",
              "      <td>0.016129</td>\n",
              "      <td>0.080645</td>\n",
              "      <td>0.000000</td>\n",
              "      <td>0.000000</td>\n",
              "      <td>0.016129</td>\n",
              "      <td>0.000000</td>\n",
              "      <td>0.000000</td>\n",
              "      <td>0.000000</td>\n",
              "      <td>0.016129</td>\n",
              "      <td>0.000000</td>\n",
              "      <td>0.000000</td>\n",
              "      <td>0.000000</td>\n",
              "      <td>0.016129</td>\n",
              "      <td>0.00</td>\n",
              "      <td>0.000000</td>\n",
              "    </tr>\n",
              "    <tr>\n",
              "      <th>10</th>\n",
              "      <td>Ikeja</td>\n",
              "      <td>0.032967</td>\n",
              "      <td>0.021978</td>\n",
              "      <td>0.010989</td>\n",
              "      <td>0.010989</td>\n",
              "      <td>0.010989</td>\n",
              "      <td>0.000000</td>\n",
              "      <td>0.010989</td>\n",
              "      <td>0.000000</td>\n",
              "      <td>0.000000</td>\n",
              "      <td>0.000000</td>\n",
              "      <td>0.010989</td>\n",
              "      <td>0.00</td>\n",
              "      <td>0.032967</td>\n",
              "      <td>0.000000</td>\n",
              "      <td>0.010989</td>\n",
              "      <td>0.043956</td>\n",
              "      <td>0.00</td>\n",
              "      <td>0.000000</td>\n",
              "      <td>0.010989</td>\n",
              "      <td>0.00</td>\n",
              "      <td>0.000000</td>\n",
              "      <td>0.010989</td>\n",
              "      <td>0.00</td>\n",
              "      <td>0.000000</td>\n",
              "      <td>0.021978</td>\n",
              "      <td>0.000000</td>\n",
              "      <td>0.010989</td>\n",
              "      <td>0.010989</td>\n",
              "      <td>0.032967</td>\n",
              "      <td>0.010989</td>\n",
              "      <td>0.000000</td>\n",
              "      <td>0.010989</td>\n",
              "      <td>0.000000</td>\n",
              "      <td>0.000000</td>\n",
              "      <td>0.043956</td>\n",
              "      <td>0.000000</td>\n",
              "      <td>0.000000</td>\n",
              "      <td>0.032967</td>\n",
              "      <td>0.00</td>\n",
              "      <td>...</td>\n",
              "      <td>0.000000</td>\n",
              "      <td>0.000000</td>\n",
              "      <td>0.000000</td>\n",
              "      <td>0.00</td>\n",
              "      <td>0.00</td>\n",
              "      <td>0.000000</td>\n",
              "      <td>0.000000</td>\n",
              "      <td>0.010989</td>\n",
              "      <td>0.0</td>\n",
              "      <td>0.000000</td>\n",
              "      <td>0.000000</td>\n",
              "      <td>0.021978</td>\n",
              "      <td>0.0</td>\n",
              "      <td>0.010989</td>\n",
              "      <td>0.010989</td>\n",
              "      <td>0.000000</td>\n",
              "      <td>0.000000</td>\n",
              "      <td>0.065934</td>\n",
              "      <td>0.000000</td>\n",
              "      <td>0.00</td>\n",
              "      <td>0.021978</td>\n",
              "      <td>0.000000</td>\n",
              "      <td>0.000000</td>\n",
              "      <td>0.00</td>\n",
              "      <td>0.043956</td>\n",
              "      <td>0.000000</td>\n",
              "      <td>0.054945</td>\n",
              "      <td>0.000000</td>\n",
              "      <td>0.000000</td>\n",
              "      <td>0.010989</td>\n",
              "      <td>0.010989</td>\n",
              "      <td>0.000000</td>\n",
              "      <td>0.000000</td>\n",
              "      <td>0.021978</td>\n",
              "      <td>0.000000</td>\n",
              "      <td>0.000000</td>\n",
              "      <td>0.000000</td>\n",
              "      <td>0.000000</td>\n",
              "      <td>0.00</td>\n",
              "      <td>0.010989</td>\n",
              "    </tr>\n",
              "    <tr>\n",
              "      <th>11</th>\n",
              "      <td>Ikorodu</td>\n",
              "      <td>0.100000</td>\n",
              "      <td>0.000000</td>\n",
              "      <td>0.000000</td>\n",
              "      <td>0.000000</td>\n",
              "      <td>0.000000</td>\n",
              "      <td>0.000000</td>\n",
              "      <td>0.000000</td>\n",
              "      <td>0.000000</td>\n",
              "      <td>0.000000</td>\n",
              "      <td>0.000000</td>\n",
              "      <td>0.000000</td>\n",
              "      <td>0.00</td>\n",
              "      <td>0.000000</td>\n",
              "      <td>0.000000</td>\n",
              "      <td>0.000000</td>\n",
              "      <td>0.100000</td>\n",
              "      <td>0.00</td>\n",
              "      <td>0.100000</td>\n",
              "      <td>0.000000</td>\n",
              "      <td>0.00</td>\n",
              "      <td>0.000000</td>\n",
              "      <td>0.000000</td>\n",
              "      <td>0.00</td>\n",
              "      <td>0.000000</td>\n",
              "      <td>0.000000</td>\n",
              "      <td>0.100000</td>\n",
              "      <td>0.100000</td>\n",
              "      <td>0.000000</td>\n",
              "      <td>0.000000</td>\n",
              "      <td>0.000000</td>\n",
              "      <td>0.000000</td>\n",
              "      <td>0.000000</td>\n",
              "      <td>0.100000</td>\n",
              "      <td>0.000000</td>\n",
              "      <td>0.000000</td>\n",
              "      <td>0.000000</td>\n",
              "      <td>0.000000</td>\n",
              "      <td>0.000000</td>\n",
              "      <td>0.00</td>\n",
              "      <td>...</td>\n",
              "      <td>0.000000</td>\n",
              "      <td>0.000000</td>\n",
              "      <td>0.000000</td>\n",
              "      <td>0.00</td>\n",
              "      <td>0.10</td>\n",
              "      <td>0.000000</td>\n",
              "      <td>0.000000</td>\n",
              "      <td>0.000000</td>\n",
              "      <td>0.0</td>\n",
              "      <td>0.000000</td>\n",
              "      <td>0.000000</td>\n",
              "      <td>0.000000</td>\n",
              "      <td>0.0</td>\n",
              "      <td>0.000000</td>\n",
              "      <td>0.000000</td>\n",
              "      <td>0.000000</td>\n",
              "      <td>0.000000</td>\n",
              "      <td>0.100000</td>\n",
              "      <td>0.000000</td>\n",
              "      <td>0.00</td>\n",
              "      <td>0.000000</td>\n",
              "      <td>0.000000</td>\n",
              "      <td>0.000000</td>\n",
              "      <td>0.00</td>\n",
              "      <td>0.000000</td>\n",
              "      <td>0.000000</td>\n",
              "      <td>0.000000</td>\n",
              "      <td>0.000000</td>\n",
              "      <td>0.000000</td>\n",
              "      <td>0.000000</td>\n",
              "      <td>0.000000</td>\n",
              "      <td>0.000000</td>\n",
              "      <td>0.000000</td>\n",
              "      <td>0.000000</td>\n",
              "      <td>0.000000</td>\n",
              "      <td>0.000000</td>\n",
              "      <td>0.000000</td>\n",
              "      <td>0.000000</td>\n",
              "      <td>0.00</td>\n",
              "      <td>0.000000</td>\n",
              "    </tr>\n",
              "    <tr>\n",
              "      <th>12</th>\n",
              "      <td>Kosofe</td>\n",
              "      <td>0.050633</td>\n",
              "      <td>0.012658</td>\n",
              "      <td>0.012658</td>\n",
              "      <td>0.000000</td>\n",
              "      <td>0.000000</td>\n",
              "      <td>0.012658</td>\n",
              "      <td>0.012658</td>\n",
              "      <td>0.000000</td>\n",
              "      <td>0.000000</td>\n",
              "      <td>0.000000</td>\n",
              "      <td>0.000000</td>\n",
              "      <td>0.00</td>\n",
              "      <td>0.037975</td>\n",
              "      <td>0.012658</td>\n",
              "      <td>0.025316</td>\n",
              "      <td>0.037975</td>\n",
              "      <td>0.00</td>\n",
              "      <td>0.012658</td>\n",
              "      <td>0.012658</td>\n",
              "      <td>0.00</td>\n",
              "      <td>0.000000</td>\n",
              "      <td>0.000000</td>\n",
              "      <td>0.00</td>\n",
              "      <td>0.000000</td>\n",
              "      <td>0.000000</td>\n",
              "      <td>0.000000</td>\n",
              "      <td>0.012658</td>\n",
              "      <td>0.000000</td>\n",
              "      <td>0.037975</td>\n",
              "      <td>0.012658</td>\n",
              "      <td>0.000000</td>\n",
              "      <td>0.012658</td>\n",
              "      <td>0.000000</td>\n",
              "      <td>0.000000</td>\n",
              "      <td>0.050633</td>\n",
              "      <td>0.000000</td>\n",
              "      <td>0.012658</td>\n",
              "      <td>0.037975</td>\n",
              "      <td>0.00</td>\n",
              "      <td>...</td>\n",
              "      <td>0.000000</td>\n",
              "      <td>0.000000</td>\n",
              "      <td>0.012658</td>\n",
              "      <td>0.00</td>\n",
              "      <td>0.00</td>\n",
              "      <td>0.000000</td>\n",
              "      <td>0.012658</td>\n",
              "      <td>0.012658</td>\n",
              "      <td>0.0</td>\n",
              "      <td>0.000000</td>\n",
              "      <td>0.000000</td>\n",
              "      <td>0.063291</td>\n",
              "      <td>0.0</td>\n",
              "      <td>0.000000</td>\n",
              "      <td>0.012658</td>\n",
              "      <td>0.000000</td>\n",
              "      <td>0.000000</td>\n",
              "      <td>0.050633</td>\n",
              "      <td>0.000000</td>\n",
              "      <td>0.00</td>\n",
              "      <td>0.012658</td>\n",
              "      <td>0.000000</td>\n",
              "      <td>0.000000</td>\n",
              "      <td>0.00</td>\n",
              "      <td>0.037975</td>\n",
              "      <td>0.000000</td>\n",
              "      <td>0.075949</td>\n",
              "      <td>0.000000</td>\n",
              "      <td>0.000000</td>\n",
              "      <td>0.012658</td>\n",
              "      <td>0.012658</td>\n",
              "      <td>0.000000</td>\n",
              "      <td>0.000000</td>\n",
              "      <td>0.025316</td>\n",
              "      <td>0.000000</td>\n",
              "      <td>0.000000</td>\n",
              "      <td>0.000000</td>\n",
              "      <td>0.000000</td>\n",
              "      <td>0.00</td>\n",
              "      <td>0.000000</td>\n",
              "    </tr>\n",
              "    <tr>\n",
              "      <th>13</th>\n",
              "      <td>Lagos Island</td>\n",
              "      <td>0.015873</td>\n",
              "      <td>0.000000</td>\n",
              "      <td>0.000000</td>\n",
              "      <td>0.000000</td>\n",
              "      <td>0.000000</td>\n",
              "      <td>0.000000</td>\n",
              "      <td>0.015873</td>\n",
              "      <td>0.000000</td>\n",
              "      <td>0.015873</td>\n",
              "      <td>0.015873</td>\n",
              "      <td>0.015873</td>\n",
              "      <td>0.00</td>\n",
              "      <td>0.000000</td>\n",
              "      <td>0.000000</td>\n",
              "      <td>0.000000</td>\n",
              "      <td>0.047619</td>\n",
              "      <td>0.00</td>\n",
              "      <td>0.031746</td>\n",
              "      <td>0.000000</td>\n",
              "      <td>0.00</td>\n",
              "      <td>0.000000</td>\n",
              "      <td>0.000000</td>\n",
              "      <td>0.00</td>\n",
              "      <td>0.000000</td>\n",
              "      <td>0.015873</td>\n",
              "      <td>0.031746</td>\n",
              "      <td>0.000000</td>\n",
              "      <td>0.000000</td>\n",
              "      <td>0.000000</td>\n",
              "      <td>0.015873</td>\n",
              "      <td>0.000000</td>\n",
              "      <td>0.000000</td>\n",
              "      <td>0.000000</td>\n",
              "      <td>0.015873</td>\n",
              "      <td>0.031746</td>\n",
              "      <td>0.000000</td>\n",
              "      <td>0.000000</td>\n",
              "      <td>0.015873</td>\n",
              "      <td>0.00</td>\n",
              "      <td>...</td>\n",
              "      <td>0.015873</td>\n",
              "      <td>0.000000</td>\n",
              "      <td>0.000000</td>\n",
              "      <td>0.00</td>\n",
              "      <td>0.00</td>\n",
              "      <td>0.000000</td>\n",
              "      <td>0.015873</td>\n",
              "      <td>0.015873</td>\n",
              "      <td>0.0</td>\n",
              "      <td>0.000000</td>\n",
              "      <td>0.015873</td>\n",
              "      <td>0.000000</td>\n",
              "      <td>0.0</td>\n",
              "      <td>0.015873</td>\n",
              "      <td>0.000000</td>\n",
              "      <td>0.000000</td>\n",
              "      <td>0.015873</td>\n",
              "      <td>0.015873</td>\n",
              "      <td>0.015873</td>\n",
              "      <td>0.00</td>\n",
              "      <td>0.000000</td>\n",
              "      <td>0.000000</td>\n",
              "      <td>0.000000</td>\n",
              "      <td>0.00</td>\n",
              "      <td>0.015873</td>\n",
              "      <td>0.000000</td>\n",
              "      <td>0.031746</td>\n",
              "      <td>0.000000</td>\n",
              "      <td>0.000000</td>\n",
              "      <td>0.000000</td>\n",
              "      <td>0.031746</td>\n",
              "      <td>0.015873</td>\n",
              "      <td>0.000000</td>\n",
              "      <td>0.000000</td>\n",
              "      <td>0.015873</td>\n",
              "      <td>0.015873</td>\n",
              "      <td>0.015873</td>\n",
              "      <td>0.000000</td>\n",
              "      <td>0.00</td>\n",
              "      <td>0.000000</td>\n",
              "    </tr>\n",
              "    <tr>\n",
              "      <th>14</th>\n",
              "      <td>Lagos Mainland</td>\n",
              "      <td>0.050000</td>\n",
              "      <td>0.000000</td>\n",
              "      <td>0.000000</td>\n",
              "      <td>0.000000</td>\n",
              "      <td>0.000000</td>\n",
              "      <td>0.000000</td>\n",
              "      <td>0.010000</td>\n",
              "      <td>0.000000</td>\n",
              "      <td>0.030000</td>\n",
              "      <td>0.010000</td>\n",
              "      <td>0.010000</td>\n",
              "      <td>0.00</td>\n",
              "      <td>0.010000</td>\n",
              "      <td>0.010000</td>\n",
              "      <td>0.010000</td>\n",
              "      <td>0.040000</td>\n",
              "      <td>0.01</td>\n",
              "      <td>0.000000</td>\n",
              "      <td>0.000000</td>\n",
              "      <td>0.00</td>\n",
              "      <td>0.000000</td>\n",
              "      <td>0.000000</td>\n",
              "      <td>0.01</td>\n",
              "      <td>0.010000</td>\n",
              "      <td>0.010000</td>\n",
              "      <td>0.000000</td>\n",
              "      <td>0.020000</td>\n",
              "      <td>0.000000</td>\n",
              "      <td>0.010000</td>\n",
              "      <td>0.000000</td>\n",
              "      <td>0.010000</td>\n",
              "      <td>0.000000</td>\n",
              "      <td>0.000000</td>\n",
              "      <td>0.000000</td>\n",
              "      <td>0.010000</td>\n",
              "      <td>0.010000</td>\n",
              "      <td>0.020000</td>\n",
              "      <td>0.030000</td>\n",
              "      <td>0.00</td>\n",
              "      <td>...</td>\n",
              "      <td>0.010000</td>\n",
              "      <td>0.010000</td>\n",
              "      <td>0.000000</td>\n",
              "      <td>0.02</td>\n",
              "      <td>0.00</td>\n",
              "      <td>0.010000</td>\n",
              "      <td>0.020000</td>\n",
              "      <td>0.010000</td>\n",
              "      <td>0.0</td>\n",
              "      <td>0.010000</td>\n",
              "      <td>0.010000</td>\n",
              "      <td>0.040000</td>\n",
              "      <td>0.0</td>\n",
              "      <td>0.020000</td>\n",
              "      <td>0.000000</td>\n",
              "      <td>0.010000</td>\n",
              "      <td>0.000000</td>\n",
              "      <td>0.030000</td>\n",
              "      <td>0.000000</td>\n",
              "      <td>0.00</td>\n",
              "      <td>0.010000</td>\n",
              "      <td>0.000000</td>\n",
              "      <td>0.010000</td>\n",
              "      <td>0.00</td>\n",
              "      <td>0.030000</td>\n",
              "      <td>0.000000</td>\n",
              "      <td>0.060000</td>\n",
              "      <td>0.000000</td>\n",
              "      <td>0.020000</td>\n",
              "      <td>0.000000</td>\n",
              "      <td>0.000000</td>\n",
              "      <td>0.010000</td>\n",
              "      <td>0.000000</td>\n",
              "      <td>0.000000</td>\n",
              "      <td>0.000000</td>\n",
              "      <td>0.000000</td>\n",
              "      <td>0.000000</td>\n",
              "      <td>0.000000</td>\n",
              "      <td>0.01</td>\n",
              "      <td>0.000000</td>\n",
              "    </tr>\n",
              "    <tr>\n",
              "      <th>15</th>\n",
              "      <td>Mushin, Lagos</td>\n",
              "      <td>0.050000</td>\n",
              "      <td>0.000000</td>\n",
              "      <td>0.010000</td>\n",
              "      <td>0.010000</td>\n",
              "      <td>0.000000</td>\n",
              "      <td>0.000000</td>\n",
              "      <td>0.010000</td>\n",
              "      <td>0.000000</td>\n",
              "      <td>0.010000</td>\n",
              "      <td>0.000000</td>\n",
              "      <td>0.010000</td>\n",
              "      <td>0.00</td>\n",
              "      <td>0.020000</td>\n",
              "      <td>0.010000</td>\n",
              "      <td>0.030000</td>\n",
              "      <td>0.030000</td>\n",
              "      <td>0.00</td>\n",
              "      <td>0.000000</td>\n",
              "      <td>0.010000</td>\n",
              "      <td>0.00</td>\n",
              "      <td>0.000000</td>\n",
              "      <td>0.010000</td>\n",
              "      <td>0.00</td>\n",
              "      <td>0.000000</td>\n",
              "      <td>0.000000</td>\n",
              "      <td>0.000000</td>\n",
              "      <td>0.010000</td>\n",
              "      <td>0.000000</td>\n",
              "      <td>0.030000</td>\n",
              "      <td>0.010000</td>\n",
              "      <td>0.000000</td>\n",
              "      <td>0.010000</td>\n",
              "      <td>0.000000</td>\n",
              "      <td>0.000000</td>\n",
              "      <td>0.030000</td>\n",
              "      <td>0.000000</td>\n",
              "      <td>0.020000</td>\n",
              "      <td>0.040000</td>\n",
              "      <td>0.00</td>\n",
              "      <td>...</td>\n",
              "      <td>0.000000</td>\n",
              "      <td>0.000000</td>\n",
              "      <td>0.000000</td>\n",
              "      <td>0.00</td>\n",
              "      <td>0.00</td>\n",
              "      <td>0.000000</td>\n",
              "      <td>0.020000</td>\n",
              "      <td>0.020000</td>\n",
              "      <td>0.0</td>\n",
              "      <td>0.000000</td>\n",
              "      <td>0.000000</td>\n",
              "      <td>0.050000</td>\n",
              "      <td>0.0</td>\n",
              "      <td>0.000000</td>\n",
              "      <td>0.000000</td>\n",
              "      <td>0.000000</td>\n",
              "      <td>0.000000</td>\n",
              "      <td>0.060000</td>\n",
              "      <td>0.010000</td>\n",
              "      <td>0.00</td>\n",
              "      <td>0.020000</td>\n",
              "      <td>0.000000</td>\n",
              "      <td>0.000000</td>\n",
              "      <td>0.01</td>\n",
              "      <td>0.030000</td>\n",
              "      <td>0.000000</td>\n",
              "      <td>0.100000</td>\n",
              "      <td>0.000000</td>\n",
              "      <td>0.010000</td>\n",
              "      <td>0.010000</td>\n",
              "      <td>0.010000</td>\n",
              "      <td>0.000000</td>\n",
              "      <td>0.000000</td>\n",
              "      <td>0.020000</td>\n",
              "      <td>0.000000</td>\n",
              "      <td>0.000000</td>\n",
              "      <td>0.000000</td>\n",
              "      <td>0.000000</td>\n",
              "      <td>0.00</td>\n",
              "      <td>0.010000</td>\n",
              "    </tr>\n",
              "    <tr>\n",
              "      <th>16</th>\n",
              "      <td>Ojo</td>\n",
              "      <td>0.000000</td>\n",
              "      <td>0.000000</td>\n",
              "      <td>0.000000</td>\n",
              "      <td>0.000000</td>\n",
              "      <td>0.000000</td>\n",
              "      <td>0.000000</td>\n",
              "      <td>0.000000</td>\n",
              "      <td>0.000000</td>\n",
              "      <td>0.000000</td>\n",
              "      <td>0.000000</td>\n",
              "      <td>0.000000</td>\n",
              "      <td>0.00</td>\n",
              "      <td>0.000000</td>\n",
              "      <td>0.000000</td>\n",
              "      <td>0.000000</td>\n",
              "      <td>0.000000</td>\n",
              "      <td>0.00</td>\n",
              "      <td>0.000000</td>\n",
              "      <td>0.000000</td>\n",
              "      <td>0.00</td>\n",
              "      <td>0.000000</td>\n",
              "      <td>0.000000</td>\n",
              "      <td>0.00</td>\n",
              "      <td>0.000000</td>\n",
              "      <td>0.000000</td>\n",
              "      <td>0.000000</td>\n",
              "      <td>0.000000</td>\n",
              "      <td>0.000000</td>\n",
              "      <td>0.000000</td>\n",
              "      <td>0.000000</td>\n",
              "      <td>0.000000</td>\n",
              "      <td>0.000000</td>\n",
              "      <td>0.000000</td>\n",
              "      <td>0.000000</td>\n",
              "      <td>0.000000</td>\n",
              "      <td>0.000000</td>\n",
              "      <td>0.000000</td>\n",
              "      <td>0.000000</td>\n",
              "      <td>0.00</td>\n",
              "      <td>...</td>\n",
              "      <td>0.000000</td>\n",
              "      <td>0.000000</td>\n",
              "      <td>0.000000</td>\n",
              "      <td>0.00</td>\n",
              "      <td>0.00</td>\n",
              "      <td>0.000000</td>\n",
              "      <td>0.000000</td>\n",
              "      <td>0.000000</td>\n",
              "      <td>0.0</td>\n",
              "      <td>0.000000</td>\n",
              "      <td>0.000000</td>\n",
              "      <td>0.000000</td>\n",
              "      <td>0.0</td>\n",
              "      <td>0.250000</td>\n",
              "      <td>0.000000</td>\n",
              "      <td>0.000000</td>\n",
              "      <td>0.000000</td>\n",
              "      <td>0.000000</td>\n",
              "      <td>0.000000</td>\n",
              "      <td>0.00</td>\n",
              "      <td>0.000000</td>\n",
              "      <td>0.000000</td>\n",
              "      <td>0.000000</td>\n",
              "      <td>0.00</td>\n",
              "      <td>0.250000</td>\n",
              "      <td>0.000000</td>\n",
              "      <td>0.000000</td>\n",
              "      <td>0.000000</td>\n",
              "      <td>0.000000</td>\n",
              "      <td>0.000000</td>\n",
              "      <td>0.000000</td>\n",
              "      <td>0.000000</td>\n",
              "      <td>0.000000</td>\n",
              "      <td>0.000000</td>\n",
              "      <td>0.000000</td>\n",
              "      <td>0.000000</td>\n",
              "      <td>0.000000</td>\n",
              "      <td>0.000000</td>\n",
              "      <td>0.00</td>\n",
              "      <td>0.000000</td>\n",
              "    </tr>\n",
              "    <tr>\n",
              "      <th>17</th>\n",
              "      <td>Oshodi-Isolo</td>\n",
              "      <td>0.060000</td>\n",
              "      <td>0.000000</td>\n",
              "      <td>0.010000</td>\n",
              "      <td>0.010000</td>\n",
              "      <td>0.000000</td>\n",
              "      <td>0.000000</td>\n",
              "      <td>0.010000</td>\n",
              "      <td>0.000000</td>\n",
              "      <td>0.010000</td>\n",
              "      <td>0.000000</td>\n",
              "      <td>0.010000</td>\n",
              "      <td>0.01</td>\n",
              "      <td>0.020000</td>\n",
              "      <td>0.010000</td>\n",
              "      <td>0.030000</td>\n",
              "      <td>0.050000</td>\n",
              "      <td>0.00</td>\n",
              "      <td>0.000000</td>\n",
              "      <td>0.000000</td>\n",
              "      <td>0.00</td>\n",
              "      <td>0.000000</td>\n",
              "      <td>0.010000</td>\n",
              "      <td>0.00</td>\n",
              "      <td>0.010000</td>\n",
              "      <td>0.010000</td>\n",
              "      <td>0.000000</td>\n",
              "      <td>0.010000</td>\n",
              "      <td>0.000000</td>\n",
              "      <td>0.030000</td>\n",
              "      <td>0.010000</td>\n",
              "      <td>0.000000</td>\n",
              "      <td>0.010000</td>\n",
              "      <td>0.000000</td>\n",
              "      <td>0.000000</td>\n",
              "      <td>0.020000</td>\n",
              "      <td>0.000000</td>\n",
              "      <td>0.010000</td>\n",
              "      <td>0.040000</td>\n",
              "      <td>0.00</td>\n",
              "      <td>...</td>\n",
              "      <td>0.010000</td>\n",
              "      <td>0.000000</td>\n",
              "      <td>0.000000</td>\n",
              "      <td>0.00</td>\n",
              "      <td>0.00</td>\n",
              "      <td>0.000000</td>\n",
              "      <td>0.020000</td>\n",
              "      <td>0.020000</td>\n",
              "      <td>0.0</td>\n",
              "      <td>0.000000</td>\n",
              "      <td>0.000000</td>\n",
              "      <td>0.040000</td>\n",
              "      <td>0.0</td>\n",
              "      <td>0.000000</td>\n",
              "      <td>0.000000</td>\n",
              "      <td>0.000000</td>\n",
              "      <td>0.000000</td>\n",
              "      <td>0.060000</td>\n",
              "      <td>0.000000</td>\n",
              "      <td>0.00</td>\n",
              "      <td>0.020000</td>\n",
              "      <td>0.000000</td>\n",
              "      <td>0.000000</td>\n",
              "      <td>0.00</td>\n",
              "      <td>0.030000</td>\n",
              "      <td>0.010000</td>\n",
              "      <td>0.070000</td>\n",
              "      <td>0.000000</td>\n",
              "      <td>0.000000</td>\n",
              "      <td>0.010000</td>\n",
              "      <td>0.010000</td>\n",
              "      <td>0.000000</td>\n",
              "      <td>0.000000</td>\n",
              "      <td>0.020000</td>\n",
              "      <td>0.000000</td>\n",
              "      <td>0.000000</td>\n",
              "      <td>0.000000</td>\n",
              "      <td>0.000000</td>\n",
              "      <td>0.00</td>\n",
              "      <td>0.010000</td>\n",
              "    </tr>\n",
              "    <tr>\n",
              "      <th>18</th>\n",
              "      <td>Somolu</td>\n",
              "      <td>0.000000</td>\n",
              "      <td>0.000000</td>\n",
              "      <td>0.000000</td>\n",
              "      <td>0.000000</td>\n",
              "      <td>0.000000</td>\n",
              "      <td>0.000000</td>\n",
              "      <td>0.000000</td>\n",
              "      <td>0.000000</td>\n",
              "      <td>0.000000</td>\n",
              "      <td>0.000000</td>\n",
              "      <td>0.000000</td>\n",
              "      <td>0.00</td>\n",
              "      <td>0.000000</td>\n",
              "      <td>0.000000</td>\n",
              "      <td>0.000000</td>\n",
              "      <td>0.055556</td>\n",
              "      <td>0.00</td>\n",
              "      <td>0.055556</td>\n",
              "      <td>0.000000</td>\n",
              "      <td>0.00</td>\n",
              "      <td>0.000000</td>\n",
              "      <td>0.000000</td>\n",
              "      <td>0.00</td>\n",
              "      <td>0.000000</td>\n",
              "      <td>0.000000</td>\n",
              "      <td>0.166667</td>\n",
              "      <td>0.000000</td>\n",
              "      <td>0.000000</td>\n",
              "      <td>0.000000</td>\n",
              "      <td>0.000000</td>\n",
              "      <td>0.000000</td>\n",
              "      <td>0.000000</td>\n",
              "      <td>0.000000</td>\n",
              "      <td>0.000000</td>\n",
              "      <td>0.111111</td>\n",
              "      <td>0.000000</td>\n",
              "      <td>0.000000</td>\n",
              "      <td>0.111111</td>\n",
              "      <td>0.00</td>\n",
              "      <td>...</td>\n",
              "      <td>0.055556</td>\n",
              "      <td>0.000000</td>\n",
              "      <td>0.000000</td>\n",
              "      <td>0.00</td>\n",
              "      <td>0.00</td>\n",
              "      <td>0.000000</td>\n",
              "      <td>0.000000</td>\n",
              "      <td>0.000000</td>\n",
              "      <td>0.0</td>\n",
              "      <td>0.000000</td>\n",
              "      <td>0.000000</td>\n",
              "      <td>0.000000</td>\n",
              "      <td>0.0</td>\n",
              "      <td>0.000000</td>\n",
              "      <td>0.000000</td>\n",
              "      <td>0.000000</td>\n",
              "      <td>0.000000</td>\n",
              "      <td>0.111111</td>\n",
              "      <td>0.000000</td>\n",
              "      <td>0.00</td>\n",
              "      <td>0.000000</td>\n",
              "      <td>0.000000</td>\n",
              "      <td>0.000000</td>\n",
              "      <td>0.00</td>\n",
              "      <td>0.055556</td>\n",
              "      <td>0.000000</td>\n",
              "      <td>0.000000</td>\n",
              "      <td>0.055556</td>\n",
              "      <td>0.000000</td>\n",
              "      <td>0.000000</td>\n",
              "      <td>0.000000</td>\n",
              "      <td>0.000000</td>\n",
              "      <td>0.000000</td>\n",
              "      <td>0.000000</td>\n",
              "      <td>0.000000</td>\n",
              "      <td>0.000000</td>\n",
              "      <td>0.000000</td>\n",
              "      <td>0.000000</td>\n",
              "      <td>0.00</td>\n",
              "      <td>0.000000</td>\n",
              "    </tr>\n",
              "    <tr>\n",
              "      <th>19</th>\n",
              "      <td>Surulere</td>\n",
              "      <td>0.056818</td>\n",
              "      <td>0.000000</td>\n",
              "      <td>0.000000</td>\n",
              "      <td>0.000000</td>\n",
              "      <td>0.000000</td>\n",
              "      <td>0.000000</td>\n",
              "      <td>0.000000</td>\n",
              "      <td>0.011364</td>\n",
              "      <td>0.022727</td>\n",
              "      <td>0.022727</td>\n",
              "      <td>0.011364</td>\n",
              "      <td>0.00</td>\n",
              "      <td>0.011364</td>\n",
              "      <td>0.011364</td>\n",
              "      <td>0.000000</td>\n",
              "      <td>0.045455</td>\n",
              "      <td>0.00</td>\n",
              "      <td>0.000000</td>\n",
              "      <td>0.000000</td>\n",
              "      <td>0.00</td>\n",
              "      <td>0.011364</td>\n",
              "      <td>0.000000</td>\n",
              "      <td>0.00</td>\n",
              "      <td>0.011364</td>\n",
              "      <td>0.000000</td>\n",
              "      <td>0.000000</td>\n",
              "      <td>0.000000</td>\n",
              "      <td>0.000000</td>\n",
              "      <td>0.022727</td>\n",
              "      <td>0.000000</td>\n",
              "      <td>0.011364</td>\n",
              "      <td>0.000000</td>\n",
              "      <td>0.000000</td>\n",
              "      <td>0.000000</td>\n",
              "      <td>0.011364</td>\n",
              "      <td>0.011364</td>\n",
              "      <td>0.011364</td>\n",
              "      <td>0.045455</td>\n",
              "      <td>0.00</td>\n",
              "      <td>...</td>\n",
              "      <td>0.011364</td>\n",
              "      <td>0.011364</td>\n",
              "      <td>0.000000</td>\n",
              "      <td>0.00</td>\n",
              "      <td>0.00</td>\n",
              "      <td>0.011364</td>\n",
              "      <td>0.022727</td>\n",
              "      <td>0.011364</td>\n",
              "      <td>0.0</td>\n",
              "      <td>0.011364</td>\n",
              "      <td>0.000000</td>\n",
              "      <td>0.045455</td>\n",
              "      <td>0.0</td>\n",
              "      <td>0.022727</td>\n",
              "      <td>0.000000</td>\n",
              "      <td>0.011364</td>\n",
              "      <td>0.000000</td>\n",
              "      <td>0.034091</td>\n",
              "      <td>0.000000</td>\n",
              "      <td>0.00</td>\n",
              "      <td>0.011364</td>\n",
              "      <td>0.011364</td>\n",
              "      <td>0.011364</td>\n",
              "      <td>0.00</td>\n",
              "      <td>0.000000</td>\n",
              "      <td>0.000000</td>\n",
              "      <td>0.056818</td>\n",
              "      <td>0.000000</td>\n",
              "      <td>0.011364</td>\n",
              "      <td>0.000000</td>\n",
              "      <td>0.011364</td>\n",
              "      <td>0.011364</td>\n",
              "      <td>0.011364</td>\n",
              "      <td>0.000000</td>\n",
              "      <td>0.011364</td>\n",
              "      <td>0.000000</td>\n",
              "      <td>0.000000</td>\n",
              "      <td>0.000000</td>\n",
              "      <td>0.00</td>\n",
              "      <td>0.000000</td>\n",
              "    </tr>\n",
              "  </tbody>\n",
              "</table>\n",
              "<p>20 rows × 106 columns</p>\n",
              "</div>"
            ],
            "text/plain": [
              "                 LGA  African Restaurant  ...  Theme Restaurant  Wine Shop\n",
              "0              Agege            0.032967  ...              0.00   0.000000\n",
              "1   Ajeromi-Ifelodun            0.084746  ...              0.00   0.000000\n",
              "2           Alimosho            0.000000  ...              0.00   0.025641\n",
              "3       Amuwo-Odofin            0.050000  ...              0.00   0.000000\n",
              "4              Apapa            0.090000  ...              0.01   0.000000\n",
              "5            Badagry            0.000000  ...              0.00   0.000000\n",
              "6                Epe            0.000000  ...              0.00   0.000000\n",
              "7            Eti-Osa            0.018519  ...              0.00   0.000000\n",
              "8        Ibeju-Lekki            0.000000  ...              0.00   0.000000\n",
              "9       Ifako-Ijaiye            0.000000  ...              0.00   0.000000\n",
              "10             Ikeja            0.032967  ...              0.00   0.010989\n",
              "11           Ikorodu            0.100000  ...              0.00   0.000000\n",
              "12            Kosofe            0.050633  ...              0.00   0.000000\n",
              "13      Lagos Island            0.015873  ...              0.00   0.000000\n",
              "14    Lagos Mainland            0.050000  ...              0.01   0.000000\n",
              "15     Mushin, Lagos            0.050000  ...              0.00   0.010000\n",
              "16               Ojo            0.000000  ...              0.00   0.000000\n",
              "17      Oshodi-Isolo            0.060000  ...              0.00   0.010000\n",
              "18            Somolu            0.000000  ...              0.00   0.000000\n",
              "19          Surulere            0.056818  ...              0.00   0.000000\n",
              "\n",
              "[20 rows x 106 columns]"
            ]
          },
          "metadata": {
            "tags": []
          },
          "execution_count": 89
        }
      ]
    },
    {
      "cell_type": "markdown",
      "metadata": {
        "id": "CZg6RoCjSjkO",
        "colab_type": "text"
      },
      "source": [
        "Let's confirm the new shape"
      ]
    },
    {
      "cell_type": "code",
      "metadata": {
        "id": "5MuolwLHSmb9",
        "colab_type": "code",
        "outputId": "777eb933-cfe7-4bc8-ccb3-699df7140a86",
        "colab": {
          "base_uri": "https://localhost:8080/",
          "height": 34
        }
      },
      "source": [
        "lagos_grouped.shape"
      ],
      "execution_count": 90,
      "outputs": [
        {
          "output_type": "execute_result",
          "data": {
            "text/plain": [
              "(20, 106)"
            ]
          },
          "metadata": {
            "tags": []
          },
          "execution_count": 90
        }
      ]
    },
    {
      "cell_type": "markdown",
      "metadata": {
        "id": "yCscN0BeaHth",
        "colab_type": "text"
      },
      "source": [
        "Let's write a function to sort the venues in descending order."
      ]
    },
    {
      "cell_type": "code",
      "metadata": {
        "id": "T54IdLU9bJYy",
        "colab_type": "code",
        "colab": {}
      },
      "source": [
        "def return_most_common_venues(row, num_top_venues):\n",
        "    row_categories = row.iloc[1:]\n",
        "    row_categories_sorted = row_categories.sort_values(ascending=False)\n",
        "    \n",
        "    return row_categories_sorted.index.values[0:num_top_venues]"
      ],
      "execution_count": 0,
      "outputs": []
    },
    {
      "cell_type": "markdown",
      "metadata": {
        "id": "Ji18JlDcbYDN",
        "colab_type": "text"
      },
      "source": [
        "Now let's create the new dataframe and display the top 10 venues for each LGA in Lagos"
      ]
    },
    {
      "cell_type": "code",
      "metadata": {
        "id": "Py6JechzbWSf",
        "colab_type": "code",
        "outputId": "e538bf72-0487-4d0f-b91c-8fa158d41af1",
        "colab": {
          "base_uri": "https://localhost:8080/",
          "height": 528
        }
      },
      "source": [
        "num_top_venues = 10\n",
        "\n",
        "indicators = ['st', 'nd', 'rd']\n",
        "\n",
        "# create columns according to number of top venues\n",
        "columns = ['LGA']\n",
        "for ind in np.arange(num_top_venues):\n",
        "    try:\n",
        "        columns.append('{}{} Most Common Venue'.format(ind+1, indicators[ind]))\n",
        "    except:\n",
        "        columns.append('{}th Most Common Venue'.format(ind+1))\n",
        "\n",
        "# create a new dataframe\n",
        "lga_venues_sorted = pd.DataFrame(columns=columns)\n",
        "lga_venues_sorted['LGA'] = lagos_grouped['LGA']\n",
        "\n",
        "for ind in np.arange(lagos_grouped.shape[0]):\n",
        "    lga_venues_sorted.iloc[ind, 1:] = return_most_common_venues(lagos_grouped.iloc[ind, :], num_top_venues)\n",
        "\n",
        "lga_venues_sorted.head(10)"
      ],
      "execution_count": 92,
      "outputs": [
        {
          "output_type": "execute_result",
          "data": {
            "text/html": [
              "<div>\n",
              "<style scoped>\n",
              "    .dataframe tbody tr th:only-of-type {\n",
              "        vertical-align: middle;\n",
              "    }\n",
              "\n",
              "    .dataframe tbody tr th {\n",
              "        vertical-align: top;\n",
              "    }\n",
              "\n",
              "    .dataframe thead th {\n",
              "        text-align: right;\n",
              "    }\n",
              "</style>\n",
              "<table border=\"1\" class=\"dataframe\">\n",
              "  <thead>\n",
              "    <tr style=\"text-align: right;\">\n",
              "      <th></th>\n",
              "      <th>LGA</th>\n",
              "      <th>1st Most Common Venue</th>\n",
              "      <th>2nd Most Common Venue</th>\n",
              "      <th>3rd Most Common Venue</th>\n",
              "      <th>4th Most Common Venue</th>\n",
              "      <th>5th Most Common Venue</th>\n",
              "      <th>6th Most Common Venue</th>\n",
              "      <th>7th Most Common Venue</th>\n",
              "      <th>8th Most Common Venue</th>\n",
              "      <th>9th Most Common Venue</th>\n",
              "      <th>10th Most Common Venue</th>\n",
              "    </tr>\n",
              "  </thead>\n",
              "  <tbody>\n",
              "    <tr>\n",
              "      <th>0</th>\n",
              "      <td>Agege</td>\n",
              "      <td>Shopping Mall</td>\n",
              "      <td>Fast Food Restaurant</td>\n",
              "      <td>Pizza Place</td>\n",
              "      <td>Convenience Store</td>\n",
              "      <td>Hotel</td>\n",
              "      <td>Lounge</td>\n",
              "      <td>Restaurant</td>\n",
              "      <td>Ice Cream Shop</td>\n",
              "      <td>Chinese Restaurant</td>\n",
              "      <td>Burger Joint</td>\n",
              "    </tr>\n",
              "    <tr>\n",
              "      <th>1</th>\n",
              "      <td>Ajeromi-Ifelodun</td>\n",
              "      <td>African Restaurant</td>\n",
              "      <td>Hotel</td>\n",
              "      <td>Lounge</td>\n",
              "      <td>Shopping Mall</td>\n",
              "      <td>Nightclub</td>\n",
              "      <td>Park</td>\n",
              "      <td>Pizza Place</td>\n",
              "      <td>Japanese Restaurant</td>\n",
              "      <td>Fast Food Restaurant</td>\n",
              "      <td>Movie Theater</td>\n",
              "    </tr>\n",
              "    <tr>\n",
              "      <th>2</th>\n",
              "      <td>Alimosho</td>\n",
              "      <td>Fast Food Restaurant</td>\n",
              "      <td>Pizza Place</td>\n",
              "      <td>Restaurant</td>\n",
              "      <td>Burger Joint</td>\n",
              "      <td>Lounge</td>\n",
              "      <td>Park</td>\n",
              "      <td>Shopping Mall</td>\n",
              "      <td>Hotel</td>\n",
              "      <td>Wine Shop</td>\n",
              "      <td>Farmers Market</td>\n",
              "    </tr>\n",
              "    <tr>\n",
              "      <th>3</th>\n",
              "      <td>Amuwo-Odofin</td>\n",
              "      <td>Hotel</td>\n",
              "      <td>Park</td>\n",
              "      <td>Fast Food Restaurant</td>\n",
              "      <td>African Restaurant</td>\n",
              "      <td>Shopping Mall</td>\n",
              "      <td>Chinese Restaurant</td>\n",
              "      <td>Mobile Phone Shop</td>\n",
              "      <td>Bike Rental / Bike Share</td>\n",
              "      <td>Beach</td>\n",
              "      <td>Pool</td>\n",
              "    </tr>\n",
              "    <tr>\n",
              "      <th>4</th>\n",
              "      <td>Apapa</td>\n",
              "      <td>Hotel</td>\n",
              "      <td>African Restaurant</td>\n",
              "      <td>Lounge</td>\n",
              "      <td>Restaurant</td>\n",
              "      <td>Nightclub</td>\n",
              "      <td>Japanese Restaurant</td>\n",
              "      <td>Ice Cream Shop</td>\n",
              "      <td>Art Gallery</td>\n",
              "      <td>Pizza Place</td>\n",
              "      <td>Diner</td>\n",
              "    </tr>\n",
              "    <tr>\n",
              "      <th>5</th>\n",
              "      <td>Badagry</td>\n",
              "      <td>History Museum</td>\n",
              "      <td>Museum</td>\n",
              "      <td>Fast Food Restaurant</td>\n",
              "      <td>Beer Garden</td>\n",
              "      <td>Wine Shop</td>\n",
              "      <td>Cupcake Shop</td>\n",
              "      <td>Chinese Restaurant</td>\n",
              "      <td>Clothing Store</td>\n",
              "      <td>Cocktail Bar</td>\n",
              "      <td>Coffee Shop</td>\n",
              "    </tr>\n",
              "    <tr>\n",
              "      <th>6</th>\n",
              "      <td>Epe</td>\n",
              "      <td>Hotel</td>\n",
              "      <td>Other Great Outdoors</td>\n",
              "      <td>Wine Shop</td>\n",
              "      <td>Department Store</td>\n",
              "      <td>Campground</td>\n",
              "      <td>Chinese Restaurant</td>\n",
              "      <td>Clothing Store</td>\n",
              "      <td>Cocktail Bar</td>\n",
              "      <td>Coffee Shop</td>\n",
              "      <td>Comedy Club</td>\n",
              "    </tr>\n",
              "    <tr>\n",
              "      <th>7</th>\n",
              "      <td>Eti-Osa</td>\n",
              "      <td>Lounge</td>\n",
              "      <td>Hotel</td>\n",
              "      <td>Bar</td>\n",
              "      <td>Beach</td>\n",
              "      <td>Ice Cream Shop</td>\n",
              "      <td>Fast Food Restaurant</td>\n",
              "      <td>Gym / Fitness Center</td>\n",
              "      <td>Pizza Place</td>\n",
              "      <td>Convenience Store</td>\n",
              "      <td>Department Store</td>\n",
              "    </tr>\n",
              "    <tr>\n",
              "      <th>8</th>\n",
              "      <td>Ibeju-Lekki</td>\n",
              "      <td>Golf Course</td>\n",
              "      <td>Arcade</td>\n",
              "      <td>Beach</td>\n",
              "      <td>Resort</td>\n",
              "      <td>Department Store</td>\n",
              "      <td>Chinese Restaurant</td>\n",
              "      <td>Clothing Store</td>\n",
              "      <td>Cocktail Bar</td>\n",
              "      <td>Coffee Shop</td>\n",
              "      <td>Comedy Club</td>\n",
              "    </tr>\n",
              "    <tr>\n",
              "      <th>9</th>\n",
              "      <td>Ifako-Ijaiye</td>\n",
              "      <td>Fast Food Restaurant</td>\n",
              "      <td>Shopping Mall</td>\n",
              "      <td>Pizza Place</td>\n",
              "      <td>Hotel</td>\n",
              "      <td>Restaurant</td>\n",
              "      <td>Burger Joint</td>\n",
              "      <td>BBQ Joint</td>\n",
              "      <td>Chinese Restaurant</td>\n",
              "      <td>Bus Station</td>\n",
              "      <td>Bar</td>\n",
              "    </tr>\n",
              "  </tbody>\n",
              "</table>\n",
              "</div>"
            ],
            "text/plain": [
              "                LGA  ... 10th Most Common Venue\n",
              "0             Agege  ...           Burger Joint\n",
              "1  Ajeromi-Ifelodun  ...          Movie Theater\n",
              "2          Alimosho  ...         Farmers Market\n",
              "3      Amuwo-Odofin  ...                   Pool\n",
              "4             Apapa  ...                  Diner\n",
              "5           Badagry  ...            Coffee Shop\n",
              "6               Epe  ...            Comedy Club\n",
              "7           Eti-Osa  ...       Department Store\n",
              "8       Ibeju-Lekki  ...            Comedy Club\n",
              "9      Ifako-Ijaiye  ...                    Bar\n",
              "\n",
              "[10 rows x 11 columns]"
            ]
          },
          "metadata": {
            "tags": []
          },
          "execution_count": 92
        }
      ]
    },
    {
      "cell_type": "markdown",
      "metadata": {
        "id": "fGUuAjN7dJyV",
        "colab_type": "text"
      },
      "source": [
        "We can clearly see that hotels are the most common venues in majority of LGA areas in Lagos State.<br>Other common venues are fast food restaurants and shopping malls"
      ]
    },
    {
      "cell_type": "markdown",
      "metadata": {
        "id": "xhuIgc4sed6I",
        "colab_type": "text"
      },
      "source": [
        "#### Let's Cluster Neighborhoods in Lagos State by LGAs"
      ]
    },
    {
      "cell_type": "markdown",
      "metadata": {
        "id": "XVWtM6mhevEU",
        "colab_type": "text"
      },
      "source": [
        "Run k-means to cluster the State into 5 clusters."
      ]
    },
    {
      "cell_type": "code",
      "metadata": {
        "id": "069ljTVbec4M",
        "colab_type": "code",
        "outputId": "aa218e39-b91c-43e6-dceb-d70dadbef1ce",
        "colab": {
          "base_uri": "https://localhost:8080/",
          "height": 50
        }
      },
      "source": [
        "# set number of clusters\n",
        "kclusters = 5\n",
        "\n",
        "lagos_grouped_clustering = lagos_grouped.drop('LGA', 1)\n",
        "\n",
        "# run k-means clustering\n",
        "kmeans = KMeans(n_clusters=kclusters, random_state=0).fit(lagos_grouped_clustering)\n",
        "\n",
        "# check cluster labels generated for each row in the dataframe\n",
        "kmeans.labels_"
      ],
      "execution_count": 93,
      "outputs": [
        {
          "output_type": "execute_result",
          "data": {
            "text/plain": [
              "array([0, 0, 0, 0, 0, 3, 2, 0, 4, 0, 0, 0, 0, 0, 0, 0, 1, 0, 0, 0],\n",
              "      dtype=int32)"
            ]
          },
          "metadata": {
            "tags": []
          },
          "execution_count": 93
        }
      ]
    },
    {
      "cell_type": "markdown",
      "metadata": {
        "id": "rOrGV-nhg1Tv",
        "colab_type": "text"
      },
      "source": [
        "Let's update the lga_venues_sorted DataFrame to include the cluster labels, as well as lat and long data per LGA"
      ]
    },
    {
      "cell_type": "code",
      "metadata": {
        "id": "sxEnwbYekOda",
        "colab_type": "code",
        "outputId": "dd0a4694-5368-4df7-d282-a9c0082d9947",
        "colab": {
          "base_uri": "https://localhost:8080/",
          "height": 195
        }
      },
      "source": [
        "lagos_df.tail()"
      ],
      "execution_count": 94,
      "outputs": [
        {
          "output_type": "execute_result",
          "data": {
            "text/html": [
              "<div>\n",
              "<style scoped>\n",
              "    .dataframe tbody tr th:only-of-type {\n",
              "        vertical-align: middle;\n",
              "    }\n",
              "\n",
              "    .dataframe tbody tr th {\n",
              "        vertical-align: top;\n",
              "    }\n",
              "\n",
              "    .dataframe thead th {\n",
              "        text-align: right;\n",
              "    }\n",
              "</style>\n",
              "<table border=\"1\" class=\"dataframe\">\n",
              "  <thead>\n",
              "    <tr style=\"text-align: right;\">\n",
              "      <th></th>\n",
              "      <th>LGA</th>\n",
              "      <th>POP</th>\n",
              "      <th>latitude</th>\n",
              "      <th>longitude</th>\n",
              "    </tr>\n",
              "  </thead>\n",
              "  <tbody>\n",
              "    <tr>\n",
              "      <th>15</th>\n",
              "      <td>Badagry</td>\n",
              "      <td>241437</td>\n",
              "      <td>6.43873</td>\n",
              "      <td>2.907486</td>\n",
              "    </tr>\n",
              "    <tr>\n",
              "      <th>16</th>\n",
              "      <td>Apapa</td>\n",
              "      <td>217661</td>\n",
              "      <td>6.44519</td>\n",
              "      <td>3.368373</td>\n",
              "    </tr>\n",
              "    <tr>\n",
              "      <th>17</th>\n",
              "      <td>Lagos Island</td>\n",
              "      <td>209665</td>\n",
              "      <td>6.51486</td>\n",
              "      <td>3.490866</td>\n",
              "    </tr>\n",
              "    <tr>\n",
              "      <th>18</th>\n",
              "      <td>Epe</td>\n",
              "      <td>181715</td>\n",
              "      <td>6.52475</td>\n",
              "      <td>4.057246</td>\n",
              "    </tr>\n",
              "    <tr>\n",
              "      <th>19</th>\n",
              "      <td>Ibeju-Lekki</td>\n",
              "      <td>117542</td>\n",
              "      <td>6.47113</td>\n",
              "      <td>3.814750</td>\n",
              "    </tr>\n",
              "  </tbody>\n",
              "</table>\n",
              "</div>"
            ],
            "text/plain": [
              "             LGA     POP latitude  longitude\n",
              "15       Badagry  241437  6.43873   2.907486\n",
              "16         Apapa  217661  6.44519   3.368373\n",
              "17  Lagos Island  209665  6.51486   3.490866\n",
              "18           Epe  181715  6.52475   4.057246\n",
              "19   Ibeju-Lekki  117542  6.47113   3.814750"
            ]
          },
          "metadata": {
            "tags": []
          },
          "execution_count": 94
        }
      ]
    },
    {
      "cell_type": "code",
      "metadata": {
        "id": "P37EYX3PhGf7",
        "colab_type": "code",
        "colab": {}
      },
      "source": [
        "# insert clustering labels\n",
        "lga_venues_sorted.insert(0, 'Cluster Labels', kmeans.labels_)\n",
        "\n",
        "# Let's select LGA, latitude and longitude data columns from lagos_df\n",
        "lagos_merged = lagos_df[['LGA', 'latitude', 'longitude']]\n",
        "\n",
        "# merge lagos_merged with lga_venues_sorted to add latitude/longitude for each neighborhood\n",
        "lagos_merged = lagos_merged.join(lga_venues_sorted.set_index('LGA'), on='LGA')"
      ],
      "execution_count": 0,
      "outputs": []
    },
    {
      "cell_type": "code",
      "metadata": {
        "id": "s7kSmfdsmdII",
        "colab_type": "code",
        "outputId": "e8d95dab-82fc-4669-dd82-fc9d6d60d4da",
        "colab": {
          "base_uri": "https://localhost:8080/",
          "height": 1000
        }
      },
      "source": [
        "lagos_merged"
      ],
      "execution_count": 96,
      "outputs": [
        {
          "output_type": "execute_result",
          "data": {
            "text/html": [
              "<div>\n",
              "<style scoped>\n",
              "    .dataframe tbody tr th:only-of-type {\n",
              "        vertical-align: middle;\n",
              "    }\n",
              "\n",
              "    .dataframe tbody tr th {\n",
              "        vertical-align: top;\n",
              "    }\n",
              "\n",
              "    .dataframe thead th {\n",
              "        text-align: right;\n",
              "    }\n",
              "</style>\n",
              "<table border=\"1\" class=\"dataframe\">\n",
              "  <thead>\n",
              "    <tr style=\"text-align: right;\">\n",
              "      <th></th>\n",
              "      <th>LGA</th>\n",
              "      <th>latitude</th>\n",
              "      <th>longitude</th>\n",
              "      <th>Cluster Labels</th>\n",
              "      <th>1st Most Common Venue</th>\n",
              "      <th>2nd Most Common Venue</th>\n",
              "      <th>3rd Most Common Venue</th>\n",
              "      <th>4th Most Common Venue</th>\n",
              "      <th>5th Most Common Venue</th>\n",
              "      <th>6th Most Common Venue</th>\n",
              "      <th>7th Most Common Venue</th>\n",
              "      <th>8th Most Common Venue</th>\n",
              "      <th>9th Most Common Venue</th>\n",
              "      <th>10th Most Common Venue</th>\n",
              "    </tr>\n",
              "  </thead>\n",
              "  <tbody>\n",
              "    <tr>\n",
              "      <th>0</th>\n",
              "      <td>Alimosho</td>\n",
              "      <td>6.58434</td>\n",
              "      <td>3.257631</td>\n",
              "      <td>0</td>\n",
              "      <td>Fast Food Restaurant</td>\n",
              "      <td>Pizza Place</td>\n",
              "      <td>Restaurant</td>\n",
              "      <td>Burger Joint</td>\n",
              "      <td>Lounge</td>\n",
              "      <td>Park</td>\n",
              "      <td>Shopping Mall</td>\n",
              "      <td>Hotel</td>\n",
              "      <td>Wine Shop</td>\n",
              "      <td>Farmers Market</td>\n",
              "    </tr>\n",
              "    <tr>\n",
              "      <th>1</th>\n",
              "      <td>Ajeromi-Ifelodun</td>\n",
              "      <td>6.45512</td>\n",
              "      <td>3.335946</td>\n",
              "      <td>0</td>\n",
              "      <td>African Restaurant</td>\n",
              "      <td>Hotel</td>\n",
              "      <td>Lounge</td>\n",
              "      <td>Shopping Mall</td>\n",
              "      <td>Nightclub</td>\n",
              "      <td>Park</td>\n",
              "      <td>Pizza Place</td>\n",
              "      <td>Japanese Restaurant</td>\n",
              "      <td>Fast Food Restaurant</td>\n",
              "      <td>Movie Theater</td>\n",
              "    </tr>\n",
              "    <tr>\n",
              "      <th>2</th>\n",
              "      <td>Kosofe</td>\n",
              "      <td>6.58197</td>\n",
              "      <td>3.414836</td>\n",
              "      <td>0</td>\n",
              "      <td>Shopping Mall</td>\n",
              "      <td>Fast Food Restaurant</td>\n",
              "      <td>Nightclub</td>\n",
              "      <td>African Restaurant</td>\n",
              "      <td>Convenience Store</td>\n",
              "      <td>Pizza Place</td>\n",
              "      <td>Ice Cream Shop</td>\n",
              "      <td>Bar</td>\n",
              "      <td>BBQ Joint</td>\n",
              "      <td>Restaurant</td>\n",
              "    </tr>\n",
              "    <tr>\n",
              "      <th>3</th>\n",
              "      <td>Mushin, Lagos</td>\n",
              "      <td>6.53263</td>\n",
              "      <td>3.352022</td>\n",
              "      <td>0</td>\n",
              "      <td>Shopping Mall</td>\n",
              "      <td>Fast Food Restaurant</td>\n",
              "      <td>Pizza Place</td>\n",
              "      <td>African Restaurant</td>\n",
              "      <td>Nightclub</td>\n",
              "      <td>Department Store</td>\n",
              "      <td>Lounge</td>\n",
              "      <td>Hotel</td>\n",
              "      <td>Convenience Store</td>\n",
              "      <td>Chinese Restaurant</td>\n",
              "    </tr>\n",
              "    <tr>\n",
              "      <th>4</th>\n",
              "      <td>Oshodi-Isolo</td>\n",
              "      <td>6.54001</td>\n",
              "      <td>3.312415</td>\n",
              "      <td>0</td>\n",
              "      <td>Fast Food Restaurant</td>\n",
              "      <td>Shopping Mall</td>\n",
              "      <td>African Restaurant</td>\n",
              "      <td>Hotel</td>\n",
              "      <td>Pizza Place</td>\n",
              "      <td>Bar</td>\n",
              "      <td>Nightclub</td>\n",
              "      <td>Department Store</td>\n",
              "      <td>Lounge</td>\n",
              "      <td>Chinese Restaurant</td>\n",
              "    </tr>\n",
              "    <tr>\n",
              "      <th>5</th>\n",
              "      <td>Ojo</td>\n",
              "      <td>1.09584</td>\n",
              "      <td>-76.611069</td>\n",
              "      <td>1</td>\n",
              "      <td>Hotel</td>\n",
              "      <td>Restaurant</td>\n",
              "      <td>Park</td>\n",
              "      <td>Wine Shop</td>\n",
              "      <td>Campground</td>\n",
              "      <td>Chinese Restaurant</td>\n",
              "      <td>Clothing Store</td>\n",
              "      <td>Cocktail Bar</td>\n",
              "      <td>Coffee Shop</td>\n",
              "      <td>Comedy Club</td>\n",
              "    </tr>\n",
              "    <tr>\n",
              "      <th>6</th>\n",
              "      <td>Ikorodu</td>\n",
              "      <td>6.61912</td>\n",
              "      <td>3.504127</td>\n",
              "      <td>0</td>\n",
              "      <td>Hotel Bar</td>\n",
              "      <td>African Restaurant</td>\n",
              "      <td>Bar</td>\n",
              "      <td>Mobile Phone Shop</td>\n",
              "      <td>Comedy Club</td>\n",
              "      <td>Café</td>\n",
              "      <td>Pizza Place</td>\n",
              "      <td>Beach</td>\n",
              "      <td>Bus Station</td>\n",
              "      <td>Art Gallery</td>\n",
              "    </tr>\n",
              "    <tr>\n",
              "      <th>7</th>\n",
              "      <td>Surulere</td>\n",
              "      <td>6.4872</td>\n",
              "      <td>3.353259</td>\n",
              "      <td>0</td>\n",
              "      <td>Hotel</td>\n",
              "      <td>African Restaurant</td>\n",
              "      <td>Lounge</td>\n",
              "      <td>Shopping Mall</td>\n",
              "      <td>Bar</td>\n",
              "      <td>Department Store</td>\n",
              "      <td>Nightclub</td>\n",
              "      <td>Pizza Place</td>\n",
              "      <td>Fast Food Restaurant</td>\n",
              "      <td>Art Gallery</td>\n",
              "    </tr>\n",
              "    <tr>\n",
              "      <th>8</th>\n",
              "      <td>Agege</td>\n",
              "      <td>6.62526</td>\n",
              "      <td>3.311209</td>\n",
              "      <td>0</td>\n",
              "      <td>Shopping Mall</td>\n",
              "      <td>Fast Food Restaurant</td>\n",
              "      <td>Pizza Place</td>\n",
              "      <td>Convenience Store</td>\n",
              "      <td>Hotel</td>\n",
              "      <td>Lounge</td>\n",
              "      <td>Restaurant</td>\n",
              "      <td>Ice Cream Shop</td>\n",
              "      <td>Chinese Restaurant</td>\n",
              "      <td>Burger Joint</td>\n",
              "    </tr>\n",
              "    <tr>\n",
              "      <th>9</th>\n",
              "      <td>Ifako-Ijaiye</td>\n",
              "      <td>6.6636</td>\n",
              "      <td>3.289491</td>\n",
              "      <td>0</td>\n",
              "      <td>Fast Food Restaurant</td>\n",
              "      <td>Shopping Mall</td>\n",
              "      <td>Pizza Place</td>\n",
              "      <td>Hotel</td>\n",
              "      <td>Restaurant</td>\n",
              "      <td>Burger Joint</td>\n",
              "      <td>BBQ Joint</td>\n",
              "      <td>Chinese Restaurant</td>\n",
              "      <td>Bus Station</td>\n",
              "      <td>Bar</td>\n",
              "    </tr>\n",
              "    <tr>\n",
              "      <th>10</th>\n",
              "      <td>Somolu</td>\n",
              "      <td>6.58333</td>\n",
              "      <td>3.466667</td>\n",
              "      <td>0</td>\n",
              "      <td>Bus Station</td>\n",
              "      <td>Pizza Place</td>\n",
              "      <td>Convenience Store</td>\n",
              "      <td>Department Store</td>\n",
              "      <td>Fast Food Restaurant</td>\n",
              "      <td>Snack Place</td>\n",
              "      <td>Beach</td>\n",
              "      <td>Market</td>\n",
              "      <td>Bar</td>\n",
              "      <td>Restaurant</td>\n",
              "    </tr>\n",
              "    <tr>\n",
              "      <th>11</th>\n",
              "      <td>Amuwo-Odofin</td>\n",
              "      <td>6.44702</td>\n",
              "      <td>3.266280</td>\n",
              "      <td>0</td>\n",
              "      <td>Hotel</td>\n",
              "      <td>Park</td>\n",
              "      <td>Fast Food Restaurant</td>\n",
              "      <td>African Restaurant</td>\n",
              "      <td>Shopping Mall</td>\n",
              "      <td>Chinese Restaurant</td>\n",
              "      <td>Mobile Phone Shop</td>\n",
              "      <td>Bike Rental / Bike Share</td>\n",
              "      <td>Beach</td>\n",
              "      <td>Pool</td>\n",
              "    </tr>\n",
              "    <tr>\n",
              "      <th>12</th>\n",
              "      <td>Lagos Mainland</td>\n",
              "      <td>6.49306</td>\n",
              "      <td>3.388250</td>\n",
              "      <td>0</td>\n",
              "      <td>Hotel</td>\n",
              "      <td>Lounge</td>\n",
              "      <td>Shopping Mall</td>\n",
              "      <td>African Restaurant</td>\n",
              "      <td>Nightclub</td>\n",
              "      <td>Bar</td>\n",
              "      <td>Restaurant</td>\n",
              "      <td>Pizza Place</td>\n",
              "      <td>Ice Cream Shop</td>\n",
              "      <td>Fast Food Restaurant</td>\n",
              "    </tr>\n",
              "    <tr>\n",
              "      <th>13</th>\n",
              "      <td>Ikeja</td>\n",
              "      <td>6.60486</td>\n",
              "      <td>3.353204</td>\n",
              "      <td>0</td>\n",
              "      <td>Fast Food Restaurant</td>\n",
              "      <td>Pizza Place</td>\n",
              "      <td>Shopping Mall</td>\n",
              "      <td>Lounge</td>\n",
              "      <td>Bar</td>\n",
              "      <td>Hotel</td>\n",
              "      <td>Convenience Store</td>\n",
              "      <td>Restaurant</td>\n",
              "      <td>Ice Cream Shop</td>\n",
              "      <td>Department Store</td>\n",
              "    </tr>\n",
              "    <tr>\n",
              "      <th>14</th>\n",
              "      <td>Eti-Osa</td>\n",
              "      <td>6.46023</td>\n",
              "      <td>3.532181</td>\n",
              "      <td>0</td>\n",
              "      <td>Lounge</td>\n",
              "      <td>Hotel</td>\n",
              "      <td>Bar</td>\n",
              "      <td>Beach</td>\n",
              "      <td>Ice Cream Shop</td>\n",
              "      <td>Fast Food Restaurant</td>\n",
              "      <td>Gym / Fitness Center</td>\n",
              "      <td>Pizza Place</td>\n",
              "      <td>Convenience Store</td>\n",
              "      <td>Department Store</td>\n",
              "    </tr>\n",
              "    <tr>\n",
              "      <th>15</th>\n",
              "      <td>Badagry</td>\n",
              "      <td>6.43873</td>\n",
              "      <td>2.907486</td>\n",
              "      <td>3</td>\n",
              "      <td>History Museum</td>\n",
              "      <td>Museum</td>\n",
              "      <td>Fast Food Restaurant</td>\n",
              "      <td>Beer Garden</td>\n",
              "      <td>Wine Shop</td>\n",
              "      <td>Cupcake Shop</td>\n",
              "      <td>Chinese Restaurant</td>\n",
              "      <td>Clothing Store</td>\n",
              "      <td>Cocktail Bar</td>\n",
              "      <td>Coffee Shop</td>\n",
              "    </tr>\n",
              "    <tr>\n",
              "      <th>16</th>\n",
              "      <td>Apapa</td>\n",
              "      <td>6.44519</td>\n",
              "      <td>3.368373</td>\n",
              "      <td>0</td>\n",
              "      <td>Hotel</td>\n",
              "      <td>African Restaurant</td>\n",
              "      <td>Lounge</td>\n",
              "      <td>Restaurant</td>\n",
              "      <td>Nightclub</td>\n",
              "      <td>Japanese Restaurant</td>\n",
              "      <td>Ice Cream Shop</td>\n",
              "      <td>Art Gallery</td>\n",
              "      <td>Pizza Place</td>\n",
              "      <td>Diner</td>\n",
              "    </tr>\n",
              "    <tr>\n",
              "      <th>17</th>\n",
              "      <td>Lagos Island</td>\n",
              "      <td>6.51486</td>\n",
              "      <td>3.490866</td>\n",
              "      <td>0</td>\n",
              "      <td>Lounge</td>\n",
              "      <td>Hotel</td>\n",
              "      <td>Ice Cream Shop</td>\n",
              "      <td>Bar</td>\n",
              "      <td>Spa</td>\n",
              "      <td>Beach</td>\n",
              "      <td>Convenience Store</td>\n",
              "      <td>Bus Station</td>\n",
              "      <td>Shopping Mall</td>\n",
              "      <td>Gas Station</td>\n",
              "    </tr>\n",
              "    <tr>\n",
              "      <th>18</th>\n",
              "      <td>Epe</td>\n",
              "      <td>6.52475</td>\n",
              "      <td>4.057246</td>\n",
              "      <td>2</td>\n",
              "      <td>Hotel</td>\n",
              "      <td>Other Great Outdoors</td>\n",
              "      <td>Wine Shop</td>\n",
              "      <td>Department Store</td>\n",
              "      <td>Campground</td>\n",
              "      <td>Chinese Restaurant</td>\n",
              "      <td>Clothing Store</td>\n",
              "      <td>Cocktail Bar</td>\n",
              "      <td>Coffee Shop</td>\n",
              "      <td>Comedy Club</td>\n",
              "    </tr>\n",
              "    <tr>\n",
              "      <th>19</th>\n",
              "      <td>Ibeju-Lekki</td>\n",
              "      <td>6.47113</td>\n",
              "      <td>3.814750</td>\n",
              "      <td>4</td>\n",
              "      <td>Golf Course</td>\n",
              "      <td>Arcade</td>\n",
              "      <td>Beach</td>\n",
              "      <td>Resort</td>\n",
              "      <td>Department Store</td>\n",
              "      <td>Chinese Restaurant</td>\n",
              "      <td>Clothing Store</td>\n",
              "      <td>Cocktail Bar</td>\n",
              "      <td>Coffee Shop</td>\n",
              "      <td>Comedy Club</td>\n",
              "    </tr>\n",
              "  </tbody>\n",
              "</table>\n",
              "</div>"
            ],
            "text/plain": [
              "                 LGA latitude  ...  9th Most Common Venue  10th Most Common Venue\n",
              "0           Alimosho  6.58434  ...              Wine Shop          Farmers Market\n",
              "1   Ajeromi-Ifelodun  6.45512  ...   Fast Food Restaurant           Movie Theater\n",
              "2             Kosofe  6.58197  ...              BBQ Joint              Restaurant\n",
              "3      Mushin, Lagos  6.53263  ...      Convenience Store      Chinese Restaurant\n",
              "4       Oshodi-Isolo  6.54001  ...                 Lounge      Chinese Restaurant\n",
              "5                Ojo  1.09584  ...            Coffee Shop             Comedy Club\n",
              "6            Ikorodu  6.61912  ...            Bus Station             Art Gallery\n",
              "7           Surulere   6.4872  ...   Fast Food Restaurant             Art Gallery\n",
              "8              Agege  6.62526  ...     Chinese Restaurant            Burger Joint\n",
              "9       Ifako-Ijaiye   6.6636  ...            Bus Station                     Bar\n",
              "10            Somolu  6.58333  ...                    Bar              Restaurant\n",
              "11      Amuwo-Odofin  6.44702  ...                  Beach                    Pool\n",
              "12    Lagos Mainland  6.49306  ...         Ice Cream Shop    Fast Food Restaurant\n",
              "13             Ikeja  6.60486  ...         Ice Cream Shop        Department Store\n",
              "14           Eti-Osa  6.46023  ...      Convenience Store        Department Store\n",
              "15           Badagry  6.43873  ...           Cocktail Bar             Coffee Shop\n",
              "16             Apapa  6.44519  ...            Pizza Place                   Diner\n",
              "17      Lagos Island  6.51486  ...          Shopping Mall             Gas Station\n",
              "18               Epe  6.52475  ...            Coffee Shop             Comedy Club\n",
              "19       Ibeju-Lekki  6.47113  ...            Coffee Shop             Comedy Club\n",
              "\n",
              "[20 rows x 14 columns]"
            ]
          },
          "metadata": {
            "tags": []
          },
          "execution_count": 96
        }
      ]
    },
    {
      "cell_type": "markdown",
      "metadata": {
        "id": "FNQ0QWmuntpt",
        "colab_type": "text"
      },
      "source": [
        "####  let's visualize the resulting clusters\n"
      ]
    },
    {
      "cell_type": "code",
      "metadata": {
        "id": "BVMZeNACnr0n",
        "colab_type": "code",
        "outputId": "71c2252f-4b32-41f0-84a4-5a2aed45938c",
        "colab": {
          "base_uri": "https://localhost:8080/",
          "height": 858
        }
      },
      "source": [
        "# create map\n",
        "map_clusters = folium.Map(location=[latitude, longitude], zoom_start=10)\n",
        "\n",
        "# set color scheme for the clusters\n",
        "x = np.arange(kclusters)\n",
        "ys = [i + x + (i*x)**2 for i in range(kclusters)]\n",
        "colors_array = cm.rainbow(np.linspace(0, 1, len(ys)))\n",
        "rainbow = [colors.rgb2hex(i) for i in colors_array]\n",
        "\n",
        "# add markers to the map\n",
        "markers_colors = []\n",
        "for lat, lon, poi, cluster in zip(lagos_merged['latitude'], lagos_merged['longitude'], lagos_merged['LGA'], lagos_merged['Cluster Labels']):\n",
        "    label = folium.Popup(str(poi) + ' Cluster ' + str(cluster), parse_html=True)\n",
        "    folium.CircleMarker(\n",
        "        [lat, lon],\n",
        "        radius=5,\n",
        "        popup=label,\n",
        "        color=rainbow[cluster-1],\n",
        "        fill=True,\n",
        "        fill_color= rainbow[cluster-1],\n",
        "        fill_opacity=0.7).add_to(map_clusters)\n",
        "       \n",
        "map_clusters"
      ],
      "execution_count": 97,
      "outputs": [
        {
          "output_type": "execute_result",
          "data": {
            "text/html": [
              "<div style=\"width:100%;\"><div style=\"position:relative;width:100%;height:0;padding-bottom:60%;\"><iframe src=\"data:text/html;charset=utf-8;base64,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\" style=\"position:absolute;width:100%;height:100%;left:0;top:0;border:none !important;\" allowfullscreen webkitallowfullscreen mozallowfullscreen></iframe></div></div>"
            ],
            "text/plain": [
              "<folium.folium.Map at 0x7f6f7f337320>"
            ]
          },
          "metadata": {
            "tags": []
          },
          "execution_count": 97
        }
      ]
    },
    {
      "cell_type": "markdown",
      "metadata": {
        "id": "vGq1z2uYqctm",
        "colab_type": "text"
      },
      "source": [
        "#### Inspecting The Clusters"
      ]
    },
    {
      "cell_type": "markdown",
      "metadata": {
        "id": "cBUXrfNSqnlO",
        "colab_type": "text"
      },
      "source": [
        "Now, we can examine each cluster and determine the discriminating venue categories that distinguish each cluster. Based on the defining categories, we can then assign a name to each cluster."
      ]
    },
    {
      "cell_type": "code",
      "metadata": {
        "id": "5shMGbmCppGE",
        "colab_type": "code",
        "outputId": "6b7375ea-cd72-4d86-a814-c85f06809fbe",
        "colab": {
          "base_uri": "https://localhost:8080/",
          "height": 101
        }
      },
      "source": [
        "cluster1 = lagos_merged[lagos_merged['Cluster Labels'] == 0]\n",
        "cluster2 = lagos_merged[lagos_merged['Cluster Labels'] == 1]\n",
        "cluster3 = lagos_merged[lagos_merged['Cluster Labels'] == 2]\n",
        "cluster4 = lagos_merged[lagos_merged['Cluster Labels'] == 3]\n",
        "cluster5 = lagos_merged[lagos_merged['Cluster Labels'] == 4]\n",
        "\n",
        "for i in range(5):\n",
        "    x = lagos_merged[lagos_merged['Cluster Labels'] == i]\n",
        "    print('cluster'+str(i+1) + ' shape is {}'.format(x.shape))"
      ],
      "execution_count": 98,
      "outputs": [
        {
          "output_type": "stream",
          "text": [
            "cluster1 shape is (16, 14)\n",
            "cluster2 shape is (1, 14)\n",
            "cluster3 shape is (1, 14)\n",
            "cluster4 shape is (1, 14)\n",
            "cluster5 shape is (1, 14)\n"
          ],
          "name": "stdout"
        }
      ]
    },
    {
      "cell_type": "markdown",
      "metadata": {
        "id": "RB6ekaahqSAk",
        "colab_type": "text"
      },
      "source": [
        "We can inspect Cluster One closely"
      ]
    },
    {
      "cell_type": "code",
      "metadata": {
        "id": "o-FD2g_Vpu16",
        "colab_type": "code",
        "outputId": "7b87640b-e47e-476d-e67d-d9b1a9ef8b2d",
        "colab": {
          "base_uri": "https://localhost:8080/",
          "height": 823
        }
      },
      "source": [
        "cluster_one = lagos_merged[lagos_merged['Cluster Labels'] == 0]\n",
        "cluster_one"
      ],
      "execution_count": 99,
      "outputs": [
        {
          "output_type": "execute_result",
          "data": {
            "text/html": [
              "<div>\n",
              "<style scoped>\n",
              "    .dataframe tbody tr th:only-of-type {\n",
              "        vertical-align: middle;\n",
              "    }\n",
              "\n",
              "    .dataframe tbody tr th {\n",
              "        vertical-align: top;\n",
              "    }\n",
              "\n",
              "    .dataframe thead th {\n",
              "        text-align: right;\n",
              "    }\n",
              "</style>\n",
              "<table border=\"1\" class=\"dataframe\">\n",
              "  <thead>\n",
              "    <tr style=\"text-align: right;\">\n",
              "      <th></th>\n",
              "      <th>LGA</th>\n",
              "      <th>latitude</th>\n",
              "      <th>longitude</th>\n",
              "      <th>Cluster Labels</th>\n",
              "      <th>1st Most Common Venue</th>\n",
              "      <th>2nd Most Common Venue</th>\n",
              "      <th>3rd Most Common Venue</th>\n",
              "      <th>4th Most Common Venue</th>\n",
              "      <th>5th Most Common Venue</th>\n",
              "      <th>6th Most Common Venue</th>\n",
              "      <th>7th Most Common Venue</th>\n",
              "      <th>8th Most Common Venue</th>\n",
              "      <th>9th Most Common Venue</th>\n",
              "      <th>10th Most Common Venue</th>\n",
              "    </tr>\n",
              "  </thead>\n",
              "  <tbody>\n",
              "    <tr>\n",
              "      <th>0</th>\n",
              "      <td>Alimosho</td>\n",
              "      <td>6.58434</td>\n",
              "      <td>3.257631</td>\n",
              "      <td>0</td>\n",
              "      <td>Fast Food Restaurant</td>\n",
              "      <td>Pizza Place</td>\n",
              "      <td>Restaurant</td>\n",
              "      <td>Burger Joint</td>\n",
              "      <td>Lounge</td>\n",
              "      <td>Park</td>\n",
              "      <td>Shopping Mall</td>\n",
              "      <td>Hotel</td>\n",
              "      <td>Wine Shop</td>\n",
              "      <td>Farmers Market</td>\n",
              "    </tr>\n",
              "    <tr>\n",
              "      <th>1</th>\n",
              "      <td>Ajeromi-Ifelodun</td>\n",
              "      <td>6.45512</td>\n",
              "      <td>3.335946</td>\n",
              "      <td>0</td>\n",
              "      <td>African Restaurant</td>\n",
              "      <td>Hotel</td>\n",
              "      <td>Lounge</td>\n",
              "      <td>Shopping Mall</td>\n",
              "      <td>Nightclub</td>\n",
              "      <td>Park</td>\n",
              "      <td>Pizza Place</td>\n",
              "      <td>Japanese Restaurant</td>\n",
              "      <td>Fast Food Restaurant</td>\n",
              "      <td>Movie Theater</td>\n",
              "    </tr>\n",
              "    <tr>\n",
              "      <th>2</th>\n",
              "      <td>Kosofe</td>\n",
              "      <td>6.58197</td>\n",
              "      <td>3.414836</td>\n",
              "      <td>0</td>\n",
              "      <td>Shopping Mall</td>\n",
              "      <td>Fast Food Restaurant</td>\n",
              "      <td>Nightclub</td>\n",
              "      <td>African Restaurant</td>\n",
              "      <td>Convenience Store</td>\n",
              "      <td>Pizza Place</td>\n",
              "      <td>Ice Cream Shop</td>\n",
              "      <td>Bar</td>\n",
              "      <td>BBQ Joint</td>\n",
              "      <td>Restaurant</td>\n",
              "    </tr>\n",
              "    <tr>\n",
              "      <th>3</th>\n",
              "      <td>Mushin, Lagos</td>\n",
              "      <td>6.53263</td>\n",
              "      <td>3.352022</td>\n",
              "      <td>0</td>\n",
              "      <td>Shopping Mall</td>\n",
              "      <td>Fast Food Restaurant</td>\n",
              "      <td>Pizza Place</td>\n",
              "      <td>African Restaurant</td>\n",
              "      <td>Nightclub</td>\n",
              "      <td>Department Store</td>\n",
              "      <td>Lounge</td>\n",
              "      <td>Hotel</td>\n",
              "      <td>Convenience Store</td>\n",
              "      <td>Chinese Restaurant</td>\n",
              "    </tr>\n",
              "    <tr>\n",
              "      <th>4</th>\n",
              "      <td>Oshodi-Isolo</td>\n",
              "      <td>6.54001</td>\n",
              "      <td>3.312415</td>\n",
              "      <td>0</td>\n",
              "      <td>Fast Food Restaurant</td>\n",
              "      <td>Shopping Mall</td>\n",
              "      <td>African Restaurant</td>\n",
              "      <td>Hotel</td>\n",
              "      <td>Pizza Place</td>\n",
              "      <td>Bar</td>\n",
              "      <td>Nightclub</td>\n",
              "      <td>Department Store</td>\n",
              "      <td>Lounge</td>\n",
              "      <td>Chinese Restaurant</td>\n",
              "    </tr>\n",
              "    <tr>\n",
              "      <th>6</th>\n",
              "      <td>Ikorodu</td>\n",
              "      <td>6.61912</td>\n",
              "      <td>3.504127</td>\n",
              "      <td>0</td>\n",
              "      <td>Hotel Bar</td>\n",
              "      <td>African Restaurant</td>\n",
              "      <td>Bar</td>\n",
              "      <td>Mobile Phone Shop</td>\n",
              "      <td>Comedy Club</td>\n",
              "      <td>Café</td>\n",
              "      <td>Pizza Place</td>\n",
              "      <td>Beach</td>\n",
              "      <td>Bus Station</td>\n",
              "      <td>Art Gallery</td>\n",
              "    </tr>\n",
              "    <tr>\n",
              "      <th>7</th>\n",
              "      <td>Surulere</td>\n",
              "      <td>6.4872</td>\n",
              "      <td>3.353259</td>\n",
              "      <td>0</td>\n",
              "      <td>Hotel</td>\n",
              "      <td>African Restaurant</td>\n",
              "      <td>Lounge</td>\n",
              "      <td>Shopping Mall</td>\n",
              "      <td>Bar</td>\n",
              "      <td>Department Store</td>\n",
              "      <td>Nightclub</td>\n",
              "      <td>Pizza Place</td>\n",
              "      <td>Fast Food Restaurant</td>\n",
              "      <td>Art Gallery</td>\n",
              "    </tr>\n",
              "    <tr>\n",
              "      <th>8</th>\n",
              "      <td>Agege</td>\n",
              "      <td>6.62526</td>\n",
              "      <td>3.311209</td>\n",
              "      <td>0</td>\n",
              "      <td>Shopping Mall</td>\n",
              "      <td>Fast Food Restaurant</td>\n",
              "      <td>Pizza Place</td>\n",
              "      <td>Convenience Store</td>\n",
              "      <td>Hotel</td>\n",
              "      <td>Lounge</td>\n",
              "      <td>Restaurant</td>\n",
              "      <td>Ice Cream Shop</td>\n",
              "      <td>Chinese Restaurant</td>\n",
              "      <td>Burger Joint</td>\n",
              "    </tr>\n",
              "    <tr>\n",
              "      <th>9</th>\n",
              "      <td>Ifako-Ijaiye</td>\n",
              "      <td>6.6636</td>\n",
              "      <td>3.289491</td>\n",
              "      <td>0</td>\n",
              "      <td>Fast Food Restaurant</td>\n",
              "      <td>Shopping Mall</td>\n",
              "      <td>Pizza Place</td>\n",
              "      <td>Hotel</td>\n",
              "      <td>Restaurant</td>\n",
              "      <td>Burger Joint</td>\n",
              "      <td>BBQ Joint</td>\n",
              "      <td>Chinese Restaurant</td>\n",
              "      <td>Bus Station</td>\n",
              "      <td>Bar</td>\n",
              "    </tr>\n",
              "    <tr>\n",
              "      <th>10</th>\n",
              "      <td>Somolu</td>\n",
              "      <td>6.58333</td>\n",
              "      <td>3.466667</td>\n",
              "      <td>0</td>\n",
              "      <td>Bus Station</td>\n",
              "      <td>Pizza Place</td>\n",
              "      <td>Convenience Store</td>\n",
              "      <td>Department Store</td>\n",
              "      <td>Fast Food Restaurant</td>\n",
              "      <td>Snack Place</td>\n",
              "      <td>Beach</td>\n",
              "      <td>Market</td>\n",
              "      <td>Bar</td>\n",
              "      <td>Restaurant</td>\n",
              "    </tr>\n",
              "    <tr>\n",
              "      <th>11</th>\n",
              "      <td>Amuwo-Odofin</td>\n",
              "      <td>6.44702</td>\n",
              "      <td>3.266280</td>\n",
              "      <td>0</td>\n",
              "      <td>Hotel</td>\n",
              "      <td>Park</td>\n",
              "      <td>Fast Food Restaurant</td>\n",
              "      <td>African Restaurant</td>\n",
              "      <td>Shopping Mall</td>\n",
              "      <td>Chinese Restaurant</td>\n",
              "      <td>Mobile Phone Shop</td>\n",
              "      <td>Bike Rental / Bike Share</td>\n",
              "      <td>Beach</td>\n",
              "      <td>Pool</td>\n",
              "    </tr>\n",
              "    <tr>\n",
              "      <th>12</th>\n",
              "      <td>Lagos Mainland</td>\n",
              "      <td>6.49306</td>\n",
              "      <td>3.388250</td>\n",
              "      <td>0</td>\n",
              "      <td>Hotel</td>\n",
              "      <td>Lounge</td>\n",
              "      <td>Shopping Mall</td>\n",
              "      <td>African Restaurant</td>\n",
              "      <td>Nightclub</td>\n",
              "      <td>Bar</td>\n",
              "      <td>Restaurant</td>\n",
              "      <td>Pizza Place</td>\n",
              "      <td>Ice Cream Shop</td>\n",
              "      <td>Fast Food Restaurant</td>\n",
              "    </tr>\n",
              "    <tr>\n",
              "      <th>13</th>\n",
              "      <td>Ikeja</td>\n",
              "      <td>6.60486</td>\n",
              "      <td>3.353204</td>\n",
              "      <td>0</td>\n",
              "      <td>Fast Food Restaurant</td>\n",
              "      <td>Pizza Place</td>\n",
              "      <td>Shopping Mall</td>\n",
              "      <td>Lounge</td>\n",
              "      <td>Bar</td>\n",
              "      <td>Hotel</td>\n",
              "      <td>Convenience Store</td>\n",
              "      <td>Restaurant</td>\n",
              "      <td>Ice Cream Shop</td>\n",
              "      <td>Department Store</td>\n",
              "    </tr>\n",
              "    <tr>\n",
              "      <th>14</th>\n",
              "      <td>Eti-Osa</td>\n",
              "      <td>6.46023</td>\n",
              "      <td>3.532181</td>\n",
              "      <td>0</td>\n",
              "      <td>Lounge</td>\n",
              "      <td>Hotel</td>\n",
              "      <td>Bar</td>\n",
              "      <td>Beach</td>\n",
              "      <td>Ice Cream Shop</td>\n",
              "      <td>Fast Food Restaurant</td>\n",
              "      <td>Gym / Fitness Center</td>\n",
              "      <td>Pizza Place</td>\n",
              "      <td>Convenience Store</td>\n",
              "      <td>Department Store</td>\n",
              "    </tr>\n",
              "    <tr>\n",
              "      <th>16</th>\n",
              "      <td>Apapa</td>\n",
              "      <td>6.44519</td>\n",
              "      <td>3.368373</td>\n",
              "      <td>0</td>\n",
              "      <td>Hotel</td>\n",
              "      <td>African Restaurant</td>\n",
              "      <td>Lounge</td>\n",
              "      <td>Restaurant</td>\n",
              "      <td>Nightclub</td>\n",
              "      <td>Japanese Restaurant</td>\n",
              "      <td>Ice Cream Shop</td>\n",
              "      <td>Art Gallery</td>\n",
              "      <td>Pizza Place</td>\n",
              "      <td>Diner</td>\n",
              "    </tr>\n",
              "    <tr>\n",
              "      <th>17</th>\n",
              "      <td>Lagos Island</td>\n",
              "      <td>6.51486</td>\n",
              "      <td>3.490866</td>\n",
              "      <td>0</td>\n",
              "      <td>Lounge</td>\n",
              "      <td>Hotel</td>\n",
              "      <td>Ice Cream Shop</td>\n",
              "      <td>Bar</td>\n",
              "      <td>Spa</td>\n",
              "      <td>Beach</td>\n",
              "      <td>Convenience Store</td>\n",
              "      <td>Bus Station</td>\n",
              "      <td>Shopping Mall</td>\n",
              "      <td>Gas Station</td>\n",
              "    </tr>\n",
              "  </tbody>\n",
              "</table>\n",
              "</div>"
            ],
            "text/plain": [
              "                 LGA latitude  ...  9th Most Common Venue  10th Most Common Venue\n",
              "0           Alimosho  6.58434  ...              Wine Shop          Farmers Market\n",
              "1   Ajeromi-Ifelodun  6.45512  ...   Fast Food Restaurant           Movie Theater\n",
              "2             Kosofe  6.58197  ...              BBQ Joint              Restaurant\n",
              "3      Mushin, Lagos  6.53263  ...      Convenience Store      Chinese Restaurant\n",
              "4       Oshodi-Isolo  6.54001  ...                 Lounge      Chinese Restaurant\n",
              "6            Ikorodu  6.61912  ...            Bus Station             Art Gallery\n",
              "7           Surulere   6.4872  ...   Fast Food Restaurant             Art Gallery\n",
              "8              Agege  6.62526  ...     Chinese Restaurant            Burger Joint\n",
              "9       Ifako-Ijaiye   6.6636  ...            Bus Station                     Bar\n",
              "10            Somolu  6.58333  ...                    Bar              Restaurant\n",
              "11      Amuwo-Odofin  6.44702  ...                  Beach                    Pool\n",
              "12    Lagos Mainland  6.49306  ...         Ice Cream Shop    Fast Food Restaurant\n",
              "13             Ikeja  6.60486  ...         Ice Cream Shop        Department Store\n",
              "14           Eti-Osa  6.46023  ...      Convenience Store        Department Store\n",
              "16             Apapa  6.44519  ...            Pizza Place                   Diner\n",
              "17      Lagos Island  6.51486  ...          Shopping Mall             Gas Station\n",
              "\n",
              "[16 rows x 14 columns]"
            ]
          },
          "metadata": {
            "tags": []
          },
          "execution_count": 99
        }
      ]
    },
    {
      "cell_type": "code",
      "metadata": {
        "id": "yBtHf9P21wsm",
        "colab_type": "code",
        "outputId": "74fb1f03-6a85-4a03-eed8-7545c030cc51",
        "colab": {
          "base_uri": "https://localhost:8080/",
          "height": 286
        }
      },
      "source": [
        "cluster1_lgas = list(cluster1['LGA'])\n",
        "cluster1_lgas"
      ],
      "execution_count": 100,
      "outputs": [
        {
          "output_type": "execute_result",
          "data": {
            "text/plain": [
              "['Alimosho',\n",
              " 'Ajeromi-Ifelodun',\n",
              " 'Kosofe',\n",
              " 'Mushin, Lagos',\n",
              " 'Oshodi-Isolo',\n",
              " 'Ikorodu',\n",
              " 'Surulere',\n",
              " 'Agege',\n",
              " 'Ifako-Ijaiye',\n",
              " 'Somolu',\n",
              " 'Amuwo-Odofin',\n",
              " 'Lagos Mainland',\n",
              " 'Ikeja',\n",
              " 'Eti-Osa',\n",
              " 'Apapa',\n",
              " 'Lagos Island']"
            ]
          },
          "metadata": {
            "tags": []
          },
          "execution_count": 100
        }
      ]
    },
    {
      "cell_type": "markdown",
      "metadata": {
        "id": "yi-hisBkq4NV",
        "colab_type": "text"
      },
      "source": [
        "We can inspect Cluster Two closely"
      ]
    },
    {
      "cell_type": "code",
      "metadata": {
        "id": "NsdQ2Oraq7x3",
        "colab_type": "code",
        "outputId": "8827b304-7834-4a68-f5a6-738f6dfb3587",
        "colab": {
          "base_uri": "https://localhost:8080/",
          "height": 110
        }
      },
      "source": [
        "cluster_two = lagos_merged[lagos_merged['Cluster Labels'] == 1]\n",
        "cluster_two"
      ],
      "execution_count": 101,
      "outputs": [
        {
          "output_type": "execute_result",
          "data": {
            "text/html": [
              "<div>\n",
              "<style scoped>\n",
              "    .dataframe tbody tr th:only-of-type {\n",
              "        vertical-align: middle;\n",
              "    }\n",
              "\n",
              "    .dataframe tbody tr th {\n",
              "        vertical-align: top;\n",
              "    }\n",
              "\n",
              "    .dataframe thead th {\n",
              "        text-align: right;\n",
              "    }\n",
              "</style>\n",
              "<table border=\"1\" class=\"dataframe\">\n",
              "  <thead>\n",
              "    <tr style=\"text-align: right;\">\n",
              "      <th></th>\n",
              "      <th>LGA</th>\n",
              "      <th>latitude</th>\n",
              "      <th>longitude</th>\n",
              "      <th>Cluster Labels</th>\n",
              "      <th>1st Most Common Venue</th>\n",
              "      <th>2nd Most Common Venue</th>\n",
              "      <th>3rd Most Common Venue</th>\n",
              "      <th>4th Most Common Venue</th>\n",
              "      <th>5th Most Common Venue</th>\n",
              "      <th>6th Most Common Venue</th>\n",
              "      <th>7th Most Common Venue</th>\n",
              "      <th>8th Most Common Venue</th>\n",
              "      <th>9th Most Common Venue</th>\n",
              "      <th>10th Most Common Venue</th>\n",
              "    </tr>\n",
              "  </thead>\n",
              "  <tbody>\n",
              "    <tr>\n",
              "      <th>5</th>\n",
              "      <td>Ojo</td>\n",
              "      <td>1.09584</td>\n",
              "      <td>-76.611069</td>\n",
              "      <td>1</td>\n",
              "      <td>Hotel</td>\n",
              "      <td>Restaurant</td>\n",
              "      <td>Park</td>\n",
              "      <td>Wine Shop</td>\n",
              "      <td>Campground</td>\n",
              "      <td>Chinese Restaurant</td>\n",
              "      <td>Clothing Store</td>\n",
              "      <td>Cocktail Bar</td>\n",
              "      <td>Coffee Shop</td>\n",
              "      <td>Comedy Club</td>\n",
              "    </tr>\n",
              "  </tbody>\n",
              "</table>\n",
              "</div>"
            ],
            "text/plain": [
              "   LGA latitude  ...  9th Most Common Venue  10th Most Common Venue\n",
              "5  Ojo  1.09584  ...            Coffee Shop             Comedy Club\n",
              "\n",
              "[1 rows x 14 columns]"
            ]
          },
          "metadata": {
            "tags": []
          },
          "execution_count": 101
        }
      ]
    },
    {
      "cell_type": "markdown",
      "metadata": {
        "id": "AmhYWNyGrbsQ",
        "colab_type": "text"
      },
      "source": [
        "We can inspect Cluster Three closely"
      ]
    },
    {
      "cell_type": "code",
      "metadata": {
        "id": "RlLDaTPWrd0f",
        "colab_type": "code",
        "outputId": "15e0c9b7-9390-443a-87f0-6d88deb05ca5",
        "colab": {
          "base_uri": "https://localhost:8080/",
          "height": 110
        }
      },
      "source": [
        "cluster_three = lagos_merged[lagos_merged['Cluster Labels'] == 2]\n",
        "cluster_three"
      ],
      "execution_count": 102,
      "outputs": [
        {
          "output_type": "execute_result",
          "data": {
            "text/html": [
              "<div>\n",
              "<style scoped>\n",
              "    .dataframe tbody tr th:only-of-type {\n",
              "        vertical-align: middle;\n",
              "    }\n",
              "\n",
              "    .dataframe tbody tr th {\n",
              "        vertical-align: top;\n",
              "    }\n",
              "\n",
              "    .dataframe thead th {\n",
              "        text-align: right;\n",
              "    }\n",
              "</style>\n",
              "<table border=\"1\" class=\"dataframe\">\n",
              "  <thead>\n",
              "    <tr style=\"text-align: right;\">\n",
              "      <th></th>\n",
              "      <th>LGA</th>\n",
              "      <th>latitude</th>\n",
              "      <th>longitude</th>\n",
              "      <th>Cluster Labels</th>\n",
              "      <th>1st Most Common Venue</th>\n",
              "      <th>2nd Most Common Venue</th>\n",
              "      <th>3rd Most Common Venue</th>\n",
              "      <th>4th Most Common Venue</th>\n",
              "      <th>5th Most Common Venue</th>\n",
              "      <th>6th Most Common Venue</th>\n",
              "      <th>7th Most Common Venue</th>\n",
              "      <th>8th Most Common Venue</th>\n",
              "      <th>9th Most Common Venue</th>\n",
              "      <th>10th Most Common Venue</th>\n",
              "    </tr>\n",
              "  </thead>\n",
              "  <tbody>\n",
              "    <tr>\n",
              "      <th>18</th>\n",
              "      <td>Epe</td>\n",
              "      <td>6.52475</td>\n",
              "      <td>4.057246</td>\n",
              "      <td>2</td>\n",
              "      <td>Hotel</td>\n",
              "      <td>Other Great Outdoors</td>\n",
              "      <td>Wine Shop</td>\n",
              "      <td>Department Store</td>\n",
              "      <td>Campground</td>\n",
              "      <td>Chinese Restaurant</td>\n",
              "      <td>Clothing Store</td>\n",
              "      <td>Cocktail Bar</td>\n",
              "      <td>Coffee Shop</td>\n",
              "      <td>Comedy Club</td>\n",
              "    </tr>\n",
              "  </tbody>\n",
              "</table>\n",
              "</div>"
            ],
            "text/plain": [
              "    LGA latitude  ...  9th Most Common Venue  10th Most Common Venue\n",
              "18  Epe  6.52475  ...            Coffee Shop             Comedy Club\n",
              "\n",
              "[1 rows x 14 columns]"
            ]
          },
          "metadata": {
            "tags": []
          },
          "execution_count": 102
        }
      ]
    },
    {
      "cell_type": "markdown",
      "metadata": {
        "id": "ZAjvvCz0rn38",
        "colab_type": "text"
      },
      "source": [
        "We can inspect Cluster Four closely"
      ]
    },
    {
      "cell_type": "code",
      "metadata": {
        "id": "iBCE8gNlro-5",
        "colab_type": "code",
        "outputId": "5461a1fd-1c51-462f-af09-6f1e5fa60361",
        "colab": {
          "base_uri": "https://localhost:8080/",
          "height": 110
        }
      },
      "source": [
        "cluster_four = lagos_merged[lagos_merged['Cluster Labels'] == 3]\n",
        "cluster_four"
      ],
      "execution_count": 103,
      "outputs": [
        {
          "output_type": "execute_result",
          "data": {
            "text/html": [
              "<div>\n",
              "<style scoped>\n",
              "    .dataframe tbody tr th:only-of-type {\n",
              "        vertical-align: middle;\n",
              "    }\n",
              "\n",
              "    .dataframe tbody tr th {\n",
              "        vertical-align: top;\n",
              "    }\n",
              "\n",
              "    .dataframe thead th {\n",
              "        text-align: right;\n",
              "    }\n",
              "</style>\n",
              "<table border=\"1\" class=\"dataframe\">\n",
              "  <thead>\n",
              "    <tr style=\"text-align: right;\">\n",
              "      <th></th>\n",
              "      <th>LGA</th>\n",
              "      <th>latitude</th>\n",
              "      <th>longitude</th>\n",
              "      <th>Cluster Labels</th>\n",
              "      <th>1st Most Common Venue</th>\n",
              "      <th>2nd Most Common Venue</th>\n",
              "      <th>3rd Most Common Venue</th>\n",
              "      <th>4th Most Common Venue</th>\n",
              "      <th>5th Most Common Venue</th>\n",
              "      <th>6th Most Common Venue</th>\n",
              "      <th>7th Most Common Venue</th>\n",
              "      <th>8th Most Common Venue</th>\n",
              "      <th>9th Most Common Venue</th>\n",
              "      <th>10th Most Common Venue</th>\n",
              "    </tr>\n",
              "  </thead>\n",
              "  <tbody>\n",
              "    <tr>\n",
              "      <th>15</th>\n",
              "      <td>Badagry</td>\n",
              "      <td>6.43873</td>\n",
              "      <td>2.907486</td>\n",
              "      <td>3</td>\n",
              "      <td>History Museum</td>\n",
              "      <td>Museum</td>\n",
              "      <td>Fast Food Restaurant</td>\n",
              "      <td>Beer Garden</td>\n",
              "      <td>Wine Shop</td>\n",
              "      <td>Cupcake Shop</td>\n",
              "      <td>Chinese Restaurant</td>\n",
              "      <td>Clothing Store</td>\n",
              "      <td>Cocktail Bar</td>\n",
              "      <td>Coffee Shop</td>\n",
              "    </tr>\n",
              "  </tbody>\n",
              "</table>\n",
              "</div>"
            ],
            "text/plain": [
              "        LGA latitude  ...  9th Most Common Venue  10th Most Common Venue\n",
              "15  Badagry  6.43873  ...           Cocktail Bar             Coffee Shop\n",
              "\n",
              "[1 rows x 14 columns]"
            ]
          },
          "metadata": {
            "tags": []
          },
          "execution_count": 103
        }
      ]
    },
    {
      "cell_type": "markdown",
      "metadata": {
        "id": "jSnoZNAzrxVE",
        "colab_type": "text"
      },
      "source": [
        "We can inspect Cluster Five closely"
      ]
    },
    {
      "cell_type": "code",
      "metadata": {
        "id": "aG7PJ-Larycm",
        "colab_type": "code",
        "outputId": "f48aa361-f0b7-467f-aa06-e99dad459604",
        "colab": {
          "base_uri": "https://localhost:8080/",
          "height": 110
        }
      },
      "source": [
        "cluster_five = lagos_merged[lagos_merged['Cluster Labels'] == 4]\n",
        "cluster_five"
      ],
      "execution_count": 104,
      "outputs": [
        {
          "output_type": "execute_result",
          "data": {
            "text/html": [
              "<div>\n",
              "<style scoped>\n",
              "    .dataframe tbody tr th:only-of-type {\n",
              "        vertical-align: middle;\n",
              "    }\n",
              "\n",
              "    .dataframe tbody tr th {\n",
              "        vertical-align: top;\n",
              "    }\n",
              "\n",
              "    .dataframe thead th {\n",
              "        text-align: right;\n",
              "    }\n",
              "</style>\n",
              "<table border=\"1\" class=\"dataframe\">\n",
              "  <thead>\n",
              "    <tr style=\"text-align: right;\">\n",
              "      <th></th>\n",
              "      <th>LGA</th>\n",
              "      <th>latitude</th>\n",
              "      <th>longitude</th>\n",
              "      <th>Cluster Labels</th>\n",
              "      <th>1st Most Common Venue</th>\n",
              "      <th>2nd Most Common Venue</th>\n",
              "      <th>3rd Most Common Venue</th>\n",
              "      <th>4th Most Common Venue</th>\n",
              "      <th>5th Most Common Venue</th>\n",
              "      <th>6th Most Common Venue</th>\n",
              "      <th>7th Most Common Venue</th>\n",
              "      <th>8th Most Common Venue</th>\n",
              "      <th>9th Most Common Venue</th>\n",
              "      <th>10th Most Common Venue</th>\n",
              "    </tr>\n",
              "  </thead>\n",
              "  <tbody>\n",
              "    <tr>\n",
              "      <th>19</th>\n",
              "      <td>Ibeju-Lekki</td>\n",
              "      <td>6.47113</td>\n",
              "      <td>3.81475</td>\n",
              "      <td>4</td>\n",
              "      <td>Golf Course</td>\n",
              "      <td>Arcade</td>\n",
              "      <td>Beach</td>\n",
              "      <td>Resort</td>\n",
              "      <td>Department Store</td>\n",
              "      <td>Chinese Restaurant</td>\n",
              "      <td>Clothing Store</td>\n",
              "      <td>Cocktail Bar</td>\n",
              "      <td>Coffee Shop</td>\n",
              "      <td>Comedy Club</td>\n",
              "    </tr>\n",
              "  </tbody>\n",
              "</table>\n",
              "</div>"
            ],
            "text/plain": [
              "            LGA latitude  ...  9th Most Common Venue  10th Most Common Venue\n",
              "19  Ibeju-Lekki  6.47113  ...            Coffee Shop             Comedy Club\n",
              "\n",
              "[1 rows x 14 columns]"
            ]
          },
          "metadata": {
            "tags": []
          },
          "execution_count": 104
        }
      ]
    },
    {
      "cell_type": "markdown",
      "metadata": {
        "id": "7XOaHfMSuow4",
        "colab_type": "text"
      },
      "source": [
        "#### Next let's display the names of the Top 10 venues from each LGA in Lagos State, using the word cloud application."
      ]
    },
    {
      "cell_type": "markdown",
      "metadata": {
        "id": "qbx4QQevcIYF",
        "colab_type": "text"
      },
      "source": [
        "The word cloud object emphasizes the most frequent words in a document or string, by making them bigger than others. In other words, the more frequent a word is in the word cloud object, the bigger the word becomes in comparison to other words."
      ]
    },
    {
      "cell_type": "code",
      "metadata": {
        "id": "OY3h-wUDNhRJ",
        "colab_type": "code",
        "outputId": "d2abadbe-18ca-49d6-cc6f-9e3f5cc10b65",
        "colab": {
          "base_uri": "https://localhost:8080/",
          "height": 34
        }
      },
      "source": [
        "from PIL import Image # Used for converting images into arrays\n",
        "\n",
        "# import wordcloud package and its set of stopwords\n",
        "from wordcloud import WordCloud, STOPWORDS\n",
        "\n",
        "print ('Wordcloud is installed and imported!')"
      ],
      "execution_count": 105,
      "outputs": [
        {
          "output_type": "stream",
          "text": [
            "Wordcloud is installed and imported!\n"
          ],
          "name": "stdout"
        }
      ]
    },
    {
      "cell_type": "markdown",
      "metadata": {
        "id": "dqLpXeUSOAXP",
        "colab_type": "text"
      },
      "source": [
        "Next, let's use the stopwords that we imported from word_cloud. We use the function set to remove any redundant stopwords.\n",
        "\n"
      ]
    },
    {
      "cell_type": "code",
      "metadata": {
        "id": "AO2srIc6OCO8",
        "colab_type": "code",
        "colab": {}
      },
      "source": [
        "stopwords = set(STOPWORDS)"
      ],
      "execution_count": 0,
      "outputs": []
    },
    {
      "cell_type": "markdown",
      "metadata": {
        "id": "NNzE6Q5Tbp81",
        "colab_type": "text"
      },
      "source": [
        "Next, let's select only needed columns from the DataFrame for our wordCloud object"
      ]
    },
    {
      "cell_type": "code",
      "metadata": {
        "id": "ERlc465eQDKQ",
        "colab_type": "code",
        "outputId": "e04c84a4-7abb-4dd2-f9af-a4163ba9ec3a",
        "colab": {
          "base_uri": "https://localhost:8080/",
          "height": 296
        }
      },
      "source": [
        "# Let's select only the columns in lagos_merged DataFrame that we need\n",
        "selection = lagos_merged.iloc[:, 4:]\n",
        "\n",
        "# Let's view the first 5 rows of our selection\n",
        "selection.head()"
      ],
      "execution_count": 107,
      "outputs": [
        {
          "output_type": "execute_result",
          "data": {
            "text/html": [
              "<div>\n",
              "<style scoped>\n",
              "    .dataframe tbody tr th:only-of-type {\n",
              "        vertical-align: middle;\n",
              "    }\n",
              "\n",
              "    .dataframe tbody tr th {\n",
              "        vertical-align: top;\n",
              "    }\n",
              "\n",
              "    .dataframe thead th {\n",
              "        text-align: right;\n",
              "    }\n",
              "</style>\n",
              "<table border=\"1\" class=\"dataframe\">\n",
              "  <thead>\n",
              "    <tr style=\"text-align: right;\">\n",
              "      <th></th>\n",
              "      <th>1st Most Common Venue</th>\n",
              "      <th>2nd Most Common Venue</th>\n",
              "      <th>3rd Most Common Venue</th>\n",
              "      <th>4th Most Common Venue</th>\n",
              "      <th>5th Most Common Venue</th>\n",
              "      <th>6th Most Common Venue</th>\n",
              "      <th>7th Most Common Venue</th>\n",
              "      <th>8th Most Common Venue</th>\n",
              "      <th>9th Most Common Venue</th>\n",
              "      <th>10th Most Common Venue</th>\n",
              "    </tr>\n",
              "  </thead>\n",
              "  <tbody>\n",
              "    <tr>\n",
              "      <th>0</th>\n",
              "      <td>Fast Food Restaurant</td>\n",
              "      <td>Pizza Place</td>\n",
              "      <td>Restaurant</td>\n",
              "      <td>Burger Joint</td>\n",
              "      <td>Lounge</td>\n",
              "      <td>Park</td>\n",
              "      <td>Shopping Mall</td>\n",
              "      <td>Hotel</td>\n",
              "      <td>Wine Shop</td>\n",
              "      <td>Farmers Market</td>\n",
              "    </tr>\n",
              "    <tr>\n",
              "      <th>1</th>\n",
              "      <td>African Restaurant</td>\n",
              "      <td>Hotel</td>\n",
              "      <td>Lounge</td>\n",
              "      <td>Shopping Mall</td>\n",
              "      <td>Nightclub</td>\n",
              "      <td>Park</td>\n",
              "      <td>Pizza Place</td>\n",
              "      <td>Japanese Restaurant</td>\n",
              "      <td>Fast Food Restaurant</td>\n",
              "      <td>Movie Theater</td>\n",
              "    </tr>\n",
              "    <tr>\n",
              "      <th>2</th>\n",
              "      <td>Shopping Mall</td>\n",
              "      <td>Fast Food Restaurant</td>\n",
              "      <td>Nightclub</td>\n",
              "      <td>African Restaurant</td>\n",
              "      <td>Convenience Store</td>\n",
              "      <td>Pizza Place</td>\n",
              "      <td>Ice Cream Shop</td>\n",
              "      <td>Bar</td>\n",
              "      <td>BBQ Joint</td>\n",
              "      <td>Restaurant</td>\n",
              "    </tr>\n",
              "    <tr>\n",
              "      <th>3</th>\n",
              "      <td>Shopping Mall</td>\n",
              "      <td>Fast Food Restaurant</td>\n",
              "      <td>Pizza Place</td>\n",
              "      <td>African Restaurant</td>\n",
              "      <td>Nightclub</td>\n",
              "      <td>Department Store</td>\n",
              "      <td>Lounge</td>\n",
              "      <td>Hotel</td>\n",
              "      <td>Convenience Store</td>\n",
              "      <td>Chinese Restaurant</td>\n",
              "    </tr>\n",
              "    <tr>\n",
              "      <th>4</th>\n",
              "      <td>Fast Food Restaurant</td>\n",
              "      <td>Shopping Mall</td>\n",
              "      <td>African Restaurant</td>\n",
              "      <td>Hotel</td>\n",
              "      <td>Pizza Place</td>\n",
              "      <td>Bar</td>\n",
              "      <td>Nightclub</td>\n",
              "      <td>Department Store</td>\n",
              "      <td>Lounge</td>\n",
              "      <td>Chinese Restaurant</td>\n",
              "    </tr>\n",
              "  </tbody>\n",
              "</table>\n",
              "</div>"
            ],
            "text/plain": [
              "  1st Most Common Venue  ... 10th Most Common Venue\n",
              "0  Fast Food Restaurant  ...         Farmers Market\n",
              "1    African Restaurant  ...          Movie Theater\n",
              "2         Shopping Mall  ...             Restaurant\n",
              "3         Shopping Mall  ...     Chinese Restaurant\n",
              "4  Fast Food Restaurant  ...     Chinese Restaurant\n",
              "\n",
              "[5 rows x 10 columns]"
            ]
          },
          "metadata": {
            "tags": []
          },
          "execution_count": 107
        }
      ]
    },
    {
      "cell_type": "markdown",
      "metadata": {
        "id": "W89RmyUDOPkO",
        "colab_type": "text"
      },
      "source": [
        "Next, let's create a string object with all the venue category words from the DataFrame showing the first 10 Top categories per LGA (lagos_merged)."
      ]
    },
    {
      "cell_type": "code",
      "metadata": {
        "id": "qzBDiMesRDYb",
        "colab_type": "code",
        "outputId": "21429030-9dcd-4c0c-a8ee-21ba50365c28",
        "colab": {
          "base_uri": "https://localhost:8080/",
          "height": 70
        }
      },
      "source": [
        "# Next lets write code to iterate through each column of our selection DataFrame and append each category word to a string object\n",
        "\n",
        "col_list = list(selection.columns)\n",
        "\n",
        "words = ''\n",
        "\n",
        "for i in col_list:\n",
        "    for j in list(selection[i]):\n",
        "        words += j\n",
        "        words += ', '\n",
        "\n",
        "print(len(words))\n",
        "words"
      ],
      "execution_count": 108,
      "outputs": [
        {
          "output_type": "stream",
          "text": [
            "2690\n"
          ],
          "name": "stdout"
        },
        {
          "output_type": "execute_result",
          "data": {
            "text/plain": [
              "'Fast Food Restaurant, African Restaurant, Shopping Mall, Shopping Mall, Fast Food Restaurant, Hotel, Hotel Bar, Hotel, Shopping Mall, Fast Food Restaurant, Bus Station, Hotel, Hotel, Fast Food Restaurant, Lounge, History Museum, Hotel, Lounge, Hotel, Golf Course, Pizza Place, Hotel, Fast Food Restaurant, Fast Food Restaurant, Shopping Mall, Restaurant, African Restaurant, African Restaurant, Fast Food Restaurant, Shopping Mall, Pizza Place, Park, Lounge, Pizza Place, Hotel, Museum, African Restaurant, Hotel, Other Great Outdoors, Arcade, Restaurant, Lounge, Nightclub, Pizza Place, African Restaurant, Park, Bar, Lounge, Pizza Place, Pizza Place, Convenience Store, Fast Food Restaurant, Shopping Mall, Shopping Mall, Bar, Fast Food Restaurant, Lounge, Ice Cream Shop, Wine Shop, Beach, Burger Joint, Shopping Mall, African Restaurant, African Restaurant, Hotel, Wine Shop, Mobile Phone Shop, Shopping Mall, Convenience Store, Hotel, Department Store, African Restaurant, African Restaurant, Lounge, Beach, Beer Garden, Restaurant, Bar, Department Store, Resort, Lounge, Nightclub, Convenience Store, Nightclub, Pizza Place, Campground, Comedy Club, Bar, Hotel, Restaurant, Fast Food Restaurant, Shopping Mall, Nightclub, Bar, Ice Cream Shop, Wine Shop, Nightclub, Spa, Campground, Department Store, Park, Park, Pizza Place, Department Store, Bar, Chinese Restaurant, Café, Department Store, Lounge, Burger Joint, Snack Place, Chinese Restaurant, Bar, Hotel, Fast Food Restaurant, Cupcake Shop, Japanese Restaurant, Beach, Chinese Restaurant, Chinese Restaurant, Shopping Mall, Pizza Place, Ice Cream Shop, Lounge, Nightclub, Clothing Store, Pizza Place, Nightclub, Restaurant, BBQ Joint, Beach, Mobile Phone Shop, Restaurant, Convenience Store, Gym / Fitness Center, Chinese Restaurant, Ice Cream Shop, Convenience Store, Clothing Store, Clothing Store, Hotel, Japanese Restaurant, Bar, Hotel, Department Store, Cocktail Bar, Beach, Pizza Place, Ice Cream Shop, Chinese Restaurant, Market, Bike Rental / Bike Share, Pizza Place, Restaurant, Pizza Place, Clothing Store, Art Gallery, Bus Station, Cocktail Bar, Cocktail Bar, Wine Shop, Fast Food Restaurant, BBQ Joint, Convenience Store, Lounge, Coffee Shop, Bus Station, Fast Food Restaurant, Chinese Restaurant, Bus Station, Bar, Beach, Ice Cream Shop, Ice Cream Shop, Convenience Store, Cocktail Bar, Pizza Place, Shopping Mall, Coffee Shop, Coffee Shop, Farmers Market, Movie Theater, Restaurant, Chinese Restaurant, Chinese Restaurant, Comedy Club, Art Gallery, Art Gallery, Burger Joint, Bar, Restaurant, Pool, Fast Food Restaurant, Department Store, Department Store, Coffee Shop, Diner, Gas Station, Comedy Club, Comedy Club, '"
            ]
          },
          "metadata": {
            "tags": []
          },
          "execution_count": 108
        }
      ]
    },
    {
      "cell_type": "markdown",
      "metadata": {
        "id": "L9azUJHeXHG4",
        "colab_type": "text"
      },
      "source": [
        "We have about 2690 words for our wordCloud application. let's go on."
      ]
    },
    {
      "cell_type": "markdown",
      "metadata": {
        "id": "ffnU3OpUXXY-",
        "colab_type": "text"
      },
      "source": [
        "Create a word cloud object and generate a word cloud."
      ]
    },
    {
      "cell_type": "code",
      "metadata": {
        "id": "-_OKTNgFXjOt",
        "colab_type": "code",
        "outputId": "b485a087-1a9d-43c2-b630-473efd01f0a3",
        "colab": {
          "base_uri": "https://localhost:8080/",
          "height": 34
        }
      },
      "source": [
        "# Instantiate a WordCloud object\n",
        "top_venues_wc = WordCloud(\n",
        "          background_color='white',\n",
        "          max_words= len(words),\n",
        "          stopwords=stopwords)\n",
        "\n",
        "# Generate the WordCloud\n",
        "top_venues_wc.generate(words)"
      ],
      "execution_count": 109,
      "outputs": [
        {
          "output_type": "execute_result",
          "data": {
            "text/plain": [
              "<wordcloud.wordcloud.WordCloud at 0x7f6f7f348a58>"
            ]
          },
          "metadata": {
            "tags": []
          },
          "execution_count": 109
        }
      ]
    },
    {
      "cell_type": "markdown",
      "metadata": {
        "id": "_hc8cGhnYVOb",
        "colab_type": "text"
      },
      "source": [
        "Awesome! Now that the word cloud is created, let's visualize it."
      ]
    },
    {
      "cell_type": "code",
      "metadata": {
        "id": "Q3FbIBt-aW7L",
        "colab_type": "code",
        "outputId": "7f0d5289-beb8-4c97-90ac-102ef2db83ee",
        "colab": {
          "base_uri": "https://localhost:8080/",
          "height": 533
        }
      },
      "source": [
        "# Generate the WordCloud\n",
        "top_venues_wc.generate(words)\n",
        "\n",
        "# Set the Size\n",
        "plt.figure(figsize=(18, 22))\n",
        "\n",
        "# Display the WC\n",
        "plt.imshow(top_venues_wc, interpolation='bilinear')\n",
        "plt.axis('off')\n",
        "plt.show()"
      ],
      "execution_count": 110,
      "outputs": [
        {
          "output_type": "display_data",
          "data": {
            "image/png": "[encoded data removed]",
            "text/plain": [
              "<Figure size 1296x1584 with 1 Axes>"
            ]
          },
          "metadata": {
            "tags": []
          }
        }
      ]
    },
    {
      "cell_type": "markdown",
      "metadata": {
        "id": "0goTbxFxcrOE",
        "colab_type": "text"
      },
      "source": [
        "Interesting! So the most common or freqent venues in all of Lagos State are:-\n",
        "<br>**Hotel**,\n",
        "<br>**Bar**,\n",
        "<br>**Fast Food**,\n",
        "<br>**Food Restaurant**,\n",
        "<br>**Lounge**,\n",
        "<br>**Restaurant**,\n",
        "<br>**Shop**\n",
        "<br>Others include Pizza Place, Shopping Mall, African restaurant, Chinese Restaurant, Cream Shop, Bus Station, E.t.c."
      ]
    },
    {
      "cell_type": "markdown",
      "metadata": {
        "id": "Cl951UPqefBv",
        "colab_type": "text"
      },
      "source": [
        "### To Recap:"
      ]
    },
    {
      "cell_type": "markdown",
      "metadata": {
        "id": "3mKTloasei4c",
        "colab_type": "text"
      },
      "source": [
        "In this notebook we explored Lagos State using it's [wikipedia page](https://en.wikipedia.org/wiki/List_of_Lagos_State_local_government_areas_by_population). We scraped the page using Beautiful soup and acquired its data using the request library and eventually we converted same from JSON format to a DataFrame using the json_normalize module.<br>\n",
        "Then we explored each LGA of Lagos State, visualizing their maps through the folium module and exploring the categories of venues present in each LGA, in order to find the most ideal LGA or Top LGAs for a Start-up to cite an office in Lagos State.<br>\n",
        "We used the foursquare API to get the details of venues for each location, using the geopy library to convert addresses to latitude and longitude.<br>\n",
        "Then we explored the Lagos Mainland LGA, plotting it's venues on the map, and we explored Lagos state data to get the top 10 venues for each LGA.\n",
        "<br> Then we clustered Lagos state into 5 clusters using the Kmeans algorithm, and finally we displayed the Top venue categories in Lagos state using a word cloud object.\n",
        "<br> Kindly see table below showing the details of the Top 5 LGAs to cite an office in Lagos State from this exercise."
      ]
    },
    {
      "cell_type": "code",
      "metadata": {
        "id": "jt-ajmdeihA6",
        "colab_type": "code",
        "outputId": "0c104094-a50c-4092-ba4c-86cff1d47eeb",
        "colab": {
          "base_uri": "https://localhost:8080/",
          "height": 195
        }
      },
      "source": [
        "top_5_list = ['Lagos Mainland', 'Ikeja', 'Apapa', 'Oshodi-Isolo', 'Surulere']\n",
        "\n",
        "# Slice the Top Five LGAs data from copy_lagos_df DataFrame\n",
        "top_5_lga = copy_lagos_df.reindex(top_5_list).reset_index()\n",
        "\n",
        "# Set index to a list beginning from 1 to 5\n",
        "top_5_lga.index = [1, 2, 3, 4, 5]\n",
        "\n",
        "# Add a column of total venues present\n",
        "total_venues_present = list(top_criteria_df.loc['Total Venues', top_5_list])\n",
        "top_5_lga['total_venues_present'] = total_venues_present\n",
        "\n",
        "# Add a column of total absent categories\n",
        "total_absent_categories = list(pd.Series(lga_dict).reindex(top_5_list))\n",
        "top_5_lga['total_absent_categories'] = total_absent_categories\n",
        "\n",
        "# Display the Top Five LGAs in Lagos State\n",
        "top_5_lga"
      ],
      "execution_count": 111,
      "outputs": [
        {
          "output_type": "execute_result",
          "data": {
            "text/html": [
              "<div>\n",
              "<style scoped>\n",
              "    .dataframe tbody tr th:only-of-type {\n",
              "        vertical-align: middle;\n",
              "    }\n",
              "\n",
              "    .dataframe tbody tr th {\n",
              "        vertical-align: top;\n",
              "    }\n",
              "\n",
              "    .dataframe thead th {\n",
              "        text-align: right;\n",
              "    }\n",
              "</style>\n",
              "<table border=\"1\" class=\"dataframe\">\n",
              "  <thead>\n",
              "    <tr style=\"text-align: right;\">\n",
              "      <th></th>\n",
              "      <th>LGA</th>\n",
              "      <th>POP</th>\n",
              "      <th>latitude</th>\n",
              "      <th>longitude</th>\n",
              "      <th>total_venues_present</th>\n",
              "      <th>total_absent_categories</th>\n",
              "    </tr>\n",
              "  </thead>\n",
              "  <tbody>\n",
              "    <tr>\n",
              "      <th>1</th>\n",
              "      <td>Lagos Mainland</td>\n",
              "      <td>317980</td>\n",
              "      <td>6.49306</td>\n",
              "      <td>3.388250</td>\n",
              "      <td>95</td>\n",
              "      <td>4</td>\n",
              "    </tr>\n",
              "    <tr>\n",
              "      <th>2</th>\n",
              "      <td>Ikeja</td>\n",
              "      <td>313333</td>\n",
              "      <td>6.60486</td>\n",
              "      <td>3.353204</td>\n",
              "      <td>83</td>\n",
              "      <td>4</td>\n",
              "    </tr>\n",
              "    <tr>\n",
              "      <th>3</th>\n",
              "      <td>Apapa</td>\n",
              "      <td>217661</td>\n",
              "      <td>6.44519</td>\n",
              "      <td>3.368373</td>\n",
              "      <td>96</td>\n",
              "      <td>5</td>\n",
              "    </tr>\n",
              "    <tr>\n",
              "      <th>4</th>\n",
              "      <td>Oshodi-Isolo</td>\n",
              "      <td>621789</td>\n",
              "      <td>6.54001</td>\n",
              "      <td>3.312415</td>\n",
              "      <td>92</td>\n",
              "      <td>5</td>\n",
              "    </tr>\n",
              "    <tr>\n",
              "      <th>5</th>\n",
              "      <td>Surulere</td>\n",
              "      <td>504409</td>\n",
              "      <td>6.4872</td>\n",
              "      <td>3.353259</td>\n",
              "      <td>84</td>\n",
              "      <td>5</td>\n",
              "    </tr>\n",
              "  </tbody>\n",
              "</table>\n",
              "</div>"
            ],
            "text/plain": [
              "              LGA     POP  ... total_venues_present  total_absent_categories\n",
              "1  Lagos Mainland  317980  ...                   95                        4\n",
              "2           Ikeja  313333  ...                   83                        4\n",
              "3           Apapa  217661  ...                   96                        5\n",
              "4    Oshodi-Isolo  621789  ...                   92                        5\n",
              "5        Surulere  504409  ...                   84                        5\n",
              "\n",
              "[5 rows x 6 columns]"
            ]
          },
          "metadata": {
            "tags": []
          },
          "execution_count": 111
        }
      ]
    },
    {
      "cell_type": "markdown",
      "metadata": {
        "id": "-RcV2Zl55t5l",
        "colab_type": "text"
      },
      "source": [
        "### A possible shortfall of this exercise.<br>\n",
        "\n",
        "You may have noticed that for some reason no educational institution or religious institution was returned by foursquare API. This is a flaw as Lagos has over 50 institutions of learning spread across the state.<br>\n",
        "Another flaw is on the data for Tech Hubs cited generally around Yaba, which is still under Lagos Mainland LGA.<br>\n",
        "This adds credence to the fact yet again, that Lagos Mainland LGA is perhaps the most ideal location to cite an office in Lagos State.<br>\n",
        "Thank you"
      ]
    },
    {
      "cell_type": "code",
      "metadata": {
        "id": "RTyX6WZJeNro",
        "colab_type": "code",
        "colab": {}
      },
      "source": [
        "# uncomment and run code below to kill the notebook and free up space\n",
        "\n",
        "# import os, signal\n",
        "# os.kill(os.getpid(),signal.SIGKILL)"
      ],
      "execution_count": 0,
      "outputs": []
    }
  ]
}